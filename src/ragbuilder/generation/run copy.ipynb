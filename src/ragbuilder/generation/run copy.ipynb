{
 "cells": [
  {
   "cell_type": "code",
   "execution_count": 15,
   "metadata": {},
   "outputs": [],
   "source": [
    "import yaml\n",
    "from pydantic import BaseModel, Field\n",
    "from typing import Optional, Dict, Any\n",
    "from enum import Enum\n",
    "import importlib\n",
    "\n",
    "# Step 1: Lazy Loading Helper Function\n",
    "def lazy_load(module_name: str, class_name: str):\n",
    "    try:\n",
    "        # Dynamically import the module\n",
    "        module = importlib.import_module(module_name)\n",
    "        # Get the class from the module\n",
    "        return getattr(module, class_name)\n",
    "    except Exception as e:\n",
    "        raise ValueError(f\"Error loading {class_name} from module {module_name}: {e}\")\n",
    "\n",
    "# Step 2: Enum Class for LLM Types\n",
    "class LLM(str, Enum):\n",
    "    OPENAI = \"openai\"\n",
    "    AZURE_OPENAI = \"azure_openai\"\n",
    "    HUGGINGFACE = \"huggingface\"\n",
    "    OLLAMA = \"ollama\"\n",
    "    COHERE = \"cohere\"\n",
    "    VERTEXAI = \"vertexai\"\n",
    "    BEDROCK = \"bedrock\"\n",
    "    JINA = \"jina\"\n",
    "    CUSTOM = \"custom\"\n",
    "\n",
    "# Step 3: Map LLM Types to Lazy-loaded Embedding Classes\n",
    "LLM_MAP = {\n",
    "    LLM.OPENAI: lazy_load(\"langchain_openai\", \"ChatOpenAI\"),\n",
    "    LLM.AZURE_OPENAI: lazy_load(\"langchain_openai\", \"AzureChatOpenAI\"),\n",
    "}\n",
    "\n",
    "# Step 4: Define the LLM Configuration Model\n",
    "class LLMConfig(BaseModel):\n",
    "    model_config = {\"protected_namespaces\": ()}\n",
    "    \n",
    "    type: LLM  # Enum to specify the LLM\n",
    "    model_kwargs: Optional[Dict[str, Any]] = Field(default_factory=dict, description=\"Model-specific parameters like model name/type\")\n",
    "    custom_class: Optional[str] = None  # Optional: If using a custom class\n",
    "\n",
    "# Step 5: Load Configuration from YAML\n",
    "def from_yaml(cls, file_path: str) -> \"GenerationOptionsConfig\":\n",
    "        with open(file_path, \"r\") as yaml_file:\n",
    "            config = yaml.safe_load(yaml_file)\n",
    "        return cls(**config[\"Generation\"])\n",
    "\n",
    "\n"
   ]
  },
  {
   "cell_type": "code",
   "execution_count": 16,
   "metadata": {},
   "outputs": [
    {
     "name": "stdout",
     "output_type": "stream",
     "text": [
      "read yaml\n"
     ]
    },
    {
     "ename": "KeyError",
     "evalue": "'llm'",
     "output_type": "error",
     "traceback": [
      "\u001b[0;31m---------------------------------------------------------------------------\u001b[0m",
      "\u001b[0;31mKeyError\u001b[0m                                  Traceback (most recent call last)",
      "Cell \u001b[0;32mIn[16], line 2\u001b[0m\n\u001b[1;32m      1\u001b[0m \u001b[38;5;66;03m# Step 6: Read the Configuration from YAML\u001b[39;00m\n\u001b[0;32m----> 2\u001b[0m config \u001b[38;5;241m=\u001b[39m \u001b[43mload_config_from_yaml\u001b[49m\u001b[43m(\u001b[49m\u001b[38;5;124;43m\"\u001b[39;49m\u001b[38;5;124;43mconfig.yaml\u001b[39;49m\u001b[38;5;124;43m\"\u001b[39;49m\u001b[43m)\u001b[49m\n\u001b[1;32m      4\u001b[0m \u001b[38;5;66;03m# Step 7: Use the LLM_MAP to Load the Corresponding Model\u001b[39;00m\n\u001b[1;32m      5\u001b[0m llm_class \u001b[38;5;241m=\u001b[39m LLM_MAP[config\u001b[38;5;241m.\u001b[39mtype]\n",
      "Cell \u001b[0;32mIn[15], line 49\u001b[0m, in \u001b[0;36mload_config_from_yaml\u001b[0;34m(file_path)\u001b[0m\n\u001b[1;32m     47\u001b[0m     config_data \u001b[38;5;241m=\u001b[39m yaml\u001b[38;5;241m.\u001b[39msafe_load(file)\n\u001b[1;32m     48\u001b[0m \u001b[38;5;66;03m# Convert to LLMConfig object\u001b[39;00m\n\u001b[0;32m---> 49\u001b[0m \u001b[38;5;28;01mreturn\u001b[39;00m LLMConfig(\u001b[38;5;241m*\u001b[39m\u001b[38;5;241m*\u001b[39m\u001b[43mconfig_data\u001b[49m\u001b[43m[\u001b[49m\u001b[38;5;124;43m\"\u001b[39;49m\u001b[38;5;124;43mllm\u001b[39;49m\u001b[38;5;124;43m\"\u001b[39;49m\u001b[43m]\u001b[49m)\n",
      "\u001b[0;31mKeyError\u001b[0m: 'llm'"
     ]
    }
   ],
   "source": [
    "\n",
    "# Step 6: Read the Configuration from YAML\n",
    "config = load_config_from_yaml(\"config.yaml\")\n",
    "\n",
    "# Step 7: Use the LLM_MAP to Load the Corresponding Model\n",
    "llm_class = LLM_MAP[config.type]\n",
    "\n",
    "# Step 8: Instantiate the Model with the Configured Parameters\n",
    "llm = llm_class(**config.model_kwargs)\n",
    "\n",
    "# Example of using the instantiated model (assuming it has a `.generate()` method)\n",
    "response = llm.invoke(\"What is the capital of France?\")\n",
    "print(response)"
   ]
  },
  {
   "cell_type": "code",
   "execution_count": 14,
   "metadata": {},
   "outputs": [],
   "source": [
    "from typing import List, Union\n",
    "from langchain.pydantic_v1 import Field, BaseModel\n",
    "\n",
    "\n",
    "class BaseConfig(BaseModel):\n",
    "    \"\"\"Base configuration shared across all RAG modules\"\"\"\n",
    "    # input_source: Union[str, List[str]] = Field(..., description=\"File path, directory path, or URL for input data\")\n",
    "    # test_dataset: str = Field(..., description=\"Path to CSV file containing test questions\")\n",
    "    \n",
    "    @classmethod\n",
    "    def from_yaml(cls, file_path: str) -> 'BaseConfig':\n",
    "        \"\"\"Load configuration from a YAML file.\"\"\"\n",
    "        with open(file_path, 'r') as file:\n",
    "            config_dict = yaml.safe_load(file)\n",
    "        return cls(**config_dict)\n",
    "\n",
    "    def to_yaml(self, file_path: str) -> None:\n",
    "        \"\"\"Save configuration to a YAML file.\"\"\"\n",
    "        with open(file_path, 'w') as file:\n",
    "            yaml.dump(self.model_dump(), file)\n",
    "\n",
    "# Step 2: Define Pydantic Model for Individual LLM Configuration\n",
    "class GenerationConfig(BaseConfig):\n",
    "    type: LLM  # Specifies the LLM type\n",
    "    model_kwargs: Optional[Dict[str, Any]] = Field(default_factory=dict, description=\"Model-specific parameters\")\n",
    "\n",
    "# Step 3: Define Pydantic Model for Overall Generation Configuration\n",
    "class GenerationOptionsConfig(BaseConfig):\n",
    "    llms: List[GenerationConfig]  # List of LLM configurations\n",
    "\n",
    "# Step 5: Load YAML File and Parse Configurations\n",
    "class Generator:\n",
    "    def __init__(self, config: GenerationOptionsConfig):\n",
    "        self.llms = []  # List to store instantiated LLMs\n",
    "        for llm_config in config.llms:\n",
    "            llm_class = LLM_MAP[llm_config.type]  # Get the corresponding LLM class\n",
    "config = GenerationOptionsConfig.from_yaml(\"config.yaml\")\n",
    "gen = Generator(config)\n"
   ]
  }
 ],
 "metadata": {
  "kernelspec": {
   "display_name": "Python 3",
   "language": "python",
   "name": "python3"
  },
  "language_info": {
   "codemirror_mode": {
    "name": "ipython",
    "version": 3
   },
   "file_extension": ".py",
   "mimetype": "text/x-python",
   "name": "python",
   "nbconvert_exporter": "python",
   "pygments_lexer": "ipython3",
   "version": "3.12.5"
  }
 },
 "nbformat": 4,
 "nbformat_minor": 2
}
