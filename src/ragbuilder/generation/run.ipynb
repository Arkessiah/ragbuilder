{
 "cells": [
  {
   "cell_type": "code",
   "execution_count": 8,
   "metadata": {},
   "outputs": [],
   "source": [
    "import yaml\n",
    "from pydantic import BaseModel, Field\n",
    "from typing import Optional, Dict, Any\n",
    "from enum import Enum\n",
    "import importlib\n",
    "\n",
    "# Step 1: Lazy Loading Helper Function\n",
    "def lazy_load(module_name: str, class_name: str):\n",
    "    try:\n",
    "        # Dynamically import the module\n",
    "        module = importlib.import_module(module_name)\n",
    "        # Get the class from the module\n",
    "        return getattr(module, class_name)\n",
    "    except Exception as e:\n",
    "        raise ValueError(f\"Error loading {class_name} from module {module_name}: {e}\")\n",
    "\n",
    "# Step 2: Enum Class for LLM Types\n",
    "class LLM(str, Enum):\n",
    "    OPENAI = \"openai\"\n",
    "    AZURE_OPENAI = \"azure_openai\"\n",
    "    HUGGINGFACE = \"huggingface\"\n",
    "    OLLAMA = \"ollama\"\n",
    "    COHERE = \"cohere\"\n",
    "    VERTEXAI = \"vertexai\"\n",
    "    BEDROCK = \"bedrock\"\n",
    "    JINA = \"jina\"\n",
    "    CUSTOM = \"custom\"\n",
    "\n",
    "# Step 3: Map LLM Types to Lazy-loaded Embedding Classes\n",
    "LLM_MAP = {\n",
    "    LLM.OPENAI: lazy_load(\"langchain_openai\", \"ChatOpenAI\"),\n",
    "    LLM.AZURE_OPENAI: lazy_load(\"langchain_openai\", \"AzureChatOpenAI\"),\n",
    "}\n",
    "\n",
    "# Step 4: Define the LLM Configuration Model\n",
    "class LLMConfig(BaseModel):\n",
    "    model_config = {\"protected_namespaces\": ()}\n",
    "    \n",
    "    type: LLM  # Enum to specify the LLM\n",
    "    model_kwargs: Optional[Dict[str, Any]] = Field(default_factory=dict, description=\"Model-specific parameters like model name/type\")\n",
    "    custom_class: Optional[str] = None  # Optional: If using a custom class\n",
    "\n",
    "# Step 5: Load Configuration from YAML\n",
    "def load_config_from_yaml(file_path: str) -> LLMConfig:\n",
    "    print(\"read yaml\")\n",
    "    with open(file_path, \"r\") as file:\n",
    "        config_data = yaml.safe_load(file)\n",
    "    # Convert to LLMConfig object\n",
    "    return LLMConfig(**config_data[\"llm\"])\n",
    "\n"
   ]
  },
  {
   "cell_type": "code",
   "execution_count": 10,
   "metadata": {},
   "outputs": [
    {
     "name": "stdout",
     "output_type": "stream",
     "text": [
      "read yaml\n",
      "content='The capital of France is Paris.' response_metadata={'token_usage': {'completion_tokens': 7, 'prompt_tokens': 14, 'total_tokens': 21, 'completion_tokens_details': None}, 'model_name': 'gpt-4o-mini', 'system_fingerprint': 'fp_04751d0b65', 'prompt_filter_results': [{'prompt_index': 0, 'content_filter_results': {'hate': {'filtered': False, 'severity': 'safe'}, 'jailbreak': {'filtered': False, 'detected': False}, 'self_harm': {'filtered': False, 'severity': 'safe'}, 'sexual': {'filtered': False, 'severity': 'safe'}, 'violence': {'filtered': False, 'severity': 'safe'}}}], 'finish_reason': 'stop', 'logprobs': None, 'content_filter_results': {'hate': {'filtered': False, 'severity': 'safe'}, 'protected_material_code': {'filtered': False, 'detected': False}, 'protected_material_text': {'filtered': False, 'detected': False}, 'self_harm': {'filtered': False, 'severity': 'safe'}, 'sexual': {'filtered': False, 'severity': 'safe'}, 'violence': {'filtered': False, 'severity': 'safe'}}} id='run-4c4bf131-3899-45f6-82fb-399de0ad7da7-0' usage_metadata={'input_tokens': 14, 'output_tokens': 7, 'total_tokens': 21}\n"
     ]
    }
   ],
   "source": [
    "\n",
    "# Step 6: Read the Configuration from YAML\n",
    "config = load_config_from_yaml(\"config.yaml\")\n",
    "\n",
    "# Step 7: Use the LLM_MAP to Load the Corresponding Model\n",
    "llm_class = LLM_MAP[config.type]\n",
    "\n",
    "# Step 8: Instantiate the Model with the Configured Parameters\n",
    "llm = llm_class(**config.model_kwargs)\n",
    "\n",
    "# Example of using the instantiated model (assuming it has a `.generate()` method)\n",
    "response = llm.invoke(\"What is the capital of France?\")\n",
    "print(response)"
   ]
  },
  {
   "cell_type": "code",
   "execution_count": null,
   "metadata": {},
   "outputs": [],
   "source": [
    "#Input Yaml 0 input into optimiztion\n",
    "#Generation Model\n",
    "Create GenratorOptionConfig Pydantic Model \n",
    "Output:best prompt\n",
    "#SingleTon Class/Yaml\n",
    "\n"
   ]
  }
 ],
 "metadata": {
  "kernelspec": {
   "display_name": "Python 3",
   "language": "python",
   "name": "python3"
  },
  "language_info": {
   "codemirror_mode": {
    "name": "ipython",
    "version": 3
   },
   "file_extension": ".py",
   "mimetype": "text/x-python",
   "name": "python",
   "nbconvert_exporter": "python",
   "pygments_lexer": "ipython3",
   "version": "3.12.5"
  }
 },
 "nbformat": 4,
 "nbformat_minor": 2
}
