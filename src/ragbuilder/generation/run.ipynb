{
 "cells": [
  {
   "cell_type": "code",
   "execution_count": 6,
   "metadata": {},
   "outputs": [],
   "source": [
    "import yaml\n",
    "from pydantic import BaseModel, Field\n",
    "from typing import Optional, Dict, Any\n",
    "from enum import Enum\n",
    "import importlib\n",
    "\n",
    "# Step 1: Lazy Loading Helper Function\n",
    "def lazy_load(module_name: str, class_name: str):\n",
    "    try:\n",
    "        # Dynamically import the module\n",
    "        module = importlib.import_module(module_name)\n",
    "        # Get the class from the module\n",
    "        return getattr(module, class_name)\n",
    "    except Exception as e:\n",
    "        raise ValueError(f\"Error loading {class_name} from module {module_name}: {e}\")\n",
    "\n",
    "# Step 2: Enum Class for LLM Types\n",
    "class LLM(str, Enum):\n",
    "    OPENAI = \"openai\"\n",
    "    AZURE_OPENAI = \"azure_openai\"\n",
    "    HUGGINGFACE = \"huggingface\"\n",
    "    OLLAMA = \"ollama\"\n",
    "    COHERE = \"cohere\"\n",
    "    VERTEXAI = \"vertexai\"\n",
    "    BEDROCK = \"bedrock\"\n",
    "    JINA = \"jina\"\n",
    "    CUSTOM = \"custom\"\n",
    "\n",
    "# Step 3: Map LLM Types to Lazy-loaded Embedding Classes\n",
    "LLM_MAP = {\n",
    "    LLM.OPENAI: lazy_load(\"langchain_openai\", \"ChatOpenAI\"),\n",
    "    LLM.AZURE_OPENAI: lazy_load(\"langchain_openai\", \"AzureChatOpenAI\"),\n",
    "}\n",
    "\n",
    "# Step 4: Define the LLM Configuration Model\n",
    "class LLMConfig(BaseModel):\n",
    "    model_config = {\"protected_namespaces\": ()}\n",
    "    \n",
    "    type: LLM  # Enum to specify the LLM\n",
    "    model_kwargs: Optional[Dict[str, Any]] = Field(default_factory=dict, description=\"Model-specific parameters like model name/type\")\n",
    "    custom_class: Optional[str] = None  # Optional: If using a custom class\n",
    "\n",
    "# Step 5: Load Configuration from YAML\n",
    "def load_config_from_yaml(file_path: str) -> LLMConfig:\n",
    "    print(\"read yaml\")\n",
    "    with open(file_path, \"r\") as file:\n",
    "        config_data = yaml.safe_load(file)\n",
    "    # Convert to LLMConfig object\n",
    "    return LLMConfig(**config_data[\"llm\"])\n",
    "\n"
   ]
  },
  {
   "cell_type": "code",
   "execution_count": 7,
   "metadata": {},
   "outputs": [
    {
     "name": "stdout",
     "output_type": "stream",
     "text": [
      "read yaml\n",
      "content='The capital of France is Paris.' response_metadata={'token_usage': {'completion_tokens': 7, 'prompt_tokens': 14, 'total_tokens': 21, 'completion_tokens_details': None}, 'model_name': 'gpt-4o-mini', 'system_fingerprint': 'fp_04751d0b65', 'prompt_filter_results': [{'prompt_index': 0, 'content_filter_results': {'hate': {'filtered': False, 'severity': 'safe'}, 'jailbreak': {'filtered': False, 'detected': False}, 'self_harm': {'filtered': False, 'severity': 'safe'}, 'sexual': {'filtered': False, 'severity': 'safe'}, 'violence': {'filtered': False, 'severity': 'safe'}}}], 'finish_reason': 'stop', 'logprobs': None, 'content_filter_results': {'hate': {'filtered': False, 'severity': 'safe'}, 'protected_material_code': {'filtered': False, 'detected': False}, 'protected_material_text': {'filtered': False, 'detected': False}, 'self_harm': {'filtered': False, 'severity': 'safe'}, 'sexual': {'filtered': False, 'severity': 'safe'}, 'violence': {'filtered': False, 'severity': 'safe'}}} id='run-d8ba0709-a2c1-451f-aaa3-c1629633e284-0' usage_metadata={'input_tokens': 14, 'output_tokens': 7, 'total_tokens': 21}\n"
     ]
    }
   ],
   "source": [
    "\n",
    "# Step 6: Read the Configuration from YAML\n",
    "config = load_config_from_yaml(\"config.yaml\")\n",
    "\n",
    "# Step 7: Use the LLM_MAP to Load the Corresponding Model\n",
    "llm_class = LLM_MAP[config.type]\n",
    "\n",
    "# Step 8: Instantiate the Model with the Configured Parameters\n",
    "llm = llm_class(**config.model_kwargs)\n",
    "\n",
    "# Example of using the instantiated model (assuming it has a `.generate()` method)\n",
    "response = llm.invoke(\"What is the capital of France?\")\n",
    "print(response)"
   ]
  },
  {
   "cell_type": "code",
   "execution_count": 9,
   "metadata": {},
   "outputs": [
    {
     "ename": "ValidationError",
     "evalue": "3 validation errors for GenerationOptionsConfig\ninput_source\n  field required (type=value_error.missing)\ntest_dataset\n  field required (type=value_error.missing)\nllms\n  field required (type=value_error.missing)",
     "output_type": "error",
     "traceback": [
      "\u001b[0;31m---------------------------------------------------------------------------\u001b[0m",
      "\u001b[0;31mValidationError\u001b[0m                           Traceback (most recent call last)",
      "Cell \u001b[0;32mIn[9], line 37\u001b[0m\n\u001b[1;32m     35\u001b[0m         \u001b[38;5;28;01mfor\u001b[39;00m llm_config \u001b[38;5;129;01min\u001b[39;00m config\u001b[38;5;241m.\u001b[39mllms:\n\u001b[1;32m     36\u001b[0m             llm_class \u001b[38;5;241m=\u001b[39m LLM_MAP[llm_config\u001b[38;5;241m.\u001b[39mtype]  \u001b[38;5;66;03m# Get the corresponding LLM class\u001b[39;00m\n\u001b[0;32m---> 37\u001b[0m config \u001b[38;5;241m=\u001b[39m \u001b[43mGenerationOptionsConfig\u001b[49m\u001b[38;5;241;43m.\u001b[39;49m\u001b[43mfrom_yaml\u001b[49m\u001b[43m(\u001b[49m\u001b[38;5;124;43m\"\u001b[39;49m\u001b[38;5;124;43mconfig.yaml\u001b[39;49m\u001b[38;5;124;43m\"\u001b[39;49m\u001b[43m)\u001b[49m\n\u001b[1;32m     38\u001b[0m gen \u001b[38;5;241m=\u001b[39m Generator(config)\n",
      "Cell \u001b[0;32mIn[9], line 15\u001b[0m, in \u001b[0;36mBaseConfig.from_yaml\u001b[0;34m(cls, file_path)\u001b[0m\n\u001b[1;32m     13\u001b[0m \u001b[38;5;28;01mwith\u001b[39;00m \u001b[38;5;28mopen\u001b[39m(file_path, \u001b[38;5;124m'\u001b[39m\u001b[38;5;124mr\u001b[39m\u001b[38;5;124m'\u001b[39m) \u001b[38;5;28;01mas\u001b[39;00m file:\n\u001b[1;32m     14\u001b[0m     config_dict \u001b[38;5;241m=\u001b[39m yaml\u001b[38;5;241m.\u001b[39msafe_load(file)\n\u001b[0;32m---> 15\u001b[0m \u001b[38;5;28;01mreturn\u001b[39;00m \u001b[38;5;28;43mcls\u001b[39;49m\u001b[43m(\u001b[49m\u001b[38;5;241;43m*\u001b[39;49m\u001b[38;5;241;43m*\u001b[39;49m\u001b[43mconfig_dict\u001b[49m\u001b[43m)\u001b[49m\n",
      "File \u001b[0;32m~/.pyenv/versions/3.12.5/lib/python3.12/site-packages/pydantic/v1/main.py:341\u001b[0m, in \u001b[0;36mBaseModel.__init__\u001b[0;34m(__pydantic_self__, **data)\u001b[0m\n\u001b[1;32m    339\u001b[0m values, fields_set, validation_error \u001b[38;5;241m=\u001b[39m validate_model(__pydantic_self__\u001b[38;5;241m.\u001b[39m\u001b[38;5;18m__class__\u001b[39m, data)\n\u001b[1;32m    340\u001b[0m \u001b[38;5;28;01mif\u001b[39;00m validation_error:\n\u001b[0;32m--> 341\u001b[0m     \u001b[38;5;28;01mraise\u001b[39;00m validation_error\n\u001b[1;32m    342\u001b[0m \u001b[38;5;28;01mtry\u001b[39;00m:\n\u001b[1;32m    343\u001b[0m     object_setattr(__pydantic_self__, \u001b[38;5;124m'\u001b[39m\u001b[38;5;124m__dict__\u001b[39m\u001b[38;5;124m'\u001b[39m, values)\n",
      "\u001b[0;31mValidationError\u001b[0m: 3 validation errors for GenerationOptionsConfig\ninput_source\n  field required (type=value_error.missing)\ntest_dataset\n  field required (type=value_error.missing)\nllms\n  field required (type=value_error.missing)"
     ]
    }
   ],
   "source": [
    "from typing import List, Union\n",
    "from langchain.pydantic_v1 import Field, BaseModel\n",
    "\n",
    "\n",
    "class BaseConfig(BaseModel):\n",
    "    \"\"\"Base configuration shared across all RAG modules\"\"\"\n",
    "    # input_source: Union[str, List[str]] = Field(..., description=\"File path, directory path, or URL for input data\")\n",
    "    # test_dataset: str = Field(..., description=\"Path to CSV file containing test questions\")\n",
    "    \n",
    "    @classmethod\n",
    "    def from_yaml(cls, file_path: str) -> 'BaseConfig':\n",
    "        \"\"\"Load configuration from a YAML file.\"\"\"\n",
    "        with open(file_path, 'r') as file:\n",
    "            config_dict = yaml.safe_load(file)\n",
    "        return cls(**config_dict)\n",
    "\n",
    "    def to_yaml(self, file_path: str) -> None:\n",
    "        \"\"\"Save configuration to a YAML file.\"\"\"\n",
    "        with open(file_path, 'w') as file:\n",
    "            yaml.dump(self.model_dump(), file)\n",
    "\n",
    "# Step 2: Define Pydantic Model for Individual LLM Configuration\n",
    "class GenerationConfig(BaseConfig):\n",
    "    type: LLM  # Specifies the LLM type\n",
    "    model_kwargs: Optional[Dict[str, Any]] = Field(default_factory=dict, description=\"Model-specific parameters\")\n",
    "\n",
    "# Step 3: Define Pydantic Model for Overall Generation Configuration\n",
    "class GenerationOptionsConfig(BaseConfig):\n",
    "    llms: List[GenerationConfig]  # List of LLM configurations\n",
    "\n",
    "# Step 5: Load YAML File and Parse Configurations\n",
    "class Generator:\n",
    "    def __init__(self, config: GenerationOptionsConfig):\n",
    "        self.llms = []  # List to store instantiated LLMs\n",
    "        for llm_config in config.llms:\n",
    "            llm_class = LLM_MAP[llm_config.type]  # Get the corresponding LLM class\n",
    "config = GenerationOptionsConfig.from_yaml(\"config.yaml\")\n",
    "gen = Generator(config)\n"
   ]
  }
 ],
 "metadata": {
  "kernelspec": {
   "display_name": "Python 3",
   "language": "python",
   "name": "python3"
  },
  "language_info": {
   "codemirror_mode": {
    "name": "ipython",
    "version": 3
   },
   "file_extension": ".py",
   "mimetype": "text/x-python",
   "name": "python",
   "nbconvert_exporter": "python",
   "pygments_lexer": "ipython3",
   "version": "3.12.5"
  }
 },
 "nbformat": 4,
 "nbformat_minor": 2
}
