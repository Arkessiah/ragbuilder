{
 "cells": [
  {
   "cell_type": "code",
   "execution_count": 1,
   "metadata": {},
   "outputs": [
    {
     "name": "stderr",
     "output_type": "stream",
     "text": [
      "/Users/ashwinaravind/.pyenv/versions/3.12.5/lib/python3.12/site-packages/pydantic/_internal/_fields.py:161: UserWarning: Field \"model_kwargs\" has conflict with protected namespace \"model_\".\n",
      "\n",
      "You may be able to resolve this warning by setting `model_config['protected_namespaces'] = ()`.\n",
      "  warnings.warn(\n",
      "USER_AGENT environment variable not set, consider setting it to identify your requests.\n"
     ]
    },
    {
     "name": "stdout",
     "output_type": "stream",
     "text": [
      "starting\n",
      "config llms=[GenerationConfig(type=<LLM.AZURE_OPENAI: 'azure_openai'>, model_kwargs={'model_name': 'gpt-40-mini', 'temperature': 0.7}, prompt_template=None, eval_data_set_path=None, local_prompt_template_path=None, read_local_only=False)] prompt_template_path=None eval_data_set_path='/Users/ashwinaravind/Desktop/kruxgitrepo/ragbuilder/gensimtest.csv' local_prompt_template_path='/Users/ashwinaravind/Desktop/kruxgitrepo/ragbuilder/src/ragbuilder/generation/prompts.yaml' read_local_only=False\n",
      "printing config llms=[GenerationConfig(type=<LLM.AZURE_OPENAI: 'azure_openai'>, model_kwargs={'model_name': 'gpt-40-mini', 'temperature': 0.7}, prompt_template=None, eval_data_set_path=None, local_prompt_template_path=None, read_local_only=False)] prompt_template_path=None eval_data_set_path='/Users/ashwinaravind/Desktop/kruxgitrepo/ragbuilder/gensimtest.csv' local_prompt_template_path='/Users/ashwinaravind/Desktop/kruxgitrepo/ragbuilder/src/ragbuilder/generation/prompts.yaml' read_local_only=False\n",
      "printing config llms=[GenerationConfig(type=<LLM.AZURE_OPENAI: 'azure_openai'>, model_kwargs={'model_name': 'gpt-40-mini', 'temperature': 0.7}, prompt_template=None, eval_data_set_path=None, local_prompt_template_path=None, read_local_only=False)] prompt_template_path=None eval_data_set_path='/Users/ashwinaravind/Desktop/kruxgitrepo/ragbuilder/gensimtest.csv' local_prompt_template_path='/Users/ashwinaravind/Desktop/kruxgitrepo/ragbuilder/src/ragbuilder/generation/prompts.yaml' read_local_only=False\n",
      "Loading prompts from local file: /Users/ashwinaravind/Desktop/kruxgitrepo/ragbuilder/src/ragbuilder/generation/prompts.yaml\n",
      "prompt_templates from init [<ragbuilder.generation.prompt_templates.PromptTemplate object at 0x17e0fa270>]\n"
     ]
    },
    {
     "ename": "TypeError",
     "evalue": "lazy_load.<locals>.get_class() got an unexpected keyword argument 'model_name'",
     "output_type": "error",
     "traceback": [
      "\u001b[0;31m---------------------------------------------------------------------------\u001b[0m",
      "\u001b[0;31mTypeError\u001b[0m                                 Traceback (most recent call last)",
      "Cell \u001b[0;32mIn[1], line 8\u001b[0m\n\u001b[1;32m      6\u001b[0m \u001b[38;5;28mprint\u001b[39m(\u001b[38;5;124m\"\u001b[39m\u001b[38;5;124mstarting\u001b[39m\u001b[38;5;124m\"\u001b[39m)\n\u001b[1;32m      7\u001b[0m gen\u001b[38;5;241m=\u001b[39mSystemPromptGenerator(GenerationOptionsConfig\u001b[38;5;241m.\u001b[39mfrom_yaml(\u001b[38;5;124m\"\u001b[39m\u001b[38;5;124m/Users/ashwinaravind/Desktop/kruxgitrepo/ragbuilder/src/ragbuilder/generation/config.yaml\u001b[39m\u001b[38;5;124m\"\u001b[39m),RAGASEvaluator)\n\u001b[0;32m----> 8\u001b[0m prompt_key, prompt, max_average_correctness, config\u001b[38;5;241m=\u001b[39m\u001b[43mgen\u001b[49m\u001b[38;5;241;43m.\u001b[39;49m\u001b[43moptimize\u001b[49m\u001b[43m(\u001b[49m\u001b[43m)\u001b[49m\n\u001b[1;32m      9\u001b[0m best_config_py_model\u001b[38;5;241m=\u001b[39mGenerationConfig(\u001b[38;5;241m*\u001b[39m\u001b[38;5;241m*\u001b[39mconfig)\n\u001b[1;32m     10\u001b[0m best_gen\u001b[38;5;241m=\u001b[39mgen\u001b[38;5;241m.\u001b[39m_create_pipeline(best_config_py_model,sample_retriever())\n",
      "File \u001b[0;32m~/Desktop/kruxgitrepo/ragbuilder/src/ragbuilder/generation/generator.py:119\u001b[0m, in \u001b[0;36mSystemPromptGenerator.optimize\u001b[0;34m(self)\u001b[0m\n\u001b[1;32m    118\u001b[0m \u001b[38;5;28;01mdef\u001b[39;00m \u001b[38;5;21moptimize\u001b[39m(\u001b[38;5;28mself\u001b[39m):\n\u001b[0;32m--> 119\u001b[0m     trial_configs \u001b[38;5;241m=\u001b[39m \u001b[38;5;28;43mself\u001b[39;49m\u001b[38;5;241;43m.\u001b[39;49m\u001b[43m_build_trial_config\u001b[49m\u001b[43m(\u001b[49m\u001b[43m)\u001b[49m\n\u001b[1;32m    120\u001b[0m     \u001b[38;5;28mprint\u001b[39m(\u001b[38;5;124m\"\u001b[39m\u001b[38;5;124mtrial_configs\u001b[39m\u001b[38;5;124m\"\u001b[39m,trial_configs)\n\u001b[1;32m    121\u001b[0m     pipeline\u001b[38;5;241m=\u001b[39m\u001b[38;5;28;01mNone\u001b[39;00m\n",
      "File \u001b[0;32m~/Desktop/kruxgitrepo/ragbuilder/src/ragbuilder/generation/generator.py:48\u001b[0m, in \u001b[0;36mSystemPromptGenerator._build_trial_config\u001b[0;34m(self)\u001b[0m\n\u001b[1;32m     46\u001b[0m llm_class \u001b[38;5;241m=\u001b[39m LLM_MAP[llm_config\u001b[38;5;241m.\u001b[39mtype]\n\u001b[1;32m     47\u001b[0m \u001b[38;5;66;03m# Step 8: Instantiate the Model with the Configured Parameters\u001b[39;00m\n\u001b[0;32m---> 48\u001b[0m llm \u001b[38;5;241m=\u001b[39m \u001b[43mllm_class\u001b[49m\u001b[43m(\u001b[49m\u001b[38;5;241;43m*\u001b[39;49m\u001b[38;5;241;43m*\u001b[39;49m\u001b[43mllm_config\u001b[49m\u001b[38;5;241;43m.\u001b[39;49m\u001b[43mmodel_kwargs\u001b[49m\u001b[43m)\u001b[49m\n\u001b[1;32m     49\u001b[0m \u001b[38;5;66;03m# print(llm_config.type,llm_config.model_kwargs,llm.invoke(\"what is the capital of France?\"))\u001b[39;00m\n\u001b[1;32m     50\u001b[0m \u001b[38;5;66;03m# print(self.prompt_templates)\u001b[39;00m\n\u001b[1;32m     51\u001b[0m \u001b[38;5;28mprint\u001b[39m(\u001b[38;5;124m\"\u001b[39m\u001b[38;5;124mprompt_templates\u001b[39m\u001b[38;5;124m\"\u001b[39m,\u001b[38;5;28mself\u001b[39m\u001b[38;5;241m.\u001b[39mprompt_templates)\n",
      "\u001b[0;31mTypeError\u001b[0m: lazy_load.<locals>.get_class() got an unexpected keyword argument 'model_name'"
     ]
    }
   ],
   "source": [
    "#how to use\n",
    "from ragbuilder.generation.generator import GenerationConfig, GenerationOptionsConfig\n",
    "from ragbuilder.generation.generator import SystemPromptGenerator\n",
    "from ragbuilder.generation.sample_retriever import sample_retriever\n",
    "from ragbuilder.generation.evaluation import RAGASEvaluator\n",
    "print(\"starting\")\n",
    "gen=SystemPromptGenerator(GenerationOptionsConfig.from_yaml(\"/Users/ashwinaravind/Desktop/kruxgitrepo/ragbuilder/src/ragbuilder/generation/config.yaml\"),RAGASEvaluator)\n",
    "prompt_key, prompt, max_average_correctness, config=gen.optimize()\n",
    "best_config_py_model=GenerationConfig(**config)\n",
    "best_gen=gen._create_pipeline(best_config_py_model,sample_retriever())\n",
    "best_gen.invoke(\"Who is Clara?\")"
   ]
  },
  {
   "cell_type": "code",
   "execution_count": 1,
   "metadata": {},
   "outputs": [
    {
     "name": "stderr",
     "output_type": "stream",
     "text": [
      "/Users/ashwinaravind/.pyenv/versions/3.12.5/lib/python3.12/site-packages/pydantic/_internal/_fields.py:161: UserWarning: Field \"model_kwargs\" has conflict with protected namespace \"model_\".\n",
      "\n",
      "You may be able to resolve this warning by setting `model_config['protected_namespaces'] = ()`.\n",
      "  warnings.warn(\n",
      "USER_AGENT environment variable not set, consider setting it to identify your requests.\n"
     ]
    },
    {
     "data": {
      "text/html": [
       "<pre style=\"white-space:pre;overflow-x:auto;line-height:normal;font-family:Menlo,'DejaVu Sans Mono',consolas,'Courier New',monospace\"><span style=\"color: #7fbfbf; text-decoration-color: #7fbfbf\">[11:03:40] </span><span style=\"color: #000080; text-decoration-color: #000080\">INFO    </span> Starting data ingestion optimization                                             <a href=\"file:///Users/ashwinaravind/Desktop/kruxgitrepo/ragbuilder/src/ragbuilder/core/builder.py\" target=\"_blank\"><span style=\"color: #7f7f7f; text-decoration-color: #7f7f7f\">builder.py</span></a><span style=\"color: #7f7f7f; text-decoration-color: #7f7f7f\">:</span><a href=\"file:///Users/ashwinaravind/Desktop/kruxgitrepo/ragbuilder/src/ragbuilder/core/builder.py#116\" target=\"_blank\"><span style=\"color: #7f7f7f; text-decoration-color: #7f7f7f\">116</span></a>\n",
       "</pre>\n"
      ],
      "text/plain": [
       "\u001b[2;36m[11:03:40]\u001b[0m\u001b[2;36m \u001b[0m\u001b[34mINFO    \u001b[0m Starting data ingestion optimization                                             \u001b]8;id=661332;file:///Users/ashwinaravind/Desktop/kruxgitrepo/ragbuilder/src/ragbuilder/core/builder.py\u001b\\\u001b[2mbuilder.py\u001b[0m\u001b]8;;\u001b\\\u001b[2m:\u001b[0m\u001b]8;id=377851;file:///Users/ashwinaravind/Desktop/kruxgitrepo/ragbuilder/src/ragbuilder/core/builder.py#116\u001b\\\u001b[2m116\u001b[0m\u001b]8;;\u001b\\\n"
      ]
     },
     "metadata": {},
     "output_type": "display_data"
    },
    {
     "data": {
      "text/html": [
       "<pre style=\"white-space:pre;overflow-x:auto;line-height:normal;font-family:Menlo,'DejaVu Sans Mono',consolas,'Courier New',monospace\"><span style=\"color: #7fbfbf; text-decoration-color: #7fbfbf\">           </span><span style=\"color: #000080; text-decoration-color: #000080\">INFO    </span> Loaded environment variables from .env                                              <a href=\"file:///Users/ashwinaravind/Desktop/kruxgitrepo/ragbuilder/src/ragbuilder/core/utils.py\" target=\"_blank\"><span style=\"color: #7f7f7f; text-decoration-color: #7f7f7f\">utils.py</span></a><span style=\"color: #7f7f7f; text-decoration-color: #7f7f7f\">:</span><a href=\"file:///Users/ashwinaravind/Desktop/kruxgitrepo/ragbuilder/src/ragbuilder/core/utils.py#64\" target=\"_blank\"><span style=\"color: #7f7f7f; text-decoration-color: #7f7f7f\">64</span></a>\n",
       "</pre>\n"
      ],
      "text/plain": [
       "\u001b[2;36m          \u001b[0m\u001b[2;36m \u001b[0m\u001b[34mINFO    \u001b[0m Loaded environment variables from .env                                              \u001b]8;id=510751;file:///Users/ashwinaravind/Desktop/kruxgitrepo/ragbuilder/src/ragbuilder/core/utils.py\u001b\\\u001b[2mutils.py\u001b[0m\u001b]8;;\u001b\\\u001b[2m:\u001b[0m\u001b]8;id=194973;file:///Users/ashwinaravind/Desktop/kruxgitrepo/ragbuilder/src/ragbuilder/core/utils.py#64\u001b\\\u001b[2m64\u001b[0m\u001b]8;;\u001b\\\n"
      ]
     },
     "metadata": {},
     "output_type": "display_data"
    },
    {
     "data": {
      "text/html": [
       "<pre style=\"white-space:pre;overflow-x:auto;line-height:normal;font-family:Menlo,'DejaVu Sans Mono',consolas,'Courier New',monospace\"><span style=\"color: #7fbfbf; text-decoration-color: #7fbfbf\">           </span><span style=\"color: #800000; text-decoration-color: #800000; font-weight: bold\">ERROR   </span> Failed to create run entry: table run_details has no column named module_type  <a href=\"file:///Users/ashwinaravind/Desktop/kruxgitrepo/ragbuilder/src/ragbuilder/core/callbacks.py\" target=\"_blank\"><span style=\"color: #7f7f7f; text-decoration-color: #7f7f7f\">callbacks.py</span></a><span style=\"color: #7f7f7f; text-decoration-color: #7f7f7f\">:</span><a href=\"file:///Users/ashwinaravind/Desktop/kruxgitrepo/ragbuilder/src/ragbuilder/core/callbacks.py#167\" target=\"_blank\"><span style=\"color: #7f7f7f; text-decoration-color: #7f7f7f\">167</span></a>\n",
       "</pre>\n"
      ],
      "text/plain": [
       "\u001b[2;36m          \u001b[0m\u001b[2;36m \u001b[0m\u001b[1;31mERROR   \u001b[0m Failed to create run entry: table run_details has no column named module_type  \u001b]8;id=76178;file:///Users/ashwinaravind/Desktop/kruxgitrepo/ragbuilder/src/ragbuilder/core/callbacks.py\u001b\\\u001b[2mcallbacks.py\u001b[0m\u001b]8;;\u001b\\\u001b[2m:\u001b[0m\u001b]8;id=881345;file:///Users/ashwinaravind/Desktop/kruxgitrepo/ragbuilder/src/ragbuilder/core/callbacks.py#167\u001b\\\u001b[2m167\u001b[0m\u001b]8;;\u001b\\\n"
      ]
     },
     "metadata": {},
     "output_type": "display_data"
    },
    {
     "data": {
      "text/html": [
       "<pre style=\"white-space:pre;overflow-x:auto;line-height:normal;font-family:Menlo,'DejaVu Sans Mono',consolas,'Courier New',monospace\"><span style=\"color: #7fbfbf; text-decoration-color: #7fbfbf\">           </span><span style=\"color: #808000; text-decoration-color: #808000\">WARNING </span> Failed to initialize database logging: table run_details has no column named    <a href=\"file:///Users/ashwinaravind/Desktop/kruxgitrepo/ragbuilder/src/ragbuilder/core/callbacks.py\" target=\"_blank\"><span style=\"color: #7f7f7f; text-decoration-color: #7f7f7f\">callbacks.py</span></a><span style=\"color: #7f7f7f; text-decoration-color: #7f7f7f\">:</span><a href=\"file:///Users/ashwinaravind/Desktop/kruxgitrepo/ragbuilder/src/ragbuilder/core/callbacks.py#42\" target=\"_blank\"><span style=\"color: #7f7f7f; text-decoration-color: #7f7f7f\">42</span></a>\n",
       "<span style=\"color: #7fbfbf; text-decoration-color: #7fbfbf\">           </span>         module_type                                                                     <span style=\"color: #7f7f7f; text-decoration-color: #7f7f7f\">               </span>\n",
       "</pre>\n"
      ],
      "text/plain": [
       "\u001b[2;36m          \u001b[0m\u001b[2;36m \u001b[0m\u001b[33mWARNING \u001b[0m Failed to initialize database logging: table run_details has no column named    \u001b]8;id=894799;file:///Users/ashwinaravind/Desktop/kruxgitrepo/ragbuilder/src/ragbuilder/core/callbacks.py\u001b\\\u001b[2mcallbacks.py\u001b[0m\u001b]8;;\u001b\\\u001b[2m:\u001b[0m\u001b]8;id=170545;file:///Users/ashwinaravind/Desktop/kruxgitrepo/ragbuilder/src/ragbuilder/core/callbacks.py#42\u001b\\\u001b[2m42\u001b[0m\u001b]8;;\u001b\\\n",
       "\u001b[2;36m           \u001b[0m         module_type                                                                     \u001b[2m               \u001b[0m\n"
      ]
     },
     "metadata": {},
     "output_type": "display_data"
    },
    {
     "data": {
      "text/html": [
       "<pre style=\"white-space:pre;overflow-x:auto;line-height:normal;font-family:Menlo,'DejaVu Sans Mono',consolas,'Courier New',monospace\"><span style=\"color: #7fbfbf; text-decoration-color: #7fbfbf\">           </span><span style=\"color: #000080; text-decoration-color: #000080\">INFO    </span> Database logging enabled                                                     <a href=\"file:///Users/ashwinaravind/Desktop/kruxgitrepo/ragbuilder/src/ragbuilder/data_ingest/optimization.py\" target=\"_blank\"><span style=\"color: #7f7f7f; text-decoration-color: #7f7f7f\">optimization.py</span></a><span style=\"color: #7f7f7f; text-decoration-color: #7f7f7f\">:</span><a href=\"file:///Users/ashwinaravind/Desktop/kruxgitrepo/ragbuilder/src/ragbuilder/data_ingest/optimization.py#37\" target=\"_blank\"><span style=\"color: #7f7f7f; text-decoration-color: #7f7f7f\">37</span></a>\n",
       "</pre>\n"
      ],
      "text/plain": [
       "\u001b[2;36m          \u001b[0m\u001b[2;36m \u001b[0m\u001b[34mINFO    \u001b[0m Database logging enabled                                                     \u001b]8;id=885244;file:///Users/ashwinaravind/Desktop/kruxgitrepo/ragbuilder/src/ragbuilder/data_ingest/optimization.py\u001b\\\u001b[2moptimization.py\u001b[0m\u001b]8;;\u001b\\\u001b[2m:\u001b[0m\u001b]8;id=797809;file:///Users/ashwinaravind/Desktop/kruxgitrepo/ragbuilder/src/ragbuilder/data_ingest/optimization.py#37\u001b\\\u001b[2m37\u001b[0m\u001b]8;;\u001b\\\n"
      ]
     },
     "metadata": {},
     "output_type": "display_data"
    },
    {
     "data": {
      "text/html": [
       "<pre style=\"white-space:pre;overflow-x:auto;line-height:normal;font-family:Menlo,'DejaVu Sans Mono',consolas,'Courier New',monospace\"><span style=\"color: #00ff00; text-decoration-color: #00ff00\">────────────────────────────────────────── </span><span style=\"color: #005fff; text-decoration-color: #005fff; font-weight: bold\">Starting Optimization Process</span><span style=\"color: #00ff00; text-decoration-color: #00ff00\"> ──────────────────────────────────────────</span>\n",
       "</pre>\n"
      ],
      "text/plain": [
       "\u001b[92m────────────────────────────────────────── \u001b[0m\u001b[1;38;5;27mStarting Optimization Process\u001b[0m\u001b[92m ──────────────────────────────────────────\u001b[0m\n"
      ]
     },
     "metadata": {},
     "output_type": "display_data"
    },
    {
     "name": "stderr",
     "output_type": "stream",
     "text": [
      "[I 2024-12-14 11:03:40,426] A new study created in memory with name: data_ingest_1734154418378\n"
     ]
    },
    {
     "data": {
      "application/vnd.jupyter.widget-view+json": {
       "model_id": "16f1b35c19a94599a183b4dd5dc6ad54",
       "version_major": 2,
       "version_minor": 0
      },
      "text/plain": [
       "  0%|          | 0/1 [00:00<?, ?it/s]"
      ]
     },
     "metadata": {},
     "output_type": "display_data"
    },
    {
     "data": {
      "text/html": [
       "<pre style=\"white-space:pre;overflow-x:auto;line-height:normal;font-family:Menlo,'DejaVu Sans Mono',consolas,'Courier New',monospace\"><span style=\"color: #005fff; text-decoration-color: #005fff; font-weight: bold\">Trial </span><span style=\"color: #005fff; text-decoration-color: #005fff; font-weight: bold\">0</span><span style=\"color: #005fff; text-decoration-color: #005fff; font-weight: bold\">/</span><span style=\"color: #005fff; text-decoration-color: #005fff; font-weight: bold\">0</span>\n",
       "</pre>\n"
      ],
      "text/plain": [
       "\u001b[1;38;5;27mTrial \u001b[0m\u001b[1;38;5;27m0\u001b[0m\u001b[1;38;5;27m/\u001b[0m\u001b[1;38;5;27m0\u001b[0m\n"
      ]
     },
     "metadata": {},
     "output_type": "display_data"
    },
    {
     "data": {
      "text/html": [
       "<pre style=\"white-space:pre;overflow-x:auto;line-height:normal;font-family:Menlo,'DejaVu Sans Mono',consolas,'Courier New',monospace\"><span style=\"color: #7fbfbf; text-decoration-color: #7fbfbf\">           </span><span style=\"color: #000080; text-decoration-color: #000080\">INFO    </span> Trial parameters: <span style=\"font-weight: bold\">{</span><span style=\"color: #008000; text-decoration-color: #008000\">'input_source'</span>:                                           <a href=\"file:///Users/ashwinaravind/Desktop/kruxgitrepo/ragbuilder/src/ragbuilder/data_ingest/optimization.py\" target=\"_blank\"><span style=\"color: #7f7f7f; text-decoration-color: #7f7f7f\">optimization.py</span></a><span style=\"color: #7f7f7f; text-decoration-color: #7f7f7f\">:</span><a href=\"file:///Users/ashwinaravind/Desktop/kruxgitrepo/ragbuilder/src/ragbuilder/data_ingest/optimization.py#89\" target=\"_blank\"><span style=\"color: #7f7f7f; text-decoration-color: #7f7f7f\">89</span></a>\n",
       "<span style=\"color: #7fbfbf; text-decoration-color: #7fbfbf\">           </span>         <span style=\"color: #008000; text-decoration-color: #008000\">'https://github.com/ashwinaravind/ashwinaravind.github.io/blob/main/thevanis</span> <span style=\"color: #7f7f7f; text-decoration-color: #7f7f7f\">                  </span>\n",
       "<span style=\"color: #7fbfbf; text-decoration-color: #7fbfbf\">           </span>         <span style=\"color: #008000; text-decoration-color: #008000\">hingtown'</span>, <span style=\"color: #008000; text-decoration-color: #008000\">'document_loader'</span>: <span style=\"color: #800080; text-decoration-color: #800080; font-weight: bold\">LoaderConfig</span><span style=\"font-weight: bold\">(</span><span style=\"color: #808000; text-decoration-color: #808000\">type</span>=<span style=\"font-weight: bold\">&lt;</span><span style=\"color: #ff00ff; text-decoration-color: #ff00ff; font-weight: bold\">ParserType.UNSTRUCTURED:</span><span style=\"color: #000000; text-decoration-color: #000000\"> </span>   <span style=\"color: #7f7f7f; text-decoration-color: #7f7f7f\">                  </span>\n",
       "<span style=\"color: #7fbfbf; text-decoration-color: #7fbfbf\">           </span>         <span style=\"color: #008000; text-decoration-color: #008000\">'unstructured'</span><span style=\"color: #000000; text-decoration-color: #000000\">&gt;, </span><span style=\"color: #808000; text-decoration-color: #808000\">loader_kwargs</span><span style=\"color: #000000; text-decoration-color: #000000\">=</span><span style=\"color: #800080; text-decoration-color: #800080; font-style: italic\">None</span><span style=\"color: #000000; text-decoration-color: #000000\">, </span><span style=\"color: #808000; text-decoration-color: #808000\">custom_class</span><span style=\"color: #000000; text-decoration-color: #000000\">=</span><span style=\"color: #800080; text-decoration-color: #800080; font-style: italic\">None</span><span style=\"color: #000000; text-decoration-color: #000000; font-weight: bold\">)</span><span style=\"color: #000000; text-decoration-color: #000000\">, </span>                    <span style=\"color: #7f7f7f; text-decoration-color: #7f7f7f\">                  </span>\n",
       "<span style=\"color: #7fbfbf; text-decoration-color: #7fbfbf\">           </span>         <span style=\"color: #008000; text-decoration-color: #008000\">'chunking_strategy'</span><span style=\"color: #000000; text-decoration-color: #000000\">: </span>                                                        <span style=\"color: #7f7f7f; text-decoration-color: #7f7f7f\">                  </span>\n",
       "<span style=\"color: #7fbfbf; text-decoration-color: #7fbfbf\">           </span>         <span style=\"color: #800080; text-decoration-color: #800080; font-weight: bold\">ChunkingStrategyConfig</span><span style=\"color: #000000; text-decoration-color: #000000; font-weight: bold\">(</span><span style=\"color: #808000; text-decoration-color: #808000\">type</span><span style=\"color: #000000; text-decoration-color: #000000\">=&lt;ChunkingStrategy.RECURSIVE: </span>                    <span style=\"color: #7f7f7f; text-decoration-color: #7f7f7f\">                  </span>\n",
       "<span style=\"color: #7fbfbf; text-decoration-color: #7fbfbf\">           </span>         <span style=\"color: #008000; text-decoration-color: #008000\">'RecursiveCharacterTextSplitter'</span><span style=\"color: #000000; text-decoration-color: #000000\">&gt;, </span><span style=\"color: #808000; text-decoration-color: #808000\">chunker_kwargs</span><span style=\"color: #000000; text-decoration-color: #000000\">=</span><span style=\"color: #800080; text-decoration-color: #800080; font-style: italic\">None</span><span style=\"color: #000000; text-decoration-color: #000000\">, </span><span style=\"color: #808000; text-decoration-color: #808000\">custom_class</span><span style=\"color: #000000; text-decoration-color: #000000\">=</span><span style=\"color: #800080; text-decoration-color: #800080; font-style: italic\">None</span><span style=\"color: #000000; text-decoration-color: #000000; font-weight: bold\">)</span><span style=\"color: #000000; text-decoration-color: #000000\">, </span> <span style=\"color: #7f7f7f; text-decoration-color: #7f7f7f\">                  </span>\n",
       "<span style=\"color: #7fbfbf; text-decoration-color: #7fbfbf\">           </span>         <span style=\"color: #008000; text-decoration-color: #008000\">'chunk_overlap'</span><span style=\"color: #000000; text-decoration-color: #000000\">: </span><span style=\"color: #008080; text-decoration-color: #008080; font-weight: bold\">100</span><span style=\"color: #000000; text-decoration-color: #000000\">, </span><span style=\"color: #008000; text-decoration-color: #008000\">'chunk_size'</span><span style=\"color: #000000; text-decoration-color: #000000\">: </span><span style=\"color: #008080; text-decoration-color: #008080; font-weight: bold\">2000</span><span style=\"color: #000000; text-decoration-color: #000000\">, </span><span style=\"color: #008000; text-decoration-color: #008000\">'embedding_model'</span><span style=\"color: #000000; text-decoration-color: #000000\">: </span>                <span style=\"color: #7f7f7f; text-decoration-color: #7f7f7f\">                  </span>\n",
       "<span style=\"color: #7fbfbf; text-decoration-color: #7fbfbf\">           </span>         <span style=\"color: #800080; text-decoration-color: #800080; font-weight: bold\">EmbeddingConfig</span><span style=\"color: #000000; text-decoration-color: #000000; font-weight: bold\">(</span><span style=\"color: #808000; text-decoration-color: #808000\">type</span><span style=\"color: #000000; text-decoration-color: #000000\">=&lt;EmbeddingModel.HUGGINGFACE: </span><span style=\"color: #008000; text-decoration-color: #008000\">'huggingface'</span><span style=\"color: #000000; text-decoration-color: #000000\">&gt;, </span>           <span style=\"color: #7f7f7f; text-decoration-color: #7f7f7f\">                  </span>\n",
       "<span style=\"color: #7fbfbf; text-decoration-color: #7fbfbf\">           </span>         <span style=\"color: #808000; text-decoration-color: #808000\">model_kwargs</span><span style=\"color: #000000; text-decoration-color: #000000\">=</span><span style=\"color: #000000; text-decoration-color: #000000; font-weight: bold\">{</span><span style=\"color: #008000; text-decoration-color: #008000\">'model_name'</span><span style=\"color: #000000; text-decoration-color: #000000\">: </span><span style=\"color: #008000; text-decoration-color: #008000\">'mixedbread-ai/mxbai-embed-large-v1'</span><span style=\"color: #000000; text-decoration-color: #000000; font-weight: bold\">}</span><span style=\"color: #000000; text-decoration-color: #000000\">, </span>          <span style=\"color: #7f7f7f; text-decoration-color: #7f7f7f\">                  </span>\n",
       "<span style=\"color: #7fbfbf; text-decoration-color: #7fbfbf\">           </span>         <span style=\"color: #808000; text-decoration-color: #808000\">custom_class</span><span style=\"color: #000000; text-decoration-color: #000000\">=</span><span style=\"color: #800080; text-decoration-color: #800080; font-style: italic\">None</span><span style=\"color: #000000; text-decoration-color: #000000; font-weight: bold\">)</span><span style=\"color: #000000; text-decoration-color: #000000\">, </span><span style=\"color: #008000; text-decoration-color: #008000\">'vector_database'</span><span style=\"color: #000000; text-decoration-color: #000000\">: </span>                                      <span style=\"color: #7f7f7f; text-decoration-color: #7f7f7f\">                  </span>\n",
       "<span style=\"color: #7fbfbf; text-decoration-color: #7fbfbf\">           </span>         <span style=\"color: #800080; text-decoration-color: #800080; font-weight: bold\">VectorDBConfig</span><span style=\"color: #000000; text-decoration-color: #000000; font-weight: bold\">(</span><span style=\"color: #808000; text-decoration-color: #808000\">type</span><span style=\"color: #000000; text-decoration-color: #000000\">=&lt;VectorDatabase.CHROMA: </span><span style=\"color: #008000; text-decoration-color: #008000\">'chroma'</span><span style=\"font-weight: bold\">&gt;</span>,                       <span style=\"color: #7f7f7f; text-decoration-color: #7f7f7f\">                  </span>\n",
       "<span style=\"color: #7fbfbf; text-decoration-color: #7fbfbf\">           </span>         <span style=\"color: #808000; text-decoration-color: #808000\">vectordb_kwargs</span>=<span style=\"font-weight: bold\">{</span><span style=\"color: #008000; text-decoration-color: #008000\">'collection_metadata'</span>: <span style=\"font-weight: bold\">{</span><span style=\"color: #008000; text-decoration-color: #008000\">'hnsw:space'</span>: <span style=\"color: #008000; text-decoration-color: #008000\">'cosine'</span><span style=\"font-weight: bold\">}}</span>,           <span style=\"color: #7f7f7f; text-decoration-color: #7f7f7f\">                  </span>\n",
       "<span style=\"color: #7fbfbf; text-decoration-color: #7fbfbf\">           </span>         <span style=\"color: #808000; text-decoration-color: #808000\">custom_class</span>=<span style=\"color: #800080; text-decoration-color: #800080; font-style: italic\">None</span><span style=\"font-weight: bold\">)}</span>                                                          <span style=\"color: #7f7f7f; text-decoration-color: #7f7f7f\">                  </span>\n",
       "</pre>\n"
      ],
      "text/plain": [
       "\u001b[2;36m          \u001b[0m\u001b[2;36m \u001b[0m\u001b[34mINFO    \u001b[0m Trial parameters: \u001b[1m{\u001b[0m\u001b[32m'input_source'\u001b[0m:                                           \u001b]8;id=604894;file:///Users/ashwinaravind/Desktop/kruxgitrepo/ragbuilder/src/ragbuilder/data_ingest/optimization.py\u001b\\\u001b[2moptimization.py\u001b[0m\u001b]8;;\u001b\\\u001b[2m:\u001b[0m\u001b]8;id=591164;file:///Users/ashwinaravind/Desktop/kruxgitrepo/ragbuilder/src/ragbuilder/data_ingest/optimization.py#89\u001b\\\u001b[2m89\u001b[0m\u001b]8;;\u001b\\\n",
       "\u001b[2;36m           \u001b[0m         \u001b[32m'https://github.com/ashwinaravind/ashwinaravind.github.io/blob/main/thevanis\u001b[0m \u001b[2m                  \u001b[0m\n",
       "\u001b[2;36m           \u001b[0m         \u001b[32mhingtown'\u001b[0m, \u001b[32m'document_loader'\u001b[0m: \u001b[1;35mLoaderConfig\u001b[0m\u001b[1m(\u001b[0m\u001b[33mtype\u001b[0m=\u001b[1m<\u001b[0m\u001b[1;95mParserType.UNSTRUCTURED:\u001b[0m\u001b[39m \u001b[0m   \u001b[2m                  \u001b[0m\n",
       "\u001b[2;36m           \u001b[0m         \u001b[32m'unstructured'\u001b[0m\u001b[39m>, \u001b[0m\u001b[33mloader_kwargs\u001b[0m\u001b[39m=\u001b[0m\u001b[3;35mNone\u001b[0m\u001b[39m, \u001b[0m\u001b[33mcustom_class\u001b[0m\u001b[39m=\u001b[0m\u001b[3;35mNone\u001b[0m\u001b[1;39m)\u001b[0m\u001b[39m, \u001b[0m                    \u001b[2m                  \u001b[0m\n",
       "\u001b[2;36m           \u001b[0m         \u001b[32m'chunking_strategy'\u001b[0m\u001b[39m: \u001b[0m                                                        \u001b[2m                  \u001b[0m\n",
       "\u001b[2;36m           \u001b[0m         \u001b[1;35mChunkingStrategyConfig\u001b[0m\u001b[1;39m(\u001b[0m\u001b[33mtype\u001b[0m\u001b[39m=<ChunkingStrategy.RECURSIVE: \u001b[0m                    \u001b[2m                  \u001b[0m\n",
       "\u001b[2;36m           \u001b[0m         \u001b[32m'RecursiveCharacterTextSplitter'\u001b[0m\u001b[39m>, \u001b[0m\u001b[33mchunker_kwargs\u001b[0m\u001b[39m=\u001b[0m\u001b[3;35mNone\u001b[0m\u001b[39m, \u001b[0m\u001b[33mcustom_class\u001b[0m\u001b[39m=\u001b[0m\u001b[3;35mNone\u001b[0m\u001b[1;39m)\u001b[0m\u001b[39m, \u001b[0m \u001b[2m                  \u001b[0m\n",
       "\u001b[2;36m           \u001b[0m         \u001b[32m'chunk_overlap'\u001b[0m\u001b[39m: \u001b[0m\u001b[1;36m100\u001b[0m\u001b[39m, \u001b[0m\u001b[32m'chunk_size'\u001b[0m\u001b[39m: \u001b[0m\u001b[1;36m2000\u001b[0m\u001b[39m, \u001b[0m\u001b[32m'embedding_model'\u001b[0m\u001b[39m: \u001b[0m                \u001b[2m                  \u001b[0m\n",
       "\u001b[2;36m           \u001b[0m         \u001b[1;35mEmbeddingConfig\u001b[0m\u001b[1;39m(\u001b[0m\u001b[33mtype\u001b[0m\u001b[39m=<EmbeddingModel.HUGGINGFACE: \u001b[0m\u001b[32m'huggingface'\u001b[0m\u001b[39m>, \u001b[0m           \u001b[2m                  \u001b[0m\n",
       "\u001b[2;36m           \u001b[0m         \u001b[33mmodel_kwargs\u001b[0m\u001b[39m=\u001b[0m\u001b[1;39m{\u001b[0m\u001b[32m'model_name'\u001b[0m\u001b[39m: \u001b[0m\u001b[32m'mixedbread-ai/mxbai-embed-large-v1'\u001b[0m\u001b[1;39m}\u001b[0m\u001b[39m, \u001b[0m          \u001b[2m                  \u001b[0m\n",
       "\u001b[2;36m           \u001b[0m         \u001b[33mcustom_class\u001b[0m\u001b[39m=\u001b[0m\u001b[3;35mNone\u001b[0m\u001b[1;39m)\u001b[0m\u001b[39m, \u001b[0m\u001b[32m'vector_database'\u001b[0m\u001b[39m: \u001b[0m                                      \u001b[2m                  \u001b[0m\n",
       "\u001b[2;36m           \u001b[0m         \u001b[1;35mVectorDBConfig\u001b[0m\u001b[1;39m(\u001b[0m\u001b[33mtype\u001b[0m\u001b[39m=<VectorDatabase.CHROMA: \u001b[0m\u001b[32m'chroma'\u001b[0m\u001b[1m>\u001b[0m,                       \u001b[2m                  \u001b[0m\n",
       "\u001b[2;36m           \u001b[0m         \u001b[33mvectordb_kwargs\u001b[0m=\u001b[1m{\u001b[0m\u001b[32m'collection_metadata'\u001b[0m: \u001b[1m{\u001b[0m\u001b[32m'hnsw:space'\u001b[0m: \u001b[32m'cosine'\u001b[0m\u001b[1m}\u001b[0m\u001b[1m}\u001b[0m,           \u001b[2m                  \u001b[0m\n",
       "\u001b[2;36m           \u001b[0m         \u001b[33mcustom_class\u001b[0m=\u001b[3;35mNone\u001b[0m\u001b[1m)\u001b[0m\u001b[1m}\u001b[0m                                                          \u001b[2m                  \u001b[0m\n"
      ]
     },
     "metadata": {},
     "output_type": "display_data"
    },
    {
     "data": {
      "text/html": [
       "<pre style=\"white-space:pre;overflow-x:auto;line-height:normal;font-family:Menlo,'DejaVu Sans Mono',consolas,'Courier New',monospace\"><span style=\"color: #7fbfbf; text-decoration-color: #7fbfbf\">[11:03:42] </span><span style=\"color: #000080; text-decoration-color: #000080\">INFO    </span> Load pretrained SentenceTransformer:                                 <a href=\"file:///Users/ashwinaravind/.pyenv/versions/3.12.5/lib/python3.12/site-packages/sentence_transformers/SentenceTransformer.py\" target=\"_blank\"><span style=\"color: #7f7f7f; text-decoration-color: #7f7f7f\">SentenceTransformer.py</span></a><span style=\"color: #7f7f7f; text-decoration-color: #7f7f7f\">:</span><a href=\"file:///Users/ashwinaravind/.pyenv/versions/3.12.5/lib/python3.12/site-packages/sentence_transformers/SentenceTransformer.py#113\" target=\"_blank\"><span style=\"color: #7f7f7f; text-decoration-color: #7f7f7f\">113</span></a>\n",
       "<span style=\"color: #7fbfbf; text-decoration-color: #7fbfbf\">           </span>         mixedbread-ai/mxbai-embed-large-v1                                   <span style=\"color: #7f7f7f; text-decoration-color: #7f7f7f\">                          </span>\n",
       "</pre>\n"
      ],
      "text/plain": [
       "\u001b[2;36m[11:03:42]\u001b[0m\u001b[2;36m \u001b[0m\u001b[34mINFO    \u001b[0m Load pretrained SentenceTransformer:                                 \u001b]8;id=542987;file:///Users/ashwinaravind/.pyenv/versions/3.12.5/lib/python3.12/site-packages/sentence_transformers/SentenceTransformer.py\u001b\\\u001b[2mSentenceTransformer.py\u001b[0m\u001b]8;;\u001b\\\u001b[2m:\u001b[0m\u001b]8;id=861385;file:///Users/ashwinaravind/.pyenv/versions/3.12.5/lib/python3.12/site-packages/sentence_transformers/SentenceTransformer.py#113\u001b\\\u001b[2m113\u001b[0m\u001b]8;;\u001b\\\n",
       "\u001b[2;36m           \u001b[0m         mixedbread-ai/mxbai-embed-large-v1                                   \u001b[2m                          \u001b[0m\n"
      ]
     },
     "metadata": {},
     "output_type": "display_data"
    },
    {
     "data": {
      "text/html": [
       "<pre style=\"white-space:pre;overflow-x:auto;line-height:normal;font-family:Menlo,'DejaVu Sans Mono',consolas,'Courier New',monospace\"><span style=\"color: #7fbfbf; text-decoration-color: #7fbfbf\">[11:03:46] </span><span style=\"color: #000080; text-decoration-color: #000080\">INFO    </span> Use pytorch device_name: mps                                         <a href=\"file:///Users/ashwinaravind/.pyenv/versions/3.12.5/lib/python3.12/site-packages/sentence_transformers/SentenceTransformer.py\" target=\"_blank\"><span style=\"color: #7f7f7f; text-decoration-color: #7f7f7f\">SentenceTransformer.py</span></a><span style=\"color: #7f7f7f; text-decoration-color: #7f7f7f\">:</span><a href=\"file:///Users/ashwinaravind/.pyenv/versions/3.12.5/lib/python3.12/site-packages/sentence_transformers/SentenceTransformer.py#219\" target=\"_blank\"><span style=\"color: #7f7f7f; text-decoration-color: #7f7f7f\">219</span></a>\n",
       "</pre>\n"
      ],
      "text/plain": [
       "\u001b[2;36m[11:03:46]\u001b[0m\u001b[2;36m \u001b[0m\u001b[34mINFO    \u001b[0m Use pytorch device_name: mps                                         \u001b]8;id=209608;file:///Users/ashwinaravind/.pyenv/versions/3.12.5/lib/python3.12/site-packages/sentence_transformers/SentenceTransformer.py\u001b\\\u001b[2mSentenceTransformer.py\u001b[0m\u001b]8;;\u001b\\\u001b[2m:\u001b[0m\u001b]8;id=788220;file:///Users/ashwinaravind/.pyenv/versions/3.12.5/lib/python3.12/site-packages/sentence_transformers/SentenceTransformer.py#219\u001b\\\u001b[2m219\u001b[0m\u001b]8;;\u001b\\\n"
      ]
     },
     "metadata": {},
     "output_type": "display_data"
    },
    {
     "data": {
      "text/html": [
       "<pre style=\"white-space:pre;overflow-x:auto;line-height:normal;font-family:Menlo,'DejaVu Sans Mono',consolas,'Courier New',monospace\"><span style=\"color: #7fbfbf; text-decoration-color: #7fbfbf\">           </span><span style=\"color: #000080; text-decoration-color: #000080\">INFO    </span> <span style=\"color: #008080; text-decoration-color: #008080; font-weight: bold\">2</span> prompts are loaded, with the keys: <span style=\"font-weight: bold\">[</span><span style=\"color: #008000; text-decoration-color: #008000\">'query'</span>, <span style=\"color: #008000; text-decoration-color: #008000\">'passage'</span><span style=\"font-weight: bold\">]</span>            <a href=\"file:///Users/ashwinaravind/.pyenv/versions/3.12.5/lib/python3.12/site-packages/sentence_transformers/SentenceTransformer.py\" target=\"_blank\"><span style=\"color: #7f7f7f; text-decoration-color: #7f7f7f\">SentenceTransformer.py</span></a><span style=\"color: #7f7f7f; text-decoration-color: #7f7f7f\">:</span><a href=\"file:///Users/ashwinaravind/.pyenv/versions/3.12.5/lib/python3.12/site-packages/sentence_transformers/SentenceTransformer.py#231\" target=\"_blank\"><span style=\"color: #7f7f7f; text-decoration-color: #7f7f7f\">231</span></a>\n",
       "</pre>\n"
      ],
      "text/plain": [
       "\u001b[2;36m          \u001b[0m\u001b[2;36m \u001b[0m\u001b[34mINFO    \u001b[0m \u001b[1;36m2\u001b[0m prompts are loaded, with the keys: \u001b[1m[\u001b[0m\u001b[32m'query'\u001b[0m, \u001b[32m'passage'\u001b[0m\u001b[1m]\u001b[0m            \u001b]8;id=566013;file:///Users/ashwinaravind/.pyenv/versions/3.12.5/lib/python3.12/site-packages/sentence_transformers/SentenceTransformer.py\u001b\\\u001b[2mSentenceTransformer.py\u001b[0m\u001b]8;;\u001b\\\u001b[2m:\u001b[0m\u001b]8;id=932084;file:///Users/ashwinaravind/.pyenv/versions/3.12.5/lib/python3.12/site-packages/sentence_transformers/SentenceTransformer.py#231\u001b\\\u001b[2m231\u001b[0m\u001b]8;;\u001b\\\n"
      ]
     },
     "metadata": {},
     "output_type": "display_data"
    },
    {
     "data": {
      "text/html": [
       "<pre style=\"white-space:pre;overflow-x:auto;line-height:normal;font-family:Menlo,'DejaVu Sans Mono',consolas,'Courier New',monospace\"><span style=\"color: #7fbfbf; text-decoration-color: #7fbfbf\">           </span><span style=\"color: #000080; text-decoration-color: #000080\">INFO    </span> Loading documents with loader: ParserType.UNSTRUCTURED                           <a href=\"file:///Users/ashwinaravind/Desktop/kruxgitrepo/ragbuilder/src/ragbuilder/data_ingest/pipeline.py\" target=\"_blank\"><span style=\"color: #7f7f7f; text-decoration-color: #7f7f7f\">pipeline.py</span></a><span style=\"color: #7f7f7f; text-decoration-color: #7f7f7f\">:</span><a href=\"file:///Users/ashwinaravind/Desktop/kruxgitrepo/ragbuilder/src/ragbuilder/data_ingest/pipeline.py#81\" target=\"_blank\"><span style=\"color: #7f7f7f; text-decoration-color: #7f7f7f\">81</span></a>\n",
       "</pre>\n"
      ],
      "text/plain": [
       "\u001b[2;36m          \u001b[0m\u001b[2;36m \u001b[0m\u001b[34mINFO    \u001b[0m Loading documents with loader: ParserType.UNSTRUCTURED                           \u001b]8;id=651169;file:///Users/ashwinaravind/Desktop/kruxgitrepo/ragbuilder/src/ragbuilder/data_ingest/pipeline.py\u001b\\\u001b[2mpipeline.py\u001b[0m\u001b]8;;\u001b\\\u001b[2m:\u001b[0m\u001b]8;id=1581;file:///Users/ashwinaravind/Desktop/kruxgitrepo/ragbuilder/src/ragbuilder/data_ingest/pipeline.py#81\u001b\\\u001b[2m81\u001b[0m\u001b]8;;\u001b\\\n"
      ]
     },
     "metadata": {},
     "output_type": "display_data"
    },
    {
     "data": {
      "text/html": [
       "<pre style=\"white-space:pre;overflow-x:auto;line-height:normal;font-family:Menlo,'DejaVu Sans Mono',consolas,'Courier New',monospace\"><span style=\"color: #7fbfbf; text-decoration-color: #7fbfbf\">[11:03:47] </span><span style=\"color: #000080; text-decoration-color: #000080\">INFO    </span> Stored <span style=\"color: #008080; text-decoration-color: #008080; font-weight: bold\">1</span> documents with key:                                               <a href=\"file:///Users/ashwinaravind/Desktop/kruxgitrepo/ragbuilder/src/ragbuilder/core/document_store.py\" target=\"_blank\"><span style=\"color: #7f7f7f; text-decoration-color: #7f7f7f\">document_store.py</span></a><span style=\"color: #7f7f7f; text-decoration-color: #7f7f7f\">:</span><a href=\"file:///Users/ashwinaravind/Desktop/kruxgitrepo/ragbuilder/src/ragbuilder/core/document_store.py#27\" target=\"_blank\"><span style=\"color: #7f7f7f; text-decoration-color: #7f7f7f\">27</span></a>\n",
       "<span style=\"color: #7fbfbf; text-decoration-color: #7fbfbf\">           </span>         loader_ParserType.UNSTRUCTURED_<span style=\"color: #0000ff; text-decoration-color: #0000ff; text-decoration: underline\">https://github.com/ashwinaravind/ashwinarav</span> <span style=\"color: #7f7f7f; text-decoration-color: #7f7f7f\">                    </span>\n",
       "<span style=\"color: #7fbfbf; text-decoration-color: #7fbfbf\">           </span>         <span style=\"color: #0000ff; text-decoration-color: #0000ff; text-decoration: underline\">ind.github.io/blob/main/thevanishingtown_5740354900026072187</span>               <span style=\"color: #7f7f7f; text-decoration-color: #7f7f7f\">                    </span>\n",
       "</pre>\n"
      ],
      "text/plain": [
       "\u001b[2;36m[11:03:47]\u001b[0m\u001b[2;36m \u001b[0m\u001b[34mINFO    \u001b[0m Stored \u001b[1;36m1\u001b[0m documents with key:                                               \u001b]8;id=115177;file:///Users/ashwinaravind/Desktop/kruxgitrepo/ragbuilder/src/ragbuilder/core/document_store.py\u001b\\\u001b[2mdocument_store.py\u001b[0m\u001b]8;;\u001b\\\u001b[2m:\u001b[0m\u001b]8;id=336399;file:///Users/ashwinaravind/Desktop/kruxgitrepo/ragbuilder/src/ragbuilder/core/document_store.py#27\u001b\\\u001b[2m27\u001b[0m\u001b]8;;\u001b\\\n",
       "\u001b[2;36m           \u001b[0m         loader_ParserType.UNSTRUCTURED_\u001b[4;94mhttps://github.com/ashwinaravind/ashwinarav\u001b[0m \u001b[2m                    \u001b[0m\n",
       "\u001b[2;36m           \u001b[0m         \u001b[4;94mind.github.io/blob/main/thevanishingtown_5740354900026072187\u001b[0m               \u001b[2m                    \u001b[0m\n"
      ]
     },
     "metadata": {},
     "output_type": "display_data"
    },
    {
     "data": {
      "application/vnd.jupyter.widget-view+json": {
       "model_id": "535f238d96d44708a13d2194e6c04fd1",
       "version_major": 2,
       "version_minor": 0
      },
      "text/plain": [
       "Output()"
      ]
     },
     "metadata": {},
     "output_type": "display_data"
    },
    {
     "data": {
      "text/html": [
       "<pre style=\"white-space:pre;overflow-x:auto;line-height:normal;font-family:Menlo,'DejaVu Sans Mono',consolas,'Courier New',monospace\"><span style=\"color: #7fbfbf; text-decoration-color: #7fbfbf\">[11:03:48] </span><span style=\"color: #000080; text-decoration-color: #000080\">INFO    </span> Stored vectorstore with key:                                              <a href=\"file:///Users/ashwinaravind/Desktop/kruxgitrepo/ragbuilder/src/ragbuilder/core/document_store.py\" target=\"_blank\"><span style=\"color: #7f7f7f; text-decoration-color: #7f7f7f\">document_store.py</span></a><span style=\"color: #7f7f7f; text-decoration-color: #7f7f7f\">:</span><a href=\"file:///Users/ashwinaravind/Desktop/kruxgitrepo/ragbuilder/src/ragbuilder/core/document_store.py#103\" target=\"_blank\"><span style=\"color: #7f7f7f; text-decoration-color: #7f7f7f\">103</span></a>\n",
       "<span style=\"color: #7fbfbf; text-decoration-color: #7fbfbf\">           </span>         loader_loader_ParserType.UNSTRUCTURED_<span style=\"color: #0000ff; text-decoration-color: #0000ff; text-decoration: underline\">https://github.com/ashwinaravind/as</span> <span style=\"color: #7f7f7f; text-decoration-color: #7f7f7f\">                     </span>\n",
       "<span style=\"color: #7fbfbf; text-decoration-color: #7fbfbf\">           </span>         <span style=\"color: #0000ff; text-decoration-color: #0000ff; text-decoration: underline\">hwinaravind.github.io/blob/main/thevanishingtown_5740354900026072187_chun</span> <span style=\"color: #7f7f7f; text-decoration-color: #7f7f7f\">                     </span>\n",
       "<span style=\"color: #7fbfbf; text-decoration-color: #7fbfbf\">           </span>         <span style=\"color: #0000ff; text-decoration-color: #0000ff; text-decoration: underline\">ker_ChunkingStrategy.RECURSIVE_2000_100_embedder_EmbeddingModel.HUGGINGFA</span> <span style=\"color: #7f7f7f; text-decoration-color: #7f7f7f\">                     </span>\n",
       "<span style=\"color: #7fbfbf; text-decoration-color: #7fbfbf\">           </span>         <span style=\"color: #0000ff; text-decoration-color: #0000ff; text-decoration: underline\">CE_vectordb_VectorDatabase.CHROMA_embedder_kwargs_5087415441264439699_vec</span> <span style=\"color: #7f7f7f; text-decoration-color: #7f7f7f\">                     </span>\n",
       "<span style=\"color: #7fbfbf; text-decoration-color: #7fbfbf\">           </span>         <span style=\"color: #0000ff; text-decoration-color: #0000ff; text-decoration: underline\">tordb_kwargs_3568042673461558186</span>                                          <span style=\"color: #7f7f7f; text-decoration-color: #7f7f7f\">                     </span>\n",
       "</pre>\n"
      ],
      "text/plain": [
       "\u001b[2;36m[11:03:48]\u001b[0m\u001b[2;36m \u001b[0m\u001b[34mINFO    \u001b[0m Stored vectorstore with key:                                              \u001b]8;id=490126;file:///Users/ashwinaravind/Desktop/kruxgitrepo/ragbuilder/src/ragbuilder/core/document_store.py\u001b\\\u001b[2mdocument_store.py\u001b[0m\u001b]8;;\u001b\\\u001b[2m:\u001b[0m\u001b]8;id=55697;file:///Users/ashwinaravind/Desktop/kruxgitrepo/ragbuilder/src/ragbuilder/core/document_store.py#103\u001b\\\u001b[2m103\u001b[0m\u001b]8;;\u001b\\\n",
       "\u001b[2;36m           \u001b[0m         loader_loader_ParserType.UNSTRUCTURED_\u001b[4;94mhttps://github.com/ashwinaravind/as\u001b[0m \u001b[2m                     \u001b[0m\n",
       "\u001b[2;36m           \u001b[0m         \u001b[4;94mhwinaravind.github.io/blob/main/thevanishingtown_5740354900026072187_chun\u001b[0m \u001b[2m                     \u001b[0m\n",
       "\u001b[2;36m           \u001b[0m         \u001b[4;94mker_ChunkingStrategy.RECURSIVE_2000_100_embedder_EmbeddingModel.HUGGINGFA\u001b[0m \u001b[2m                     \u001b[0m\n",
       "\u001b[2;36m           \u001b[0m         \u001b[4;94mCE_vectordb_VectorDatabase.CHROMA_embedder_kwargs_5087415441264439699_vec\u001b[0m \u001b[2m                     \u001b[0m\n",
       "\u001b[2;36m           \u001b[0m         \u001b[4;94mtordb_kwargs_3568042673461558186\u001b[0m                                          \u001b[2m                     \u001b[0m\n"
      ]
     },
     "metadata": {},
     "output_type": "display_data"
    },
    {
     "data": {
      "text/html": [
       "<pre style=\"white-space:pre;overflow-x:auto;line-height:normal;font-family:Menlo,'DejaVu Sans Mono',consolas,'Courier New',monospace\"><span style=\"color: #008000; text-decoration-color: #008000\">✓ Pipeline execution complete!</span>\n",
       "</pre>\n"
      ],
      "text/plain": [
       "\u001b[32m✓ Pipeline execution complete!\u001b[0m\n"
      ]
     },
     "metadata": {},
     "output_type": "display_data"
    },
    {
     "data": {
      "text/html": [
       "<pre style=\"white-space:pre;overflow-x:auto;line-height:normal;font-family:Menlo,'DejaVu Sans Mono',consolas,'Courier New',monospace\"></pre>\n"
      ],
      "text/plain": []
     },
     "metadata": {},
     "output_type": "display_data"
    },
    {
     "data": {
      "text/html": [
       "<pre style=\"white-space:pre;overflow-x:auto;line-height:normal;font-family:Menlo,'DejaVu Sans Mono',consolas,'Courier New',monospace\"><span style=\"color: #7fbfbf; text-decoration-color: #7fbfbf\">[11:03:49] </span><span style=\"color: #808000; text-decoration-color: #808000\">WARNING </span> Number of requested results <span style=\"color: #008080; text-decoration-color: #008080; font-weight: bold\">5</span> is greater than number of elements in index <span style=\"color: #008080; text-decoration-color: #008080; font-weight: bold\">3</span>,  <a href=\"file:///Users/ashwinaravind/.pyenv/versions/3.12.5/lib/python3.12/site-packages/chromadb/segment/impl/vector/local_hnsw.py\" target=\"_blank\"><span style=\"color: #7f7f7f; text-decoration-color: #7f7f7f\">local_hnsw.py</span></a><span style=\"color: #7f7f7f; text-decoration-color: #7f7f7f\">:</span><a href=\"file:///Users/ashwinaravind/.pyenv/versions/3.12.5/lib/python3.12/site-packages/chromadb/segment/impl/vector/local_hnsw.py#138\" target=\"_blank\"><span style=\"color: #7f7f7f; text-decoration-color: #7f7f7f\">138</span></a>\n",
       "<span style=\"color: #7fbfbf; text-decoration-color: #7fbfbf\">           </span>         updating n_results = <span style=\"color: #008080; text-decoration-color: #008080; font-weight: bold\">3</span>                                                        <span style=\"color: #7f7f7f; text-decoration-color: #7f7f7f\">                 </span>\n",
       "</pre>\n"
      ],
      "text/plain": [
       "\u001b[2;36m[11:03:49]\u001b[0m\u001b[2;36m \u001b[0m\u001b[33mWARNING \u001b[0m Number of requested results \u001b[1;36m5\u001b[0m is greater than number of elements in index \u001b[1;36m3\u001b[0m,  \u001b]8;id=551234;file:///Users/ashwinaravind/.pyenv/versions/3.12.5/lib/python3.12/site-packages/chromadb/segment/impl/vector/local_hnsw.py\u001b\\\u001b[2mlocal_hnsw.py\u001b[0m\u001b]8;;\u001b\\\u001b[2m:\u001b[0m\u001b]8;id=695741;file:///Users/ashwinaravind/.pyenv/versions/3.12.5/lib/python3.12/site-packages/chromadb/segment/impl/vector/local_hnsw.py#138\u001b\\\u001b[2m138\u001b[0m\u001b]8;;\u001b\\\n",
       "\u001b[2;36m           \u001b[0m         updating n_results = \u001b[1;36m3\u001b[0m                                                        \u001b[2m                 \u001b[0m\n"
      ]
     },
     "metadata": {},
     "output_type": "display_data"
    },
    {
     "data": {
      "text/html": [
       "<pre style=\"white-space:pre;overflow-x:auto;line-height:normal;font-family:Menlo,'DejaVu Sans Mono',consolas,'Courier New',monospace\"><span style=\"color: #7fbfbf; text-decoration-color: #7fbfbf\">[11:03:50] </span><span style=\"color: #808000; text-decoration-color: #808000\">WARNING </span> Number of requested results <span style=\"color: #008080; text-decoration-color: #008080; font-weight: bold\">5</span> is greater than number of elements in index <span style=\"color: #008080; text-decoration-color: #008080; font-weight: bold\">3</span>,  <a href=\"file:///Users/ashwinaravind/.pyenv/versions/3.12.5/lib/python3.12/site-packages/chromadb/segment/impl/vector/local_hnsw.py\" target=\"_blank\"><span style=\"color: #7f7f7f; text-decoration-color: #7f7f7f\">local_hnsw.py</span></a><span style=\"color: #7f7f7f; text-decoration-color: #7f7f7f\">:</span><a href=\"file:///Users/ashwinaravind/.pyenv/versions/3.12.5/lib/python3.12/site-packages/chromadb/segment/impl/vector/local_hnsw.py#138\" target=\"_blank\"><span style=\"color: #7f7f7f; text-decoration-color: #7f7f7f\">138</span></a>\n",
       "<span style=\"color: #7fbfbf; text-decoration-color: #7fbfbf\">           </span>         updating n_results = <span style=\"color: #008080; text-decoration-color: #008080; font-weight: bold\">3</span>                                                        <span style=\"color: #7f7f7f; text-decoration-color: #7f7f7f\">                 </span>\n",
       "</pre>\n"
      ],
      "text/plain": [
       "\u001b[2;36m[11:03:50]\u001b[0m\u001b[2;36m \u001b[0m\u001b[33mWARNING \u001b[0m Number of requested results \u001b[1;36m5\u001b[0m is greater than number of elements in index \u001b[1;36m3\u001b[0m,  \u001b]8;id=934354;file:///Users/ashwinaravind/.pyenv/versions/3.12.5/lib/python3.12/site-packages/chromadb/segment/impl/vector/local_hnsw.py\u001b\\\u001b[2mlocal_hnsw.py\u001b[0m\u001b]8;;\u001b\\\u001b[2m:\u001b[0m\u001b]8;id=375157;file:///Users/ashwinaravind/.pyenv/versions/3.12.5/lib/python3.12/site-packages/chromadb/segment/impl/vector/local_hnsw.py#138\u001b\\\u001b[2m138\u001b[0m\u001b]8;;\u001b\\\n",
       "\u001b[2;36m           \u001b[0m         updating n_results = \u001b[1;36m3\u001b[0m                                                        \u001b[2m                 \u001b[0m\n"
      ]
     },
     "metadata": {},
     "output_type": "display_data"
    },
    {
     "data": {
      "text/html": [
       "<pre style=\"white-space:pre;overflow-x:auto;line-height:normal;font-family:Menlo,'DejaVu Sans Mono',consolas,'Courier New',monospace\"><span style=\"color: #7fbfbf; text-decoration-color: #7fbfbf\">[11:03:51] </span><span style=\"color: #808000; text-decoration-color: #808000\">WARNING </span> Number of requested results <span style=\"color: #008080; text-decoration-color: #008080; font-weight: bold\">5</span> is greater than number of elements in index <span style=\"color: #008080; text-decoration-color: #008080; font-weight: bold\">3</span>,  <a href=\"file:///Users/ashwinaravind/.pyenv/versions/3.12.5/lib/python3.12/site-packages/chromadb/segment/impl/vector/local_hnsw.py\" target=\"_blank\"><span style=\"color: #7f7f7f; text-decoration-color: #7f7f7f\">local_hnsw.py</span></a><span style=\"color: #7f7f7f; text-decoration-color: #7f7f7f\">:</span><a href=\"file:///Users/ashwinaravind/.pyenv/versions/3.12.5/lib/python3.12/site-packages/chromadb/segment/impl/vector/local_hnsw.py#138\" target=\"_blank\"><span style=\"color: #7f7f7f; text-decoration-color: #7f7f7f\">138</span></a>\n",
       "<span style=\"color: #7fbfbf; text-decoration-color: #7fbfbf\">           </span>         updating n_results = <span style=\"color: #008080; text-decoration-color: #008080; font-weight: bold\">3</span>                                                        <span style=\"color: #7f7f7f; text-decoration-color: #7f7f7f\">                 </span>\n",
       "</pre>\n"
      ],
      "text/plain": [
       "\u001b[2;36m[11:03:51]\u001b[0m\u001b[2;36m \u001b[0m\u001b[33mWARNING \u001b[0m Number of requested results \u001b[1;36m5\u001b[0m is greater than number of elements in index \u001b[1;36m3\u001b[0m,  \u001b]8;id=384684;file:///Users/ashwinaravind/.pyenv/versions/3.12.5/lib/python3.12/site-packages/chromadb/segment/impl/vector/local_hnsw.py\u001b\\\u001b[2mlocal_hnsw.py\u001b[0m\u001b]8;;\u001b\\\u001b[2m:\u001b[0m\u001b]8;id=98954;file:///Users/ashwinaravind/.pyenv/versions/3.12.5/lib/python3.12/site-packages/chromadb/segment/impl/vector/local_hnsw.py#138\u001b\\\u001b[2m138\u001b[0m\u001b]8;;\u001b\\\n",
       "\u001b[2;36m           \u001b[0m         updating n_results = \u001b[1;36m3\u001b[0m                                                        \u001b[2m                 \u001b[0m\n"
      ]
     },
     "metadata": {},
     "output_type": "display_data"
    },
    {
     "data": {
      "text/html": [
       "<pre style=\"white-space:pre;overflow-x:auto;line-height:normal;font-family:Menlo,'DejaVu Sans Mono',consolas,'Courier New',monospace\"><span style=\"color: #7fbfbf; text-decoration-color: #7fbfbf\">           </span><span style=\"color: #808000; text-decoration-color: #808000\">WARNING </span> Number of requested results <span style=\"color: #008080; text-decoration-color: #008080; font-weight: bold\">5</span> is greater than number of elements in index <span style=\"color: #008080; text-decoration-color: #008080; font-weight: bold\">3</span>,  <a href=\"file:///Users/ashwinaravind/.pyenv/versions/3.12.5/lib/python3.12/site-packages/chromadb/segment/impl/vector/local_hnsw.py\" target=\"_blank\"><span style=\"color: #7f7f7f; text-decoration-color: #7f7f7f\">local_hnsw.py</span></a><span style=\"color: #7f7f7f; text-decoration-color: #7f7f7f\">:</span><a href=\"file:///Users/ashwinaravind/.pyenv/versions/3.12.5/lib/python3.12/site-packages/chromadb/segment/impl/vector/local_hnsw.py#138\" target=\"_blank\"><span style=\"color: #7f7f7f; text-decoration-color: #7f7f7f\">138</span></a>\n",
       "<span style=\"color: #7fbfbf; text-decoration-color: #7fbfbf\">           </span>         updating n_results = <span style=\"color: #008080; text-decoration-color: #008080; font-weight: bold\">3</span>                                                        <span style=\"color: #7f7f7f; text-decoration-color: #7f7f7f\">                 </span>\n",
       "</pre>\n"
      ],
      "text/plain": [
       "\u001b[2;36m          \u001b[0m\u001b[2;36m \u001b[0m\u001b[33mWARNING \u001b[0m Number of requested results \u001b[1;36m5\u001b[0m is greater than number of elements in index \u001b[1;36m3\u001b[0m,  \u001b]8;id=299155;file:///Users/ashwinaravind/.pyenv/versions/3.12.5/lib/python3.12/site-packages/chromadb/segment/impl/vector/local_hnsw.py\u001b\\\u001b[2mlocal_hnsw.py\u001b[0m\u001b]8;;\u001b\\\u001b[2m:\u001b[0m\u001b]8;id=17443;file:///Users/ashwinaravind/.pyenv/versions/3.12.5/lib/python3.12/site-packages/chromadb/segment/impl/vector/local_hnsw.py#138\u001b\\\u001b[2m138\u001b[0m\u001b]8;;\u001b\\\n",
       "\u001b[2;36m           \u001b[0m         updating n_results = \u001b[1;36m3\u001b[0m                                                        \u001b[2m                 \u001b[0m\n"
      ]
     },
     "metadata": {},
     "output_type": "display_data"
    },
    {
     "data": {
      "text/html": [
       "<pre style=\"white-space:pre;overflow-x:auto;line-height:normal;font-family:Menlo,'DejaVu Sans Mono',consolas,'Courier New',monospace\"><span style=\"color: #7fbfbf; text-decoration-color: #7fbfbf\">           </span><span style=\"color: #808000; text-decoration-color: #808000\">WARNING </span> Number of requested results <span style=\"color: #008080; text-decoration-color: #008080; font-weight: bold\">5</span> is greater than number of elements in index <span style=\"color: #008080; text-decoration-color: #008080; font-weight: bold\">3</span>,  <a href=\"file:///Users/ashwinaravind/.pyenv/versions/3.12.5/lib/python3.12/site-packages/chromadb/segment/impl/vector/local_hnsw.py\" target=\"_blank\"><span style=\"color: #7f7f7f; text-decoration-color: #7f7f7f\">local_hnsw.py</span></a><span style=\"color: #7f7f7f; text-decoration-color: #7f7f7f\">:</span><a href=\"file:///Users/ashwinaravind/.pyenv/versions/3.12.5/lib/python3.12/site-packages/chromadb/segment/impl/vector/local_hnsw.py#138\" target=\"_blank\"><span style=\"color: #7f7f7f; text-decoration-color: #7f7f7f\">138</span></a>\n",
       "<span style=\"color: #7fbfbf; text-decoration-color: #7fbfbf\">           </span>         updating n_results = <span style=\"color: #008080; text-decoration-color: #008080; font-weight: bold\">3</span>                                                        <span style=\"color: #7f7f7f; text-decoration-color: #7f7f7f\">                 </span>\n",
       "</pre>\n"
      ],
      "text/plain": [
       "\u001b[2;36m          \u001b[0m\u001b[2;36m \u001b[0m\u001b[33mWARNING \u001b[0m Number of requested results \u001b[1;36m5\u001b[0m is greater than number of elements in index \u001b[1;36m3\u001b[0m,  \u001b]8;id=931072;file:///Users/ashwinaravind/.pyenv/versions/3.12.5/lib/python3.12/site-packages/chromadb/segment/impl/vector/local_hnsw.py\u001b\\\u001b[2mlocal_hnsw.py\u001b[0m\u001b]8;;\u001b\\\u001b[2m:\u001b[0m\u001b]8;id=682981;file:///Users/ashwinaravind/.pyenv/versions/3.12.5/lib/python3.12/site-packages/chromadb/segment/impl/vector/local_hnsw.py#138\u001b\\\u001b[2m138\u001b[0m\u001b]8;;\u001b\\\n",
       "\u001b[2;36m           \u001b[0m         updating n_results = \u001b[1;36m3\u001b[0m                                                        \u001b[2m                 \u001b[0m\n"
      ]
     },
     "metadata": {},
     "output_type": "display_data"
    },
    {
     "data": {
      "text/html": [
       "<pre style=\"white-space:pre;overflow-x:auto;line-height:normal;font-family:Menlo,'DejaVu Sans Mono',consolas,'Courier New',monospace\"><span style=\"color: #7fbfbf; text-decoration-color: #7fbfbf\">           </span><span style=\"color: #808000; text-decoration-color: #808000\">WARNING </span> Number of requested results <span style=\"color: #008080; text-decoration-color: #008080; font-weight: bold\">5</span> is greater than number of elements in index <span style=\"color: #008080; text-decoration-color: #008080; font-weight: bold\">3</span>,  <a href=\"file:///Users/ashwinaravind/.pyenv/versions/3.12.5/lib/python3.12/site-packages/chromadb/segment/impl/vector/local_hnsw.py\" target=\"_blank\"><span style=\"color: #7f7f7f; text-decoration-color: #7f7f7f\">local_hnsw.py</span></a><span style=\"color: #7f7f7f; text-decoration-color: #7f7f7f\">:</span><a href=\"file:///Users/ashwinaravind/.pyenv/versions/3.12.5/lib/python3.12/site-packages/chromadb/segment/impl/vector/local_hnsw.py#138\" target=\"_blank\"><span style=\"color: #7f7f7f; text-decoration-color: #7f7f7f\">138</span></a>\n",
       "<span style=\"color: #7fbfbf; text-decoration-color: #7fbfbf\">           </span>         updating n_results = <span style=\"color: #008080; text-decoration-color: #008080; font-weight: bold\">3</span>                                                        <span style=\"color: #7f7f7f; text-decoration-color: #7f7f7f\">                 </span>\n",
       "</pre>\n"
      ],
      "text/plain": [
       "\u001b[2;36m          \u001b[0m\u001b[2;36m \u001b[0m\u001b[33mWARNING \u001b[0m Number of requested results \u001b[1;36m5\u001b[0m is greater than number of elements in index \u001b[1;36m3\u001b[0m,  \u001b]8;id=517631;file:///Users/ashwinaravind/.pyenv/versions/3.12.5/lib/python3.12/site-packages/chromadb/segment/impl/vector/local_hnsw.py\u001b\\\u001b[2mlocal_hnsw.py\u001b[0m\u001b]8;;\u001b\\\u001b[2m:\u001b[0m\u001b]8;id=681835;file:///Users/ashwinaravind/.pyenv/versions/3.12.5/lib/python3.12/site-packages/chromadb/segment/impl/vector/local_hnsw.py#138\u001b\\\u001b[2m138\u001b[0m\u001b]8;;\u001b\\\n",
       "\u001b[2;36m           \u001b[0m         updating n_results = \u001b[1;36m3\u001b[0m                                                        \u001b[2m                 \u001b[0m\n"
      ]
     },
     "metadata": {},
     "output_type": "display_data"
    },
    {
     "data": {
      "text/html": [
       "<pre style=\"white-space:pre;overflow-x:auto;line-height:normal;font-family:Menlo,'DejaVu Sans Mono',consolas,'Courier New',monospace\"><span style=\"color: #7fbfbf; text-decoration-color: #7fbfbf\">[11:03:52] </span><span style=\"color: #808000; text-decoration-color: #808000\">WARNING </span> Number of requested results <span style=\"color: #008080; text-decoration-color: #008080; font-weight: bold\">5</span> is greater than number of elements in index <span style=\"color: #008080; text-decoration-color: #008080; font-weight: bold\">3</span>,  <a href=\"file:///Users/ashwinaravind/.pyenv/versions/3.12.5/lib/python3.12/site-packages/chromadb/segment/impl/vector/local_hnsw.py\" target=\"_blank\"><span style=\"color: #7f7f7f; text-decoration-color: #7f7f7f\">local_hnsw.py</span></a><span style=\"color: #7f7f7f; text-decoration-color: #7f7f7f\">:</span><a href=\"file:///Users/ashwinaravind/.pyenv/versions/3.12.5/lib/python3.12/site-packages/chromadb/segment/impl/vector/local_hnsw.py#138\" target=\"_blank\"><span style=\"color: #7f7f7f; text-decoration-color: #7f7f7f\">138</span></a>\n",
       "<span style=\"color: #7fbfbf; text-decoration-color: #7fbfbf\">           </span>         updating n_results = <span style=\"color: #008080; text-decoration-color: #008080; font-weight: bold\">3</span>                                                        <span style=\"color: #7f7f7f; text-decoration-color: #7f7f7f\">                 </span>\n",
       "</pre>\n"
      ],
      "text/plain": [
       "\u001b[2;36m[11:03:52]\u001b[0m\u001b[2;36m \u001b[0m\u001b[33mWARNING \u001b[0m Number of requested results \u001b[1;36m5\u001b[0m is greater than number of elements in index \u001b[1;36m3\u001b[0m,  \u001b]8;id=746496;file:///Users/ashwinaravind/.pyenv/versions/3.12.5/lib/python3.12/site-packages/chromadb/segment/impl/vector/local_hnsw.py\u001b\\\u001b[2mlocal_hnsw.py\u001b[0m\u001b]8;;\u001b\\\u001b[2m:\u001b[0m\u001b]8;id=221428;file:///Users/ashwinaravind/.pyenv/versions/3.12.5/lib/python3.12/site-packages/chromadb/segment/impl/vector/local_hnsw.py#138\u001b\\\u001b[2m138\u001b[0m\u001b]8;;\u001b\\\n",
       "\u001b[2;36m           \u001b[0m         updating n_results = \u001b[1;36m3\u001b[0m                                                        \u001b[2m                 \u001b[0m\n"
      ]
     },
     "metadata": {},
     "output_type": "display_data"
    },
    {
     "data": {
      "text/html": [
       "<pre style=\"white-space:pre;overflow-x:auto;line-height:normal;font-family:Menlo,'DejaVu Sans Mono',consolas,'Courier New',monospace\"><span style=\"color: #7fbfbf; text-decoration-color: #7fbfbf\">[11:03:53] </span><span style=\"color: #808000; text-decoration-color: #808000\">WARNING </span> Number of requested results <span style=\"color: #008080; text-decoration-color: #008080; font-weight: bold\">5</span> is greater than number of elements in index <span style=\"color: #008080; text-decoration-color: #008080; font-weight: bold\">3</span>,  <a href=\"file:///Users/ashwinaravind/.pyenv/versions/3.12.5/lib/python3.12/site-packages/chromadb/segment/impl/vector/local_hnsw.py\" target=\"_blank\"><span style=\"color: #7f7f7f; text-decoration-color: #7f7f7f\">local_hnsw.py</span></a><span style=\"color: #7f7f7f; text-decoration-color: #7f7f7f\">:</span><a href=\"file:///Users/ashwinaravind/.pyenv/versions/3.12.5/lib/python3.12/site-packages/chromadb/segment/impl/vector/local_hnsw.py#138\" target=\"_blank\"><span style=\"color: #7f7f7f; text-decoration-color: #7f7f7f\">138</span></a>\n",
       "<span style=\"color: #7fbfbf; text-decoration-color: #7fbfbf\">           </span>         updating n_results = <span style=\"color: #008080; text-decoration-color: #008080; font-weight: bold\">3</span>                                                        <span style=\"color: #7f7f7f; text-decoration-color: #7f7f7f\">                 </span>\n",
       "</pre>\n"
      ],
      "text/plain": [
       "\u001b[2;36m[11:03:53]\u001b[0m\u001b[2;36m \u001b[0m\u001b[33mWARNING \u001b[0m Number of requested results \u001b[1;36m5\u001b[0m is greater than number of elements in index \u001b[1;36m3\u001b[0m,  \u001b]8;id=261483;file:///Users/ashwinaravind/.pyenv/versions/3.12.5/lib/python3.12/site-packages/chromadb/segment/impl/vector/local_hnsw.py\u001b\\\u001b[2mlocal_hnsw.py\u001b[0m\u001b]8;;\u001b\\\u001b[2m:\u001b[0m\u001b]8;id=882403;file:///Users/ashwinaravind/.pyenv/versions/3.12.5/lib/python3.12/site-packages/chromadb/segment/impl/vector/local_hnsw.py#138\u001b\\\u001b[2m138\u001b[0m\u001b]8;;\u001b\\\n",
       "\u001b[2;36m           \u001b[0m         updating n_results = \u001b[1;36m3\u001b[0m                                                        \u001b[2m                 \u001b[0m\n"
      ]
     },
     "metadata": {},
     "output_type": "display_data"
    },
    {
     "data": {
      "text/html": [
       "<pre style=\"white-space:pre;overflow-x:auto;line-height:normal;font-family:Menlo,'DejaVu Sans Mono',consolas,'Courier New',monospace\"><span style=\"color: #7fbfbf; text-decoration-color: #7fbfbf\">           </span><span style=\"color: #808000; text-decoration-color: #808000\">WARNING </span> Number of requested results <span style=\"color: #008080; text-decoration-color: #008080; font-weight: bold\">5</span> is greater than number of elements in index <span style=\"color: #008080; text-decoration-color: #008080; font-weight: bold\">3</span>,  <a href=\"file:///Users/ashwinaravind/.pyenv/versions/3.12.5/lib/python3.12/site-packages/chromadb/segment/impl/vector/local_hnsw.py\" target=\"_blank\"><span style=\"color: #7f7f7f; text-decoration-color: #7f7f7f\">local_hnsw.py</span></a><span style=\"color: #7f7f7f; text-decoration-color: #7f7f7f\">:</span><a href=\"file:///Users/ashwinaravind/.pyenv/versions/3.12.5/lib/python3.12/site-packages/chromadb/segment/impl/vector/local_hnsw.py#138\" target=\"_blank\"><span style=\"color: #7f7f7f; text-decoration-color: #7f7f7f\">138</span></a>\n",
       "<span style=\"color: #7fbfbf; text-decoration-color: #7fbfbf\">           </span>         updating n_results = <span style=\"color: #008080; text-decoration-color: #008080; font-weight: bold\">3</span>                                                        <span style=\"color: #7f7f7f; text-decoration-color: #7f7f7f\">                 </span>\n",
       "</pre>\n"
      ],
      "text/plain": [
       "\u001b[2;36m          \u001b[0m\u001b[2;36m \u001b[0m\u001b[33mWARNING \u001b[0m Number of requested results \u001b[1;36m5\u001b[0m is greater than number of elements in index \u001b[1;36m3\u001b[0m,  \u001b]8;id=705801;file:///Users/ashwinaravind/.pyenv/versions/3.12.5/lib/python3.12/site-packages/chromadb/segment/impl/vector/local_hnsw.py\u001b\\\u001b[2mlocal_hnsw.py\u001b[0m\u001b]8;;\u001b\\\u001b[2m:\u001b[0m\u001b]8;id=457332;file:///Users/ashwinaravind/.pyenv/versions/3.12.5/lib/python3.12/site-packages/chromadb/segment/impl/vector/local_hnsw.py#138\u001b\\\u001b[2m138\u001b[0m\u001b]8;;\u001b\\\n",
       "\u001b[2;36m           \u001b[0m         updating n_results = \u001b[1;36m3\u001b[0m                                                        \u001b[2m                 \u001b[0m\n"
      ]
     },
     "metadata": {},
     "output_type": "display_data"
    },
    {
     "data": {
      "text/html": [
       "<pre style=\"white-space:pre;overflow-x:auto;line-height:normal;font-family:Menlo,'DejaVu Sans Mono',consolas,'Courier New',monospace\"><span style=\"color: #7fbfbf; text-decoration-color: #7fbfbf\">[11:03:54] </span><span style=\"color: #808000; text-decoration-color: #808000\">WARNING </span> Number of requested results <span style=\"color: #008080; text-decoration-color: #008080; font-weight: bold\">5</span> is greater than number of elements in index <span style=\"color: #008080; text-decoration-color: #008080; font-weight: bold\">3</span>,  <a href=\"file:///Users/ashwinaravind/.pyenv/versions/3.12.5/lib/python3.12/site-packages/chromadb/segment/impl/vector/local_hnsw.py\" target=\"_blank\"><span style=\"color: #7f7f7f; text-decoration-color: #7f7f7f\">local_hnsw.py</span></a><span style=\"color: #7f7f7f; text-decoration-color: #7f7f7f\">:</span><a href=\"file:///Users/ashwinaravind/.pyenv/versions/3.12.5/lib/python3.12/site-packages/chromadb/segment/impl/vector/local_hnsw.py#138\" target=\"_blank\"><span style=\"color: #7f7f7f; text-decoration-color: #7f7f7f\">138</span></a>\n",
       "<span style=\"color: #7fbfbf; text-decoration-color: #7fbfbf\">           </span>         updating n_results = <span style=\"color: #008080; text-decoration-color: #008080; font-weight: bold\">3</span>                                                        <span style=\"color: #7f7f7f; text-decoration-color: #7f7f7f\">                 </span>\n",
       "</pre>\n"
      ],
      "text/plain": [
       "\u001b[2;36m[11:03:54]\u001b[0m\u001b[2;36m \u001b[0m\u001b[33mWARNING \u001b[0m Number of requested results \u001b[1;36m5\u001b[0m is greater than number of elements in index \u001b[1;36m3\u001b[0m,  \u001b]8;id=804517;file:///Users/ashwinaravind/.pyenv/versions/3.12.5/lib/python3.12/site-packages/chromadb/segment/impl/vector/local_hnsw.py\u001b\\\u001b[2mlocal_hnsw.py\u001b[0m\u001b]8;;\u001b\\\u001b[2m:\u001b[0m\u001b]8;id=43180;file:///Users/ashwinaravind/.pyenv/versions/3.12.5/lib/python3.12/site-packages/chromadb/segment/impl/vector/local_hnsw.py#138\u001b\\\u001b[2m138\u001b[0m\u001b]8;;\u001b\\\n",
       "\u001b[2;36m           \u001b[0m         updating n_results = \u001b[1;36m3\u001b[0m                                                        \u001b[2m                 \u001b[0m\n"
      ]
     },
     "metadata": {},
     "output_type": "display_data"
    },
    {
     "data": {
      "text/html": [
       "<pre style=\"white-space:pre;overflow-x:auto;line-height:normal;font-family:Menlo,'DejaVu Sans Mono',consolas,'Courier New',monospace\"><span style=\"color: #7fbfbf; text-decoration-color: #7fbfbf\">           </span><span style=\"color: #808000; text-decoration-color: #808000\">WARNING </span> Number of requested results <span style=\"color: #008080; text-decoration-color: #008080; font-weight: bold\">5</span> is greater than number of elements in index <span style=\"color: #008080; text-decoration-color: #008080; font-weight: bold\">3</span>,  <a href=\"file:///Users/ashwinaravind/.pyenv/versions/3.12.5/lib/python3.12/site-packages/chromadb/segment/impl/vector/local_hnsw.py\" target=\"_blank\"><span style=\"color: #7f7f7f; text-decoration-color: #7f7f7f\">local_hnsw.py</span></a><span style=\"color: #7f7f7f; text-decoration-color: #7f7f7f\">:</span><a href=\"file:///Users/ashwinaravind/.pyenv/versions/3.12.5/lib/python3.12/site-packages/chromadb/segment/impl/vector/local_hnsw.py#138\" target=\"_blank\"><span style=\"color: #7f7f7f; text-decoration-color: #7f7f7f\">138</span></a>\n",
       "<span style=\"color: #7fbfbf; text-decoration-color: #7fbfbf\">           </span>         updating n_results = <span style=\"color: #008080; text-decoration-color: #008080; font-weight: bold\">3</span>                                                        <span style=\"color: #7f7f7f; text-decoration-color: #7f7f7f\">                 </span>\n",
       "</pre>\n"
      ],
      "text/plain": [
       "\u001b[2;36m          \u001b[0m\u001b[2;36m \u001b[0m\u001b[33mWARNING \u001b[0m Number of requested results \u001b[1;36m5\u001b[0m is greater than number of elements in index \u001b[1;36m3\u001b[0m,  \u001b]8;id=215809;file:///Users/ashwinaravind/.pyenv/versions/3.12.5/lib/python3.12/site-packages/chromadb/segment/impl/vector/local_hnsw.py\u001b\\\u001b[2mlocal_hnsw.py\u001b[0m\u001b]8;;\u001b\\\u001b[2m:\u001b[0m\u001b]8;id=737172;file:///Users/ashwinaravind/.pyenv/versions/3.12.5/lib/python3.12/site-packages/chromadb/segment/impl/vector/local_hnsw.py#138\u001b\\\u001b[2m138\u001b[0m\u001b]8;;\u001b\\\n",
       "\u001b[2;36m           \u001b[0m         updating n_results = \u001b[1;36m3\u001b[0m                                                        \u001b[2m                 \u001b[0m\n"
      ]
     },
     "metadata": {},
     "output_type": "display_data"
    },
    {
     "data": {
      "text/html": [
       "<pre style=\"white-space:pre;overflow-x:auto;line-height:normal;font-family:Menlo,'DejaVu Sans Mono',consolas,'Courier New',monospace\"><span style=\"color: #7fbfbf; text-decoration-color: #7fbfbf\">           </span><span style=\"color: #808000; text-decoration-color: #808000\">WARNING </span> Number of requested results <span style=\"color: #008080; text-decoration-color: #008080; font-weight: bold\">5</span> is greater than number of elements in index <span style=\"color: #008080; text-decoration-color: #008080; font-weight: bold\">3</span>,  <a href=\"file:///Users/ashwinaravind/.pyenv/versions/3.12.5/lib/python3.12/site-packages/chromadb/segment/impl/vector/local_hnsw.py\" target=\"_blank\"><span style=\"color: #7f7f7f; text-decoration-color: #7f7f7f\">local_hnsw.py</span></a><span style=\"color: #7f7f7f; text-decoration-color: #7f7f7f\">:</span><a href=\"file:///Users/ashwinaravind/.pyenv/versions/3.12.5/lib/python3.12/site-packages/chromadb/segment/impl/vector/local_hnsw.py#138\" target=\"_blank\"><span style=\"color: #7f7f7f; text-decoration-color: #7f7f7f\">138</span></a>\n",
       "<span style=\"color: #7fbfbf; text-decoration-color: #7fbfbf\">           </span>         updating n_results = <span style=\"color: #008080; text-decoration-color: #008080; font-weight: bold\">3</span>                                                        <span style=\"color: #7f7f7f; text-decoration-color: #7f7f7f\">                 </span>\n",
       "</pre>\n"
      ],
      "text/plain": [
       "\u001b[2;36m          \u001b[0m\u001b[2;36m \u001b[0m\u001b[33mWARNING \u001b[0m Number of requested results \u001b[1;36m5\u001b[0m is greater than number of elements in index \u001b[1;36m3\u001b[0m,  \u001b]8;id=768583;file:///Users/ashwinaravind/.pyenv/versions/3.12.5/lib/python3.12/site-packages/chromadb/segment/impl/vector/local_hnsw.py\u001b\\\u001b[2mlocal_hnsw.py\u001b[0m\u001b]8;;\u001b\\\u001b[2m:\u001b[0m\u001b]8;id=779258;file:///Users/ashwinaravind/.pyenv/versions/3.12.5/lib/python3.12/site-packages/chromadb/segment/impl/vector/local_hnsw.py#138\u001b\\\u001b[2m138\u001b[0m\u001b]8;;\u001b\\\n",
       "\u001b[2;36m           \u001b[0m         updating n_results = \u001b[1;36m3\u001b[0m                                                        \u001b[2m                 \u001b[0m\n"
      ]
     },
     "metadata": {},
     "output_type": "display_data"
    },
    {
     "data": {
      "text/html": [
       "<pre style=\"white-space:pre;overflow-x:auto;line-height:normal;font-family:Menlo,'DejaVu Sans Mono',consolas,'Courier New',monospace\"><span style=\"color: #7fbfbf; text-decoration-color: #7fbfbf\">           </span><span style=\"color: #808000; text-decoration-color: #808000\">WARNING </span> Number of requested results <span style=\"color: #008080; text-decoration-color: #008080; font-weight: bold\">5</span> is greater than number of elements in index <span style=\"color: #008080; text-decoration-color: #008080; font-weight: bold\">3</span>,  <a href=\"file:///Users/ashwinaravind/.pyenv/versions/3.12.5/lib/python3.12/site-packages/chromadb/segment/impl/vector/local_hnsw.py\" target=\"_blank\"><span style=\"color: #7f7f7f; text-decoration-color: #7f7f7f\">local_hnsw.py</span></a><span style=\"color: #7f7f7f; text-decoration-color: #7f7f7f\">:</span><a href=\"file:///Users/ashwinaravind/.pyenv/versions/3.12.5/lib/python3.12/site-packages/chromadb/segment/impl/vector/local_hnsw.py#138\" target=\"_blank\"><span style=\"color: #7f7f7f; text-decoration-color: #7f7f7f\">138</span></a>\n",
       "<span style=\"color: #7fbfbf; text-decoration-color: #7fbfbf\">           </span>         updating n_results = <span style=\"color: #008080; text-decoration-color: #008080; font-weight: bold\">3</span>                                                        <span style=\"color: #7f7f7f; text-decoration-color: #7f7f7f\">                 </span>\n",
       "</pre>\n"
      ],
      "text/plain": [
       "\u001b[2;36m          \u001b[0m\u001b[2;36m \u001b[0m\u001b[33mWARNING \u001b[0m Number of requested results \u001b[1;36m5\u001b[0m is greater than number of elements in index \u001b[1;36m3\u001b[0m,  \u001b]8;id=229005;file:///Users/ashwinaravind/.pyenv/versions/3.12.5/lib/python3.12/site-packages/chromadb/segment/impl/vector/local_hnsw.py\u001b\\\u001b[2mlocal_hnsw.py\u001b[0m\u001b]8;;\u001b\\\u001b[2m:\u001b[0m\u001b]8;id=626973;file:///Users/ashwinaravind/.pyenv/versions/3.12.5/lib/python3.12/site-packages/chromadb/segment/impl/vector/local_hnsw.py#138\u001b\\\u001b[2m138\u001b[0m\u001b]8;;\u001b\\\n",
       "\u001b[2;36m           \u001b[0m         updating n_results = \u001b[1;36m3\u001b[0m                                                        \u001b[2m                 \u001b[0m\n"
      ]
     },
     "metadata": {},
     "output_type": "display_data"
    },
    {
     "data": {
      "text/html": [
       "<pre style=\"white-space:pre;overflow-x:auto;line-height:normal;font-family:Menlo,'DejaVu Sans Mono',consolas,'Courier New',monospace\"><span style=\"color: #7fbfbf; text-decoration-color: #7fbfbf\">           </span><span style=\"color: #808000; text-decoration-color: #808000\">WARNING </span> Number of requested results <span style=\"color: #008080; text-decoration-color: #008080; font-weight: bold\">5</span> is greater than number of elements in index <span style=\"color: #008080; text-decoration-color: #008080; font-weight: bold\">3</span>,  <a href=\"file:///Users/ashwinaravind/.pyenv/versions/3.12.5/lib/python3.12/site-packages/chromadb/segment/impl/vector/local_hnsw.py\" target=\"_blank\"><span style=\"color: #7f7f7f; text-decoration-color: #7f7f7f\">local_hnsw.py</span></a><span style=\"color: #7f7f7f; text-decoration-color: #7f7f7f\">:</span><a href=\"file:///Users/ashwinaravind/.pyenv/versions/3.12.5/lib/python3.12/site-packages/chromadb/segment/impl/vector/local_hnsw.py#138\" target=\"_blank\"><span style=\"color: #7f7f7f; text-decoration-color: #7f7f7f\">138</span></a>\n",
       "<span style=\"color: #7fbfbf; text-decoration-color: #7fbfbf\">           </span>         updating n_results = <span style=\"color: #008080; text-decoration-color: #008080; font-weight: bold\">3</span>                                                        <span style=\"color: #7f7f7f; text-decoration-color: #7f7f7f\">                 </span>\n",
       "</pre>\n"
      ],
      "text/plain": [
       "\u001b[2;36m          \u001b[0m\u001b[2;36m \u001b[0m\u001b[33mWARNING \u001b[0m Number of requested results \u001b[1;36m5\u001b[0m is greater than number of elements in index \u001b[1;36m3\u001b[0m,  \u001b]8;id=600870;file:///Users/ashwinaravind/.pyenv/versions/3.12.5/lib/python3.12/site-packages/chromadb/segment/impl/vector/local_hnsw.py\u001b\\\u001b[2mlocal_hnsw.py\u001b[0m\u001b]8;;\u001b\\\u001b[2m:\u001b[0m\u001b]8;id=642816;file:///Users/ashwinaravind/.pyenv/versions/3.12.5/lib/python3.12/site-packages/chromadb/segment/impl/vector/local_hnsw.py#138\u001b\\\u001b[2m138\u001b[0m\u001b]8;;\u001b\\\n",
       "\u001b[2;36m           \u001b[0m         updating n_results = \u001b[1;36m3\u001b[0m                                                        \u001b[2m                 \u001b[0m\n"
      ]
     },
     "metadata": {},
     "output_type": "display_data"
    },
    {
     "data": {
      "text/html": [
       "<pre style=\"white-space:pre;overflow-x:auto;line-height:normal;font-family:Menlo,'DejaVu Sans Mono',consolas,'Courier New',monospace\"><span style=\"color: #7fbfbf; text-decoration-color: #7fbfbf\">           </span><span style=\"color: #808000; text-decoration-color: #808000\">WARNING </span> Number of requested results <span style=\"color: #008080; text-decoration-color: #008080; font-weight: bold\">5</span> is greater than number of elements in index <span style=\"color: #008080; text-decoration-color: #008080; font-weight: bold\">3</span>,  <a href=\"file:///Users/ashwinaravind/.pyenv/versions/3.12.5/lib/python3.12/site-packages/chromadb/segment/impl/vector/local_hnsw.py\" target=\"_blank\"><span style=\"color: #7f7f7f; text-decoration-color: #7f7f7f\">local_hnsw.py</span></a><span style=\"color: #7f7f7f; text-decoration-color: #7f7f7f\">:</span><a href=\"file:///Users/ashwinaravind/.pyenv/versions/3.12.5/lib/python3.12/site-packages/chromadb/segment/impl/vector/local_hnsw.py#138\" target=\"_blank\"><span style=\"color: #7f7f7f; text-decoration-color: #7f7f7f\">138</span></a>\n",
       "<span style=\"color: #7fbfbf; text-decoration-color: #7fbfbf\">           </span>         updating n_results = <span style=\"color: #008080; text-decoration-color: #008080; font-weight: bold\">3</span>                                                        <span style=\"color: #7f7f7f; text-decoration-color: #7f7f7f\">                 </span>\n",
       "</pre>\n"
      ],
      "text/plain": [
       "\u001b[2;36m          \u001b[0m\u001b[2;36m \u001b[0m\u001b[33mWARNING \u001b[0m Number of requested results \u001b[1;36m5\u001b[0m is greater than number of elements in index \u001b[1;36m3\u001b[0m,  \u001b]8;id=732553;file:///Users/ashwinaravind/.pyenv/versions/3.12.5/lib/python3.12/site-packages/chromadb/segment/impl/vector/local_hnsw.py\u001b\\\u001b[2mlocal_hnsw.py\u001b[0m\u001b]8;;\u001b\\\u001b[2m:\u001b[0m\u001b]8;id=604924;file:///Users/ashwinaravind/.pyenv/versions/3.12.5/lib/python3.12/site-packages/chromadb/segment/impl/vector/local_hnsw.py#138\u001b\\\u001b[2m138\u001b[0m\u001b]8;;\u001b\\\n",
       "\u001b[2;36m           \u001b[0m         updating n_results = \u001b[1;36m3\u001b[0m                                                        \u001b[2m                 \u001b[0m\n"
      ]
     },
     "metadata": {},
     "output_type": "display_data"
    },
    {
     "data": {
      "text/html": [
       "<pre style=\"white-space:pre;overflow-x:auto;line-height:normal;font-family:Menlo,'DejaVu Sans Mono',consolas,'Courier New',monospace\"><span style=\"color: #7fbfbf; text-decoration-color: #7fbfbf\">[11:03:55] </span><span style=\"color: #808000; text-decoration-color: #808000\">WARNING </span> Number of requested results <span style=\"color: #008080; text-decoration-color: #008080; font-weight: bold\">5</span> is greater than number of elements in index <span style=\"color: #008080; text-decoration-color: #008080; font-weight: bold\">3</span>,  <a href=\"file:///Users/ashwinaravind/.pyenv/versions/3.12.5/lib/python3.12/site-packages/chromadb/segment/impl/vector/local_hnsw.py\" target=\"_blank\"><span style=\"color: #7f7f7f; text-decoration-color: #7f7f7f\">local_hnsw.py</span></a><span style=\"color: #7f7f7f; text-decoration-color: #7f7f7f\">:</span><a href=\"file:///Users/ashwinaravind/.pyenv/versions/3.12.5/lib/python3.12/site-packages/chromadb/segment/impl/vector/local_hnsw.py#138\" target=\"_blank\"><span style=\"color: #7f7f7f; text-decoration-color: #7f7f7f\">138</span></a>\n",
       "<span style=\"color: #7fbfbf; text-decoration-color: #7fbfbf\">           </span>         updating n_results = <span style=\"color: #008080; text-decoration-color: #008080; font-weight: bold\">3</span>                                                        <span style=\"color: #7f7f7f; text-decoration-color: #7f7f7f\">                 </span>\n",
       "</pre>\n"
      ],
      "text/plain": [
       "\u001b[2;36m[11:03:55]\u001b[0m\u001b[2;36m \u001b[0m\u001b[33mWARNING \u001b[0m Number of requested results \u001b[1;36m5\u001b[0m is greater than number of elements in index \u001b[1;36m3\u001b[0m,  \u001b]8;id=712418;file:///Users/ashwinaravind/.pyenv/versions/3.12.5/lib/python3.12/site-packages/chromadb/segment/impl/vector/local_hnsw.py\u001b\\\u001b[2mlocal_hnsw.py\u001b[0m\u001b]8;;\u001b\\\u001b[2m:\u001b[0m\u001b]8;id=621094;file:///Users/ashwinaravind/.pyenv/versions/3.12.5/lib/python3.12/site-packages/chromadb/segment/impl/vector/local_hnsw.py#138\u001b\\\u001b[2m138\u001b[0m\u001b]8;;\u001b\\\n",
       "\u001b[2;36m           \u001b[0m         updating n_results = \u001b[1;36m3\u001b[0m                                                        \u001b[2m                 \u001b[0m\n"
      ]
     },
     "metadata": {},
     "output_type": "display_data"
    },
    {
     "data": {
      "text/html": [
       "<pre style=\"white-space:pre;overflow-x:auto;line-height:normal;font-family:Menlo,'DejaVu Sans Mono',consolas,'Courier New',monospace\"><span style=\"color: #7fbfbf; text-decoration-color: #7fbfbf\">           </span><span style=\"color: #808000; text-decoration-color: #808000\">WARNING </span> Number of requested results <span style=\"color: #008080; text-decoration-color: #008080; font-weight: bold\">5</span> is greater than number of elements in index <span style=\"color: #008080; text-decoration-color: #008080; font-weight: bold\">3</span>,  <a href=\"file:///Users/ashwinaravind/.pyenv/versions/3.12.5/lib/python3.12/site-packages/chromadb/segment/impl/vector/local_hnsw.py\" target=\"_blank\"><span style=\"color: #7f7f7f; text-decoration-color: #7f7f7f\">local_hnsw.py</span></a><span style=\"color: #7f7f7f; text-decoration-color: #7f7f7f\">:</span><a href=\"file:///Users/ashwinaravind/.pyenv/versions/3.12.5/lib/python3.12/site-packages/chromadb/segment/impl/vector/local_hnsw.py#138\" target=\"_blank\"><span style=\"color: #7f7f7f; text-decoration-color: #7f7f7f\">138</span></a>\n",
       "<span style=\"color: #7fbfbf; text-decoration-color: #7fbfbf\">           </span>         updating n_results = <span style=\"color: #008080; text-decoration-color: #008080; font-weight: bold\">3</span>                                                        <span style=\"color: #7f7f7f; text-decoration-color: #7f7f7f\">                 </span>\n",
       "</pre>\n"
      ],
      "text/plain": [
       "\u001b[2;36m          \u001b[0m\u001b[2;36m \u001b[0m\u001b[33mWARNING \u001b[0m Number of requested results \u001b[1;36m5\u001b[0m is greater than number of elements in index \u001b[1;36m3\u001b[0m,  \u001b]8;id=545505;file:///Users/ashwinaravind/.pyenv/versions/3.12.5/lib/python3.12/site-packages/chromadb/segment/impl/vector/local_hnsw.py\u001b\\\u001b[2mlocal_hnsw.py\u001b[0m\u001b]8;;\u001b\\\u001b[2m:\u001b[0m\u001b]8;id=254132;file:///Users/ashwinaravind/.pyenv/versions/3.12.5/lib/python3.12/site-packages/chromadb/segment/impl/vector/local_hnsw.py#138\u001b\\\u001b[2m138\u001b[0m\u001b]8;;\u001b\\\n",
       "\u001b[2;36m           \u001b[0m         updating n_results = \u001b[1;36m3\u001b[0m                                                        \u001b[2m                 \u001b[0m\n"
      ]
     },
     "metadata": {},
     "output_type": "display_data"
    },
    {
     "data": {
      "text/html": [
       "<pre style=\"white-space:pre;overflow-x:auto;line-height:normal;font-family:Menlo,'DejaVu Sans Mono',consolas,'Courier New',monospace\"><span style=\"color: #7fbfbf; text-decoration-color: #7fbfbf\">           </span><span style=\"color: #808000; text-decoration-color: #808000\">WARNING </span> Number of requested results <span style=\"color: #008080; text-decoration-color: #008080; font-weight: bold\">5</span> is greater than number of elements in index <span style=\"color: #008080; text-decoration-color: #008080; font-weight: bold\">3</span>,  <a href=\"file:///Users/ashwinaravind/.pyenv/versions/3.12.5/lib/python3.12/site-packages/chromadb/segment/impl/vector/local_hnsw.py\" target=\"_blank\"><span style=\"color: #7f7f7f; text-decoration-color: #7f7f7f\">local_hnsw.py</span></a><span style=\"color: #7f7f7f; text-decoration-color: #7f7f7f\">:</span><a href=\"file:///Users/ashwinaravind/.pyenv/versions/3.12.5/lib/python3.12/site-packages/chromadb/segment/impl/vector/local_hnsw.py#138\" target=\"_blank\"><span style=\"color: #7f7f7f; text-decoration-color: #7f7f7f\">138</span></a>\n",
       "<span style=\"color: #7fbfbf; text-decoration-color: #7fbfbf\">           </span>         updating n_results = <span style=\"color: #008080; text-decoration-color: #008080; font-weight: bold\">3</span>                                                        <span style=\"color: #7f7f7f; text-decoration-color: #7f7f7f\">                 </span>\n",
       "</pre>\n"
      ],
      "text/plain": [
       "\u001b[2;36m          \u001b[0m\u001b[2;36m \u001b[0m\u001b[33mWARNING \u001b[0m Number of requested results \u001b[1;36m5\u001b[0m is greater than number of elements in index \u001b[1;36m3\u001b[0m,  \u001b]8;id=22768;file:///Users/ashwinaravind/.pyenv/versions/3.12.5/lib/python3.12/site-packages/chromadb/segment/impl/vector/local_hnsw.py\u001b\\\u001b[2mlocal_hnsw.py\u001b[0m\u001b]8;;\u001b\\\u001b[2m:\u001b[0m\u001b]8;id=840923;file:///Users/ashwinaravind/.pyenv/versions/3.12.5/lib/python3.12/site-packages/chromadb/segment/impl/vector/local_hnsw.py#138\u001b\\\u001b[2m138\u001b[0m\u001b]8;;\u001b\\\n",
       "\u001b[2;36m           \u001b[0m         updating n_results = \u001b[1;36m3\u001b[0m                                                        \u001b[2m                 \u001b[0m\n"
      ]
     },
     "metadata": {},
     "output_type": "display_data"
    },
    {
     "data": {
      "text/html": [
       "<pre style=\"white-space:pre;overflow-x:auto;line-height:normal;font-family:Menlo,'DejaVu Sans Mono',consolas,'Courier New',monospace\"><span style=\"color: #7fbfbf; text-decoration-color: #7fbfbf\">           </span><span style=\"color: #808000; text-decoration-color: #808000\">WARNING </span> Number of requested results <span style=\"color: #008080; text-decoration-color: #008080; font-weight: bold\">5</span> is greater than number of elements in index <span style=\"color: #008080; text-decoration-color: #008080; font-weight: bold\">3</span>,  <a href=\"file:///Users/ashwinaravind/.pyenv/versions/3.12.5/lib/python3.12/site-packages/chromadb/segment/impl/vector/local_hnsw.py\" target=\"_blank\"><span style=\"color: #7f7f7f; text-decoration-color: #7f7f7f\">local_hnsw.py</span></a><span style=\"color: #7f7f7f; text-decoration-color: #7f7f7f\">:</span><a href=\"file:///Users/ashwinaravind/.pyenv/versions/3.12.5/lib/python3.12/site-packages/chromadb/segment/impl/vector/local_hnsw.py#138\" target=\"_blank\"><span style=\"color: #7f7f7f; text-decoration-color: #7f7f7f\">138</span></a>\n",
       "<span style=\"color: #7fbfbf; text-decoration-color: #7fbfbf\">           </span>         updating n_results = <span style=\"color: #008080; text-decoration-color: #008080; font-weight: bold\">3</span>                                                        <span style=\"color: #7f7f7f; text-decoration-color: #7f7f7f\">                 </span>\n",
       "</pre>\n"
      ],
      "text/plain": [
       "\u001b[2;36m          \u001b[0m\u001b[2;36m \u001b[0m\u001b[33mWARNING \u001b[0m Number of requested results \u001b[1;36m5\u001b[0m is greater than number of elements in index \u001b[1;36m3\u001b[0m,  \u001b]8;id=140825;file:///Users/ashwinaravind/.pyenv/versions/3.12.5/lib/python3.12/site-packages/chromadb/segment/impl/vector/local_hnsw.py\u001b\\\u001b[2mlocal_hnsw.py\u001b[0m\u001b]8;;\u001b\\\u001b[2m:\u001b[0m\u001b]8;id=59360;file:///Users/ashwinaravind/.pyenv/versions/3.12.5/lib/python3.12/site-packages/chromadb/segment/impl/vector/local_hnsw.py#138\u001b\\\u001b[2m138\u001b[0m\u001b]8;;\u001b\\\n",
       "\u001b[2;36m           \u001b[0m         updating n_results = \u001b[1;36m3\u001b[0m                                                        \u001b[2m                 \u001b[0m\n"
      ]
     },
     "metadata": {},
     "output_type": "display_data"
    },
    {
     "data": {
      "text/html": [
       "<pre style=\"white-space:pre;overflow-x:auto;line-height:normal;font-family:Menlo,'DejaVu Sans Mono',consolas,'Courier New',monospace\"><span style=\"color: #7fbfbf; text-decoration-color: #7fbfbf\">           </span><span style=\"color: #808000; text-decoration-color: #808000\">WARNING </span> Number of requested results <span style=\"color: #008080; text-decoration-color: #008080; font-weight: bold\">5</span> is greater than number of elements in index <span style=\"color: #008080; text-decoration-color: #008080; font-weight: bold\">3</span>,  <a href=\"file:///Users/ashwinaravind/.pyenv/versions/3.12.5/lib/python3.12/site-packages/chromadb/segment/impl/vector/local_hnsw.py\" target=\"_blank\"><span style=\"color: #7f7f7f; text-decoration-color: #7f7f7f\">local_hnsw.py</span></a><span style=\"color: #7f7f7f; text-decoration-color: #7f7f7f\">:</span><a href=\"file:///Users/ashwinaravind/.pyenv/versions/3.12.5/lib/python3.12/site-packages/chromadb/segment/impl/vector/local_hnsw.py#138\" target=\"_blank\"><span style=\"color: #7f7f7f; text-decoration-color: #7f7f7f\">138</span></a>\n",
       "<span style=\"color: #7fbfbf; text-decoration-color: #7fbfbf\">           </span>         updating n_results = <span style=\"color: #008080; text-decoration-color: #008080; font-weight: bold\">3</span>                                                        <span style=\"color: #7f7f7f; text-decoration-color: #7f7f7f\">                 </span>\n",
       "</pre>\n"
      ],
      "text/plain": [
       "\u001b[2;36m          \u001b[0m\u001b[2;36m \u001b[0m\u001b[33mWARNING \u001b[0m Number of requested results \u001b[1;36m5\u001b[0m is greater than number of elements in index \u001b[1;36m3\u001b[0m,  \u001b]8;id=194783;file:///Users/ashwinaravind/.pyenv/versions/3.12.5/lib/python3.12/site-packages/chromadb/segment/impl/vector/local_hnsw.py\u001b\\\u001b[2mlocal_hnsw.py\u001b[0m\u001b]8;;\u001b\\\u001b[2m:\u001b[0m\u001b]8;id=769430;file:///Users/ashwinaravind/.pyenv/versions/3.12.5/lib/python3.12/site-packages/chromadb/segment/impl/vector/local_hnsw.py#138\u001b\\\u001b[2m138\u001b[0m\u001b]8;;\u001b\\\n",
       "\u001b[2;36m           \u001b[0m         updating n_results = \u001b[1;36m3\u001b[0m                                                        \u001b[2m                 \u001b[0m\n"
      ]
     },
     "metadata": {},
     "output_type": "display_data"
    },
    {
     "data": {
      "text/html": [
       "<pre style=\"white-space:pre;overflow-x:auto;line-height:normal;font-family:Menlo,'DejaVu Sans Mono',consolas,'Courier New',monospace\"><span style=\"color: #008000; text-decoration-color: #008000\">Trial Score:</span> <span style=\"color: #00ffff; text-decoration-color: #00ffff; font-weight: bold\">0.0000</span>\n",
       "</pre>\n"
      ],
      "text/plain": [
       "\u001b[32mTrial Score:\u001b[0m \u001b[1;96m0.0000\u001b[0m\n"
      ]
     },
     "metadata": {},
     "output_type": "display_data"
    },
    {
     "name": "stdout",
     "output_type": "stream",
     "text": [
      "[I 2024-12-14 11:03:56,269] Trial 0 finished with value: 0.0 and parameters: {'chunk_size': 2000}. Best is trial 0 with value: 0.0.\n"
     ]
    },
    {
     "data": {
      "text/html": [
       "<pre style=\"white-space:pre;overflow-x:auto;line-height:normal;font-family:Menlo,'DejaVu Sans Mono',consolas,'Courier New',monospace\"><span style=\"color: #005fff; text-decoration-color: #005fff; font-weight: bold\">Optimization Complete!</span>\n",
       "</pre>\n"
      ],
      "text/plain": [
       "\u001b[1;38;5;27mOptimization Complete!\u001b[0m\n"
      ]
     },
     "metadata": {},
     "output_type": "display_data"
    },
    {
     "data": {
      "text/html": [
       "<pre style=\"white-space:pre;overflow-x:auto;line-height:normal;font-family:Menlo,'DejaVu Sans Mono',consolas,'Courier New',monospace\"><span style=\"color: #008000; text-decoration-color: #008000\">Best Score:</span> <span style=\"color: #00ffff; text-decoration-color: #00ffff; font-weight: bold\">0.0000</span>\n",
       "</pre>\n"
      ],
      "text/plain": [
       "\u001b[32mBest Score:\u001b[0m \u001b[1;96m0.0000\u001b[0m\n"
      ]
     },
     "metadata": {},
     "output_type": "display_data"
    },
    {
     "data": {
      "text/html": [
       "<pre style=\"white-space:pre;overflow-x:auto;line-height:normal;font-family:Menlo,'DejaVu Sans Mono',consolas,'Courier New',monospace\"><span style=\"color: #008000; text-decoration-color: #008000\">Best Parameters:</span>\n",
       "</pre>\n"
      ],
      "text/plain": [
       "\u001b[32mBest Parameters:\u001b[0m\n"
      ]
     },
     "metadata": {},
     "output_type": "display_data"
    },
    {
     "data": {
      "text/html": [
       "<pre style=\"white-space:pre;overflow-x:auto;line-height:normal;font-family:Menlo,'DejaVu Sans Mono',consolas,'Courier New',monospace\"><span style=\"color: #00ffff; text-decoration-color: #00ffff; font-weight: bold\">{</span><span style=\"color: #008000; text-decoration-color: #008000\">'chunk_size'</span><span style=\"color: #00ffff; text-decoration-color: #00ffff\">: </span><span style=\"color: #008080; text-decoration-color: #008080; font-weight: bold\">2000</span><span style=\"color: #00ffff; text-decoration-color: #00ffff; font-weight: bold\">}</span>\n",
       "</pre>\n"
      ],
      "text/plain": [
       "\u001b[1;96m{\u001b[0m\u001b[32m'chunk_size'\u001b[0m\u001b[96m: \u001b[0m\u001b[1;36m2000\u001b[0m\u001b[1;96m}\u001b[0m\n"
      ]
     },
     "metadata": {},
     "output_type": "display_data"
    },
    {
     "data": {
      "text/html": [
       "<pre style=\"white-space:pre;overflow-x:auto;line-height:normal;font-family:Menlo,'DejaVu Sans Mono',consolas,'Courier New',monospace\"><span style=\"color: #7fbfbf; text-decoration-color: #7fbfbf\">[11:03:56] </span><span style=\"color: #000080; text-decoration-color: #000080\">INFO    </span> Load pretrained SentenceTransformer:                                 <a href=\"file:///Users/ashwinaravind/.pyenv/versions/3.12.5/lib/python3.12/site-packages/sentence_transformers/SentenceTransformer.py\" target=\"_blank\"><span style=\"color: #7f7f7f; text-decoration-color: #7f7f7f\">SentenceTransformer.py</span></a><span style=\"color: #7f7f7f; text-decoration-color: #7f7f7f\">:</span><a href=\"file:///Users/ashwinaravind/.pyenv/versions/3.12.5/lib/python3.12/site-packages/sentence_transformers/SentenceTransformer.py#113\" target=\"_blank\"><span style=\"color: #7f7f7f; text-decoration-color: #7f7f7f\">113</span></a>\n",
       "<span style=\"color: #7fbfbf; text-decoration-color: #7fbfbf\">           </span>         mixedbread-ai/mxbai-embed-large-v1                                   <span style=\"color: #7f7f7f; text-decoration-color: #7f7f7f\">                          </span>\n",
       "</pre>\n"
      ],
      "text/plain": [
       "\u001b[2;36m[11:03:56]\u001b[0m\u001b[2;36m \u001b[0m\u001b[34mINFO    \u001b[0m Load pretrained SentenceTransformer:                                 \u001b]8;id=302048;file:///Users/ashwinaravind/.pyenv/versions/3.12.5/lib/python3.12/site-packages/sentence_transformers/SentenceTransformer.py\u001b\\\u001b[2mSentenceTransformer.py\u001b[0m\u001b]8;;\u001b\\\u001b[2m:\u001b[0m\u001b]8;id=137964;file:///Users/ashwinaravind/.pyenv/versions/3.12.5/lib/python3.12/site-packages/sentence_transformers/SentenceTransformer.py#113\u001b\\\u001b[2m113\u001b[0m\u001b]8;;\u001b\\\n",
       "\u001b[2;36m           \u001b[0m         mixedbread-ai/mxbai-embed-large-v1                                   \u001b[2m                          \u001b[0m\n"
      ]
     },
     "metadata": {},
     "output_type": "display_data"
    },
    {
     "data": {
      "text/html": [
       "<pre style=\"white-space:pre;overflow-x:auto;line-height:normal;font-family:Menlo,'DejaVu Sans Mono',consolas,'Courier New',monospace\"><span style=\"color: #7fbfbf; text-decoration-color: #7fbfbf\">[11:03:58] </span><span style=\"color: #000080; text-decoration-color: #000080\">INFO    </span> Use pytorch device_name: mps                                         <a href=\"file:///Users/ashwinaravind/.pyenv/versions/3.12.5/lib/python3.12/site-packages/sentence_transformers/SentenceTransformer.py\" target=\"_blank\"><span style=\"color: #7f7f7f; text-decoration-color: #7f7f7f\">SentenceTransformer.py</span></a><span style=\"color: #7f7f7f; text-decoration-color: #7f7f7f\">:</span><a href=\"file:///Users/ashwinaravind/.pyenv/versions/3.12.5/lib/python3.12/site-packages/sentence_transformers/SentenceTransformer.py#219\" target=\"_blank\"><span style=\"color: #7f7f7f; text-decoration-color: #7f7f7f\">219</span></a>\n",
       "</pre>\n"
      ],
      "text/plain": [
       "\u001b[2;36m[11:03:58]\u001b[0m\u001b[2;36m \u001b[0m\u001b[34mINFO    \u001b[0m Use pytorch device_name: mps                                         \u001b]8;id=14459;file:///Users/ashwinaravind/.pyenv/versions/3.12.5/lib/python3.12/site-packages/sentence_transformers/SentenceTransformer.py\u001b\\\u001b[2mSentenceTransformer.py\u001b[0m\u001b]8;;\u001b\\\u001b[2m:\u001b[0m\u001b]8;id=320321;file:///Users/ashwinaravind/.pyenv/versions/3.12.5/lib/python3.12/site-packages/sentence_transformers/SentenceTransformer.py#219\u001b\\\u001b[2m219\u001b[0m\u001b]8;;\u001b\\\n"
      ]
     },
     "metadata": {},
     "output_type": "display_data"
    },
    {
     "data": {
      "text/html": [
       "<pre style=\"white-space:pre;overflow-x:auto;line-height:normal;font-family:Menlo,'DejaVu Sans Mono',consolas,'Courier New',monospace\"><span style=\"color: #7fbfbf; text-decoration-color: #7fbfbf\">           </span><span style=\"color: #000080; text-decoration-color: #000080\">INFO    </span> <span style=\"color: #008080; text-decoration-color: #008080; font-weight: bold\">2</span> prompts are loaded, with the keys: <span style=\"font-weight: bold\">[</span><span style=\"color: #008000; text-decoration-color: #008000\">'query'</span>, <span style=\"color: #008000; text-decoration-color: #008000\">'passage'</span><span style=\"font-weight: bold\">]</span>            <a href=\"file:///Users/ashwinaravind/.pyenv/versions/3.12.5/lib/python3.12/site-packages/sentence_transformers/SentenceTransformer.py\" target=\"_blank\"><span style=\"color: #7f7f7f; text-decoration-color: #7f7f7f\">SentenceTransformer.py</span></a><span style=\"color: #7f7f7f; text-decoration-color: #7f7f7f\">:</span><a href=\"file:///Users/ashwinaravind/.pyenv/versions/3.12.5/lib/python3.12/site-packages/sentence_transformers/SentenceTransformer.py#231\" target=\"_blank\"><span style=\"color: #7f7f7f; text-decoration-color: #7f7f7f\">231</span></a>\n",
       "</pre>\n"
      ],
      "text/plain": [
       "\u001b[2;36m          \u001b[0m\u001b[2;36m \u001b[0m\u001b[34mINFO    \u001b[0m \u001b[1;36m2\u001b[0m prompts are loaded, with the keys: \u001b[1m[\u001b[0m\u001b[32m'query'\u001b[0m, \u001b[32m'passage'\u001b[0m\u001b[1m]\u001b[0m            \u001b]8;id=482003;file:///Users/ashwinaravind/.pyenv/versions/3.12.5/lib/python3.12/site-packages/sentence_transformers/SentenceTransformer.py\u001b\\\u001b[2mSentenceTransformer.py\u001b[0m\u001b]8;;\u001b\\\u001b[2m:\u001b[0m\u001b]8;id=902061;file:///Users/ashwinaravind/.pyenv/versions/3.12.5/lib/python3.12/site-packages/sentence_transformers/SentenceTransformer.py#231\u001b\\\u001b[2m231\u001b[0m\u001b]8;;\u001b\\\n"
      ]
     },
     "metadata": {},
     "output_type": "display_data"
    },
    {
     "data": {
      "text/html": [
       "<pre style=\"white-space:pre;overflow-x:auto;line-height:normal;font-family:Menlo,'DejaVu Sans Mono',consolas,'Courier New',monospace\"><span style=\"color: #7fbfbf; text-decoration-color: #7fbfbf\">           </span><span style=\"color: #000080; text-decoration-color: #000080\">INFO    </span> Using cached documents for loader: ParserType.UNSTRUCTURED                       <a href=\"file:///Users/ashwinaravind/Desktop/kruxgitrepo/ragbuilder/src/ragbuilder/data_ingest/pipeline.py\" target=\"_blank\"><span style=\"color: #7f7f7f; text-decoration-color: #7f7f7f\">pipeline.py</span></a><span style=\"color: #7f7f7f; text-decoration-color: #7f7f7f\">:</span><a href=\"file:///Users/ashwinaravind/Desktop/kruxgitrepo/ragbuilder/src/ragbuilder/data_ingest/pipeline.py#78\" target=\"_blank\"><span style=\"color: #7f7f7f; text-decoration-color: #7f7f7f\">78</span></a>\n",
       "</pre>\n"
      ],
      "text/plain": [
       "\u001b[2;36m          \u001b[0m\u001b[2;36m \u001b[0m\u001b[34mINFO    \u001b[0m Using cached documents for loader: ParserType.UNSTRUCTURED                       \u001b]8;id=378118;file:///Users/ashwinaravind/Desktop/kruxgitrepo/ragbuilder/src/ragbuilder/data_ingest/pipeline.py\u001b\\\u001b[2mpipeline.py\u001b[0m\u001b]8;;\u001b\\\u001b[2m:\u001b[0m\u001b]8;id=472015;file:///Users/ashwinaravind/Desktop/kruxgitrepo/ragbuilder/src/ragbuilder/data_ingest/pipeline.py#78\u001b\\\u001b[2m78\u001b[0m\u001b]8;;\u001b\\\n"
      ]
     },
     "metadata": {},
     "output_type": "display_data"
    },
    {
     "data": {
      "text/html": [
       "<pre style=\"white-space:pre;overflow-x:auto;line-height:normal;font-family:Menlo,'DejaVu Sans Mono',consolas,'Courier New',monospace\"><span style=\"color: #7fbfbf; text-decoration-color: #7fbfbf\">           </span><span style=\"color: #000080; text-decoration-color: #000080\">INFO    </span> Using cached vectorstore for config:                                            <a href=\"file:///Users/ashwinaravind/Desktop/kruxgitrepo/ragbuilder/src/ragbuilder/data_ingest/pipeline.py\" target=\"_blank\"><span style=\"color: #7f7f7f; text-decoration-color: #7f7f7f\">pipeline.py</span></a><span style=\"color: #7f7f7f; text-decoration-color: #7f7f7f\">:</span><a href=\"file:///Users/ashwinaravind/Desktop/kruxgitrepo/ragbuilder/src/ragbuilder/data_ingest/pipeline.py#273\" target=\"_blank\"><span style=\"color: #7f7f7f; text-decoration-color: #7f7f7f\">273</span></a>\n",
       "<span style=\"color: #7fbfbf; text-decoration-color: #7fbfbf\">           </span>         loader_loader_ParserType.UNSTRUCTURED_<span style=\"color: #0000ff; text-decoration-color: #0000ff; text-decoration: underline\">https://github.com/ashwinaravind/ashwinar</span> <span style=\"color: #7f7f7f; text-decoration-color: #7f7f7f\">               </span>\n",
       "<span style=\"color: #7fbfbf; text-decoration-color: #7fbfbf\">           </span>         <span style=\"color: #0000ff; text-decoration-color: #0000ff; text-decoration: underline\">avind.github.io/blob/main/thevanishingtown_5740354900026072187_chunker_Chunking</span> <span style=\"color: #7f7f7f; text-decoration-color: #7f7f7f\">               </span>\n",
       "<span style=\"color: #7fbfbf; text-decoration-color: #7fbfbf\">           </span>         <span style=\"color: #0000ff; text-decoration-color: #0000ff; text-decoration: underline\">Strategy.RECURSIVE_2000_100_embedder_EmbeddingModel.HUGGINGFACE_vectordb_Vector</span> <span style=\"color: #7f7f7f; text-decoration-color: #7f7f7f\">               </span>\n",
       "<span style=\"color: #7fbfbf; text-decoration-color: #7fbfbf\">           </span>         <span style=\"color: #0000ff; text-decoration-color: #0000ff; text-decoration: underline\">Database.CHROMA_embedder_kwargs_5087415441264439699_vectordb_kwargs_35680426734</span> <span style=\"color: #7f7f7f; text-decoration-color: #7f7f7f\">               </span>\n",
       "<span style=\"color: #7fbfbf; text-decoration-color: #7fbfbf\">           </span>         <span style=\"color: #0000ff; text-decoration-color: #0000ff; text-decoration: underline\">61558186</span>                                                                        <span style=\"color: #7f7f7f; text-decoration-color: #7f7f7f\">               </span>\n",
       "</pre>\n"
      ],
      "text/plain": [
       "\u001b[2;36m          \u001b[0m\u001b[2;36m \u001b[0m\u001b[34mINFO    \u001b[0m Using cached vectorstore for config:                                            \u001b]8;id=200614;file:///Users/ashwinaravind/Desktop/kruxgitrepo/ragbuilder/src/ragbuilder/data_ingest/pipeline.py\u001b\\\u001b[2mpipeline.py\u001b[0m\u001b]8;;\u001b\\\u001b[2m:\u001b[0m\u001b]8;id=778911;file:///Users/ashwinaravind/Desktop/kruxgitrepo/ragbuilder/src/ragbuilder/data_ingest/pipeline.py#273\u001b\\\u001b[2m273\u001b[0m\u001b]8;;\u001b\\\n",
       "\u001b[2;36m           \u001b[0m         loader_loader_ParserType.UNSTRUCTURED_\u001b[4;94mhttps://github.com/ashwinaravind/ashwinar\u001b[0m \u001b[2m               \u001b[0m\n",
       "\u001b[2;36m           \u001b[0m         \u001b[4;94mavind.github.io/blob/main/thevanishingtown_5740354900026072187_chunker_Chunking\u001b[0m \u001b[2m               \u001b[0m\n",
       "\u001b[2;36m           \u001b[0m         \u001b[4;94mStrategy.RECURSIVE_2000_100_embedder_EmbeddingModel.HUGGINGFACE_vectordb_Vector\u001b[0m \u001b[2m               \u001b[0m\n",
       "\u001b[2;36m           \u001b[0m         \u001b[4;94mDatabase.CHROMA_embedder_kwargs_5087415441264439699_vectordb_kwargs_35680426734\u001b[0m \u001b[2m               \u001b[0m\n",
       "\u001b[2;36m           \u001b[0m         \u001b[4;94m61558186\u001b[0m                                                                        \u001b[2m               \u001b[0m\n"
      ]
     },
     "metadata": {},
     "output_type": "display_data"
    },
    {
     "data": {
      "text/html": [
       "<pre style=\"white-space:pre;overflow-x:auto;line-height:normal;font-family:Menlo,'DejaVu Sans Mono',consolas,'Courier New',monospace\"></pre>\n"
      ],
      "text/plain": []
     },
     "metadata": {},
     "output_type": "display_data"
    },
    {
     "data": {
      "text/html": [
       "<pre style=\"white-space:pre;overflow-x:auto;line-height:normal;font-family:Menlo,'DejaVu Sans Mono',consolas,'Courier New',monospace\"><span style=\"color: #008000; text-decoration-color: #008000\">✓ Successfully optimized and cached best configuration</span>\n",
       "</pre>\n"
      ],
      "text/plain": [
       "\u001b[32m✓ Successfully optimized and cached best configuration\u001b[0m\n"
      ]
     },
     "metadata": {},
     "output_type": "display_data"
    },
    {
     "data": {
      "text/html": [
       "<pre style=\"white-space:pre;overflow-x:auto;line-height:normal;font-family:Menlo,'DejaVu Sans Mono',consolas,'Courier New',monospace\"><span style=\"color: #7fbfbf; text-decoration-color: #7fbfbf\">           </span><span style=\"color: #000080; text-decoration-color: #000080\">INFO    </span> Reusing test dataset from data ingestion:                                         <a href=\"file:///Users/ashwinaravind/Desktop/kruxgitrepo/ragbuilder/src/ragbuilder/core/builder.py\" target=\"_blank\"><span style=\"color: #7f7f7f; text-decoration-color: #7f7f7f\">builder.py</span></a><span style=\"color: #7f7f7f; text-decoration-color: #7f7f7f\">:</span><a href=\"file:///Users/ashwinaravind/Desktop/kruxgitrepo/ragbuilder/src/ragbuilder/core/builder.py#85\" target=\"_blank\"><span style=\"color: #7f7f7f; text-decoration-color: #7f7f7f\">85</span></a>\n",
       "<span style=\"color: #7fbfbf; text-decoration-color: #7fbfbf\">           </span>         <span style=\"color: #800080; text-decoration-color: #800080\">/Users/ashwinaravind/Desktop/kruxgitrepo/ragbuilder/</span><span style=\"color: #ff00ff; text-decoration-color: #ff00ff\">gensimtest.csv</span>                <span style=\"color: #7f7f7f; text-decoration-color: #7f7f7f\">             </span>\n",
       "</pre>\n"
      ],
      "text/plain": [
       "\u001b[2;36m          \u001b[0m\u001b[2;36m \u001b[0m\u001b[34mINFO    \u001b[0m Reusing test dataset from data ingestion:                                         \u001b]8;id=392744;file:///Users/ashwinaravind/Desktop/kruxgitrepo/ragbuilder/src/ragbuilder/core/builder.py\u001b\\\u001b[2mbuilder.py\u001b[0m\u001b]8;;\u001b\\\u001b[2m:\u001b[0m\u001b]8;id=787563;file:///Users/ashwinaravind/Desktop/kruxgitrepo/ragbuilder/src/ragbuilder/core/builder.py#85\u001b\\\u001b[2m85\u001b[0m\u001b]8;;\u001b\\\n",
       "\u001b[2;36m           \u001b[0m         \u001b[35m/Users/ashwinaravind/Desktop/kruxgitrepo/ragbuilder/\u001b[0m\u001b[95mgensimtest.csv\u001b[0m                \u001b[2m             \u001b[0m\n"
      ]
     },
     "metadata": {},
     "output_type": "display_data"
    },
    {
     "data": {
      "text/html": [
       "<pre style=\"white-space:pre;overflow-x:auto;line-height:normal;font-family:Menlo,'DejaVu Sans Mono',consolas,'Courier New',monospace\"><span style=\"color: #7fbfbf; text-decoration-color: #7fbfbf\">           </span><span style=\"color: #800000; text-decoration-color: #800000; font-weight: bold\">ERROR   </span> Failed to create run entry: table run_details has no column named module_type  <a href=\"file:///Users/ashwinaravind/Desktop/kruxgitrepo/ragbuilder/src/ragbuilder/core/callbacks.py\" target=\"_blank\"><span style=\"color: #7f7f7f; text-decoration-color: #7f7f7f\">callbacks.py</span></a><span style=\"color: #7f7f7f; text-decoration-color: #7f7f7f\">:</span><a href=\"file:///Users/ashwinaravind/Desktop/kruxgitrepo/ragbuilder/src/ragbuilder/core/callbacks.py#167\" target=\"_blank\"><span style=\"color: #7f7f7f; text-decoration-color: #7f7f7f\">167</span></a>\n",
       "</pre>\n"
      ],
      "text/plain": [
       "\u001b[2;36m          \u001b[0m\u001b[2;36m \u001b[0m\u001b[1;31mERROR   \u001b[0m Failed to create run entry: table run_details has no column named module_type  \u001b]8;id=582989;file:///Users/ashwinaravind/Desktop/kruxgitrepo/ragbuilder/src/ragbuilder/core/callbacks.py\u001b\\\u001b[2mcallbacks.py\u001b[0m\u001b]8;;\u001b\\\u001b[2m:\u001b[0m\u001b]8;id=818730;file:///Users/ashwinaravind/Desktop/kruxgitrepo/ragbuilder/src/ragbuilder/core/callbacks.py#167\u001b\\\u001b[2m167\u001b[0m\u001b]8;;\u001b\\\n"
      ]
     },
     "metadata": {},
     "output_type": "display_data"
    },
    {
     "data": {
      "text/html": [
       "<pre style=\"white-space:pre;overflow-x:auto;line-height:normal;font-family:Menlo,'DejaVu Sans Mono',consolas,'Courier New',monospace\"><span style=\"color: #7fbfbf; text-decoration-color: #7fbfbf\">           </span><span style=\"color: #808000; text-decoration-color: #808000\">WARNING </span> Failed to initialize database logging: table run_details has no column named    <a href=\"file:///Users/ashwinaravind/Desktop/kruxgitrepo/ragbuilder/src/ragbuilder/core/callbacks.py\" target=\"_blank\"><span style=\"color: #7f7f7f; text-decoration-color: #7f7f7f\">callbacks.py</span></a><span style=\"color: #7f7f7f; text-decoration-color: #7f7f7f\">:</span><a href=\"file:///Users/ashwinaravind/Desktop/kruxgitrepo/ragbuilder/src/ragbuilder/core/callbacks.py#42\" target=\"_blank\"><span style=\"color: #7f7f7f; text-decoration-color: #7f7f7f\">42</span></a>\n",
       "<span style=\"color: #7fbfbf; text-decoration-color: #7fbfbf\">           </span>         module_type                                                                     <span style=\"color: #7f7f7f; text-decoration-color: #7f7f7f\">               </span>\n",
       "</pre>\n"
      ],
      "text/plain": [
       "\u001b[2;36m          \u001b[0m\u001b[2;36m \u001b[0m\u001b[33mWARNING \u001b[0m Failed to initialize database logging: table run_details has no column named    \u001b]8;id=467104;file:///Users/ashwinaravind/Desktop/kruxgitrepo/ragbuilder/src/ragbuilder/core/callbacks.py\u001b\\\u001b[2mcallbacks.py\u001b[0m\u001b]8;;\u001b\\\u001b[2m:\u001b[0m\u001b]8;id=106119;file:///Users/ashwinaravind/Desktop/kruxgitrepo/ragbuilder/src/ragbuilder/core/callbacks.py#42\u001b\\\u001b[2m42\u001b[0m\u001b]8;;\u001b\\\n",
       "\u001b[2;36m           \u001b[0m         module_type                                                                     \u001b[2m               \u001b[0m\n"
      ]
     },
     "metadata": {},
     "output_type": "display_data"
    },
    {
     "data": {
      "text/html": [
       "<pre style=\"white-space:pre;overflow-x:auto;line-height:normal;font-family:Menlo,'DejaVu Sans Mono',consolas,'Courier New',monospace\"><span style=\"color: #7fbfbf; text-decoration-color: #7fbfbf\">           </span><span style=\"color: #000080; text-decoration-color: #000080\">INFO    </span> Database logging enabled                                                     <a href=\"file:///Users/ashwinaravind/Desktop/kruxgitrepo/ragbuilder/src/ragbuilder/retriever/optimization.py\" target=\"_blank\"><span style=\"color: #7f7f7f; text-decoration-color: #7f7f7f\">optimization.py</span></a><span style=\"color: #7f7f7f; text-decoration-color: #7f7f7f\">:</span><a href=\"file:///Users/ashwinaravind/Desktop/kruxgitrepo/ragbuilder/src/ragbuilder/retriever/optimization.py#58\" target=\"_blank\"><span style=\"color: #7f7f7f; text-decoration-color: #7f7f7f\">58</span></a>\n",
       "</pre>\n"
      ],
      "text/plain": [
       "\u001b[2;36m          \u001b[0m\u001b[2;36m \u001b[0m\u001b[34mINFO    \u001b[0m Database logging enabled                                                     \u001b]8;id=960454;file:///Users/ashwinaravind/Desktop/kruxgitrepo/ragbuilder/src/ragbuilder/retriever/optimization.py\u001b\\\u001b[2moptimization.py\u001b[0m\u001b]8;;\u001b\\\u001b[2m:\u001b[0m\u001b]8;id=798764;file:///Users/ashwinaravind/Desktop/kruxgitrepo/ragbuilder/src/ragbuilder/retriever/optimization.py#58\u001b\\\u001b[2m58\u001b[0m\u001b]8;;\u001b\\\n"
      ]
     },
     "metadata": {},
     "output_type": "display_data"
    },
    {
     "data": {
      "text/html": [
       "<pre style=\"white-space:pre;overflow-x:auto;line-height:normal;font-family:Menlo,'DejaVu Sans Mono',consolas,'Courier New',monospace\"><span style=\"color: #7fbfbf; text-decoration-color: #7fbfbf\">Starting retriever optimization...</span>\n",
       "</pre>\n"
      ],
      "text/plain": [
       "\u001b[2;36mStarting retriever optimization\u001b[0m\u001b[2;36m...\u001b[0m\n"
      ]
     },
     "metadata": {},
     "output_type": "display_data"
    },
    {
     "name": "stderr",
     "output_type": "stream",
     "text": [
      "[I 2024-12-14 11:03:58,934] A new study created in memory with name: retrieval_optimization\n"
     ]
    },
    {
     "data": {
      "application/vnd.jupyter.widget-view+json": {
       "model_id": "795c15943cfa4413becaa1d5d92a42bb",
       "version_major": 2,
       "version_minor": 0
      },
      "text/plain": [
       "  0%|          | 0/1 [00:00<?, ?it/s]"
      ]
     },
     "metadata": {},
     "output_type": "display_data"
    },
    {
     "data": {
      "text/html": [
       "<pre style=\"white-space:pre;overflow-x:auto;line-height:normal;font-family:Menlo,'DejaVu Sans Mono',consolas,'Courier New',monospace\"><span style=\"color: #005fff; text-decoration-color: #005fff; font-weight: bold\">Trial </span><span style=\"color: #005fff; text-decoration-color: #005fff; font-weight: bold\">0</span><span style=\"color: #005fff; text-decoration-color: #005fff; font-weight: bold\">/</span><span style=\"color: #005fff; text-decoration-color: #005fff; font-weight: bold\">0</span>\n",
       "</pre>\n"
      ],
      "text/plain": [
       "\u001b[1;38;5;27mTrial \u001b[0m\u001b[1;38;5;27m0\u001b[0m\u001b[1;38;5;27m/\u001b[0m\u001b[1;38;5;27m0\u001b[0m\n"
      ]
     },
     "metadata": {},
     "output_type": "display_data"
    },
    {
     "data": {
      "text/html": [
       "<pre style=\"white-space:pre;overflow-x:auto;line-height:normal;font-family:Menlo,'DejaVu Sans Mono',consolas,'Courier New',monospace\"><span style=\"color: #7fbfbf; text-decoration-color: #7fbfbf\">           </span><span style=\"color: #000080; text-decoration-color: #000080\">INFO    </span> Running pipeline with config:                                               <a href=\"file:///Users/ashwinaravind/Desktop/kruxgitrepo/ragbuilder/src/ragbuilder/retriever/optimization.py\" target=\"_blank\"><span style=\"color: #7f7f7f; text-decoration-color: #7f7f7f\">optimization.py</span></a><span style=\"color: #7f7f7f; text-decoration-color: #7f7f7f\">:</span><a href=\"file:///Users/ashwinaravind/Desktop/kruxgitrepo/ragbuilder/src/ragbuilder/retriever/optimization.py#165\" target=\"_blank\"><span style=\"color: #7f7f7f; text-decoration-color: #7f7f7f\">165</span></a>\n",
       "<span style=\"color: #7fbfbf; text-decoration-color: #7fbfbf\">           </span>         <span style=\"color: #808000; text-decoration-color: #808000\">retrievers</span>=<span style=\"font-weight: bold\">[</span><span style=\"color: #800080; text-decoration-color: #800080; font-weight: bold\">BaseRetrieverConfig</span><span style=\"font-weight: bold\">(</span><span style=\"color: #808000; text-decoration-color: #808000\">type</span>=<span style=\"font-weight: bold\">&lt;</span><span style=\"color: #ff00ff; text-decoration-color: #ff00ff; font-weight: bold\">RetrieverType.SIMILARITY:</span><span style=\"color: #000000; text-decoration-color: #000000\"> </span>            <span style=\"color: #7f7f7f; text-decoration-color: #7f7f7f\">                   </span>\n",
       "<span style=\"color: #7fbfbf; text-decoration-color: #7fbfbf\">           </span>         <span style=\"color: #008000; text-decoration-color: #008000\">'similarity'</span><span style=\"font-weight: bold\">&gt;</span>, <span style=\"color: #808000; text-decoration-color: #808000\">retriever_kwargs</span>=<span style=\"font-weight: bold\">{}</span>, <span style=\"color: #808000; text-decoration-color: #808000\">custom_class</span>=<span style=\"color: #800080; text-decoration-color: #800080; font-style: italic\">None</span>, <span style=\"color: #808000; text-decoration-color: #808000\">retriever_k</span>=<span style=\"font-weight: bold\">[</span><span style=\"color: #008080; text-decoration-color: #008080; font-weight: bold\">100</span><span style=\"font-weight: bold\">]</span>,   <span style=\"color: #7f7f7f; text-decoration-color: #7f7f7f\">                   </span>\n",
       "<span style=\"color: #7fbfbf; text-decoration-color: #7fbfbf\">           </span>         <span style=\"color: #808000; text-decoration-color: #808000\">weight</span>=<span style=\"color: #008080; text-decoration-color: #008080; font-weight: bold\">1.0</span><span style=\"font-weight: bold\">)]</span> <span style=\"color: #808000; text-decoration-color: #808000\">rerankers</span>=<span style=\"font-weight: bold\">[]</span> <span style=\"color: #808000; text-decoration-color: #808000\">top_k</span>=<span style=\"color: #008080; text-decoration-color: #008080; font-weight: bold\">3</span>                                           <span style=\"color: #7f7f7f; text-decoration-color: #7f7f7f\">                   </span>\n",
       "</pre>\n"
      ],
      "text/plain": [
       "\u001b[2;36m          \u001b[0m\u001b[2;36m \u001b[0m\u001b[34mINFO    \u001b[0m Running pipeline with config:                                               \u001b]8;id=84789;file:///Users/ashwinaravind/Desktop/kruxgitrepo/ragbuilder/src/ragbuilder/retriever/optimization.py\u001b\\\u001b[2moptimization.py\u001b[0m\u001b]8;;\u001b\\\u001b[2m:\u001b[0m\u001b]8;id=470556;file:///Users/ashwinaravind/Desktop/kruxgitrepo/ragbuilder/src/ragbuilder/retriever/optimization.py#165\u001b\\\u001b[2m165\u001b[0m\u001b]8;;\u001b\\\n",
       "\u001b[2;36m           \u001b[0m         \u001b[33mretrievers\u001b[0m=\u001b[1m[\u001b[0m\u001b[1;35mBaseRetrieverConfig\u001b[0m\u001b[1m(\u001b[0m\u001b[33mtype\u001b[0m=\u001b[1m<\u001b[0m\u001b[1;95mRetrieverType.SIMILARITY:\u001b[0m\u001b[39m \u001b[0m            \u001b[2m                   \u001b[0m\n",
       "\u001b[2;36m           \u001b[0m         \u001b[32m'similarity'\u001b[0m\u001b[1m>\u001b[0m, \u001b[33mretriever_kwargs\u001b[0m=\u001b[1m{\u001b[0m\u001b[1m}\u001b[0m, \u001b[33mcustom_class\u001b[0m=\u001b[3;35mNone\u001b[0m, \u001b[33mretriever_k\u001b[0m=\u001b[1m[\u001b[0m\u001b[1;36m100\u001b[0m\u001b[1m]\u001b[0m,   \u001b[2m                   \u001b[0m\n",
       "\u001b[2;36m           \u001b[0m         \u001b[33mweight\u001b[0m=\u001b[1;36m1\u001b[0m\u001b[1;36m.0\u001b[0m\u001b[1m)\u001b[0m\u001b[1m]\u001b[0m \u001b[33mrerankers\u001b[0m=\u001b[1m[\u001b[0m\u001b[1m]\u001b[0m \u001b[33mtop_k\u001b[0m=\u001b[1;36m3\u001b[0m                                           \u001b[2m                   \u001b[0m\n"
      ]
     },
     "metadata": {},
     "output_type": "display_data"
    },
    {
     "data": {
      "text/html": [
       "<pre style=\"white-space:pre;overflow-x:auto;line-height:normal;font-family:Menlo,'DejaVu Sans Mono',consolas,'Courier New',monospace\"><span style=\"color: #7fbfbf; text-decoration-color: #7fbfbf\">           </span><span style=\"color: #000080; text-decoration-color: #000080\">INFO    </span> Initializing Retriever Pipeline<span style=\"color: #808000; text-decoration-color: #808000\">...</span>                                               <a href=\"file:///Users/ashwinaravind/Desktop/kruxgitrepo/ragbuilder/src/ragbuilder/retriever/pipeline.py\" target=\"_blank\"><span style=\"color: #7f7f7f; text-decoration-color: #7f7f7f\">pipeline.py</span></a><span style=\"color: #7f7f7f; text-decoration-color: #7f7f7f\">:</span><a href=\"file:///Users/ashwinaravind/Desktop/kruxgitrepo/ragbuilder/src/ragbuilder/retriever/pipeline.py#49\" target=\"_blank\"><span style=\"color: #7f7f7f; text-decoration-color: #7f7f7f\">49</span></a>\n",
       "</pre>\n"
      ],
      "text/plain": [
       "\u001b[2;36m          \u001b[0m\u001b[2;36m \u001b[0m\u001b[34mINFO    \u001b[0m Initializing Retriever Pipeline\u001b[33m...\u001b[0m                                               \u001b]8;id=630065;file:///Users/ashwinaravind/Desktop/kruxgitrepo/ragbuilder/src/ragbuilder/retriever/pipeline.py\u001b\\\u001b[2mpipeline.py\u001b[0m\u001b]8;;\u001b\\\u001b[2m:\u001b[0m\u001b]8;id=239996;file:///Users/ashwinaravind/Desktop/kruxgitrepo/ragbuilder/src/ragbuilder/retriever/pipeline.py#49\u001b\\\u001b[2m49\u001b[0m\u001b]8;;\u001b\\\n"
      ]
     },
     "metadata": {},
     "output_type": "display_data"
    },
    {
     "data": {
      "text/html": [
       "<pre style=\"white-space:pre;overflow-x:auto;line-height:normal;font-family:Menlo,'DejaVu Sans Mono',consolas,'Courier New',monospace\"><span style=\"color: #7fbfbf; text-decoration-color: #7fbfbf\">           </span><span style=\"color: #000080; text-decoration-color: #000080\">INFO    </span> Creating RetrieverType.SIMILARITY retriever<span style=\"color: #808000; text-decoration-color: #808000\">...</span>                                   <a href=\"file:///Users/ashwinaravind/Desktop/kruxgitrepo/ragbuilder/src/ragbuilder/retriever/pipeline.py\" target=\"_blank\"><span style=\"color: #7f7f7f; text-decoration-color: #7f7f7f\">pipeline.py</span></a><span style=\"color: #7f7f7f; text-decoration-color: #7f7f7f\">:</span><a href=\"file:///Users/ashwinaravind/Desktop/kruxgitrepo/ragbuilder/src/ragbuilder/retriever/pipeline.py#72\" target=\"_blank\"><span style=\"color: #7f7f7f; text-decoration-color: #7f7f7f\">72</span></a>\n",
       "</pre>\n"
      ],
      "text/plain": [
       "\u001b[2;36m          \u001b[0m\u001b[2;36m \u001b[0m\u001b[34mINFO    \u001b[0m Creating RetrieverType.SIMILARITY retriever\u001b[33m...\u001b[0m                                   \u001b]8;id=405672;file:///Users/ashwinaravind/Desktop/kruxgitrepo/ragbuilder/src/ragbuilder/retriever/pipeline.py\u001b\\\u001b[2mpipeline.py\u001b[0m\u001b]8;;\u001b\\\u001b[2m:\u001b[0m\u001b]8;id=537915;file:///Users/ashwinaravind/Desktop/kruxgitrepo/ragbuilder/src/ragbuilder/retriever/pipeline.py#72\u001b\\\u001b[2m72\u001b[0m\u001b]8;;\u001b\\\n"
      ]
     },
     "metadata": {},
     "output_type": "display_data"
    },
    {
     "data": {
      "text/html": [
       "<pre style=\"white-space:pre;overflow-x:auto;line-height:normal;font-family:Menlo,'DejaVu Sans Mono',consolas,'Courier New',monospace\"><span style=\"color: #7fbfbf; text-decoration-color: #7fbfbf\">           </span><span style=\"color: #000080; text-decoration-color: #000080\">INFO    </span> Created vector similarity search retriever                                       <a href=\"file:///Users/ashwinaravind/Desktop/kruxgitrepo/ragbuilder/src/ragbuilder/retriever/pipeline.py\" target=\"_blank\"><span style=\"color: #7f7f7f; text-decoration-color: #7f7f7f\">pipeline.py</span></a><span style=\"color: #7f7f7f; text-decoration-color: #7f7f7f\">:</span><a href=\"file:///Users/ashwinaravind/Desktop/kruxgitrepo/ragbuilder/src/ragbuilder/retriever/pipeline.py#80\" target=\"_blank\"><span style=\"color: #7f7f7f; text-decoration-color: #7f7f7f\">80</span></a>\n",
       "</pre>\n"
      ],
      "text/plain": [
       "\u001b[2;36m          \u001b[0m\u001b[2;36m \u001b[0m\u001b[34mINFO    \u001b[0m Created vector similarity search retriever                                       \u001b]8;id=36030;file:///Users/ashwinaravind/Desktop/kruxgitrepo/ragbuilder/src/ragbuilder/retriever/pipeline.py\u001b\\\u001b[2mpipeline.py\u001b[0m\u001b]8;;\u001b\\\u001b[2m:\u001b[0m\u001b]8;id=51681;file:///Users/ashwinaravind/Desktop/kruxgitrepo/ragbuilder/src/ragbuilder/retriever/pipeline.py#80\u001b\\\u001b[2m80\u001b[0m\u001b]8;;\u001b\\\n"
      ]
     },
     "metadata": {},
     "output_type": "display_data"
    },
    {
     "data": {
      "text/html": [
       "<pre style=\"white-space:pre;overflow-x:auto;line-height:normal;font-family:Menlo,'DejaVu Sans Mono',consolas,'Courier New',monospace\"><span style=\"color: #7fbfbf; text-decoration-color: #7fbfbf\">           </span><span style=\"color: #000080; text-decoration-color: #000080\">INFO    </span> Pipeline initialized successfully                                                <a href=\"file:///Users/ashwinaravind/Desktop/kruxgitrepo/ragbuilder/src/ragbuilder/retriever/pipeline.py\" target=\"_blank\"><span style=\"color: #7f7f7f; text-decoration-color: #7f7f7f\">pipeline.py</span></a><span style=\"color: #7f7f7f; text-decoration-color: #7f7f7f\">:</span><a href=\"file:///Users/ashwinaravind/Desktop/kruxgitrepo/ragbuilder/src/ragbuilder/retriever/pipeline.py#52\" target=\"_blank\"><span style=\"color: #7f7f7f; text-decoration-color: #7f7f7f\">52</span></a>\n",
       "</pre>\n"
      ],
      "text/plain": [
       "\u001b[2;36m          \u001b[0m\u001b[2;36m \u001b[0m\u001b[34mINFO    \u001b[0m Pipeline initialized successfully                                                \u001b]8;id=104306;file:///Users/ashwinaravind/Desktop/kruxgitrepo/ragbuilder/src/ragbuilder/retriever/pipeline.py\u001b\\\u001b[2mpipeline.py\u001b[0m\u001b]8;;\u001b\\\u001b[2m:\u001b[0m\u001b]8;id=833608;file:///Users/ashwinaravind/Desktop/kruxgitrepo/ragbuilder/src/ragbuilder/retriever/pipeline.py#52\u001b\\\u001b[2m52\u001b[0m\u001b]8;;\u001b\\\n"
      ]
     },
     "metadata": {},
     "output_type": "display_data"
    },
    {
     "data": {
      "text/html": [
       "<pre style=\"white-space:pre;overflow-x:auto;line-height:normal;font-family:Menlo,'DejaVu Sans Mono',consolas,'Courier New',monospace\"><span style=\"color: #7fbfbf; text-decoration-color: #7fbfbf\">[11:03:59] </span><span style=\"color: #808000; text-decoration-color: #808000\">WARNING </span> Number of requested results <span style=\"color: #008080; text-decoration-color: #008080; font-weight: bold\">100</span> is greater than number of elements in index   <a href=\"file:///Users/ashwinaravind/.pyenv/versions/3.12.5/lib/python3.12/site-packages/chromadb/segment/impl/vector/local_hnsw.py\" target=\"_blank\"><span style=\"color: #7f7f7f; text-decoration-color: #7f7f7f\">local_hnsw.py</span></a><span style=\"color: #7f7f7f; text-decoration-color: #7f7f7f\">:</span><a href=\"file:///Users/ashwinaravind/.pyenv/versions/3.12.5/lib/python3.12/site-packages/chromadb/segment/impl/vector/local_hnsw.py#138\" target=\"_blank\"><span style=\"color: #7f7f7f; text-decoration-color: #7f7f7f\">138</span></a>\n",
       "<span style=\"color: #7fbfbf; text-decoration-color: #7fbfbf\">           </span>         <span style=\"color: #008080; text-decoration-color: #008080; font-weight: bold\">3</span>, updating n_results = <span style=\"color: #008080; text-decoration-color: #008080; font-weight: bold\">3</span>                                                     <span style=\"color: #7f7f7f; text-decoration-color: #7f7f7f\">                 </span>\n",
       "</pre>\n"
      ],
      "text/plain": [
       "\u001b[2;36m[11:03:59]\u001b[0m\u001b[2;36m \u001b[0m\u001b[33mWARNING \u001b[0m Number of requested results \u001b[1;36m100\u001b[0m is greater than number of elements in index   \u001b]8;id=609199;file:///Users/ashwinaravind/.pyenv/versions/3.12.5/lib/python3.12/site-packages/chromadb/segment/impl/vector/local_hnsw.py\u001b\\\u001b[2mlocal_hnsw.py\u001b[0m\u001b]8;;\u001b\\\u001b[2m:\u001b[0m\u001b]8;id=829352;file:///Users/ashwinaravind/.pyenv/versions/3.12.5/lib/python3.12/site-packages/chromadb/segment/impl/vector/local_hnsw.py#138\u001b\\\u001b[2m138\u001b[0m\u001b]8;;\u001b\\\n",
       "\u001b[2;36m           \u001b[0m         \u001b[1;36m3\u001b[0m, updating n_results = \u001b[1;36m3\u001b[0m                                                     \u001b[2m                 \u001b[0m\n"
      ]
     },
     "metadata": {},
     "output_type": "display_data"
    },
    {
     "data": {
      "text/html": [
       "<pre style=\"white-space:pre;overflow-x:auto;line-height:normal;font-family:Menlo,'DejaVu Sans Mono',consolas,'Courier New',monospace\"><span style=\"color: #7fbfbf; text-decoration-color: #7fbfbf\">[11:04:00] </span><span style=\"color: #808000; text-decoration-color: #808000\">WARNING </span> Number of requested results <span style=\"color: #008080; text-decoration-color: #008080; font-weight: bold\">100</span> is greater than number of elements in index   <a href=\"file:///Users/ashwinaravind/.pyenv/versions/3.12.5/lib/python3.12/site-packages/chromadb/segment/impl/vector/local_hnsw.py\" target=\"_blank\"><span style=\"color: #7f7f7f; text-decoration-color: #7f7f7f\">local_hnsw.py</span></a><span style=\"color: #7f7f7f; text-decoration-color: #7f7f7f\">:</span><a href=\"file:///Users/ashwinaravind/.pyenv/versions/3.12.5/lib/python3.12/site-packages/chromadb/segment/impl/vector/local_hnsw.py#138\" target=\"_blank\"><span style=\"color: #7f7f7f; text-decoration-color: #7f7f7f\">138</span></a>\n",
       "<span style=\"color: #7fbfbf; text-decoration-color: #7fbfbf\">           </span>         <span style=\"color: #008080; text-decoration-color: #008080; font-weight: bold\">3</span>, updating n_results = <span style=\"color: #008080; text-decoration-color: #008080; font-weight: bold\">3</span>                                                     <span style=\"color: #7f7f7f; text-decoration-color: #7f7f7f\">                 </span>\n",
       "</pre>\n"
      ],
      "text/plain": [
       "\u001b[2;36m[11:04:00]\u001b[0m\u001b[2;36m \u001b[0m\u001b[33mWARNING \u001b[0m Number of requested results \u001b[1;36m100\u001b[0m is greater than number of elements in index   \u001b]8;id=443005;file:///Users/ashwinaravind/.pyenv/versions/3.12.5/lib/python3.12/site-packages/chromadb/segment/impl/vector/local_hnsw.py\u001b\\\u001b[2mlocal_hnsw.py\u001b[0m\u001b]8;;\u001b\\\u001b[2m:\u001b[0m\u001b]8;id=434071;file:///Users/ashwinaravind/.pyenv/versions/3.12.5/lib/python3.12/site-packages/chromadb/segment/impl/vector/local_hnsw.py#138\u001b\\\u001b[2m138\u001b[0m\u001b]8;;\u001b\\\n",
       "\u001b[2;36m           \u001b[0m         \u001b[1;36m3\u001b[0m, updating n_results = \u001b[1;36m3\u001b[0m                                                     \u001b[2m                 \u001b[0m\n"
      ]
     },
     "metadata": {},
     "output_type": "display_data"
    },
    {
     "data": {
      "text/html": [
       "<pre style=\"white-space:pre;overflow-x:auto;line-height:normal;font-family:Menlo,'DejaVu Sans Mono',consolas,'Courier New',monospace\"><span style=\"color: #7fbfbf; text-decoration-color: #7fbfbf\">[11:04:01] </span><span style=\"color: #808000; text-decoration-color: #808000\">WARNING </span> Number of requested results <span style=\"color: #008080; text-decoration-color: #008080; font-weight: bold\">100</span> is greater than number of elements in index   <a href=\"file:///Users/ashwinaravind/.pyenv/versions/3.12.5/lib/python3.12/site-packages/chromadb/segment/impl/vector/local_hnsw.py\" target=\"_blank\"><span style=\"color: #7f7f7f; text-decoration-color: #7f7f7f\">local_hnsw.py</span></a><span style=\"color: #7f7f7f; text-decoration-color: #7f7f7f\">:</span><a href=\"file:///Users/ashwinaravind/.pyenv/versions/3.12.5/lib/python3.12/site-packages/chromadb/segment/impl/vector/local_hnsw.py#138\" target=\"_blank\"><span style=\"color: #7f7f7f; text-decoration-color: #7f7f7f\">138</span></a>\n",
       "<span style=\"color: #7fbfbf; text-decoration-color: #7fbfbf\">           </span>         <span style=\"color: #008080; text-decoration-color: #008080; font-weight: bold\">3</span>, updating n_results = <span style=\"color: #008080; text-decoration-color: #008080; font-weight: bold\">3</span>                                                     <span style=\"color: #7f7f7f; text-decoration-color: #7f7f7f\">                 </span>\n",
       "</pre>\n"
      ],
      "text/plain": [
       "\u001b[2;36m[11:04:01]\u001b[0m\u001b[2;36m \u001b[0m\u001b[33mWARNING \u001b[0m Number of requested results \u001b[1;36m100\u001b[0m is greater than number of elements in index   \u001b]8;id=607377;file:///Users/ashwinaravind/.pyenv/versions/3.12.5/lib/python3.12/site-packages/chromadb/segment/impl/vector/local_hnsw.py\u001b\\\u001b[2mlocal_hnsw.py\u001b[0m\u001b]8;;\u001b\\\u001b[2m:\u001b[0m\u001b]8;id=437777;file:///Users/ashwinaravind/.pyenv/versions/3.12.5/lib/python3.12/site-packages/chromadb/segment/impl/vector/local_hnsw.py#138\u001b\\\u001b[2m138\u001b[0m\u001b]8;;\u001b\\\n",
       "\u001b[2;36m           \u001b[0m         \u001b[1;36m3\u001b[0m, updating n_results = \u001b[1;36m3\u001b[0m                                                     \u001b[2m                 \u001b[0m\n"
      ]
     },
     "metadata": {},
     "output_type": "display_data"
    },
    {
     "data": {
      "text/html": [
       "<pre style=\"white-space:pre;overflow-x:auto;line-height:normal;font-family:Menlo,'DejaVu Sans Mono',consolas,'Courier New',monospace\"><span style=\"color: #7fbfbf; text-decoration-color: #7fbfbf\">[11:04:02] </span><span style=\"color: #808000; text-decoration-color: #808000\">WARNING </span> Number of requested results <span style=\"color: #008080; text-decoration-color: #008080; font-weight: bold\">100</span> is greater than number of elements in index   <a href=\"file:///Users/ashwinaravind/.pyenv/versions/3.12.5/lib/python3.12/site-packages/chromadb/segment/impl/vector/local_hnsw.py\" target=\"_blank\"><span style=\"color: #7f7f7f; text-decoration-color: #7f7f7f\">local_hnsw.py</span></a><span style=\"color: #7f7f7f; text-decoration-color: #7f7f7f\">:</span><a href=\"file:///Users/ashwinaravind/.pyenv/versions/3.12.5/lib/python3.12/site-packages/chromadb/segment/impl/vector/local_hnsw.py#138\" target=\"_blank\"><span style=\"color: #7f7f7f; text-decoration-color: #7f7f7f\">138</span></a>\n",
       "<span style=\"color: #7fbfbf; text-decoration-color: #7fbfbf\">           </span>         <span style=\"color: #008080; text-decoration-color: #008080; font-weight: bold\">3</span>, updating n_results = <span style=\"color: #008080; text-decoration-color: #008080; font-weight: bold\">3</span>                                                     <span style=\"color: #7f7f7f; text-decoration-color: #7f7f7f\">                 </span>\n",
       "</pre>\n"
      ],
      "text/plain": [
       "\u001b[2;36m[11:04:02]\u001b[0m\u001b[2;36m \u001b[0m\u001b[33mWARNING \u001b[0m Number of requested results \u001b[1;36m100\u001b[0m is greater than number of elements in index   \u001b]8;id=557192;file:///Users/ashwinaravind/.pyenv/versions/3.12.5/lib/python3.12/site-packages/chromadb/segment/impl/vector/local_hnsw.py\u001b\\\u001b[2mlocal_hnsw.py\u001b[0m\u001b]8;;\u001b\\\u001b[2m:\u001b[0m\u001b]8;id=596810;file:///Users/ashwinaravind/.pyenv/versions/3.12.5/lib/python3.12/site-packages/chromadb/segment/impl/vector/local_hnsw.py#138\u001b\\\u001b[2m138\u001b[0m\u001b]8;;\u001b\\\n",
       "\u001b[2;36m           \u001b[0m         \u001b[1;36m3\u001b[0m, updating n_results = \u001b[1;36m3\u001b[0m                                                     \u001b[2m                 \u001b[0m\n"
      ]
     },
     "metadata": {},
     "output_type": "display_data"
    },
    {
     "data": {
      "text/html": [
       "<pre style=\"white-space:pre;overflow-x:auto;line-height:normal;font-family:Menlo,'DejaVu Sans Mono',consolas,'Courier New',monospace\"><span style=\"color: #7fbfbf; text-decoration-color: #7fbfbf\">[11:04:03] </span><span style=\"color: #808000; text-decoration-color: #808000\">WARNING </span> Number of requested results <span style=\"color: #008080; text-decoration-color: #008080; font-weight: bold\">100</span> is greater than number of elements in index   <a href=\"file:///Users/ashwinaravind/.pyenv/versions/3.12.5/lib/python3.12/site-packages/chromadb/segment/impl/vector/local_hnsw.py\" target=\"_blank\"><span style=\"color: #7f7f7f; text-decoration-color: #7f7f7f\">local_hnsw.py</span></a><span style=\"color: #7f7f7f; text-decoration-color: #7f7f7f\">:</span><a href=\"file:///Users/ashwinaravind/.pyenv/versions/3.12.5/lib/python3.12/site-packages/chromadb/segment/impl/vector/local_hnsw.py#138\" target=\"_blank\"><span style=\"color: #7f7f7f; text-decoration-color: #7f7f7f\">138</span></a>\n",
       "<span style=\"color: #7fbfbf; text-decoration-color: #7fbfbf\">           </span>         <span style=\"color: #008080; text-decoration-color: #008080; font-weight: bold\">3</span>, updating n_results = <span style=\"color: #008080; text-decoration-color: #008080; font-weight: bold\">3</span>                                                     <span style=\"color: #7f7f7f; text-decoration-color: #7f7f7f\">                 </span>\n",
       "</pre>\n"
      ],
      "text/plain": [
       "\u001b[2;36m[11:04:03]\u001b[0m\u001b[2;36m \u001b[0m\u001b[33mWARNING \u001b[0m Number of requested results \u001b[1;36m100\u001b[0m is greater than number of elements in index   \u001b]8;id=660758;file:///Users/ashwinaravind/.pyenv/versions/3.12.5/lib/python3.12/site-packages/chromadb/segment/impl/vector/local_hnsw.py\u001b\\\u001b[2mlocal_hnsw.py\u001b[0m\u001b]8;;\u001b\\\u001b[2m:\u001b[0m\u001b]8;id=938008;file:///Users/ashwinaravind/.pyenv/versions/3.12.5/lib/python3.12/site-packages/chromadb/segment/impl/vector/local_hnsw.py#138\u001b\\\u001b[2m138\u001b[0m\u001b]8;;\u001b\\\n",
       "\u001b[2;36m           \u001b[0m         \u001b[1;36m3\u001b[0m, updating n_results = \u001b[1;36m3\u001b[0m                                                     \u001b[2m                 \u001b[0m\n"
      ]
     },
     "metadata": {},
     "output_type": "display_data"
    },
    {
     "data": {
      "text/html": [
       "<pre style=\"white-space:pre;overflow-x:auto;line-height:normal;font-family:Menlo,'DejaVu Sans Mono',consolas,'Courier New',monospace\"><span style=\"color: #7fbfbf; text-decoration-color: #7fbfbf\">           </span><span style=\"color: #808000; text-decoration-color: #808000\">WARNING </span> Number of requested results <span style=\"color: #008080; text-decoration-color: #008080; font-weight: bold\">100</span> is greater than number of elements in index   <a href=\"file:///Users/ashwinaravind/.pyenv/versions/3.12.5/lib/python3.12/site-packages/chromadb/segment/impl/vector/local_hnsw.py\" target=\"_blank\"><span style=\"color: #7f7f7f; text-decoration-color: #7f7f7f\">local_hnsw.py</span></a><span style=\"color: #7f7f7f; text-decoration-color: #7f7f7f\">:</span><a href=\"file:///Users/ashwinaravind/.pyenv/versions/3.12.5/lib/python3.12/site-packages/chromadb/segment/impl/vector/local_hnsw.py#138\" target=\"_blank\"><span style=\"color: #7f7f7f; text-decoration-color: #7f7f7f\">138</span></a>\n",
       "<span style=\"color: #7fbfbf; text-decoration-color: #7fbfbf\">           </span>         <span style=\"color: #008080; text-decoration-color: #008080; font-weight: bold\">3</span>, updating n_results = <span style=\"color: #008080; text-decoration-color: #008080; font-weight: bold\">3</span>                                                     <span style=\"color: #7f7f7f; text-decoration-color: #7f7f7f\">                 </span>\n",
       "</pre>\n"
      ],
      "text/plain": [
       "\u001b[2;36m          \u001b[0m\u001b[2;36m \u001b[0m\u001b[33mWARNING \u001b[0m Number of requested results \u001b[1;36m100\u001b[0m is greater than number of elements in index   \u001b]8;id=985276;file:///Users/ashwinaravind/.pyenv/versions/3.12.5/lib/python3.12/site-packages/chromadb/segment/impl/vector/local_hnsw.py\u001b\\\u001b[2mlocal_hnsw.py\u001b[0m\u001b]8;;\u001b\\\u001b[2m:\u001b[0m\u001b]8;id=815453;file:///Users/ashwinaravind/.pyenv/versions/3.12.5/lib/python3.12/site-packages/chromadb/segment/impl/vector/local_hnsw.py#138\u001b\\\u001b[2m138\u001b[0m\u001b]8;;\u001b\\\n",
       "\u001b[2;36m           \u001b[0m         \u001b[1;36m3\u001b[0m, updating n_results = \u001b[1;36m3\u001b[0m                                                     \u001b[2m                 \u001b[0m\n"
      ]
     },
     "metadata": {},
     "output_type": "display_data"
    },
    {
     "data": {
      "text/html": [
       "<pre style=\"white-space:pre;overflow-x:auto;line-height:normal;font-family:Menlo,'DejaVu Sans Mono',consolas,'Courier New',monospace\"><span style=\"color: #7fbfbf; text-decoration-color: #7fbfbf\">[11:04:04] </span><span style=\"color: #808000; text-decoration-color: #808000\">WARNING </span> Number of requested results <span style=\"color: #008080; text-decoration-color: #008080; font-weight: bold\">100</span> is greater than number of elements in index   <a href=\"file:///Users/ashwinaravind/.pyenv/versions/3.12.5/lib/python3.12/site-packages/chromadb/segment/impl/vector/local_hnsw.py\" target=\"_blank\"><span style=\"color: #7f7f7f; text-decoration-color: #7f7f7f\">local_hnsw.py</span></a><span style=\"color: #7f7f7f; text-decoration-color: #7f7f7f\">:</span><a href=\"file:///Users/ashwinaravind/.pyenv/versions/3.12.5/lib/python3.12/site-packages/chromadb/segment/impl/vector/local_hnsw.py#138\" target=\"_blank\"><span style=\"color: #7f7f7f; text-decoration-color: #7f7f7f\">138</span></a>\n",
       "<span style=\"color: #7fbfbf; text-decoration-color: #7fbfbf\">           </span>         <span style=\"color: #008080; text-decoration-color: #008080; font-weight: bold\">3</span>, updating n_results = <span style=\"color: #008080; text-decoration-color: #008080; font-weight: bold\">3</span>                                                     <span style=\"color: #7f7f7f; text-decoration-color: #7f7f7f\">                 </span>\n",
       "</pre>\n"
      ],
      "text/plain": [
       "\u001b[2;36m[11:04:04]\u001b[0m\u001b[2;36m \u001b[0m\u001b[33mWARNING \u001b[0m Number of requested results \u001b[1;36m100\u001b[0m is greater than number of elements in index   \u001b]8;id=139984;file:///Users/ashwinaravind/.pyenv/versions/3.12.5/lib/python3.12/site-packages/chromadb/segment/impl/vector/local_hnsw.py\u001b\\\u001b[2mlocal_hnsw.py\u001b[0m\u001b]8;;\u001b\\\u001b[2m:\u001b[0m\u001b]8;id=710612;file:///Users/ashwinaravind/.pyenv/versions/3.12.5/lib/python3.12/site-packages/chromadb/segment/impl/vector/local_hnsw.py#138\u001b\\\u001b[2m138\u001b[0m\u001b]8;;\u001b\\\n",
       "\u001b[2;36m           \u001b[0m         \u001b[1;36m3\u001b[0m, updating n_results = \u001b[1;36m3\u001b[0m                                                     \u001b[2m                 \u001b[0m\n"
      ]
     },
     "metadata": {},
     "output_type": "display_data"
    },
    {
     "data": {
      "text/html": [
       "<pre style=\"white-space:pre;overflow-x:auto;line-height:normal;font-family:Menlo,'DejaVu Sans Mono',consolas,'Courier New',monospace\"><span style=\"color: #7fbfbf; text-decoration-color: #7fbfbf\">[11:04:05] </span><span style=\"color: #808000; text-decoration-color: #808000\">WARNING </span> Number of requested results <span style=\"color: #008080; text-decoration-color: #008080; font-weight: bold\">100</span> is greater than number of elements in index   <a href=\"file:///Users/ashwinaravind/.pyenv/versions/3.12.5/lib/python3.12/site-packages/chromadb/segment/impl/vector/local_hnsw.py\" target=\"_blank\"><span style=\"color: #7f7f7f; text-decoration-color: #7f7f7f\">local_hnsw.py</span></a><span style=\"color: #7f7f7f; text-decoration-color: #7f7f7f\">:</span><a href=\"file:///Users/ashwinaravind/.pyenv/versions/3.12.5/lib/python3.12/site-packages/chromadb/segment/impl/vector/local_hnsw.py#138\" target=\"_blank\"><span style=\"color: #7f7f7f; text-decoration-color: #7f7f7f\">138</span></a>\n",
       "<span style=\"color: #7fbfbf; text-decoration-color: #7fbfbf\">           </span>         <span style=\"color: #008080; text-decoration-color: #008080; font-weight: bold\">3</span>, updating n_results = <span style=\"color: #008080; text-decoration-color: #008080; font-weight: bold\">3</span>                                                     <span style=\"color: #7f7f7f; text-decoration-color: #7f7f7f\">                 </span>\n",
       "</pre>\n"
      ],
      "text/plain": [
       "\u001b[2;36m[11:04:05]\u001b[0m\u001b[2;36m \u001b[0m\u001b[33mWARNING \u001b[0m Number of requested results \u001b[1;36m100\u001b[0m is greater than number of elements in index   \u001b]8;id=763864;file:///Users/ashwinaravind/.pyenv/versions/3.12.5/lib/python3.12/site-packages/chromadb/segment/impl/vector/local_hnsw.py\u001b\\\u001b[2mlocal_hnsw.py\u001b[0m\u001b]8;;\u001b\\\u001b[2m:\u001b[0m\u001b]8;id=275260;file:///Users/ashwinaravind/.pyenv/versions/3.12.5/lib/python3.12/site-packages/chromadb/segment/impl/vector/local_hnsw.py#138\u001b\\\u001b[2m138\u001b[0m\u001b]8;;\u001b\\\n",
       "\u001b[2;36m           \u001b[0m         \u001b[1;36m3\u001b[0m, updating n_results = \u001b[1;36m3\u001b[0m                                                     \u001b[2m                 \u001b[0m\n"
      ]
     },
     "metadata": {},
     "output_type": "display_data"
    },
    {
     "data": {
      "text/html": [
       "<pre style=\"white-space:pre;overflow-x:auto;line-height:normal;font-family:Menlo,'DejaVu Sans Mono',consolas,'Courier New',monospace\"><span style=\"color: #7fbfbf; text-decoration-color: #7fbfbf\">           </span><span style=\"color: #808000; text-decoration-color: #808000\">WARNING </span> Number of requested results <span style=\"color: #008080; text-decoration-color: #008080; font-weight: bold\">100</span> is greater than number of elements in index   <a href=\"file:///Users/ashwinaravind/.pyenv/versions/3.12.5/lib/python3.12/site-packages/chromadb/segment/impl/vector/local_hnsw.py\" target=\"_blank\"><span style=\"color: #7f7f7f; text-decoration-color: #7f7f7f\">local_hnsw.py</span></a><span style=\"color: #7f7f7f; text-decoration-color: #7f7f7f\">:</span><a href=\"file:///Users/ashwinaravind/.pyenv/versions/3.12.5/lib/python3.12/site-packages/chromadb/segment/impl/vector/local_hnsw.py#138\" target=\"_blank\"><span style=\"color: #7f7f7f; text-decoration-color: #7f7f7f\">138</span></a>\n",
       "<span style=\"color: #7fbfbf; text-decoration-color: #7fbfbf\">           </span>         <span style=\"color: #008080; text-decoration-color: #008080; font-weight: bold\">3</span>, updating n_results = <span style=\"color: #008080; text-decoration-color: #008080; font-weight: bold\">3</span>                                                     <span style=\"color: #7f7f7f; text-decoration-color: #7f7f7f\">                 </span>\n",
       "</pre>\n"
      ],
      "text/plain": [
       "\u001b[2;36m          \u001b[0m\u001b[2;36m \u001b[0m\u001b[33mWARNING \u001b[0m Number of requested results \u001b[1;36m100\u001b[0m is greater than number of elements in index   \u001b]8;id=292631;file:///Users/ashwinaravind/.pyenv/versions/3.12.5/lib/python3.12/site-packages/chromadb/segment/impl/vector/local_hnsw.py\u001b\\\u001b[2mlocal_hnsw.py\u001b[0m\u001b]8;;\u001b\\\u001b[2m:\u001b[0m\u001b]8;id=177960;file:///Users/ashwinaravind/.pyenv/versions/3.12.5/lib/python3.12/site-packages/chromadb/segment/impl/vector/local_hnsw.py#138\u001b\\\u001b[2m138\u001b[0m\u001b]8;;\u001b\\\n",
       "\u001b[2;36m           \u001b[0m         \u001b[1;36m3\u001b[0m, updating n_results = \u001b[1;36m3\u001b[0m                                                     \u001b[2m                 \u001b[0m\n"
      ]
     },
     "metadata": {},
     "output_type": "display_data"
    },
    {
     "data": {
      "text/html": [
       "<pre style=\"white-space:pre;overflow-x:auto;line-height:normal;font-family:Menlo,'DejaVu Sans Mono',consolas,'Courier New',monospace\"><span style=\"color: #7fbfbf; text-decoration-color: #7fbfbf\">[11:04:06] </span><span style=\"color: #808000; text-decoration-color: #808000\">WARNING </span> Number of requested results <span style=\"color: #008080; text-decoration-color: #008080; font-weight: bold\">100</span> is greater than number of elements in index   <a href=\"file:///Users/ashwinaravind/.pyenv/versions/3.12.5/lib/python3.12/site-packages/chromadb/segment/impl/vector/local_hnsw.py\" target=\"_blank\"><span style=\"color: #7f7f7f; text-decoration-color: #7f7f7f\">local_hnsw.py</span></a><span style=\"color: #7f7f7f; text-decoration-color: #7f7f7f\">:</span><a href=\"file:///Users/ashwinaravind/.pyenv/versions/3.12.5/lib/python3.12/site-packages/chromadb/segment/impl/vector/local_hnsw.py#138\" target=\"_blank\"><span style=\"color: #7f7f7f; text-decoration-color: #7f7f7f\">138</span></a>\n",
       "<span style=\"color: #7fbfbf; text-decoration-color: #7fbfbf\">           </span>         <span style=\"color: #008080; text-decoration-color: #008080; font-weight: bold\">3</span>, updating n_results = <span style=\"color: #008080; text-decoration-color: #008080; font-weight: bold\">3</span>                                                     <span style=\"color: #7f7f7f; text-decoration-color: #7f7f7f\">                 </span>\n",
       "</pre>\n"
      ],
      "text/plain": [
       "\u001b[2;36m[11:04:06]\u001b[0m\u001b[2;36m \u001b[0m\u001b[33mWARNING \u001b[0m Number of requested results \u001b[1;36m100\u001b[0m is greater than number of elements in index   \u001b]8;id=438260;file:///Users/ashwinaravind/.pyenv/versions/3.12.5/lib/python3.12/site-packages/chromadb/segment/impl/vector/local_hnsw.py\u001b\\\u001b[2mlocal_hnsw.py\u001b[0m\u001b]8;;\u001b\\\u001b[2m:\u001b[0m\u001b]8;id=473738;file:///Users/ashwinaravind/.pyenv/versions/3.12.5/lib/python3.12/site-packages/chromadb/segment/impl/vector/local_hnsw.py#138\u001b\\\u001b[2m138\u001b[0m\u001b]8;;\u001b\\\n",
       "\u001b[2;36m           \u001b[0m         \u001b[1;36m3\u001b[0m, updating n_results = \u001b[1;36m3\u001b[0m                                                     \u001b[2m                 \u001b[0m\n"
      ]
     },
     "metadata": {},
     "output_type": "display_data"
    },
    {
     "data": {
      "text/html": [
       "<pre style=\"white-space:pre;overflow-x:auto;line-height:normal;font-family:Menlo,'DejaVu Sans Mono',consolas,'Courier New',monospace\"><span style=\"color: #7fbfbf; text-decoration-color: #7fbfbf\">           </span><span style=\"color: #808000; text-decoration-color: #808000\">WARNING </span> Number of requested results <span style=\"color: #008080; text-decoration-color: #008080; font-weight: bold\">100</span> is greater than number of elements in index   <a href=\"file:///Users/ashwinaravind/.pyenv/versions/3.12.5/lib/python3.12/site-packages/chromadb/segment/impl/vector/local_hnsw.py\" target=\"_blank\"><span style=\"color: #7f7f7f; text-decoration-color: #7f7f7f\">local_hnsw.py</span></a><span style=\"color: #7f7f7f; text-decoration-color: #7f7f7f\">:</span><a href=\"file:///Users/ashwinaravind/.pyenv/versions/3.12.5/lib/python3.12/site-packages/chromadb/segment/impl/vector/local_hnsw.py#138\" target=\"_blank\"><span style=\"color: #7f7f7f; text-decoration-color: #7f7f7f\">138</span></a>\n",
       "<span style=\"color: #7fbfbf; text-decoration-color: #7fbfbf\">           </span>         <span style=\"color: #008080; text-decoration-color: #008080; font-weight: bold\">3</span>, updating n_results = <span style=\"color: #008080; text-decoration-color: #008080; font-weight: bold\">3</span>                                                     <span style=\"color: #7f7f7f; text-decoration-color: #7f7f7f\">                 </span>\n",
       "</pre>\n"
      ],
      "text/plain": [
       "\u001b[2;36m          \u001b[0m\u001b[2;36m \u001b[0m\u001b[33mWARNING \u001b[0m Number of requested results \u001b[1;36m100\u001b[0m is greater than number of elements in index   \u001b]8;id=999375;file:///Users/ashwinaravind/.pyenv/versions/3.12.5/lib/python3.12/site-packages/chromadb/segment/impl/vector/local_hnsw.py\u001b\\\u001b[2mlocal_hnsw.py\u001b[0m\u001b]8;;\u001b\\\u001b[2m:\u001b[0m\u001b]8;id=237734;file:///Users/ashwinaravind/.pyenv/versions/3.12.5/lib/python3.12/site-packages/chromadb/segment/impl/vector/local_hnsw.py#138\u001b\\\u001b[2m138\u001b[0m\u001b]8;;\u001b\\\n",
       "\u001b[2;36m           \u001b[0m         \u001b[1;36m3\u001b[0m, updating n_results = \u001b[1;36m3\u001b[0m                                                     \u001b[2m                 \u001b[0m\n"
      ]
     },
     "metadata": {},
     "output_type": "display_data"
    },
    {
     "data": {
      "text/html": [
       "<pre style=\"white-space:pre;overflow-x:auto;line-height:normal;font-family:Menlo,'DejaVu Sans Mono',consolas,'Courier New',monospace\"><span style=\"color: #7fbfbf; text-decoration-color: #7fbfbf\">[11:04:07] </span><span style=\"color: #808000; text-decoration-color: #808000\">WARNING </span> Number of requested results <span style=\"color: #008080; text-decoration-color: #008080; font-weight: bold\">100</span> is greater than number of elements in index   <a href=\"file:///Users/ashwinaravind/.pyenv/versions/3.12.5/lib/python3.12/site-packages/chromadb/segment/impl/vector/local_hnsw.py\" target=\"_blank\"><span style=\"color: #7f7f7f; text-decoration-color: #7f7f7f\">local_hnsw.py</span></a><span style=\"color: #7f7f7f; text-decoration-color: #7f7f7f\">:</span><a href=\"file:///Users/ashwinaravind/.pyenv/versions/3.12.5/lib/python3.12/site-packages/chromadb/segment/impl/vector/local_hnsw.py#138\" target=\"_blank\"><span style=\"color: #7f7f7f; text-decoration-color: #7f7f7f\">138</span></a>\n",
       "<span style=\"color: #7fbfbf; text-decoration-color: #7fbfbf\">           </span>         <span style=\"color: #008080; text-decoration-color: #008080; font-weight: bold\">3</span>, updating n_results = <span style=\"color: #008080; text-decoration-color: #008080; font-weight: bold\">3</span>                                                     <span style=\"color: #7f7f7f; text-decoration-color: #7f7f7f\">                 </span>\n",
       "</pre>\n"
      ],
      "text/plain": [
       "\u001b[2;36m[11:04:07]\u001b[0m\u001b[2;36m \u001b[0m\u001b[33mWARNING \u001b[0m Number of requested results \u001b[1;36m100\u001b[0m is greater than number of elements in index   \u001b]8;id=83321;file:///Users/ashwinaravind/.pyenv/versions/3.12.5/lib/python3.12/site-packages/chromadb/segment/impl/vector/local_hnsw.py\u001b\\\u001b[2mlocal_hnsw.py\u001b[0m\u001b]8;;\u001b\\\u001b[2m:\u001b[0m\u001b]8;id=720708;file:///Users/ashwinaravind/.pyenv/versions/3.12.5/lib/python3.12/site-packages/chromadb/segment/impl/vector/local_hnsw.py#138\u001b\\\u001b[2m138\u001b[0m\u001b]8;;\u001b\\\n",
       "\u001b[2;36m           \u001b[0m         \u001b[1;36m3\u001b[0m, updating n_results = \u001b[1;36m3\u001b[0m                                                     \u001b[2m                 \u001b[0m\n"
      ]
     },
     "metadata": {},
     "output_type": "display_data"
    },
    {
     "data": {
      "text/html": [
       "<pre style=\"white-space:pre;overflow-x:auto;line-height:normal;font-family:Menlo,'DejaVu Sans Mono',consolas,'Courier New',monospace\"><span style=\"color: #7fbfbf; text-decoration-color: #7fbfbf\">           </span><span style=\"color: #808000; text-decoration-color: #808000\">WARNING </span> Number of requested results <span style=\"color: #008080; text-decoration-color: #008080; font-weight: bold\">100</span> is greater than number of elements in index   <a href=\"file:///Users/ashwinaravind/.pyenv/versions/3.12.5/lib/python3.12/site-packages/chromadb/segment/impl/vector/local_hnsw.py\" target=\"_blank\"><span style=\"color: #7f7f7f; text-decoration-color: #7f7f7f\">local_hnsw.py</span></a><span style=\"color: #7f7f7f; text-decoration-color: #7f7f7f\">:</span><a href=\"file:///Users/ashwinaravind/.pyenv/versions/3.12.5/lib/python3.12/site-packages/chromadb/segment/impl/vector/local_hnsw.py#138\" target=\"_blank\"><span style=\"color: #7f7f7f; text-decoration-color: #7f7f7f\">138</span></a>\n",
       "<span style=\"color: #7fbfbf; text-decoration-color: #7fbfbf\">           </span>         <span style=\"color: #008080; text-decoration-color: #008080; font-weight: bold\">3</span>, updating n_results = <span style=\"color: #008080; text-decoration-color: #008080; font-weight: bold\">3</span>                                                     <span style=\"color: #7f7f7f; text-decoration-color: #7f7f7f\">                 </span>\n",
       "</pre>\n"
      ],
      "text/plain": [
       "\u001b[2;36m          \u001b[0m\u001b[2;36m \u001b[0m\u001b[33mWARNING \u001b[0m Number of requested results \u001b[1;36m100\u001b[0m is greater than number of elements in index   \u001b]8;id=828424;file:///Users/ashwinaravind/.pyenv/versions/3.12.5/lib/python3.12/site-packages/chromadb/segment/impl/vector/local_hnsw.py\u001b\\\u001b[2mlocal_hnsw.py\u001b[0m\u001b]8;;\u001b\\\u001b[2m:\u001b[0m\u001b]8;id=830888;file:///Users/ashwinaravind/.pyenv/versions/3.12.5/lib/python3.12/site-packages/chromadb/segment/impl/vector/local_hnsw.py#138\u001b\\\u001b[2m138\u001b[0m\u001b]8;;\u001b\\\n",
       "\u001b[2;36m           \u001b[0m         \u001b[1;36m3\u001b[0m, updating n_results = \u001b[1;36m3\u001b[0m                                                     \u001b[2m                 \u001b[0m\n"
      ]
     },
     "metadata": {},
     "output_type": "display_data"
    },
    {
     "data": {
      "text/html": [
       "<pre style=\"white-space:pre;overflow-x:auto;line-height:normal;font-family:Menlo,'DejaVu Sans Mono',consolas,'Courier New',monospace\"><span style=\"color: #7fbfbf; text-decoration-color: #7fbfbf\">[11:04:08] </span><span style=\"color: #808000; text-decoration-color: #808000\">WARNING </span> Number of requested results <span style=\"color: #008080; text-decoration-color: #008080; font-weight: bold\">100</span> is greater than number of elements in index   <a href=\"file:///Users/ashwinaravind/.pyenv/versions/3.12.5/lib/python3.12/site-packages/chromadb/segment/impl/vector/local_hnsw.py\" target=\"_blank\"><span style=\"color: #7f7f7f; text-decoration-color: #7f7f7f\">local_hnsw.py</span></a><span style=\"color: #7f7f7f; text-decoration-color: #7f7f7f\">:</span><a href=\"file:///Users/ashwinaravind/.pyenv/versions/3.12.5/lib/python3.12/site-packages/chromadb/segment/impl/vector/local_hnsw.py#138\" target=\"_blank\"><span style=\"color: #7f7f7f; text-decoration-color: #7f7f7f\">138</span></a>\n",
       "<span style=\"color: #7fbfbf; text-decoration-color: #7fbfbf\">           </span>         <span style=\"color: #008080; text-decoration-color: #008080; font-weight: bold\">3</span>, updating n_results = <span style=\"color: #008080; text-decoration-color: #008080; font-weight: bold\">3</span>                                                     <span style=\"color: #7f7f7f; text-decoration-color: #7f7f7f\">                 </span>\n",
       "</pre>\n"
      ],
      "text/plain": [
       "\u001b[2;36m[11:04:08]\u001b[0m\u001b[2;36m \u001b[0m\u001b[33mWARNING \u001b[0m Number of requested results \u001b[1;36m100\u001b[0m is greater than number of elements in index   \u001b]8;id=691477;file:///Users/ashwinaravind/.pyenv/versions/3.12.5/lib/python3.12/site-packages/chromadb/segment/impl/vector/local_hnsw.py\u001b\\\u001b[2mlocal_hnsw.py\u001b[0m\u001b]8;;\u001b\\\u001b[2m:\u001b[0m\u001b]8;id=960727;file:///Users/ashwinaravind/.pyenv/versions/3.12.5/lib/python3.12/site-packages/chromadb/segment/impl/vector/local_hnsw.py#138\u001b\\\u001b[2m138\u001b[0m\u001b]8;;\u001b\\\n",
       "\u001b[2;36m           \u001b[0m         \u001b[1;36m3\u001b[0m, updating n_results = \u001b[1;36m3\u001b[0m                                                     \u001b[2m                 \u001b[0m\n"
      ]
     },
     "metadata": {},
     "output_type": "display_data"
    },
    {
     "data": {
      "text/html": [
       "<pre style=\"white-space:pre;overflow-x:auto;line-height:normal;font-family:Menlo,'DejaVu Sans Mono',consolas,'Courier New',monospace\"><span style=\"color: #7fbfbf; text-decoration-color: #7fbfbf\">           </span><span style=\"color: #808000; text-decoration-color: #808000\">WARNING </span> Number of requested results <span style=\"color: #008080; text-decoration-color: #008080; font-weight: bold\">100</span> is greater than number of elements in index   <a href=\"file:///Users/ashwinaravind/.pyenv/versions/3.12.5/lib/python3.12/site-packages/chromadb/segment/impl/vector/local_hnsw.py\" target=\"_blank\"><span style=\"color: #7f7f7f; text-decoration-color: #7f7f7f\">local_hnsw.py</span></a><span style=\"color: #7f7f7f; text-decoration-color: #7f7f7f\">:</span><a href=\"file:///Users/ashwinaravind/.pyenv/versions/3.12.5/lib/python3.12/site-packages/chromadb/segment/impl/vector/local_hnsw.py#138\" target=\"_blank\"><span style=\"color: #7f7f7f; text-decoration-color: #7f7f7f\">138</span></a>\n",
       "<span style=\"color: #7fbfbf; text-decoration-color: #7fbfbf\">           </span>         <span style=\"color: #008080; text-decoration-color: #008080; font-weight: bold\">3</span>, updating n_results = <span style=\"color: #008080; text-decoration-color: #008080; font-weight: bold\">3</span>                                                     <span style=\"color: #7f7f7f; text-decoration-color: #7f7f7f\">                 </span>\n",
       "</pre>\n"
      ],
      "text/plain": [
       "\u001b[2;36m          \u001b[0m\u001b[2;36m \u001b[0m\u001b[33mWARNING \u001b[0m Number of requested results \u001b[1;36m100\u001b[0m is greater than number of elements in index   \u001b]8;id=238563;file:///Users/ashwinaravind/.pyenv/versions/3.12.5/lib/python3.12/site-packages/chromadb/segment/impl/vector/local_hnsw.py\u001b\\\u001b[2mlocal_hnsw.py\u001b[0m\u001b]8;;\u001b\\\u001b[2m:\u001b[0m\u001b]8;id=639010;file:///Users/ashwinaravind/.pyenv/versions/3.12.5/lib/python3.12/site-packages/chromadb/segment/impl/vector/local_hnsw.py#138\u001b\\\u001b[2m138\u001b[0m\u001b]8;;\u001b\\\n",
       "\u001b[2;36m           \u001b[0m         \u001b[1;36m3\u001b[0m, updating n_results = \u001b[1;36m3\u001b[0m                                                     \u001b[2m                 \u001b[0m\n"
      ]
     },
     "metadata": {},
     "output_type": "display_data"
    },
    {
     "data": {
      "text/html": [
       "<pre style=\"white-space:pre;overflow-x:auto;line-height:normal;font-family:Menlo,'DejaVu Sans Mono',consolas,'Courier New',monospace\"><span style=\"color: #7fbfbf; text-decoration-color: #7fbfbf\">[11:04:09] </span><span style=\"color: #808000; text-decoration-color: #808000\">WARNING </span> Number of requested results <span style=\"color: #008080; text-decoration-color: #008080; font-weight: bold\">100</span> is greater than number of elements in index   <a href=\"file:///Users/ashwinaravind/.pyenv/versions/3.12.5/lib/python3.12/site-packages/chromadb/segment/impl/vector/local_hnsw.py\" target=\"_blank\"><span style=\"color: #7f7f7f; text-decoration-color: #7f7f7f\">local_hnsw.py</span></a><span style=\"color: #7f7f7f; text-decoration-color: #7f7f7f\">:</span><a href=\"file:///Users/ashwinaravind/.pyenv/versions/3.12.5/lib/python3.12/site-packages/chromadb/segment/impl/vector/local_hnsw.py#138\" target=\"_blank\"><span style=\"color: #7f7f7f; text-decoration-color: #7f7f7f\">138</span></a>\n",
       "<span style=\"color: #7fbfbf; text-decoration-color: #7fbfbf\">           </span>         <span style=\"color: #008080; text-decoration-color: #008080; font-weight: bold\">3</span>, updating n_results = <span style=\"color: #008080; text-decoration-color: #008080; font-weight: bold\">3</span>                                                     <span style=\"color: #7f7f7f; text-decoration-color: #7f7f7f\">                 </span>\n",
       "</pre>\n"
      ],
      "text/plain": [
       "\u001b[2;36m[11:04:09]\u001b[0m\u001b[2;36m \u001b[0m\u001b[33mWARNING \u001b[0m Number of requested results \u001b[1;36m100\u001b[0m is greater than number of elements in index   \u001b]8;id=866745;file:///Users/ashwinaravind/.pyenv/versions/3.12.5/lib/python3.12/site-packages/chromadb/segment/impl/vector/local_hnsw.py\u001b\\\u001b[2mlocal_hnsw.py\u001b[0m\u001b]8;;\u001b\\\u001b[2m:\u001b[0m\u001b]8;id=480758;file:///Users/ashwinaravind/.pyenv/versions/3.12.5/lib/python3.12/site-packages/chromadb/segment/impl/vector/local_hnsw.py#138\u001b\\\u001b[2m138\u001b[0m\u001b]8;;\u001b\\\n",
       "\u001b[2;36m           \u001b[0m         \u001b[1;36m3\u001b[0m, updating n_results = \u001b[1;36m3\u001b[0m                                                     \u001b[2m                 \u001b[0m\n"
      ]
     },
     "metadata": {},
     "output_type": "display_data"
    },
    {
     "data": {
      "text/html": [
       "<pre style=\"white-space:pre;overflow-x:auto;line-height:normal;font-family:Menlo,'DejaVu Sans Mono',consolas,'Courier New',monospace\"><span style=\"color: #7fbfbf; text-decoration-color: #7fbfbf\">           </span><span style=\"color: #808000; text-decoration-color: #808000\">WARNING </span> Number of requested results <span style=\"color: #008080; text-decoration-color: #008080; font-weight: bold\">100</span> is greater than number of elements in index   <a href=\"file:///Users/ashwinaravind/.pyenv/versions/3.12.5/lib/python3.12/site-packages/chromadb/segment/impl/vector/local_hnsw.py\" target=\"_blank\"><span style=\"color: #7f7f7f; text-decoration-color: #7f7f7f\">local_hnsw.py</span></a><span style=\"color: #7f7f7f; text-decoration-color: #7f7f7f\">:</span><a href=\"file:///Users/ashwinaravind/.pyenv/versions/3.12.5/lib/python3.12/site-packages/chromadb/segment/impl/vector/local_hnsw.py#138\" target=\"_blank\"><span style=\"color: #7f7f7f; text-decoration-color: #7f7f7f\">138</span></a>\n",
       "<span style=\"color: #7fbfbf; text-decoration-color: #7fbfbf\">           </span>         <span style=\"color: #008080; text-decoration-color: #008080; font-weight: bold\">3</span>, updating n_results = <span style=\"color: #008080; text-decoration-color: #008080; font-weight: bold\">3</span>                                                     <span style=\"color: #7f7f7f; text-decoration-color: #7f7f7f\">                 </span>\n",
       "</pre>\n"
      ],
      "text/plain": [
       "\u001b[2;36m          \u001b[0m\u001b[2;36m \u001b[0m\u001b[33mWARNING \u001b[0m Number of requested results \u001b[1;36m100\u001b[0m is greater than number of elements in index   \u001b]8;id=910350;file:///Users/ashwinaravind/.pyenv/versions/3.12.5/lib/python3.12/site-packages/chromadb/segment/impl/vector/local_hnsw.py\u001b\\\u001b[2mlocal_hnsw.py\u001b[0m\u001b]8;;\u001b\\\u001b[2m:\u001b[0m\u001b]8;id=536815;file:///Users/ashwinaravind/.pyenv/versions/3.12.5/lib/python3.12/site-packages/chromadb/segment/impl/vector/local_hnsw.py#138\u001b\\\u001b[2m138\u001b[0m\u001b]8;;\u001b\\\n",
       "\u001b[2;36m           \u001b[0m         \u001b[1;36m3\u001b[0m, updating n_results = \u001b[1;36m3\u001b[0m                                                     \u001b[2m                 \u001b[0m\n"
      ]
     },
     "metadata": {},
     "output_type": "display_data"
    },
    {
     "data": {
      "text/html": [
       "<pre style=\"white-space:pre;overflow-x:auto;line-height:normal;font-family:Menlo,'DejaVu Sans Mono',consolas,'Courier New',monospace\"><span style=\"color: #7fbfbf; text-decoration-color: #7fbfbf\">           </span><span style=\"color: #808000; text-decoration-color: #808000\">WARNING </span> Number of requested results <span style=\"color: #008080; text-decoration-color: #008080; font-weight: bold\">100</span> is greater than number of elements in index   <a href=\"file:///Users/ashwinaravind/.pyenv/versions/3.12.5/lib/python3.12/site-packages/chromadb/segment/impl/vector/local_hnsw.py\" target=\"_blank\"><span style=\"color: #7f7f7f; text-decoration-color: #7f7f7f\">local_hnsw.py</span></a><span style=\"color: #7f7f7f; text-decoration-color: #7f7f7f\">:</span><a href=\"file:///Users/ashwinaravind/.pyenv/versions/3.12.5/lib/python3.12/site-packages/chromadb/segment/impl/vector/local_hnsw.py#138\" target=\"_blank\"><span style=\"color: #7f7f7f; text-decoration-color: #7f7f7f\">138</span></a>\n",
       "<span style=\"color: #7fbfbf; text-decoration-color: #7fbfbf\">           </span>         <span style=\"color: #008080; text-decoration-color: #008080; font-weight: bold\">3</span>, updating n_results = <span style=\"color: #008080; text-decoration-color: #008080; font-weight: bold\">3</span>                                                     <span style=\"color: #7f7f7f; text-decoration-color: #7f7f7f\">                 </span>\n",
       "</pre>\n"
      ],
      "text/plain": [
       "\u001b[2;36m          \u001b[0m\u001b[2;36m \u001b[0m\u001b[33mWARNING \u001b[0m Number of requested results \u001b[1;36m100\u001b[0m is greater than number of elements in index   \u001b]8;id=100677;file:///Users/ashwinaravind/.pyenv/versions/3.12.5/lib/python3.12/site-packages/chromadb/segment/impl/vector/local_hnsw.py\u001b\\\u001b[2mlocal_hnsw.py\u001b[0m\u001b]8;;\u001b\\\u001b[2m:\u001b[0m\u001b]8;id=797115;file:///Users/ashwinaravind/.pyenv/versions/3.12.5/lib/python3.12/site-packages/chromadb/segment/impl/vector/local_hnsw.py#138\u001b\\\u001b[2m138\u001b[0m\u001b]8;;\u001b\\\n",
       "\u001b[2;36m           \u001b[0m         \u001b[1;36m3\u001b[0m, updating n_results = \u001b[1;36m3\u001b[0m                                                     \u001b[2m                 \u001b[0m\n"
      ]
     },
     "metadata": {},
     "output_type": "display_data"
    },
    {
     "data": {
      "text/html": [
       "<pre style=\"white-space:pre;overflow-x:auto;line-height:normal;font-family:Menlo,'DejaVu Sans Mono',consolas,'Courier New',monospace\"><span style=\"color: #7fbfbf; text-decoration-color: #7fbfbf\">[11:04:10] </span><span style=\"color: #808000; text-decoration-color: #808000\">WARNING </span> Number of requested results <span style=\"color: #008080; text-decoration-color: #008080; font-weight: bold\">100</span> is greater than number of elements in index   <a href=\"file:///Users/ashwinaravind/.pyenv/versions/3.12.5/lib/python3.12/site-packages/chromadb/segment/impl/vector/local_hnsw.py\" target=\"_blank\"><span style=\"color: #7f7f7f; text-decoration-color: #7f7f7f\">local_hnsw.py</span></a><span style=\"color: #7f7f7f; text-decoration-color: #7f7f7f\">:</span><a href=\"file:///Users/ashwinaravind/.pyenv/versions/3.12.5/lib/python3.12/site-packages/chromadb/segment/impl/vector/local_hnsw.py#138\" target=\"_blank\"><span style=\"color: #7f7f7f; text-decoration-color: #7f7f7f\">138</span></a>\n",
       "<span style=\"color: #7fbfbf; text-decoration-color: #7fbfbf\">           </span>         <span style=\"color: #008080; text-decoration-color: #008080; font-weight: bold\">3</span>, updating n_results = <span style=\"color: #008080; text-decoration-color: #008080; font-weight: bold\">3</span>                                                     <span style=\"color: #7f7f7f; text-decoration-color: #7f7f7f\">                 </span>\n",
       "</pre>\n"
      ],
      "text/plain": [
       "\u001b[2;36m[11:04:10]\u001b[0m\u001b[2;36m \u001b[0m\u001b[33mWARNING \u001b[0m Number of requested results \u001b[1;36m100\u001b[0m is greater than number of elements in index   \u001b]8;id=529835;file:///Users/ashwinaravind/.pyenv/versions/3.12.5/lib/python3.12/site-packages/chromadb/segment/impl/vector/local_hnsw.py\u001b\\\u001b[2mlocal_hnsw.py\u001b[0m\u001b]8;;\u001b\\\u001b[2m:\u001b[0m\u001b]8;id=27628;file:///Users/ashwinaravind/.pyenv/versions/3.12.5/lib/python3.12/site-packages/chromadb/segment/impl/vector/local_hnsw.py#138\u001b\\\u001b[2m138\u001b[0m\u001b]8;;\u001b\\\n",
       "\u001b[2;36m           \u001b[0m         \u001b[1;36m3\u001b[0m, updating n_results = \u001b[1;36m3\u001b[0m                                                     \u001b[2m                 \u001b[0m\n"
      ]
     },
     "metadata": {},
     "output_type": "display_data"
    },
    {
     "data": {
      "text/html": [
       "<pre style=\"white-space:pre;overflow-x:auto;line-height:normal;font-family:Menlo,'DejaVu Sans Mono',consolas,'Courier New',monospace\"><span style=\"color: #7fbfbf; text-decoration-color: #7fbfbf\">           </span><span style=\"color: #808000; text-decoration-color: #808000\">WARNING </span> Number of requested results <span style=\"color: #008080; text-decoration-color: #008080; font-weight: bold\">100</span> is greater than number of elements in index   <a href=\"file:///Users/ashwinaravind/.pyenv/versions/3.12.5/lib/python3.12/site-packages/chromadb/segment/impl/vector/local_hnsw.py\" target=\"_blank\"><span style=\"color: #7f7f7f; text-decoration-color: #7f7f7f\">local_hnsw.py</span></a><span style=\"color: #7f7f7f; text-decoration-color: #7f7f7f\">:</span><a href=\"file:///Users/ashwinaravind/.pyenv/versions/3.12.5/lib/python3.12/site-packages/chromadb/segment/impl/vector/local_hnsw.py#138\" target=\"_blank\"><span style=\"color: #7f7f7f; text-decoration-color: #7f7f7f\">138</span></a>\n",
       "<span style=\"color: #7fbfbf; text-decoration-color: #7fbfbf\">           </span>         <span style=\"color: #008080; text-decoration-color: #008080; font-weight: bold\">3</span>, updating n_results = <span style=\"color: #008080; text-decoration-color: #008080; font-weight: bold\">3</span>                                                     <span style=\"color: #7f7f7f; text-decoration-color: #7f7f7f\">                 </span>\n",
       "</pre>\n"
      ],
      "text/plain": [
       "\u001b[2;36m          \u001b[0m\u001b[2;36m \u001b[0m\u001b[33mWARNING \u001b[0m Number of requested results \u001b[1;36m100\u001b[0m is greater than number of elements in index   \u001b]8;id=564679;file:///Users/ashwinaravind/.pyenv/versions/3.12.5/lib/python3.12/site-packages/chromadb/segment/impl/vector/local_hnsw.py\u001b\\\u001b[2mlocal_hnsw.py\u001b[0m\u001b]8;;\u001b\\\u001b[2m:\u001b[0m\u001b]8;id=557526;file:///Users/ashwinaravind/.pyenv/versions/3.12.5/lib/python3.12/site-packages/chromadb/segment/impl/vector/local_hnsw.py#138\u001b\\\u001b[2m138\u001b[0m\u001b]8;;\u001b\\\n",
       "\u001b[2;36m           \u001b[0m         \u001b[1;36m3\u001b[0m, updating n_results = \u001b[1;36m3\u001b[0m                                                     \u001b[2m                 \u001b[0m\n"
      ]
     },
     "metadata": {},
     "output_type": "display_data"
    },
    {
     "data": {
      "application/vnd.jupyter.widget-view+json": {
       "model_id": "7c0d6ef24f9d41ff80b1c46387669f25",
       "version_major": 2,
       "version_minor": 0
      },
      "text/plain": [
       "Evaluating:   0%|          | 0/40 [00:00<?, ?it/s]"
      ]
     },
     "metadata": {},
     "output_type": "display_data"
    },
    {
     "name": "stderr",
     "output_type": "stream",
     "text": [
      "Exception in thread Thread-10:\n",
      "Traceback (most recent call last):\n",
      "  File \"/Users/ashwinaravind/.pyenv/versions/3.12.5/lib/python3.12/threading.py\", line 1075, in _bootstrap_inner\n",
      "    self.run()\n",
      "  File \"/Users/ashwinaravind/.pyenv/versions/3.12.5/lib/python3.12/site-packages/ragas/executor.py\", line 96, in run\n",
      "    results = self.loop.run_until_complete(self._aresults())\n",
      "              ^^^^^^^^^^^^^^^^^^^^^^^^^^^^^^^^^^^^^^^^^^^^^^\n",
      "  File \"/Users/ashwinaravind/.pyenv/versions/3.12.5/lib/python3.12/asyncio/base_events.py\", line 687, in run_until_complete\n",
      "    return future.result()\n",
      "           ^^^^^^^^^^^^^^^\n",
      "  File \"/Users/ashwinaravind/.pyenv/versions/3.12.5/lib/python3.12/site-packages/ragas/executor.py\", line 84, in _aresults\n",
      "    raise e\n",
      "  File \"/Users/ashwinaravind/.pyenv/versions/3.12.5/lib/python3.12/site-packages/ragas/executor.py\", line 79, in _aresults\n",
      "    r = await future\n",
      "        ^^^^^^^^^^^^\n",
      "  File \"/Users/ashwinaravind/.pyenv/versions/3.12.5/lib/python3.12/asyncio/tasks.py\", line 631, in _wait_for_one\n",
      "    return f.result()  # May raise f.exception().\n",
      "           ^^^^^^^^^^\n",
      "  File \"/Users/ashwinaravind/.pyenv/versions/3.12.5/lib/python3.12/site-packages/ragas/executor.py\", line 38, in sema_coro\n",
      "    return await coro\n",
      "           ^^^^^^^^^^\n",
      "  File \"/Users/ashwinaravind/.pyenv/versions/3.12.5/lib/python3.12/site-packages/ragas/executor.py\", line 112, in wrapped_callable_async\n",
      "    return counter, await callable(*args, **kwargs)\n",
      "                    ^^^^^^^^^^^^^^^^^^^^^^^^^^^^^^^\n",
      "  File \"/Users/ashwinaravind/.pyenv/versions/3.12.5/lib/python3.12/site-packages/ragas/metrics/base.py\", line 116, in ascore\n",
      "    raise e\n",
      "  File \"/Users/ashwinaravind/.pyenv/versions/3.12.5/lib/python3.12/site-packages/ragas/metrics/base.py\", line 112, in ascore\n",
      "    score = await self._ascore(row=row, callbacks=group_cm, is_async=is_async)\n",
      "            ^^^^^^^^^^^^^^^^^^^^^^^^^^^^^^^^^^^^^^^^^^^^^^^^^^^^^^^^^^^^^^^^^^\n",
      "  File \"/Users/ashwinaravind/.pyenv/versions/3.12.5/lib/python3.12/site-packages/ragas/metrics/_context_precision.py\", line 144, in _ascore\n",
      "    result = await self.llm.generate(\n",
      "             ^^^^^^^^^^^^^^^^^^^^^^^^\n",
      "  File \"/Users/ashwinaravind/.pyenv/versions/3.12.5/lib/python3.12/site-packages/ragas/llms/base.py\", line 92, in generate\n",
      "    return await agenerate_text_with_retry(\n",
      "           ^^^^^^^^^^^^^^^^^^^^^^^^^^^^^^^^\n",
      "  File \"/Users/ashwinaravind/.pyenv/versions/3.12.5/lib/python3.12/site-packages/tenacity/asyncio/__init__.py\", line 189, in async_wrapped\n",
      "    return await copy(fn, *args, **kwargs)\n",
      "           ^^^^^^^^^^^^^^^^^^^^^^^^^^^^^^^\n",
      "  File \"/Users/ashwinaravind/.pyenv/versions/3.12.5/lib/python3.12/site-packages/tenacity/asyncio/__init__.py\", line 111, in __call__\n",
      "    do = await self.iter(retry_state=retry_state)\n",
      "         ^^^^^^^^^^^^^^^^^^^^^^^^^^^^^^^^^^^^^^^^\n",
      "  File \"/Users/ashwinaravind/.pyenv/versions/3.12.5/lib/python3.12/site-packages/tenacity/asyncio/__init__.py\", line 153, in iter\n",
      "    result = await action(retry_state)\n",
      "             ^^^^^^^^^^^^^^^^^^^^^^^^^\n",
      "  File \"/Users/ashwinaravind/.pyenv/versions/3.12.5/lib/python3.12/site-packages/tenacity/_utils.py\", line 99, in inner\n",
      "    return call(*args, **kwargs)\n",
      "           ^^^^^^^^^^^^^^^^^^^^^\n",
      "  File \"/Users/ashwinaravind/.pyenv/versions/3.12.5/lib/python3.12/site-packages/tenacity/__init__.py\", line 418, in exc_check\n",
      "    raise retry_exc.reraise()\n",
      "          ^^^^^^^^^^^^^^^^^^^\n",
      "  File \"/Users/ashwinaravind/.pyenv/versions/3.12.5/lib/python3.12/site-packages/tenacity/__init__.py\", line 185, in reraise\n",
      "    raise self.last_attempt.result()\n",
      "          ^^^^^^^^^^^^^^^^^^^^^^^^^^\n",
      "  File \"/Users/ashwinaravind/.pyenv/versions/3.12.5/lib/python3.12/concurrent/futures/_base.py\", line 449, in result\n",
      "    return self.__get_result()\n",
      "           ^^^^^^^^^^^^^^^^^^^\n",
      "  File \"/Users/ashwinaravind/.pyenv/versions/3.12.5/lib/python3.12/concurrent/futures/_base.py\", line 401, in __get_result\n",
      "    raise self._exception\n",
      "  File \"/Users/ashwinaravind/.pyenv/versions/3.12.5/lib/python3.12/site-packages/tenacity/asyncio/__init__.py\", line 114, in __call__\n",
      "    result = await fn(*args, **kwargs)\n",
      "             ^^^^^^^^^^^^^^^^^^^^^^^^^\n",
      "  File \"/Users/ashwinaravind/.pyenv/versions/3.12.5/lib/python3.12/site-packages/ragas/llms/base.py\", line 169, in agenerate_text\n",
      "    return await self.langchain_llm.agenerate_prompt(\n",
      "           ^^^^^^^^^^^^^^^^^^^^^^^^^^^^^^^^^^^^^^^^^^\n",
      "  File \"/Users/ashwinaravind/.pyenv/versions/3.12.5/lib/python3.12/site-packages/langchain_core/language_models/chat_models.py\", line 708, in agenerate_prompt\n",
      "    return await self.agenerate(\n",
      "           ^^^^^^^^^^^^^^^^^^^^^\n",
      "  File \"/Users/ashwinaravind/.pyenv/versions/3.12.5/lib/python3.12/site-packages/langchain_core/language_models/chat_models.py\", line 668, in agenerate\n",
      "    raise exceptions[0]\n",
      "  File \"/Users/ashwinaravind/.pyenv/versions/3.12.5/lib/python3.12/site-packages/langchain_core/language_models/chat_models.py\", line 853, in _agenerate_with_cache\n",
      "    result = await self._agenerate(\n",
      "             ^^^^^^^^^^^^^^^^^^^^^^\n",
      "  File \"/Users/ashwinaravind/.pyenv/versions/3.12.5/lib/python3.12/site-packages/langchain_openai/chat_models/base.py\", line 740, in _agenerate\n",
      "    response = await self.async_client.create(**payload)\n",
      "               ^^^^^^^^^^^^^^^^^^^^^^^^^^^^^^^^^^^^^^^^^\n",
      "  File \"/Users/ashwinaravind/.pyenv/versions/3.12.5/lib/python3.12/site-packages/openai/resources/chat/completions.py\", line 1412, in create\n",
      "    return await self._post(\n",
      "           ^^^^^^^^^^^^^^^^^\n",
      "  File \"/Users/ashwinaravind/.pyenv/versions/3.12.5/lib/python3.12/site-packages/openai/_base_client.py\", line 1829, in post\n",
      "    return await self.request(cast_to, opts, stream=stream, stream_cls=stream_cls)\n",
      "           ^^^^^^^^^^^^^^^^^^^^^^^^^^^^^^^^^^^^^^^^^^^^^^^^^^^^^^^^^^^^^^^^^^^^^^^\n",
      "  File \"/Users/ashwinaravind/.pyenv/versions/3.12.5/lib/python3.12/site-packages/openai/_base_client.py\", line 1523, in request\n",
      "    return await self._request(\n",
      "           ^^^^^^^^^^^^^^^^^^^^\n",
      "  File \"/Users/ashwinaravind/.pyenv/versions/3.12.5/lib/python3.12/site-packages/openai/_base_client.py\", line 1609, in _request\n",
      "    return await self._retry_request(\n",
      "           ^^^^^^^^^^^^^^^^^^^^^^^^^^\n",
      "  File \"/Users/ashwinaravind/.pyenv/versions/3.12.5/lib/python3.12/site-packages/openai/_base_client.py\", line 1656, in _retry_request\n",
      "    return await self._request(\n",
      "           ^^^^^^^^^^^^^^^^^^^^\n",
      "  File \"/Users/ashwinaravind/.pyenv/versions/3.12.5/lib/python3.12/site-packages/openai/_base_client.py\", line 1609, in _request\n",
      "    return await self._retry_request(\n",
      "           ^^^^^^^^^^^^^^^^^^^^^^^^^^\n",
      "  File \"/Users/ashwinaravind/.pyenv/versions/3.12.5/lib/python3.12/site-packages/openai/_base_client.py\", line 1656, in _retry_request\n",
      "    return await self._request(\n",
      "           ^^^^^^^^^^^^^^^^^^^^\n",
      "  File \"/Users/ashwinaravind/.pyenv/versions/3.12.5/lib/python3.12/site-packages/openai/_base_client.py\", line 1624, in _request\n",
      "    raise self._make_status_error_from_response(err.response) from None\n",
      "openai.RateLimitError: Error code: 429 - {'error': {'message': 'You exceeded your current quota, please check your plan and billing details. For more information on this error, read the docs: https://platform.openai.com/docs/guides/error-codes/api-errors.', 'type': 'insufficient_quota', 'param': None, 'code': 'insufficient_quota'}}\n"
     ]
    },
    {
     "data": {
      "text/html": [
       "<pre style=\"white-space:pre;overflow-x:auto;line-height:normal;font-family:Menlo,'DejaVu Sans Mono',consolas,'Courier New',monospace\"><span style=\"color: #800000; text-decoration-color: #800000\">Trial failed: RAGAS evaluation failed: The runner thread which was running the jobs raised an exeception. Read the </span>\n",
       "<span style=\"color: #800000; text-decoration-color: #800000\">traceback above to debug it. You can also pass `</span><span style=\"color: #800000; text-decoration-color: #800000\">raise_exceptions</span><span style=\"color: #800000; text-decoration-color: #800000\">=</span><span style=\"color: #800000; text-decoration-color: #800000; font-style: italic\">False</span><span style=\"color: #800000; text-decoration-color: #800000\">` incase you want to show only a warning </span>\n",
       "<span style=\"color: #800000; text-decoration-color: #800000\">message instead.</span>\n",
       "</pre>\n"
      ],
      "text/plain": [
       "\u001b[31mTrial failed: RAGAS evaluation failed: The runner thread which was running the jobs raised an exeception. Read the \u001b[0m\n",
       "\u001b[31mtraceback above to debug it. You can also pass `\u001b[0m\u001b[31mraise_exceptions\u001b[0m\u001b[31m=\u001b[0m\u001b[3;31mFalse\u001b[0m\u001b[31m` incase you want to show only a warning \u001b[0m\n",
       "\u001b[31mmessage instead.\u001b[0m\n"
      ]
     },
     "metadata": {},
     "output_type": "display_data"
    },
    {
     "name": "stdout",
     "output_type": "stream",
     "text": [
      "[W 2024-12-14 11:06:24,431] Trial 0 failed with parameters: {'n_retrievers': 1, 'retriever_0_index': 0, 'final_k': 3} because of the following error: OptimizationError('Trial failed: RAGAS evaluation failed: The runner thread which was running the jobs raised an exeception. Read the traceback above to debug it. You can also pass `raise_exceptions=False` incase you want to show only a warning message instead.').\n",
      "Traceback (most recent call last):\n",
      "  File \"/Users/ashwinaravind/Desktop/kruxgitrepo/ragbuilder/src/ragbuilder/retriever/evaluation.py\", line 126, in evaluate\n",
      "    results = evaluate(\n",
      "              ^^^^^^^^^\n",
      "  File \"/Users/ashwinaravind/.pyenv/versions/3.12.5/lib/python3.12/site-packages/ragas/evaluation.py\", line 231, in evaluate\n",
      "    raise e\n",
      "  File \"/Users/ashwinaravind/.pyenv/versions/3.12.5/lib/python3.12/site-packages/ragas/evaluation.py\", line 213, in evaluate\n",
      "    raise ExceptionInRunner()\n",
      "ragas.exceptions.ExceptionInRunner: The runner thread which was running the jobs raised an exeception. Read the traceback above to debug it. You can also pass `raise_exceptions=False` incase you want to show only a warning message instead.\n",
      "\n",
      "During handling of the above exception, another exception occurred:\n",
      "\n",
      "Traceback (most recent call last):\n",
      "  File \"/Users/ashwinaravind/Desktop/kruxgitrepo/ragbuilder/src/ragbuilder/retriever/optimization.py\", line 185, in _objective\n",
      "    avg_score, question_details = self.evaluator.evaluate(pipeline)\n",
      "                                  ^^^^^^^^^^^^^^^^^^^^^^^^^^^^^^^^^\n",
      "  File \"/Users/ashwinaravind/Desktop/kruxgitrepo/ragbuilder/src/ragbuilder/retriever/evaluation.py\", line 181, in evaluate\n",
      "    raise EvaluationError(f\"RAGAS evaluation failed: {str(e)}\")\n",
      "ragbuilder.core.exceptions.EvaluationError: RAGAS evaluation failed: The runner thread which was running the jobs raised an exeception. Read the traceback above to debug it. You can also pass `raise_exceptions=False` incase you want to show only a warning message instead.\n",
      "\n",
      "The above exception was the direct cause of the following exception:\n",
      "\n",
      "Traceback (most recent call last):\n",
      "  File \"/Users/ashwinaravind/.pyenv/versions/3.12.5/lib/python3.12/site-packages/optuna/study/_optimize.py\", line 197, in _run_trial\n",
      "    value_or_values = func(trial)\n",
      "                      ^^^^^^^^^^^\n",
      "  File \"/Users/ashwinaravind/Desktop/kruxgitrepo/ragbuilder/src/ragbuilder/retriever/optimization.py\", line 214, in _objective\n",
      "    raise OptimizationError(f\"Trial failed: {str(e)}\") from e\n",
      "ragbuilder.core.exceptions.OptimizationError: Trial failed: RAGAS evaluation failed: The runner thread which was running the jobs raised an exeception. Read the traceback above to debug it. You can also pass `raise_exceptions=False` incase you want to show only a warning message instead.\n",
      "[W 2024-12-14 11:06:24,433] Trial 0 failed with value None.\n"
     ]
    },
    {
     "ename": "OptimizationError",
     "evalue": "Trial failed: RAGAS evaluation failed: The runner thread which was running the jobs raised an exeception. Read the traceback above to debug it. You can also pass `raise_exceptions=False` incase you want to show only a warning message instead.",
     "output_type": "error",
     "traceback": [
      "\u001b[0;31m---------------------------------------------------------------------------\u001b[0m",
      "\u001b[0;31mExceptionInRunner\u001b[0m                         Traceback (most recent call last)",
      "File \u001b[0;32m~/Desktop/kruxgitrepo/ragbuilder/src/ragbuilder/retriever/evaluation.py:126\u001b[0m, in \u001b[0;36mRetrieverF1ScoreEvaluator.evaluate\u001b[0;34m(self, pipeline, llm, embeddings)\u001b[0m\n\u001b[1;32m    125\u001b[0m \u001b[38;5;28;01mtry\u001b[39;00m:\n\u001b[0;32m--> 126\u001b[0m     results \u001b[38;5;241m=\u001b[39m \u001b[43mevaluate\u001b[49m\u001b[43m(\u001b[49m\n\u001b[1;32m    127\u001b[0m \u001b[43m        \u001b[49m\u001b[43meval_dataset\u001b[49m\u001b[43m,\u001b[49m\n\u001b[1;32m    128\u001b[0m \u001b[43m        \u001b[49m\u001b[43mmetrics\u001b[49m\u001b[38;5;241;43m=\u001b[39;49m\u001b[43m[\u001b[49m\n\u001b[1;32m    129\u001b[0m \u001b[43m            \u001b[49m\u001b[43mcontext_precision\u001b[49m\u001b[43m,\u001b[49m\n\u001b[1;32m    130\u001b[0m \u001b[43m            \u001b[49m\u001b[43mcontext_recall\u001b[49m\n\u001b[1;32m    131\u001b[0m \u001b[43m        \u001b[49m\u001b[43m]\u001b[49m\u001b[43m,\u001b[49m\n\u001b[1;32m    132\u001b[0m \u001b[43m        \u001b[49m\u001b[43mllm\u001b[49m\u001b[38;5;241;43m=\u001b[39;49m\u001b[38;5;28;43mself\u001b[39;49m\u001b[38;5;241;43m.\u001b[39;49m\u001b[43mllm\u001b[49m\u001b[43m,\u001b[49m\n\u001b[1;32m    133\u001b[0m \u001b[43m        \u001b[49m\u001b[43membeddings\u001b[49m\u001b[38;5;241;43m=\u001b[39;49m\u001b[38;5;28;43mself\u001b[39;49m\u001b[38;5;241;43m.\u001b[39;49m\u001b[43membeddings\u001b[49m\u001b[43m,\u001b[49m\n\u001b[1;32m    134\u001b[0m \u001b[43m        \u001b[49m\u001b[43mis_async\u001b[49m\u001b[38;5;241;43m=\u001b[39;49m\u001b[38;5;28;43;01mTrue\u001b[39;49;00m\u001b[43m,\u001b[49m\n\u001b[1;32m    135\u001b[0m \u001b[43m        \u001b[49m\u001b[43mrun_config\u001b[49m\u001b[38;5;241;43m=\u001b[39;49m\u001b[38;5;28;43mself\u001b[39;49m\u001b[38;5;241;43m.\u001b[39;49m\u001b[43mrun_config\u001b[49m\n\u001b[1;32m    136\u001b[0m \u001b[43m    \u001b[49m\u001b[43m)\u001b[49m\n\u001b[1;32m    138\u001b[0m     \u001b[38;5;66;03m# Convert results to detailed format\u001b[39;00m\n",
      "File \u001b[0;32m~/.pyenv/versions/3.12.5/lib/python3.12/site-packages/ragas/evaluation.py:231\u001b[0m, in \u001b[0;36mevaluate\u001b[0;34m(dataset, metrics, llm, embeddings, callbacks, is_async, run_config, raise_exceptions, column_map)\u001b[0m\n\u001b[1;32m    229\u001b[0m         evaluation_rm\u001b[38;5;241m.\u001b[39mon_chain_error(e)\n\u001b[0;32m--> 231\u001b[0m     \u001b[38;5;28;01mraise\u001b[39;00m e\n\u001b[1;32m    232\u001b[0m \u001b[38;5;28;01melse\u001b[39;00m:\n",
      "File \u001b[0;32m~/.pyenv/versions/3.12.5/lib/python3.12/site-packages/ragas/evaluation.py:213\u001b[0m, in \u001b[0;36mevaluate\u001b[0;34m(dataset, metrics, llm, embeddings, callbacks, is_async, run_config, raise_exceptions, column_map)\u001b[0m\n\u001b[1;32m    212\u001b[0m \u001b[38;5;28;01mif\u001b[39;00m results \u001b[38;5;241m==\u001b[39m []:\n\u001b[0;32m--> 213\u001b[0m     \u001b[38;5;28;01mraise\u001b[39;00m ExceptionInRunner()\n\u001b[1;32m    215\u001b[0m \u001b[38;5;66;03m# convert results to dataset_like\u001b[39;00m\n",
      "\u001b[0;31mExceptionInRunner\u001b[0m: The runner thread which was running the jobs raised an exeception. Read the traceback above to debug it. You can also pass `raise_exceptions=False` incase you want to show only a warning message instead.",
      "\nDuring handling of the above exception, another exception occurred:\n",
      "\u001b[0;31mEvaluationError\u001b[0m                           Traceback (most recent call last)",
      "File \u001b[0;32m~/Desktop/kruxgitrepo/ragbuilder/src/ragbuilder/retriever/optimization.py:185\u001b[0m, in \u001b[0;36mRetrieverOptimization._objective\u001b[0;34m(self, trial)\u001b[0m\n\u001b[1;32m    169\u001b[0m \u001b[38;5;66;03m# Evaluate retrieval performance\u001b[39;00m\n\u001b[1;32m    170\u001b[0m \u001b[38;5;66;03m# metrics = []\u001b[39;00m\n\u001b[1;32m    171\u001b[0m \u001b[38;5;66;03m# for test_query in self.test_queries:\u001b[39;00m\n\u001b[0;32m   (...)\u001b[0m\n\u001b[1;32m    183\u001b[0m \u001b[38;5;66;03m#     for k in metrics[0].keys()\u001b[39;00m\n\u001b[1;32m    184\u001b[0m \u001b[38;5;66;03m# }\u001b[39;00m\n\u001b[0;32m--> 185\u001b[0m avg_score, question_details \u001b[38;5;241m=\u001b[39m \u001b[38;5;28;43mself\u001b[39;49m\u001b[38;5;241;43m.\u001b[39;49m\u001b[43mevaluator\u001b[49m\u001b[38;5;241;43m.\u001b[39;49m\u001b[43mevaluate\u001b[49m\u001b[43m(\u001b[49m\u001b[43mpipeline\u001b[49m\u001b[43m)\u001b[49m\n\u001b[1;32m    187\u001b[0m metrics \u001b[38;5;241m=\u001b[39m \u001b[38;5;28mself\u001b[39m\u001b[38;5;241m.\u001b[39m_calculate_aggregate_metrics(question_details)\n",
      "File \u001b[0;32m~/Desktop/kruxgitrepo/ragbuilder/src/ragbuilder/retriever/evaluation.py:181\u001b[0m, in \u001b[0;36mRetrieverF1ScoreEvaluator.evaluate\u001b[0;34m(self, pipeline, llm, embeddings)\u001b[0m\n\u001b[1;32m    180\u001b[0m \u001b[38;5;28;01mexcept\u001b[39;00m \u001b[38;5;167;01mException\u001b[39;00m \u001b[38;5;28;01mas\u001b[39;00m e:\n\u001b[0;32m--> 181\u001b[0m     \u001b[38;5;28;01mraise\u001b[39;00m EvaluationError(\u001b[38;5;124mf\u001b[39m\u001b[38;5;124m\"\u001b[39m\u001b[38;5;124mRAGAS evaluation failed: \u001b[39m\u001b[38;5;132;01m{\u001b[39;00m\u001b[38;5;28mstr\u001b[39m(e)\u001b[38;5;132;01m}\u001b[39;00m\u001b[38;5;124m\"\u001b[39m)\n",
      "\u001b[0;31mEvaluationError\u001b[0m: RAGAS evaluation failed: The runner thread which was running the jobs raised an exeception. Read the traceback above to debug it. You can also pass `raise_exceptions=False` incase you want to show only a warning message instead.",
      "\nThe above exception was the direct cause of the following exception:\n",
      "\u001b[0;31mOptimizationError\u001b[0m                         Traceback (most recent call last)",
      "Cell \u001b[0;32mIn[1], line 3\u001b[0m\n\u001b[1;32m      1\u001b[0m \u001b[38;5;28;01mfrom\u001b[39;00m \u001b[38;5;21;01mragbuilder\u001b[39;00m\u001b[38;5;21;01m.\u001b[39;00m\u001b[38;5;21;01mcore\u001b[39;00m\u001b[38;5;21;01m.\u001b[39;00m\u001b[38;5;21;01mbuilder\u001b[39;00m \u001b[38;5;28;01mimport\u001b[39;00m RAGBuilder\n\u001b[1;32m      2\u001b[0m builder\u001b[38;5;241m=\u001b[39mRAGBuilder\u001b[38;5;241m.\u001b[39mfrom_yaml(\u001b[38;5;124m\"\u001b[39m\u001b[38;5;124m/Users/ashwinaravind/Desktop/kruxgitrepo/ragbuilder/demo.yaml\u001b[39m\u001b[38;5;124m\"\u001b[39m)\n\u001b[0;32m----> 3\u001b[0m \u001b[43mbuilder\u001b[49m\u001b[38;5;241;43m.\u001b[39;49m\u001b[43moptimize\u001b[49m\u001b[43m(\u001b[49m\u001b[43m)\u001b[49m\n\u001b[1;32m      4\u001b[0m \u001b[38;5;66;03m# builder.get_best_pipeline(\"generation\").invoke(\"Who is Clara?\")\u001b[39;00m\n",
      "File \u001b[0;32m~/Desktop/kruxgitrepo/ragbuilder/src/ragbuilder/core/builder.py:205\u001b[0m, in \u001b[0;36mRAGBuilder.optimize\u001b[0;34m(self)\u001b[0m\n\u001b[1;32m    198\u001b[0m \u001b[38;5;250m\u001b[39m\u001b[38;5;124;03m\"\"\"\u001b[39;00m\n\u001b[1;32m    199\u001b[0m \u001b[38;5;124;03mRun end-to-end optimization for both data ingestion and retrieval\u001b[39;00m\n\u001b[1;32m    200\u001b[0m \u001b[38;5;124;03m\u001b[39;00m\n\u001b[1;32m    201\u001b[0m \u001b[38;5;124;03mReturns:\u001b[39;00m\n\u001b[1;32m    202\u001b[0m \u001b[38;5;124;03m    Dict containing results for both data ingestion and retrieval optimizations\u001b[39;00m\n\u001b[1;32m    203\u001b[0m \u001b[38;5;124;03m\"\"\"\u001b[39;00m\n\u001b[1;32m    204\u001b[0m data_ingest_results \u001b[38;5;241m=\u001b[39m \u001b[38;5;28mself\u001b[39m\u001b[38;5;241m.\u001b[39moptimize_data_ingest()\n\u001b[0;32m--> 205\u001b[0m retrieval_results \u001b[38;5;241m=\u001b[39m \u001b[38;5;28;43mself\u001b[39;49m\u001b[38;5;241;43m.\u001b[39;49m\u001b[43moptimize_retrieval\u001b[49m\u001b[43m(\u001b[49m\u001b[43m)\u001b[49m\n\u001b[1;32m    206\u001b[0m generation_results \u001b[38;5;241m=\u001b[39m \u001b[38;5;28mself\u001b[39m\u001b[38;5;241m.\u001b[39moptimize_generation()\n\u001b[1;32m    208\u001b[0m \u001b[38;5;28mself\u001b[39m\u001b[38;5;241m.\u001b[39m_optimization_results \u001b[38;5;241m=\u001b[39m {\n\u001b[1;32m    209\u001b[0m     \u001b[38;5;124m\"\u001b[39m\u001b[38;5;124mdata_ingest\u001b[39m\u001b[38;5;124m\"\u001b[39m: data_ingest_results,\n\u001b[1;32m    210\u001b[0m     \u001b[38;5;124m\"\u001b[39m\u001b[38;5;124mretrieval\u001b[39m\u001b[38;5;124m\"\u001b[39m: retrieval_results\n\u001b[1;32m    211\u001b[0m }\n",
      "File \u001b[0;32m~/Desktop/kruxgitrepo/ragbuilder/src/ragbuilder/core/builder.py:152\u001b[0m, in \u001b[0;36mRAGBuilder.optimize_retrieval\u001b[0;34m(self, config, vectorstore)\u001b[0m\n\u001b[1;32m    148\u001b[0m     \u001b[38;5;28mself\u001b[39m\u001b[38;5;241m.\u001b[39m_retrieval_config \u001b[38;5;241m=\u001b[39m RetrievalOptionsConfig\u001b[38;5;241m.\u001b[39mwith_defaults()\n\u001b[1;32m    150\u001b[0m \u001b[38;5;28mself\u001b[39m\u001b[38;5;241m.\u001b[39m_ensure_eval_dataset(\u001b[38;5;28mself\u001b[39m\u001b[38;5;241m.\u001b[39m_retrieval_config)\n\u001b[0;32m--> 152\u001b[0m results \u001b[38;5;241m=\u001b[39m \u001b[43mrun_retrieval_optimization\u001b[49m\u001b[43m(\u001b[49m\n\u001b[1;32m    153\u001b[0m \u001b[43m    \u001b[49m\u001b[38;5;28;43mself\u001b[39;49m\u001b[38;5;241;43m.\u001b[39;49m\u001b[43m_retrieval_config\u001b[49m\u001b[43m,\u001b[49m\u001b[43m \u001b[49m\n\u001b[1;32m    154\u001b[0m \u001b[43m    \u001b[49m\u001b[43mvectorstore\u001b[49m\u001b[38;5;241;43m=\u001b[39;49m\u001b[38;5;28;43mself\u001b[39;49m\u001b[38;5;241;43m.\u001b[39;49m\u001b[43m_optimized_store\u001b[49m\u001b[43m,\u001b[49m\n\u001b[1;32m    155\u001b[0m \u001b[43m    \u001b[49m\u001b[43mlog_config\u001b[49m\u001b[38;5;241;43m=\u001b[39;49m\u001b[38;5;28;43mself\u001b[39;49m\u001b[38;5;241;43m.\u001b[39;49m\u001b[43m_log_config\u001b[49m\n\u001b[1;32m    156\u001b[0m \u001b[43m\u001b[49m\u001b[43m)\u001b[49m\n\u001b[1;32m    158\u001b[0m \u001b[38;5;28mself\u001b[39m\u001b[38;5;241m.\u001b[39m_optimization_results[\u001b[38;5;124m\"\u001b[39m\u001b[38;5;124mretrieval\u001b[39m\u001b[38;5;124m\"\u001b[39m] \u001b[38;5;241m=\u001b[39m results\n\u001b[1;32m    159\u001b[0m \u001b[38;5;28mself\u001b[39m\u001b[38;5;241m.\u001b[39m_optimized_retriever \u001b[38;5;241m=\u001b[39m results[\u001b[38;5;124m\"\u001b[39m\u001b[38;5;124mbest_pipeline\u001b[39m\u001b[38;5;124m\"\u001b[39m]\n",
      "File \u001b[0;32m~/Desktop/kruxgitrepo/ragbuilder/src/ragbuilder/retriever/optimization.py:331\u001b[0m, in \u001b[0;36mrun_retrieval_optimization\u001b[0;34m(options_config, vectorstore, log_config)\u001b[0m\n\u001b[1;32m    322\u001b[0m     evaluator \u001b[38;5;241m=\u001b[39m RetrieverF1ScoreEvaluator(options_config\u001b[38;5;241m.\u001b[39mevaluation_config)\n\u001b[1;32m    324\u001b[0m optimizer \u001b[38;5;241m=\u001b[39m RetrieverOptimization(\n\u001b[1;32m    325\u001b[0m     options_config, \n\u001b[1;32m    326\u001b[0m     evaluator, \n\u001b[1;32m    327\u001b[0m     vectorstore\u001b[38;5;241m=\u001b[39mvectorstore,\n\u001b[1;32m    328\u001b[0m     show_progress_bar\u001b[38;5;241m=\u001b[39mlog_config\u001b[38;5;241m.\u001b[39mshow_progress_bar \u001b[38;5;28;01mif\u001b[39;00m log_config \u001b[38;5;28;01melse\u001b[39;00m \u001b[38;5;28;01mTrue\u001b[39;00m\n\u001b[1;32m    329\u001b[0m )\n\u001b[0;32m--> 331\u001b[0m best_config, best_score, best_pipeline \u001b[38;5;241m=\u001b[39m \u001b[43moptimizer\u001b[49m\u001b[38;5;241;43m.\u001b[39;49m\u001b[43moptimize\u001b[49m\u001b[43m(\u001b[49m\u001b[43m)\u001b[49m\n\u001b[1;32m    333\u001b[0m \u001b[38;5;28;01mreturn\u001b[39;00m {\n\u001b[1;32m    334\u001b[0m     \u001b[38;5;124m\"\u001b[39m\u001b[38;5;124mbest_config\u001b[39m\u001b[38;5;124m\"\u001b[39m: best_config,\n\u001b[1;32m    335\u001b[0m     \u001b[38;5;124m\"\u001b[39m\u001b[38;5;124mbest_score\u001b[39m\u001b[38;5;124m\"\u001b[39m: best_score,\n\u001b[0;32m   (...)\u001b[0m\n\u001b[1;32m    341\u001b[0m     }\n\u001b[1;32m    342\u001b[0m }\n",
      "File \u001b[0;32m~/Desktop/kruxgitrepo/ragbuilder/src/ragbuilder/retriever/optimization.py:235\u001b[0m, in \u001b[0;36mRetrieverOptimization.optimize\u001b[0;34m(self)\u001b[0m\n\u001b[1;32m    225\u001b[0m \u001b[38;5;66;03m# Create study with appropriate settings\u001b[39;00m\n\u001b[1;32m    226\u001b[0m \u001b[38;5;28mself\u001b[39m\u001b[38;5;241m.\u001b[39mstudy \u001b[38;5;241m=\u001b[39m create_study(\n\u001b[1;32m    227\u001b[0m     storage\u001b[38;5;241m=\u001b[39m\u001b[38;5;28mself\u001b[39m\u001b[38;5;241m.\u001b[39moptions_config\u001b[38;5;241m.\u001b[39moptimization\u001b[38;5;241m.\u001b[39mstorage,\n\u001b[1;32m    228\u001b[0m     study_name\u001b[38;5;241m=\u001b[39m\u001b[38;5;28mself\u001b[39m\u001b[38;5;241m.\u001b[39moptions_config\u001b[38;5;241m.\u001b[39moptimization\u001b[38;5;241m.\u001b[39mstudy_name,\n\u001b[0;32m   (...)\u001b[0m\n\u001b[1;32m    232\u001b[0m     pruner\u001b[38;5;241m=\u001b[39moptuna\u001b[38;5;241m.\u001b[39mpruners\u001b[38;5;241m.\u001b[39mMedianPruner()\n\u001b[1;32m    233\u001b[0m )\n\u001b[0;32m--> 235\u001b[0m \u001b[38;5;28;43mself\u001b[39;49m\u001b[38;5;241;43m.\u001b[39;49m\u001b[43mstudy\u001b[49m\u001b[38;5;241;43m.\u001b[39;49m\u001b[43moptimize\u001b[49m\u001b[43m(\u001b[49m\n\u001b[1;32m    236\u001b[0m \u001b[43m    \u001b[49m\u001b[38;5;28;43mself\u001b[39;49m\u001b[38;5;241;43m.\u001b[39;49m\u001b[43m_objective\u001b[49m\u001b[43m,\u001b[49m\n\u001b[1;32m    237\u001b[0m \u001b[43m    \u001b[49m\u001b[43mn_trials\u001b[49m\u001b[38;5;241;43m=\u001b[39;49m\u001b[38;5;28;43mself\u001b[39;49m\u001b[38;5;241;43m.\u001b[39;49m\u001b[43moptions_config\u001b[49m\u001b[38;5;241;43m.\u001b[39;49m\u001b[43moptimization\u001b[49m\u001b[38;5;241;43m.\u001b[39;49m\u001b[43mn_trials\u001b[49m\u001b[43m,\u001b[49m\n\u001b[1;32m    238\u001b[0m \u001b[43m    \u001b[49m\u001b[43mn_jobs\u001b[49m\u001b[38;5;241;43m=\u001b[39;49m\u001b[38;5;28;43mself\u001b[39;49m\u001b[38;5;241;43m.\u001b[39;49m\u001b[43moptions_config\u001b[49m\u001b[38;5;241;43m.\u001b[39;49m\u001b[43moptimization\u001b[49m\u001b[38;5;241;43m.\u001b[39;49m\u001b[43mn_jobs\u001b[49m\u001b[43m,\u001b[49m\n\u001b[1;32m    239\u001b[0m \u001b[43m    \u001b[49m\u001b[43mtimeout\u001b[49m\u001b[38;5;241;43m=\u001b[39;49m\u001b[38;5;28;43mself\u001b[39;49m\u001b[38;5;241;43m.\u001b[39;49m\u001b[43moptions_config\u001b[49m\u001b[38;5;241;43m.\u001b[39;49m\u001b[43moptimization\u001b[49m\u001b[38;5;241;43m.\u001b[39;49m\u001b[43mtimeout\u001b[49m\u001b[43m,\u001b[49m\n\u001b[1;32m    240\u001b[0m \u001b[43m    \u001b[49m\u001b[43mshow_progress_bar\u001b[49m\u001b[38;5;241;43m=\u001b[39;49m\u001b[38;5;28;43mself\u001b[39;49m\u001b[38;5;241;43m.\u001b[39;49m\u001b[43mshow_progress_bar\u001b[49m\n\u001b[1;32m    241\u001b[0m \u001b[43m\u001b[49m\u001b[43m)\u001b[49m\n\u001b[1;32m    243\u001b[0m \u001b[38;5;66;03m# Translate indices to actual component names\u001b[39;00m\n\u001b[1;32m    244\u001b[0m readable_params \u001b[38;5;241m=\u001b[39m {}\n",
      "File \u001b[0;32m~/.pyenv/versions/3.12.5/lib/python3.12/site-packages/optuna/study/study.py:475\u001b[0m, in \u001b[0;36mStudy.optimize\u001b[0;34m(self, func, n_trials, timeout, n_jobs, catch, callbacks, gc_after_trial, show_progress_bar)\u001b[0m\n\u001b[1;32m    373\u001b[0m \u001b[38;5;28;01mdef\u001b[39;00m \u001b[38;5;21moptimize\u001b[39m(\n\u001b[1;32m    374\u001b[0m     \u001b[38;5;28mself\u001b[39m,\n\u001b[1;32m    375\u001b[0m     func: ObjectiveFuncType,\n\u001b[0;32m   (...)\u001b[0m\n\u001b[1;32m    382\u001b[0m     show_progress_bar: \u001b[38;5;28mbool\u001b[39m \u001b[38;5;241m=\u001b[39m \u001b[38;5;28;01mFalse\u001b[39;00m,\n\u001b[1;32m    383\u001b[0m ) \u001b[38;5;241m-\u001b[39m\u001b[38;5;241m>\u001b[39m \u001b[38;5;28;01mNone\u001b[39;00m:\n\u001b[1;32m    384\u001b[0m \u001b[38;5;250m    \u001b[39m\u001b[38;5;124;03m\"\"\"Optimize an objective function.\u001b[39;00m\n\u001b[1;32m    385\u001b[0m \n\u001b[1;32m    386\u001b[0m \u001b[38;5;124;03m    Optimization is done by choosing a suitable set of hyperparameter values from a given\u001b[39;00m\n\u001b[0;32m   (...)\u001b[0m\n\u001b[1;32m    473\u001b[0m \u001b[38;5;124;03m            If nested invocation of this method occurs.\u001b[39;00m\n\u001b[1;32m    474\u001b[0m \u001b[38;5;124;03m    \"\"\"\u001b[39;00m\n\u001b[0;32m--> 475\u001b[0m     \u001b[43m_optimize\u001b[49m\u001b[43m(\u001b[49m\n\u001b[1;32m    476\u001b[0m \u001b[43m        \u001b[49m\u001b[43mstudy\u001b[49m\u001b[38;5;241;43m=\u001b[39;49m\u001b[38;5;28;43mself\u001b[39;49m\u001b[43m,\u001b[49m\n\u001b[1;32m    477\u001b[0m \u001b[43m        \u001b[49m\u001b[43mfunc\u001b[49m\u001b[38;5;241;43m=\u001b[39;49m\u001b[43mfunc\u001b[49m\u001b[43m,\u001b[49m\n\u001b[1;32m    478\u001b[0m \u001b[43m        \u001b[49m\u001b[43mn_trials\u001b[49m\u001b[38;5;241;43m=\u001b[39;49m\u001b[43mn_trials\u001b[49m\u001b[43m,\u001b[49m\n\u001b[1;32m    479\u001b[0m \u001b[43m        \u001b[49m\u001b[43mtimeout\u001b[49m\u001b[38;5;241;43m=\u001b[39;49m\u001b[43mtimeout\u001b[49m\u001b[43m,\u001b[49m\n\u001b[1;32m    480\u001b[0m \u001b[43m        \u001b[49m\u001b[43mn_jobs\u001b[49m\u001b[38;5;241;43m=\u001b[39;49m\u001b[43mn_jobs\u001b[49m\u001b[43m,\u001b[49m\n\u001b[1;32m    481\u001b[0m \u001b[43m        \u001b[49m\u001b[43mcatch\u001b[49m\u001b[38;5;241;43m=\u001b[39;49m\u001b[38;5;28;43mtuple\u001b[39;49m\u001b[43m(\u001b[49m\u001b[43mcatch\u001b[49m\u001b[43m)\u001b[49m\u001b[43m \u001b[49m\u001b[38;5;28;43;01mif\u001b[39;49;00m\u001b[43m \u001b[49m\u001b[38;5;28;43misinstance\u001b[39;49m\u001b[43m(\u001b[49m\u001b[43mcatch\u001b[49m\u001b[43m,\u001b[49m\u001b[43m \u001b[49m\u001b[43mIterable\u001b[49m\u001b[43m)\u001b[49m\u001b[43m \u001b[49m\u001b[38;5;28;43;01melse\u001b[39;49;00m\u001b[43m \u001b[49m\u001b[43m(\u001b[49m\u001b[43mcatch\u001b[49m\u001b[43m,\u001b[49m\u001b[43m)\u001b[49m\u001b[43m,\u001b[49m\n\u001b[1;32m    482\u001b[0m \u001b[43m        \u001b[49m\u001b[43mcallbacks\u001b[49m\u001b[38;5;241;43m=\u001b[39;49m\u001b[43mcallbacks\u001b[49m\u001b[43m,\u001b[49m\n\u001b[1;32m    483\u001b[0m \u001b[43m        \u001b[49m\u001b[43mgc_after_trial\u001b[49m\u001b[38;5;241;43m=\u001b[39;49m\u001b[43mgc_after_trial\u001b[49m\u001b[43m,\u001b[49m\n\u001b[1;32m    484\u001b[0m \u001b[43m        \u001b[49m\u001b[43mshow_progress_bar\u001b[49m\u001b[38;5;241;43m=\u001b[39;49m\u001b[43mshow_progress_bar\u001b[49m\u001b[43m,\u001b[49m\n\u001b[1;32m    485\u001b[0m \u001b[43m    \u001b[49m\u001b[43m)\u001b[49m\n",
      "File \u001b[0;32m~/.pyenv/versions/3.12.5/lib/python3.12/site-packages/optuna/study/_optimize.py:63\u001b[0m, in \u001b[0;36m_optimize\u001b[0;34m(study, func, n_trials, timeout, n_jobs, catch, callbacks, gc_after_trial, show_progress_bar)\u001b[0m\n\u001b[1;32m     61\u001b[0m \u001b[38;5;28;01mtry\u001b[39;00m:\n\u001b[1;32m     62\u001b[0m     \u001b[38;5;28;01mif\u001b[39;00m n_jobs \u001b[38;5;241m==\u001b[39m \u001b[38;5;241m1\u001b[39m:\n\u001b[0;32m---> 63\u001b[0m         \u001b[43m_optimize_sequential\u001b[49m\u001b[43m(\u001b[49m\n\u001b[1;32m     64\u001b[0m \u001b[43m            \u001b[49m\u001b[43mstudy\u001b[49m\u001b[43m,\u001b[49m\n\u001b[1;32m     65\u001b[0m \u001b[43m            \u001b[49m\u001b[43mfunc\u001b[49m\u001b[43m,\u001b[49m\n\u001b[1;32m     66\u001b[0m \u001b[43m            \u001b[49m\u001b[43mn_trials\u001b[49m\u001b[43m,\u001b[49m\n\u001b[1;32m     67\u001b[0m \u001b[43m            \u001b[49m\u001b[43mtimeout\u001b[49m\u001b[43m,\u001b[49m\n\u001b[1;32m     68\u001b[0m \u001b[43m            \u001b[49m\u001b[43mcatch\u001b[49m\u001b[43m,\u001b[49m\n\u001b[1;32m     69\u001b[0m \u001b[43m            \u001b[49m\u001b[43mcallbacks\u001b[49m\u001b[43m,\u001b[49m\n\u001b[1;32m     70\u001b[0m \u001b[43m            \u001b[49m\u001b[43mgc_after_trial\u001b[49m\u001b[43m,\u001b[49m\n\u001b[1;32m     71\u001b[0m \u001b[43m            \u001b[49m\u001b[43mreseed_sampler_rng\u001b[49m\u001b[38;5;241;43m=\u001b[39;49m\u001b[38;5;28;43;01mFalse\u001b[39;49;00m\u001b[43m,\u001b[49m\n\u001b[1;32m     72\u001b[0m \u001b[43m            \u001b[49m\u001b[43mtime_start\u001b[49m\u001b[38;5;241;43m=\u001b[39;49m\u001b[38;5;28;43;01mNone\u001b[39;49;00m\u001b[43m,\u001b[49m\n\u001b[1;32m     73\u001b[0m \u001b[43m            \u001b[49m\u001b[43mprogress_bar\u001b[49m\u001b[38;5;241;43m=\u001b[39;49m\u001b[43mprogress_bar\u001b[49m\u001b[43m,\u001b[49m\n\u001b[1;32m     74\u001b[0m \u001b[43m        \u001b[49m\u001b[43m)\u001b[49m\n\u001b[1;32m     75\u001b[0m     \u001b[38;5;28;01melse\u001b[39;00m:\n\u001b[1;32m     76\u001b[0m         \u001b[38;5;28;01mif\u001b[39;00m n_jobs \u001b[38;5;241m==\u001b[39m \u001b[38;5;241m-\u001b[39m\u001b[38;5;241m1\u001b[39m:\n",
      "File \u001b[0;32m~/.pyenv/versions/3.12.5/lib/python3.12/site-packages/optuna/study/_optimize.py:160\u001b[0m, in \u001b[0;36m_optimize_sequential\u001b[0;34m(study, func, n_trials, timeout, catch, callbacks, gc_after_trial, reseed_sampler_rng, time_start, progress_bar)\u001b[0m\n\u001b[1;32m    157\u001b[0m         \u001b[38;5;28;01mbreak\u001b[39;00m\n\u001b[1;32m    159\u001b[0m \u001b[38;5;28;01mtry\u001b[39;00m:\n\u001b[0;32m--> 160\u001b[0m     frozen_trial \u001b[38;5;241m=\u001b[39m \u001b[43m_run_trial\u001b[49m\u001b[43m(\u001b[49m\u001b[43mstudy\u001b[49m\u001b[43m,\u001b[49m\u001b[43m \u001b[49m\u001b[43mfunc\u001b[49m\u001b[43m,\u001b[49m\u001b[43m \u001b[49m\u001b[43mcatch\u001b[49m\u001b[43m)\u001b[49m\n\u001b[1;32m    161\u001b[0m \u001b[38;5;28;01mfinally\u001b[39;00m:\n\u001b[1;32m    162\u001b[0m     \u001b[38;5;66;03m# The following line mitigates memory problems that can be occurred in some\u001b[39;00m\n\u001b[1;32m    163\u001b[0m     \u001b[38;5;66;03m# environments (e.g., services that use computing containers such as GitHub Actions).\u001b[39;00m\n\u001b[1;32m    164\u001b[0m     \u001b[38;5;66;03m# Please refer to the following PR for further details:\u001b[39;00m\n\u001b[1;32m    165\u001b[0m     \u001b[38;5;66;03m# https://github.com/optuna/optuna/pull/325.\u001b[39;00m\n\u001b[1;32m    166\u001b[0m     \u001b[38;5;28;01mif\u001b[39;00m gc_after_trial:\n",
      "File \u001b[0;32m~/.pyenv/versions/3.12.5/lib/python3.12/site-packages/optuna/study/_optimize.py:248\u001b[0m, in \u001b[0;36m_run_trial\u001b[0;34m(study, func, catch)\u001b[0m\n\u001b[1;32m    241\u001b[0m         \u001b[38;5;28;01massert\u001b[39;00m \u001b[38;5;28;01mFalse\u001b[39;00m, \u001b[38;5;124m\"\u001b[39m\u001b[38;5;124mShould not reach.\u001b[39m\u001b[38;5;124m\"\u001b[39m\n\u001b[1;32m    243\u001b[0m \u001b[38;5;28;01mif\u001b[39;00m (\n\u001b[1;32m    244\u001b[0m     frozen_trial\u001b[38;5;241m.\u001b[39mstate \u001b[38;5;241m==\u001b[39m TrialState\u001b[38;5;241m.\u001b[39mFAIL\n\u001b[1;32m    245\u001b[0m     \u001b[38;5;129;01mand\u001b[39;00m func_err \u001b[38;5;129;01mis\u001b[39;00m \u001b[38;5;129;01mnot\u001b[39;00m \u001b[38;5;28;01mNone\u001b[39;00m\n\u001b[1;32m    246\u001b[0m     \u001b[38;5;129;01mand\u001b[39;00m \u001b[38;5;129;01mnot\u001b[39;00m \u001b[38;5;28misinstance\u001b[39m(func_err, catch)\n\u001b[1;32m    247\u001b[0m ):\n\u001b[0;32m--> 248\u001b[0m     \u001b[38;5;28;01mraise\u001b[39;00m func_err\n\u001b[1;32m    249\u001b[0m \u001b[38;5;28;01mreturn\u001b[39;00m frozen_trial\n",
      "File \u001b[0;32m~/.pyenv/versions/3.12.5/lib/python3.12/site-packages/optuna/study/_optimize.py:197\u001b[0m, in \u001b[0;36m_run_trial\u001b[0;34m(study, func, catch)\u001b[0m\n\u001b[1;32m    195\u001b[0m \u001b[38;5;28;01mwith\u001b[39;00m get_heartbeat_thread(trial\u001b[38;5;241m.\u001b[39m_trial_id, study\u001b[38;5;241m.\u001b[39m_storage):\n\u001b[1;32m    196\u001b[0m     \u001b[38;5;28;01mtry\u001b[39;00m:\n\u001b[0;32m--> 197\u001b[0m         value_or_values \u001b[38;5;241m=\u001b[39m \u001b[43mfunc\u001b[49m\u001b[43m(\u001b[49m\u001b[43mtrial\u001b[49m\u001b[43m)\u001b[49m\n\u001b[1;32m    198\u001b[0m     \u001b[38;5;28;01mexcept\u001b[39;00m exceptions\u001b[38;5;241m.\u001b[39mTrialPruned \u001b[38;5;28;01mas\u001b[39;00m e:\n\u001b[1;32m    199\u001b[0m         \u001b[38;5;66;03m# TODO(mamu): Handle multi-objective cases.\u001b[39;00m\n\u001b[1;32m    200\u001b[0m         state \u001b[38;5;241m=\u001b[39m TrialState\u001b[38;5;241m.\u001b[39mPRUNED\n",
      "File \u001b[0;32m~/Desktop/kruxgitrepo/ragbuilder/src/ragbuilder/retriever/optimization.py:214\u001b[0m, in \u001b[0;36mRetrieverOptimization._objective\u001b[0;34m(self, trial)\u001b[0m\n\u001b[1;32m    212\u001b[0m \u001b[38;5;28;01mexcept\u001b[39;00m \u001b[38;5;167;01mException\u001b[39;00m \u001b[38;5;28;01mas\u001b[39;00m e:\n\u001b[1;32m    213\u001b[0m     console\u001b[38;5;241m.\u001b[39mprint(\u001b[38;5;124mf\u001b[39m\u001b[38;5;124m\"\u001b[39m\u001b[38;5;124m[red]Trial failed: \u001b[39m\u001b[38;5;132;01m{\u001b[39;00m\u001b[38;5;28mstr\u001b[39m(e)\u001b[38;5;132;01m}\u001b[39;00m\u001b[38;5;124m[/red]\u001b[39m\u001b[38;5;124m\"\u001b[39m)\n\u001b[0;32m--> 214\u001b[0m     \u001b[38;5;28;01mraise\u001b[39;00m OptimizationError(\u001b[38;5;124mf\u001b[39m\u001b[38;5;124m\"\u001b[39m\u001b[38;5;124mTrial failed: \u001b[39m\u001b[38;5;132;01m{\u001b[39;00m\u001b[38;5;28mstr\u001b[39m(e)\u001b[38;5;132;01m}\u001b[39;00m\u001b[38;5;124m\"\u001b[39m) \u001b[38;5;28;01mfrom\u001b[39;00m \u001b[38;5;21;01me\u001b[39;00m\n",
      "\u001b[0;31mOptimizationError\u001b[0m: Trial failed: RAGAS evaluation failed: The runner thread which was running the jobs raised an exeception. Read the traceback above to debug it. You can also pass `raise_exceptions=False` incase you want to show only a warning message instead."
     ]
    }
   ],
   "source": [
    "from ragbuilder.core.builder import RAGBuilder\n",
    "builder=RAGBuilder.from_yaml(\"/Users/ashwinaravind/Desktop/kruxgitrepo/ragbuilder/demo.yaml\")\n",
    "builder.optimize()\n",
    "# builder.get_best_pipeline(\"generation\").invoke(\"Who is Clara?\")"
   ]
  },
  {
   "cell_type": "code",
   "execution_count": 4,
   "metadata": {},
   "outputs": [
    {
     "ename": "AttributeError",
     "evalue": "with_defaults",
     "output_type": "error",
     "traceback": [
      "\u001b[0;31m---------------------------------------------------------------------------\u001b[0m",
      "\u001b[0;31mAttributeError\u001b[0m                            Traceback (most recent call last)",
      "Cell \u001b[0;32mIn[4], line 3\u001b[0m\n\u001b[1;32m      1\u001b[0m \u001b[38;5;28;01mfrom\u001b[39;00m \u001b[38;5;21;01mragbuilder\u001b[39;00m\u001b[38;5;21;01m.\u001b[39;00m\u001b[38;5;21;01mcore\u001b[39;00m\u001b[38;5;21;01m.\u001b[39;00m\u001b[38;5;21;01mbuilder\u001b[39;00m \u001b[38;5;28;01mimport\u001b[39;00m RAGBuilder\n\u001b[1;32m      2\u001b[0m builder\u001b[38;5;241m=\u001b[39mRAGBuilder\u001b[38;5;241m.\u001b[39mfrom_yaml(\u001b[38;5;124m\"\u001b[39m\u001b[38;5;124m/Users/ashwinaravind/Desktop/kruxgitrepo/ragbuilder/demo.yaml\u001b[39m\u001b[38;5;124m\"\u001b[39m)\n\u001b[0;32m----> 3\u001b[0m \u001b[43mbuilder\u001b[49m\u001b[38;5;241;43m.\u001b[39;49m\u001b[43moptimize_generation\u001b[49m\u001b[43m(\u001b[49m\u001b[43m)\u001b[49m\n\u001b[1;32m      4\u001b[0m builder\u001b[38;5;241m.\u001b[39mget_best_pipeline(\u001b[38;5;124m\"\u001b[39m\u001b[38;5;124mgeneration\u001b[39m\u001b[38;5;124m\"\u001b[39m)\u001b[38;5;241m.\u001b[39minvoke(\u001b[38;5;124m\"\u001b[39m\u001b[38;5;124mWho is Clara?\u001b[39m\u001b[38;5;124m\"\u001b[39m)\n",
      "File \u001b[0;32m~/Desktop/kruxgitrepo/ragbuilder/src/ragbuilder/core/builder.py:182\u001b[0m, in \u001b[0;36mRAGBuilder.optimize_generation\u001b[0;34m(self, config, retriever)\u001b[0m\n\u001b[1;32m    180\u001b[0m     \u001b[38;5;28mself\u001b[39m\u001b[38;5;241m.\u001b[39m_generation_config \u001b[38;5;241m=\u001b[39m config\n\u001b[1;32m    181\u001b[0m \u001b[38;5;28;01melif\u001b[39;00m \u001b[38;5;129;01mnot\u001b[39;00m \u001b[38;5;28mself\u001b[39m\u001b[38;5;241m.\u001b[39m_generation_config:\n\u001b[0;32m--> 182\u001b[0m     \u001b[38;5;28mself\u001b[39m\u001b[38;5;241m.\u001b[39m_generation_config \u001b[38;5;241m=\u001b[39m \u001b[43mGenerationOptionsConfig\u001b[49m\u001b[38;5;241;43m.\u001b[39;49m\u001b[43mwith_defaults\u001b[49m(\n\u001b[1;32m    183\u001b[0m         retriever\u001b[38;5;241m=\u001b[39m\u001b[38;5;28mself\u001b[39m\u001b[38;5;241m.\u001b[39m_optimized_retreiver\n\u001b[1;32m    184\u001b[0m     )\n\u001b[1;32m    186\u001b[0m results \u001b[38;5;241m=\u001b[39m run_generation_optimization(\n\u001b[1;32m    187\u001b[0m     \u001b[38;5;28mself\u001b[39m\u001b[38;5;241m.\u001b[39m_generation_config, \n\u001b[1;32m    188\u001b[0m     retriever\u001b[38;5;241m=\u001b[39m\u001b[38;5;28mself\u001b[39m\u001b[38;5;241m.\u001b[39m_optimized_retriever\n\u001b[1;32m    189\u001b[0m )\n\u001b[1;32m    191\u001b[0m \u001b[38;5;66;03m# Store results for later use\u001b[39;00m\n",
      "File \u001b[0;32m~/.pyenv/versions/3.12.5/lib/python3.12/site-packages/pydantic/_internal/_model_construction.py:237\u001b[0m, in \u001b[0;36mModelMetaclass.__getattr__\u001b[0;34m(self, item)\u001b[0m\n\u001b[1;32m    235\u001b[0m \u001b[38;5;28;01mif\u001b[39;00m private_attributes \u001b[38;5;129;01mand\u001b[39;00m item \u001b[38;5;129;01min\u001b[39;00m private_attributes:\n\u001b[1;32m    236\u001b[0m     \u001b[38;5;28;01mreturn\u001b[39;00m private_attributes[item]\n\u001b[0;32m--> 237\u001b[0m \u001b[38;5;28;01mraise\u001b[39;00m \u001b[38;5;167;01mAttributeError\u001b[39;00m(item)\n",
      "\u001b[0;31mAttributeError\u001b[0m: with_defaults"
     ]
    }
   ],
   "source": [
    "from ragbuilder.core.builder import RAGBuilder\n",
    "builder=RAGBuilder.from_yaml(\"/Users/ashwinaravind/Desktop/kruxgitrepo/ragbuilder/demo.yaml\")\n",
    "builder.optimize_generation()\n",
    "builder.get_best_pipeline(\"generation\").invoke(\"Who is Clara?\")"
   ]
  },
  {
   "cell_type": "code",
   "execution_count": 3,
   "metadata": {},
   "outputs": [
    {
     "name": "stdout",
     "output_type": "stream",
     "text": [
      "rag_get_retriever initiated\n",
      "rag_get_retriever completed\n",
      "RAGASEvaluator initiated\n",
      "printing config llms=[GenerationConfig(type=<LLM.AZURE_OPENAI: 'azure_openai'>, model_kwargs={'model_name': 'gpt-4o-mini', 'temperature': 0.6}, prompt_template=None, eval_data_set_path=None, local_prompt_template_path=None, read_local_only=False)] prompt_template_path=None eval_data_set_path='/Users/ashwinaravind/Desktop/kruxgitrepo/ragbuilder/gensimtest.csv' local_prompt_template_path='/Users/ashwinaravind/Desktop/kruxgitrepo/ragbuilder/src/ragbuilder/generation/prompts.yaml' read_local_only=False\n",
      "printing config llms=[GenerationConfig(type=<LLM.AZURE_OPENAI: 'azure_openai'>, model_kwargs={'model_name': 'gpt-4o-mini', 'temperature': 0.6}, prompt_template=None, eval_data_set_path=None, local_prompt_template_path=None, read_local_only=False)] prompt_template_path=None eval_data_set_path='/Users/ashwinaravind/Desktop/kruxgitrepo/ragbuilder/gensimtest.csv' local_prompt_template_path='/Users/ashwinaravind/Desktop/kruxgitrepo/ragbuilder/src/ragbuilder/generation/prompts.yaml' read_local_only=False\n",
      "Loading prompts from local file: /Users/ashwinaravind/Desktop/kruxgitrepo/ragbuilder/src/ragbuilder/generation/prompts.yaml\n",
      "prompt_templates from init [<ragbuilder.generation.prompt_templates.PromptTemplate object at 0x2ae718050>]\n",
      "prompt_templates [<ragbuilder.generation.prompt_templates.PromptTemplate object at 0x2ae718050>]\n",
      "trial_configs [GenerationConfig(type=<LLM.AZURE_OPENAI: 'azure_openai'>, model_kwargs={'model_name': 'gpt-4o-mini', 'temperature': 0.6}, prompt_template='You are a helpful assistant. Answer any questions solely based on the context provided below. \\nIf the provided context does not have the relevant facts to answer the question, say \"I don\\'t know.\"\\n\\n<context>\\n{context}\\n</context>', eval_data_set_path='/Users/ashwinaravind/Desktop/kruxgitrepo/ragbuilder/gensimtest.csv', local_prompt_template_path=None, read_local_only=False)]\n",
      "RAGASEvaluator initiated\n",
      "evaldataset Dataset({\n",
      "    features: ['question', 'ground_truth', 'contexts', 'evolution_type', 'metadata', 'episode_done'],\n",
      "    num_rows: 20\n",
      "})\n",
      "trial_configs [GenerationConfig(type=<LLM.AZURE_OPENAI: 'azure_openai'>, model_kwargs={'model_name': 'gpt-4o-mini', 'temperature': 0.6}, prompt_template='You are a helpful assistant. Answer any questions solely based on the context provided below. \\nIf the provided context does not have the relevant facts to answer the question, say \"I don\\'t know.\"\\n\\n<context>\\n{context}\\n</context>', eval_data_set_path='/Users/ashwinaravind/Desktop/kruxgitrepo/ragbuilder/gensimtest.csv', local_prompt_template_path=None, read_local_only=False)]\n",
      "running You are a helpful assistant. Answer any questions solely based on the context provided below. \n",
      "If the provided context does not have the relevant facts to answer the question, say \"I don't know.\"\n",
      "\n",
      "<context>\n",
      "{context}\n",
      "</context>\n",
      "rag_get_retriever initiated\n",
      "rag_get_retriever completed\n",
      "prompt_template You are a helpful assistant. Answer any questions solely based on the context provided below. \n",
      "If the provided context does not have the relevant facts to answer the question, say \"I don't know.\"\n",
      "\n",
      "<context>\n",
      "{context}\n",
      "</context>\n",
      "testing retriever\n",
      " [Document(metadata={'source': 'https://raw.githubusercontent.com/ashwinaravind/ashwinaravind.github.io/refs/heads/main/thevanishingtown'}, page_content='A young woman.\\n\\n---\\n\\n## Chunk 3: The Locket’s Secret\\n\\nClara awoke to a sound—footsteps. Her eyes shot open. In the dim light, she saw a man standing at the door, silhouetted against the night. His green eyes gleamed in the shadows.\\n\\n“Who are you?” she stammered, clutching her locket.\\n\\n“I could ask you the same,” the man replied, stepping forward. “This is my family’s cabin. What are you doing here?”')]\n",
      "rag_pipeline completed\n",
      "running You are a helpful assistant. Answer any questions solely based on the context provided below. \n",
      "If the provided context does not have the relevant facts to answer the question, say \"I don't know.\"\n",
      "\n",
      "<context>\n",
      "{context}\n",
      "</context>\n"
     ]
    },
    {
     "data": {
      "application/vnd.jupyter.widget-view+json": {
       "model_id": "32d1dbde6be0482ab082c7d5748b271d",
       "version_major": 2,
       "version_minor": 0
      },
      "text/plain": [
       "Map:   0%|          | 0/1 [00:00<?, ? examples/s]"
      ]
     },
     "metadata": {},
     "output_type": "display_data"
    },
    {
     "name": "stdout",
     "output_type": "stream",
     "text": [
      "test_prompt completed ['prompt_key', 'prompt', 'question', 'answer', 'context', 'ground_truth', 'config', 'contexts']\n"
     ]
    },
    {
     "data": {
      "application/vnd.jupyter.widget-view+json": {
       "model_id": "32adc4a068b54ac9a68b60f45ca971d0",
       "version_major": 2,
       "version_minor": 0
      },
      "text/plain": [
       "Evaluating:   0%|          | 0/5 [00:00<?, ?it/s]"
      ]
     },
     "metadata": {},
     "output_type": "display_data"
    },
    {
     "name": "stdout",
     "output_type": "stream",
     "text": [
      "evaluate_prompts completed\n",
      "Dataset({\n",
      "    features: ['prompt_key', 'prompt', 'question', 'answer', 'ground_truth', 'answer_correctness', 'faithfulness', 'answer_relevancy', 'context_precision', 'context_recall', 'config'],\n",
      "    num_rows: 1\n",
      "})\n",
      "The average correctness results have been saved to 'rag_average_correctness.csv'\n",
      "printing config llms=[GenerationConfig(type=<LLM.AZURE_OPENAI: 'azure_openai'>, model_kwargs={'model_name': 'gpt-4o-mini', 'temperature': 0.6}, prompt_template=None, eval_data_set_path=None, local_prompt_template_path=None, read_local_only=False)] prompt_template_path=None eval_data_set_path='/Users/ashwinaravind/Desktop/kruxgitrepo/ragbuilder/gensimtest.csv' local_prompt_template_path='/Users/ashwinaravind/Desktop/kruxgitrepo/ragbuilder/src/ragbuilder/generation/prompts.yaml' read_local_only=False\n",
      "printing config llms=[GenerationConfig(type=<LLM.AZURE_OPENAI: 'azure_openai'>, model_kwargs={'model_name': 'gpt-4o-mini', 'temperature': 0.6}, prompt_template=None, eval_data_set_path=None, local_prompt_template_path=None, read_local_only=False)] prompt_template_path=None eval_data_set_path='/Users/ashwinaravind/Desktop/kruxgitrepo/ragbuilder/gensimtest.csv' local_prompt_template_path='/Users/ashwinaravind/Desktop/kruxgitrepo/ragbuilder/src/ragbuilder/generation/prompts.yaml' read_local_only=False\n",
      "Loading prompts from local file: /Users/ashwinaravind/Desktop/kruxgitrepo/ragbuilder/src/ragbuilder/generation/prompts.yaml\n",
      "prompt_templates from init [<ragbuilder.generation.prompt_templates.PromptTemplate object at 0x2ae8f89b0>]\n",
      "rag_get_retriever initiated\n",
      "rag_get_retriever completed\n",
      "prompt_template You are a helpful assistant. Answer any questions solely based on the context provided below. \n",
      "If the provided context does not have the relevant facts to answer the question, say \"I don't know.\"\n",
      "\n",
      "<context>\n",
      "{context}\n",
      "</context>\n",
      "testing retriever\n",
      " [Document(metadata={'source': 'https://raw.githubusercontent.com/ashwinaravind/ashwinaravind.github.io/refs/heads/main/thevanishingtown'}, page_content='A young woman.\\n\\n---\\n\\n## Chunk 3: The Locket’s Secret\\n\\nClara awoke to a sound—footsteps. Her eyes shot open. In the dim light, she saw a man standing at the door, silhouetted against the night. His green eyes gleamed in the shadows.\\n\\n“Who are you?” she stammered, clutching her locket.\\n\\n“I could ask you the same,” the man replied, stepping forward. “This is my family’s cabin. What are you doing here?”')]\n",
      "rag_pipeline completed\n",
      "best_pipeline first={\n",
      "  context: EnsembleRetriever(retrievers=[VectorStoreRetriever(tags=['Chroma', 'AzureOpenAIEmbeddings'], vectorstore=<langchain_chroma.vectorstores.Chroma object at 0x2aee4dcd0>, search_kwargs={'k': 5})], weights=[1.0]),\n",
      "  question: RunnablePassthrough()\n",
      "} middle=[RunnableAssign(mapper={\n",
      "  context: RunnableLambda(itemgetter('context'))\n",
      "           | RunnableLambda(format_docs)\n",
      "}), RunnableAssign(mapper={\n",
      "  answer: ChatPromptTemplate(input_variables=['context', 'question'], optional_variables=['chat_history'], input_types={'chat_history': typing.List[typing.Union[langchain_core.messages.ai.AIMessage, langchain_core.messages.human.HumanMessage, langchain_core.messages.chat.ChatMessage, langchain_core.messages.system.SystemMessage, langchain_core.messages.function.FunctionMessage, langchain_core.messages.tool.ToolMessage]]}, partial_variables={'chat_history': []}, messages=[SystemMessagePromptTemplate(prompt=PromptTemplate(input_variables=['context'], template='You are a helpful assistant. Answer any questions solely based on the context provided below. \\nIf the provided context does not have the relevant facts to answer the question, say \"I don\\'t know.\"\\n\\n<context>\\n{context}\\n</context>')), HumanMessagePromptTemplate(prompt=PromptTemplate(input_variables=['question'], template='{question}')), MessagesPlaceholder(variable_name='chat_history', optional=True)])\n",
      "          | AzureChatOpenAI(client=<openai.resources.chat.completions.Completions object at 0x2aee703e0>, async_client=<openai.resources.chat.completions.AsyncCompletions object at 0x2aee718e0>, model_name='gpt-4o-mini', temperature=0.6, openai_api_key=SecretStr('**********'), openai_proxy='', azure_endpoint='https://krux-azure-oai-003.openai.azure.com/', openai_api_version='2024-02-01', openai_api_type='azure')\n",
      "          | StrOutputParser()\n",
      "})] last=RunnablePick(keys=['answer', 'context'])\n",
      "best_prompt You are a helpful assistant. Answer any questions solely based on the context provided below. \n",
      "If the provided context does not have the relevant facts to answer the question, say \"I don't know.\"\n",
      "\n",
      "<context>\n",
      "{context}\n",
      "</context>\n",
      "best_score 0.6205566617823064\n",
      "best_prompt_key You are a helpful assistant. Answer any questions solely based on the context provided below. \n",
      "If the provided context does not have the relevant facts to answer the question, say \"I don't know.\"\n",
      "\n",
      "<context>\n",
      "{context}\n",
      "</context>\n"
     ]
    }
   ],
   "source": [
    "from ragbuilder.core.builder import RAGBuilder\n",
    "from ragbuilder.generation.generator import GenerationConfig, GenerationOptionsConfig\n",
    "from ragbuilder.generation.sample_retriever import sample_retriever\n",
    "builder=RAGBuilder()\n",
    "best=builder.optimize_generation(GenerationOptionsConfig.from_yaml(\"config.yaml\"),retriever=sample_retriever())"
   ]
  },
  {
   "cell_type": "code",
   "execution_count": 6,
   "metadata": {},
   "outputs": [
    {
     "data": {
      "text/plain": [
       "{'answer': 'Clara is a young woman who awoke to the sound of footsteps and found a man standing at the door of a cabin. She is depicted as clutching her locket in the scene.',\n",
       " 'context': 'A young woman.\\n\\n---\\n\\n## Chunk 3: The Locket’s Secret\\n\\nClara awoke to a sound—footsteps. Her eyes shot open. In the dim light, she saw a man standing at the door, silhouetted against the night. His green eyes gleamed in the shadows.\\n\\n“Who are you?” she stammered, clutching her locket.\\n\\n“I could ask you the same,” the man replied, stepping forward. “This is my family’s cabin. What are you doing here?”'}"
      ]
     },
     "execution_count": 6,
     "metadata": {},
     "output_type": "execute_result"
    }
   ],
   "source": [
    "best[\"best_pipeline\"].invoke(\"Who is Clara?\")"
   ]
  },
  {
   "cell_type": "code",
   "execution_count": 4,
   "metadata": {},
   "outputs": [
    {
     "data": {
      "text/html": [
       "<pre style=\"white-space:pre;overflow-x:auto;line-height:normal;font-family:Menlo,'DejaVu Sans Mono',consolas,'Courier New',monospace\"><span style=\"color: #7fbfbf; text-decoration-color: #7fbfbf\">[19:49:05] </span><span style=\"color: #000080; text-decoration-color: #000080\">INFO    </span> Starting data ingestion optimization                                              <a href=\"file:///Users/ashwinaravind/Desktop/kruxgitrepo/ragbuilder/src/ragbuilder/core/builder.py\" target=\"_blank\"><span style=\"color: #7f7f7f; text-decoration-color: #7f7f7f\">builder.py</span></a><span style=\"color: #7f7f7f; text-decoration-color: #7f7f7f\">:</span><a href=\"file:///Users/ashwinaravind/Desktop/kruxgitrepo/ragbuilder/src/ragbuilder/core/builder.py#84\" target=\"_blank\"><span style=\"color: #7f7f7f; text-decoration-color: #7f7f7f\">84</span></a>\n",
       "</pre>\n"
      ],
      "text/plain": [
       "\u001b[2;36m[19:49:05]\u001b[0m\u001b[2;36m \u001b[0m\u001b[34mINFO    \u001b[0m Starting data ingestion optimization                                              \u001b]8;id=473269;file:///Users/ashwinaravind/Desktop/kruxgitrepo/ragbuilder/src/ragbuilder/core/builder.py\u001b\\\u001b[2mbuilder.py\u001b[0m\u001b]8;;\u001b\\\u001b[2m:\u001b[0m\u001b]8;id=170440;file:///Users/ashwinaravind/Desktop/kruxgitrepo/ragbuilder/src/ragbuilder/core/builder.py#84\u001b\\\u001b[2m84\u001b[0m\u001b]8;;\u001b\\\n"
      ]
     },
     "metadata": {},
     "output_type": "display_data"
    },
    {
     "data": {
      "text/html": [
       "<pre style=\"white-space:pre;overflow-x:auto;line-height:normal;font-family:Menlo,'DejaVu Sans Mono',consolas,'Courier New',monospace\"><span style=\"color: #7fbfbf; text-decoration-color: #7fbfbf\">           </span><span style=\"color: #000080; text-decoration-color: #000080\">INFO    </span> Loaded environment variables from .env                                              <a href=\"file:///Users/ashwinaravind/Desktop/kruxgitrepo/ragbuilder/src/ragbuilder/core/utils.py\" target=\"_blank\"><span style=\"color: #7f7f7f; text-decoration-color: #7f7f7f\">utils.py</span></a><span style=\"color: #7f7f7f; text-decoration-color: #7f7f7f\">:</span><a href=\"file:///Users/ashwinaravind/Desktop/kruxgitrepo/ragbuilder/src/ragbuilder/core/utils.py#18\" target=\"_blank\"><span style=\"color: #7f7f7f; text-decoration-color: #7f7f7f\">18</span></a>\n",
       "</pre>\n"
      ],
      "text/plain": [
       "\u001b[2;36m          \u001b[0m\u001b[2;36m \u001b[0m\u001b[34mINFO    \u001b[0m Loaded environment variables from .env                                              \u001b]8;id=826905;file:///Users/ashwinaravind/Desktop/kruxgitrepo/ragbuilder/src/ragbuilder/core/utils.py\u001b\\\u001b[2mutils.py\u001b[0m\u001b]8;;\u001b\\\u001b[2m:\u001b[0m\u001b]8;id=269259;file:///Users/ashwinaravind/Desktop/kruxgitrepo/ragbuilder/src/ragbuilder/core/utils.py#18\u001b\\\u001b[2m18\u001b[0m\u001b]8;;\u001b\\\n"
      ]
     },
     "metadata": {},
     "output_type": "display_data"
    },
    {
     "data": {
      "text/html": [
       "<pre style=\"white-space:pre;overflow-x:auto;line-height:normal;font-family:Menlo,'DejaVu Sans Mono',consolas,'Courier New',monospace\"><span style=\"color: #7fbfbf; text-decoration-color: #7fbfbf\">           </span><span style=\"color: #000080; text-decoration-color: #000080\">INFO    </span> Initialized DB logging for run_id: <span style=\"color: #008080; text-decoration-color: #008080; font-weight: bold\">1734013145</span>                                   <a href=\"file:///Users/ashwinaravind/Desktop/kruxgitrepo/ragbuilder/src/ragbuilder/core/callbacks.py\" target=\"_blank\"><span style=\"color: #7f7f7f; text-decoration-color: #7f7f7f\">callbacks.py</span></a><span style=\"color: #7f7f7f; text-decoration-color: #7f7f7f\">:</span><a href=\"file:///Users/ashwinaravind/Desktop/kruxgitrepo/ragbuilder/src/ragbuilder/core/callbacks.py#40\" target=\"_blank\"><span style=\"color: #7f7f7f; text-decoration-color: #7f7f7f\">40</span></a>\n",
       "</pre>\n"
      ],
      "text/plain": [
       "\u001b[2;36m          \u001b[0m\u001b[2;36m \u001b[0m\u001b[34mINFO    \u001b[0m Initialized DB logging for run_id: \u001b[1;36m1734013145\u001b[0m                                   \u001b]8;id=714206;file:///Users/ashwinaravind/Desktop/kruxgitrepo/ragbuilder/src/ragbuilder/core/callbacks.py\u001b\\\u001b[2mcallbacks.py\u001b[0m\u001b]8;;\u001b\\\u001b[2m:\u001b[0m\u001b]8;id=318525;file:///Users/ashwinaravind/Desktop/kruxgitrepo/ragbuilder/src/ragbuilder/core/callbacks.py#40\u001b\\\u001b[2m40\u001b[0m\u001b]8;;\u001b\\\n"
      ]
     },
     "metadata": {},
     "output_type": "display_data"
    },
    {
     "data": {
      "text/html": [
       "<pre style=\"white-space:pre;overflow-x:auto;line-height:normal;font-family:Menlo,'DejaVu Sans Mono',consolas,'Courier New',monospace\"><span style=\"color: #7fbfbf; text-decoration-color: #7fbfbf\">           </span><span style=\"color: #000080; text-decoration-color: #000080\">INFO    </span> Database logging enabled                                                     <a href=\"file:///Users/ashwinaravind/Desktop/kruxgitrepo/ragbuilder/src/ragbuilder/data_ingest/optimization.py\" target=\"_blank\"><span style=\"color: #7f7f7f; text-decoration-color: #7f7f7f\">optimization.py</span></a><span style=\"color: #7f7f7f; text-decoration-color: #7f7f7f\">:</span><a href=\"file:///Users/ashwinaravind/Desktop/kruxgitrepo/ragbuilder/src/ragbuilder/data_ingest/optimization.py#44\" target=\"_blank\"><span style=\"color: #7f7f7f; text-decoration-color: #7f7f7f\">44</span></a>\n",
       "</pre>\n"
      ],
      "text/plain": [
       "\u001b[2;36m          \u001b[0m\u001b[2;36m \u001b[0m\u001b[34mINFO    \u001b[0m Database logging enabled                                                     \u001b]8;id=830690;file:///Users/ashwinaravind/Desktop/kruxgitrepo/ragbuilder/src/ragbuilder/data_ingest/optimization.py\u001b\\\u001b[2moptimization.py\u001b[0m\u001b]8;;\u001b\\\u001b[2m:\u001b[0m\u001b]8;id=105359;file:///Users/ashwinaravind/Desktop/kruxgitrepo/ragbuilder/src/ragbuilder/data_ingest/optimization.py#44\u001b\\\u001b[2m44\u001b[0m\u001b]8;;\u001b\\\n"
      ]
     },
     "metadata": {},
     "output_type": "display_data"
    },
    {
     "data": {
      "text/html": [
       "<pre style=\"white-space:pre;overflow-x:auto;line-height:normal;font-family:Menlo,'DejaVu Sans Mono',consolas,'Courier New',monospace\"><span style=\"color: #00ff00; text-decoration-color: #00ff00\">────────────────────────────────────────── </span><span style=\"color: #005fff; text-decoration-color: #005fff; font-weight: bold\">Starting Optimization Process</span><span style=\"color: #00ff00; text-decoration-color: #00ff00\"> ──────────────────────────────────────────</span>\n",
       "</pre>\n"
      ],
      "text/plain": [
       "\u001b[92m────────────────────────────────────────── \u001b[0m\u001b[1;38;5;27mStarting Optimization Process\u001b[0m\u001b[92m ──────────────────────────────────────────\u001b[0m\n"
      ]
     },
     "metadata": {},
     "output_type": "display_data"
    },
    {
     "name": "stderr",
     "output_type": "stream",
     "text": [
      "[I 2024-12-12 19:49:05,651] A new study created in memory with name: data_ingest_1734012822626\n"
     ]
    },
    {
     "data": {
      "application/vnd.jupyter.widget-view+json": {
       "model_id": "0ad5f802559f40f3b1e6bb7972282dd7",
       "version_major": 2,
       "version_minor": 0
      },
      "text/plain": [
       "  0%|          | 0/10 [00:00<?, ?it/s]"
      ]
     },
     "metadata": {},
     "output_type": "display_data"
    },
    {
     "data": {
      "text/html": [
       "<pre style=\"white-space:pre;overflow-x:auto;line-height:normal;font-family:Menlo,'DejaVu Sans Mono',consolas,'Courier New',monospace\"><span style=\"color: #005fff; text-decoration-color: #005fff; font-weight: bold\">Trial </span><span style=\"color: #005fff; text-decoration-color: #005fff; font-weight: bold\">0</span><span style=\"color: #005fff; text-decoration-color: #005fff; font-weight: bold\">/</span><span style=\"color: #005fff; text-decoration-color: #005fff; font-weight: bold\">9</span>\n",
       "</pre>\n"
      ],
      "text/plain": [
       "\u001b[1;38;5;27mTrial \u001b[0m\u001b[1;38;5;27m0\u001b[0m\u001b[1;38;5;27m/\u001b[0m\u001b[1;38;5;27m9\u001b[0m\n"
      ]
     },
     "metadata": {},
     "output_type": "display_data"
    },
    {
     "data": {
      "text/html": [
       "<pre style=\"white-space:pre;overflow-x:auto;line-height:normal;font-family:Menlo,'DejaVu Sans Mono',consolas,'Courier New',monospace\"><span style=\"color: #7fbfbf; text-decoration-color: #7fbfbf\">           </span><span style=\"color: #000080; text-decoration-color: #000080\">INFO    </span> Trial parameters: <span style=\"font-weight: bold\">{</span><span style=\"color: #008000; text-decoration-color: #008000\">'input_source'</span>:                                           <a href=\"file:///Users/ashwinaravind/Desktop/kruxgitrepo/ragbuilder/src/ragbuilder/data_ingest/optimization.py\" target=\"_blank\"><span style=\"color: #7f7f7f; text-decoration-color: #7f7f7f\">optimization.py</span></a><span style=\"color: #7f7f7f; text-decoration-color: #7f7f7f\">:</span><a href=\"file:///Users/ashwinaravind/Desktop/kruxgitrepo/ragbuilder/src/ragbuilder/data_ingest/optimization.py#97\" target=\"_blank\"><span style=\"color: #7f7f7f; text-decoration-color: #7f7f7f\">97</span></a>\n",
       "<span style=\"color: #7fbfbf; text-decoration-color: #7fbfbf\">           </span>         <span style=\"color: #008000; text-decoration-color: #008000\">'https://raw.githubusercontent.com/ashwinaravind/ashwinaravind.github.io/ref</span> <span style=\"color: #7f7f7f; text-decoration-color: #7f7f7f\">                  </span>\n",
       "<span style=\"color: #7fbfbf; text-decoration-color: #7fbfbf\">           </span>         <span style=\"color: #008000; text-decoration-color: #008000\">s/heads/main/thevanishingtown'</span>, <span style=\"color: #008000; text-decoration-color: #008000\">'test_dataset'</span>:                              <span style=\"color: #7f7f7f; text-decoration-color: #7f7f7f\">                  </span>\n",
       "<span style=\"color: #7fbfbf; text-decoration-color: #7fbfbf\">           </span>         <span style=\"color: #008000; text-decoration-color: #008000\">'/Users/ashwinaravind/Desktop/kruxgitrepo/ragbuilder/gensimtest.csv'</span>,        <span style=\"color: #7f7f7f; text-decoration-color: #7f7f7f\">                  </span>\n",
       "<span style=\"color: #7fbfbf; text-decoration-color: #7fbfbf\">           </span>         <span style=\"color: #008000; text-decoration-color: #008000\">'document_loader'</span>: <span style=\"color: #800080; text-decoration-color: #800080; font-weight: bold\">LoaderConfig</span><span style=\"font-weight: bold\">(</span><span style=\"color: #808000; text-decoration-color: #808000\">type</span>=<span style=\"font-weight: bold\">&lt;</span><span style=\"color: #ff00ff; text-decoration-color: #ff00ff; font-weight: bold\">ParserType.UNSTRUCTURED:</span><span style=\"color: #000000; text-decoration-color: #000000\"> </span>              <span style=\"color: #7f7f7f; text-decoration-color: #7f7f7f\">                  </span>\n",
       "<span style=\"color: #7fbfbf; text-decoration-color: #7fbfbf\">           </span>         <span style=\"color: #008000; text-decoration-color: #008000\">'unstructured'</span><span style=\"color: #000000; text-decoration-color: #000000\">&gt;, </span><span style=\"color: #808000; text-decoration-color: #808000\">loader_kwargs</span><span style=\"color: #000000; text-decoration-color: #000000\">=</span><span style=\"color: #800080; text-decoration-color: #800080; font-style: italic\">None</span><span style=\"color: #000000; text-decoration-color: #000000\">, </span><span style=\"color: #808000; text-decoration-color: #808000\">custom_class</span><span style=\"color: #000000; text-decoration-color: #000000\">=</span><span style=\"color: #800080; text-decoration-color: #800080; font-style: italic\">None</span><span style=\"color: #000000; text-decoration-color: #000000; font-weight: bold\">)</span><span style=\"color: #000000; text-decoration-color: #000000\">, </span>                    <span style=\"color: #7f7f7f; text-decoration-color: #7f7f7f\">                  </span>\n",
       "<span style=\"color: #7fbfbf; text-decoration-color: #7fbfbf\">           </span>         <span style=\"color: #008000; text-decoration-color: #008000\">'chunking_strategy'</span><span style=\"color: #000000; text-decoration-color: #000000\">: </span>                                                        <span style=\"color: #7f7f7f; text-decoration-color: #7f7f7f\">                  </span>\n",
       "<span style=\"color: #7fbfbf; text-decoration-color: #7fbfbf\">           </span>         <span style=\"color: #800080; text-decoration-color: #800080; font-weight: bold\">ChunkingStrategyConfig</span><span style=\"color: #000000; text-decoration-color: #000000; font-weight: bold\">(</span><span style=\"color: #808000; text-decoration-color: #808000\">type</span><span style=\"color: #000000; text-decoration-color: #000000\">=&lt;ChunkingStrategy.RECURSIVE: </span>                    <span style=\"color: #7f7f7f; text-decoration-color: #7f7f7f\">                  </span>\n",
       "<span style=\"color: #7fbfbf; text-decoration-color: #7fbfbf\">           </span>         <span style=\"color: #008000; text-decoration-color: #008000\">'RecursiveCharacterTextSplitter'</span><span style=\"color: #000000; text-decoration-color: #000000\">&gt;, </span><span style=\"color: #808000; text-decoration-color: #808000\">chunker_kwargs</span><span style=\"color: #000000; text-decoration-color: #000000\">=</span><span style=\"color: #800080; text-decoration-color: #800080; font-style: italic\">None</span><span style=\"color: #000000; text-decoration-color: #000000\">, </span><span style=\"color: #808000; text-decoration-color: #808000\">custom_class</span><span style=\"color: #000000; text-decoration-color: #000000\">=</span><span style=\"color: #800080; text-decoration-color: #800080; font-style: italic\">None</span><span style=\"color: #000000; text-decoration-color: #000000; font-weight: bold\">)</span><span style=\"color: #000000; text-decoration-color: #000000\">, </span> <span style=\"color: #7f7f7f; text-decoration-color: #7f7f7f\">                  </span>\n",
       "<span style=\"color: #7fbfbf; text-decoration-color: #7fbfbf\">           </span>         <span style=\"color: #008000; text-decoration-color: #008000\">'chunk_overlap'</span><span style=\"color: #000000; text-decoration-color: #000000\">: </span><span style=\"color: #008080; text-decoration-color: #008080; font-weight: bold\">100</span><span style=\"color: #000000; text-decoration-color: #000000\">, </span><span style=\"color: #008000; text-decoration-color: #008000\">'chunk_size'</span><span style=\"color: #000000; text-decoration-color: #000000\">: </span><span style=\"color: #008080; text-decoration-color: #008080; font-weight: bold\">1000</span><span style=\"color: #000000; text-decoration-color: #000000\">, </span><span style=\"color: #008000; text-decoration-color: #008000\">'embedding_model'</span><span style=\"color: #000000; text-decoration-color: #000000\">: </span>                <span style=\"color: #7f7f7f; text-decoration-color: #7f7f7f\">                  </span>\n",
       "<span style=\"color: #7fbfbf; text-decoration-color: #7fbfbf\">           </span>         <span style=\"color: #800080; text-decoration-color: #800080; font-weight: bold\">EmbeddingConfig</span><span style=\"color: #000000; text-decoration-color: #000000; font-weight: bold\">(</span><span style=\"color: #808000; text-decoration-color: #808000\">type</span><span style=\"color: #000000; text-decoration-color: #000000\">=&lt;EmbeddingModel.HUGGINGFACE: </span><span style=\"color: #008000; text-decoration-color: #008000\">'huggingface'</span><span style=\"color: #000000; text-decoration-color: #000000\">&gt;, </span>           <span style=\"color: #7f7f7f; text-decoration-color: #7f7f7f\">                  </span>\n",
       "<span style=\"color: #7fbfbf; text-decoration-color: #7fbfbf\">           </span>         <span style=\"color: #808000; text-decoration-color: #808000\">model_kwargs</span><span style=\"color: #000000; text-decoration-color: #000000\">=</span><span style=\"color: #000000; text-decoration-color: #000000; font-weight: bold\">{</span><span style=\"color: #008000; text-decoration-color: #008000\">'model_name'</span><span style=\"color: #000000; text-decoration-color: #000000\">: </span><span style=\"color: #008000; text-decoration-color: #008000\">'mixedbread-ai/mxbai-embed-large-v1'</span><span style=\"color: #000000; text-decoration-color: #000000; font-weight: bold\">}</span><span style=\"color: #000000; text-decoration-color: #000000\">, </span>          <span style=\"color: #7f7f7f; text-decoration-color: #7f7f7f\">                  </span>\n",
       "<span style=\"color: #7fbfbf; text-decoration-color: #7fbfbf\">           </span>         <span style=\"color: #808000; text-decoration-color: #808000\">custom_class</span><span style=\"color: #000000; text-decoration-color: #000000\">=</span><span style=\"color: #800080; text-decoration-color: #800080; font-style: italic\">None</span><span style=\"color: #000000; text-decoration-color: #000000; font-weight: bold\">)</span><span style=\"color: #000000; text-decoration-color: #000000\">, </span><span style=\"color: #008000; text-decoration-color: #008000\">'vector_database'</span><span style=\"color: #000000; text-decoration-color: #000000\">: </span>                                      <span style=\"color: #7f7f7f; text-decoration-color: #7f7f7f\">                  </span>\n",
       "<span style=\"color: #7fbfbf; text-decoration-color: #7fbfbf\">           </span>         <span style=\"color: #800080; text-decoration-color: #800080; font-weight: bold\">VectorDBConfig</span><span style=\"color: #000000; text-decoration-color: #000000; font-weight: bold\">(</span><span style=\"color: #808000; text-decoration-color: #808000\">type</span><span style=\"color: #000000; text-decoration-color: #000000\">=&lt;VectorDatabase.CHROMA: </span><span style=\"color: #008000; text-decoration-color: #008000\">'chroma'</span><span style=\"font-weight: bold\">&gt;</span>,                       <span style=\"color: #7f7f7f; text-decoration-color: #7f7f7f\">                  </span>\n",
       "<span style=\"color: #7fbfbf; text-decoration-color: #7fbfbf\">           </span>         <span style=\"color: #808000; text-decoration-color: #808000\">vectordb_kwargs</span>=<span style=\"font-weight: bold\">{</span><span style=\"color: #008000; text-decoration-color: #008000\">'collection_metadata'</span>: <span style=\"font-weight: bold\">{</span><span style=\"color: #008000; text-decoration-color: #008000\">'hnsw:space'</span>: <span style=\"color: #008000; text-decoration-color: #008000\">'cosine'</span><span style=\"font-weight: bold\">}}</span>,           <span style=\"color: #7f7f7f; text-decoration-color: #7f7f7f\">                  </span>\n",
       "<span style=\"color: #7fbfbf; text-decoration-color: #7fbfbf\">           </span>         <span style=\"color: #808000; text-decoration-color: #808000\">custom_class</span>=<span style=\"color: #800080; text-decoration-color: #800080; font-style: italic\">None</span><span style=\"font-weight: bold\">)}</span>                                                          <span style=\"color: #7f7f7f; text-decoration-color: #7f7f7f\">                  </span>\n",
       "</pre>\n"
      ],
      "text/plain": [
       "\u001b[2;36m          \u001b[0m\u001b[2;36m \u001b[0m\u001b[34mINFO    \u001b[0m Trial parameters: \u001b[1m{\u001b[0m\u001b[32m'input_source'\u001b[0m:                                           \u001b]8;id=661322;file:///Users/ashwinaravind/Desktop/kruxgitrepo/ragbuilder/src/ragbuilder/data_ingest/optimization.py\u001b\\\u001b[2moptimization.py\u001b[0m\u001b]8;;\u001b\\\u001b[2m:\u001b[0m\u001b]8;id=858216;file:///Users/ashwinaravind/Desktop/kruxgitrepo/ragbuilder/src/ragbuilder/data_ingest/optimization.py#97\u001b\\\u001b[2m97\u001b[0m\u001b]8;;\u001b\\\n",
       "\u001b[2;36m           \u001b[0m         \u001b[32m'https://raw.githubusercontent.com/ashwinaravind/ashwinaravind.github.io/ref\u001b[0m \u001b[2m                  \u001b[0m\n",
       "\u001b[2;36m           \u001b[0m         \u001b[32ms/heads/main/thevanishingtown'\u001b[0m, \u001b[32m'test_dataset'\u001b[0m:                              \u001b[2m                  \u001b[0m\n",
       "\u001b[2;36m           \u001b[0m         \u001b[32m'/Users/ashwinaravind/Desktop/kruxgitrepo/ragbuilder/gensimtest.csv'\u001b[0m,        \u001b[2m                  \u001b[0m\n",
       "\u001b[2;36m           \u001b[0m         \u001b[32m'document_loader'\u001b[0m: \u001b[1;35mLoaderConfig\u001b[0m\u001b[1m(\u001b[0m\u001b[33mtype\u001b[0m=\u001b[1m<\u001b[0m\u001b[1;95mParserType.UNSTRUCTURED:\u001b[0m\u001b[39m \u001b[0m              \u001b[2m                  \u001b[0m\n",
       "\u001b[2;36m           \u001b[0m         \u001b[32m'unstructured'\u001b[0m\u001b[39m>, \u001b[0m\u001b[33mloader_kwargs\u001b[0m\u001b[39m=\u001b[0m\u001b[3;35mNone\u001b[0m\u001b[39m, \u001b[0m\u001b[33mcustom_class\u001b[0m\u001b[39m=\u001b[0m\u001b[3;35mNone\u001b[0m\u001b[1;39m)\u001b[0m\u001b[39m, \u001b[0m                    \u001b[2m                  \u001b[0m\n",
       "\u001b[2;36m           \u001b[0m         \u001b[32m'chunking_strategy'\u001b[0m\u001b[39m: \u001b[0m                                                        \u001b[2m                  \u001b[0m\n",
       "\u001b[2;36m           \u001b[0m         \u001b[1;35mChunkingStrategyConfig\u001b[0m\u001b[1;39m(\u001b[0m\u001b[33mtype\u001b[0m\u001b[39m=<ChunkingStrategy.RECURSIVE: \u001b[0m                    \u001b[2m                  \u001b[0m\n",
       "\u001b[2;36m           \u001b[0m         \u001b[32m'RecursiveCharacterTextSplitter'\u001b[0m\u001b[39m>, \u001b[0m\u001b[33mchunker_kwargs\u001b[0m\u001b[39m=\u001b[0m\u001b[3;35mNone\u001b[0m\u001b[39m, \u001b[0m\u001b[33mcustom_class\u001b[0m\u001b[39m=\u001b[0m\u001b[3;35mNone\u001b[0m\u001b[1;39m)\u001b[0m\u001b[39m, \u001b[0m \u001b[2m                  \u001b[0m\n",
       "\u001b[2;36m           \u001b[0m         \u001b[32m'chunk_overlap'\u001b[0m\u001b[39m: \u001b[0m\u001b[1;36m100\u001b[0m\u001b[39m, \u001b[0m\u001b[32m'chunk_size'\u001b[0m\u001b[39m: \u001b[0m\u001b[1;36m1000\u001b[0m\u001b[39m, \u001b[0m\u001b[32m'embedding_model'\u001b[0m\u001b[39m: \u001b[0m                \u001b[2m                  \u001b[0m\n",
       "\u001b[2;36m           \u001b[0m         \u001b[1;35mEmbeddingConfig\u001b[0m\u001b[1;39m(\u001b[0m\u001b[33mtype\u001b[0m\u001b[39m=<EmbeddingModel.HUGGINGFACE: \u001b[0m\u001b[32m'huggingface'\u001b[0m\u001b[39m>, \u001b[0m           \u001b[2m                  \u001b[0m\n",
       "\u001b[2;36m           \u001b[0m         \u001b[33mmodel_kwargs\u001b[0m\u001b[39m=\u001b[0m\u001b[1;39m{\u001b[0m\u001b[32m'model_name'\u001b[0m\u001b[39m: \u001b[0m\u001b[32m'mixedbread-ai/mxbai-embed-large-v1'\u001b[0m\u001b[1;39m}\u001b[0m\u001b[39m, \u001b[0m          \u001b[2m                  \u001b[0m\n",
       "\u001b[2;36m           \u001b[0m         \u001b[33mcustom_class\u001b[0m\u001b[39m=\u001b[0m\u001b[3;35mNone\u001b[0m\u001b[1;39m)\u001b[0m\u001b[39m, \u001b[0m\u001b[32m'vector_database'\u001b[0m\u001b[39m: \u001b[0m                                      \u001b[2m                  \u001b[0m\n",
       "\u001b[2;36m           \u001b[0m         \u001b[1;35mVectorDBConfig\u001b[0m\u001b[1;39m(\u001b[0m\u001b[33mtype\u001b[0m\u001b[39m=<VectorDatabase.CHROMA: \u001b[0m\u001b[32m'chroma'\u001b[0m\u001b[1m>\u001b[0m,                       \u001b[2m                  \u001b[0m\n",
       "\u001b[2;36m           \u001b[0m         \u001b[33mvectordb_kwargs\u001b[0m=\u001b[1m{\u001b[0m\u001b[32m'collection_metadata'\u001b[0m: \u001b[1m{\u001b[0m\u001b[32m'hnsw:space'\u001b[0m: \u001b[32m'cosine'\u001b[0m\u001b[1m}\u001b[0m\u001b[1m}\u001b[0m,           \u001b[2m                  \u001b[0m\n",
       "\u001b[2;36m           \u001b[0m         \u001b[33mcustom_class\u001b[0m=\u001b[3;35mNone\u001b[0m\u001b[1m)\u001b[0m\u001b[1m}\u001b[0m                                                          \u001b[2m                  \u001b[0m\n"
      ]
     },
     "metadata": {},
     "output_type": "display_data"
    },
    {
     "name": "stdout",
     "output_type": "stream",
     "text": [
      "[W 2024-12-12 19:49:05,702] Trial 0 failed with parameters: {'chunk_size': 1000} because of the following error: TypeError(\"'RecursiveCharacterTextSplitter' object is not callable\").\n",
      "Traceback (most recent call last):\n",
      "  File \"/Users/ashwinaravind/.pyenv/versions/3.12.5/lib/python3.12/site-packages/optuna/study/_optimize.py\", line 197, in _run_trial\n",
      "    value_or_values = func(trial)\n",
      "                      ^^^^^^^^^^^\n",
      "  File \"/Users/ashwinaravind/Desktop/kruxgitrepo/ragbuilder/src/ragbuilder/data_ingest/optimization.py\", line 114, in objective\n",
      "    pipeline = DataIngestPipeline(config)\n",
      "               ^^^^^^^^^^^^^^^^^^^^^^^^^^\n",
      "  File \"/Users/ashwinaravind/Desktop/kruxgitrepo/ragbuilder/src/ragbuilder/data_ingest/pipeline.py\", line 34, in __init__\n",
      "    self.chunker = self._create_chunker()\n",
      "                   ^^^^^^^^^^^^^^^^^^^^^^\n",
      "  File \"/Users/ashwinaravind/Desktop/kruxgitrepo/ragbuilder/src/ragbuilder/data_ingest/pipeline.py\", line 177, in _create_chunker\n",
      "    return chunker_class(\n",
      "           ^^^^^^^^^^^^^^\n",
      "TypeError: 'RecursiveCharacterTextSplitter' object is not callable\n",
      "[W 2024-12-12 19:49:05,703] Trial 0 failed with value None.\n"
     ]
    },
    {
     "ename": "TypeError",
     "evalue": "'RecursiveCharacterTextSplitter' object is not callable",
     "output_type": "error",
     "traceback": [
      "\u001b[0;31m---------------------------------------------------------------------------\u001b[0m",
      "\u001b[0;31mTypeError\u001b[0m                                 Traceback (most recent call last)",
      "Cell \u001b[0;32mIn[4], line 15\u001b[0m\n\u001b[1;32m     12\u001b[0m builder \u001b[38;5;241m=\u001b[39m RAGBuilder\u001b[38;5;241m.\u001b[39mfrom_yaml(\u001b[38;5;124m\"\u001b[39m\u001b[38;5;124mconfig.yaml\u001b[39m\u001b[38;5;124m\"\u001b[39m)\n\u001b[1;32m     14\u001b[0m \u001b[38;5;66;03m# Run end-to-end optimization\u001b[39;00m\n\u001b[0;32m---> 15\u001b[0m results \u001b[38;5;241m=\u001b[39m \u001b[43mbuilder\u001b[49m\u001b[38;5;241;43m.\u001b[39;49m\u001b[43moptimize_data_ingest\u001b[49m\u001b[43m(\u001b[49m\u001b[43m)\u001b[49m\n\u001b[1;32m     16\u001b[0m \u001b[38;5;66;03m# results = builder.optimize_retrieval()\u001b[39;00m\n\u001b[1;32m     17\u001b[0m \u001b[38;5;66;03m# results = builder.optimize_generation()\u001b[39;00m\n\u001b[1;32m     18\u001b[0m \n\u001b[0;32m   (...)\u001b[0m\n\u001b[1;32m     23\u001b[0m \n\u001b[1;32m     24\u001b[0m \u001b[38;5;66;03m# You can access individual results:\u001b[39;00m\n\u001b[1;32m     25\u001b[0m data_ingest_results \u001b[38;5;241m=\u001b[39m results[\u001b[38;5;124m\"\u001b[39m\u001b[38;5;124mdata_ingest\u001b[39m\u001b[38;5;124m\"\u001b[39m]\n",
      "File \u001b[0;32m~/Desktop/kruxgitrepo/ragbuilder/src/ragbuilder/core/builder.py:85\u001b[0m, in \u001b[0;36mRAGBuilder.optimize_data_ingest\u001b[0;34m(self, config)\u001b[0m\n\u001b[1;32m     82\u001b[0m     \u001b[38;5;28mself\u001b[39m\u001b[38;5;241m.\u001b[39m_data_ingest_config \u001b[38;5;241m=\u001b[39m config\n\u001b[1;32m     84\u001b[0m \u001b[38;5;28mself\u001b[39m\u001b[38;5;241m.\u001b[39mlogger\u001b[38;5;241m.\u001b[39minfo(\u001b[38;5;124m\"\u001b[39m\u001b[38;5;124mStarting data ingestion optimization\u001b[39m\u001b[38;5;124m\"\u001b[39m)\n\u001b[0;32m---> 85\u001b[0m results \u001b[38;5;241m=\u001b[39m \u001b[43mrun_data_ingest_optimization\u001b[49m\u001b[43m(\u001b[49m\n\u001b[1;32m     86\u001b[0m \u001b[43m    \u001b[49m\u001b[38;5;28;43mself\u001b[39;49m\u001b[38;5;241;43m.\u001b[39;49m\u001b[43m_data_ingest_config\u001b[49m\u001b[43m,\u001b[49m\u001b[43m \u001b[49m\n\u001b[1;32m     87\u001b[0m \u001b[43m    \u001b[49m\u001b[43mlog_config\u001b[49m\u001b[38;5;241;43m=\u001b[39;49m\u001b[38;5;28;43mself\u001b[39;49m\u001b[38;5;241;43m.\u001b[39;49m\u001b[43m_log_config\u001b[49m\n\u001b[1;32m     88\u001b[0m \u001b[43m\u001b[49m\u001b[43m)\u001b[49m\n\u001b[1;32m     90\u001b[0m \u001b[38;5;66;03m# Store results for later use\u001b[39;00m\n\u001b[1;32m     91\u001b[0m \u001b[38;5;28mself\u001b[39m\u001b[38;5;241m.\u001b[39m_optimization_results[\u001b[38;5;124m\"\u001b[39m\u001b[38;5;124mdata_ingest\u001b[39m\u001b[38;5;124m\"\u001b[39m] \u001b[38;5;241m=\u001b[39m results\n",
      "File \u001b[0;32m~/Desktop/kruxgitrepo/ragbuilder/src/ragbuilder/data_ingest/optimization.py:253\u001b[0m, in \u001b[0;36mrun_data_ingest_optimization\u001b[0;34m(options_config, log_config)\u001b[0m\n\u001b[1;32m    250\u001b[0m     evaluator \u001b[38;5;241m=\u001b[39m SimilarityEvaluator(options_config\u001b[38;5;241m.\u001b[39mtest_dataset, options_config\u001b[38;5;241m.\u001b[39mevaluation_config)\n\u001b[1;32m    252\u001b[0m optimizer \u001b[38;5;241m=\u001b[39m DataIngestOptimizer(options_config, evaluator, show_progress_bar\u001b[38;5;241m=\u001b[39mlog_config\u001b[38;5;241m.\u001b[39mshow_progress_bar)\n\u001b[0;32m--> 253\u001b[0m best_config, best_score \u001b[38;5;241m=\u001b[39m \u001b[43moptimizer\u001b[49m\u001b[38;5;241;43m.\u001b[39;49m\u001b[43moptimize\u001b[49m\u001b[43m(\u001b[49m\u001b[43m)\u001b[49m\n\u001b[1;32m    255\u001b[0m \u001b[38;5;66;03m# Create pipeline with best config to ensure vectorstore is cached\u001b[39;00m\n\u001b[1;32m    256\u001b[0m pipeline \u001b[38;5;241m=\u001b[39m DataIngestPipeline(best_config)\n",
      "File \u001b[0;32m~/Desktop/kruxgitrepo/ragbuilder/src/ragbuilder/data_ingest/optimization.py:155\u001b[0m, in \u001b[0;36mDataIngestOptimizer.optimize\u001b[0;34m(self)\u001b[0m\n\u001b[1;32m    144\u001b[0m     optuna\u001b[38;5;241m.\u001b[39mdelete_study(study_name\u001b[38;5;241m=\u001b[39m\u001b[38;5;28mself\u001b[39m\u001b[38;5;241m.\u001b[39moptions_config\u001b[38;5;241m.\u001b[39moptimization\u001b[38;5;241m.\u001b[39mstudy_name, storage\u001b[38;5;241m=\u001b[39m\u001b[38;5;28mself\u001b[39m\u001b[38;5;241m.\u001b[39moptions_config\u001b[38;5;241m.\u001b[39moptimization\u001b[38;5;241m.\u001b[39mstorage)\n\u001b[1;32m    146\u001b[0m \u001b[38;5;28mself\u001b[39m\u001b[38;5;241m.\u001b[39mstudy \u001b[38;5;241m=\u001b[39m optuna\u001b[38;5;241m.\u001b[39mcreate_study(\n\u001b[1;32m    147\u001b[0m     storage\u001b[38;5;241m=\u001b[39m\u001b[38;5;28mself\u001b[39m\u001b[38;5;241m.\u001b[39moptions_config\u001b[38;5;241m.\u001b[39moptimization\u001b[38;5;241m.\u001b[39mstorage,\n\u001b[1;32m    148\u001b[0m     study_name\u001b[38;5;241m=\u001b[39m\u001b[38;5;28mself\u001b[39m\u001b[38;5;241m.\u001b[39moptions_config\u001b[38;5;241m.\u001b[39moptimization\u001b[38;5;241m.\u001b[39mstudy_name,\n\u001b[0;32m   (...)\u001b[0m\n\u001b[1;32m    152\u001b[0m     pruner\u001b[38;5;241m=\u001b[39moptuna\u001b[38;5;241m.\u001b[39mpruners\u001b[38;5;241m.\u001b[39mMedianPruner()\n\u001b[1;32m    153\u001b[0m )\n\u001b[0;32m--> 155\u001b[0m \u001b[38;5;28;43mself\u001b[39;49m\u001b[38;5;241;43m.\u001b[39;49m\u001b[43mstudy\u001b[49m\u001b[38;5;241;43m.\u001b[39;49m\u001b[43moptimize\u001b[49m\u001b[43m(\u001b[49m\n\u001b[1;32m    156\u001b[0m \u001b[43m    \u001b[49m\u001b[43mobjective\u001b[49m\u001b[43m,\u001b[49m\u001b[43m \u001b[49m\n\u001b[1;32m    157\u001b[0m \u001b[43m    \u001b[49m\u001b[43mn_trials\u001b[49m\u001b[38;5;241;43m=\u001b[39;49m\u001b[38;5;28;43mself\u001b[39;49m\u001b[38;5;241;43m.\u001b[39;49m\u001b[43moptions_config\u001b[49m\u001b[38;5;241;43m.\u001b[39;49m\u001b[43moptimization\u001b[49m\u001b[38;5;241;43m.\u001b[39;49m\u001b[43mn_trials\u001b[49m\u001b[43m,\u001b[49m\n\u001b[1;32m    158\u001b[0m \u001b[43m    \u001b[49m\u001b[43mn_jobs\u001b[49m\u001b[38;5;241;43m=\u001b[39;49m\u001b[38;5;28;43mself\u001b[39;49m\u001b[38;5;241;43m.\u001b[39;49m\u001b[43moptions_config\u001b[49m\u001b[38;5;241;43m.\u001b[39;49m\u001b[43moptimization\u001b[49m\u001b[38;5;241;43m.\u001b[39;49m\u001b[43mn_jobs\u001b[49m\u001b[43m,\u001b[49m\n\u001b[1;32m    159\u001b[0m \u001b[43m    \u001b[49m\u001b[43mtimeout\u001b[49m\u001b[38;5;241;43m=\u001b[39;49m\u001b[38;5;28;43mself\u001b[39;49m\u001b[38;5;241;43m.\u001b[39;49m\u001b[43moptions_config\u001b[49m\u001b[38;5;241;43m.\u001b[39;49m\u001b[43moptimization\u001b[49m\u001b[38;5;241;43m.\u001b[39;49m\u001b[43mtimeout\u001b[49m\u001b[43m,\u001b[49m\n\u001b[1;32m    160\u001b[0m \u001b[43m    \u001b[49m\u001b[43mshow_progress_bar\u001b[49m\u001b[38;5;241;43m=\u001b[39;49m\u001b[38;5;28;43mself\u001b[39;49m\u001b[38;5;241;43m.\u001b[39;49m\u001b[43mshow_progress_bar\u001b[49m\n\u001b[1;32m    161\u001b[0m \u001b[43m\u001b[49m\u001b[43m)\u001b[49m\n\u001b[1;32m    163\u001b[0m console\u001b[38;5;241m.\u001b[39mprint(\u001b[38;5;124mf\u001b[39m\u001b[38;5;124m\"\u001b[39m\u001b[38;5;124m[heading]Optimization Complete![/heading]\u001b[39m\u001b[38;5;124m\"\u001b[39m)\n\u001b[1;32m    164\u001b[0m console\u001b[38;5;241m.\u001b[39mprint(\u001b[38;5;124mf\u001b[39m\u001b[38;5;124m\"\u001b[39m\u001b[38;5;124m[success]Best Score:[/success] [value]\u001b[39m\u001b[38;5;132;01m{\u001b[39;00m\u001b[38;5;28mself\u001b[39m\u001b[38;5;241m.\u001b[39mstudy\u001b[38;5;241m.\u001b[39mbest_value\u001b[38;5;132;01m:\u001b[39;00m\u001b[38;5;124m.4f\u001b[39m\u001b[38;5;132;01m}\u001b[39;00m\u001b[38;5;124m[/value]\u001b[39m\u001b[38;5;124m\"\u001b[39m)\n",
      "File \u001b[0;32m~/.pyenv/versions/3.12.5/lib/python3.12/site-packages/optuna/study/study.py:475\u001b[0m, in \u001b[0;36mStudy.optimize\u001b[0;34m(self, func, n_trials, timeout, n_jobs, catch, callbacks, gc_after_trial, show_progress_bar)\u001b[0m\n\u001b[1;32m    373\u001b[0m \u001b[38;5;28;01mdef\u001b[39;00m \u001b[38;5;21moptimize\u001b[39m(\n\u001b[1;32m    374\u001b[0m     \u001b[38;5;28mself\u001b[39m,\n\u001b[1;32m    375\u001b[0m     func: ObjectiveFuncType,\n\u001b[0;32m   (...)\u001b[0m\n\u001b[1;32m    382\u001b[0m     show_progress_bar: \u001b[38;5;28mbool\u001b[39m \u001b[38;5;241m=\u001b[39m \u001b[38;5;28;01mFalse\u001b[39;00m,\n\u001b[1;32m    383\u001b[0m ) \u001b[38;5;241m-\u001b[39m\u001b[38;5;241m>\u001b[39m \u001b[38;5;28;01mNone\u001b[39;00m:\n\u001b[1;32m    384\u001b[0m \u001b[38;5;250m    \u001b[39m\u001b[38;5;124;03m\"\"\"Optimize an objective function.\u001b[39;00m\n\u001b[1;32m    385\u001b[0m \n\u001b[1;32m    386\u001b[0m \u001b[38;5;124;03m    Optimization is done by choosing a suitable set of hyperparameter values from a given\u001b[39;00m\n\u001b[0;32m   (...)\u001b[0m\n\u001b[1;32m    473\u001b[0m \u001b[38;5;124;03m            If nested invocation of this method occurs.\u001b[39;00m\n\u001b[1;32m    474\u001b[0m \u001b[38;5;124;03m    \"\"\"\u001b[39;00m\n\u001b[0;32m--> 475\u001b[0m     \u001b[43m_optimize\u001b[49m\u001b[43m(\u001b[49m\n\u001b[1;32m    476\u001b[0m \u001b[43m        \u001b[49m\u001b[43mstudy\u001b[49m\u001b[38;5;241;43m=\u001b[39;49m\u001b[38;5;28;43mself\u001b[39;49m\u001b[43m,\u001b[49m\n\u001b[1;32m    477\u001b[0m \u001b[43m        \u001b[49m\u001b[43mfunc\u001b[49m\u001b[38;5;241;43m=\u001b[39;49m\u001b[43mfunc\u001b[49m\u001b[43m,\u001b[49m\n\u001b[1;32m    478\u001b[0m \u001b[43m        \u001b[49m\u001b[43mn_trials\u001b[49m\u001b[38;5;241;43m=\u001b[39;49m\u001b[43mn_trials\u001b[49m\u001b[43m,\u001b[49m\n\u001b[1;32m    479\u001b[0m \u001b[43m        \u001b[49m\u001b[43mtimeout\u001b[49m\u001b[38;5;241;43m=\u001b[39;49m\u001b[43mtimeout\u001b[49m\u001b[43m,\u001b[49m\n\u001b[1;32m    480\u001b[0m \u001b[43m        \u001b[49m\u001b[43mn_jobs\u001b[49m\u001b[38;5;241;43m=\u001b[39;49m\u001b[43mn_jobs\u001b[49m\u001b[43m,\u001b[49m\n\u001b[1;32m    481\u001b[0m \u001b[43m        \u001b[49m\u001b[43mcatch\u001b[49m\u001b[38;5;241;43m=\u001b[39;49m\u001b[38;5;28;43mtuple\u001b[39;49m\u001b[43m(\u001b[49m\u001b[43mcatch\u001b[49m\u001b[43m)\u001b[49m\u001b[43m \u001b[49m\u001b[38;5;28;43;01mif\u001b[39;49;00m\u001b[43m \u001b[49m\u001b[38;5;28;43misinstance\u001b[39;49m\u001b[43m(\u001b[49m\u001b[43mcatch\u001b[49m\u001b[43m,\u001b[49m\u001b[43m \u001b[49m\u001b[43mIterable\u001b[49m\u001b[43m)\u001b[49m\u001b[43m \u001b[49m\u001b[38;5;28;43;01melse\u001b[39;49;00m\u001b[43m \u001b[49m\u001b[43m(\u001b[49m\u001b[43mcatch\u001b[49m\u001b[43m,\u001b[49m\u001b[43m)\u001b[49m\u001b[43m,\u001b[49m\n\u001b[1;32m    482\u001b[0m \u001b[43m        \u001b[49m\u001b[43mcallbacks\u001b[49m\u001b[38;5;241;43m=\u001b[39;49m\u001b[43mcallbacks\u001b[49m\u001b[43m,\u001b[49m\n\u001b[1;32m    483\u001b[0m \u001b[43m        \u001b[49m\u001b[43mgc_after_trial\u001b[49m\u001b[38;5;241;43m=\u001b[39;49m\u001b[43mgc_after_trial\u001b[49m\u001b[43m,\u001b[49m\n\u001b[1;32m    484\u001b[0m \u001b[43m        \u001b[49m\u001b[43mshow_progress_bar\u001b[49m\u001b[38;5;241;43m=\u001b[39;49m\u001b[43mshow_progress_bar\u001b[49m\u001b[43m,\u001b[49m\n\u001b[1;32m    485\u001b[0m \u001b[43m    \u001b[49m\u001b[43m)\u001b[49m\n",
      "File \u001b[0;32m~/.pyenv/versions/3.12.5/lib/python3.12/site-packages/optuna/study/_optimize.py:63\u001b[0m, in \u001b[0;36m_optimize\u001b[0;34m(study, func, n_trials, timeout, n_jobs, catch, callbacks, gc_after_trial, show_progress_bar)\u001b[0m\n\u001b[1;32m     61\u001b[0m \u001b[38;5;28;01mtry\u001b[39;00m:\n\u001b[1;32m     62\u001b[0m     \u001b[38;5;28;01mif\u001b[39;00m n_jobs \u001b[38;5;241m==\u001b[39m \u001b[38;5;241m1\u001b[39m:\n\u001b[0;32m---> 63\u001b[0m         \u001b[43m_optimize_sequential\u001b[49m\u001b[43m(\u001b[49m\n\u001b[1;32m     64\u001b[0m \u001b[43m            \u001b[49m\u001b[43mstudy\u001b[49m\u001b[43m,\u001b[49m\n\u001b[1;32m     65\u001b[0m \u001b[43m            \u001b[49m\u001b[43mfunc\u001b[49m\u001b[43m,\u001b[49m\n\u001b[1;32m     66\u001b[0m \u001b[43m            \u001b[49m\u001b[43mn_trials\u001b[49m\u001b[43m,\u001b[49m\n\u001b[1;32m     67\u001b[0m \u001b[43m            \u001b[49m\u001b[43mtimeout\u001b[49m\u001b[43m,\u001b[49m\n\u001b[1;32m     68\u001b[0m \u001b[43m            \u001b[49m\u001b[43mcatch\u001b[49m\u001b[43m,\u001b[49m\n\u001b[1;32m     69\u001b[0m \u001b[43m            \u001b[49m\u001b[43mcallbacks\u001b[49m\u001b[43m,\u001b[49m\n\u001b[1;32m     70\u001b[0m \u001b[43m            \u001b[49m\u001b[43mgc_after_trial\u001b[49m\u001b[43m,\u001b[49m\n\u001b[1;32m     71\u001b[0m \u001b[43m            \u001b[49m\u001b[43mreseed_sampler_rng\u001b[49m\u001b[38;5;241;43m=\u001b[39;49m\u001b[38;5;28;43;01mFalse\u001b[39;49;00m\u001b[43m,\u001b[49m\n\u001b[1;32m     72\u001b[0m \u001b[43m            \u001b[49m\u001b[43mtime_start\u001b[49m\u001b[38;5;241;43m=\u001b[39;49m\u001b[38;5;28;43;01mNone\u001b[39;49;00m\u001b[43m,\u001b[49m\n\u001b[1;32m     73\u001b[0m \u001b[43m            \u001b[49m\u001b[43mprogress_bar\u001b[49m\u001b[38;5;241;43m=\u001b[39;49m\u001b[43mprogress_bar\u001b[49m\u001b[43m,\u001b[49m\n\u001b[1;32m     74\u001b[0m \u001b[43m        \u001b[49m\u001b[43m)\u001b[49m\n\u001b[1;32m     75\u001b[0m     \u001b[38;5;28;01melse\u001b[39;00m:\n\u001b[1;32m     76\u001b[0m         \u001b[38;5;28;01mif\u001b[39;00m n_jobs \u001b[38;5;241m==\u001b[39m \u001b[38;5;241m-\u001b[39m\u001b[38;5;241m1\u001b[39m:\n",
      "File \u001b[0;32m~/.pyenv/versions/3.12.5/lib/python3.12/site-packages/optuna/study/_optimize.py:160\u001b[0m, in \u001b[0;36m_optimize_sequential\u001b[0;34m(study, func, n_trials, timeout, catch, callbacks, gc_after_trial, reseed_sampler_rng, time_start, progress_bar)\u001b[0m\n\u001b[1;32m    157\u001b[0m         \u001b[38;5;28;01mbreak\u001b[39;00m\n\u001b[1;32m    159\u001b[0m \u001b[38;5;28;01mtry\u001b[39;00m:\n\u001b[0;32m--> 160\u001b[0m     frozen_trial \u001b[38;5;241m=\u001b[39m \u001b[43m_run_trial\u001b[49m\u001b[43m(\u001b[49m\u001b[43mstudy\u001b[49m\u001b[43m,\u001b[49m\u001b[43m \u001b[49m\u001b[43mfunc\u001b[49m\u001b[43m,\u001b[49m\u001b[43m \u001b[49m\u001b[43mcatch\u001b[49m\u001b[43m)\u001b[49m\n\u001b[1;32m    161\u001b[0m \u001b[38;5;28;01mfinally\u001b[39;00m:\n\u001b[1;32m    162\u001b[0m     \u001b[38;5;66;03m# The following line mitigates memory problems that can be occurred in some\u001b[39;00m\n\u001b[1;32m    163\u001b[0m     \u001b[38;5;66;03m# environments (e.g., services that use computing containers such as GitHub Actions).\u001b[39;00m\n\u001b[1;32m    164\u001b[0m     \u001b[38;5;66;03m# Please refer to the following PR for further details:\u001b[39;00m\n\u001b[1;32m    165\u001b[0m     \u001b[38;5;66;03m# https://github.com/optuna/optuna/pull/325.\u001b[39;00m\n\u001b[1;32m    166\u001b[0m     \u001b[38;5;28;01mif\u001b[39;00m gc_after_trial:\n",
      "File \u001b[0;32m~/.pyenv/versions/3.12.5/lib/python3.12/site-packages/optuna/study/_optimize.py:248\u001b[0m, in \u001b[0;36m_run_trial\u001b[0;34m(study, func, catch)\u001b[0m\n\u001b[1;32m    241\u001b[0m         \u001b[38;5;28;01massert\u001b[39;00m \u001b[38;5;28;01mFalse\u001b[39;00m, \u001b[38;5;124m\"\u001b[39m\u001b[38;5;124mShould not reach.\u001b[39m\u001b[38;5;124m\"\u001b[39m\n\u001b[1;32m    243\u001b[0m \u001b[38;5;28;01mif\u001b[39;00m (\n\u001b[1;32m    244\u001b[0m     frozen_trial\u001b[38;5;241m.\u001b[39mstate \u001b[38;5;241m==\u001b[39m TrialState\u001b[38;5;241m.\u001b[39mFAIL\n\u001b[1;32m    245\u001b[0m     \u001b[38;5;129;01mand\u001b[39;00m func_err \u001b[38;5;129;01mis\u001b[39;00m \u001b[38;5;129;01mnot\u001b[39;00m \u001b[38;5;28;01mNone\u001b[39;00m\n\u001b[1;32m    246\u001b[0m     \u001b[38;5;129;01mand\u001b[39;00m \u001b[38;5;129;01mnot\u001b[39;00m \u001b[38;5;28misinstance\u001b[39m(func_err, catch)\n\u001b[1;32m    247\u001b[0m ):\n\u001b[0;32m--> 248\u001b[0m     \u001b[38;5;28;01mraise\u001b[39;00m func_err\n\u001b[1;32m    249\u001b[0m \u001b[38;5;28;01mreturn\u001b[39;00m frozen_trial\n",
      "File \u001b[0;32m~/.pyenv/versions/3.12.5/lib/python3.12/site-packages/optuna/study/_optimize.py:197\u001b[0m, in \u001b[0;36m_run_trial\u001b[0;34m(study, func, catch)\u001b[0m\n\u001b[1;32m    195\u001b[0m \u001b[38;5;28;01mwith\u001b[39;00m get_heartbeat_thread(trial\u001b[38;5;241m.\u001b[39m_trial_id, study\u001b[38;5;241m.\u001b[39m_storage):\n\u001b[1;32m    196\u001b[0m     \u001b[38;5;28;01mtry\u001b[39;00m:\n\u001b[0;32m--> 197\u001b[0m         value_or_values \u001b[38;5;241m=\u001b[39m \u001b[43mfunc\u001b[49m\u001b[43m(\u001b[49m\u001b[43mtrial\u001b[49m\u001b[43m)\u001b[49m\n\u001b[1;32m    198\u001b[0m     \u001b[38;5;28;01mexcept\u001b[39;00m exceptions\u001b[38;5;241m.\u001b[39mTrialPruned \u001b[38;5;28;01mas\u001b[39;00m e:\n\u001b[1;32m    199\u001b[0m         \u001b[38;5;66;03m# TODO(mamu): Handle multi-objective cases.\u001b[39;00m\n\u001b[1;32m    200\u001b[0m         state \u001b[38;5;241m=\u001b[39m TrialState\u001b[38;5;241m.\u001b[39mPRUNED\n",
      "File \u001b[0;32m~/Desktop/kruxgitrepo/ragbuilder/src/ragbuilder/data_ingest/optimization.py:114\u001b[0m, in \u001b[0;36mDataIngestOptimizer.optimize.<locals>.objective\u001b[0;34m(trial)\u001b[0m\n\u001b[1;32m    111\u001b[0m         \u001b[38;5;28;01mreturn\u001b[39;00m t\u001b[38;5;241m.\u001b[39mvalue\n\u001b[1;32m    113\u001b[0m \u001b[38;5;28mself\u001b[39m\u001b[38;5;241m.\u001b[39mlogger\u001b[38;5;241m.\u001b[39mdebug(\u001b[38;5;124mf\u001b[39m\u001b[38;5;124m\"\u001b[39m\u001b[38;5;124mRunning pipeline with config: \u001b[39m\u001b[38;5;132;01m{\u001b[39;00mconfig\u001b[38;5;132;01m}\u001b[39;00m\u001b[38;5;124m\"\u001b[39m)\n\u001b[0;32m--> 114\u001b[0m pipeline \u001b[38;5;241m=\u001b[39m \u001b[43mDataIngestPipeline\u001b[49m\u001b[43m(\u001b[49m\u001b[43mconfig\u001b[49m\u001b[43m)\u001b[49m\n\u001b[1;32m    115\u001b[0m pipeline\u001b[38;5;241m.\u001b[39mrun()\n\u001b[1;32m    117\u001b[0m avg_score, question_details \u001b[38;5;241m=\u001b[39m \u001b[38;5;28mself\u001b[39m\u001b[38;5;241m.\u001b[39mevaluator\u001b[38;5;241m.\u001b[39mevaluate(pipeline)\n",
      "File \u001b[0;32m~/Desktop/kruxgitrepo/ragbuilder/src/ragbuilder/data_ingest/pipeline.py:34\u001b[0m, in \u001b[0;36mDataIngestPipeline.__init__\u001b[0;34m(self, config, documents)\u001b[0m\n\u001b[1;32m     31\u001b[0m \u001b[38;5;28mself\u001b[39m\u001b[38;5;241m.\u001b[39mconfig_key \u001b[38;5;241m=\u001b[39m \u001b[38;5;28mself\u001b[39m\u001b[38;5;241m.\u001b[39m_get_config_key()\n\u001b[1;32m     33\u001b[0m \u001b[38;5;66;03m# Initialize components\u001b[39;00m\n\u001b[0;32m---> 34\u001b[0m \u001b[38;5;28mself\u001b[39m\u001b[38;5;241m.\u001b[39mchunker \u001b[38;5;241m=\u001b[39m \u001b[38;5;28;43mself\u001b[39;49m\u001b[38;5;241;43m.\u001b[39;49m\u001b[43m_create_chunker\u001b[49m\u001b[43m(\u001b[49m\u001b[43m)\u001b[49m\n\u001b[1;32m     35\u001b[0m \u001b[38;5;28mself\u001b[39m\u001b[38;5;241m.\u001b[39membedder \u001b[38;5;241m=\u001b[39m \u001b[38;5;28mself\u001b[39m\u001b[38;5;241m.\u001b[39m_create_embedder()\n\u001b[1;32m     36\u001b[0m \u001b[38;5;28mself\u001b[39m\u001b[38;5;241m.\u001b[39mindexer \u001b[38;5;241m=\u001b[39m \u001b[38;5;28;01mNone\u001b[39;00m\n",
      "File \u001b[0;32m~/Desktop/kruxgitrepo/ragbuilder/src/ragbuilder/data_ingest/pipeline.py:177\u001b[0m, in \u001b[0;36mDataIngestPipeline._create_chunker\u001b[0;34m(self)\u001b[0m\n\u001b[1;32m    174\u001b[0m \u001b[38;5;28;01mif\u001b[39;00m \u001b[38;5;129;01mnot\u001b[39;00m chunker_class:\n\u001b[1;32m    175\u001b[0m     \u001b[38;5;28;01mraise\u001b[39;00m \u001b[38;5;167;01mValueError\u001b[39;00m(\u001b[38;5;124mf\u001b[39m\u001b[38;5;124m\"\u001b[39m\u001b[38;5;124mUnsupported chunking strategy: \u001b[39m\u001b[38;5;132;01m{\u001b[39;00m\u001b[38;5;28mself\u001b[39m\u001b[38;5;241m.\u001b[39mconfig\u001b[38;5;241m.\u001b[39mchunking_strategy\u001b[38;5;241m.\u001b[39mtype\u001b[38;5;132;01m}\u001b[39;00m\u001b[38;5;124m\"\u001b[39m)\n\u001b[0;32m--> 177\u001b[0m \u001b[38;5;28;01mreturn\u001b[39;00m \u001b[43mchunker_class\u001b[49m\u001b[43m(\u001b[49m\n\u001b[1;32m    178\u001b[0m \u001b[43m    \u001b[49m\u001b[43mchunk_size\u001b[49m\u001b[38;5;241;43m=\u001b[39;49m\u001b[38;5;28;43mself\u001b[39;49m\u001b[38;5;241;43m.\u001b[39;49m\u001b[43mconfig\u001b[49m\u001b[38;5;241;43m.\u001b[39;49m\u001b[43mchunk_size\u001b[49m\u001b[43m,\u001b[49m\n\u001b[1;32m    179\u001b[0m \u001b[43m    \u001b[49m\u001b[43mchunk_overlap\u001b[49m\u001b[38;5;241;43m=\u001b[39;49m\u001b[38;5;28;43mself\u001b[39;49m\u001b[38;5;241;43m.\u001b[39;49m\u001b[43mconfig\u001b[49m\u001b[38;5;241;43m.\u001b[39;49m\u001b[43mchunk_overlap\u001b[49m\u001b[43m,\u001b[49m\n\u001b[1;32m    180\u001b[0m \u001b[43m    \u001b[49m\u001b[38;5;241;43m*\u001b[39;49m\u001b[38;5;241;43m*\u001b[39;49m\u001b[43m(\u001b[49m\u001b[38;5;28;43mself\u001b[39;49m\u001b[38;5;241;43m.\u001b[39;49m\u001b[43mconfig\u001b[49m\u001b[38;5;241;43m.\u001b[39;49m\u001b[43mchunking_strategy\u001b[49m\u001b[38;5;241;43m.\u001b[39;49m\u001b[43mchunker_kwargs\u001b[49m\u001b[43m \u001b[49m\u001b[38;5;129;43;01mor\u001b[39;49;00m\u001b[43m \u001b[49m\u001b[43m{\u001b[49m\u001b[43m}\u001b[49m\u001b[43m)\u001b[49m\n\u001b[1;32m    181\u001b[0m \u001b[43m\u001b[49m\u001b[43m)\u001b[49m\n",
      "\u001b[0;31mTypeError\u001b[0m: 'RecursiveCharacterTextSplitter' object is not callable"
     ]
    }
   ],
   "source": [
    "from ragbuilder.core.builder import RAGBuilder\n",
    "from ragbuilder.config.base import LogConfig\n",
    "\n",
    "# Method 1: Using with_source_data() factory method\n",
    "# builder = RAGBuilder.with_source_data(\n",
    "#     input_source=\"path/to/your/data.pdf\",\n",
    "#     test_dataset=\"path/to/your/test_data.csv\",\n",
    "#     log_config=LogConfig()  # Optional\n",
    "# )\n",
    "\n",
    "# Method 2: Using from_yaml() factory method\n",
    "builder = RAGBuilder.from_yaml(\"config.yaml\")\n",
    "\n",
    "# Run end-to-end optimization\n",
    "results = builder.optimize_data_ingest()\n",
    "# results = builder.optimize_retrieval()\n",
    "# results = builder.optimize_generation()\n",
    "\n",
    "# The results will contain optimization results for all three stages:\n",
    "# - data_ingest\n",
    "# - retrieval  \n",
    "# - generation\n",
    "\n",
    "# You can access individual results:\n",
    "data_ingest_results = results[\"data_ingest\"]\n",
    "retrieval_results = results[\"retrieval\"]\n",
    "generation_results = results[\"generation\"]\n",
    "\n",
    "# You can also run optimizations individually:\n",
    "# data_results = builder.optimize_data_ingest()\n",
    "# retrieval_results = builder.optimize_retrieval()\n",
    "# generation_results = builder.optimize_generation()"
   ]
  },
  {
   "cell_type": "code",
   "execution_count": 9,
   "metadata": {},
   "outputs": [
    {
     "ename": "ValidationError",
     "evalue": "1 validation error for DataIngestOptionsConfig\ntest_dataset\n  Input should be a valid string [type=string_type, input_value=None, input_type=NoneType]\n    For further information visit https://errors.pydantic.dev/2.8/v/string_type",
     "output_type": "error",
     "traceback": [
      "\u001b[0;31m---------------------------------------------------------------------------\u001b[0m",
      "\u001b[0;31mValidationError\u001b[0m                           Traceback (most recent call last)",
      "Cell \u001b[0;32mIn[9], line 3\u001b[0m\n\u001b[1;32m      1\u001b[0m \u001b[38;5;28;01mfrom\u001b[39;00m \u001b[38;5;21;01mragbuilder\u001b[39;00m\u001b[38;5;21;01m.\u001b[39;00m\u001b[38;5;21;01mcore\u001b[39;00m\u001b[38;5;21;01m.\u001b[39;00m\u001b[38;5;21;01mbuilder\u001b[39;00m \u001b[38;5;28;01mimport\u001b[39;00m RAGBuilder\n\u001b[1;32m      2\u001b[0m input_source\u001b[38;5;241m=\u001b[39m\u001b[38;5;124m\"\u001b[39m\u001b[38;5;124m/Users/ashwinaravind/Desktop/kruxgitrepo/ragbuilder/uber_101_ca.pdf\u001b[39m\u001b[38;5;124m\"\u001b[39m\n\u001b[0;32m----> 3\u001b[0m builder\u001b[38;5;241m=\u001b[39m\u001b[43mRAGBuilder\u001b[49m\u001b[38;5;241;43m.\u001b[39;49m\u001b[43mwith_source_data\u001b[49m\u001b[43m(\u001b[49m\u001b[43minput_source\u001b[49m\u001b[38;5;241;43m=\u001b[39;49m\u001b[43minput_source\u001b[49m\u001b[43m)\u001b[49m\n",
      "File \u001b[0;32m~/Desktop/kruxgitrepo/ragbuilder/src/ragbuilder/core/builder.py:49\u001b[0m, in \u001b[0;36mRAGBuilder.with_source_data\u001b[0;34m(cls, input_source, test_dataset, log_config)\u001b[0m\n\u001b[1;32m     43\u001b[0m \u001b[38;5;129m@classmethod\u001b[39m\n\u001b[1;32m     44\u001b[0m \u001b[38;5;28;01mdef\u001b[39;00m \u001b[38;5;21mwith_source_data\u001b[39m(\u001b[38;5;28mcls\u001b[39m, \n\u001b[1;32m     45\u001b[0m                      input_source: \u001b[38;5;28mstr\u001b[39m, \n\u001b[1;32m     46\u001b[0m                      test_dataset: \u001b[38;5;28mstr\u001b[39m \u001b[38;5;241m=\u001b[39m \u001b[38;5;28;01mNone\u001b[39;00m,\n\u001b[1;32m     47\u001b[0m                      log_config: Optional[LogConfig] \u001b[38;5;241m=\u001b[39m \u001b[38;5;28;01mNone\u001b[39;00m\n\u001b[1;32m     48\u001b[0m                      ) \u001b[38;5;241m-\u001b[39m\u001b[38;5;241m>\u001b[39m \u001b[38;5;124m'\u001b[39m\u001b[38;5;124mRAGBuilder\u001b[39m\u001b[38;5;124m'\u001b[39m:\n\u001b[0;32m---> 49\u001b[0m     config \u001b[38;5;241m=\u001b[39m \u001b[43mDataIngestOptionsConfig\u001b[49m\u001b[38;5;241;43m.\u001b[39;49m\u001b[43mwith_defaults\u001b[49m\u001b[43m(\u001b[49m\n\u001b[1;32m     50\u001b[0m \u001b[43m        \u001b[49m\u001b[43minput_source\u001b[49m\u001b[38;5;241;43m=\u001b[39;49m\u001b[43minput_source\u001b[49m\u001b[43m,\u001b[49m\n\u001b[1;32m     51\u001b[0m \u001b[43m        \u001b[49m\u001b[43mtest_dataset\u001b[49m\u001b[38;5;241;43m=\u001b[39;49m\u001b[43mtest_dataset\u001b[49m\n\u001b[1;32m     52\u001b[0m \u001b[43m    \u001b[49m\u001b[43m)\u001b[49m\n\u001b[1;32m     53\u001b[0m     \u001b[38;5;28;01mreturn\u001b[39;00m \u001b[38;5;28mcls\u001b[39m(data_ingest_config\u001b[38;5;241m=\u001b[39mconfig, log_config\u001b[38;5;241m=\u001b[39mlog_config)\n",
      "File \u001b[0;32m~/Desktop/kruxgitrepo/ragbuilder/src/ragbuilder/config/data_ingest.py:122\u001b[0m, in \u001b[0;36mDataIngestOptionsConfig.with_defaults\u001b[0;34m(cls, input_source, test_dataset)\u001b[0m\n\u001b[1;32m    111\u001b[0m \u001b[38;5;129m@classmethod\u001b[39m\n\u001b[1;32m    112\u001b[0m \u001b[38;5;28;01mdef\u001b[39;00m \u001b[38;5;21mwith_defaults\u001b[39m(\u001b[38;5;28mcls\u001b[39m, input_source: \u001b[38;5;28mstr\u001b[39m, test_dataset: Optional[\u001b[38;5;28mstr\u001b[39m] \u001b[38;5;241m=\u001b[39m \u001b[38;5;28;01mNone\u001b[39;00m) \u001b[38;5;241m-\u001b[39m\u001b[38;5;241m>\u001b[39m \u001b[38;5;124m'\u001b[39m\u001b[38;5;124mDataIngestOptionsConfig\u001b[39m\u001b[38;5;124m'\u001b[39m:\n\u001b[1;32m    113\u001b[0m \u001b[38;5;250m    \u001b[39m\u001b[38;5;124;03m\"\"\"Create a DataIngestOptionsConfig with default values\u001b[39;00m\n\u001b[1;32m    114\u001b[0m \n\u001b[1;32m    115\u001b[0m \u001b[38;5;124;03m    Args:\u001b[39;00m\n\u001b[0;32m   (...)\u001b[0m\n\u001b[1;32m    120\u001b[0m \u001b[38;5;124;03m        DataIngestOptionsConfig with default values optimized for quick start\u001b[39;00m\n\u001b[1;32m    121\u001b[0m \u001b[38;5;124;03m    \"\"\"\u001b[39;00m\n\u001b[0;32m--> 122\u001b[0m     \u001b[38;5;28;01mreturn\u001b[39;00m \u001b[38;5;28;43mcls\u001b[39;49m\u001b[43m(\u001b[49m\n\u001b[1;32m    123\u001b[0m \u001b[43m        \u001b[49m\u001b[43minput_source\u001b[49m\u001b[38;5;241;43m=\u001b[39;49m\u001b[43minput_source\u001b[49m\u001b[43m,\u001b[49m\n\u001b[1;32m    124\u001b[0m \u001b[43m        \u001b[49m\u001b[43mtest_dataset\u001b[49m\u001b[38;5;241;43m=\u001b[39;49m\u001b[43mtest_dataset\u001b[49m\u001b[43m,\u001b[49m\n\u001b[1;32m    125\u001b[0m \u001b[43m        \u001b[49m\u001b[43mdocument_loaders\u001b[49m\u001b[38;5;241;43m=\u001b[39;49m\u001b[43m[\u001b[49m\u001b[43mLoaderConfig\u001b[49m\u001b[43m(\u001b[49m\u001b[38;5;28;43mtype\u001b[39;49m\u001b[38;5;241;43m=\u001b[39;49m\u001b[43mParserType\u001b[49m\u001b[38;5;241;43m.\u001b[39;49m\u001b[43mUNSTRUCTURED\u001b[49m\u001b[43m)\u001b[49m\u001b[43m]\u001b[49m\u001b[43m,\u001b[49m\n\u001b[1;32m    126\u001b[0m \u001b[43m        \u001b[49m\u001b[43mchunking_strategies\u001b[49m\u001b[38;5;241;43m=\u001b[39;49m\u001b[43m[\u001b[49m\u001b[43mChunkingStrategyConfig\u001b[49m\u001b[43m(\u001b[49m\u001b[38;5;28;43mtype\u001b[39;49m\u001b[38;5;241;43m=\u001b[39;49m\u001b[43mChunkingStrategy\u001b[49m\u001b[38;5;241;43m.\u001b[39;49m\u001b[43mRECURSIVE\u001b[49m\u001b[43m)\u001b[49m\u001b[43m]\u001b[49m\u001b[43m,\u001b[49m\n\u001b[1;32m    127\u001b[0m \u001b[43m        \u001b[49m\u001b[43mchunk_size\u001b[49m\u001b[38;5;241;43m=\u001b[39;49m\u001b[43mChunkSizeConfig\u001b[49m\u001b[43m(\u001b[49m\n\u001b[1;32m    128\u001b[0m \u001b[43m            \u001b[49m\u001b[38;5;28;43mmin\u001b[39;49m\u001b[38;5;241;43m=\u001b[39;49m\u001b[38;5;241;43m500\u001b[39;49m\u001b[43m,\u001b[49m\n\u001b[1;32m    129\u001b[0m \u001b[43m            \u001b[49m\u001b[38;5;28;43mmax\u001b[39;49m\u001b[38;5;241;43m=\u001b[39;49m\u001b[38;5;241;43m3000\u001b[39;49m\u001b[43m,\u001b[49m\n\u001b[1;32m    130\u001b[0m \u001b[43m            \u001b[49m\u001b[43mstepsize\u001b[49m\u001b[38;5;241;43m=\u001b[39;49m\u001b[38;5;241;43m500\u001b[39;49m\n\u001b[1;32m    131\u001b[0m \u001b[43m        \u001b[49m\u001b[43m)\u001b[49m\u001b[43m,\u001b[49m\n\u001b[1;32m    132\u001b[0m \u001b[43m        \u001b[49m\u001b[43mchunk_overlap\u001b[49m\u001b[38;5;241;43m=\u001b[39;49m\u001b[43m[\u001b[49m\u001b[38;5;241;43m100\u001b[39;49m\u001b[43m]\u001b[49m\u001b[43m,\u001b[49m\n\u001b[1;32m    133\u001b[0m \u001b[43m        \u001b[49m\u001b[43membedding_models\u001b[49m\u001b[38;5;241;43m=\u001b[39;49m\u001b[43m[\u001b[49m\n\u001b[1;32m    134\u001b[0m \u001b[43m            \u001b[49m\u001b[43mEmbeddingConfig\u001b[49m\u001b[43m(\u001b[49m\n\u001b[1;32m    135\u001b[0m \u001b[43m                \u001b[49m\u001b[38;5;28;43mtype\u001b[39;49m\u001b[38;5;241;43m=\u001b[39;49m\u001b[43mEmbeddingModel\u001b[49m\u001b[38;5;241;43m.\u001b[39;49m\u001b[43mHUGGINGFACE\u001b[49m\u001b[43m,\u001b[49m\n\u001b[1;32m    136\u001b[0m \u001b[43m                \u001b[49m\u001b[43mmodel_kwargs\u001b[49m\u001b[38;5;241;43m=\u001b[39;49m\u001b[43m{\u001b[49m\u001b[38;5;124;43m\"\u001b[39;49m\u001b[38;5;124;43mmodel_name\u001b[39;49m\u001b[38;5;124;43m\"\u001b[39;49m\u001b[43m:\u001b[49m\u001b[43m \u001b[49m\u001b[38;5;124;43m\"\u001b[39;49m\u001b[38;5;124;43mmixedbread-ai/mxbai-embed-large-v1\u001b[39;49m\u001b[38;5;124;43m\"\u001b[39;49m\u001b[43m}\u001b[49m\n\u001b[1;32m    137\u001b[0m \u001b[43m            \u001b[49m\u001b[43m)\u001b[49m\n\u001b[1;32m    138\u001b[0m \u001b[43m        \u001b[49m\u001b[43m]\u001b[49m\u001b[43m,\u001b[49m\n\u001b[1;32m    139\u001b[0m \u001b[43m        \u001b[49m\u001b[43mvector_databases\u001b[49m\u001b[38;5;241;43m=\u001b[39;49m\u001b[43m[\u001b[49m\u001b[43mVectorDBConfig\u001b[49m\u001b[43m(\u001b[49m\u001b[38;5;28;43mtype\u001b[39;49m\u001b[38;5;241;43m=\u001b[39;49m\u001b[43mVectorDatabase\u001b[49m\u001b[38;5;241;43m.\u001b[39;49m\u001b[43mCHROMA\u001b[49m\u001b[43m,\u001b[49m\u001b[43m \u001b[49m\u001b[43mvectordb_kwargs\u001b[49m\u001b[38;5;241;43m=\u001b[39;49m\u001b[43m{\u001b[49m\u001b[38;5;124;43m'\u001b[39;49m\u001b[38;5;124;43mcollection_metadata\u001b[39;49m\u001b[38;5;124;43m'\u001b[39;49m\u001b[43m:\u001b[49m\u001b[43m \u001b[49m\u001b[43m{\u001b[49m\u001b[38;5;124;43m'\u001b[39;49m\u001b[38;5;124;43mhnsw:space\u001b[39;49m\u001b[38;5;124;43m'\u001b[39;49m\u001b[43m:\u001b[49m\u001b[43m \u001b[49m\u001b[38;5;124;43m'\u001b[39;49m\u001b[38;5;124;43mcosine\u001b[39;49m\u001b[38;5;124;43m'\u001b[39;49m\u001b[43m}\u001b[49m\u001b[43m}\u001b[49m\u001b[43m)\u001b[49m\u001b[43m]\u001b[49m\u001b[43m,\u001b[49m\n\u001b[1;32m    140\u001b[0m \u001b[43m        \u001b[49m\u001b[43moptimization\u001b[49m\u001b[38;5;241;43m=\u001b[39;49m\u001b[43mOptimizationConfig\u001b[49m\u001b[43m(\u001b[49m\n\u001b[1;32m    141\u001b[0m \u001b[43m            \u001b[49m\u001b[43mn_trials\u001b[49m\u001b[38;5;241;43m=\u001b[39;49m\u001b[38;5;241;43m10\u001b[39;49m\u001b[43m,\u001b[49m\n\u001b[1;32m    142\u001b[0m \u001b[43m            \u001b[49m\u001b[43mn_jobs\u001b[49m\u001b[38;5;241;43m=\u001b[39;49m\u001b[38;5;241;43m1\u001b[39;49m\u001b[43m,\u001b[49m\n\u001b[1;32m    143\u001b[0m \u001b[43m            \u001b[49m\u001b[43moptimization_direction\u001b[49m\u001b[38;5;241;43m=\u001b[39;49m\u001b[38;5;124;43m\"\u001b[39;49m\u001b[38;5;124;43mmaximize\u001b[39;49m\u001b[38;5;124;43m\"\u001b[39;49m\n\u001b[1;32m    144\u001b[0m \u001b[43m        \u001b[49m\u001b[43m)\u001b[49m\n\u001b[1;32m    145\u001b[0m \u001b[43m    \u001b[49m\u001b[43m)\u001b[49m\n",
      "File \u001b[0;32m~/.pyenv/versions/3.12.5/lib/python3.12/site-packages/pydantic/main.py:192\u001b[0m, in \u001b[0;36mBaseModel.__init__\u001b[0;34m(self, **data)\u001b[0m\n\u001b[1;32m    190\u001b[0m \u001b[38;5;66;03m# `__tracebackhide__` tells pytest and some other tools to omit this function from tracebacks\u001b[39;00m\n\u001b[1;32m    191\u001b[0m __tracebackhide__ \u001b[38;5;241m=\u001b[39m \u001b[38;5;28;01mTrue\u001b[39;00m\n\u001b[0;32m--> 192\u001b[0m \u001b[38;5;28;43mself\u001b[39;49m\u001b[38;5;241;43m.\u001b[39;49m\u001b[43m__pydantic_validator__\u001b[49m\u001b[38;5;241;43m.\u001b[39;49m\u001b[43mvalidate_python\u001b[49m\u001b[43m(\u001b[49m\u001b[43mdata\u001b[49m\u001b[43m,\u001b[49m\u001b[43m \u001b[49m\u001b[43mself_instance\u001b[49m\u001b[38;5;241;43m=\u001b[39;49m\u001b[38;5;28;43mself\u001b[39;49m\u001b[43m)\u001b[49m\n",
      "\u001b[0;31mValidationError\u001b[0m: 1 validation error for DataIngestOptionsConfig\ntest_dataset\n  Input should be a valid string [type=string_type, input_value=None, input_type=NoneType]\n    For further information visit https://errors.pydantic.dev/2.8/v/string_type"
     ]
    }
   ],
   "source": [
    "\n",
    "from ragbuilder.core.builder import RAGBuilder\n",
    "input_source=\"/Users/ashwinaravind/Desktop/kruxgitrepo/ragbuilder/uber_101_ca.pdf\"\n",
    "builder=RAGBuilder.with_source_data(input_source=input_source)"
   ]
  },
  {
   "cell_type": "code",
   "execution_count": 7,
   "metadata": {},
   "outputs": [
    {
     "data": {
      "text/html": [
       "<pre style=\"white-space:pre;overflow-x:auto;line-height:normal;font-family:Menlo,'DejaVu Sans Mono',consolas,'Courier New',monospace\"><span style=\"color: #7fbfbf; text-decoration-color: #7fbfbf\">[08:32:21] </span><span style=\"color: #000080; text-decoration-color: #000080\">INFO    </span> Starting data ingestion optimization                                              <a href=\"file:///Users/ashwinaravind/Desktop/kruxgitrepo/ragbuilder/src/ragbuilder/core/builder.py\" target=\"_blank\"><span style=\"color: #7f7f7f; text-decoration-color: #7f7f7f\">builder.py</span></a><span style=\"color: #7f7f7f; text-decoration-color: #7f7f7f\">:</span><a href=\"file:///Users/ashwinaravind/Desktop/kruxgitrepo/ragbuilder/src/ragbuilder/core/builder.py#84\" target=\"_blank\"><span style=\"color: #7f7f7f; text-decoration-color: #7f7f7f\">84</span></a>\n",
       "</pre>\n"
      ],
      "text/plain": [
       "\u001b[2;36m[08:32:21]\u001b[0m\u001b[2;36m \u001b[0m\u001b[34mINFO    \u001b[0m Starting data ingestion optimization                                              \u001b]8;id=966470;file:///Users/ashwinaravind/Desktop/kruxgitrepo/ragbuilder/src/ragbuilder/core/builder.py\u001b\\\u001b[2mbuilder.py\u001b[0m\u001b]8;;\u001b\\\u001b[2m:\u001b[0m\u001b]8;id=759585;file:///Users/ashwinaravind/Desktop/kruxgitrepo/ragbuilder/src/ragbuilder/core/builder.py#84\u001b\\\u001b[2m84\u001b[0m\u001b]8;;\u001b\\\n"
      ]
     },
     "metadata": {},
     "output_type": "display_data"
    },
    {
     "data": {
      "text/html": [
       "<pre style=\"white-space:pre;overflow-x:auto;line-height:normal;font-family:Menlo,'DejaVu Sans Mono',consolas,'Courier New',monospace\"><span style=\"color: #7fbfbf; text-decoration-color: #7fbfbf\">           </span><span style=\"color: #000080; text-decoration-color: #000080\">INFO    </span> Loaded environment variables from .env                                              <a href=\"file:///Users/ashwinaravind/Desktop/kruxgitrepo/ragbuilder/src/ragbuilder/core/utils.py\" target=\"_blank\"><span style=\"color: #7f7f7f; text-decoration-color: #7f7f7f\">utils.py</span></a><span style=\"color: #7f7f7f; text-decoration-color: #7f7f7f\">:</span><a href=\"file:///Users/ashwinaravind/Desktop/kruxgitrepo/ragbuilder/src/ragbuilder/core/utils.py#18\" target=\"_blank\"><span style=\"color: #7f7f7f; text-decoration-color: #7f7f7f\">18</span></a>\n",
       "</pre>\n"
      ],
      "text/plain": [
       "\u001b[2;36m          \u001b[0m\u001b[2;36m \u001b[0m\u001b[34mINFO    \u001b[0m Loaded environment variables from .env                                              \u001b]8;id=915997;file:///Users/ashwinaravind/Desktop/kruxgitrepo/ragbuilder/src/ragbuilder/core/utils.py\u001b\\\u001b[2mutils.py\u001b[0m\u001b]8;;\u001b\\\u001b[2m:\u001b[0m\u001b]8;id=590047;file:///Users/ashwinaravind/Desktop/kruxgitrepo/ragbuilder/src/ragbuilder/core/utils.py#18\u001b\\\u001b[2m18\u001b[0m\u001b]8;;\u001b\\\n"
      ]
     },
     "metadata": {},
     "output_type": "display_data"
    },
    {
     "data": {
      "text/html": [
       "<pre style=\"white-space:pre;overflow-x:auto;line-height:normal;font-family:Menlo,'DejaVu Sans Mono',consolas,'Courier New',monospace\"><span style=\"color: #7fbfbf; text-decoration-color: #7fbfbf\">           </span><span style=\"color: #000080; text-decoration-color: #000080\">INFO    </span> Initialized DB logging for run_id: <span style=\"color: #008080; text-decoration-color: #008080; font-weight: bold\">1734058941</span>                                   <a href=\"file:///Users/ashwinaravind/Desktop/kruxgitrepo/ragbuilder/src/ragbuilder/core/callbacks.py\" target=\"_blank\"><span style=\"color: #7f7f7f; text-decoration-color: #7f7f7f\">callbacks.py</span></a><span style=\"color: #7f7f7f; text-decoration-color: #7f7f7f\">:</span><a href=\"file:///Users/ashwinaravind/Desktop/kruxgitrepo/ragbuilder/src/ragbuilder/core/callbacks.py#40\" target=\"_blank\"><span style=\"color: #7f7f7f; text-decoration-color: #7f7f7f\">40</span></a>\n",
       "</pre>\n"
      ],
      "text/plain": [
       "\u001b[2;36m          \u001b[0m\u001b[2;36m \u001b[0m\u001b[34mINFO    \u001b[0m Initialized DB logging for run_id: \u001b[1;36m1734058941\u001b[0m                                   \u001b]8;id=824385;file:///Users/ashwinaravind/Desktop/kruxgitrepo/ragbuilder/src/ragbuilder/core/callbacks.py\u001b\\\u001b[2mcallbacks.py\u001b[0m\u001b]8;;\u001b\\\u001b[2m:\u001b[0m\u001b]8;id=546527;file:///Users/ashwinaravind/Desktop/kruxgitrepo/ragbuilder/src/ragbuilder/core/callbacks.py#40\u001b\\\u001b[2m40\u001b[0m\u001b]8;;\u001b\\\n"
      ]
     },
     "metadata": {},
     "output_type": "display_data"
    },
    {
     "data": {
      "text/html": [
       "<pre style=\"white-space:pre;overflow-x:auto;line-height:normal;font-family:Menlo,'DejaVu Sans Mono',consolas,'Courier New',monospace\"><span style=\"color: #7fbfbf; text-decoration-color: #7fbfbf\">           </span><span style=\"color: #000080; text-decoration-color: #000080\">INFO    </span> Database logging enabled                                                     <a href=\"file:///Users/ashwinaravind/Desktop/kruxgitrepo/ragbuilder/src/ragbuilder/data_ingest/optimization.py\" target=\"_blank\"><span style=\"color: #7f7f7f; text-decoration-color: #7f7f7f\">optimization.py</span></a><span style=\"color: #7f7f7f; text-decoration-color: #7f7f7f\">:</span><a href=\"file:///Users/ashwinaravind/Desktop/kruxgitrepo/ragbuilder/src/ragbuilder/data_ingest/optimization.py#44\" target=\"_blank\"><span style=\"color: #7f7f7f; text-decoration-color: #7f7f7f\">44</span></a>\n",
       "</pre>\n"
      ],
      "text/plain": [
       "\u001b[2;36m          \u001b[0m\u001b[2;36m \u001b[0m\u001b[34mINFO    \u001b[0m Database logging enabled                                                     \u001b]8;id=74415;file:///Users/ashwinaravind/Desktop/kruxgitrepo/ragbuilder/src/ragbuilder/data_ingest/optimization.py\u001b\\\u001b[2moptimization.py\u001b[0m\u001b]8;;\u001b\\\u001b[2m:\u001b[0m\u001b]8;id=958503;file:///Users/ashwinaravind/Desktop/kruxgitrepo/ragbuilder/src/ragbuilder/data_ingest/optimization.py#44\u001b\\\u001b[2m44\u001b[0m\u001b]8;;\u001b\\\n"
      ]
     },
     "metadata": {},
     "output_type": "display_data"
    },
    {
     "data": {
      "text/html": [
       "<pre style=\"white-space:pre;overflow-x:auto;line-height:normal;font-family:Menlo,'DejaVu Sans Mono',consolas,'Courier New',monospace\"><span style=\"color: #00ff00; text-decoration-color: #00ff00\">────────────────────────────────────────── </span><span style=\"color: #005fff; text-decoration-color: #005fff; font-weight: bold\">Starting Optimization Process</span><span style=\"color: #00ff00; text-decoration-color: #00ff00\"> ──────────────────────────────────────────</span>\n",
       "</pre>\n"
      ],
      "text/plain": [
       "\u001b[92m────────────────────────────────────────── \u001b[0m\u001b[1;38;5;27mStarting Optimization Process\u001b[0m\u001b[92m ──────────────────────────────────────────\u001b[0m\n"
      ]
     },
     "metadata": {},
     "output_type": "display_data"
    },
    {
     "name": "stderr",
     "output_type": "stream",
     "text": [
      "[I 2024-12-13 08:32:21,236] A new study created in memory with name: data_ingest_1734012822626\n"
     ]
    },
    {
     "data": {
      "application/vnd.jupyter.widget-view+json": {
       "model_id": "ec1bb1a5978447aba903bf343263e1d7",
       "version_major": 2,
       "version_minor": 0
      },
      "text/plain": [
       "  0%|          | 0/10 [00:00<?, ?it/s]"
      ]
     },
     "metadata": {},
     "output_type": "display_data"
    },
    {
     "data": {
      "text/html": [
       "<pre style=\"white-space:pre;overflow-x:auto;line-height:normal;font-family:Menlo,'DejaVu Sans Mono',consolas,'Courier New',monospace\"><span style=\"color: #005fff; text-decoration-color: #005fff; font-weight: bold\">Trial </span><span style=\"color: #005fff; text-decoration-color: #005fff; font-weight: bold\">0</span><span style=\"color: #005fff; text-decoration-color: #005fff; font-weight: bold\">/</span><span style=\"color: #005fff; text-decoration-color: #005fff; font-weight: bold\">9</span>\n",
       "</pre>\n"
      ],
      "text/plain": [
       "\u001b[1;38;5;27mTrial \u001b[0m\u001b[1;38;5;27m0\u001b[0m\u001b[1;38;5;27m/\u001b[0m\u001b[1;38;5;27m9\u001b[0m\n"
      ]
     },
     "metadata": {},
     "output_type": "display_data"
    },
    {
     "data": {
      "text/html": [
       "<pre style=\"white-space:pre;overflow-x:auto;line-height:normal;font-family:Menlo,'DejaVu Sans Mono',consolas,'Courier New',monospace\"><span style=\"color: #7fbfbf; text-decoration-color: #7fbfbf\">           </span><span style=\"color: #000080; text-decoration-color: #000080\">INFO    </span> Trial parameters: <span style=\"font-weight: bold\">{</span><span style=\"color: #008000; text-decoration-color: #008000\">'input_source'</span>:                                           <a href=\"file:///Users/ashwinaravind/Desktop/kruxgitrepo/ragbuilder/src/ragbuilder/data_ingest/optimization.py\" target=\"_blank\"><span style=\"color: #7f7f7f; text-decoration-color: #7f7f7f\">optimization.py</span></a><span style=\"color: #7f7f7f; text-decoration-color: #7f7f7f\">:</span><a href=\"file:///Users/ashwinaravind/Desktop/kruxgitrepo/ragbuilder/src/ragbuilder/data_ingest/optimization.py#97\" target=\"_blank\"><span style=\"color: #7f7f7f; text-decoration-color: #7f7f7f\">97</span></a>\n",
       "<span style=\"color: #7fbfbf; text-decoration-color: #7fbfbf\">           </span>         <span style=\"color: #008000; text-decoration-color: #008000\">'https://raw.githubusercontent.com/ashwinaravind/ashwinaravind.github.io/ref</span> <span style=\"color: #7f7f7f; text-decoration-color: #7f7f7f\">                  </span>\n",
       "<span style=\"color: #7fbfbf; text-decoration-color: #7fbfbf\">           </span>         <span style=\"color: #008000; text-decoration-color: #008000\">s/heads/main/thevanishingtown'</span>, <span style=\"color: #008000; text-decoration-color: #008000\">'test_dataset'</span>:                              <span style=\"color: #7f7f7f; text-decoration-color: #7f7f7f\">                  </span>\n",
       "<span style=\"color: #7fbfbf; text-decoration-color: #7fbfbf\">           </span>         <span style=\"color: #008000; text-decoration-color: #008000\">'/Users/ashwinaravind/Desktop/kruxgitrepo/ragbuilder/gensimtest.csv'</span>,        <span style=\"color: #7f7f7f; text-decoration-color: #7f7f7f\">                  </span>\n",
       "<span style=\"color: #7fbfbf; text-decoration-color: #7fbfbf\">           </span>         <span style=\"color: #008000; text-decoration-color: #008000\">'document_loader'</span>: <span style=\"color: #800080; text-decoration-color: #800080; font-weight: bold\">LoaderConfig</span><span style=\"font-weight: bold\">(</span><span style=\"color: #808000; text-decoration-color: #808000\">type</span>=<span style=\"font-weight: bold\">&lt;</span><span style=\"color: #ff00ff; text-decoration-color: #ff00ff; font-weight: bold\">ParserType.UNSTRUCTURED:</span><span style=\"color: #000000; text-decoration-color: #000000\"> </span>              <span style=\"color: #7f7f7f; text-decoration-color: #7f7f7f\">                  </span>\n",
       "<span style=\"color: #7fbfbf; text-decoration-color: #7fbfbf\">           </span>         <span style=\"color: #008000; text-decoration-color: #008000\">'unstructured'</span><span style=\"color: #000000; text-decoration-color: #000000\">&gt;, </span><span style=\"color: #808000; text-decoration-color: #808000\">loader_kwargs</span><span style=\"color: #000000; text-decoration-color: #000000\">=</span><span style=\"color: #800080; text-decoration-color: #800080; font-style: italic\">None</span><span style=\"color: #000000; text-decoration-color: #000000\">, </span><span style=\"color: #808000; text-decoration-color: #808000\">custom_class</span><span style=\"color: #000000; text-decoration-color: #000000\">=</span><span style=\"color: #800080; text-decoration-color: #800080; font-style: italic\">None</span><span style=\"color: #000000; text-decoration-color: #000000; font-weight: bold\">)</span><span style=\"color: #000000; text-decoration-color: #000000\">, </span>                    <span style=\"color: #7f7f7f; text-decoration-color: #7f7f7f\">                  </span>\n",
       "<span style=\"color: #7fbfbf; text-decoration-color: #7fbfbf\">           </span>         <span style=\"color: #008000; text-decoration-color: #008000\">'chunking_strategy'</span><span style=\"color: #000000; text-decoration-color: #000000\">: </span>                                                        <span style=\"color: #7f7f7f; text-decoration-color: #7f7f7f\">                  </span>\n",
       "<span style=\"color: #7fbfbf; text-decoration-color: #7fbfbf\">           </span>         <span style=\"color: #800080; text-decoration-color: #800080; font-weight: bold\">ChunkingStrategyConfig</span><span style=\"color: #000000; text-decoration-color: #000000; font-weight: bold\">(</span><span style=\"color: #808000; text-decoration-color: #808000\">type</span><span style=\"color: #000000; text-decoration-color: #000000\">=&lt;ChunkingStrategy.RECURSIVE: </span>                    <span style=\"color: #7f7f7f; text-decoration-color: #7f7f7f\">                  </span>\n",
       "<span style=\"color: #7fbfbf; text-decoration-color: #7fbfbf\">           </span>         <span style=\"color: #008000; text-decoration-color: #008000\">'RecursiveCharacterTextSplitter'</span><span style=\"color: #000000; text-decoration-color: #000000\">&gt;, </span><span style=\"color: #808000; text-decoration-color: #808000\">chunker_kwargs</span><span style=\"color: #000000; text-decoration-color: #000000\">=</span><span style=\"color: #800080; text-decoration-color: #800080; font-style: italic\">None</span><span style=\"color: #000000; text-decoration-color: #000000\">, </span><span style=\"color: #808000; text-decoration-color: #808000\">custom_class</span><span style=\"color: #000000; text-decoration-color: #000000\">=</span><span style=\"color: #800080; text-decoration-color: #800080; font-style: italic\">None</span><span style=\"color: #000000; text-decoration-color: #000000; font-weight: bold\">)</span><span style=\"color: #000000; text-decoration-color: #000000\">, </span> <span style=\"color: #7f7f7f; text-decoration-color: #7f7f7f\">                  </span>\n",
       "<span style=\"color: #7fbfbf; text-decoration-color: #7fbfbf\">           </span>         <span style=\"color: #008000; text-decoration-color: #008000\">'chunk_overlap'</span><span style=\"color: #000000; text-decoration-color: #000000\">: </span><span style=\"color: #008080; text-decoration-color: #008080; font-weight: bold\">100</span><span style=\"color: #000000; text-decoration-color: #000000\">, </span><span style=\"color: #008000; text-decoration-color: #008000\">'chunk_size'</span><span style=\"color: #000000; text-decoration-color: #000000\">: </span><span style=\"color: #008080; text-decoration-color: #008080; font-weight: bold\">2500</span><span style=\"color: #000000; text-decoration-color: #000000\">, </span><span style=\"color: #008000; text-decoration-color: #008000\">'embedding_model'</span><span style=\"color: #000000; text-decoration-color: #000000\">: </span>                <span style=\"color: #7f7f7f; text-decoration-color: #7f7f7f\">                  </span>\n",
       "<span style=\"color: #7fbfbf; text-decoration-color: #7fbfbf\">           </span>         <span style=\"color: #800080; text-decoration-color: #800080; font-weight: bold\">EmbeddingConfig</span><span style=\"color: #000000; text-decoration-color: #000000; font-weight: bold\">(</span><span style=\"color: #808000; text-decoration-color: #808000\">type</span><span style=\"color: #000000; text-decoration-color: #000000\">=&lt;EmbeddingModel.HUGGINGFACE: </span><span style=\"color: #008000; text-decoration-color: #008000\">'huggingface'</span><span style=\"color: #000000; text-decoration-color: #000000\">&gt;, </span>           <span style=\"color: #7f7f7f; text-decoration-color: #7f7f7f\">                  </span>\n",
       "<span style=\"color: #7fbfbf; text-decoration-color: #7fbfbf\">           </span>         <span style=\"color: #808000; text-decoration-color: #808000\">model_kwargs</span><span style=\"color: #000000; text-decoration-color: #000000\">=</span><span style=\"color: #000000; text-decoration-color: #000000; font-weight: bold\">{</span><span style=\"color: #008000; text-decoration-color: #008000\">'model_name'</span><span style=\"color: #000000; text-decoration-color: #000000\">: </span><span style=\"color: #008000; text-decoration-color: #008000\">'mixedbread-ai/mxbai-embed-large-v1'</span><span style=\"color: #000000; text-decoration-color: #000000; font-weight: bold\">}</span><span style=\"color: #000000; text-decoration-color: #000000\">, </span>          <span style=\"color: #7f7f7f; text-decoration-color: #7f7f7f\">                  </span>\n",
       "<span style=\"color: #7fbfbf; text-decoration-color: #7fbfbf\">           </span>         <span style=\"color: #808000; text-decoration-color: #808000\">custom_class</span><span style=\"color: #000000; text-decoration-color: #000000\">=</span><span style=\"color: #800080; text-decoration-color: #800080; font-style: italic\">None</span><span style=\"color: #000000; text-decoration-color: #000000; font-weight: bold\">)</span><span style=\"color: #000000; text-decoration-color: #000000\">, </span><span style=\"color: #008000; text-decoration-color: #008000\">'vector_database'</span><span style=\"color: #000000; text-decoration-color: #000000\">: </span>                                      <span style=\"color: #7f7f7f; text-decoration-color: #7f7f7f\">                  </span>\n",
       "<span style=\"color: #7fbfbf; text-decoration-color: #7fbfbf\">           </span>         <span style=\"color: #800080; text-decoration-color: #800080; font-weight: bold\">VectorDBConfig</span><span style=\"color: #000000; text-decoration-color: #000000; font-weight: bold\">(</span><span style=\"color: #808000; text-decoration-color: #808000\">type</span><span style=\"color: #000000; text-decoration-color: #000000\">=&lt;VectorDatabase.CHROMA: </span><span style=\"color: #008000; text-decoration-color: #008000\">'chroma'</span><span style=\"font-weight: bold\">&gt;</span>,                       <span style=\"color: #7f7f7f; text-decoration-color: #7f7f7f\">                  </span>\n",
       "<span style=\"color: #7fbfbf; text-decoration-color: #7fbfbf\">           </span>         <span style=\"color: #808000; text-decoration-color: #808000\">vectordb_kwargs</span>=<span style=\"font-weight: bold\">{</span><span style=\"color: #008000; text-decoration-color: #008000\">'collection_metadata'</span>: <span style=\"font-weight: bold\">{</span><span style=\"color: #008000; text-decoration-color: #008000\">'hnsw:space'</span>: <span style=\"color: #008000; text-decoration-color: #008000\">'cosine'</span><span style=\"font-weight: bold\">}}</span>,           <span style=\"color: #7f7f7f; text-decoration-color: #7f7f7f\">                  </span>\n",
       "<span style=\"color: #7fbfbf; text-decoration-color: #7fbfbf\">           </span>         <span style=\"color: #808000; text-decoration-color: #808000\">custom_class</span>=<span style=\"color: #800080; text-decoration-color: #800080; font-style: italic\">None</span><span style=\"font-weight: bold\">)}</span>                                                          <span style=\"color: #7f7f7f; text-decoration-color: #7f7f7f\">                  </span>\n",
       "</pre>\n"
      ],
      "text/plain": [
       "\u001b[2;36m          \u001b[0m\u001b[2;36m \u001b[0m\u001b[34mINFO    \u001b[0m Trial parameters: \u001b[1m{\u001b[0m\u001b[32m'input_source'\u001b[0m:                                           \u001b]8;id=328164;file:///Users/ashwinaravind/Desktop/kruxgitrepo/ragbuilder/src/ragbuilder/data_ingest/optimization.py\u001b\\\u001b[2moptimization.py\u001b[0m\u001b]8;;\u001b\\\u001b[2m:\u001b[0m\u001b]8;id=16065;file:///Users/ashwinaravind/Desktop/kruxgitrepo/ragbuilder/src/ragbuilder/data_ingest/optimization.py#97\u001b\\\u001b[2m97\u001b[0m\u001b]8;;\u001b\\\n",
       "\u001b[2;36m           \u001b[0m         \u001b[32m'https://raw.githubusercontent.com/ashwinaravind/ashwinaravind.github.io/ref\u001b[0m \u001b[2m                  \u001b[0m\n",
       "\u001b[2;36m           \u001b[0m         \u001b[32ms/heads/main/thevanishingtown'\u001b[0m, \u001b[32m'test_dataset'\u001b[0m:                              \u001b[2m                  \u001b[0m\n",
       "\u001b[2;36m           \u001b[0m         \u001b[32m'/Users/ashwinaravind/Desktop/kruxgitrepo/ragbuilder/gensimtest.csv'\u001b[0m,        \u001b[2m                  \u001b[0m\n",
       "\u001b[2;36m           \u001b[0m         \u001b[32m'document_loader'\u001b[0m: \u001b[1;35mLoaderConfig\u001b[0m\u001b[1m(\u001b[0m\u001b[33mtype\u001b[0m=\u001b[1m<\u001b[0m\u001b[1;95mParserType.UNSTRUCTURED:\u001b[0m\u001b[39m \u001b[0m              \u001b[2m                  \u001b[0m\n",
       "\u001b[2;36m           \u001b[0m         \u001b[32m'unstructured'\u001b[0m\u001b[39m>, \u001b[0m\u001b[33mloader_kwargs\u001b[0m\u001b[39m=\u001b[0m\u001b[3;35mNone\u001b[0m\u001b[39m, \u001b[0m\u001b[33mcustom_class\u001b[0m\u001b[39m=\u001b[0m\u001b[3;35mNone\u001b[0m\u001b[1;39m)\u001b[0m\u001b[39m, \u001b[0m                    \u001b[2m                  \u001b[0m\n",
       "\u001b[2;36m           \u001b[0m         \u001b[32m'chunking_strategy'\u001b[0m\u001b[39m: \u001b[0m                                                        \u001b[2m                  \u001b[0m\n",
       "\u001b[2;36m           \u001b[0m         \u001b[1;35mChunkingStrategyConfig\u001b[0m\u001b[1;39m(\u001b[0m\u001b[33mtype\u001b[0m\u001b[39m=<ChunkingStrategy.RECURSIVE: \u001b[0m                    \u001b[2m                  \u001b[0m\n",
       "\u001b[2;36m           \u001b[0m         \u001b[32m'RecursiveCharacterTextSplitter'\u001b[0m\u001b[39m>, \u001b[0m\u001b[33mchunker_kwargs\u001b[0m\u001b[39m=\u001b[0m\u001b[3;35mNone\u001b[0m\u001b[39m, \u001b[0m\u001b[33mcustom_class\u001b[0m\u001b[39m=\u001b[0m\u001b[3;35mNone\u001b[0m\u001b[1;39m)\u001b[0m\u001b[39m, \u001b[0m \u001b[2m                  \u001b[0m\n",
       "\u001b[2;36m           \u001b[0m         \u001b[32m'chunk_overlap'\u001b[0m\u001b[39m: \u001b[0m\u001b[1;36m100\u001b[0m\u001b[39m, \u001b[0m\u001b[32m'chunk_size'\u001b[0m\u001b[39m: \u001b[0m\u001b[1;36m2500\u001b[0m\u001b[39m, \u001b[0m\u001b[32m'embedding_model'\u001b[0m\u001b[39m: \u001b[0m                \u001b[2m                  \u001b[0m\n",
       "\u001b[2;36m           \u001b[0m         \u001b[1;35mEmbeddingConfig\u001b[0m\u001b[1;39m(\u001b[0m\u001b[33mtype\u001b[0m\u001b[39m=<EmbeddingModel.HUGGINGFACE: \u001b[0m\u001b[32m'huggingface'\u001b[0m\u001b[39m>, \u001b[0m           \u001b[2m                  \u001b[0m\n",
       "\u001b[2;36m           \u001b[0m         \u001b[33mmodel_kwargs\u001b[0m\u001b[39m=\u001b[0m\u001b[1;39m{\u001b[0m\u001b[32m'model_name'\u001b[0m\u001b[39m: \u001b[0m\u001b[32m'mixedbread-ai/mxbai-embed-large-v1'\u001b[0m\u001b[1;39m}\u001b[0m\u001b[39m, \u001b[0m          \u001b[2m                  \u001b[0m\n",
       "\u001b[2;36m           \u001b[0m         \u001b[33mcustom_class\u001b[0m\u001b[39m=\u001b[0m\u001b[3;35mNone\u001b[0m\u001b[1;39m)\u001b[0m\u001b[39m, \u001b[0m\u001b[32m'vector_database'\u001b[0m\u001b[39m: \u001b[0m                                      \u001b[2m                  \u001b[0m\n",
       "\u001b[2;36m           \u001b[0m         \u001b[1;35mVectorDBConfig\u001b[0m\u001b[1;39m(\u001b[0m\u001b[33mtype\u001b[0m\u001b[39m=<VectorDatabase.CHROMA: \u001b[0m\u001b[32m'chroma'\u001b[0m\u001b[1m>\u001b[0m,                       \u001b[2m                  \u001b[0m\n",
       "\u001b[2;36m           \u001b[0m         \u001b[33mvectordb_kwargs\u001b[0m=\u001b[1m{\u001b[0m\u001b[32m'collection_metadata'\u001b[0m: \u001b[1m{\u001b[0m\u001b[32m'hnsw:space'\u001b[0m: \u001b[32m'cosine'\u001b[0m\u001b[1m}\u001b[0m\u001b[1m}\u001b[0m,           \u001b[2m                  \u001b[0m\n",
       "\u001b[2;36m           \u001b[0m         \u001b[33mcustom_class\u001b[0m=\u001b[3;35mNone\u001b[0m\u001b[1m)\u001b[0m\u001b[1m}\u001b[0m                                                          \u001b[2m                  \u001b[0m\n"
      ]
     },
     "metadata": {},
     "output_type": "display_data"
    },
    {
     "name": "stdout",
     "output_type": "stream",
     "text": [
      "[W 2024-12-13 08:32:21,248] Trial 0 failed with parameters: {'chunk_size': 2500} because of the following error: TypeError(\"'RecursiveCharacterTextSplitter' object is not callable\").\n",
      "Traceback (most recent call last):\n",
      "  File \"/Users/ashwinaravind/.pyenv/versions/3.12.5/lib/python3.12/site-packages/optuna/study/_optimize.py\", line 197, in _run_trial\n",
      "    value_or_values = func(trial)\n",
      "                      ^^^^^^^^^^^\n",
      "  File \"/Users/ashwinaravind/Desktop/kruxgitrepo/ragbuilder/src/ragbuilder/data_ingest/optimization.py\", line 114, in objective\n",
      "    pipeline = DataIngestPipeline(config)\n",
      "               ^^^^^^^^^^^^^^^^^^^^^^^^^^\n",
      "  File \"/Users/ashwinaravind/Desktop/kruxgitrepo/ragbuilder/src/ragbuilder/data_ingest/pipeline.py\", line 34, in __init__\n",
      "    self.chunker = self._create_chunker()\n",
      "                   ^^^^^^^^^^^^^^^^^^^^^^\n",
      "  File \"/Users/ashwinaravind/Desktop/kruxgitrepo/ragbuilder/src/ragbuilder/data_ingest/pipeline.py\", line 177, in _create_chunker\n",
      "    return chunker_class(\n",
      "           ^^^^^^^^^^^^^^\n",
      "TypeError: 'RecursiveCharacterTextSplitter' object is not callable\n",
      "[W 2024-12-13 08:32:21,249] Trial 0 failed with value None.\n"
     ]
    },
    {
     "ename": "TypeError",
     "evalue": "'RecursiveCharacterTextSplitter' object is not callable",
     "output_type": "error",
     "traceback": [
      "\u001b[0;31m---------------------------------------------------------------------------\u001b[0m",
      "\u001b[0;31mTypeError\u001b[0m                                 Traceback (most recent call last)",
      "Cell \u001b[0;32mIn[7], line 1\u001b[0m\n\u001b[0;32m----> 1\u001b[0m \u001b[43mbuilder\u001b[49m\u001b[38;5;241;43m.\u001b[39;49m\u001b[43moptimize\u001b[49m\u001b[43m(\u001b[49m\u001b[43m)\u001b[49m\n",
      "File \u001b[0;32m~/Desktop/kruxgitrepo/ragbuilder/src/ragbuilder/core/builder.py:178\u001b[0m, in \u001b[0;36mRAGBuilder.optimize\u001b[0;34m(self)\u001b[0m\n\u001b[1;32m    171\u001b[0m \u001b[38;5;28;01mdef\u001b[39;00m \u001b[38;5;21moptimize\u001b[39m(\u001b[38;5;28mself\u001b[39m) \u001b[38;5;241m-\u001b[39m\u001b[38;5;241m>\u001b[39m Dict[\u001b[38;5;28mstr\u001b[39m, Dict[\u001b[38;5;28mstr\u001b[39m, Any]]:\n\u001b[1;32m    172\u001b[0m \u001b[38;5;250m    \u001b[39m\u001b[38;5;124;03m\"\"\"\u001b[39;00m\n\u001b[1;32m    173\u001b[0m \u001b[38;5;124;03m    Run end-to-end optimization for both data ingestion and retrieval\u001b[39;00m\n\u001b[1;32m    174\u001b[0m \u001b[38;5;124;03m    \u001b[39;00m\n\u001b[1;32m    175\u001b[0m \u001b[38;5;124;03m    Returns:\u001b[39;00m\n\u001b[1;32m    176\u001b[0m \u001b[38;5;124;03m        Dict containing results for both data ingestion and retrieval optimizations\u001b[39;00m\n\u001b[1;32m    177\u001b[0m \u001b[38;5;124;03m    \"\"\"\u001b[39;00m\n\u001b[0;32m--> 178\u001b[0m     data_ingest_results \u001b[38;5;241m=\u001b[39m \u001b[38;5;28;43mself\u001b[39;49m\u001b[38;5;241;43m.\u001b[39;49m\u001b[43moptimize_data_ingest\u001b[49m\u001b[43m(\u001b[49m\u001b[43m)\u001b[49m\n\u001b[1;32m    179\u001b[0m     retrieval_results \u001b[38;5;241m=\u001b[39m \u001b[38;5;28mself\u001b[39m\u001b[38;5;241m.\u001b[39moptimize_retrieval()\n\u001b[1;32m    180\u001b[0m     generation_results \u001b[38;5;241m=\u001b[39m \u001b[38;5;28mself\u001b[39m\u001b[38;5;241m.\u001b[39moptimize_generation()\n",
      "File \u001b[0;32m~/Desktop/kruxgitrepo/ragbuilder/src/ragbuilder/core/builder.py:85\u001b[0m, in \u001b[0;36mRAGBuilder.optimize_data_ingest\u001b[0;34m(self, config)\u001b[0m\n\u001b[1;32m     82\u001b[0m     \u001b[38;5;28mself\u001b[39m\u001b[38;5;241m.\u001b[39m_data_ingest_config \u001b[38;5;241m=\u001b[39m config\n\u001b[1;32m     84\u001b[0m \u001b[38;5;28mself\u001b[39m\u001b[38;5;241m.\u001b[39mlogger\u001b[38;5;241m.\u001b[39minfo(\u001b[38;5;124m\"\u001b[39m\u001b[38;5;124mStarting data ingestion optimization\u001b[39m\u001b[38;5;124m\"\u001b[39m)\n\u001b[0;32m---> 85\u001b[0m results \u001b[38;5;241m=\u001b[39m \u001b[43mrun_data_ingest_optimization\u001b[49m\u001b[43m(\u001b[49m\n\u001b[1;32m     86\u001b[0m \u001b[43m    \u001b[49m\u001b[38;5;28;43mself\u001b[39;49m\u001b[38;5;241;43m.\u001b[39;49m\u001b[43m_data_ingest_config\u001b[49m\u001b[43m,\u001b[49m\u001b[43m \u001b[49m\n\u001b[1;32m     87\u001b[0m \u001b[43m    \u001b[49m\u001b[43mlog_config\u001b[49m\u001b[38;5;241;43m=\u001b[39;49m\u001b[38;5;28;43mself\u001b[39;49m\u001b[38;5;241;43m.\u001b[39;49m\u001b[43m_log_config\u001b[49m\n\u001b[1;32m     88\u001b[0m \u001b[43m\u001b[49m\u001b[43m)\u001b[49m\n\u001b[1;32m     90\u001b[0m \u001b[38;5;66;03m# Store results for later use\u001b[39;00m\n\u001b[1;32m     91\u001b[0m \u001b[38;5;28mself\u001b[39m\u001b[38;5;241m.\u001b[39m_optimization_results[\u001b[38;5;124m\"\u001b[39m\u001b[38;5;124mdata_ingest\u001b[39m\u001b[38;5;124m\"\u001b[39m] \u001b[38;5;241m=\u001b[39m results\n",
      "File \u001b[0;32m~/Desktop/kruxgitrepo/ragbuilder/src/ragbuilder/data_ingest/optimization.py:253\u001b[0m, in \u001b[0;36mrun_data_ingest_optimization\u001b[0;34m(options_config, log_config)\u001b[0m\n\u001b[1;32m    250\u001b[0m     evaluator \u001b[38;5;241m=\u001b[39m SimilarityEvaluator(options_config\u001b[38;5;241m.\u001b[39mtest_dataset, options_config\u001b[38;5;241m.\u001b[39mevaluation_config)\n\u001b[1;32m    252\u001b[0m optimizer \u001b[38;5;241m=\u001b[39m DataIngestOptimizer(options_config, evaluator, show_progress_bar\u001b[38;5;241m=\u001b[39mlog_config\u001b[38;5;241m.\u001b[39mshow_progress_bar)\n\u001b[0;32m--> 253\u001b[0m best_config, best_score \u001b[38;5;241m=\u001b[39m \u001b[43moptimizer\u001b[49m\u001b[38;5;241;43m.\u001b[39;49m\u001b[43moptimize\u001b[49m\u001b[43m(\u001b[49m\u001b[43m)\u001b[49m\n\u001b[1;32m    255\u001b[0m \u001b[38;5;66;03m# Create pipeline with best config to ensure vectorstore is cached\u001b[39;00m\n\u001b[1;32m    256\u001b[0m pipeline \u001b[38;5;241m=\u001b[39m DataIngestPipeline(best_config)\n",
      "File \u001b[0;32m~/Desktop/kruxgitrepo/ragbuilder/src/ragbuilder/data_ingest/optimization.py:155\u001b[0m, in \u001b[0;36mDataIngestOptimizer.optimize\u001b[0;34m(self)\u001b[0m\n\u001b[1;32m    144\u001b[0m     optuna\u001b[38;5;241m.\u001b[39mdelete_study(study_name\u001b[38;5;241m=\u001b[39m\u001b[38;5;28mself\u001b[39m\u001b[38;5;241m.\u001b[39moptions_config\u001b[38;5;241m.\u001b[39moptimization\u001b[38;5;241m.\u001b[39mstudy_name, storage\u001b[38;5;241m=\u001b[39m\u001b[38;5;28mself\u001b[39m\u001b[38;5;241m.\u001b[39moptions_config\u001b[38;5;241m.\u001b[39moptimization\u001b[38;5;241m.\u001b[39mstorage)\n\u001b[1;32m    146\u001b[0m \u001b[38;5;28mself\u001b[39m\u001b[38;5;241m.\u001b[39mstudy \u001b[38;5;241m=\u001b[39m optuna\u001b[38;5;241m.\u001b[39mcreate_study(\n\u001b[1;32m    147\u001b[0m     storage\u001b[38;5;241m=\u001b[39m\u001b[38;5;28mself\u001b[39m\u001b[38;5;241m.\u001b[39moptions_config\u001b[38;5;241m.\u001b[39moptimization\u001b[38;5;241m.\u001b[39mstorage,\n\u001b[1;32m    148\u001b[0m     study_name\u001b[38;5;241m=\u001b[39m\u001b[38;5;28mself\u001b[39m\u001b[38;5;241m.\u001b[39moptions_config\u001b[38;5;241m.\u001b[39moptimization\u001b[38;5;241m.\u001b[39mstudy_name,\n\u001b[0;32m   (...)\u001b[0m\n\u001b[1;32m    152\u001b[0m     pruner\u001b[38;5;241m=\u001b[39moptuna\u001b[38;5;241m.\u001b[39mpruners\u001b[38;5;241m.\u001b[39mMedianPruner()\n\u001b[1;32m    153\u001b[0m )\n\u001b[0;32m--> 155\u001b[0m \u001b[38;5;28;43mself\u001b[39;49m\u001b[38;5;241;43m.\u001b[39;49m\u001b[43mstudy\u001b[49m\u001b[38;5;241;43m.\u001b[39;49m\u001b[43moptimize\u001b[49m\u001b[43m(\u001b[49m\n\u001b[1;32m    156\u001b[0m \u001b[43m    \u001b[49m\u001b[43mobjective\u001b[49m\u001b[43m,\u001b[49m\u001b[43m \u001b[49m\n\u001b[1;32m    157\u001b[0m \u001b[43m    \u001b[49m\u001b[43mn_trials\u001b[49m\u001b[38;5;241;43m=\u001b[39;49m\u001b[38;5;28;43mself\u001b[39;49m\u001b[38;5;241;43m.\u001b[39;49m\u001b[43moptions_config\u001b[49m\u001b[38;5;241;43m.\u001b[39;49m\u001b[43moptimization\u001b[49m\u001b[38;5;241;43m.\u001b[39;49m\u001b[43mn_trials\u001b[49m\u001b[43m,\u001b[49m\n\u001b[1;32m    158\u001b[0m \u001b[43m    \u001b[49m\u001b[43mn_jobs\u001b[49m\u001b[38;5;241;43m=\u001b[39;49m\u001b[38;5;28;43mself\u001b[39;49m\u001b[38;5;241;43m.\u001b[39;49m\u001b[43moptions_config\u001b[49m\u001b[38;5;241;43m.\u001b[39;49m\u001b[43moptimization\u001b[49m\u001b[38;5;241;43m.\u001b[39;49m\u001b[43mn_jobs\u001b[49m\u001b[43m,\u001b[49m\n\u001b[1;32m    159\u001b[0m \u001b[43m    \u001b[49m\u001b[43mtimeout\u001b[49m\u001b[38;5;241;43m=\u001b[39;49m\u001b[38;5;28;43mself\u001b[39;49m\u001b[38;5;241;43m.\u001b[39;49m\u001b[43moptions_config\u001b[49m\u001b[38;5;241;43m.\u001b[39;49m\u001b[43moptimization\u001b[49m\u001b[38;5;241;43m.\u001b[39;49m\u001b[43mtimeout\u001b[49m\u001b[43m,\u001b[49m\n\u001b[1;32m    160\u001b[0m \u001b[43m    \u001b[49m\u001b[43mshow_progress_bar\u001b[49m\u001b[38;5;241;43m=\u001b[39;49m\u001b[38;5;28;43mself\u001b[39;49m\u001b[38;5;241;43m.\u001b[39;49m\u001b[43mshow_progress_bar\u001b[49m\n\u001b[1;32m    161\u001b[0m \u001b[43m\u001b[49m\u001b[43m)\u001b[49m\n\u001b[1;32m    163\u001b[0m console\u001b[38;5;241m.\u001b[39mprint(\u001b[38;5;124mf\u001b[39m\u001b[38;5;124m\"\u001b[39m\u001b[38;5;124m[heading]Optimization Complete![/heading]\u001b[39m\u001b[38;5;124m\"\u001b[39m)\n\u001b[1;32m    164\u001b[0m console\u001b[38;5;241m.\u001b[39mprint(\u001b[38;5;124mf\u001b[39m\u001b[38;5;124m\"\u001b[39m\u001b[38;5;124m[success]Best Score:[/success] [value]\u001b[39m\u001b[38;5;132;01m{\u001b[39;00m\u001b[38;5;28mself\u001b[39m\u001b[38;5;241m.\u001b[39mstudy\u001b[38;5;241m.\u001b[39mbest_value\u001b[38;5;132;01m:\u001b[39;00m\u001b[38;5;124m.4f\u001b[39m\u001b[38;5;132;01m}\u001b[39;00m\u001b[38;5;124m[/value]\u001b[39m\u001b[38;5;124m\"\u001b[39m)\n",
      "File \u001b[0;32m~/.pyenv/versions/3.12.5/lib/python3.12/site-packages/optuna/study/study.py:475\u001b[0m, in \u001b[0;36mStudy.optimize\u001b[0;34m(self, func, n_trials, timeout, n_jobs, catch, callbacks, gc_after_trial, show_progress_bar)\u001b[0m\n\u001b[1;32m    373\u001b[0m \u001b[38;5;28;01mdef\u001b[39;00m \u001b[38;5;21moptimize\u001b[39m(\n\u001b[1;32m    374\u001b[0m     \u001b[38;5;28mself\u001b[39m,\n\u001b[1;32m    375\u001b[0m     func: ObjectiveFuncType,\n\u001b[0;32m   (...)\u001b[0m\n\u001b[1;32m    382\u001b[0m     show_progress_bar: \u001b[38;5;28mbool\u001b[39m \u001b[38;5;241m=\u001b[39m \u001b[38;5;28;01mFalse\u001b[39;00m,\n\u001b[1;32m    383\u001b[0m ) \u001b[38;5;241m-\u001b[39m\u001b[38;5;241m>\u001b[39m \u001b[38;5;28;01mNone\u001b[39;00m:\n\u001b[1;32m    384\u001b[0m \u001b[38;5;250m    \u001b[39m\u001b[38;5;124;03m\"\"\"Optimize an objective function.\u001b[39;00m\n\u001b[1;32m    385\u001b[0m \n\u001b[1;32m    386\u001b[0m \u001b[38;5;124;03m    Optimization is done by choosing a suitable set of hyperparameter values from a given\u001b[39;00m\n\u001b[0;32m   (...)\u001b[0m\n\u001b[1;32m    473\u001b[0m \u001b[38;5;124;03m            If nested invocation of this method occurs.\u001b[39;00m\n\u001b[1;32m    474\u001b[0m \u001b[38;5;124;03m    \"\"\"\u001b[39;00m\n\u001b[0;32m--> 475\u001b[0m     \u001b[43m_optimize\u001b[49m\u001b[43m(\u001b[49m\n\u001b[1;32m    476\u001b[0m \u001b[43m        \u001b[49m\u001b[43mstudy\u001b[49m\u001b[38;5;241;43m=\u001b[39;49m\u001b[38;5;28;43mself\u001b[39;49m\u001b[43m,\u001b[49m\n\u001b[1;32m    477\u001b[0m \u001b[43m        \u001b[49m\u001b[43mfunc\u001b[49m\u001b[38;5;241;43m=\u001b[39;49m\u001b[43mfunc\u001b[49m\u001b[43m,\u001b[49m\n\u001b[1;32m    478\u001b[0m \u001b[43m        \u001b[49m\u001b[43mn_trials\u001b[49m\u001b[38;5;241;43m=\u001b[39;49m\u001b[43mn_trials\u001b[49m\u001b[43m,\u001b[49m\n\u001b[1;32m    479\u001b[0m \u001b[43m        \u001b[49m\u001b[43mtimeout\u001b[49m\u001b[38;5;241;43m=\u001b[39;49m\u001b[43mtimeout\u001b[49m\u001b[43m,\u001b[49m\n\u001b[1;32m    480\u001b[0m \u001b[43m        \u001b[49m\u001b[43mn_jobs\u001b[49m\u001b[38;5;241;43m=\u001b[39;49m\u001b[43mn_jobs\u001b[49m\u001b[43m,\u001b[49m\n\u001b[1;32m    481\u001b[0m \u001b[43m        \u001b[49m\u001b[43mcatch\u001b[49m\u001b[38;5;241;43m=\u001b[39;49m\u001b[38;5;28;43mtuple\u001b[39;49m\u001b[43m(\u001b[49m\u001b[43mcatch\u001b[49m\u001b[43m)\u001b[49m\u001b[43m \u001b[49m\u001b[38;5;28;43;01mif\u001b[39;49;00m\u001b[43m \u001b[49m\u001b[38;5;28;43misinstance\u001b[39;49m\u001b[43m(\u001b[49m\u001b[43mcatch\u001b[49m\u001b[43m,\u001b[49m\u001b[43m \u001b[49m\u001b[43mIterable\u001b[49m\u001b[43m)\u001b[49m\u001b[43m \u001b[49m\u001b[38;5;28;43;01melse\u001b[39;49;00m\u001b[43m \u001b[49m\u001b[43m(\u001b[49m\u001b[43mcatch\u001b[49m\u001b[43m,\u001b[49m\u001b[43m)\u001b[49m\u001b[43m,\u001b[49m\n\u001b[1;32m    482\u001b[0m \u001b[43m        \u001b[49m\u001b[43mcallbacks\u001b[49m\u001b[38;5;241;43m=\u001b[39;49m\u001b[43mcallbacks\u001b[49m\u001b[43m,\u001b[49m\n\u001b[1;32m    483\u001b[0m \u001b[43m        \u001b[49m\u001b[43mgc_after_trial\u001b[49m\u001b[38;5;241;43m=\u001b[39;49m\u001b[43mgc_after_trial\u001b[49m\u001b[43m,\u001b[49m\n\u001b[1;32m    484\u001b[0m \u001b[43m        \u001b[49m\u001b[43mshow_progress_bar\u001b[49m\u001b[38;5;241;43m=\u001b[39;49m\u001b[43mshow_progress_bar\u001b[49m\u001b[43m,\u001b[49m\n\u001b[1;32m    485\u001b[0m \u001b[43m    \u001b[49m\u001b[43m)\u001b[49m\n",
      "File \u001b[0;32m~/.pyenv/versions/3.12.5/lib/python3.12/site-packages/optuna/study/_optimize.py:63\u001b[0m, in \u001b[0;36m_optimize\u001b[0;34m(study, func, n_trials, timeout, n_jobs, catch, callbacks, gc_after_trial, show_progress_bar)\u001b[0m\n\u001b[1;32m     61\u001b[0m \u001b[38;5;28;01mtry\u001b[39;00m:\n\u001b[1;32m     62\u001b[0m     \u001b[38;5;28;01mif\u001b[39;00m n_jobs \u001b[38;5;241m==\u001b[39m \u001b[38;5;241m1\u001b[39m:\n\u001b[0;32m---> 63\u001b[0m         \u001b[43m_optimize_sequential\u001b[49m\u001b[43m(\u001b[49m\n\u001b[1;32m     64\u001b[0m \u001b[43m            \u001b[49m\u001b[43mstudy\u001b[49m\u001b[43m,\u001b[49m\n\u001b[1;32m     65\u001b[0m \u001b[43m            \u001b[49m\u001b[43mfunc\u001b[49m\u001b[43m,\u001b[49m\n\u001b[1;32m     66\u001b[0m \u001b[43m            \u001b[49m\u001b[43mn_trials\u001b[49m\u001b[43m,\u001b[49m\n\u001b[1;32m     67\u001b[0m \u001b[43m            \u001b[49m\u001b[43mtimeout\u001b[49m\u001b[43m,\u001b[49m\n\u001b[1;32m     68\u001b[0m \u001b[43m            \u001b[49m\u001b[43mcatch\u001b[49m\u001b[43m,\u001b[49m\n\u001b[1;32m     69\u001b[0m \u001b[43m            \u001b[49m\u001b[43mcallbacks\u001b[49m\u001b[43m,\u001b[49m\n\u001b[1;32m     70\u001b[0m \u001b[43m            \u001b[49m\u001b[43mgc_after_trial\u001b[49m\u001b[43m,\u001b[49m\n\u001b[1;32m     71\u001b[0m \u001b[43m            \u001b[49m\u001b[43mreseed_sampler_rng\u001b[49m\u001b[38;5;241;43m=\u001b[39;49m\u001b[38;5;28;43;01mFalse\u001b[39;49;00m\u001b[43m,\u001b[49m\n\u001b[1;32m     72\u001b[0m \u001b[43m            \u001b[49m\u001b[43mtime_start\u001b[49m\u001b[38;5;241;43m=\u001b[39;49m\u001b[38;5;28;43;01mNone\u001b[39;49;00m\u001b[43m,\u001b[49m\n\u001b[1;32m     73\u001b[0m \u001b[43m            \u001b[49m\u001b[43mprogress_bar\u001b[49m\u001b[38;5;241;43m=\u001b[39;49m\u001b[43mprogress_bar\u001b[49m\u001b[43m,\u001b[49m\n\u001b[1;32m     74\u001b[0m \u001b[43m        \u001b[49m\u001b[43m)\u001b[49m\n\u001b[1;32m     75\u001b[0m     \u001b[38;5;28;01melse\u001b[39;00m:\n\u001b[1;32m     76\u001b[0m         \u001b[38;5;28;01mif\u001b[39;00m n_jobs \u001b[38;5;241m==\u001b[39m \u001b[38;5;241m-\u001b[39m\u001b[38;5;241m1\u001b[39m:\n",
      "File \u001b[0;32m~/.pyenv/versions/3.12.5/lib/python3.12/site-packages/optuna/study/_optimize.py:160\u001b[0m, in \u001b[0;36m_optimize_sequential\u001b[0;34m(study, func, n_trials, timeout, catch, callbacks, gc_after_trial, reseed_sampler_rng, time_start, progress_bar)\u001b[0m\n\u001b[1;32m    157\u001b[0m         \u001b[38;5;28;01mbreak\u001b[39;00m\n\u001b[1;32m    159\u001b[0m \u001b[38;5;28;01mtry\u001b[39;00m:\n\u001b[0;32m--> 160\u001b[0m     frozen_trial \u001b[38;5;241m=\u001b[39m \u001b[43m_run_trial\u001b[49m\u001b[43m(\u001b[49m\u001b[43mstudy\u001b[49m\u001b[43m,\u001b[49m\u001b[43m \u001b[49m\u001b[43mfunc\u001b[49m\u001b[43m,\u001b[49m\u001b[43m \u001b[49m\u001b[43mcatch\u001b[49m\u001b[43m)\u001b[49m\n\u001b[1;32m    161\u001b[0m \u001b[38;5;28;01mfinally\u001b[39;00m:\n\u001b[1;32m    162\u001b[0m     \u001b[38;5;66;03m# The following line mitigates memory problems that can be occurred in some\u001b[39;00m\n\u001b[1;32m    163\u001b[0m     \u001b[38;5;66;03m# environments (e.g., services that use computing containers such as GitHub Actions).\u001b[39;00m\n\u001b[1;32m    164\u001b[0m     \u001b[38;5;66;03m# Please refer to the following PR for further details:\u001b[39;00m\n\u001b[1;32m    165\u001b[0m     \u001b[38;5;66;03m# https://github.com/optuna/optuna/pull/325.\u001b[39;00m\n\u001b[1;32m    166\u001b[0m     \u001b[38;5;28;01mif\u001b[39;00m gc_after_trial:\n",
      "File \u001b[0;32m~/.pyenv/versions/3.12.5/lib/python3.12/site-packages/optuna/study/_optimize.py:248\u001b[0m, in \u001b[0;36m_run_trial\u001b[0;34m(study, func, catch)\u001b[0m\n\u001b[1;32m    241\u001b[0m         \u001b[38;5;28;01massert\u001b[39;00m \u001b[38;5;28;01mFalse\u001b[39;00m, \u001b[38;5;124m\"\u001b[39m\u001b[38;5;124mShould not reach.\u001b[39m\u001b[38;5;124m\"\u001b[39m\n\u001b[1;32m    243\u001b[0m \u001b[38;5;28;01mif\u001b[39;00m (\n\u001b[1;32m    244\u001b[0m     frozen_trial\u001b[38;5;241m.\u001b[39mstate \u001b[38;5;241m==\u001b[39m TrialState\u001b[38;5;241m.\u001b[39mFAIL\n\u001b[1;32m    245\u001b[0m     \u001b[38;5;129;01mand\u001b[39;00m func_err \u001b[38;5;129;01mis\u001b[39;00m \u001b[38;5;129;01mnot\u001b[39;00m \u001b[38;5;28;01mNone\u001b[39;00m\n\u001b[1;32m    246\u001b[0m     \u001b[38;5;129;01mand\u001b[39;00m \u001b[38;5;129;01mnot\u001b[39;00m \u001b[38;5;28misinstance\u001b[39m(func_err, catch)\n\u001b[1;32m    247\u001b[0m ):\n\u001b[0;32m--> 248\u001b[0m     \u001b[38;5;28;01mraise\u001b[39;00m func_err\n\u001b[1;32m    249\u001b[0m \u001b[38;5;28;01mreturn\u001b[39;00m frozen_trial\n",
      "File \u001b[0;32m~/.pyenv/versions/3.12.5/lib/python3.12/site-packages/optuna/study/_optimize.py:197\u001b[0m, in \u001b[0;36m_run_trial\u001b[0;34m(study, func, catch)\u001b[0m\n\u001b[1;32m    195\u001b[0m \u001b[38;5;28;01mwith\u001b[39;00m get_heartbeat_thread(trial\u001b[38;5;241m.\u001b[39m_trial_id, study\u001b[38;5;241m.\u001b[39m_storage):\n\u001b[1;32m    196\u001b[0m     \u001b[38;5;28;01mtry\u001b[39;00m:\n\u001b[0;32m--> 197\u001b[0m         value_or_values \u001b[38;5;241m=\u001b[39m \u001b[43mfunc\u001b[49m\u001b[43m(\u001b[49m\u001b[43mtrial\u001b[49m\u001b[43m)\u001b[49m\n\u001b[1;32m    198\u001b[0m     \u001b[38;5;28;01mexcept\u001b[39;00m exceptions\u001b[38;5;241m.\u001b[39mTrialPruned \u001b[38;5;28;01mas\u001b[39;00m e:\n\u001b[1;32m    199\u001b[0m         \u001b[38;5;66;03m# TODO(mamu): Handle multi-objective cases.\u001b[39;00m\n\u001b[1;32m    200\u001b[0m         state \u001b[38;5;241m=\u001b[39m TrialState\u001b[38;5;241m.\u001b[39mPRUNED\n",
      "File \u001b[0;32m~/Desktop/kruxgitrepo/ragbuilder/src/ragbuilder/data_ingest/optimization.py:114\u001b[0m, in \u001b[0;36mDataIngestOptimizer.optimize.<locals>.objective\u001b[0;34m(trial)\u001b[0m\n\u001b[1;32m    111\u001b[0m         \u001b[38;5;28;01mreturn\u001b[39;00m t\u001b[38;5;241m.\u001b[39mvalue\n\u001b[1;32m    113\u001b[0m \u001b[38;5;28mself\u001b[39m\u001b[38;5;241m.\u001b[39mlogger\u001b[38;5;241m.\u001b[39mdebug(\u001b[38;5;124mf\u001b[39m\u001b[38;5;124m\"\u001b[39m\u001b[38;5;124mRunning pipeline with config: \u001b[39m\u001b[38;5;132;01m{\u001b[39;00mconfig\u001b[38;5;132;01m}\u001b[39;00m\u001b[38;5;124m\"\u001b[39m)\n\u001b[0;32m--> 114\u001b[0m pipeline \u001b[38;5;241m=\u001b[39m \u001b[43mDataIngestPipeline\u001b[49m\u001b[43m(\u001b[49m\u001b[43mconfig\u001b[49m\u001b[43m)\u001b[49m\n\u001b[1;32m    115\u001b[0m pipeline\u001b[38;5;241m.\u001b[39mrun()\n\u001b[1;32m    117\u001b[0m avg_score, question_details \u001b[38;5;241m=\u001b[39m \u001b[38;5;28mself\u001b[39m\u001b[38;5;241m.\u001b[39mevaluator\u001b[38;5;241m.\u001b[39mevaluate(pipeline)\n",
      "File \u001b[0;32m~/Desktop/kruxgitrepo/ragbuilder/src/ragbuilder/data_ingest/pipeline.py:34\u001b[0m, in \u001b[0;36mDataIngestPipeline.__init__\u001b[0;34m(self, config, documents)\u001b[0m\n\u001b[1;32m     31\u001b[0m \u001b[38;5;28mself\u001b[39m\u001b[38;5;241m.\u001b[39mconfig_key \u001b[38;5;241m=\u001b[39m \u001b[38;5;28mself\u001b[39m\u001b[38;5;241m.\u001b[39m_get_config_key()\n\u001b[1;32m     33\u001b[0m \u001b[38;5;66;03m# Initialize components\u001b[39;00m\n\u001b[0;32m---> 34\u001b[0m \u001b[38;5;28mself\u001b[39m\u001b[38;5;241m.\u001b[39mchunker \u001b[38;5;241m=\u001b[39m \u001b[38;5;28;43mself\u001b[39;49m\u001b[38;5;241;43m.\u001b[39;49m\u001b[43m_create_chunker\u001b[49m\u001b[43m(\u001b[49m\u001b[43m)\u001b[49m\n\u001b[1;32m     35\u001b[0m \u001b[38;5;28mself\u001b[39m\u001b[38;5;241m.\u001b[39membedder \u001b[38;5;241m=\u001b[39m \u001b[38;5;28mself\u001b[39m\u001b[38;5;241m.\u001b[39m_create_embedder()\n\u001b[1;32m     36\u001b[0m \u001b[38;5;28mself\u001b[39m\u001b[38;5;241m.\u001b[39mindexer \u001b[38;5;241m=\u001b[39m \u001b[38;5;28;01mNone\u001b[39;00m\n",
      "File \u001b[0;32m~/Desktop/kruxgitrepo/ragbuilder/src/ragbuilder/data_ingest/pipeline.py:177\u001b[0m, in \u001b[0;36mDataIngestPipeline._create_chunker\u001b[0;34m(self)\u001b[0m\n\u001b[1;32m    174\u001b[0m \u001b[38;5;28;01mif\u001b[39;00m \u001b[38;5;129;01mnot\u001b[39;00m chunker_class:\n\u001b[1;32m    175\u001b[0m     \u001b[38;5;28;01mraise\u001b[39;00m \u001b[38;5;167;01mValueError\u001b[39;00m(\u001b[38;5;124mf\u001b[39m\u001b[38;5;124m\"\u001b[39m\u001b[38;5;124mUnsupported chunking strategy: \u001b[39m\u001b[38;5;132;01m{\u001b[39;00m\u001b[38;5;28mself\u001b[39m\u001b[38;5;241m.\u001b[39mconfig\u001b[38;5;241m.\u001b[39mchunking_strategy\u001b[38;5;241m.\u001b[39mtype\u001b[38;5;132;01m}\u001b[39;00m\u001b[38;5;124m\"\u001b[39m)\n\u001b[0;32m--> 177\u001b[0m \u001b[38;5;28;01mreturn\u001b[39;00m \u001b[43mchunker_class\u001b[49m\u001b[43m(\u001b[49m\n\u001b[1;32m    178\u001b[0m \u001b[43m    \u001b[49m\u001b[43mchunk_size\u001b[49m\u001b[38;5;241;43m=\u001b[39;49m\u001b[38;5;28;43mself\u001b[39;49m\u001b[38;5;241;43m.\u001b[39;49m\u001b[43mconfig\u001b[49m\u001b[38;5;241;43m.\u001b[39;49m\u001b[43mchunk_size\u001b[49m\u001b[43m,\u001b[49m\n\u001b[1;32m    179\u001b[0m \u001b[43m    \u001b[49m\u001b[43mchunk_overlap\u001b[49m\u001b[38;5;241;43m=\u001b[39;49m\u001b[38;5;28;43mself\u001b[39;49m\u001b[38;5;241;43m.\u001b[39;49m\u001b[43mconfig\u001b[49m\u001b[38;5;241;43m.\u001b[39;49m\u001b[43mchunk_overlap\u001b[49m\u001b[43m,\u001b[49m\n\u001b[1;32m    180\u001b[0m \u001b[43m    \u001b[49m\u001b[38;5;241;43m*\u001b[39;49m\u001b[38;5;241;43m*\u001b[39;49m\u001b[43m(\u001b[49m\u001b[38;5;28;43mself\u001b[39;49m\u001b[38;5;241;43m.\u001b[39;49m\u001b[43mconfig\u001b[49m\u001b[38;5;241;43m.\u001b[39;49m\u001b[43mchunking_strategy\u001b[49m\u001b[38;5;241;43m.\u001b[39;49m\u001b[43mchunker_kwargs\u001b[49m\u001b[43m \u001b[49m\u001b[38;5;129;43;01mor\u001b[39;49;00m\u001b[43m \u001b[49m\u001b[43m{\u001b[49m\u001b[43m}\u001b[49m\u001b[43m)\u001b[49m\n\u001b[1;32m    181\u001b[0m \u001b[43m\u001b[49m\u001b[43m)\u001b[49m\n",
      "\u001b[0;31mTypeError\u001b[0m: 'RecursiveCharacterTextSplitter' object is not callable"
     ]
    }
   ],
   "source": [
    "builder.optimize()"
   ]
  },
  {
   "cell_type": "code",
   "execution_count": 10,
   "metadata": {},
   "outputs": [
    {
     "ename": "ValidationError",
     "evalue": "1 validation error for DataIngestOptionsConfig\ntest_dataset\n  Field required [type=missing, input_value={'input_source': 'https:/...direction': 'maximize'}}, input_type=dict]\n    For further information visit https://errors.pydantic.dev/2.8/v/missing",
     "output_type": "error",
     "traceback": [
      "\u001b[0;31m---------------------------------------------------------------------------\u001b[0m",
      "\u001b[0;31mValidationError\u001b[0m                           Traceback (most recent call last)",
      "Cell \u001b[0;32mIn[10], line 3\u001b[0m\n\u001b[1;32m      1\u001b[0m yml_pth\u001b[38;5;241m=\u001b[39m\u001b[38;5;124m\"\u001b[39m\u001b[38;5;124m/Users/ashwinaravind/Desktop/kruxgitrepo/ragbuilder/demo.yaml\u001b[39m\u001b[38;5;124m\"\u001b[39m\n\u001b[1;32m      2\u001b[0m \u001b[38;5;28;01mfrom\u001b[39;00m \u001b[38;5;21;01mragbuilder\u001b[39;00m\u001b[38;5;21;01m.\u001b[39;00m\u001b[38;5;21;01mcore\u001b[39;00m\u001b[38;5;21;01m.\u001b[39;00m\u001b[38;5;21;01mbuilder\u001b[39;00m \u001b[38;5;28;01mimport\u001b[39;00m RAGBuilder\n\u001b[0;32m----> 3\u001b[0m builder\u001b[38;5;241m=\u001b[39m\u001b[43mRAGBuilder\u001b[49m\u001b[38;5;241;43m.\u001b[39;49m\u001b[43mfrom_yaml\u001b[49m\u001b[43m(\u001b[49m\u001b[43myml_pth\u001b[49m\u001b[43m)\u001b[49m\n",
      "File \u001b[0;32m~/Desktop/kruxgitrepo/ragbuilder/src/ragbuilder/core/builder.py:66\u001b[0m, in \u001b[0;36mRAGBuilder.from_yaml\u001b[0;34m(cls, file_path)\u001b[0m\n\u001b[1;32m     63\u001b[0m     \u001b[38;5;28;01mraise\u001b[39;00m \u001b[38;5;167;01mValueError\u001b[39;00m(\u001b[38;5;124m\"\u001b[39m\u001b[38;5;124mYAML must contain at least \u001b[39m\u001b[38;5;124m'\u001b[39m\u001b[38;5;124mdata_ingest\u001b[39m\u001b[38;5;124m'\u001b[39m\u001b[38;5;124m or \u001b[39m\u001b[38;5;124m'\u001b[39m\u001b[38;5;124mretriever\u001b[39m\u001b[38;5;124m'\u001b[39m\u001b[38;5;124m configuration\u001b[39m\u001b[38;5;124m\"\u001b[39m)\n\u001b[1;32m     65\u001b[0m \u001b[38;5;28;01mif\u001b[39;00m \u001b[38;5;124m'\u001b[39m\u001b[38;5;124mdata_ingest\u001b[39m\u001b[38;5;124m'\u001b[39m \u001b[38;5;129;01min\u001b[39;00m config_dict:\n\u001b[0;32m---> 66\u001b[0m     builder\u001b[38;5;241m.\u001b[39m_data_ingest_config \u001b[38;5;241m=\u001b[39m \u001b[43mDataIngestOptionsConfig\u001b[49m\u001b[43m(\u001b[49m\u001b[38;5;241;43m*\u001b[39;49m\u001b[38;5;241;43m*\u001b[39;49m\u001b[43mconfig_dict\u001b[49m\u001b[43m[\u001b[49m\u001b[38;5;124;43m'\u001b[39;49m\u001b[38;5;124;43mdata_ingest\u001b[39;49m\u001b[38;5;124;43m'\u001b[39;49m\u001b[43m]\u001b[49m\u001b[43m)\u001b[49m\n\u001b[1;32m     68\u001b[0m \u001b[38;5;66;03m# TODO: Handle vectorstore provided by user instead of using the one from data_ingest\u001b[39;00m\n\u001b[1;32m     69\u001b[0m \u001b[38;5;28;01mif\u001b[39;00m \u001b[38;5;124m'\u001b[39m\u001b[38;5;124mretriever\u001b[39m\u001b[38;5;124m'\u001b[39m \u001b[38;5;129;01min\u001b[39;00m config_dict:\n",
      "File \u001b[0;32m~/.pyenv/versions/3.12.5/lib/python3.12/site-packages/pydantic/main.py:192\u001b[0m, in \u001b[0;36mBaseModel.__init__\u001b[0;34m(self, **data)\u001b[0m\n\u001b[1;32m    190\u001b[0m \u001b[38;5;66;03m# `__tracebackhide__` tells pytest and some other tools to omit this function from tracebacks\u001b[39;00m\n\u001b[1;32m    191\u001b[0m __tracebackhide__ \u001b[38;5;241m=\u001b[39m \u001b[38;5;28;01mTrue\u001b[39;00m\n\u001b[0;32m--> 192\u001b[0m \u001b[38;5;28;43mself\u001b[39;49m\u001b[38;5;241;43m.\u001b[39;49m\u001b[43m__pydantic_validator__\u001b[49m\u001b[38;5;241;43m.\u001b[39;49m\u001b[43mvalidate_python\u001b[49m\u001b[43m(\u001b[49m\u001b[43mdata\u001b[49m\u001b[43m,\u001b[49m\u001b[43m \u001b[49m\u001b[43mself_instance\u001b[49m\u001b[38;5;241;43m=\u001b[39;49m\u001b[38;5;28;43mself\u001b[39;49m\u001b[43m)\u001b[49m\n",
      "\u001b[0;31mValidationError\u001b[0m: 1 validation error for DataIngestOptionsConfig\ntest_dataset\n  Field required [type=missing, input_value={'input_source': 'https:/...direction': 'maximize'}}, input_type=dict]\n    For further information visit https://errors.pydantic.dev/2.8/v/missing"
     ]
    }
   ],
   "source": [
    "yml_pth=\"/Users/ashwinaravind/Desktop/kruxgitrepo/ragbuilder/demo.yaml\"\n",
    "from ragbuilder.core.builder import RAGBuilder\n",
    "builder=RAGBuilder.from_yaml(yml_pth)"
   ]
  }
 ],
 "metadata": {
  "kernelspec": {
   "display_name": "Python 3",
   "language": "python",
   "name": "python3"
  },
  "language_info": {
   "codemirror_mode": {
    "name": "ipython",
    "version": 3
   },
   "file_extension": ".py",
   "mimetype": "text/x-python",
   "name": "python",
   "nbconvert_exporter": "python",
   "pygments_lexer": "ipython3",
   "version": "3.12.5"
  }
 },
 "nbformat": 4,
 "nbformat_minor": 2
}
