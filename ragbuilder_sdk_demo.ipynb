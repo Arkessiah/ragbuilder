{
 "cells": [
  {
   "cell_type": "markdown",
   "metadata": {},
   "source": [
    "## Data Ingest Optimization Demo - Simple"
   ]
  },
  {
   "cell_type": "code",
   "execution_count": null,
   "metadata": {},
   "outputs": [],
   "source": [
    "# First clone the RAGBuilder repo\n",
    "!git clone https://github.com/KruxAI/ragbuilder.git"
   ]
  },
  {
   "cell_type": "code",
   "execution_count": 1,
   "metadata": {},
   "outputs": [
    {
     "name": "stderr",
     "output_type": "stream",
     "text": [
      "USER_AGENT environment variable not set, consider setting it to identify your requests.\n"
     ]
    }
   ],
   "source": [
    "import ragbuilder.data_ingest.optimization as data_ingest"
   ]
  },
  {
   "cell_type": "code",
   "execution_count": 2,
   "metadata": {},
   "outputs": [],
   "source": [
    "demo_config = {\n",
    "    \"input_source\": \"lillog_agents.pdf\",\n",
    "    \"test_dataset\": \"rag_test_data_lilianweng_gpt-4o_1721032414.736622_SEMI.csv\",\n",
    "}"
   ]
  },
  {
   "cell_type": "code",
   "execution_count": 3,
   "metadata": {},
   "outputs": [
    {
     "data": {
      "text/html": [
       "<pre style=\"white-space:pre;overflow-x:auto;line-height:normal;font-family:Menlo,'DejaVu Sans Mono',consolas,'Courier New',monospace\"><span style=\"color: #7fbfbf; text-decoration-color: #7fbfbf\">[00:56:55] </span><span style=\"color: #000080; text-decoration-color: #000080\">INFO    </span> Initialized DB logging for run_id: <span style=\"color: #008080; text-decoration-color: #008080; font-weight: bold\">1731439615</span>                                   <a href=\"file:///Users/aravind/KruxAI/ragbuilder/src/ragbuilder/data_ingest/callbacks.py\" target=\"_blank\"><span style=\"color: #7f7f7f; text-decoration-color: #7f7f7f\">callbacks.py</span></a><span style=\"color: #7f7f7f; text-decoration-color: #7f7f7f\">:</span><a href=\"file:///Users/aravind/KruxAI/ragbuilder/src/ragbuilder/data_ingest/callbacks.py#36\" target=\"_blank\"><span style=\"color: #7f7f7f; text-decoration-color: #7f7f7f\">36</span></a>\n",
       "</pre>\n"
      ],
      "text/plain": [
       "\u001b[2;36m[00:56:55]\u001b[0m\u001b[2;36m \u001b[0m\u001b[34mINFO    \u001b[0m Initialized DB logging for run_id: \u001b[1;36m1731439615\u001b[0m                                   \u001b]8;id=339053;file:///Users/aravind/KruxAI/ragbuilder/src/ragbuilder/data_ingest/callbacks.py\u001b\\\u001b[2mcallbacks.py\u001b[0m\u001b]8;;\u001b\\\u001b[2m:\u001b[0m\u001b]8;id=333167;file:///Users/aravind/KruxAI/ragbuilder/src/ragbuilder/data_ingest/callbacks.py#36\u001b\\\u001b[2m36\u001b[0m\u001b]8;;\u001b\\\n"
      ]
     },
     "metadata": {},
     "output_type": "display_data"
    },
    {
     "data": {
      "text/html": [
       "<pre style=\"white-space:pre;overflow-x:auto;line-height:normal;font-family:Menlo,'DejaVu Sans Mono',consolas,'Courier New',monospace\"><span style=\"color: #7fbfbf; text-decoration-color: #7fbfbf\">           </span><span style=\"color: #000080; text-decoration-color: #000080\">INFO    </span> Database logging enabled                                                     <a href=\"file:///Users/aravind/KruxAI/ragbuilder/src/ragbuilder/data_ingest/optimization.py\" target=\"_blank\"><span style=\"color: #7f7f7f; text-decoration-color: #7f7f7f\">optimization.py</span></a><span style=\"color: #7f7f7f; text-decoration-color: #7f7f7f\">:</span><a href=\"file:///Users/aravind/KruxAI/ragbuilder/src/ragbuilder/data_ingest/optimization.py#36\" target=\"_blank\"><span style=\"color: #7f7f7f; text-decoration-color: #7f7f7f\">36</span></a>\n",
       "</pre>\n"
      ],
      "text/plain": [
       "\u001b[2;36m          \u001b[0m\u001b[2;36m \u001b[0m\u001b[34mINFO    \u001b[0m Database logging enabled                                                     \u001b]8;id=344139;file:///Users/aravind/KruxAI/ragbuilder/src/ragbuilder/data_ingest/optimization.py\u001b\\\u001b[2moptimization.py\u001b[0m\u001b]8;;\u001b\\\u001b[2m:\u001b[0m\u001b]8;id=974264;file:///Users/aravind/KruxAI/ragbuilder/src/ragbuilder/data_ingest/optimization.py#36\u001b\\\u001b[2m36\u001b[0m\u001b]8;;\u001b\\\n"
      ]
     },
     "metadata": {},
     "output_type": "display_data"
    },
    {
     "data": {
      "text/html": [
       "<pre style=\"white-space:pre;overflow-x:auto;line-height:normal;font-family:Menlo,'DejaVu Sans Mono',consolas,'Courier New',monospace\"><span style=\"color: #00ff00; text-decoration-color: #00ff00\">────────────────────────────────────────── </span><span style=\"color: #005fff; text-decoration-color: #005fff; font-weight: bold\">Starting Optimization Process</span><span style=\"color: #00ff00; text-decoration-color: #00ff00\"> ──────────────────────────────────────────</span>\n",
       "</pre>\n"
      ],
      "text/plain": [
       "\u001b[92m────────────────────────────────────────── \u001b[0m\u001b[1;38;5;27mStarting Optimization Process\u001b[0m\u001b[92m ──────────────────────────────────────────\u001b[0m\n"
      ]
     },
     "metadata": {},
     "output_type": "display_data"
    },
    {
     "name": "stderr",
     "output_type": "stream",
     "text": [
      "[I 2024-11-13 00:56:55,919] A new study created in memory with name: data_ingest_1731439614482\n"
     ]
    },
    {
     "data": {
      "application/vnd.jupyter.widget-view+json": {
       "model_id": "df398826333f4e019bd8c517fbb239a4",
       "version_major": 2,
       "version_minor": 0
      },
      "text/plain": [
       "  0%|          | 0/10 [00:00<?, ?it/s]"
      ]
     },
     "metadata": {},
     "output_type": "display_data"
    },
    {
     "data": {
      "text/html": [
       "<pre style=\"white-space:pre;overflow-x:auto;line-height:normal;font-family:Menlo,'DejaVu Sans Mono',consolas,'Courier New',monospace\"><span style=\"color: #005fff; text-decoration-color: #005fff; font-weight: bold\">Trial </span><span style=\"color: #005fff; text-decoration-color: #005fff; font-weight: bold\">0</span><span style=\"color: #005fff; text-decoration-color: #005fff; font-weight: bold\">/</span><span style=\"color: #005fff; text-decoration-color: #005fff; font-weight: bold\">9</span>\n",
       "</pre>\n"
      ],
      "text/plain": [
       "\u001b[1;38;5;27mTrial \u001b[0m\u001b[1;38;5;27m0\u001b[0m\u001b[1;38;5;27m/\u001b[0m\u001b[1;38;5;27m9\u001b[0m\n"
      ]
     },
     "metadata": {},
     "output_type": "display_data"
    },
    {
     "data": {
      "text/html": [
       "<pre style=\"white-space:pre;overflow-x:auto;line-height:normal;font-family:Menlo,'DejaVu Sans Mono',consolas,'Courier New',monospace\"><span style=\"color: #7fbfbf; text-decoration-color: #7fbfbf\">           </span><span style=\"color: #000080; text-decoration-color: #000080\">INFO    </span> Trial parameters: <span style=\"font-weight: bold\">{</span><span style=\"color: #008000; text-decoration-color: #008000\">'input_source'</span>: <span style=\"color: #008000; text-decoration-color: #008000\">'lillog_agents.pdf'</span>, <span style=\"color: #008000; text-decoration-color: #008000\">'test_dataset'</span>:     <a href=\"file:///Users/aravind/KruxAI/ragbuilder/src/ragbuilder/data_ingest/optimization.py\" target=\"_blank\"><span style=\"color: #7f7f7f; text-decoration-color: #7f7f7f\">optimization.py</span></a><span style=\"color: #7f7f7f; text-decoration-color: #7f7f7f\">:</span><a href=\"file:///Users/aravind/KruxAI/ragbuilder/src/ragbuilder/data_ingest/optimization.py#192\" target=\"_blank\"><span style=\"color: #7f7f7f; text-decoration-color: #7f7f7f\">192</span></a>\n",
       "<span style=\"color: #7fbfbf; text-decoration-color: #7fbfbf\">           </span>         <span style=\"color: #008000; text-decoration-color: #008000\">'rag_test_data_lilianweng_gpt-4o_1721032414.736622_SEMI.csv'</span>,               <span style=\"color: #7f7f7f; text-decoration-color: #7f7f7f\">                   </span>\n",
       "<span style=\"color: #7fbfbf; text-decoration-color: #7fbfbf\">           </span>         <span style=\"color: #008000; text-decoration-color: #008000\">'document_loader'</span>: <span style=\"color: #800080; text-decoration-color: #800080; font-weight: bold\">LoaderConfig</span><span style=\"font-weight: bold\">(</span><span style=\"color: #808000; text-decoration-color: #808000\">type</span>=<span style=\"font-weight: bold\">&lt;</span><span style=\"color: #ff00ff; text-decoration-color: #ff00ff; font-weight: bold\">ParserType.UNSTRUCTURED:</span><span style=\"color: #000000; text-decoration-color: #000000\"> </span>             <span style=\"color: #7f7f7f; text-decoration-color: #7f7f7f\">                   </span>\n",
       "<span style=\"color: #7fbfbf; text-decoration-color: #7fbfbf\">           </span>         <span style=\"color: #008000; text-decoration-color: #008000\">'unstructured'</span><span style=\"color: #000000; text-decoration-color: #000000\">&gt;, </span><span style=\"color: #808000; text-decoration-color: #808000\">loader_kwargs</span><span style=\"color: #000000; text-decoration-color: #000000\">=</span><span style=\"color: #800080; text-decoration-color: #800080; font-style: italic\">None</span><span style=\"color: #000000; text-decoration-color: #000000\">, </span><span style=\"color: #808000; text-decoration-color: #808000\">custom_class</span><span style=\"color: #000000; text-decoration-color: #000000\">=</span><span style=\"color: #800080; text-decoration-color: #800080; font-style: italic\">None</span><span style=\"color: #000000; text-decoration-color: #000000; font-weight: bold\">)</span><span style=\"color: #000000; text-decoration-color: #000000\">, </span>                   <span style=\"color: #7f7f7f; text-decoration-color: #7f7f7f\">                   </span>\n",
       "<span style=\"color: #7fbfbf; text-decoration-color: #7fbfbf\">           </span>         <span style=\"color: #008000; text-decoration-color: #008000\">'chunking_strategy'</span><span style=\"color: #000000; text-decoration-color: #000000\">: </span>                                                       <span style=\"color: #7f7f7f; text-decoration-color: #7f7f7f\">                   </span>\n",
       "<span style=\"color: #7fbfbf; text-decoration-color: #7fbfbf\">           </span>         <span style=\"color: #800080; text-decoration-color: #800080; font-weight: bold\">ChunkingStrategyConfig</span><span style=\"color: #000000; text-decoration-color: #000000; font-weight: bold\">(</span><span style=\"color: #808000; text-decoration-color: #808000\">type</span><span style=\"color: #000000; text-decoration-color: #000000\">=&lt;ChunkingStrategy.RECURSIVE: </span>                   <span style=\"color: #7f7f7f; text-decoration-color: #7f7f7f\">                   </span>\n",
       "<span style=\"color: #7fbfbf; text-decoration-color: #7fbfbf\">           </span>         <span style=\"color: #008000; text-decoration-color: #008000\">'RecursiveCharacterTextSplitter'</span><span style=\"color: #000000; text-decoration-color: #000000\">&gt;, </span><span style=\"color: #808000; text-decoration-color: #808000\">chunker_kwargs</span><span style=\"color: #000000; text-decoration-color: #000000\">=</span><span style=\"color: #800080; text-decoration-color: #800080; font-style: italic\">None</span><span style=\"color: #000000; text-decoration-color: #000000\">, </span><span style=\"color: #808000; text-decoration-color: #808000\">custom_class</span><span style=\"color: #000000; text-decoration-color: #000000\">=</span><span style=\"color: #800080; text-decoration-color: #800080; font-style: italic\">None</span><span style=\"color: #000000; text-decoration-color: #000000; font-weight: bold\">)</span><span style=\"color: #000000; text-decoration-color: #000000\">,</span> <span style=\"color: #7f7f7f; text-decoration-color: #7f7f7f\">                   </span>\n",
       "<span style=\"color: #7fbfbf; text-decoration-color: #7fbfbf\">           </span>         <span style=\"color: #008000; text-decoration-color: #008000\">'chunk_overlap'</span><span style=\"color: #000000; text-decoration-color: #000000\">: </span><span style=\"color: #008080; text-decoration-color: #008080; font-weight: bold\">100</span><span style=\"color: #000000; text-decoration-color: #000000\">, </span><span style=\"color: #008000; text-decoration-color: #008000\">'chunk_size'</span><span style=\"color: #000000; text-decoration-color: #000000\">: </span><span style=\"color: #008080; text-decoration-color: #008080; font-weight: bold\">2500</span><span style=\"color: #000000; text-decoration-color: #000000\">, </span><span style=\"color: #008000; text-decoration-color: #008000\">'embedding_model'</span><span style=\"color: #000000; text-decoration-color: #000000\">: </span>               <span style=\"color: #7f7f7f; text-decoration-color: #7f7f7f\">                   </span>\n",
       "<span style=\"color: #7fbfbf; text-decoration-color: #7fbfbf\">           </span>         <span style=\"color: #800080; text-decoration-color: #800080; font-weight: bold\">EmbeddingConfig</span><span style=\"color: #000000; text-decoration-color: #000000; font-weight: bold\">(</span><span style=\"color: #808000; text-decoration-color: #808000\">type</span><span style=\"color: #000000; text-decoration-color: #000000\">=&lt;EmbeddingModel.HUGGINGFACE: </span><span style=\"color: #008000; text-decoration-color: #008000\">'huggingface'</span><span style=\"color: #000000; text-decoration-color: #000000\">&gt;, </span>          <span style=\"color: #7f7f7f; text-decoration-color: #7f7f7f\">                   </span>\n",
       "<span style=\"color: #7fbfbf; text-decoration-color: #7fbfbf\">           </span>         <span style=\"color: #808000; text-decoration-color: #808000\">model_kwargs</span><span style=\"color: #000000; text-decoration-color: #000000\">=</span><span style=\"color: #000000; text-decoration-color: #000000; font-weight: bold\">{</span><span style=\"color: #008000; text-decoration-color: #008000\">'model_name'</span><span style=\"color: #000000; text-decoration-color: #000000\">: </span><span style=\"color: #008000; text-decoration-color: #008000\">'mixedbread-ai/mxbai-embed-large-v1'</span><span style=\"color: #000000; text-decoration-color: #000000; font-weight: bold\">}</span><span style=\"color: #000000; text-decoration-color: #000000\">, </span>         <span style=\"color: #7f7f7f; text-decoration-color: #7f7f7f\">                   </span>\n",
       "<span style=\"color: #7fbfbf; text-decoration-color: #7fbfbf\">           </span>         <span style=\"color: #808000; text-decoration-color: #808000\">custom_class</span><span style=\"color: #000000; text-decoration-color: #000000\">=</span><span style=\"color: #800080; text-decoration-color: #800080; font-style: italic\">None</span><span style=\"color: #000000; text-decoration-color: #000000; font-weight: bold\">)</span><span style=\"color: #000000; text-decoration-color: #000000\">, </span><span style=\"color: #008000; text-decoration-color: #008000\">'vector_database'</span><span style=\"color: #000000; text-decoration-color: #000000\">: </span>                                     <span style=\"color: #7f7f7f; text-decoration-color: #7f7f7f\">                   </span>\n",
       "<span style=\"color: #7fbfbf; text-decoration-color: #7fbfbf\">           </span>         <span style=\"color: #800080; text-decoration-color: #800080; font-weight: bold\">VectorDBConfig</span><span style=\"color: #000000; text-decoration-color: #000000; font-weight: bold\">(</span><span style=\"color: #808000; text-decoration-color: #808000\">type</span><span style=\"color: #000000; text-decoration-color: #000000\">=&lt;VectorDatabase.CHROMA: </span><span style=\"color: #008000; text-decoration-color: #008000\">'chroma'</span><span style=\"font-weight: bold\">&gt;</span>,                      <span style=\"color: #7f7f7f; text-decoration-color: #7f7f7f\">                   </span>\n",
       "<span style=\"color: #7fbfbf; text-decoration-color: #7fbfbf\">           </span>         <span style=\"color: #808000; text-decoration-color: #808000\">vectordb_kwargs</span>=<span style=\"font-weight: bold\">{</span><span style=\"color: #008000; text-decoration-color: #008000\">'collection_metadata'</span>: <span style=\"font-weight: bold\">{</span><span style=\"color: #008000; text-decoration-color: #008000\">'hnsw:space'</span>: <span style=\"color: #008000; text-decoration-color: #008000\">'cosine'</span><span style=\"font-weight: bold\">}}</span>,          <span style=\"color: #7f7f7f; text-decoration-color: #7f7f7f\">                   </span>\n",
       "<span style=\"color: #7fbfbf; text-decoration-color: #7fbfbf\">           </span>         <span style=\"color: #808000; text-decoration-color: #808000\">custom_class</span>=<span style=\"color: #800080; text-decoration-color: #800080; font-style: italic\">None</span><span style=\"font-weight: bold\">)</span>, <span style=\"color: #008000; text-decoration-color: #008000\">'sampling_rate'</span>: <span style=\"color: #800080; text-decoration-color: #800080; font-style: italic\">None</span><span style=\"font-weight: bold\">}</span>                                  <span style=\"color: #7f7f7f; text-decoration-color: #7f7f7f\">                   </span>\n",
       "</pre>\n"
      ],
      "text/plain": [
       "\u001b[2;36m          \u001b[0m\u001b[2;36m \u001b[0m\u001b[34mINFO    \u001b[0m Trial parameters: \u001b[1m{\u001b[0m\u001b[32m'input_source'\u001b[0m: \u001b[32m'lillog_agents.pdf'\u001b[0m, \u001b[32m'test_dataset'\u001b[0m:     \u001b]8;id=954150;file:///Users/aravind/KruxAI/ragbuilder/src/ragbuilder/data_ingest/optimization.py\u001b\\\u001b[2moptimization.py\u001b[0m\u001b]8;;\u001b\\\u001b[2m:\u001b[0m\u001b]8;id=886122;file:///Users/aravind/KruxAI/ragbuilder/src/ragbuilder/data_ingest/optimization.py#192\u001b\\\u001b[2m192\u001b[0m\u001b]8;;\u001b\\\n",
       "\u001b[2;36m           \u001b[0m         \u001b[32m'rag_test_data_lilianweng_gpt-4o_1721032414.736622_SEMI.csv'\u001b[0m,               \u001b[2m                   \u001b[0m\n",
       "\u001b[2;36m           \u001b[0m         \u001b[32m'document_loader'\u001b[0m: \u001b[1;35mLoaderConfig\u001b[0m\u001b[1m(\u001b[0m\u001b[33mtype\u001b[0m=\u001b[1m<\u001b[0m\u001b[1;95mParserType.UNSTRUCTURED:\u001b[0m\u001b[39m \u001b[0m             \u001b[2m                   \u001b[0m\n",
       "\u001b[2;36m           \u001b[0m         \u001b[32m'unstructured'\u001b[0m\u001b[39m>, \u001b[0m\u001b[33mloader_kwargs\u001b[0m\u001b[39m=\u001b[0m\u001b[3;35mNone\u001b[0m\u001b[39m, \u001b[0m\u001b[33mcustom_class\u001b[0m\u001b[39m=\u001b[0m\u001b[3;35mNone\u001b[0m\u001b[1;39m)\u001b[0m\u001b[39m, \u001b[0m                   \u001b[2m                   \u001b[0m\n",
       "\u001b[2;36m           \u001b[0m         \u001b[32m'chunking_strategy'\u001b[0m\u001b[39m: \u001b[0m                                                       \u001b[2m                   \u001b[0m\n",
       "\u001b[2;36m           \u001b[0m         \u001b[1;35mChunkingStrategyConfig\u001b[0m\u001b[1;39m(\u001b[0m\u001b[33mtype\u001b[0m\u001b[39m=<ChunkingStrategy.RECURSIVE: \u001b[0m                   \u001b[2m                   \u001b[0m\n",
       "\u001b[2;36m           \u001b[0m         \u001b[32m'RecursiveCharacterTextSplitter'\u001b[0m\u001b[39m>, \u001b[0m\u001b[33mchunker_kwargs\u001b[0m\u001b[39m=\u001b[0m\u001b[3;35mNone\u001b[0m\u001b[39m, \u001b[0m\u001b[33mcustom_class\u001b[0m\u001b[39m=\u001b[0m\u001b[3;35mNone\u001b[0m\u001b[1;39m)\u001b[0m\u001b[39m,\u001b[0m \u001b[2m                   \u001b[0m\n",
       "\u001b[2;36m           \u001b[0m         \u001b[32m'chunk_overlap'\u001b[0m\u001b[39m: \u001b[0m\u001b[1;36m100\u001b[0m\u001b[39m, \u001b[0m\u001b[32m'chunk_size'\u001b[0m\u001b[39m: \u001b[0m\u001b[1;36m2500\u001b[0m\u001b[39m, \u001b[0m\u001b[32m'embedding_model'\u001b[0m\u001b[39m: \u001b[0m               \u001b[2m                   \u001b[0m\n",
       "\u001b[2;36m           \u001b[0m         \u001b[1;35mEmbeddingConfig\u001b[0m\u001b[1;39m(\u001b[0m\u001b[33mtype\u001b[0m\u001b[39m=<EmbeddingModel.HUGGINGFACE: \u001b[0m\u001b[32m'huggingface'\u001b[0m\u001b[39m>, \u001b[0m          \u001b[2m                   \u001b[0m\n",
       "\u001b[2;36m           \u001b[0m         \u001b[33mmodel_kwargs\u001b[0m\u001b[39m=\u001b[0m\u001b[1;39m{\u001b[0m\u001b[32m'model_name'\u001b[0m\u001b[39m: \u001b[0m\u001b[32m'mixedbread-ai/mxbai-embed-large-v1'\u001b[0m\u001b[1;39m}\u001b[0m\u001b[39m, \u001b[0m         \u001b[2m                   \u001b[0m\n",
       "\u001b[2;36m           \u001b[0m         \u001b[33mcustom_class\u001b[0m\u001b[39m=\u001b[0m\u001b[3;35mNone\u001b[0m\u001b[1;39m)\u001b[0m\u001b[39m, \u001b[0m\u001b[32m'vector_database'\u001b[0m\u001b[39m: \u001b[0m                                     \u001b[2m                   \u001b[0m\n",
       "\u001b[2;36m           \u001b[0m         \u001b[1;35mVectorDBConfig\u001b[0m\u001b[1;39m(\u001b[0m\u001b[33mtype\u001b[0m\u001b[39m=<VectorDatabase.CHROMA: \u001b[0m\u001b[32m'chroma'\u001b[0m\u001b[1m>\u001b[0m,                      \u001b[2m                   \u001b[0m\n",
       "\u001b[2;36m           \u001b[0m         \u001b[33mvectordb_kwargs\u001b[0m=\u001b[1m{\u001b[0m\u001b[32m'collection_metadata'\u001b[0m: \u001b[1m{\u001b[0m\u001b[32m'hnsw:space'\u001b[0m: \u001b[32m'cosine'\u001b[0m\u001b[1m}\u001b[0m\u001b[1m}\u001b[0m,          \u001b[2m                   \u001b[0m\n",
       "\u001b[2;36m           \u001b[0m         \u001b[33mcustom_class\u001b[0m=\u001b[3;35mNone\u001b[0m\u001b[1m)\u001b[0m, \u001b[32m'sampling_rate'\u001b[0m: \u001b[3;35mNone\u001b[0m\u001b[1m}\u001b[0m                                  \u001b[2m                   \u001b[0m\n"
      ]
     },
     "metadata": {},
     "output_type": "display_data"
    },
    {
     "data": {
      "text/html": [
       "<pre style=\"white-space:pre;overflow-x:auto;line-height:normal;font-family:Menlo,'DejaVu Sans Mono',consolas,'Courier New',monospace\"><span style=\"color: #7fbfbf; text-decoration-color: #7fbfbf\">[00:56:57] </span><span style=\"color: #000080; text-decoration-color: #000080\">INFO    </span> Load pretrained SentenceTransformer:                                 <a href=\"file:///opt/anaconda3/envs/ragbuilder/lib/python3.12/site-packages/sentence_transformers/SentenceTransformer.py\" target=\"_blank\"><span style=\"color: #7f7f7f; text-decoration-color: #7f7f7f\">SentenceTransformer.py</span></a><span style=\"color: #7f7f7f; text-decoration-color: #7f7f7f\">:</span><a href=\"file:///opt/anaconda3/envs/ragbuilder/lib/python3.12/site-packages/sentence_transformers/SentenceTransformer.py#113\" target=\"_blank\"><span style=\"color: #7f7f7f; text-decoration-color: #7f7f7f\">113</span></a>\n",
       "<span style=\"color: #7fbfbf; text-decoration-color: #7fbfbf\">           </span>         mixedbread-ai/mxbai-embed-large-v1                                   <span style=\"color: #7f7f7f; text-decoration-color: #7f7f7f\">                          </span>\n",
       "</pre>\n"
      ],
      "text/plain": [
       "\u001b[2;36m[00:56:57]\u001b[0m\u001b[2;36m \u001b[0m\u001b[34mINFO    \u001b[0m Load pretrained SentenceTransformer:                                 \u001b]8;id=468317;file:///opt/anaconda3/envs/ragbuilder/lib/python3.12/site-packages/sentence_transformers/SentenceTransformer.py\u001b\\\u001b[2mSentenceTransformer.py\u001b[0m\u001b]8;;\u001b\\\u001b[2m:\u001b[0m\u001b]8;id=629441;file:///opt/anaconda3/envs/ragbuilder/lib/python3.12/site-packages/sentence_transformers/SentenceTransformer.py#113\u001b\\\u001b[2m113\u001b[0m\u001b]8;;\u001b\\\n",
       "\u001b[2;36m           \u001b[0m         mixedbread-ai/mxbai-embed-large-v1                                   \u001b[2m                          \u001b[0m\n"
      ]
     },
     "metadata": {},
     "output_type": "display_data"
    },
    {
     "data": {
      "text/html": [
       "<pre style=\"white-space:pre;overflow-x:auto;line-height:normal;font-family:Menlo,'DejaVu Sans Mono',consolas,'Courier New',monospace\"><span style=\"color: #7fbfbf; text-decoration-color: #7fbfbf\">[00:57:02] </span><span style=\"color: #000080; text-decoration-color: #000080\">INFO    </span> Use pytorch device_name: mps                                         <a href=\"file:///opt/anaconda3/envs/ragbuilder/lib/python3.12/site-packages/sentence_transformers/SentenceTransformer.py\" target=\"_blank\"><span style=\"color: #7f7f7f; text-decoration-color: #7f7f7f\">SentenceTransformer.py</span></a><span style=\"color: #7f7f7f; text-decoration-color: #7f7f7f\">:</span><a href=\"file:///opt/anaconda3/envs/ragbuilder/lib/python3.12/site-packages/sentence_transformers/SentenceTransformer.py#219\" target=\"_blank\"><span style=\"color: #7f7f7f; text-decoration-color: #7f7f7f\">219</span></a>\n",
       "</pre>\n"
      ],
      "text/plain": [
       "\u001b[2;36m[00:57:02]\u001b[0m\u001b[2;36m \u001b[0m\u001b[34mINFO    \u001b[0m Use pytorch device_name: mps                                         \u001b]8;id=384003;file:///opt/anaconda3/envs/ragbuilder/lib/python3.12/site-packages/sentence_transformers/SentenceTransformer.py\u001b\\\u001b[2mSentenceTransformer.py\u001b[0m\u001b]8;;\u001b\\\u001b[2m:\u001b[0m\u001b]8;id=192013;file:///opt/anaconda3/envs/ragbuilder/lib/python3.12/site-packages/sentence_transformers/SentenceTransformer.py#219\u001b\\\u001b[2m219\u001b[0m\u001b]8;;\u001b\\\n"
      ]
     },
     "metadata": {},
     "output_type": "display_data"
    },
    {
     "data": {
      "text/html": [
       "<pre style=\"white-space:pre;overflow-x:auto;line-height:normal;font-family:Menlo,'DejaVu Sans Mono',consolas,'Courier New',monospace\"><span style=\"color: #7fbfbf; text-decoration-color: #7fbfbf\">           </span><span style=\"color: #000080; text-decoration-color: #000080\">INFO    </span> <span style=\"color: #008080; text-decoration-color: #008080; font-weight: bold\">2</span> prompts are loaded, with the keys: <span style=\"font-weight: bold\">[</span><span style=\"color: #008000; text-decoration-color: #008000\">'query'</span>, <span style=\"color: #008000; text-decoration-color: #008000\">'passage'</span><span style=\"font-weight: bold\">]</span>            <a href=\"file:///opt/anaconda3/envs/ragbuilder/lib/python3.12/site-packages/sentence_transformers/SentenceTransformer.py\" target=\"_blank\"><span style=\"color: #7f7f7f; text-decoration-color: #7f7f7f\">SentenceTransformer.py</span></a><span style=\"color: #7f7f7f; text-decoration-color: #7f7f7f\">:</span><a href=\"file:///opt/anaconda3/envs/ragbuilder/lib/python3.12/site-packages/sentence_transformers/SentenceTransformer.py#231\" target=\"_blank\"><span style=\"color: #7f7f7f; text-decoration-color: #7f7f7f\">231</span></a>\n",
       "</pre>\n"
      ],
      "text/plain": [
       "\u001b[2;36m          \u001b[0m\u001b[2;36m \u001b[0m\u001b[34mINFO    \u001b[0m \u001b[1;36m2\u001b[0m prompts are loaded, with the keys: \u001b[1m[\u001b[0m\u001b[32m'query'\u001b[0m, \u001b[32m'passage'\u001b[0m\u001b[1m]\u001b[0m            \u001b]8;id=706937;file:///opt/anaconda3/envs/ragbuilder/lib/python3.12/site-packages/sentence_transformers/SentenceTransformer.py\u001b\\\u001b[2mSentenceTransformer.py\u001b[0m\u001b]8;;\u001b\\\u001b[2m:\u001b[0m\u001b]8;id=715793;file:///opt/anaconda3/envs/ragbuilder/lib/python3.12/site-packages/sentence_transformers/SentenceTransformer.py#231\u001b\\\u001b[2m231\u001b[0m\u001b]8;;\u001b\\\n"
      ]
     },
     "metadata": {},
     "output_type": "display_data"
    },
    {
     "data": {
      "application/vnd.jupyter.widget-view+json": {
       "model_id": "241e106d3b794a028dd4f11f261046ff",
       "version_major": 2,
       "version_minor": 0
      },
      "text/plain": [
       "Output()"
      ]
     },
     "metadata": {},
     "output_type": "display_data"
    },
    {
     "data": {
      "text/html": [
       "<pre style=\"white-space:pre;overflow-x:auto;line-height:normal;font-family:Menlo,'DejaVu Sans Mono',consolas,'Courier New',monospace\"><span style=\"color: #008000; text-decoration-color: #008000\">✓ Pipeline execution complete!</span>\n",
       "</pre>\n"
      ],
      "text/plain": [
       "\u001b[32m✓ Pipeline execution complete!\u001b[0m\n"
      ]
     },
     "metadata": {},
     "output_type": "display_data"
    },
    {
     "data": {
      "text/html": [
       "<pre style=\"white-space:pre;overflow-x:auto;line-height:normal;font-family:Menlo,'DejaVu Sans Mono',consolas,'Courier New',monospace\"></pre>\n"
      ],
      "text/plain": []
     },
     "metadata": {},
     "output_type": "display_data"
    },
    {
     "data": {
      "text/html": [
       "<pre style=\"white-space:pre;overflow-x:auto;line-height:normal;font-family:Menlo,'DejaVu Sans Mono',consolas,'Courier New',monospace\"><span style=\"color: #008000; text-decoration-color: #008000\">Trial Score:</span> <span style=\"color: #00ffff; text-decoration-color: #00ffff; font-weight: bold\">0.7791</span>\n",
       "</pre>\n"
      ],
      "text/plain": [
       "\u001b[32mTrial Score:\u001b[0m \u001b[1;96m0.7791\u001b[0m\n"
      ]
     },
     "metadata": {},
     "output_type": "display_data"
    },
    {
     "name": "stdout",
     "output_type": "stream",
     "text": [
      "[I 2024-11-13 00:57:11,857] Trial 0 finished with value: 0.7791137912869454 and parameters: {'chunk_size': 2500}. Best is trial 0 with value: 0.7791137912869454.\n"
     ]
    },
    {
     "data": {
      "text/html": [
       "<pre style=\"white-space:pre;overflow-x:auto;line-height:normal;font-family:Menlo,'DejaVu Sans Mono',consolas,'Courier New',monospace\"><span style=\"color: #005fff; text-decoration-color: #005fff; font-weight: bold\">Trial </span><span style=\"color: #005fff; text-decoration-color: #005fff; font-weight: bold\">1</span><span style=\"color: #005fff; text-decoration-color: #005fff; font-weight: bold\">/</span><span style=\"color: #005fff; text-decoration-color: #005fff; font-weight: bold\">9</span>\n",
       "</pre>\n"
      ],
      "text/plain": [
       "\u001b[1;38;5;27mTrial \u001b[0m\u001b[1;38;5;27m1\u001b[0m\u001b[1;38;5;27m/\u001b[0m\u001b[1;38;5;27m9\u001b[0m\n"
      ]
     },
     "metadata": {},
     "output_type": "display_data"
    },
    {
     "data": {
      "text/html": [
       "<pre style=\"white-space:pre;overflow-x:auto;line-height:normal;font-family:Menlo,'DejaVu Sans Mono',consolas,'Courier New',monospace\"><span style=\"color: #7fbfbf; text-decoration-color: #7fbfbf\">[00:57:11] </span><span style=\"color: #000080; text-decoration-color: #000080\">INFO    </span> Trial parameters: <span style=\"font-weight: bold\">{</span><span style=\"color: #008000; text-decoration-color: #008000\">'input_source'</span>: <span style=\"color: #008000; text-decoration-color: #008000\">'lillog_agents.pdf'</span>, <span style=\"color: #008000; text-decoration-color: #008000\">'test_dataset'</span>:     <a href=\"file:///Users/aravind/KruxAI/ragbuilder/src/ragbuilder/data_ingest/optimization.py\" target=\"_blank\"><span style=\"color: #7f7f7f; text-decoration-color: #7f7f7f\">optimization.py</span></a><span style=\"color: #7f7f7f; text-decoration-color: #7f7f7f\">:</span><a href=\"file:///Users/aravind/KruxAI/ragbuilder/src/ragbuilder/data_ingest/optimization.py#192\" target=\"_blank\"><span style=\"color: #7f7f7f; text-decoration-color: #7f7f7f\">192</span></a>\n",
       "<span style=\"color: #7fbfbf; text-decoration-color: #7fbfbf\">           </span>         <span style=\"color: #008000; text-decoration-color: #008000\">'rag_test_data_lilianweng_gpt-4o_1721032414.736622_SEMI.csv'</span>,               <span style=\"color: #7f7f7f; text-decoration-color: #7f7f7f\">                   </span>\n",
       "<span style=\"color: #7fbfbf; text-decoration-color: #7fbfbf\">           </span>         <span style=\"color: #008000; text-decoration-color: #008000\">'document_loader'</span>: <span style=\"color: #800080; text-decoration-color: #800080; font-weight: bold\">LoaderConfig</span><span style=\"font-weight: bold\">(</span><span style=\"color: #808000; text-decoration-color: #808000\">type</span>=<span style=\"font-weight: bold\">&lt;</span><span style=\"color: #ff00ff; text-decoration-color: #ff00ff; font-weight: bold\">ParserType.UNSTRUCTURED:</span><span style=\"color: #000000; text-decoration-color: #000000\"> </span>             <span style=\"color: #7f7f7f; text-decoration-color: #7f7f7f\">                   </span>\n",
       "<span style=\"color: #7fbfbf; text-decoration-color: #7fbfbf\">           </span>         <span style=\"color: #008000; text-decoration-color: #008000\">'unstructured'</span><span style=\"color: #000000; text-decoration-color: #000000\">&gt;, </span><span style=\"color: #808000; text-decoration-color: #808000\">loader_kwargs</span><span style=\"color: #000000; text-decoration-color: #000000\">=</span><span style=\"color: #800080; text-decoration-color: #800080; font-style: italic\">None</span><span style=\"color: #000000; text-decoration-color: #000000\">, </span><span style=\"color: #808000; text-decoration-color: #808000\">custom_class</span><span style=\"color: #000000; text-decoration-color: #000000\">=</span><span style=\"color: #800080; text-decoration-color: #800080; font-style: italic\">None</span><span style=\"color: #000000; text-decoration-color: #000000; font-weight: bold\">)</span><span style=\"color: #000000; text-decoration-color: #000000\">, </span>                   <span style=\"color: #7f7f7f; text-decoration-color: #7f7f7f\">                   </span>\n",
       "<span style=\"color: #7fbfbf; text-decoration-color: #7fbfbf\">           </span>         <span style=\"color: #008000; text-decoration-color: #008000\">'chunking_strategy'</span><span style=\"color: #000000; text-decoration-color: #000000\">: </span>                                                       <span style=\"color: #7f7f7f; text-decoration-color: #7f7f7f\">                   </span>\n",
       "<span style=\"color: #7fbfbf; text-decoration-color: #7fbfbf\">           </span>         <span style=\"color: #800080; text-decoration-color: #800080; font-weight: bold\">ChunkingStrategyConfig</span><span style=\"color: #000000; text-decoration-color: #000000; font-weight: bold\">(</span><span style=\"color: #808000; text-decoration-color: #808000\">type</span><span style=\"color: #000000; text-decoration-color: #000000\">=&lt;ChunkingStrategy.RECURSIVE: </span>                   <span style=\"color: #7f7f7f; text-decoration-color: #7f7f7f\">                   </span>\n",
       "<span style=\"color: #7fbfbf; text-decoration-color: #7fbfbf\">           </span>         <span style=\"color: #008000; text-decoration-color: #008000\">'RecursiveCharacterTextSplitter'</span><span style=\"color: #000000; text-decoration-color: #000000\">&gt;, </span><span style=\"color: #808000; text-decoration-color: #808000\">chunker_kwargs</span><span style=\"color: #000000; text-decoration-color: #000000\">=</span><span style=\"color: #800080; text-decoration-color: #800080; font-style: italic\">None</span><span style=\"color: #000000; text-decoration-color: #000000\">, </span><span style=\"color: #808000; text-decoration-color: #808000\">custom_class</span><span style=\"color: #000000; text-decoration-color: #000000\">=</span><span style=\"color: #800080; text-decoration-color: #800080; font-style: italic\">None</span><span style=\"color: #000000; text-decoration-color: #000000; font-weight: bold\">)</span><span style=\"color: #000000; text-decoration-color: #000000\">,</span> <span style=\"color: #7f7f7f; text-decoration-color: #7f7f7f\">                   </span>\n",
       "<span style=\"color: #7fbfbf; text-decoration-color: #7fbfbf\">           </span>         <span style=\"color: #008000; text-decoration-color: #008000\">'chunk_overlap'</span><span style=\"color: #000000; text-decoration-color: #000000\">: </span><span style=\"color: #008080; text-decoration-color: #008080; font-weight: bold\">100</span><span style=\"color: #000000; text-decoration-color: #000000\">, </span><span style=\"color: #008000; text-decoration-color: #008000\">'chunk_size'</span><span style=\"color: #000000; text-decoration-color: #000000\">: </span><span style=\"color: #008080; text-decoration-color: #008080; font-weight: bold\">2500</span><span style=\"color: #000000; text-decoration-color: #000000\">, </span><span style=\"color: #008000; text-decoration-color: #008000\">'embedding_model'</span><span style=\"color: #000000; text-decoration-color: #000000\">: </span>               <span style=\"color: #7f7f7f; text-decoration-color: #7f7f7f\">                   </span>\n",
       "<span style=\"color: #7fbfbf; text-decoration-color: #7fbfbf\">           </span>         <span style=\"color: #800080; text-decoration-color: #800080; font-weight: bold\">EmbeddingConfig</span><span style=\"color: #000000; text-decoration-color: #000000; font-weight: bold\">(</span><span style=\"color: #808000; text-decoration-color: #808000\">type</span><span style=\"color: #000000; text-decoration-color: #000000\">=&lt;EmbeddingModel.HUGGINGFACE: </span><span style=\"color: #008000; text-decoration-color: #008000\">'huggingface'</span><span style=\"color: #000000; text-decoration-color: #000000\">&gt;, </span>          <span style=\"color: #7f7f7f; text-decoration-color: #7f7f7f\">                   </span>\n",
       "<span style=\"color: #7fbfbf; text-decoration-color: #7fbfbf\">           </span>         <span style=\"color: #808000; text-decoration-color: #808000\">model_kwargs</span><span style=\"color: #000000; text-decoration-color: #000000\">=</span><span style=\"color: #000000; text-decoration-color: #000000; font-weight: bold\">{</span><span style=\"color: #008000; text-decoration-color: #008000\">'model_name'</span><span style=\"color: #000000; text-decoration-color: #000000\">: </span><span style=\"color: #008000; text-decoration-color: #008000\">'mixedbread-ai/mxbai-embed-large-v1'</span><span style=\"color: #000000; text-decoration-color: #000000; font-weight: bold\">}</span><span style=\"color: #000000; text-decoration-color: #000000\">, </span>         <span style=\"color: #7f7f7f; text-decoration-color: #7f7f7f\">                   </span>\n",
       "<span style=\"color: #7fbfbf; text-decoration-color: #7fbfbf\">           </span>         <span style=\"color: #808000; text-decoration-color: #808000\">custom_class</span><span style=\"color: #000000; text-decoration-color: #000000\">=</span><span style=\"color: #800080; text-decoration-color: #800080; font-style: italic\">None</span><span style=\"color: #000000; text-decoration-color: #000000; font-weight: bold\">)</span><span style=\"color: #000000; text-decoration-color: #000000\">, </span><span style=\"color: #008000; text-decoration-color: #008000\">'vector_database'</span><span style=\"color: #000000; text-decoration-color: #000000\">: </span>                                     <span style=\"color: #7f7f7f; text-decoration-color: #7f7f7f\">                   </span>\n",
       "<span style=\"color: #7fbfbf; text-decoration-color: #7fbfbf\">           </span>         <span style=\"color: #800080; text-decoration-color: #800080; font-weight: bold\">VectorDBConfig</span><span style=\"color: #000000; text-decoration-color: #000000; font-weight: bold\">(</span><span style=\"color: #808000; text-decoration-color: #808000\">type</span><span style=\"color: #000000; text-decoration-color: #000000\">=&lt;VectorDatabase.CHROMA: </span><span style=\"color: #008000; text-decoration-color: #008000\">'chroma'</span><span style=\"font-weight: bold\">&gt;</span>,                      <span style=\"color: #7f7f7f; text-decoration-color: #7f7f7f\">                   </span>\n",
       "<span style=\"color: #7fbfbf; text-decoration-color: #7fbfbf\">           </span>         <span style=\"color: #808000; text-decoration-color: #808000\">vectordb_kwargs</span>=<span style=\"font-weight: bold\">{</span><span style=\"color: #008000; text-decoration-color: #008000\">'collection_metadata'</span>: <span style=\"font-weight: bold\">{</span><span style=\"color: #008000; text-decoration-color: #008000\">'hnsw:space'</span>: <span style=\"color: #008000; text-decoration-color: #008000\">'cosine'</span><span style=\"font-weight: bold\">}}</span>,          <span style=\"color: #7f7f7f; text-decoration-color: #7f7f7f\">                   </span>\n",
       "<span style=\"color: #7fbfbf; text-decoration-color: #7fbfbf\">           </span>         <span style=\"color: #808000; text-decoration-color: #808000\">custom_class</span>=<span style=\"color: #800080; text-decoration-color: #800080; font-style: italic\">None</span><span style=\"font-weight: bold\">)</span>, <span style=\"color: #008000; text-decoration-color: #008000\">'sampling_rate'</span>: <span style=\"color: #800080; text-decoration-color: #800080; font-style: italic\">None</span><span style=\"font-weight: bold\">}</span>                                  <span style=\"color: #7f7f7f; text-decoration-color: #7f7f7f\">                   </span>\n",
       "</pre>\n"
      ],
      "text/plain": [
       "\u001b[2;36m[00:57:11]\u001b[0m\u001b[2;36m \u001b[0m\u001b[34mINFO    \u001b[0m Trial parameters: \u001b[1m{\u001b[0m\u001b[32m'input_source'\u001b[0m: \u001b[32m'lillog_agents.pdf'\u001b[0m, \u001b[32m'test_dataset'\u001b[0m:     \u001b]8;id=349798;file:///Users/aravind/KruxAI/ragbuilder/src/ragbuilder/data_ingest/optimization.py\u001b\\\u001b[2moptimization.py\u001b[0m\u001b]8;;\u001b\\\u001b[2m:\u001b[0m\u001b]8;id=289472;file:///Users/aravind/KruxAI/ragbuilder/src/ragbuilder/data_ingest/optimization.py#192\u001b\\\u001b[2m192\u001b[0m\u001b]8;;\u001b\\\n",
       "\u001b[2;36m           \u001b[0m         \u001b[32m'rag_test_data_lilianweng_gpt-4o_1721032414.736622_SEMI.csv'\u001b[0m,               \u001b[2m                   \u001b[0m\n",
       "\u001b[2;36m           \u001b[0m         \u001b[32m'document_loader'\u001b[0m: \u001b[1;35mLoaderConfig\u001b[0m\u001b[1m(\u001b[0m\u001b[33mtype\u001b[0m=\u001b[1m<\u001b[0m\u001b[1;95mParserType.UNSTRUCTURED:\u001b[0m\u001b[39m \u001b[0m             \u001b[2m                   \u001b[0m\n",
       "\u001b[2;36m           \u001b[0m         \u001b[32m'unstructured'\u001b[0m\u001b[39m>, \u001b[0m\u001b[33mloader_kwargs\u001b[0m\u001b[39m=\u001b[0m\u001b[3;35mNone\u001b[0m\u001b[39m, \u001b[0m\u001b[33mcustom_class\u001b[0m\u001b[39m=\u001b[0m\u001b[3;35mNone\u001b[0m\u001b[1;39m)\u001b[0m\u001b[39m, \u001b[0m                   \u001b[2m                   \u001b[0m\n",
       "\u001b[2;36m           \u001b[0m         \u001b[32m'chunking_strategy'\u001b[0m\u001b[39m: \u001b[0m                                                       \u001b[2m                   \u001b[0m\n",
       "\u001b[2;36m           \u001b[0m         \u001b[1;35mChunkingStrategyConfig\u001b[0m\u001b[1;39m(\u001b[0m\u001b[33mtype\u001b[0m\u001b[39m=<ChunkingStrategy.RECURSIVE: \u001b[0m                   \u001b[2m                   \u001b[0m\n",
       "\u001b[2;36m           \u001b[0m         \u001b[32m'RecursiveCharacterTextSplitter'\u001b[0m\u001b[39m>, \u001b[0m\u001b[33mchunker_kwargs\u001b[0m\u001b[39m=\u001b[0m\u001b[3;35mNone\u001b[0m\u001b[39m, \u001b[0m\u001b[33mcustom_class\u001b[0m\u001b[39m=\u001b[0m\u001b[3;35mNone\u001b[0m\u001b[1;39m)\u001b[0m\u001b[39m,\u001b[0m \u001b[2m                   \u001b[0m\n",
       "\u001b[2;36m           \u001b[0m         \u001b[32m'chunk_overlap'\u001b[0m\u001b[39m: \u001b[0m\u001b[1;36m100\u001b[0m\u001b[39m, \u001b[0m\u001b[32m'chunk_size'\u001b[0m\u001b[39m: \u001b[0m\u001b[1;36m2500\u001b[0m\u001b[39m, \u001b[0m\u001b[32m'embedding_model'\u001b[0m\u001b[39m: \u001b[0m               \u001b[2m                   \u001b[0m\n",
       "\u001b[2;36m           \u001b[0m         \u001b[1;35mEmbeddingConfig\u001b[0m\u001b[1;39m(\u001b[0m\u001b[33mtype\u001b[0m\u001b[39m=<EmbeddingModel.HUGGINGFACE: \u001b[0m\u001b[32m'huggingface'\u001b[0m\u001b[39m>, \u001b[0m          \u001b[2m                   \u001b[0m\n",
       "\u001b[2;36m           \u001b[0m         \u001b[33mmodel_kwargs\u001b[0m\u001b[39m=\u001b[0m\u001b[1;39m{\u001b[0m\u001b[32m'model_name'\u001b[0m\u001b[39m: \u001b[0m\u001b[32m'mixedbread-ai/mxbai-embed-large-v1'\u001b[0m\u001b[1;39m}\u001b[0m\u001b[39m, \u001b[0m         \u001b[2m                   \u001b[0m\n",
       "\u001b[2;36m           \u001b[0m         \u001b[33mcustom_class\u001b[0m\u001b[39m=\u001b[0m\u001b[3;35mNone\u001b[0m\u001b[1;39m)\u001b[0m\u001b[39m, \u001b[0m\u001b[32m'vector_database'\u001b[0m\u001b[39m: \u001b[0m                                     \u001b[2m                   \u001b[0m\n",
       "\u001b[2;36m           \u001b[0m         \u001b[1;35mVectorDBConfig\u001b[0m\u001b[1;39m(\u001b[0m\u001b[33mtype\u001b[0m\u001b[39m=<VectorDatabase.CHROMA: \u001b[0m\u001b[32m'chroma'\u001b[0m\u001b[1m>\u001b[0m,                      \u001b[2m                   \u001b[0m\n",
       "\u001b[2;36m           \u001b[0m         \u001b[33mvectordb_kwargs\u001b[0m=\u001b[1m{\u001b[0m\u001b[32m'collection_metadata'\u001b[0m: \u001b[1m{\u001b[0m\u001b[32m'hnsw:space'\u001b[0m: \u001b[32m'cosine'\u001b[0m\u001b[1m}\u001b[0m\u001b[1m}\u001b[0m,          \u001b[2m                   \u001b[0m\n",
       "\u001b[2;36m           \u001b[0m         \u001b[33mcustom_class\u001b[0m=\u001b[3;35mNone\u001b[0m\u001b[1m)\u001b[0m, \u001b[32m'sampling_rate'\u001b[0m: \u001b[3;35mNone\u001b[0m\u001b[1m}\u001b[0m                                  \u001b[2m                   \u001b[0m\n"
      ]
     },
     "metadata": {},
     "output_type": "display_data"
    },
    {
     "data": {
      "text/html": [
       "<pre style=\"white-space:pre;overflow-x:auto;line-height:normal;font-family:Menlo,'DejaVu Sans Mono',consolas,'Courier New',monospace\"><span style=\"color: #7fbfbf; text-decoration-color: #7fbfbf\">           </span><span style=\"color: #000080; text-decoration-color: #000080\">INFO    </span> Config already evaluated with score: <span style=\"color: #008080; text-decoration-color: #008080; font-weight: bold\">0.7791137912869454</span>                      <a href=\"file:///Users/aravind/KruxAI/ragbuilder/src/ragbuilder/data_ingest/optimization.py\" target=\"_blank\"><span style=\"color: #7f7f7f; text-decoration-color: #7f7f7f\">optimization.py</span></a><span style=\"color: #7f7f7f; text-decoration-color: #7f7f7f\">:</span><a href=\"file:///Users/aravind/KruxAI/ragbuilder/src/ragbuilder/data_ingest/optimization.py#63\" target=\"_blank\"><span style=\"color: #7f7f7f; text-decoration-color: #7f7f7f\">63</span></a>\n",
       "</pre>\n"
      ],
      "text/plain": [
       "\u001b[2;36m          \u001b[0m\u001b[2;36m \u001b[0m\u001b[34mINFO    \u001b[0m Config already evaluated with score: \u001b[1;36m0.7791137912869454\u001b[0m                      \u001b]8;id=686315;file:///Users/aravind/KruxAI/ragbuilder/src/ragbuilder/data_ingest/optimization.py\u001b\\\u001b[2moptimization.py\u001b[0m\u001b]8;;\u001b\\\u001b[2m:\u001b[0m\u001b]8;id=692768;file:///Users/aravind/KruxAI/ragbuilder/src/ragbuilder/data_ingest/optimization.py#63\u001b\\\u001b[2m63\u001b[0m\u001b]8;;\u001b\\\n"
      ]
     },
     "metadata": {},
     "output_type": "display_data"
    },
    {
     "name": "stdout",
     "output_type": "stream",
     "text": [
      "[I 2024-11-13 00:57:11,865] Trial 1 finished with value: 0.7791137912869454 and parameters: {'chunk_size': 2500}. Best is trial 0 with value: 0.7791137912869454.\n"
     ]
    },
    {
     "data": {
      "text/html": [
       "<pre style=\"white-space:pre;overflow-x:auto;line-height:normal;font-family:Menlo,'DejaVu Sans Mono',consolas,'Courier New',monospace\"><span style=\"color: #005fff; text-decoration-color: #005fff; font-weight: bold\">Trial </span><span style=\"color: #005fff; text-decoration-color: #005fff; font-weight: bold\">2</span><span style=\"color: #005fff; text-decoration-color: #005fff; font-weight: bold\">/</span><span style=\"color: #005fff; text-decoration-color: #005fff; font-weight: bold\">9</span>\n",
       "</pre>\n"
      ],
      "text/plain": [
       "\u001b[1;38;5;27mTrial \u001b[0m\u001b[1;38;5;27m2\u001b[0m\u001b[1;38;5;27m/\u001b[0m\u001b[1;38;5;27m9\u001b[0m\n"
      ]
     },
     "metadata": {},
     "output_type": "display_data"
    },
    {
     "data": {
      "text/html": [
       "<pre style=\"white-space:pre;overflow-x:auto;line-height:normal;font-family:Menlo,'DejaVu Sans Mono',consolas,'Courier New',monospace\"><span style=\"color: #7fbfbf; text-decoration-color: #7fbfbf\">           </span><span style=\"color: #000080; text-decoration-color: #000080\">INFO    </span> Trial parameters: <span style=\"font-weight: bold\">{</span><span style=\"color: #008000; text-decoration-color: #008000\">'input_source'</span>: <span style=\"color: #008000; text-decoration-color: #008000\">'lillog_agents.pdf'</span>, <span style=\"color: #008000; text-decoration-color: #008000\">'test_dataset'</span>:     <a href=\"file:///Users/aravind/KruxAI/ragbuilder/src/ragbuilder/data_ingest/optimization.py\" target=\"_blank\"><span style=\"color: #7f7f7f; text-decoration-color: #7f7f7f\">optimization.py</span></a><span style=\"color: #7f7f7f; text-decoration-color: #7f7f7f\">:</span><a href=\"file:///Users/aravind/KruxAI/ragbuilder/src/ragbuilder/data_ingest/optimization.py#192\" target=\"_blank\"><span style=\"color: #7f7f7f; text-decoration-color: #7f7f7f\">192</span></a>\n",
       "<span style=\"color: #7fbfbf; text-decoration-color: #7fbfbf\">           </span>         <span style=\"color: #008000; text-decoration-color: #008000\">'rag_test_data_lilianweng_gpt-4o_1721032414.736622_SEMI.csv'</span>,               <span style=\"color: #7f7f7f; text-decoration-color: #7f7f7f\">                   </span>\n",
       "<span style=\"color: #7fbfbf; text-decoration-color: #7fbfbf\">           </span>         <span style=\"color: #008000; text-decoration-color: #008000\">'document_loader'</span>: <span style=\"color: #800080; text-decoration-color: #800080; font-weight: bold\">LoaderConfig</span><span style=\"font-weight: bold\">(</span><span style=\"color: #808000; text-decoration-color: #808000\">type</span>=<span style=\"font-weight: bold\">&lt;</span><span style=\"color: #ff00ff; text-decoration-color: #ff00ff; font-weight: bold\">ParserType.UNSTRUCTURED:</span><span style=\"color: #000000; text-decoration-color: #000000\"> </span>             <span style=\"color: #7f7f7f; text-decoration-color: #7f7f7f\">                   </span>\n",
       "<span style=\"color: #7fbfbf; text-decoration-color: #7fbfbf\">           </span>         <span style=\"color: #008000; text-decoration-color: #008000\">'unstructured'</span><span style=\"color: #000000; text-decoration-color: #000000\">&gt;, </span><span style=\"color: #808000; text-decoration-color: #808000\">loader_kwargs</span><span style=\"color: #000000; text-decoration-color: #000000\">=</span><span style=\"color: #800080; text-decoration-color: #800080; font-style: italic\">None</span><span style=\"color: #000000; text-decoration-color: #000000\">, </span><span style=\"color: #808000; text-decoration-color: #808000\">custom_class</span><span style=\"color: #000000; text-decoration-color: #000000\">=</span><span style=\"color: #800080; text-decoration-color: #800080; font-style: italic\">None</span><span style=\"color: #000000; text-decoration-color: #000000; font-weight: bold\">)</span><span style=\"color: #000000; text-decoration-color: #000000\">, </span>                   <span style=\"color: #7f7f7f; text-decoration-color: #7f7f7f\">                   </span>\n",
       "<span style=\"color: #7fbfbf; text-decoration-color: #7fbfbf\">           </span>         <span style=\"color: #008000; text-decoration-color: #008000\">'chunking_strategy'</span><span style=\"color: #000000; text-decoration-color: #000000\">: </span>                                                       <span style=\"color: #7f7f7f; text-decoration-color: #7f7f7f\">                   </span>\n",
       "<span style=\"color: #7fbfbf; text-decoration-color: #7fbfbf\">           </span>         <span style=\"color: #800080; text-decoration-color: #800080; font-weight: bold\">ChunkingStrategyConfig</span><span style=\"color: #000000; text-decoration-color: #000000; font-weight: bold\">(</span><span style=\"color: #808000; text-decoration-color: #808000\">type</span><span style=\"color: #000000; text-decoration-color: #000000\">=&lt;ChunkingStrategy.RECURSIVE: </span>                   <span style=\"color: #7f7f7f; text-decoration-color: #7f7f7f\">                   </span>\n",
       "<span style=\"color: #7fbfbf; text-decoration-color: #7fbfbf\">           </span>         <span style=\"color: #008000; text-decoration-color: #008000\">'RecursiveCharacterTextSplitter'</span><span style=\"color: #000000; text-decoration-color: #000000\">&gt;, </span><span style=\"color: #808000; text-decoration-color: #808000\">chunker_kwargs</span><span style=\"color: #000000; text-decoration-color: #000000\">=</span><span style=\"color: #800080; text-decoration-color: #800080; font-style: italic\">None</span><span style=\"color: #000000; text-decoration-color: #000000\">, </span><span style=\"color: #808000; text-decoration-color: #808000\">custom_class</span><span style=\"color: #000000; text-decoration-color: #000000\">=</span><span style=\"color: #800080; text-decoration-color: #800080; font-style: italic\">None</span><span style=\"color: #000000; text-decoration-color: #000000; font-weight: bold\">)</span><span style=\"color: #000000; text-decoration-color: #000000\">,</span> <span style=\"color: #7f7f7f; text-decoration-color: #7f7f7f\">                   </span>\n",
       "<span style=\"color: #7fbfbf; text-decoration-color: #7fbfbf\">           </span>         <span style=\"color: #008000; text-decoration-color: #008000\">'chunk_overlap'</span><span style=\"color: #000000; text-decoration-color: #000000\">: </span><span style=\"color: #008080; text-decoration-color: #008080; font-weight: bold\">100</span><span style=\"color: #000000; text-decoration-color: #000000\">, </span><span style=\"color: #008000; text-decoration-color: #008000\">'chunk_size'</span><span style=\"color: #000000; text-decoration-color: #000000\">: </span><span style=\"color: #008080; text-decoration-color: #008080; font-weight: bold\">1500</span><span style=\"color: #000000; text-decoration-color: #000000\">, </span><span style=\"color: #008000; text-decoration-color: #008000\">'embedding_model'</span><span style=\"color: #000000; text-decoration-color: #000000\">: </span>               <span style=\"color: #7f7f7f; text-decoration-color: #7f7f7f\">                   </span>\n",
       "<span style=\"color: #7fbfbf; text-decoration-color: #7fbfbf\">           </span>         <span style=\"color: #800080; text-decoration-color: #800080; font-weight: bold\">EmbeddingConfig</span><span style=\"color: #000000; text-decoration-color: #000000; font-weight: bold\">(</span><span style=\"color: #808000; text-decoration-color: #808000\">type</span><span style=\"color: #000000; text-decoration-color: #000000\">=&lt;EmbeddingModel.HUGGINGFACE: </span><span style=\"color: #008000; text-decoration-color: #008000\">'huggingface'</span><span style=\"color: #000000; text-decoration-color: #000000\">&gt;, </span>          <span style=\"color: #7f7f7f; text-decoration-color: #7f7f7f\">                   </span>\n",
       "<span style=\"color: #7fbfbf; text-decoration-color: #7fbfbf\">           </span>         <span style=\"color: #808000; text-decoration-color: #808000\">model_kwargs</span><span style=\"color: #000000; text-decoration-color: #000000\">=</span><span style=\"color: #000000; text-decoration-color: #000000; font-weight: bold\">{</span><span style=\"color: #008000; text-decoration-color: #008000\">'model_name'</span><span style=\"color: #000000; text-decoration-color: #000000\">: </span><span style=\"color: #008000; text-decoration-color: #008000\">'mixedbread-ai/mxbai-embed-large-v1'</span><span style=\"color: #000000; text-decoration-color: #000000; font-weight: bold\">}</span><span style=\"color: #000000; text-decoration-color: #000000\">, </span>         <span style=\"color: #7f7f7f; text-decoration-color: #7f7f7f\">                   </span>\n",
       "<span style=\"color: #7fbfbf; text-decoration-color: #7fbfbf\">           </span>         <span style=\"color: #808000; text-decoration-color: #808000\">custom_class</span><span style=\"color: #000000; text-decoration-color: #000000\">=</span><span style=\"color: #800080; text-decoration-color: #800080; font-style: italic\">None</span><span style=\"color: #000000; text-decoration-color: #000000; font-weight: bold\">)</span><span style=\"color: #000000; text-decoration-color: #000000\">, </span><span style=\"color: #008000; text-decoration-color: #008000\">'vector_database'</span><span style=\"color: #000000; text-decoration-color: #000000\">: </span>                                     <span style=\"color: #7f7f7f; text-decoration-color: #7f7f7f\">                   </span>\n",
       "<span style=\"color: #7fbfbf; text-decoration-color: #7fbfbf\">           </span>         <span style=\"color: #800080; text-decoration-color: #800080; font-weight: bold\">VectorDBConfig</span><span style=\"color: #000000; text-decoration-color: #000000; font-weight: bold\">(</span><span style=\"color: #808000; text-decoration-color: #808000\">type</span><span style=\"color: #000000; text-decoration-color: #000000\">=&lt;VectorDatabase.CHROMA: </span><span style=\"color: #008000; text-decoration-color: #008000\">'chroma'</span><span style=\"font-weight: bold\">&gt;</span>,                      <span style=\"color: #7f7f7f; text-decoration-color: #7f7f7f\">                   </span>\n",
       "<span style=\"color: #7fbfbf; text-decoration-color: #7fbfbf\">           </span>         <span style=\"color: #808000; text-decoration-color: #808000\">vectordb_kwargs</span>=<span style=\"font-weight: bold\">{</span><span style=\"color: #008000; text-decoration-color: #008000\">'collection_metadata'</span>: <span style=\"font-weight: bold\">{</span><span style=\"color: #008000; text-decoration-color: #008000\">'hnsw:space'</span>: <span style=\"color: #008000; text-decoration-color: #008000\">'cosine'</span><span style=\"font-weight: bold\">}}</span>,          <span style=\"color: #7f7f7f; text-decoration-color: #7f7f7f\">                   </span>\n",
       "<span style=\"color: #7fbfbf; text-decoration-color: #7fbfbf\">           </span>         <span style=\"color: #808000; text-decoration-color: #808000\">custom_class</span>=<span style=\"color: #800080; text-decoration-color: #800080; font-style: italic\">None</span><span style=\"font-weight: bold\">)</span>, <span style=\"color: #008000; text-decoration-color: #008000\">'sampling_rate'</span>: <span style=\"color: #800080; text-decoration-color: #800080; font-style: italic\">None</span><span style=\"font-weight: bold\">}</span>                                  <span style=\"color: #7f7f7f; text-decoration-color: #7f7f7f\">                   </span>\n",
       "</pre>\n"
      ],
      "text/plain": [
       "\u001b[2;36m          \u001b[0m\u001b[2;36m \u001b[0m\u001b[34mINFO    \u001b[0m Trial parameters: \u001b[1m{\u001b[0m\u001b[32m'input_source'\u001b[0m: \u001b[32m'lillog_agents.pdf'\u001b[0m, \u001b[32m'test_dataset'\u001b[0m:     \u001b]8;id=239880;file:///Users/aravind/KruxAI/ragbuilder/src/ragbuilder/data_ingest/optimization.py\u001b\\\u001b[2moptimization.py\u001b[0m\u001b]8;;\u001b\\\u001b[2m:\u001b[0m\u001b]8;id=758299;file:///Users/aravind/KruxAI/ragbuilder/src/ragbuilder/data_ingest/optimization.py#192\u001b\\\u001b[2m192\u001b[0m\u001b]8;;\u001b\\\n",
       "\u001b[2;36m           \u001b[0m         \u001b[32m'rag_test_data_lilianweng_gpt-4o_1721032414.736622_SEMI.csv'\u001b[0m,               \u001b[2m                   \u001b[0m\n",
       "\u001b[2;36m           \u001b[0m         \u001b[32m'document_loader'\u001b[0m: \u001b[1;35mLoaderConfig\u001b[0m\u001b[1m(\u001b[0m\u001b[33mtype\u001b[0m=\u001b[1m<\u001b[0m\u001b[1;95mParserType.UNSTRUCTURED:\u001b[0m\u001b[39m \u001b[0m             \u001b[2m                   \u001b[0m\n",
       "\u001b[2;36m           \u001b[0m         \u001b[32m'unstructured'\u001b[0m\u001b[39m>, \u001b[0m\u001b[33mloader_kwargs\u001b[0m\u001b[39m=\u001b[0m\u001b[3;35mNone\u001b[0m\u001b[39m, \u001b[0m\u001b[33mcustom_class\u001b[0m\u001b[39m=\u001b[0m\u001b[3;35mNone\u001b[0m\u001b[1;39m)\u001b[0m\u001b[39m, \u001b[0m                   \u001b[2m                   \u001b[0m\n",
       "\u001b[2;36m           \u001b[0m         \u001b[32m'chunking_strategy'\u001b[0m\u001b[39m: \u001b[0m                                                       \u001b[2m                   \u001b[0m\n",
       "\u001b[2;36m           \u001b[0m         \u001b[1;35mChunkingStrategyConfig\u001b[0m\u001b[1;39m(\u001b[0m\u001b[33mtype\u001b[0m\u001b[39m=<ChunkingStrategy.RECURSIVE: \u001b[0m                   \u001b[2m                   \u001b[0m\n",
       "\u001b[2;36m           \u001b[0m         \u001b[32m'RecursiveCharacterTextSplitter'\u001b[0m\u001b[39m>, \u001b[0m\u001b[33mchunker_kwargs\u001b[0m\u001b[39m=\u001b[0m\u001b[3;35mNone\u001b[0m\u001b[39m, \u001b[0m\u001b[33mcustom_class\u001b[0m\u001b[39m=\u001b[0m\u001b[3;35mNone\u001b[0m\u001b[1;39m)\u001b[0m\u001b[39m,\u001b[0m \u001b[2m                   \u001b[0m\n",
       "\u001b[2;36m           \u001b[0m         \u001b[32m'chunk_overlap'\u001b[0m\u001b[39m: \u001b[0m\u001b[1;36m100\u001b[0m\u001b[39m, \u001b[0m\u001b[32m'chunk_size'\u001b[0m\u001b[39m: \u001b[0m\u001b[1;36m1500\u001b[0m\u001b[39m, \u001b[0m\u001b[32m'embedding_model'\u001b[0m\u001b[39m: \u001b[0m               \u001b[2m                   \u001b[0m\n",
       "\u001b[2;36m           \u001b[0m         \u001b[1;35mEmbeddingConfig\u001b[0m\u001b[1;39m(\u001b[0m\u001b[33mtype\u001b[0m\u001b[39m=<EmbeddingModel.HUGGINGFACE: \u001b[0m\u001b[32m'huggingface'\u001b[0m\u001b[39m>, \u001b[0m          \u001b[2m                   \u001b[0m\n",
       "\u001b[2;36m           \u001b[0m         \u001b[33mmodel_kwargs\u001b[0m\u001b[39m=\u001b[0m\u001b[1;39m{\u001b[0m\u001b[32m'model_name'\u001b[0m\u001b[39m: \u001b[0m\u001b[32m'mixedbread-ai/mxbai-embed-large-v1'\u001b[0m\u001b[1;39m}\u001b[0m\u001b[39m, \u001b[0m         \u001b[2m                   \u001b[0m\n",
       "\u001b[2;36m           \u001b[0m         \u001b[33mcustom_class\u001b[0m\u001b[39m=\u001b[0m\u001b[3;35mNone\u001b[0m\u001b[1;39m)\u001b[0m\u001b[39m, \u001b[0m\u001b[32m'vector_database'\u001b[0m\u001b[39m: \u001b[0m                                     \u001b[2m                   \u001b[0m\n",
       "\u001b[2;36m           \u001b[0m         \u001b[1;35mVectorDBConfig\u001b[0m\u001b[1;39m(\u001b[0m\u001b[33mtype\u001b[0m\u001b[39m=<VectorDatabase.CHROMA: \u001b[0m\u001b[32m'chroma'\u001b[0m\u001b[1m>\u001b[0m,                      \u001b[2m                   \u001b[0m\n",
       "\u001b[2;36m           \u001b[0m         \u001b[33mvectordb_kwargs\u001b[0m=\u001b[1m{\u001b[0m\u001b[32m'collection_metadata'\u001b[0m: \u001b[1m{\u001b[0m\u001b[32m'hnsw:space'\u001b[0m: \u001b[32m'cosine'\u001b[0m\u001b[1m}\u001b[0m\u001b[1m}\u001b[0m,          \u001b[2m                   \u001b[0m\n",
       "\u001b[2;36m           \u001b[0m         \u001b[33mcustom_class\u001b[0m=\u001b[3;35mNone\u001b[0m\u001b[1m)\u001b[0m, \u001b[32m'sampling_rate'\u001b[0m: \u001b[3;35mNone\u001b[0m\u001b[1m}\u001b[0m                                  \u001b[2m                   \u001b[0m\n"
      ]
     },
     "metadata": {},
     "output_type": "display_data"
    },
    {
     "data": {
      "text/html": [
       "<pre style=\"white-space:pre;overflow-x:auto;line-height:normal;font-family:Menlo,'DejaVu Sans Mono',consolas,'Courier New',monospace\"><span style=\"color: #7fbfbf; text-decoration-color: #7fbfbf\">           </span><span style=\"color: #000080; text-decoration-color: #000080\">INFO    </span> Load pretrained SentenceTransformer:                                 <a href=\"file:///opt/anaconda3/envs/ragbuilder/lib/python3.12/site-packages/sentence_transformers/SentenceTransformer.py\" target=\"_blank\"><span style=\"color: #7f7f7f; text-decoration-color: #7f7f7f\">SentenceTransformer.py</span></a><span style=\"color: #7f7f7f; text-decoration-color: #7f7f7f\">:</span><a href=\"file:///opt/anaconda3/envs/ragbuilder/lib/python3.12/site-packages/sentence_transformers/SentenceTransformer.py#113\" target=\"_blank\"><span style=\"color: #7f7f7f; text-decoration-color: #7f7f7f\">113</span></a>\n",
       "<span style=\"color: #7fbfbf; text-decoration-color: #7fbfbf\">           </span>         mixedbread-ai/mxbai-embed-large-v1                                   <span style=\"color: #7f7f7f; text-decoration-color: #7f7f7f\">                          </span>\n",
       "</pre>\n"
      ],
      "text/plain": [
       "\u001b[2;36m          \u001b[0m\u001b[2;36m \u001b[0m\u001b[34mINFO    \u001b[0m Load pretrained SentenceTransformer:                                 \u001b]8;id=548611;file:///opt/anaconda3/envs/ragbuilder/lib/python3.12/site-packages/sentence_transformers/SentenceTransformer.py\u001b\\\u001b[2mSentenceTransformer.py\u001b[0m\u001b]8;;\u001b\\\u001b[2m:\u001b[0m\u001b]8;id=176793;file:///opt/anaconda3/envs/ragbuilder/lib/python3.12/site-packages/sentence_transformers/SentenceTransformer.py#113\u001b\\\u001b[2m113\u001b[0m\u001b]8;;\u001b\\\n",
       "\u001b[2;36m           \u001b[0m         mixedbread-ai/mxbai-embed-large-v1                                   \u001b[2m                          \u001b[0m\n"
      ]
     },
     "metadata": {},
     "output_type": "display_data"
    },
    {
     "data": {
      "text/html": [
       "<pre style=\"white-space:pre;overflow-x:auto;line-height:normal;font-family:Menlo,'DejaVu Sans Mono',consolas,'Courier New',monospace\"><span style=\"color: #7fbfbf; text-decoration-color: #7fbfbf\">[00:57:15] </span><span style=\"color: #000080; text-decoration-color: #000080\">INFO    </span> Use pytorch device_name: mps                                         <a href=\"file:///opt/anaconda3/envs/ragbuilder/lib/python3.12/site-packages/sentence_transformers/SentenceTransformer.py\" target=\"_blank\"><span style=\"color: #7f7f7f; text-decoration-color: #7f7f7f\">SentenceTransformer.py</span></a><span style=\"color: #7f7f7f; text-decoration-color: #7f7f7f\">:</span><a href=\"file:///opt/anaconda3/envs/ragbuilder/lib/python3.12/site-packages/sentence_transformers/SentenceTransformer.py#219\" target=\"_blank\"><span style=\"color: #7f7f7f; text-decoration-color: #7f7f7f\">219</span></a>\n",
       "</pre>\n"
      ],
      "text/plain": [
       "\u001b[2;36m[00:57:15]\u001b[0m\u001b[2;36m \u001b[0m\u001b[34mINFO    \u001b[0m Use pytorch device_name: mps                                         \u001b]8;id=702373;file:///opt/anaconda3/envs/ragbuilder/lib/python3.12/site-packages/sentence_transformers/SentenceTransformer.py\u001b\\\u001b[2mSentenceTransformer.py\u001b[0m\u001b]8;;\u001b\\\u001b[2m:\u001b[0m\u001b]8;id=124277;file:///opt/anaconda3/envs/ragbuilder/lib/python3.12/site-packages/sentence_transformers/SentenceTransformer.py#219\u001b\\\u001b[2m219\u001b[0m\u001b]8;;\u001b\\\n"
      ]
     },
     "metadata": {},
     "output_type": "display_data"
    },
    {
     "data": {
      "text/html": [
       "<pre style=\"white-space:pre;overflow-x:auto;line-height:normal;font-family:Menlo,'DejaVu Sans Mono',consolas,'Courier New',monospace\"><span style=\"color: #7fbfbf; text-decoration-color: #7fbfbf\">[00:57:16] </span><span style=\"color: #000080; text-decoration-color: #000080\">INFO    </span> <span style=\"color: #008080; text-decoration-color: #008080; font-weight: bold\">2</span> prompts are loaded, with the keys: <span style=\"font-weight: bold\">[</span><span style=\"color: #008000; text-decoration-color: #008000\">'query'</span>, <span style=\"color: #008000; text-decoration-color: #008000\">'passage'</span><span style=\"font-weight: bold\">]</span>            <a href=\"file:///opt/anaconda3/envs/ragbuilder/lib/python3.12/site-packages/sentence_transformers/SentenceTransformer.py\" target=\"_blank\"><span style=\"color: #7f7f7f; text-decoration-color: #7f7f7f\">SentenceTransformer.py</span></a><span style=\"color: #7f7f7f; text-decoration-color: #7f7f7f\">:</span><a href=\"file:///opt/anaconda3/envs/ragbuilder/lib/python3.12/site-packages/sentence_transformers/SentenceTransformer.py#231\" target=\"_blank\"><span style=\"color: #7f7f7f; text-decoration-color: #7f7f7f\">231</span></a>\n",
       "</pre>\n"
      ],
      "text/plain": [
       "\u001b[2;36m[00:57:16]\u001b[0m\u001b[2;36m \u001b[0m\u001b[34mINFO    \u001b[0m \u001b[1;36m2\u001b[0m prompts are loaded, with the keys: \u001b[1m[\u001b[0m\u001b[32m'query'\u001b[0m, \u001b[32m'passage'\u001b[0m\u001b[1m]\u001b[0m            \u001b]8;id=202934;file:///opt/anaconda3/envs/ragbuilder/lib/python3.12/site-packages/sentence_transformers/SentenceTransformer.py\u001b\\\u001b[2mSentenceTransformer.py\u001b[0m\u001b]8;;\u001b\\\u001b[2m:\u001b[0m\u001b]8;id=953133;file:///opt/anaconda3/envs/ragbuilder/lib/python3.12/site-packages/sentence_transformers/SentenceTransformer.py#231\u001b\\\u001b[2m231\u001b[0m\u001b]8;;\u001b\\\n"
      ]
     },
     "metadata": {},
     "output_type": "display_data"
    },
    {
     "data": {
      "application/vnd.jupyter.widget-view+json": {
       "model_id": "4423ce169d3c45b19ae796c747044f02",
       "version_major": 2,
       "version_minor": 0
      },
      "text/plain": [
       "Output()"
      ]
     },
     "metadata": {},
     "output_type": "display_data"
    },
    {
     "data": {
      "text/html": [
       "<pre style=\"white-space:pre;overflow-x:auto;line-height:normal;font-family:Menlo,'DejaVu Sans Mono',consolas,'Courier New',monospace\"><span style=\"color: #008000; text-decoration-color: #008000\">✓ Pipeline execution complete!</span>\n",
       "</pre>\n"
      ],
      "text/plain": [
       "\u001b[32m✓ Pipeline execution complete!\u001b[0m\n"
      ]
     },
     "metadata": {},
     "output_type": "display_data"
    },
    {
     "data": {
      "text/html": [
       "<pre style=\"white-space:pre;overflow-x:auto;line-height:normal;font-family:Menlo,'DejaVu Sans Mono',consolas,'Courier New',monospace\"></pre>\n"
      ],
      "text/plain": []
     },
     "metadata": {},
     "output_type": "display_data"
    },
    {
     "data": {
      "text/html": [
       "<pre style=\"white-space:pre;overflow-x:auto;line-height:normal;font-family:Menlo,'DejaVu Sans Mono',consolas,'Courier New',monospace\"><span style=\"color: #008000; text-decoration-color: #008000\">Trial Score:</span> <span style=\"color: #00ffff; text-decoration-color: #00ffff; font-weight: bold\">0.8016</span>\n",
       "</pre>\n"
      ],
      "text/plain": [
       "\u001b[32mTrial Score:\u001b[0m \u001b[1;96m0.8016\u001b[0m\n"
      ]
     },
     "metadata": {},
     "output_type": "display_data"
    },
    {
     "name": "stdout",
     "output_type": "stream",
     "text": [
      "[I 2024-11-13 00:57:23,727] Trial 2 finished with value: 0.8015819494922954 and parameters: {'chunk_size': 1500}. Best is trial 2 with value: 0.8015819494922954.\n"
     ]
    },
    {
     "data": {
      "text/html": [
       "<pre style=\"white-space:pre;overflow-x:auto;line-height:normal;font-family:Menlo,'DejaVu Sans Mono',consolas,'Courier New',monospace\"><span style=\"color: #005fff; text-decoration-color: #005fff; font-weight: bold\">Trial </span><span style=\"color: #005fff; text-decoration-color: #005fff; font-weight: bold\">3</span><span style=\"color: #005fff; text-decoration-color: #005fff; font-weight: bold\">/</span><span style=\"color: #005fff; text-decoration-color: #005fff; font-weight: bold\">9</span>\n",
       "</pre>\n"
      ],
      "text/plain": [
       "\u001b[1;38;5;27mTrial \u001b[0m\u001b[1;38;5;27m3\u001b[0m\u001b[1;38;5;27m/\u001b[0m\u001b[1;38;5;27m9\u001b[0m\n"
      ]
     },
     "metadata": {},
     "output_type": "display_data"
    },
    {
     "data": {
      "text/html": [
       "<pre style=\"white-space:pre;overflow-x:auto;line-height:normal;font-family:Menlo,'DejaVu Sans Mono',consolas,'Courier New',monospace\"><span style=\"color: #7fbfbf; text-decoration-color: #7fbfbf\">[00:57:23] </span><span style=\"color: #000080; text-decoration-color: #000080\">INFO    </span> Trial parameters: <span style=\"font-weight: bold\">{</span><span style=\"color: #008000; text-decoration-color: #008000\">'input_source'</span>: <span style=\"color: #008000; text-decoration-color: #008000\">'lillog_agents.pdf'</span>, <span style=\"color: #008000; text-decoration-color: #008000\">'test_dataset'</span>:     <a href=\"file:///Users/aravind/KruxAI/ragbuilder/src/ragbuilder/data_ingest/optimization.py\" target=\"_blank\"><span style=\"color: #7f7f7f; text-decoration-color: #7f7f7f\">optimization.py</span></a><span style=\"color: #7f7f7f; text-decoration-color: #7f7f7f\">:</span><a href=\"file:///Users/aravind/KruxAI/ragbuilder/src/ragbuilder/data_ingest/optimization.py#192\" target=\"_blank\"><span style=\"color: #7f7f7f; text-decoration-color: #7f7f7f\">192</span></a>\n",
       "<span style=\"color: #7fbfbf; text-decoration-color: #7fbfbf\">           </span>         <span style=\"color: #008000; text-decoration-color: #008000\">'rag_test_data_lilianweng_gpt-4o_1721032414.736622_SEMI.csv'</span>,               <span style=\"color: #7f7f7f; text-decoration-color: #7f7f7f\">                   </span>\n",
       "<span style=\"color: #7fbfbf; text-decoration-color: #7fbfbf\">           </span>         <span style=\"color: #008000; text-decoration-color: #008000\">'document_loader'</span>: <span style=\"color: #800080; text-decoration-color: #800080; font-weight: bold\">LoaderConfig</span><span style=\"font-weight: bold\">(</span><span style=\"color: #808000; text-decoration-color: #808000\">type</span>=<span style=\"font-weight: bold\">&lt;</span><span style=\"color: #ff00ff; text-decoration-color: #ff00ff; font-weight: bold\">ParserType.UNSTRUCTURED:</span><span style=\"color: #000000; text-decoration-color: #000000\"> </span>             <span style=\"color: #7f7f7f; text-decoration-color: #7f7f7f\">                   </span>\n",
       "<span style=\"color: #7fbfbf; text-decoration-color: #7fbfbf\">           </span>         <span style=\"color: #008000; text-decoration-color: #008000\">'unstructured'</span><span style=\"color: #000000; text-decoration-color: #000000\">&gt;, </span><span style=\"color: #808000; text-decoration-color: #808000\">loader_kwargs</span><span style=\"color: #000000; text-decoration-color: #000000\">=</span><span style=\"color: #800080; text-decoration-color: #800080; font-style: italic\">None</span><span style=\"color: #000000; text-decoration-color: #000000\">, </span><span style=\"color: #808000; text-decoration-color: #808000\">custom_class</span><span style=\"color: #000000; text-decoration-color: #000000\">=</span><span style=\"color: #800080; text-decoration-color: #800080; font-style: italic\">None</span><span style=\"color: #000000; text-decoration-color: #000000; font-weight: bold\">)</span><span style=\"color: #000000; text-decoration-color: #000000\">, </span>                   <span style=\"color: #7f7f7f; text-decoration-color: #7f7f7f\">                   </span>\n",
       "<span style=\"color: #7fbfbf; text-decoration-color: #7fbfbf\">           </span>         <span style=\"color: #008000; text-decoration-color: #008000\">'chunking_strategy'</span><span style=\"color: #000000; text-decoration-color: #000000\">: </span>                                                       <span style=\"color: #7f7f7f; text-decoration-color: #7f7f7f\">                   </span>\n",
       "<span style=\"color: #7fbfbf; text-decoration-color: #7fbfbf\">           </span>         <span style=\"color: #800080; text-decoration-color: #800080; font-weight: bold\">ChunkingStrategyConfig</span><span style=\"color: #000000; text-decoration-color: #000000; font-weight: bold\">(</span><span style=\"color: #808000; text-decoration-color: #808000\">type</span><span style=\"color: #000000; text-decoration-color: #000000\">=&lt;ChunkingStrategy.RECURSIVE: </span>                   <span style=\"color: #7f7f7f; text-decoration-color: #7f7f7f\">                   </span>\n",
       "<span style=\"color: #7fbfbf; text-decoration-color: #7fbfbf\">           </span>         <span style=\"color: #008000; text-decoration-color: #008000\">'RecursiveCharacterTextSplitter'</span><span style=\"color: #000000; text-decoration-color: #000000\">&gt;, </span><span style=\"color: #808000; text-decoration-color: #808000\">chunker_kwargs</span><span style=\"color: #000000; text-decoration-color: #000000\">=</span><span style=\"color: #800080; text-decoration-color: #800080; font-style: italic\">None</span><span style=\"color: #000000; text-decoration-color: #000000\">, </span><span style=\"color: #808000; text-decoration-color: #808000\">custom_class</span><span style=\"color: #000000; text-decoration-color: #000000\">=</span><span style=\"color: #800080; text-decoration-color: #800080; font-style: italic\">None</span><span style=\"color: #000000; text-decoration-color: #000000; font-weight: bold\">)</span><span style=\"color: #000000; text-decoration-color: #000000\">,</span> <span style=\"color: #7f7f7f; text-decoration-color: #7f7f7f\">                   </span>\n",
       "<span style=\"color: #7fbfbf; text-decoration-color: #7fbfbf\">           </span>         <span style=\"color: #008000; text-decoration-color: #008000\">'chunk_overlap'</span><span style=\"color: #000000; text-decoration-color: #000000\">: </span><span style=\"color: #008080; text-decoration-color: #008080; font-weight: bold\">100</span><span style=\"color: #000000; text-decoration-color: #000000\">, </span><span style=\"color: #008000; text-decoration-color: #008000\">'chunk_size'</span><span style=\"color: #000000; text-decoration-color: #000000\">: </span><span style=\"color: #008080; text-decoration-color: #008080; font-weight: bold\">3000</span><span style=\"color: #000000; text-decoration-color: #000000\">, </span><span style=\"color: #008000; text-decoration-color: #008000\">'embedding_model'</span><span style=\"color: #000000; text-decoration-color: #000000\">: </span>               <span style=\"color: #7f7f7f; text-decoration-color: #7f7f7f\">                   </span>\n",
       "<span style=\"color: #7fbfbf; text-decoration-color: #7fbfbf\">           </span>         <span style=\"color: #800080; text-decoration-color: #800080; font-weight: bold\">EmbeddingConfig</span><span style=\"color: #000000; text-decoration-color: #000000; font-weight: bold\">(</span><span style=\"color: #808000; text-decoration-color: #808000\">type</span><span style=\"color: #000000; text-decoration-color: #000000\">=&lt;EmbeddingModel.HUGGINGFACE: </span><span style=\"color: #008000; text-decoration-color: #008000\">'huggingface'</span><span style=\"color: #000000; text-decoration-color: #000000\">&gt;, </span>          <span style=\"color: #7f7f7f; text-decoration-color: #7f7f7f\">                   </span>\n",
       "<span style=\"color: #7fbfbf; text-decoration-color: #7fbfbf\">           </span>         <span style=\"color: #808000; text-decoration-color: #808000\">model_kwargs</span><span style=\"color: #000000; text-decoration-color: #000000\">=</span><span style=\"color: #000000; text-decoration-color: #000000; font-weight: bold\">{</span><span style=\"color: #008000; text-decoration-color: #008000\">'model_name'</span><span style=\"color: #000000; text-decoration-color: #000000\">: </span><span style=\"color: #008000; text-decoration-color: #008000\">'mixedbread-ai/mxbai-embed-large-v1'</span><span style=\"color: #000000; text-decoration-color: #000000; font-weight: bold\">}</span><span style=\"color: #000000; text-decoration-color: #000000\">, </span>         <span style=\"color: #7f7f7f; text-decoration-color: #7f7f7f\">                   </span>\n",
       "<span style=\"color: #7fbfbf; text-decoration-color: #7fbfbf\">           </span>         <span style=\"color: #808000; text-decoration-color: #808000\">custom_class</span><span style=\"color: #000000; text-decoration-color: #000000\">=</span><span style=\"color: #800080; text-decoration-color: #800080; font-style: italic\">None</span><span style=\"color: #000000; text-decoration-color: #000000; font-weight: bold\">)</span><span style=\"color: #000000; text-decoration-color: #000000\">, </span><span style=\"color: #008000; text-decoration-color: #008000\">'vector_database'</span><span style=\"color: #000000; text-decoration-color: #000000\">: </span>                                     <span style=\"color: #7f7f7f; text-decoration-color: #7f7f7f\">                   </span>\n",
       "<span style=\"color: #7fbfbf; text-decoration-color: #7fbfbf\">           </span>         <span style=\"color: #800080; text-decoration-color: #800080; font-weight: bold\">VectorDBConfig</span><span style=\"color: #000000; text-decoration-color: #000000; font-weight: bold\">(</span><span style=\"color: #808000; text-decoration-color: #808000\">type</span><span style=\"color: #000000; text-decoration-color: #000000\">=&lt;VectorDatabase.CHROMA: </span><span style=\"color: #008000; text-decoration-color: #008000\">'chroma'</span><span style=\"font-weight: bold\">&gt;</span>,                      <span style=\"color: #7f7f7f; text-decoration-color: #7f7f7f\">                   </span>\n",
       "<span style=\"color: #7fbfbf; text-decoration-color: #7fbfbf\">           </span>         <span style=\"color: #808000; text-decoration-color: #808000\">vectordb_kwargs</span>=<span style=\"font-weight: bold\">{</span><span style=\"color: #008000; text-decoration-color: #008000\">'collection_metadata'</span>: <span style=\"font-weight: bold\">{</span><span style=\"color: #008000; text-decoration-color: #008000\">'hnsw:space'</span>: <span style=\"color: #008000; text-decoration-color: #008000\">'cosine'</span><span style=\"font-weight: bold\">}}</span>,          <span style=\"color: #7f7f7f; text-decoration-color: #7f7f7f\">                   </span>\n",
       "<span style=\"color: #7fbfbf; text-decoration-color: #7fbfbf\">           </span>         <span style=\"color: #808000; text-decoration-color: #808000\">custom_class</span>=<span style=\"color: #800080; text-decoration-color: #800080; font-style: italic\">None</span><span style=\"font-weight: bold\">)</span>, <span style=\"color: #008000; text-decoration-color: #008000\">'sampling_rate'</span>: <span style=\"color: #800080; text-decoration-color: #800080; font-style: italic\">None</span><span style=\"font-weight: bold\">}</span>                                  <span style=\"color: #7f7f7f; text-decoration-color: #7f7f7f\">                   </span>\n",
       "</pre>\n"
      ],
      "text/plain": [
       "\u001b[2;36m[00:57:23]\u001b[0m\u001b[2;36m \u001b[0m\u001b[34mINFO    \u001b[0m Trial parameters: \u001b[1m{\u001b[0m\u001b[32m'input_source'\u001b[0m: \u001b[32m'lillog_agents.pdf'\u001b[0m, \u001b[32m'test_dataset'\u001b[0m:     \u001b]8;id=746173;file:///Users/aravind/KruxAI/ragbuilder/src/ragbuilder/data_ingest/optimization.py\u001b\\\u001b[2moptimization.py\u001b[0m\u001b]8;;\u001b\\\u001b[2m:\u001b[0m\u001b]8;id=338555;file:///Users/aravind/KruxAI/ragbuilder/src/ragbuilder/data_ingest/optimization.py#192\u001b\\\u001b[2m192\u001b[0m\u001b]8;;\u001b\\\n",
       "\u001b[2;36m           \u001b[0m         \u001b[32m'rag_test_data_lilianweng_gpt-4o_1721032414.736622_SEMI.csv'\u001b[0m,               \u001b[2m                   \u001b[0m\n",
       "\u001b[2;36m           \u001b[0m         \u001b[32m'document_loader'\u001b[0m: \u001b[1;35mLoaderConfig\u001b[0m\u001b[1m(\u001b[0m\u001b[33mtype\u001b[0m=\u001b[1m<\u001b[0m\u001b[1;95mParserType.UNSTRUCTURED:\u001b[0m\u001b[39m \u001b[0m             \u001b[2m                   \u001b[0m\n",
       "\u001b[2;36m           \u001b[0m         \u001b[32m'unstructured'\u001b[0m\u001b[39m>, \u001b[0m\u001b[33mloader_kwargs\u001b[0m\u001b[39m=\u001b[0m\u001b[3;35mNone\u001b[0m\u001b[39m, \u001b[0m\u001b[33mcustom_class\u001b[0m\u001b[39m=\u001b[0m\u001b[3;35mNone\u001b[0m\u001b[1;39m)\u001b[0m\u001b[39m, \u001b[0m                   \u001b[2m                   \u001b[0m\n",
       "\u001b[2;36m           \u001b[0m         \u001b[32m'chunking_strategy'\u001b[0m\u001b[39m: \u001b[0m                                                       \u001b[2m                   \u001b[0m\n",
       "\u001b[2;36m           \u001b[0m         \u001b[1;35mChunkingStrategyConfig\u001b[0m\u001b[1;39m(\u001b[0m\u001b[33mtype\u001b[0m\u001b[39m=<ChunkingStrategy.RECURSIVE: \u001b[0m                   \u001b[2m                   \u001b[0m\n",
       "\u001b[2;36m           \u001b[0m         \u001b[32m'RecursiveCharacterTextSplitter'\u001b[0m\u001b[39m>, \u001b[0m\u001b[33mchunker_kwargs\u001b[0m\u001b[39m=\u001b[0m\u001b[3;35mNone\u001b[0m\u001b[39m, \u001b[0m\u001b[33mcustom_class\u001b[0m\u001b[39m=\u001b[0m\u001b[3;35mNone\u001b[0m\u001b[1;39m)\u001b[0m\u001b[39m,\u001b[0m \u001b[2m                   \u001b[0m\n",
       "\u001b[2;36m           \u001b[0m         \u001b[32m'chunk_overlap'\u001b[0m\u001b[39m: \u001b[0m\u001b[1;36m100\u001b[0m\u001b[39m, \u001b[0m\u001b[32m'chunk_size'\u001b[0m\u001b[39m: \u001b[0m\u001b[1;36m3000\u001b[0m\u001b[39m, \u001b[0m\u001b[32m'embedding_model'\u001b[0m\u001b[39m: \u001b[0m               \u001b[2m                   \u001b[0m\n",
       "\u001b[2;36m           \u001b[0m         \u001b[1;35mEmbeddingConfig\u001b[0m\u001b[1;39m(\u001b[0m\u001b[33mtype\u001b[0m\u001b[39m=<EmbeddingModel.HUGGINGFACE: \u001b[0m\u001b[32m'huggingface'\u001b[0m\u001b[39m>, \u001b[0m          \u001b[2m                   \u001b[0m\n",
       "\u001b[2;36m           \u001b[0m         \u001b[33mmodel_kwargs\u001b[0m\u001b[39m=\u001b[0m\u001b[1;39m{\u001b[0m\u001b[32m'model_name'\u001b[0m\u001b[39m: \u001b[0m\u001b[32m'mixedbread-ai/mxbai-embed-large-v1'\u001b[0m\u001b[1;39m}\u001b[0m\u001b[39m, \u001b[0m         \u001b[2m                   \u001b[0m\n",
       "\u001b[2;36m           \u001b[0m         \u001b[33mcustom_class\u001b[0m\u001b[39m=\u001b[0m\u001b[3;35mNone\u001b[0m\u001b[1;39m)\u001b[0m\u001b[39m, \u001b[0m\u001b[32m'vector_database'\u001b[0m\u001b[39m: \u001b[0m                                     \u001b[2m                   \u001b[0m\n",
       "\u001b[2;36m           \u001b[0m         \u001b[1;35mVectorDBConfig\u001b[0m\u001b[1;39m(\u001b[0m\u001b[33mtype\u001b[0m\u001b[39m=<VectorDatabase.CHROMA: \u001b[0m\u001b[32m'chroma'\u001b[0m\u001b[1m>\u001b[0m,                      \u001b[2m                   \u001b[0m\n",
       "\u001b[2;36m           \u001b[0m         \u001b[33mvectordb_kwargs\u001b[0m=\u001b[1m{\u001b[0m\u001b[32m'collection_metadata'\u001b[0m: \u001b[1m{\u001b[0m\u001b[32m'hnsw:space'\u001b[0m: \u001b[32m'cosine'\u001b[0m\u001b[1m}\u001b[0m\u001b[1m}\u001b[0m,          \u001b[2m                   \u001b[0m\n",
       "\u001b[2;36m           \u001b[0m         \u001b[33mcustom_class\u001b[0m=\u001b[3;35mNone\u001b[0m\u001b[1m)\u001b[0m, \u001b[32m'sampling_rate'\u001b[0m: \u001b[3;35mNone\u001b[0m\u001b[1m}\u001b[0m                                  \u001b[2m                   \u001b[0m\n"
      ]
     },
     "metadata": {},
     "output_type": "display_data"
    },
    {
     "data": {
      "text/html": [
       "<pre style=\"white-space:pre;overflow-x:auto;line-height:normal;font-family:Menlo,'DejaVu Sans Mono',consolas,'Courier New',monospace\"><span style=\"color: #7fbfbf; text-decoration-color: #7fbfbf\">           </span><span style=\"color: #000080; text-decoration-color: #000080\">INFO    </span> Load pretrained SentenceTransformer:                                 <a href=\"file:///opt/anaconda3/envs/ragbuilder/lib/python3.12/site-packages/sentence_transformers/SentenceTransformer.py\" target=\"_blank\"><span style=\"color: #7f7f7f; text-decoration-color: #7f7f7f\">SentenceTransformer.py</span></a><span style=\"color: #7f7f7f; text-decoration-color: #7f7f7f\">:</span><a href=\"file:///opt/anaconda3/envs/ragbuilder/lib/python3.12/site-packages/sentence_transformers/SentenceTransformer.py#113\" target=\"_blank\"><span style=\"color: #7f7f7f; text-decoration-color: #7f7f7f\">113</span></a>\n",
       "<span style=\"color: #7fbfbf; text-decoration-color: #7fbfbf\">           </span>         mixedbread-ai/mxbai-embed-large-v1                                   <span style=\"color: #7f7f7f; text-decoration-color: #7f7f7f\">                          </span>\n",
       "</pre>\n"
      ],
      "text/plain": [
       "\u001b[2;36m          \u001b[0m\u001b[2;36m \u001b[0m\u001b[34mINFO    \u001b[0m Load pretrained SentenceTransformer:                                 \u001b]8;id=105374;file:///opt/anaconda3/envs/ragbuilder/lib/python3.12/site-packages/sentence_transformers/SentenceTransformer.py\u001b\\\u001b[2mSentenceTransformer.py\u001b[0m\u001b]8;;\u001b\\\u001b[2m:\u001b[0m\u001b]8;id=520434;file:///opt/anaconda3/envs/ragbuilder/lib/python3.12/site-packages/sentence_transformers/SentenceTransformer.py#113\u001b\\\u001b[2m113\u001b[0m\u001b]8;;\u001b\\\n",
       "\u001b[2;36m           \u001b[0m         mixedbread-ai/mxbai-embed-large-v1                                   \u001b[2m                          \u001b[0m\n"
      ]
     },
     "metadata": {},
     "output_type": "display_data"
    },
    {
     "data": {
      "text/html": [
       "<pre style=\"white-space:pre;overflow-x:auto;line-height:normal;font-family:Menlo,'DejaVu Sans Mono',consolas,'Courier New',monospace\"><span style=\"color: #7fbfbf; text-decoration-color: #7fbfbf\">[00:57:27] </span><span style=\"color: #000080; text-decoration-color: #000080\">INFO    </span> Use pytorch device_name: mps                                         <a href=\"file:///opt/anaconda3/envs/ragbuilder/lib/python3.12/site-packages/sentence_transformers/SentenceTransformer.py\" target=\"_blank\"><span style=\"color: #7f7f7f; text-decoration-color: #7f7f7f\">SentenceTransformer.py</span></a><span style=\"color: #7f7f7f; text-decoration-color: #7f7f7f\">:</span><a href=\"file:///opt/anaconda3/envs/ragbuilder/lib/python3.12/site-packages/sentence_transformers/SentenceTransformer.py#219\" target=\"_blank\"><span style=\"color: #7f7f7f; text-decoration-color: #7f7f7f\">219</span></a>\n",
       "</pre>\n"
      ],
      "text/plain": [
       "\u001b[2;36m[00:57:27]\u001b[0m\u001b[2;36m \u001b[0m\u001b[34mINFO    \u001b[0m Use pytorch device_name: mps                                         \u001b]8;id=677210;file:///opt/anaconda3/envs/ragbuilder/lib/python3.12/site-packages/sentence_transformers/SentenceTransformer.py\u001b\\\u001b[2mSentenceTransformer.py\u001b[0m\u001b]8;;\u001b\\\u001b[2m:\u001b[0m\u001b]8;id=605562;file:///opt/anaconda3/envs/ragbuilder/lib/python3.12/site-packages/sentence_transformers/SentenceTransformer.py#219\u001b\\\u001b[2m219\u001b[0m\u001b]8;;\u001b\\\n"
      ]
     },
     "metadata": {},
     "output_type": "display_data"
    },
    {
     "data": {
      "text/html": [
       "<pre style=\"white-space:pre;overflow-x:auto;line-height:normal;font-family:Menlo,'DejaVu Sans Mono',consolas,'Courier New',monospace\"><span style=\"color: #7fbfbf; text-decoration-color: #7fbfbf\">[00:57:29] </span><span style=\"color: #000080; text-decoration-color: #000080\">INFO    </span> <span style=\"color: #008080; text-decoration-color: #008080; font-weight: bold\">2</span> prompts are loaded, with the keys: <span style=\"font-weight: bold\">[</span><span style=\"color: #008000; text-decoration-color: #008000\">'query'</span>, <span style=\"color: #008000; text-decoration-color: #008000\">'passage'</span><span style=\"font-weight: bold\">]</span>            <a href=\"file:///opt/anaconda3/envs/ragbuilder/lib/python3.12/site-packages/sentence_transformers/SentenceTransformer.py\" target=\"_blank\"><span style=\"color: #7f7f7f; text-decoration-color: #7f7f7f\">SentenceTransformer.py</span></a><span style=\"color: #7f7f7f; text-decoration-color: #7f7f7f\">:</span><a href=\"file:///opt/anaconda3/envs/ragbuilder/lib/python3.12/site-packages/sentence_transformers/SentenceTransformer.py#231\" target=\"_blank\"><span style=\"color: #7f7f7f; text-decoration-color: #7f7f7f\">231</span></a>\n",
       "</pre>\n"
      ],
      "text/plain": [
       "\u001b[2;36m[00:57:29]\u001b[0m\u001b[2;36m \u001b[0m\u001b[34mINFO    \u001b[0m \u001b[1;36m2\u001b[0m prompts are loaded, with the keys: \u001b[1m[\u001b[0m\u001b[32m'query'\u001b[0m, \u001b[32m'passage'\u001b[0m\u001b[1m]\u001b[0m            \u001b]8;id=819534;file:///opt/anaconda3/envs/ragbuilder/lib/python3.12/site-packages/sentence_transformers/SentenceTransformer.py\u001b\\\u001b[2mSentenceTransformer.py\u001b[0m\u001b]8;;\u001b\\\u001b[2m:\u001b[0m\u001b]8;id=558028;file:///opt/anaconda3/envs/ragbuilder/lib/python3.12/site-packages/sentence_transformers/SentenceTransformer.py#231\u001b\\\u001b[2m231\u001b[0m\u001b]8;;\u001b\\\n"
      ]
     },
     "metadata": {},
     "output_type": "display_data"
    },
    {
     "data": {
      "application/vnd.jupyter.widget-view+json": {
       "model_id": "de5409470e124451a19856ba9486af65",
       "version_major": 2,
       "version_minor": 0
      },
      "text/plain": [
       "Output()"
      ]
     },
     "metadata": {},
     "output_type": "display_data"
    },
    {
     "data": {
      "text/html": [
       "<pre style=\"white-space:pre;overflow-x:auto;line-height:normal;font-family:Menlo,'DejaVu Sans Mono',consolas,'Courier New',monospace\"><span style=\"color: #008000; text-decoration-color: #008000\">✓ Pipeline execution complete!</span>\n",
       "</pre>\n"
      ],
      "text/plain": [
       "\u001b[32m✓ Pipeline execution complete!\u001b[0m\n"
      ]
     },
     "metadata": {},
     "output_type": "display_data"
    },
    {
     "data": {
      "text/html": [
       "<pre style=\"white-space:pre;overflow-x:auto;line-height:normal;font-family:Menlo,'DejaVu Sans Mono',consolas,'Courier New',monospace\"></pre>\n"
      ],
      "text/plain": []
     },
     "metadata": {},
     "output_type": "display_data"
    },
    {
     "data": {
      "text/html": [
       "<pre style=\"white-space:pre;overflow-x:auto;line-height:normal;font-family:Menlo,'DejaVu Sans Mono',consolas,'Courier New',monospace\"><span style=\"color: #008000; text-decoration-color: #008000\">Trial Score:</span> <span style=\"color: #00ffff; text-decoration-color: #00ffff; font-weight: bold\">0.7655</span>\n",
       "</pre>\n"
      ],
      "text/plain": [
       "\u001b[32mTrial Score:\u001b[0m \u001b[1;96m0.7655\u001b[0m\n"
      ]
     },
     "metadata": {},
     "output_type": "display_data"
    },
    {
     "name": "stdout",
     "output_type": "stream",
     "text": [
      "[I 2024-11-13 00:57:34,770] Trial 3 finished with value: 0.7654710897803307 and parameters: {'chunk_size': 3000}. Best is trial 2 with value: 0.8015819494922954.\n"
     ]
    },
    {
     "data": {
      "text/html": [
       "<pre style=\"white-space:pre;overflow-x:auto;line-height:normal;font-family:Menlo,'DejaVu Sans Mono',consolas,'Courier New',monospace\"><span style=\"color: #005fff; text-decoration-color: #005fff; font-weight: bold\">Trial </span><span style=\"color: #005fff; text-decoration-color: #005fff; font-weight: bold\">4</span><span style=\"color: #005fff; text-decoration-color: #005fff; font-weight: bold\">/</span><span style=\"color: #005fff; text-decoration-color: #005fff; font-weight: bold\">9</span>\n",
       "</pre>\n"
      ],
      "text/plain": [
       "\u001b[1;38;5;27mTrial \u001b[0m\u001b[1;38;5;27m4\u001b[0m\u001b[1;38;5;27m/\u001b[0m\u001b[1;38;5;27m9\u001b[0m\n"
      ]
     },
     "metadata": {},
     "output_type": "display_data"
    },
    {
     "data": {
      "text/html": [
       "<pre style=\"white-space:pre;overflow-x:auto;line-height:normal;font-family:Menlo,'DejaVu Sans Mono',consolas,'Courier New',monospace\"><span style=\"color: #7fbfbf; text-decoration-color: #7fbfbf\">[00:57:34] </span><span style=\"color: #000080; text-decoration-color: #000080\">INFO    </span> Trial parameters: <span style=\"font-weight: bold\">{</span><span style=\"color: #008000; text-decoration-color: #008000\">'input_source'</span>: <span style=\"color: #008000; text-decoration-color: #008000\">'lillog_agents.pdf'</span>, <span style=\"color: #008000; text-decoration-color: #008000\">'test_dataset'</span>:     <a href=\"file:///Users/aravind/KruxAI/ragbuilder/src/ragbuilder/data_ingest/optimization.py\" target=\"_blank\"><span style=\"color: #7f7f7f; text-decoration-color: #7f7f7f\">optimization.py</span></a><span style=\"color: #7f7f7f; text-decoration-color: #7f7f7f\">:</span><a href=\"file:///Users/aravind/KruxAI/ragbuilder/src/ragbuilder/data_ingest/optimization.py#192\" target=\"_blank\"><span style=\"color: #7f7f7f; text-decoration-color: #7f7f7f\">192</span></a>\n",
       "<span style=\"color: #7fbfbf; text-decoration-color: #7fbfbf\">           </span>         <span style=\"color: #008000; text-decoration-color: #008000\">'rag_test_data_lilianweng_gpt-4o_1721032414.736622_SEMI.csv'</span>,               <span style=\"color: #7f7f7f; text-decoration-color: #7f7f7f\">                   </span>\n",
       "<span style=\"color: #7fbfbf; text-decoration-color: #7fbfbf\">           </span>         <span style=\"color: #008000; text-decoration-color: #008000\">'document_loader'</span>: <span style=\"color: #800080; text-decoration-color: #800080; font-weight: bold\">LoaderConfig</span><span style=\"font-weight: bold\">(</span><span style=\"color: #808000; text-decoration-color: #808000\">type</span>=<span style=\"font-weight: bold\">&lt;</span><span style=\"color: #ff00ff; text-decoration-color: #ff00ff; font-weight: bold\">ParserType.UNSTRUCTURED:</span><span style=\"color: #000000; text-decoration-color: #000000\"> </span>             <span style=\"color: #7f7f7f; text-decoration-color: #7f7f7f\">                   </span>\n",
       "<span style=\"color: #7fbfbf; text-decoration-color: #7fbfbf\">           </span>         <span style=\"color: #008000; text-decoration-color: #008000\">'unstructured'</span><span style=\"color: #000000; text-decoration-color: #000000\">&gt;, </span><span style=\"color: #808000; text-decoration-color: #808000\">loader_kwargs</span><span style=\"color: #000000; text-decoration-color: #000000\">=</span><span style=\"color: #800080; text-decoration-color: #800080; font-style: italic\">None</span><span style=\"color: #000000; text-decoration-color: #000000\">, </span><span style=\"color: #808000; text-decoration-color: #808000\">custom_class</span><span style=\"color: #000000; text-decoration-color: #000000\">=</span><span style=\"color: #800080; text-decoration-color: #800080; font-style: italic\">None</span><span style=\"color: #000000; text-decoration-color: #000000; font-weight: bold\">)</span><span style=\"color: #000000; text-decoration-color: #000000\">, </span>                   <span style=\"color: #7f7f7f; text-decoration-color: #7f7f7f\">                   </span>\n",
       "<span style=\"color: #7fbfbf; text-decoration-color: #7fbfbf\">           </span>         <span style=\"color: #008000; text-decoration-color: #008000\">'chunking_strategy'</span><span style=\"color: #000000; text-decoration-color: #000000\">: </span>                                                       <span style=\"color: #7f7f7f; text-decoration-color: #7f7f7f\">                   </span>\n",
       "<span style=\"color: #7fbfbf; text-decoration-color: #7fbfbf\">           </span>         <span style=\"color: #800080; text-decoration-color: #800080; font-weight: bold\">ChunkingStrategyConfig</span><span style=\"color: #000000; text-decoration-color: #000000; font-weight: bold\">(</span><span style=\"color: #808000; text-decoration-color: #808000\">type</span><span style=\"color: #000000; text-decoration-color: #000000\">=&lt;ChunkingStrategy.RECURSIVE: </span>                   <span style=\"color: #7f7f7f; text-decoration-color: #7f7f7f\">                   </span>\n",
       "<span style=\"color: #7fbfbf; text-decoration-color: #7fbfbf\">           </span>         <span style=\"color: #008000; text-decoration-color: #008000\">'RecursiveCharacterTextSplitter'</span><span style=\"color: #000000; text-decoration-color: #000000\">&gt;, </span><span style=\"color: #808000; text-decoration-color: #808000\">chunker_kwargs</span><span style=\"color: #000000; text-decoration-color: #000000\">=</span><span style=\"color: #800080; text-decoration-color: #800080; font-style: italic\">None</span><span style=\"color: #000000; text-decoration-color: #000000\">, </span><span style=\"color: #808000; text-decoration-color: #808000\">custom_class</span><span style=\"color: #000000; text-decoration-color: #000000\">=</span><span style=\"color: #800080; text-decoration-color: #800080; font-style: italic\">None</span><span style=\"color: #000000; text-decoration-color: #000000; font-weight: bold\">)</span><span style=\"color: #000000; text-decoration-color: #000000\">,</span> <span style=\"color: #7f7f7f; text-decoration-color: #7f7f7f\">                   </span>\n",
       "<span style=\"color: #7fbfbf; text-decoration-color: #7fbfbf\">           </span>         <span style=\"color: #008000; text-decoration-color: #008000\">'chunk_overlap'</span><span style=\"color: #000000; text-decoration-color: #000000\">: </span><span style=\"color: #008080; text-decoration-color: #008080; font-weight: bold\">100</span><span style=\"color: #000000; text-decoration-color: #000000\">, </span><span style=\"color: #008000; text-decoration-color: #008000\">'chunk_size'</span><span style=\"color: #000000; text-decoration-color: #000000\">: </span><span style=\"color: #008080; text-decoration-color: #008080; font-weight: bold\">3000</span><span style=\"color: #000000; text-decoration-color: #000000\">, </span><span style=\"color: #008000; text-decoration-color: #008000\">'embedding_model'</span><span style=\"color: #000000; text-decoration-color: #000000\">: </span>               <span style=\"color: #7f7f7f; text-decoration-color: #7f7f7f\">                   </span>\n",
       "<span style=\"color: #7fbfbf; text-decoration-color: #7fbfbf\">           </span>         <span style=\"color: #800080; text-decoration-color: #800080; font-weight: bold\">EmbeddingConfig</span><span style=\"color: #000000; text-decoration-color: #000000; font-weight: bold\">(</span><span style=\"color: #808000; text-decoration-color: #808000\">type</span><span style=\"color: #000000; text-decoration-color: #000000\">=&lt;EmbeddingModel.HUGGINGFACE: </span><span style=\"color: #008000; text-decoration-color: #008000\">'huggingface'</span><span style=\"color: #000000; text-decoration-color: #000000\">&gt;, </span>          <span style=\"color: #7f7f7f; text-decoration-color: #7f7f7f\">                   </span>\n",
       "<span style=\"color: #7fbfbf; text-decoration-color: #7fbfbf\">           </span>         <span style=\"color: #808000; text-decoration-color: #808000\">model_kwargs</span><span style=\"color: #000000; text-decoration-color: #000000\">=</span><span style=\"color: #000000; text-decoration-color: #000000; font-weight: bold\">{</span><span style=\"color: #008000; text-decoration-color: #008000\">'model_name'</span><span style=\"color: #000000; text-decoration-color: #000000\">: </span><span style=\"color: #008000; text-decoration-color: #008000\">'mixedbread-ai/mxbai-embed-large-v1'</span><span style=\"color: #000000; text-decoration-color: #000000; font-weight: bold\">}</span><span style=\"color: #000000; text-decoration-color: #000000\">, </span>         <span style=\"color: #7f7f7f; text-decoration-color: #7f7f7f\">                   </span>\n",
       "<span style=\"color: #7fbfbf; text-decoration-color: #7fbfbf\">           </span>         <span style=\"color: #808000; text-decoration-color: #808000\">custom_class</span><span style=\"color: #000000; text-decoration-color: #000000\">=</span><span style=\"color: #800080; text-decoration-color: #800080; font-style: italic\">None</span><span style=\"color: #000000; text-decoration-color: #000000; font-weight: bold\">)</span><span style=\"color: #000000; text-decoration-color: #000000\">, </span><span style=\"color: #008000; text-decoration-color: #008000\">'vector_database'</span><span style=\"color: #000000; text-decoration-color: #000000\">: </span>                                     <span style=\"color: #7f7f7f; text-decoration-color: #7f7f7f\">                   </span>\n",
       "<span style=\"color: #7fbfbf; text-decoration-color: #7fbfbf\">           </span>         <span style=\"color: #800080; text-decoration-color: #800080; font-weight: bold\">VectorDBConfig</span><span style=\"color: #000000; text-decoration-color: #000000; font-weight: bold\">(</span><span style=\"color: #808000; text-decoration-color: #808000\">type</span><span style=\"color: #000000; text-decoration-color: #000000\">=&lt;VectorDatabase.CHROMA: </span><span style=\"color: #008000; text-decoration-color: #008000\">'chroma'</span><span style=\"font-weight: bold\">&gt;</span>,                      <span style=\"color: #7f7f7f; text-decoration-color: #7f7f7f\">                   </span>\n",
       "<span style=\"color: #7fbfbf; text-decoration-color: #7fbfbf\">           </span>         <span style=\"color: #808000; text-decoration-color: #808000\">vectordb_kwargs</span>=<span style=\"font-weight: bold\">{</span><span style=\"color: #008000; text-decoration-color: #008000\">'collection_metadata'</span>: <span style=\"font-weight: bold\">{</span><span style=\"color: #008000; text-decoration-color: #008000\">'hnsw:space'</span>: <span style=\"color: #008000; text-decoration-color: #008000\">'cosine'</span><span style=\"font-weight: bold\">}}</span>,          <span style=\"color: #7f7f7f; text-decoration-color: #7f7f7f\">                   </span>\n",
       "<span style=\"color: #7fbfbf; text-decoration-color: #7fbfbf\">           </span>         <span style=\"color: #808000; text-decoration-color: #808000\">custom_class</span>=<span style=\"color: #800080; text-decoration-color: #800080; font-style: italic\">None</span><span style=\"font-weight: bold\">)</span>, <span style=\"color: #008000; text-decoration-color: #008000\">'sampling_rate'</span>: <span style=\"color: #800080; text-decoration-color: #800080; font-style: italic\">None</span><span style=\"font-weight: bold\">}</span>                                  <span style=\"color: #7f7f7f; text-decoration-color: #7f7f7f\">                   </span>\n",
       "</pre>\n"
      ],
      "text/plain": [
       "\u001b[2;36m[00:57:34]\u001b[0m\u001b[2;36m \u001b[0m\u001b[34mINFO    \u001b[0m Trial parameters: \u001b[1m{\u001b[0m\u001b[32m'input_source'\u001b[0m: \u001b[32m'lillog_agents.pdf'\u001b[0m, \u001b[32m'test_dataset'\u001b[0m:     \u001b]8;id=856446;file:///Users/aravind/KruxAI/ragbuilder/src/ragbuilder/data_ingest/optimization.py\u001b\\\u001b[2moptimization.py\u001b[0m\u001b]8;;\u001b\\\u001b[2m:\u001b[0m\u001b]8;id=922865;file:///Users/aravind/KruxAI/ragbuilder/src/ragbuilder/data_ingest/optimization.py#192\u001b\\\u001b[2m192\u001b[0m\u001b]8;;\u001b\\\n",
       "\u001b[2;36m           \u001b[0m         \u001b[32m'rag_test_data_lilianweng_gpt-4o_1721032414.736622_SEMI.csv'\u001b[0m,               \u001b[2m                   \u001b[0m\n",
       "\u001b[2;36m           \u001b[0m         \u001b[32m'document_loader'\u001b[0m: \u001b[1;35mLoaderConfig\u001b[0m\u001b[1m(\u001b[0m\u001b[33mtype\u001b[0m=\u001b[1m<\u001b[0m\u001b[1;95mParserType.UNSTRUCTURED:\u001b[0m\u001b[39m \u001b[0m             \u001b[2m                   \u001b[0m\n",
       "\u001b[2;36m           \u001b[0m         \u001b[32m'unstructured'\u001b[0m\u001b[39m>, \u001b[0m\u001b[33mloader_kwargs\u001b[0m\u001b[39m=\u001b[0m\u001b[3;35mNone\u001b[0m\u001b[39m, \u001b[0m\u001b[33mcustom_class\u001b[0m\u001b[39m=\u001b[0m\u001b[3;35mNone\u001b[0m\u001b[1;39m)\u001b[0m\u001b[39m, \u001b[0m                   \u001b[2m                   \u001b[0m\n",
       "\u001b[2;36m           \u001b[0m         \u001b[32m'chunking_strategy'\u001b[0m\u001b[39m: \u001b[0m                                                       \u001b[2m                   \u001b[0m\n",
       "\u001b[2;36m           \u001b[0m         \u001b[1;35mChunkingStrategyConfig\u001b[0m\u001b[1;39m(\u001b[0m\u001b[33mtype\u001b[0m\u001b[39m=<ChunkingStrategy.RECURSIVE: \u001b[0m                   \u001b[2m                   \u001b[0m\n",
       "\u001b[2;36m           \u001b[0m         \u001b[32m'RecursiveCharacterTextSplitter'\u001b[0m\u001b[39m>, \u001b[0m\u001b[33mchunker_kwargs\u001b[0m\u001b[39m=\u001b[0m\u001b[3;35mNone\u001b[0m\u001b[39m, \u001b[0m\u001b[33mcustom_class\u001b[0m\u001b[39m=\u001b[0m\u001b[3;35mNone\u001b[0m\u001b[1;39m)\u001b[0m\u001b[39m,\u001b[0m \u001b[2m                   \u001b[0m\n",
       "\u001b[2;36m           \u001b[0m         \u001b[32m'chunk_overlap'\u001b[0m\u001b[39m: \u001b[0m\u001b[1;36m100\u001b[0m\u001b[39m, \u001b[0m\u001b[32m'chunk_size'\u001b[0m\u001b[39m: \u001b[0m\u001b[1;36m3000\u001b[0m\u001b[39m, \u001b[0m\u001b[32m'embedding_model'\u001b[0m\u001b[39m: \u001b[0m               \u001b[2m                   \u001b[0m\n",
       "\u001b[2;36m           \u001b[0m         \u001b[1;35mEmbeddingConfig\u001b[0m\u001b[1;39m(\u001b[0m\u001b[33mtype\u001b[0m\u001b[39m=<EmbeddingModel.HUGGINGFACE: \u001b[0m\u001b[32m'huggingface'\u001b[0m\u001b[39m>, \u001b[0m          \u001b[2m                   \u001b[0m\n",
       "\u001b[2;36m           \u001b[0m         \u001b[33mmodel_kwargs\u001b[0m\u001b[39m=\u001b[0m\u001b[1;39m{\u001b[0m\u001b[32m'model_name'\u001b[0m\u001b[39m: \u001b[0m\u001b[32m'mixedbread-ai/mxbai-embed-large-v1'\u001b[0m\u001b[1;39m}\u001b[0m\u001b[39m, \u001b[0m         \u001b[2m                   \u001b[0m\n",
       "\u001b[2;36m           \u001b[0m         \u001b[33mcustom_class\u001b[0m\u001b[39m=\u001b[0m\u001b[3;35mNone\u001b[0m\u001b[1;39m)\u001b[0m\u001b[39m, \u001b[0m\u001b[32m'vector_database'\u001b[0m\u001b[39m: \u001b[0m                                     \u001b[2m                   \u001b[0m\n",
       "\u001b[2;36m           \u001b[0m         \u001b[1;35mVectorDBConfig\u001b[0m\u001b[1;39m(\u001b[0m\u001b[33mtype\u001b[0m\u001b[39m=<VectorDatabase.CHROMA: \u001b[0m\u001b[32m'chroma'\u001b[0m\u001b[1m>\u001b[0m,                      \u001b[2m                   \u001b[0m\n",
       "\u001b[2;36m           \u001b[0m         \u001b[33mvectordb_kwargs\u001b[0m=\u001b[1m{\u001b[0m\u001b[32m'collection_metadata'\u001b[0m: \u001b[1m{\u001b[0m\u001b[32m'hnsw:space'\u001b[0m: \u001b[32m'cosine'\u001b[0m\u001b[1m}\u001b[0m\u001b[1m}\u001b[0m,          \u001b[2m                   \u001b[0m\n",
       "\u001b[2;36m           \u001b[0m         \u001b[33mcustom_class\u001b[0m=\u001b[3;35mNone\u001b[0m\u001b[1m)\u001b[0m, \u001b[32m'sampling_rate'\u001b[0m: \u001b[3;35mNone\u001b[0m\u001b[1m}\u001b[0m                                  \u001b[2m                   \u001b[0m\n"
      ]
     },
     "metadata": {},
     "output_type": "display_data"
    },
    {
     "data": {
      "text/html": [
       "<pre style=\"white-space:pre;overflow-x:auto;line-height:normal;font-family:Menlo,'DejaVu Sans Mono',consolas,'Courier New',monospace\"><span style=\"color: #7fbfbf; text-decoration-color: #7fbfbf\">           </span><span style=\"color: #000080; text-decoration-color: #000080\">INFO    </span> Config already evaluated with score: <span style=\"color: #008080; text-decoration-color: #008080; font-weight: bold\">0.7654710897803307</span>                      <a href=\"file:///Users/aravind/KruxAI/ragbuilder/src/ragbuilder/data_ingest/optimization.py\" target=\"_blank\"><span style=\"color: #7f7f7f; text-decoration-color: #7f7f7f\">optimization.py</span></a><span style=\"color: #7f7f7f; text-decoration-color: #7f7f7f\">:</span><a href=\"file:///Users/aravind/KruxAI/ragbuilder/src/ragbuilder/data_ingest/optimization.py#63\" target=\"_blank\"><span style=\"color: #7f7f7f; text-decoration-color: #7f7f7f\">63</span></a>\n",
       "</pre>\n"
      ],
      "text/plain": [
       "\u001b[2;36m          \u001b[0m\u001b[2;36m \u001b[0m\u001b[34mINFO    \u001b[0m Config already evaluated with score: \u001b[1;36m0.7654710897803307\u001b[0m                      \u001b]8;id=468373;file:///Users/aravind/KruxAI/ragbuilder/src/ragbuilder/data_ingest/optimization.py\u001b\\\u001b[2moptimization.py\u001b[0m\u001b]8;;\u001b\\\u001b[2m:\u001b[0m\u001b]8;id=313357;file:///Users/aravind/KruxAI/ragbuilder/src/ragbuilder/data_ingest/optimization.py#63\u001b\\\u001b[2m63\u001b[0m\u001b]8;;\u001b\\\n"
      ]
     },
     "metadata": {},
     "output_type": "display_data"
    },
    {
     "name": "stdout",
     "output_type": "stream",
     "text": [
      "[I 2024-11-13 00:57:34,775] Trial 4 finished with value: 0.7654710897803307 and parameters: {'chunk_size': 3000}. Best is trial 2 with value: 0.8015819494922954.\n"
     ]
    },
    {
     "data": {
      "text/html": [
       "<pre style=\"white-space:pre;overflow-x:auto;line-height:normal;font-family:Menlo,'DejaVu Sans Mono',consolas,'Courier New',monospace\"><span style=\"color: #005fff; text-decoration-color: #005fff; font-weight: bold\">Trial </span><span style=\"color: #005fff; text-decoration-color: #005fff; font-weight: bold\">5</span><span style=\"color: #005fff; text-decoration-color: #005fff; font-weight: bold\">/</span><span style=\"color: #005fff; text-decoration-color: #005fff; font-weight: bold\">9</span>\n",
       "</pre>\n"
      ],
      "text/plain": [
       "\u001b[1;38;5;27mTrial \u001b[0m\u001b[1;38;5;27m5\u001b[0m\u001b[1;38;5;27m/\u001b[0m\u001b[1;38;5;27m9\u001b[0m\n"
      ]
     },
     "metadata": {},
     "output_type": "display_data"
    },
    {
     "data": {
      "text/html": [
       "<pre style=\"white-space:pre;overflow-x:auto;line-height:normal;font-family:Menlo,'DejaVu Sans Mono',consolas,'Courier New',monospace\"><span style=\"color: #7fbfbf; text-decoration-color: #7fbfbf\">           </span><span style=\"color: #000080; text-decoration-color: #000080\">INFO    </span> Trial parameters: <span style=\"font-weight: bold\">{</span><span style=\"color: #008000; text-decoration-color: #008000\">'input_source'</span>: <span style=\"color: #008000; text-decoration-color: #008000\">'lillog_agents.pdf'</span>, <span style=\"color: #008000; text-decoration-color: #008000\">'test_dataset'</span>:     <a href=\"file:///Users/aravind/KruxAI/ragbuilder/src/ragbuilder/data_ingest/optimization.py\" target=\"_blank\"><span style=\"color: #7f7f7f; text-decoration-color: #7f7f7f\">optimization.py</span></a><span style=\"color: #7f7f7f; text-decoration-color: #7f7f7f\">:</span><a href=\"file:///Users/aravind/KruxAI/ragbuilder/src/ragbuilder/data_ingest/optimization.py#192\" target=\"_blank\"><span style=\"color: #7f7f7f; text-decoration-color: #7f7f7f\">192</span></a>\n",
       "<span style=\"color: #7fbfbf; text-decoration-color: #7fbfbf\">           </span>         <span style=\"color: #008000; text-decoration-color: #008000\">'rag_test_data_lilianweng_gpt-4o_1721032414.736622_SEMI.csv'</span>,               <span style=\"color: #7f7f7f; text-decoration-color: #7f7f7f\">                   </span>\n",
       "<span style=\"color: #7fbfbf; text-decoration-color: #7fbfbf\">           </span>         <span style=\"color: #008000; text-decoration-color: #008000\">'document_loader'</span>: <span style=\"color: #800080; text-decoration-color: #800080; font-weight: bold\">LoaderConfig</span><span style=\"font-weight: bold\">(</span><span style=\"color: #808000; text-decoration-color: #808000\">type</span>=<span style=\"font-weight: bold\">&lt;</span><span style=\"color: #ff00ff; text-decoration-color: #ff00ff; font-weight: bold\">ParserType.UNSTRUCTURED:</span><span style=\"color: #000000; text-decoration-color: #000000\"> </span>             <span style=\"color: #7f7f7f; text-decoration-color: #7f7f7f\">                   </span>\n",
       "<span style=\"color: #7fbfbf; text-decoration-color: #7fbfbf\">           </span>         <span style=\"color: #008000; text-decoration-color: #008000\">'unstructured'</span><span style=\"color: #000000; text-decoration-color: #000000\">&gt;, </span><span style=\"color: #808000; text-decoration-color: #808000\">loader_kwargs</span><span style=\"color: #000000; text-decoration-color: #000000\">=</span><span style=\"color: #800080; text-decoration-color: #800080; font-style: italic\">None</span><span style=\"color: #000000; text-decoration-color: #000000\">, </span><span style=\"color: #808000; text-decoration-color: #808000\">custom_class</span><span style=\"color: #000000; text-decoration-color: #000000\">=</span><span style=\"color: #800080; text-decoration-color: #800080; font-style: italic\">None</span><span style=\"color: #000000; text-decoration-color: #000000; font-weight: bold\">)</span><span style=\"color: #000000; text-decoration-color: #000000\">, </span>                   <span style=\"color: #7f7f7f; text-decoration-color: #7f7f7f\">                   </span>\n",
       "<span style=\"color: #7fbfbf; text-decoration-color: #7fbfbf\">           </span>         <span style=\"color: #008000; text-decoration-color: #008000\">'chunking_strategy'</span><span style=\"color: #000000; text-decoration-color: #000000\">: </span>                                                       <span style=\"color: #7f7f7f; text-decoration-color: #7f7f7f\">                   </span>\n",
       "<span style=\"color: #7fbfbf; text-decoration-color: #7fbfbf\">           </span>         <span style=\"color: #800080; text-decoration-color: #800080; font-weight: bold\">ChunkingStrategyConfig</span><span style=\"color: #000000; text-decoration-color: #000000; font-weight: bold\">(</span><span style=\"color: #808000; text-decoration-color: #808000\">type</span><span style=\"color: #000000; text-decoration-color: #000000\">=&lt;ChunkingStrategy.RECURSIVE: </span>                   <span style=\"color: #7f7f7f; text-decoration-color: #7f7f7f\">                   </span>\n",
       "<span style=\"color: #7fbfbf; text-decoration-color: #7fbfbf\">           </span>         <span style=\"color: #008000; text-decoration-color: #008000\">'RecursiveCharacterTextSplitter'</span><span style=\"color: #000000; text-decoration-color: #000000\">&gt;, </span><span style=\"color: #808000; text-decoration-color: #808000\">chunker_kwargs</span><span style=\"color: #000000; text-decoration-color: #000000\">=</span><span style=\"color: #800080; text-decoration-color: #800080; font-style: italic\">None</span><span style=\"color: #000000; text-decoration-color: #000000\">, </span><span style=\"color: #808000; text-decoration-color: #808000\">custom_class</span><span style=\"color: #000000; text-decoration-color: #000000\">=</span><span style=\"color: #800080; text-decoration-color: #800080; font-style: italic\">None</span><span style=\"color: #000000; text-decoration-color: #000000; font-weight: bold\">)</span><span style=\"color: #000000; text-decoration-color: #000000\">,</span> <span style=\"color: #7f7f7f; text-decoration-color: #7f7f7f\">                   </span>\n",
       "<span style=\"color: #7fbfbf; text-decoration-color: #7fbfbf\">           </span>         <span style=\"color: #008000; text-decoration-color: #008000\">'chunk_overlap'</span><span style=\"color: #000000; text-decoration-color: #000000\">: </span><span style=\"color: #008080; text-decoration-color: #008080; font-weight: bold\">100</span><span style=\"color: #000000; text-decoration-color: #000000\">, </span><span style=\"color: #008000; text-decoration-color: #008000\">'chunk_size'</span><span style=\"color: #000000; text-decoration-color: #000000\">: </span><span style=\"color: #008080; text-decoration-color: #008080; font-weight: bold\">1000</span><span style=\"color: #000000; text-decoration-color: #000000\">, </span><span style=\"color: #008000; text-decoration-color: #008000\">'embedding_model'</span><span style=\"color: #000000; text-decoration-color: #000000\">: </span>               <span style=\"color: #7f7f7f; text-decoration-color: #7f7f7f\">                   </span>\n",
       "<span style=\"color: #7fbfbf; text-decoration-color: #7fbfbf\">           </span>         <span style=\"color: #800080; text-decoration-color: #800080; font-weight: bold\">EmbeddingConfig</span><span style=\"color: #000000; text-decoration-color: #000000; font-weight: bold\">(</span><span style=\"color: #808000; text-decoration-color: #808000\">type</span><span style=\"color: #000000; text-decoration-color: #000000\">=&lt;EmbeddingModel.HUGGINGFACE: </span><span style=\"color: #008000; text-decoration-color: #008000\">'huggingface'</span><span style=\"color: #000000; text-decoration-color: #000000\">&gt;, </span>          <span style=\"color: #7f7f7f; text-decoration-color: #7f7f7f\">                   </span>\n",
       "<span style=\"color: #7fbfbf; text-decoration-color: #7fbfbf\">           </span>         <span style=\"color: #808000; text-decoration-color: #808000\">model_kwargs</span><span style=\"color: #000000; text-decoration-color: #000000\">=</span><span style=\"color: #000000; text-decoration-color: #000000; font-weight: bold\">{</span><span style=\"color: #008000; text-decoration-color: #008000\">'model_name'</span><span style=\"color: #000000; text-decoration-color: #000000\">: </span><span style=\"color: #008000; text-decoration-color: #008000\">'mixedbread-ai/mxbai-embed-large-v1'</span><span style=\"color: #000000; text-decoration-color: #000000; font-weight: bold\">}</span><span style=\"color: #000000; text-decoration-color: #000000\">, </span>         <span style=\"color: #7f7f7f; text-decoration-color: #7f7f7f\">                   </span>\n",
       "<span style=\"color: #7fbfbf; text-decoration-color: #7fbfbf\">           </span>         <span style=\"color: #808000; text-decoration-color: #808000\">custom_class</span><span style=\"color: #000000; text-decoration-color: #000000\">=</span><span style=\"color: #800080; text-decoration-color: #800080; font-style: italic\">None</span><span style=\"color: #000000; text-decoration-color: #000000; font-weight: bold\">)</span><span style=\"color: #000000; text-decoration-color: #000000\">, </span><span style=\"color: #008000; text-decoration-color: #008000\">'vector_database'</span><span style=\"color: #000000; text-decoration-color: #000000\">: </span>                                     <span style=\"color: #7f7f7f; text-decoration-color: #7f7f7f\">                   </span>\n",
       "<span style=\"color: #7fbfbf; text-decoration-color: #7fbfbf\">           </span>         <span style=\"color: #800080; text-decoration-color: #800080; font-weight: bold\">VectorDBConfig</span><span style=\"color: #000000; text-decoration-color: #000000; font-weight: bold\">(</span><span style=\"color: #808000; text-decoration-color: #808000\">type</span><span style=\"color: #000000; text-decoration-color: #000000\">=&lt;VectorDatabase.CHROMA: </span><span style=\"color: #008000; text-decoration-color: #008000\">'chroma'</span><span style=\"font-weight: bold\">&gt;</span>,                      <span style=\"color: #7f7f7f; text-decoration-color: #7f7f7f\">                   </span>\n",
       "<span style=\"color: #7fbfbf; text-decoration-color: #7fbfbf\">           </span>         <span style=\"color: #808000; text-decoration-color: #808000\">vectordb_kwargs</span>=<span style=\"font-weight: bold\">{</span><span style=\"color: #008000; text-decoration-color: #008000\">'collection_metadata'</span>: <span style=\"font-weight: bold\">{</span><span style=\"color: #008000; text-decoration-color: #008000\">'hnsw:space'</span>: <span style=\"color: #008000; text-decoration-color: #008000\">'cosine'</span><span style=\"font-weight: bold\">}}</span>,          <span style=\"color: #7f7f7f; text-decoration-color: #7f7f7f\">                   </span>\n",
       "<span style=\"color: #7fbfbf; text-decoration-color: #7fbfbf\">           </span>         <span style=\"color: #808000; text-decoration-color: #808000\">custom_class</span>=<span style=\"color: #800080; text-decoration-color: #800080; font-style: italic\">None</span><span style=\"font-weight: bold\">)</span>, <span style=\"color: #008000; text-decoration-color: #008000\">'sampling_rate'</span>: <span style=\"color: #800080; text-decoration-color: #800080; font-style: italic\">None</span><span style=\"font-weight: bold\">}</span>                                  <span style=\"color: #7f7f7f; text-decoration-color: #7f7f7f\">                   </span>\n",
       "</pre>\n"
      ],
      "text/plain": [
       "\u001b[2;36m          \u001b[0m\u001b[2;36m \u001b[0m\u001b[34mINFO    \u001b[0m Trial parameters: \u001b[1m{\u001b[0m\u001b[32m'input_source'\u001b[0m: \u001b[32m'lillog_agents.pdf'\u001b[0m, \u001b[32m'test_dataset'\u001b[0m:     \u001b]8;id=201418;file:///Users/aravind/KruxAI/ragbuilder/src/ragbuilder/data_ingest/optimization.py\u001b\\\u001b[2moptimization.py\u001b[0m\u001b]8;;\u001b\\\u001b[2m:\u001b[0m\u001b]8;id=926162;file:///Users/aravind/KruxAI/ragbuilder/src/ragbuilder/data_ingest/optimization.py#192\u001b\\\u001b[2m192\u001b[0m\u001b]8;;\u001b\\\n",
       "\u001b[2;36m           \u001b[0m         \u001b[32m'rag_test_data_lilianweng_gpt-4o_1721032414.736622_SEMI.csv'\u001b[0m,               \u001b[2m                   \u001b[0m\n",
       "\u001b[2;36m           \u001b[0m         \u001b[32m'document_loader'\u001b[0m: \u001b[1;35mLoaderConfig\u001b[0m\u001b[1m(\u001b[0m\u001b[33mtype\u001b[0m=\u001b[1m<\u001b[0m\u001b[1;95mParserType.UNSTRUCTURED:\u001b[0m\u001b[39m \u001b[0m             \u001b[2m                   \u001b[0m\n",
       "\u001b[2;36m           \u001b[0m         \u001b[32m'unstructured'\u001b[0m\u001b[39m>, \u001b[0m\u001b[33mloader_kwargs\u001b[0m\u001b[39m=\u001b[0m\u001b[3;35mNone\u001b[0m\u001b[39m, \u001b[0m\u001b[33mcustom_class\u001b[0m\u001b[39m=\u001b[0m\u001b[3;35mNone\u001b[0m\u001b[1;39m)\u001b[0m\u001b[39m, \u001b[0m                   \u001b[2m                   \u001b[0m\n",
       "\u001b[2;36m           \u001b[0m         \u001b[32m'chunking_strategy'\u001b[0m\u001b[39m: \u001b[0m                                                       \u001b[2m                   \u001b[0m\n",
       "\u001b[2;36m           \u001b[0m         \u001b[1;35mChunkingStrategyConfig\u001b[0m\u001b[1;39m(\u001b[0m\u001b[33mtype\u001b[0m\u001b[39m=<ChunkingStrategy.RECURSIVE: \u001b[0m                   \u001b[2m                   \u001b[0m\n",
       "\u001b[2;36m           \u001b[0m         \u001b[32m'RecursiveCharacterTextSplitter'\u001b[0m\u001b[39m>, \u001b[0m\u001b[33mchunker_kwargs\u001b[0m\u001b[39m=\u001b[0m\u001b[3;35mNone\u001b[0m\u001b[39m, \u001b[0m\u001b[33mcustom_class\u001b[0m\u001b[39m=\u001b[0m\u001b[3;35mNone\u001b[0m\u001b[1;39m)\u001b[0m\u001b[39m,\u001b[0m \u001b[2m                   \u001b[0m\n",
       "\u001b[2;36m           \u001b[0m         \u001b[32m'chunk_overlap'\u001b[0m\u001b[39m: \u001b[0m\u001b[1;36m100\u001b[0m\u001b[39m, \u001b[0m\u001b[32m'chunk_size'\u001b[0m\u001b[39m: \u001b[0m\u001b[1;36m1000\u001b[0m\u001b[39m, \u001b[0m\u001b[32m'embedding_model'\u001b[0m\u001b[39m: \u001b[0m               \u001b[2m                   \u001b[0m\n",
       "\u001b[2;36m           \u001b[0m         \u001b[1;35mEmbeddingConfig\u001b[0m\u001b[1;39m(\u001b[0m\u001b[33mtype\u001b[0m\u001b[39m=<EmbeddingModel.HUGGINGFACE: \u001b[0m\u001b[32m'huggingface'\u001b[0m\u001b[39m>, \u001b[0m          \u001b[2m                   \u001b[0m\n",
       "\u001b[2;36m           \u001b[0m         \u001b[33mmodel_kwargs\u001b[0m\u001b[39m=\u001b[0m\u001b[1;39m{\u001b[0m\u001b[32m'model_name'\u001b[0m\u001b[39m: \u001b[0m\u001b[32m'mixedbread-ai/mxbai-embed-large-v1'\u001b[0m\u001b[1;39m}\u001b[0m\u001b[39m, \u001b[0m         \u001b[2m                   \u001b[0m\n",
       "\u001b[2;36m           \u001b[0m         \u001b[33mcustom_class\u001b[0m\u001b[39m=\u001b[0m\u001b[3;35mNone\u001b[0m\u001b[1;39m)\u001b[0m\u001b[39m, \u001b[0m\u001b[32m'vector_database'\u001b[0m\u001b[39m: \u001b[0m                                     \u001b[2m                   \u001b[0m\n",
       "\u001b[2;36m           \u001b[0m         \u001b[1;35mVectorDBConfig\u001b[0m\u001b[1;39m(\u001b[0m\u001b[33mtype\u001b[0m\u001b[39m=<VectorDatabase.CHROMA: \u001b[0m\u001b[32m'chroma'\u001b[0m\u001b[1m>\u001b[0m,                      \u001b[2m                   \u001b[0m\n",
       "\u001b[2;36m           \u001b[0m         \u001b[33mvectordb_kwargs\u001b[0m=\u001b[1m{\u001b[0m\u001b[32m'collection_metadata'\u001b[0m: \u001b[1m{\u001b[0m\u001b[32m'hnsw:space'\u001b[0m: \u001b[32m'cosine'\u001b[0m\u001b[1m}\u001b[0m\u001b[1m}\u001b[0m,          \u001b[2m                   \u001b[0m\n",
       "\u001b[2;36m           \u001b[0m         \u001b[33mcustom_class\u001b[0m=\u001b[3;35mNone\u001b[0m\u001b[1m)\u001b[0m, \u001b[32m'sampling_rate'\u001b[0m: \u001b[3;35mNone\u001b[0m\u001b[1m}\u001b[0m                                  \u001b[2m                   \u001b[0m\n"
      ]
     },
     "metadata": {},
     "output_type": "display_data"
    },
    {
     "data": {
      "text/html": [
       "<pre style=\"white-space:pre;overflow-x:auto;line-height:normal;font-family:Menlo,'DejaVu Sans Mono',consolas,'Courier New',monospace\"><span style=\"color: #7fbfbf; text-decoration-color: #7fbfbf\">           </span><span style=\"color: #000080; text-decoration-color: #000080\">INFO    </span> Load pretrained SentenceTransformer:                                 <a href=\"file:///opt/anaconda3/envs/ragbuilder/lib/python3.12/site-packages/sentence_transformers/SentenceTransformer.py\" target=\"_blank\"><span style=\"color: #7f7f7f; text-decoration-color: #7f7f7f\">SentenceTransformer.py</span></a><span style=\"color: #7f7f7f; text-decoration-color: #7f7f7f\">:</span><a href=\"file:///opt/anaconda3/envs/ragbuilder/lib/python3.12/site-packages/sentence_transformers/SentenceTransformer.py#113\" target=\"_blank\"><span style=\"color: #7f7f7f; text-decoration-color: #7f7f7f\">113</span></a>\n",
       "<span style=\"color: #7fbfbf; text-decoration-color: #7fbfbf\">           </span>         mixedbread-ai/mxbai-embed-large-v1                                   <span style=\"color: #7f7f7f; text-decoration-color: #7f7f7f\">                          </span>\n",
       "</pre>\n"
      ],
      "text/plain": [
       "\u001b[2;36m          \u001b[0m\u001b[2;36m \u001b[0m\u001b[34mINFO    \u001b[0m Load pretrained SentenceTransformer:                                 \u001b]8;id=705202;file:///opt/anaconda3/envs/ragbuilder/lib/python3.12/site-packages/sentence_transformers/SentenceTransformer.py\u001b\\\u001b[2mSentenceTransformer.py\u001b[0m\u001b]8;;\u001b\\\u001b[2m:\u001b[0m\u001b]8;id=292535;file:///opt/anaconda3/envs/ragbuilder/lib/python3.12/site-packages/sentence_transformers/SentenceTransformer.py#113\u001b\\\u001b[2m113\u001b[0m\u001b]8;;\u001b\\\n",
       "\u001b[2;36m           \u001b[0m         mixedbread-ai/mxbai-embed-large-v1                                   \u001b[2m                          \u001b[0m\n"
      ]
     },
     "metadata": {},
     "output_type": "display_data"
    },
    {
     "data": {
      "text/html": [
       "<pre style=\"white-space:pre;overflow-x:auto;line-height:normal;font-family:Menlo,'DejaVu Sans Mono',consolas,'Courier New',monospace\"><span style=\"color: #7fbfbf; text-decoration-color: #7fbfbf\">[00:57:38] </span><span style=\"color: #000080; text-decoration-color: #000080\">INFO    </span> Use pytorch device_name: mps                                         <a href=\"file:///opt/anaconda3/envs/ragbuilder/lib/python3.12/site-packages/sentence_transformers/SentenceTransformer.py\" target=\"_blank\"><span style=\"color: #7f7f7f; text-decoration-color: #7f7f7f\">SentenceTransformer.py</span></a><span style=\"color: #7f7f7f; text-decoration-color: #7f7f7f\">:</span><a href=\"file:///opt/anaconda3/envs/ragbuilder/lib/python3.12/site-packages/sentence_transformers/SentenceTransformer.py#219\" target=\"_blank\"><span style=\"color: #7f7f7f; text-decoration-color: #7f7f7f\">219</span></a>\n",
       "</pre>\n"
      ],
      "text/plain": [
       "\u001b[2;36m[00:57:38]\u001b[0m\u001b[2;36m \u001b[0m\u001b[34mINFO    \u001b[0m Use pytorch device_name: mps                                         \u001b]8;id=254111;file:///opt/anaconda3/envs/ragbuilder/lib/python3.12/site-packages/sentence_transformers/SentenceTransformer.py\u001b\\\u001b[2mSentenceTransformer.py\u001b[0m\u001b]8;;\u001b\\\u001b[2m:\u001b[0m\u001b]8;id=163462;file:///opt/anaconda3/envs/ragbuilder/lib/python3.12/site-packages/sentence_transformers/SentenceTransformer.py#219\u001b\\\u001b[2m219\u001b[0m\u001b]8;;\u001b\\\n"
      ]
     },
     "metadata": {},
     "output_type": "display_data"
    },
    {
     "data": {
      "text/html": [
       "<pre style=\"white-space:pre;overflow-x:auto;line-height:normal;font-family:Menlo,'DejaVu Sans Mono',consolas,'Courier New',monospace\"><span style=\"color: #7fbfbf; text-decoration-color: #7fbfbf\">[00:57:39] </span><span style=\"color: #000080; text-decoration-color: #000080\">INFO    </span> <span style=\"color: #008080; text-decoration-color: #008080; font-weight: bold\">2</span> prompts are loaded, with the keys: <span style=\"font-weight: bold\">[</span><span style=\"color: #008000; text-decoration-color: #008000\">'query'</span>, <span style=\"color: #008000; text-decoration-color: #008000\">'passage'</span><span style=\"font-weight: bold\">]</span>            <a href=\"file:///opt/anaconda3/envs/ragbuilder/lib/python3.12/site-packages/sentence_transformers/SentenceTransformer.py\" target=\"_blank\"><span style=\"color: #7f7f7f; text-decoration-color: #7f7f7f\">SentenceTransformer.py</span></a><span style=\"color: #7f7f7f; text-decoration-color: #7f7f7f\">:</span><a href=\"file:///opt/anaconda3/envs/ragbuilder/lib/python3.12/site-packages/sentence_transformers/SentenceTransformer.py#231\" target=\"_blank\"><span style=\"color: #7f7f7f; text-decoration-color: #7f7f7f\">231</span></a>\n",
       "</pre>\n"
      ],
      "text/plain": [
       "\u001b[2;36m[00:57:39]\u001b[0m\u001b[2;36m \u001b[0m\u001b[34mINFO    \u001b[0m \u001b[1;36m2\u001b[0m prompts are loaded, with the keys: \u001b[1m[\u001b[0m\u001b[32m'query'\u001b[0m, \u001b[32m'passage'\u001b[0m\u001b[1m]\u001b[0m            \u001b]8;id=584088;file:///opt/anaconda3/envs/ragbuilder/lib/python3.12/site-packages/sentence_transformers/SentenceTransformer.py\u001b\\\u001b[2mSentenceTransformer.py\u001b[0m\u001b]8;;\u001b\\\u001b[2m:\u001b[0m\u001b]8;id=451069;file:///opt/anaconda3/envs/ragbuilder/lib/python3.12/site-packages/sentence_transformers/SentenceTransformer.py#231\u001b\\\u001b[2m231\u001b[0m\u001b]8;;\u001b\\\n"
      ]
     },
     "metadata": {},
     "output_type": "display_data"
    },
    {
     "data": {
      "application/vnd.jupyter.widget-view+json": {
       "model_id": "b0551b030cc140eaa32f95f0e259cc72",
       "version_major": 2,
       "version_minor": 0
      },
      "text/plain": [
       "Output()"
      ]
     },
     "metadata": {},
     "output_type": "display_data"
    },
    {
     "data": {
      "text/html": [
       "<pre style=\"white-space:pre;overflow-x:auto;line-height:normal;font-family:Menlo,'DejaVu Sans Mono',consolas,'Courier New',monospace\"><span style=\"color: #008000; text-decoration-color: #008000\">✓ Pipeline execution complete!</span>\n",
       "</pre>\n"
      ],
      "text/plain": [
       "\u001b[32m✓ Pipeline execution complete!\u001b[0m\n"
      ]
     },
     "metadata": {},
     "output_type": "display_data"
    },
    {
     "data": {
      "text/html": [
       "<pre style=\"white-space:pre;overflow-x:auto;line-height:normal;font-family:Menlo,'DejaVu Sans Mono',consolas,'Courier New',monospace\"></pre>\n"
      ],
      "text/plain": []
     },
     "metadata": {},
     "output_type": "display_data"
    },
    {
     "data": {
      "text/html": [
       "<pre style=\"white-space:pre;overflow-x:auto;line-height:normal;font-family:Menlo,'DejaVu Sans Mono',consolas,'Courier New',monospace\"><span style=\"color: #008000; text-decoration-color: #008000\">Trial Score:</span> <span style=\"color: #00ffff; text-decoration-color: #00ffff; font-weight: bold\">0.8080</span>\n",
       "</pre>\n"
      ],
      "text/plain": [
       "\u001b[32mTrial Score:\u001b[0m \u001b[1;96m0.8080\u001b[0m\n"
      ]
     },
     "metadata": {},
     "output_type": "display_data"
    },
    {
     "name": "stdout",
     "output_type": "stream",
     "text": [
      "[I 2024-11-13 00:57:47,331] Trial 5 finished with value: 0.8080389504631361 and parameters: {'chunk_size': 1000}. Best is trial 5 with value: 0.8080389504631361.\n"
     ]
    },
    {
     "data": {
      "text/html": [
       "<pre style=\"white-space:pre;overflow-x:auto;line-height:normal;font-family:Menlo,'DejaVu Sans Mono',consolas,'Courier New',monospace\"><span style=\"color: #005fff; text-decoration-color: #005fff; font-weight: bold\">Trial </span><span style=\"color: #005fff; text-decoration-color: #005fff; font-weight: bold\">6</span><span style=\"color: #005fff; text-decoration-color: #005fff; font-weight: bold\">/</span><span style=\"color: #005fff; text-decoration-color: #005fff; font-weight: bold\">9</span>\n",
       "</pre>\n"
      ],
      "text/plain": [
       "\u001b[1;38;5;27mTrial \u001b[0m\u001b[1;38;5;27m6\u001b[0m\u001b[1;38;5;27m/\u001b[0m\u001b[1;38;5;27m9\u001b[0m\n"
      ]
     },
     "metadata": {},
     "output_type": "display_data"
    },
    {
     "data": {
      "text/html": [
       "<pre style=\"white-space:pre;overflow-x:auto;line-height:normal;font-family:Menlo,'DejaVu Sans Mono',consolas,'Courier New',monospace\"><span style=\"color: #7fbfbf; text-decoration-color: #7fbfbf\">[00:57:47] </span><span style=\"color: #000080; text-decoration-color: #000080\">INFO    </span> Trial parameters: <span style=\"font-weight: bold\">{</span><span style=\"color: #008000; text-decoration-color: #008000\">'input_source'</span>: <span style=\"color: #008000; text-decoration-color: #008000\">'lillog_agents.pdf'</span>, <span style=\"color: #008000; text-decoration-color: #008000\">'test_dataset'</span>:     <a href=\"file:///Users/aravind/KruxAI/ragbuilder/src/ragbuilder/data_ingest/optimization.py\" target=\"_blank\"><span style=\"color: #7f7f7f; text-decoration-color: #7f7f7f\">optimization.py</span></a><span style=\"color: #7f7f7f; text-decoration-color: #7f7f7f\">:</span><a href=\"file:///Users/aravind/KruxAI/ragbuilder/src/ragbuilder/data_ingest/optimization.py#192\" target=\"_blank\"><span style=\"color: #7f7f7f; text-decoration-color: #7f7f7f\">192</span></a>\n",
       "<span style=\"color: #7fbfbf; text-decoration-color: #7fbfbf\">           </span>         <span style=\"color: #008000; text-decoration-color: #008000\">'rag_test_data_lilianweng_gpt-4o_1721032414.736622_SEMI.csv'</span>,               <span style=\"color: #7f7f7f; text-decoration-color: #7f7f7f\">                   </span>\n",
       "<span style=\"color: #7fbfbf; text-decoration-color: #7fbfbf\">           </span>         <span style=\"color: #008000; text-decoration-color: #008000\">'document_loader'</span>: <span style=\"color: #800080; text-decoration-color: #800080; font-weight: bold\">LoaderConfig</span><span style=\"font-weight: bold\">(</span><span style=\"color: #808000; text-decoration-color: #808000\">type</span>=<span style=\"font-weight: bold\">&lt;</span><span style=\"color: #ff00ff; text-decoration-color: #ff00ff; font-weight: bold\">ParserType.UNSTRUCTURED:</span><span style=\"color: #000000; text-decoration-color: #000000\"> </span>             <span style=\"color: #7f7f7f; text-decoration-color: #7f7f7f\">                   </span>\n",
       "<span style=\"color: #7fbfbf; text-decoration-color: #7fbfbf\">           </span>         <span style=\"color: #008000; text-decoration-color: #008000\">'unstructured'</span><span style=\"color: #000000; text-decoration-color: #000000\">&gt;, </span><span style=\"color: #808000; text-decoration-color: #808000\">loader_kwargs</span><span style=\"color: #000000; text-decoration-color: #000000\">=</span><span style=\"color: #800080; text-decoration-color: #800080; font-style: italic\">None</span><span style=\"color: #000000; text-decoration-color: #000000\">, </span><span style=\"color: #808000; text-decoration-color: #808000\">custom_class</span><span style=\"color: #000000; text-decoration-color: #000000\">=</span><span style=\"color: #800080; text-decoration-color: #800080; font-style: italic\">None</span><span style=\"color: #000000; text-decoration-color: #000000; font-weight: bold\">)</span><span style=\"color: #000000; text-decoration-color: #000000\">, </span>                   <span style=\"color: #7f7f7f; text-decoration-color: #7f7f7f\">                   </span>\n",
       "<span style=\"color: #7fbfbf; text-decoration-color: #7fbfbf\">           </span>         <span style=\"color: #008000; text-decoration-color: #008000\">'chunking_strategy'</span><span style=\"color: #000000; text-decoration-color: #000000\">: </span>                                                       <span style=\"color: #7f7f7f; text-decoration-color: #7f7f7f\">                   </span>\n",
       "<span style=\"color: #7fbfbf; text-decoration-color: #7fbfbf\">           </span>         <span style=\"color: #800080; text-decoration-color: #800080; font-weight: bold\">ChunkingStrategyConfig</span><span style=\"color: #000000; text-decoration-color: #000000; font-weight: bold\">(</span><span style=\"color: #808000; text-decoration-color: #808000\">type</span><span style=\"color: #000000; text-decoration-color: #000000\">=&lt;ChunkingStrategy.RECURSIVE: </span>                   <span style=\"color: #7f7f7f; text-decoration-color: #7f7f7f\">                   </span>\n",
       "<span style=\"color: #7fbfbf; text-decoration-color: #7fbfbf\">           </span>         <span style=\"color: #008000; text-decoration-color: #008000\">'RecursiveCharacterTextSplitter'</span><span style=\"color: #000000; text-decoration-color: #000000\">&gt;, </span><span style=\"color: #808000; text-decoration-color: #808000\">chunker_kwargs</span><span style=\"color: #000000; text-decoration-color: #000000\">=</span><span style=\"color: #800080; text-decoration-color: #800080; font-style: italic\">None</span><span style=\"color: #000000; text-decoration-color: #000000\">, </span><span style=\"color: #808000; text-decoration-color: #808000\">custom_class</span><span style=\"color: #000000; text-decoration-color: #000000\">=</span><span style=\"color: #800080; text-decoration-color: #800080; font-style: italic\">None</span><span style=\"color: #000000; text-decoration-color: #000000; font-weight: bold\">)</span><span style=\"color: #000000; text-decoration-color: #000000\">,</span> <span style=\"color: #7f7f7f; text-decoration-color: #7f7f7f\">                   </span>\n",
       "<span style=\"color: #7fbfbf; text-decoration-color: #7fbfbf\">           </span>         <span style=\"color: #008000; text-decoration-color: #008000\">'chunk_overlap'</span><span style=\"color: #000000; text-decoration-color: #000000\">: </span><span style=\"color: #008080; text-decoration-color: #008080; font-weight: bold\">100</span><span style=\"color: #000000; text-decoration-color: #000000\">, </span><span style=\"color: #008000; text-decoration-color: #008000\">'chunk_size'</span><span style=\"color: #000000; text-decoration-color: #000000\">: </span><span style=\"color: #008080; text-decoration-color: #008080; font-weight: bold\">1500</span><span style=\"color: #000000; text-decoration-color: #000000\">, </span><span style=\"color: #008000; text-decoration-color: #008000\">'embedding_model'</span><span style=\"color: #000000; text-decoration-color: #000000\">: </span>               <span style=\"color: #7f7f7f; text-decoration-color: #7f7f7f\">                   </span>\n",
       "<span style=\"color: #7fbfbf; text-decoration-color: #7fbfbf\">           </span>         <span style=\"color: #800080; text-decoration-color: #800080; font-weight: bold\">EmbeddingConfig</span><span style=\"color: #000000; text-decoration-color: #000000; font-weight: bold\">(</span><span style=\"color: #808000; text-decoration-color: #808000\">type</span><span style=\"color: #000000; text-decoration-color: #000000\">=&lt;EmbeddingModel.HUGGINGFACE: </span><span style=\"color: #008000; text-decoration-color: #008000\">'huggingface'</span><span style=\"color: #000000; text-decoration-color: #000000\">&gt;, </span>          <span style=\"color: #7f7f7f; text-decoration-color: #7f7f7f\">                   </span>\n",
       "<span style=\"color: #7fbfbf; text-decoration-color: #7fbfbf\">           </span>         <span style=\"color: #808000; text-decoration-color: #808000\">model_kwargs</span><span style=\"color: #000000; text-decoration-color: #000000\">=</span><span style=\"color: #000000; text-decoration-color: #000000; font-weight: bold\">{</span><span style=\"color: #008000; text-decoration-color: #008000\">'model_name'</span><span style=\"color: #000000; text-decoration-color: #000000\">: </span><span style=\"color: #008000; text-decoration-color: #008000\">'mixedbread-ai/mxbai-embed-large-v1'</span><span style=\"color: #000000; text-decoration-color: #000000; font-weight: bold\">}</span><span style=\"color: #000000; text-decoration-color: #000000\">, </span>         <span style=\"color: #7f7f7f; text-decoration-color: #7f7f7f\">                   </span>\n",
       "<span style=\"color: #7fbfbf; text-decoration-color: #7fbfbf\">           </span>         <span style=\"color: #808000; text-decoration-color: #808000\">custom_class</span><span style=\"color: #000000; text-decoration-color: #000000\">=</span><span style=\"color: #800080; text-decoration-color: #800080; font-style: italic\">None</span><span style=\"color: #000000; text-decoration-color: #000000; font-weight: bold\">)</span><span style=\"color: #000000; text-decoration-color: #000000\">, </span><span style=\"color: #008000; text-decoration-color: #008000\">'vector_database'</span><span style=\"color: #000000; text-decoration-color: #000000\">: </span>                                     <span style=\"color: #7f7f7f; text-decoration-color: #7f7f7f\">                   </span>\n",
       "<span style=\"color: #7fbfbf; text-decoration-color: #7fbfbf\">           </span>         <span style=\"color: #800080; text-decoration-color: #800080; font-weight: bold\">VectorDBConfig</span><span style=\"color: #000000; text-decoration-color: #000000; font-weight: bold\">(</span><span style=\"color: #808000; text-decoration-color: #808000\">type</span><span style=\"color: #000000; text-decoration-color: #000000\">=&lt;VectorDatabase.CHROMA: </span><span style=\"color: #008000; text-decoration-color: #008000\">'chroma'</span><span style=\"font-weight: bold\">&gt;</span>,                      <span style=\"color: #7f7f7f; text-decoration-color: #7f7f7f\">                   </span>\n",
       "<span style=\"color: #7fbfbf; text-decoration-color: #7fbfbf\">           </span>         <span style=\"color: #808000; text-decoration-color: #808000\">vectordb_kwargs</span>=<span style=\"font-weight: bold\">{</span><span style=\"color: #008000; text-decoration-color: #008000\">'collection_metadata'</span>: <span style=\"font-weight: bold\">{</span><span style=\"color: #008000; text-decoration-color: #008000\">'hnsw:space'</span>: <span style=\"color: #008000; text-decoration-color: #008000\">'cosine'</span><span style=\"font-weight: bold\">}}</span>,          <span style=\"color: #7f7f7f; text-decoration-color: #7f7f7f\">                   </span>\n",
       "<span style=\"color: #7fbfbf; text-decoration-color: #7fbfbf\">           </span>         <span style=\"color: #808000; text-decoration-color: #808000\">custom_class</span>=<span style=\"color: #800080; text-decoration-color: #800080; font-style: italic\">None</span><span style=\"font-weight: bold\">)</span>, <span style=\"color: #008000; text-decoration-color: #008000\">'sampling_rate'</span>: <span style=\"color: #800080; text-decoration-color: #800080; font-style: italic\">None</span><span style=\"font-weight: bold\">}</span>                                  <span style=\"color: #7f7f7f; text-decoration-color: #7f7f7f\">                   </span>\n",
       "</pre>\n"
      ],
      "text/plain": [
       "\u001b[2;36m[00:57:47]\u001b[0m\u001b[2;36m \u001b[0m\u001b[34mINFO    \u001b[0m Trial parameters: \u001b[1m{\u001b[0m\u001b[32m'input_source'\u001b[0m: \u001b[32m'lillog_agents.pdf'\u001b[0m, \u001b[32m'test_dataset'\u001b[0m:     \u001b]8;id=213109;file:///Users/aravind/KruxAI/ragbuilder/src/ragbuilder/data_ingest/optimization.py\u001b\\\u001b[2moptimization.py\u001b[0m\u001b]8;;\u001b\\\u001b[2m:\u001b[0m\u001b]8;id=879988;file:///Users/aravind/KruxAI/ragbuilder/src/ragbuilder/data_ingest/optimization.py#192\u001b\\\u001b[2m192\u001b[0m\u001b]8;;\u001b\\\n",
       "\u001b[2;36m           \u001b[0m         \u001b[32m'rag_test_data_lilianweng_gpt-4o_1721032414.736622_SEMI.csv'\u001b[0m,               \u001b[2m                   \u001b[0m\n",
       "\u001b[2;36m           \u001b[0m         \u001b[32m'document_loader'\u001b[0m: \u001b[1;35mLoaderConfig\u001b[0m\u001b[1m(\u001b[0m\u001b[33mtype\u001b[0m=\u001b[1m<\u001b[0m\u001b[1;95mParserType.UNSTRUCTURED:\u001b[0m\u001b[39m \u001b[0m             \u001b[2m                   \u001b[0m\n",
       "\u001b[2;36m           \u001b[0m         \u001b[32m'unstructured'\u001b[0m\u001b[39m>, \u001b[0m\u001b[33mloader_kwargs\u001b[0m\u001b[39m=\u001b[0m\u001b[3;35mNone\u001b[0m\u001b[39m, \u001b[0m\u001b[33mcustom_class\u001b[0m\u001b[39m=\u001b[0m\u001b[3;35mNone\u001b[0m\u001b[1;39m)\u001b[0m\u001b[39m, \u001b[0m                   \u001b[2m                   \u001b[0m\n",
       "\u001b[2;36m           \u001b[0m         \u001b[32m'chunking_strategy'\u001b[0m\u001b[39m: \u001b[0m                                                       \u001b[2m                   \u001b[0m\n",
       "\u001b[2;36m           \u001b[0m         \u001b[1;35mChunkingStrategyConfig\u001b[0m\u001b[1;39m(\u001b[0m\u001b[33mtype\u001b[0m\u001b[39m=<ChunkingStrategy.RECURSIVE: \u001b[0m                   \u001b[2m                   \u001b[0m\n",
       "\u001b[2;36m           \u001b[0m         \u001b[32m'RecursiveCharacterTextSplitter'\u001b[0m\u001b[39m>, \u001b[0m\u001b[33mchunker_kwargs\u001b[0m\u001b[39m=\u001b[0m\u001b[3;35mNone\u001b[0m\u001b[39m, \u001b[0m\u001b[33mcustom_class\u001b[0m\u001b[39m=\u001b[0m\u001b[3;35mNone\u001b[0m\u001b[1;39m)\u001b[0m\u001b[39m,\u001b[0m \u001b[2m                   \u001b[0m\n",
       "\u001b[2;36m           \u001b[0m         \u001b[32m'chunk_overlap'\u001b[0m\u001b[39m: \u001b[0m\u001b[1;36m100\u001b[0m\u001b[39m, \u001b[0m\u001b[32m'chunk_size'\u001b[0m\u001b[39m: \u001b[0m\u001b[1;36m1500\u001b[0m\u001b[39m, \u001b[0m\u001b[32m'embedding_model'\u001b[0m\u001b[39m: \u001b[0m               \u001b[2m                   \u001b[0m\n",
       "\u001b[2;36m           \u001b[0m         \u001b[1;35mEmbeddingConfig\u001b[0m\u001b[1;39m(\u001b[0m\u001b[33mtype\u001b[0m\u001b[39m=<EmbeddingModel.HUGGINGFACE: \u001b[0m\u001b[32m'huggingface'\u001b[0m\u001b[39m>, \u001b[0m          \u001b[2m                   \u001b[0m\n",
       "\u001b[2;36m           \u001b[0m         \u001b[33mmodel_kwargs\u001b[0m\u001b[39m=\u001b[0m\u001b[1;39m{\u001b[0m\u001b[32m'model_name'\u001b[0m\u001b[39m: \u001b[0m\u001b[32m'mixedbread-ai/mxbai-embed-large-v1'\u001b[0m\u001b[1;39m}\u001b[0m\u001b[39m, \u001b[0m         \u001b[2m                   \u001b[0m\n",
       "\u001b[2;36m           \u001b[0m         \u001b[33mcustom_class\u001b[0m\u001b[39m=\u001b[0m\u001b[3;35mNone\u001b[0m\u001b[1;39m)\u001b[0m\u001b[39m, \u001b[0m\u001b[32m'vector_database'\u001b[0m\u001b[39m: \u001b[0m                                     \u001b[2m                   \u001b[0m\n",
       "\u001b[2;36m           \u001b[0m         \u001b[1;35mVectorDBConfig\u001b[0m\u001b[1;39m(\u001b[0m\u001b[33mtype\u001b[0m\u001b[39m=<VectorDatabase.CHROMA: \u001b[0m\u001b[32m'chroma'\u001b[0m\u001b[1m>\u001b[0m,                      \u001b[2m                   \u001b[0m\n",
       "\u001b[2;36m           \u001b[0m         \u001b[33mvectordb_kwargs\u001b[0m=\u001b[1m{\u001b[0m\u001b[32m'collection_metadata'\u001b[0m: \u001b[1m{\u001b[0m\u001b[32m'hnsw:space'\u001b[0m: \u001b[32m'cosine'\u001b[0m\u001b[1m}\u001b[0m\u001b[1m}\u001b[0m,          \u001b[2m                   \u001b[0m\n",
       "\u001b[2;36m           \u001b[0m         \u001b[33mcustom_class\u001b[0m=\u001b[3;35mNone\u001b[0m\u001b[1m)\u001b[0m, \u001b[32m'sampling_rate'\u001b[0m: \u001b[3;35mNone\u001b[0m\u001b[1m}\u001b[0m                                  \u001b[2m                   \u001b[0m\n"
      ]
     },
     "metadata": {},
     "output_type": "display_data"
    },
    {
     "data": {
      "text/html": [
       "<pre style=\"white-space:pre;overflow-x:auto;line-height:normal;font-family:Menlo,'DejaVu Sans Mono',consolas,'Courier New',monospace\"><span style=\"color: #7fbfbf; text-decoration-color: #7fbfbf\">           </span><span style=\"color: #000080; text-decoration-color: #000080\">INFO    </span> Config already evaluated with score: <span style=\"color: #008080; text-decoration-color: #008080; font-weight: bold\">0.8015819494922954</span>                      <a href=\"file:///Users/aravind/KruxAI/ragbuilder/src/ragbuilder/data_ingest/optimization.py\" target=\"_blank\"><span style=\"color: #7f7f7f; text-decoration-color: #7f7f7f\">optimization.py</span></a><span style=\"color: #7f7f7f; text-decoration-color: #7f7f7f\">:</span><a href=\"file:///Users/aravind/KruxAI/ragbuilder/src/ragbuilder/data_ingest/optimization.py#63\" target=\"_blank\"><span style=\"color: #7f7f7f; text-decoration-color: #7f7f7f\">63</span></a>\n",
       "</pre>\n"
      ],
      "text/plain": [
       "\u001b[2;36m          \u001b[0m\u001b[2;36m \u001b[0m\u001b[34mINFO    \u001b[0m Config already evaluated with score: \u001b[1;36m0.8015819494922954\u001b[0m                      \u001b]8;id=808090;file:///Users/aravind/KruxAI/ragbuilder/src/ragbuilder/data_ingest/optimization.py\u001b\\\u001b[2moptimization.py\u001b[0m\u001b]8;;\u001b\\\u001b[2m:\u001b[0m\u001b]8;id=159758;file:///Users/aravind/KruxAI/ragbuilder/src/ragbuilder/data_ingest/optimization.py#63\u001b\\\u001b[2m63\u001b[0m\u001b]8;;\u001b\\\n"
      ]
     },
     "metadata": {},
     "output_type": "display_data"
    },
    {
     "name": "stdout",
     "output_type": "stream",
     "text": [
      "[I 2024-11-13 00:57:47,337] Trial 6 finished with value: 0.8015819494922954 and parameters: {'chunk_size': 1500}. Best is trial 5 with value: 0.8080389504631361.\n"
     ]
    },
    {
     "data": {
      "text/html": [
       "<pre style=\"white-space:pre;overflow-x:auto;line-height:normal;font-family:Menlo,'DejaVu Sans Mono',consolas,'Courier New',monospace\"><span style=\"color: #005fff; text-decoration-color: #005fff; font-weight: bold\">Trial </span><span style=\"color: #005fff; text-decoration-color: #005fff; font-weight: bold\">7</span><span style=\"color: #005fff; text-decoration-color: #005fff; font-weight: bold\">/</span><span style=\"color: #005fff; text-decoration-color: #005fff; font-weight: bold\">9</span>\n",
       "</pre>\n"
      ],
      "text/plain": [
       "\u001b[1;38;5;27mTrial \u001b[0m\u001b[1;38;5;27m7\u001b[0m\u001b[1;38;5;27m/\u001b[0m\u001b[1;38;5;27m9\u001b[0m\n"
      ]
     },
     "metadata": {},
     "output_type": "display_data"
    },
    {
     "data": {
      "text/html": [
       "<pre style=\"white-space:pre;overflow-x:auto;line-height:normal;font-family:Menlo,'DejaVu Sans Mono',consolas,'Courier New',monospace\"><span style=\"color: #7fbfbf; text-decoration-color: #7fbfbf\">           </span><span style=\"color: #000080; text-decoration-color: #000080\">INFO    </span> Trial parameters: <span style=\"font-weight: bold\">{</span><span style=\"color: #008000; text-decoration-color: #008000\">'input_source'</span>: <span style=\"color: #008000; text-decoration-color: #008000\">'lillog_agents.pdf'</span>, <span style=\"color: #008000; text-decoration-color: #008000\">'test_dataset'</span>:     <a href=\"file:///Users/aravind/KruxAI/ragbuilder/src/ragbuilder/data_ingest/optimization.py\" target=\"_blank\"><span style=\"color: #7f7f7f; text-decoration-color: #7f7f7f\">optimization.py</span></a><span style=\"color: #7f7f7f; text-decoration-color: #7f7f7f\">:</span><a href=\"file:///Users/aravind/KruxAI/ragbuilder/src/ragbuilder/data_ingest/optimization.py#192\" target=\"_blank\"><span style=\"color: #7f7f7f; text-decoration-color: #7f7f7f\">192</span></a>\n",
       "<span style=\"color: #7fbfbf; text-decoration-color: #7fbfbf\">           </span>         <span style=\"color: #008000; text-decoration-color: #008000\">'rag_test_data_lilianweng_gpt-4o_1721032414.736622_SEMI.csv'</span>,               <span style=\"color: #7f7f7f; text-decoration-color: #7f7f7f\">                   </span>\n",
       "<span style=\"color: #7fbfbf; text-decoration-color: #7fbfbf\">           </span>         <span style=\"color: #008000; text-decoration-color: #008000\">'document_loader'</span>: <span style=\"color: #800080; text-decoration-color: #800080; font-weight: bold\">LoaderConfig</span><span style=\"font-weight: bold\">(</span><span style=\"color: #808000; text-decoration-color: #808000\">type</span>=<span style=\"font-weight: bold\">&lt;</span><span style=\"color: #ff00ff; text-decoration-color: #ff00ff; font-weight: bold\">ParserType.UNSTRUCTURED:</span><span style=\"color: #000000; text-decoration-color: #000000\"> </span>             <span style=\"color: #7f7f7f; text-decoration-color: #7f7f7f\">                   </span>\n",
       "<span style=\"color: #7fbfbf; text-decoration-color: #7fbfbf\">           </span>         <span style=\"color: #008000; text-decoration-color: #008000\">'unstructured'</span><span style=\"color: #000000; text-decoration-color: #000000\">&gt;, </span><span style=\"color: #808000; text-decoration-color: #808000\">loader_kwargs</span><span style=\"color: #000000; text-decoration-color: #000000\">=</span><span style=\"color: #800080; text-decoration-color: #800080; font-style: italic\">None</span><span style=\"color: #000000; text-decoration-color: #000000\">, </span><span style=\"color: #808000; text-decoration-color: #808000\">custom_class</span><span style=\"color: #000000; text-decoration-color: #000000\">=</span><span style=\"color: #800080; text-decoration-color: #800080; font-style: italic\">None</span><span style=\"color: #000000; text-decoration-color: #000000; font-weight: bold\">)</span><span style=\"color: #000000; text-decoration-color: #000000\">, </span>                   <span style=\"color: #7f7f7f; text-decoration-color: #7f7f7f\">                   </span>\n",
       "<span style=\"color: #7fbfbf; text-decoration-color: #7fbfbf\">           </span>         <span style=\"color: #008000; text-decoration-color: #008000\">'chunking_strategy'</span><span style=\"color: #000000; text-decoration-color: #000000\">: </span>                                                       <span style=\"color: #7f7f7f; text-decoration-color: #7f7f7f\">                   </span>\n",
       "<span style=\"color: #7fbfbf; text-decoration-color: #7fbfbf\">           </span>         <span style=\"color: #800080; text-decoration-color: #800080; font-weight: bold\">ChunkingStrategyConfig</span><span style=\"color: #000000; text-decoration-color: #000000; font-weight: bold\">(</span><span style=\"color: #808000; text-decoration-color: #808000\">type</span><span style=\"color: #000000; text-decoration-color: #000000\">=&lt;ChunkingStrategy.RECURSIVE: </span>                   <span style=\"color: #7f7f7f; text-decoration-color: #7f7f7f\">                   </span>\n",
       "<span style=\"color: #7fbfbf; text-decoration-color: #7fbfbf\">           </span>         <span style=\"color: #008000; text-decoration-color: #008000\">'RecursiveCharacterTextSplitter'</span><span style=\"color: #000000; text-decoration-color: #000000\">&gt;, </span><span style=\"color: #808000; text-decoration-color: #808000\">chunker_kwargs</span><span style=\"color: #000000; text-decoration-color: #000000\">=</span><span style=\"color: #800080; text-decoration-color: #800080; font-style: italic\">None</span><span style=\"color: #000000; text-decoration-color: #000000\">, </span><span style=\"color: #808000; text-decoration-color: #808000\">custom_class</span><span style=\"color: #000000; text-decoration-color: #000000\">=</span><span style=\"color: #800080; text-decoration-color: #800080; font-style: italic\">None</span><span style=\"color: #000000; text-decoration-color: #000000; font-weight: bold\">)</span><span style=\"color: #000000; text-decoration-color: #000000\">,</span> <span style=\"color: #7f7f7f; text-decoration-color: #7f7f7f\">                   </span>\n",
       "<span style=\"color: #7fbfbf; text-decoration-color: #7fbfbf\">           </span>         <span style=\"color: #008000; text-decoration-color: #008000\">'chunk_overlap'</span><span style=\"color: #000000; text-decoration-color: #000000\">: </span><span style=\"color: #008080; text-decoration-color: #008080; font-weight: bold\">100</span><span style=\"color: #000000; text-decoration-color: #000000\">, </span><span style=\"color: #008000; text-decoration-color: #008000\">'chunk_size'</span><span style=\"color: #000000; text-decoration-color: #000000\">: </span><span style=\"color: #008080; text-decoration-color: #008080; font-weight: bold\">1500</span><span style=\"color: #000000; text-decoration-color: #000000\">, </span><span style=\"color: #008000; text-decoration-color: #008000\">'embedding_model'</span><span style=\"color: #000000; text-decoration-color: #000000\">: </span>               <span style=\"color: #7f7f7f; text-decoration-color: #7f7f7f\">                   </span>\n",
       "<span style=\"color: #7fbfbf; text-decoration-color: #7fbfbf\">           </span>         <span style=\"color: #800080; text-decoration-color: #800080; font-weight: bold\">EmbeddingConfig</span><span style=\"color: #000000; text-decoration-color: #000000; font-weight: bold\">(</span><span style=\"color: #808000; text-decoration-color: #808000\">type</span><span style=\"color: #000000; text-decoration-color: #000000\">=&lt;EmbeddingModel.HUGGINGFACE: </span><span style=\"color: #008000; text-decoration-color: #008000\">'huggingface'</span><span style=\"color: #000000; text-decoration-color: #000000\">&gt;, </span>          <span style=\"color: #7f7f7f; text-decoration-color: #7f7f7f\">                   </span>\n",
       "<span style=\"color: #7fbfbf; text-decoration-color: #7fbfbf\">           </span>         <span style=\"color: #808000; text-decoration-color: #808000\">model_kwargs</span><span style=\"color: #000000; text-decoration-color: #000000\">=</span><span style=\"color: #000000; text-decoration-color: #000000; font-weight: bold\">{</span><span style=\"color: #008000; text-decoration-color: #008000\">'model_name'</span><span style=\"color: #000000; text-decoration-color: #000000\">: </span><span style=\"color: #008000; text-decoration-color: #008000\">'mixedbread-ai/mxbai-embed-large-v1'</span><span style=\"color: #000000; text-decoration-color: #000000; font-weight: bold\">}</span><span style=\"color: #000000; text-decoration-color: #000000\">, </span>         <span style=\"color: #7f7f7f; text-decoration-color: #7f7f7f\">                   </span>\n",
       "<span style=\"color: #7fbfbf; text-decoration-color: #7fbfbf\">           </span>         <span style=\"color: #808000; text-decoration-color: #808000\">custom_class</span><span style=\"color: #000000; text-decoration-color: #000000\">=</span><span style=\"color: #800080; text-decoration-color: #800080; font-style: italic\">None</span><span style=\"color: #000000; text-decoration-color: #000000; font-weight: bold\">)</span><span style=\"color: #000000; text-decoration-color: #000000\">, </span><span style=\"color: #008000; text-decoration-color: #008000\">'vector_database'</span><span style=\"color: #000000; text-decoration-color: #000000\">: </span>                                     <span style=\"color: #7f7f7f; text-decoration-color: #7f7f7f\">                   </span>\n",
       "<span style=\"color: #7fbfbf; text-decoration-color: #7fbfbf\">           </span>         <span style=\"color: #800080; text-decoration-color: #800080; font-weight: bold\">VectorDBConfig</span><span style=\"color: #000000; text-decoration-color: #000000; font-weight: bold\">(</span><span style=\"color: #808000; text-decoration-color: #808000\">type</span><span style=\"color: #000000; text-decoration-color: #000000\">=&lt;VectorDatabase.CHROMA: </span><span style=\"color: #008000; text-decoration-color: #008000\">'chroma'</span><span style=\"font-weight: bold\">&gt;</span>,                      <span style=\"color: #7f7f7f; text-decoration-color: #7f7f7f\">                   </span>\n",
       "<span style=\"color: #7fbfbf; text-decoration-color: #7fbfbf\">           </span>         <span style=\"color: #808000; text-decoration-color: #808000\">vectordb_kwargs</span>=<span style=\"font-weight: bold\">{</span><span style=\"color: #008000; text-decoration-color: #008000\">'collection_metadata'</span>: <span style=\"font-weight: bold\">{</span><span style=\"color: #008000; text-decoration-color: #008000\">'hnsw:space'</span>: <span style=\"color: #008000; text-decoration-color: #008000\">'cosine'</span><span style=\"font-weight: bold\">}}</span>,          <span style=\"color: #7f7f7f; text-decoration-color: #7f7f7f\">                   </span>\n",
       "<span style=\"color: #7fbfbf; text-decoration-color: #7fbfbf\">           </span>         <span style=\"color: #808000; text-decoration-color: #808000\">custom_class</span>=<span style=\"color: #800080; text-decoration-color: #800080; font-style: italic\">None</span><span style=\"font-weight: bold\">)</span>, <span style=\"color: #008000; text-decoration-color: #008000\">'sampling_rate'</span>: <span style=\"color: #800080; text-decoration-color: #800080; font-style: italic\">None</span><span style=\"font-weight: bold\">}</span>                                  <span style=\"color: #7f7f7f; text-decoration-color: #7f7f7f\">                   </span>\n",
       "</pre>\n"
      ],
      "text/plain": [
       "\u001b[2;36m          \u001b[0m\u001b[2;36m \u001b[0m\u001b[34mINFO    \u001b[0m Trial parameters: \u001b[1m{\u001b[0m\u001b[32m'input_source'\u001b[0m: \u001b[32m'lillog_agents.pdf'\u001b[0m, \u001b[32m'test_dataset'\u001b[0m:     \u001b]8;id=634944;file:///Users/aravind/KruxAI/ragbuilder/src/ragbuilder/data_ingest/optimization.py\u001b\\\u001b[2moptimization.py\u001b[0m\u001b]8;;\u001b\\\u001b[2m:\u001b[0m\u001b]8;id=141408;file:///Users/aravind/KruxAI/ragbuilder/src/ragbuilder/data_ingest/optimization.py#192\u001b\\\u001b[2m192\u001b[0m\u001b]8;;\u001b\\\n",
       "\u001b[2;36m           \u001b[0m         \u001b[32m'rag_test_data_lilianweng_gpt-4o_1721032414.736622_SEMI.csv'\u001b[0m,               \u001b[2m                   \u001b[0m\n",
       "\u001b[2;36m           \u001b[0m         \u001b[32m'document_loader'\u001b[0m: \u001b[1;35mLoaderConfig\u001b[0m\u001b[1m(\u001b[0m\u001b[33mtype\u001b[0m=\u001b[1m<\u001b[0m\u001b[1;95mParserType.UNSTRUCTURED:\u001b[0m\u001b[39m \u001b[0m             \u001b[2m                   \u001b[0m\n",
       "\u001b[2;36m           \u001b[0m         \u001b[32m'unstructured'\u001b[0m\u001b[39m>, \u001b[0m\u001b[33mloader_kwargs\u001b[0m\u001b[39m=\u001b[0m\u001b[3;35mNone\u001b[0m\u001b[39m, \u001b[0m\u001b[33mcustom_class\u001b[0m\u001b[39m=\u001b[0m\u001b[3;35mNone\u001b[0m\u001b[1;39m)\u001b[0m\u001b[39m, \u001b[0m                   \u001b[2m                   \u001b[0m\n",
       "\u001b[2;36m           \u001b[0m         \u001b[32m'chunking_strategy'\u001b[0m\u001b[39m: \u001b[0m                                                       \u001b[2m                   \u001b[0m\n",
       "\u001b[2;36m           \u001b[0m         \u001b[1;35mChunkingStrategyConfig\u001b[0m\u001b[1;39m(\u001b[0m\u001b[33mtype\u001b[0m\u001b[39m=<ChunkingStrategy.RECURSIVE: \u001b[0m                   \u001b[2m                   \u001b[0m\n",
       "\u001b[2;36m           \u001b[0m         \u001b[32m'RecursiveCharacterTextSplitter'\u001b[0m\u001b[39m>, \u001b[0m\u001b[33mchunker_kwargs\u001b[0m\u001b[39m=\u001b[0m\u001b[3;35mNone\u001b[0m\u001b[39m, \u001b[0m\u001b[33mcustom_class\u001b[0m\u001b[39m=\u001b[0m\u001b[3;35mNone\u001b[0m\u001b[1;39m)\u001b[0m\u001b[39m,\u001b[0m \u001b[2m                   \u001b[0m\n",
       "\u001b[2;36m           \u001b[0m         \u001b[32m'chunk_overlap'\u001b[0m\u001b[39m: \u001b[0m\u001b[1;36m100\u001b[0m\u001b[39m, \u001b[0m\u001b[32m'chunk_size'\u001b[0m\u001b[39m: \u001b[0m\u001b[1;36m1500\u001b[0m\u001b[39m, \u001b[0m\u001b[32m'embedding_model'\u001b[0m\u001b[39m: \u001b[0m               \u001b[2m                   \u001b[0m\n",
       "\u001b[2;36m           \u001b[0m         \u001b[1;35mEmbeddingConfig\u001b[0m\u001b[1;39m(\u001b[0m\u001b[33mtype\u001b[0m\u001b[39m=<EmbeddingModel.HUGGINGFACE: \u001b[0m\u001b[32m'huggingface'\u001b[0m\u001b[39m>, \u001b[0m          \u001b[2m                   \u001b[0m\n",
       "\u001b[2;36m           \u001b[0m         \u001b[33mmodel_kwargs\u001b[0m\u001b[39m=\u001b[0m\u001b[1;39m{\u001b[0m\u001b[32m'model_name'\u001b[0m\u001b[39m: \u001b[0m\u001b[32m'mixedbread-ai/mxbai-embed-large-v1'\u001b[0m\u001b[1;39m}\u001b[0m\u001b[39m, \u001b[0m         \u001b[2m                   \u001b[0m\n",
       "\u001b[2;36m           \u001b[0m         \u001b[33mcustom_class\u001b[0m\u001b[39m=\u001b[0m\u001b[3;35mNone\u001b[0m\u001b[1;39m)\u001b[0m\u001b[39m, \u001b[0m\u001b[32m'vector_database'\u001b[0m\u001b[39m: \u001b[0m                                     \u001b[2m                   \u001b[0m\n",
       "\u001b[2;36m           \u001b[0m         \u001b[1;35mVectorDBConfig\u001b[0m\u001b[1;39m(\u001b[0m\u001b[33mtype\u001b[0m\u001b[39m=<VectorDatabase.CHROMA: \u001b[0m\u001b[32m'chroma'\u001b[0m\u001b[1m>\u001b[0m,                      \u001b[2m                   \u001b[0m\n",
       "\u001b[2;36m           \u001b[0m         \u001b[33mvectordb_kwargs\u001b[0m=\u001b[1m{\u001b[0m\u001b[32m'collection_metadata'\u001b[0m: \u001b[1m{\u001b[0m\u001b[32m'hnsw:space'\u001b[0m: \u001b[32m'cosine'\u001b[0m\u001b[1m}\u001b[0m\u001b[1m}\u001b[0m,          \u001b[2m                   \u001b[0m\n",
       "\u001b[2;36m           \u001b[0m         \u001b[33mcustom_class\u001b[0m=\u001b[3;35mNone\u001b[0m\u001b[1m)\u001b[0m, \u001b[32m'sampling_rate'\u001b[0m: \u001b[3;35mNone\u001b[0m\u001b[1m}\u001b[0m                                  \u001b[2m                   \u001b[0m\n"
      ]
     },
     "metadata": {},
     "output_type": "display_data"
    },
    {
     "data": {
      "text/html": [
       "<pre style=\"white-space:pre;overflow-x:auto;line-height:normal;font-family:Menlo,'DejaVu Sans Mono',consolas,'Courier New',monospace\"><span style=\"color: #7fbfbf; text-decoration-color: #7fbfbf\">           </span><span style=\"color: #000080; text-decoration-color: #000080\">INFO    </span> Config already evaluated with score: <span style=\"color: #008080; text-decoration-color: #008080; font-weight: bold\">0.8015819494922954</span>                      <a href=\"file:///Users/aravind/KruxAI/ragbuilder/src/ragbuilder/data_ingest/optimization.py\" target=\"_blank\"><span style=\"color: #7f7f7f; text-decoration-color: #7f7f7f\">optimization.py</span></a><span style=\"color: #7f7f7f; text-decoration-color: #7f7f7f\">:</span><a href=\"file:///Users/aravind/KruxAI/ragbuilder/src/ragbuilder/data_ingest/optimization.py#63\" target=\"_blank\"><span style=\"color: #7f7f7f; text-decoration-color: #7f7f7f\">63</span></a>\n",
       "</pre>\n"
      ],
      "text/plain": [
       "\u001b[2;36m          \u001b[0m\u001b[2;36m \u001b[0m\u001b[34mINFO    \u001b[0m Config already evaluated with score: \u001b[1;36m0.8015819494922954\u001b[0m                      \u001b]8;id=736253;file:///Users/aravind/KruxAI/ragbuilder/src/ragbuilder/data_ingest/optimization.py\u001b\\\u001b[2moptimization.py\u001b[0m\u001b]8;;\u001b\\\u001b[2m:\u001b[0m\u001b]8;id=896206;file:///Users/aravind/KruxAI/ragbuilder/src/ragbuilder/data_ingest/optimization.py#63\u001b\\\u001b[2m63\u001b[0m\u001b]8;;\u001b\\\n"
      ]
     },
     "metadata": {},
     "output_type": "display_data"
    },
    {
     "name": "stdout",
     "output_type": "stream",
     "text": [
      "[I 2024-11-13 00:57:47,342] Trial 7 finished with value: 0.8015819494922954 and parameters: {'chunk_size': 1500}. Best is trial 5 with value: 0.8080389504631361.\n"
     ]
    },
    {
     "data": {
      "text/html": [
       "<pre style=\"white-space:pre;overflow-x:auto;line-height:normal;font-family:Menlo,'DejaVu Sans Mono',consolas,'Courier New',monospace\"><span style=\"color: #005fff; text-decoration-color: #005fff; font-weight: bold\">Trial </span><span style=\"color: #005fff; text-decoration-color: #005fff; font-weight: bold\">8</span><span style=\"color: #005fff; text-decoration-color: #005fff; font-weight: bold\">/</span><span style=\"color: #005fff; text-decoration-color: #005fff; font-weight: bold\">9</span>\n",
       "</pre>\n"
      ],
      "text/plain": [
       "\u001b[1;38;5;27mTrial \u001b[0m\u001b[1;38;5;27m8\u001b[0m\u001b[1;38;5;27m/\u001b[0m\u001b[1;38;5;27m9\u001b[0m\n"
      ]
     },
     "metadata": {},
     "output_type": "display_data"
    },
    {
     "data": {
      "text/html": [
       "<pre style=\"white-space:pre;overflow-x:auto;line-height:normal;font-family:Menlo,'DejaVu Sans Mono',consolas,'Courier New',monospace\"><span style=\"color: #7fbfbf; text-decoration-color: #7fbfbf\">           </span><span style=\"color: #000080; text-decoration-color: #000080\">INFO    </span> Trial parameters: <span style=\"font-weight: bold\">{</span><span style=\"color: #008000; text-decoration-color: #008000\">'input_source'</span>: <span style=\"color: #008000; text-decoration-color: #008000\">'lillog_agents.pdf'</span>, <span style=\"color: #008000; text-decoration-color: #008000\">'test_dataset'</span>:     <a href=\"file:///Users/aravind/KruxAI/ragbuilder/src/ragbuilder/data_ingest/optimization.py\" target=\"_blank\"><span style=\"color: #7f7f7f; text-decoration-color: #7f7f7f\">optimization.py</span></a><span style=\"color: #7f7f7f; text-decoration-color: #7f7f7f\">:</span><a href=\"file:///Users/aravind/KruxAI/ragbuilder/src/ragbuilder/data_ingest/optimization.py#192\" target=\"_blank\"><span style=\"color: #7f7f7f; text-decoration-color: #7f7f7f\">192</span></a>\n",
       "<span style=\"color: #7fbfbf; text-decoration-color: #7fbfbf\">           </span>         <span style=\"color: #008000; text-decoration-color: #008000\">'rag_test_data_lilianweng_gpt-4o_1721032414.736622_SEMI.csv'</span>,               <span style=\"color: #7f7f7f; text-decoration-color: #7f7f7f\">                   </span>\n",
       "<span style=\"color: #7fbfbf; text-decoration-color: #7fbfbf\">           </span>         <span style=\"color: #008000; text-decoration-color: #008000\">'document_loader'</span>: <span style=\"color: #800080; text-decoration-color: #800080; font-weight: bold\">LoaderConfig</span><span style=\"font-weight: bold\">(</span><span style=\"color: #808000; text-decoration-color: #808000\">type</span>=<span style=\"font-weight: bold\">&lt;</span><span style=\"color: #ff00ff; text-decoration-color: #ff00ff; font-weight: bold\">ParserType.UNSTRUCTURED:</span><span style=\"color: #000000; text-decoration-color: #000000\"> </span>             <span style=\"color: #7f7f7f; text-decoration-color: #7f7f7f\">                   </span>\n",
       "<span style=\"color: #7fbfbf; text-decoration-color: #7fbfbf\">           </span>         <span style=\"color: #008000; text-decoration-color: #008000\">'unstructured'</span><span style=\"color: #000000; text-decoration-color: #000000\">&gt;, </span><span style=\"color: #808000; text-decoration-color: #808000\">loader_kwargs</span><span style=\"color: #000000; text-decoration-color: #000000\">=</span><span style=\"color: #800080; text-decoration-color: #800080; font-style: italic\">None</span><span style=\"color: #000000; text-decoration-color: #000000\">, </span><span style=\"color: #808000; text-decoration-color: #808000\">custom_class</span><span style=\"color: #000000; text-decoration-color: #000000\">=</span><span style=\"color: #800080; text-decoration-color: #800080; font-style: italic\">None</span><span style=\"color: #000000; text-decoration-color: #000000; font-weight: bold\">)</span><span style=\"color: #000000; text-decoration-color: #000000\">, </span>                   <span style=\"color: #7f7f7f; text-decoration-color: #7f7f7f\">                   </span>\n",
       "<span style=\"color: #7fbfbf; text-decoration-color: #7fbfbf\">           </span>         <span style=\"color: #008000; text-decoration-color: #008000\">'chunking_strategy'</span><span style=\"color: #000000; text-decoration-color: #000000\">: </span>                                                       <span style=\"color: #7f7f7f; text-decoration-color: #7f7f7f\">                   </span>\n",
       "<span style=\"color: #7fbfbf; text-decoration-color: #7fbfbf\">           </span>         <span style=\"color: #800080; text-decoration-color: #800080; font-weight: bold\">ChunkingStrategyConfig</span><span style=\"color: #000000; text-decoration-color: #000000; font-weight: bold\">(</span><span style=\"color: #808000; text-decoration-color: #808000\">type</span><span style=\"color: #000000; text-decoration-color: #000000\">=&lt;ChunkingStrategy.RECURSIVE: </span>                   <span style=\"color: #7f7f7f; text-decoration-color: #7f7f7f\">                   </span>\n",
       "<span style=\"color: #7fbfbf; text-decoration-color: #7fbfbf\">           </span>         <span style=\"color: #008000; text-decoration-color: #008000\">'RecursiveCharacterTextSplitter'</span><span style=\"color: #000000; text-decoration-color: #000000\">&gt;, </span><span style=\"color: #808000; text-decoration-color: #808000\">chunker_kwargs</span><span style=\"color: #000000; text-decoration-color: #000000\">=</span><span style=\"color: #800080; text-decoration-color: #800080; font-style: italic\">None</span><span style=\"color: #000000; text-decoration-color: #000000\">, </span><span style=\"color: #808000; text-decoration-color: #808000\">custom_class</span><span style=\"color: #000000; text-decoration-color: #000000\">=</span><span style=\"color: #800080; text-decoration-color: #800080; font-style: italic\">None</span><span style=\"color: #000000; text-decoration-color: #000000; font-weight: bold\">)</span><span style=\"color: #000000; text-decoration-color: #000000\">,</span> <span style=\"color: #7f7f7f; text-decoration-color: #7f7f7f\">                   </span>\n",
       "<span style=\"color: #7fbfbf; text-decoration-color: #7fbfbf\">           </span>         <span style=\"color: #008000; text-decoration-color: #008000\">'chunk_overlap'</span><span style=\"color: #000000; text-decoration-color: #000000\">: </span><span style=\"color: #008080; text-decoration-color: #008080; font-weight: bold\">100</span><span style=\"color: #000000; text-decoration-color: #000000\">, </span><span style=\"color: #008000; text-decoration-color: #008000\">'chunk_size'</span><span style=\"color: #000000; text-decoration-color: #000000\">: </span><span style=\"color: #008080; text-decoration-color: #008080; font-weight: bold\">1500</span><span style=\"color: #000000; text-decoration-color: #000000\">, </span><span style=\"color: #008000; text-decoration-color: #008000\">'embedding_model'</span><span style=\"color: #000000; text-decoration-color: #000000\">: </span>               <span style=\"color: #7f7f7f; text-decoration-color: #7f7f7f\">                   </span>\n",
       "<span style=\"color: #7fbfbf; text-decoration-color: #7fbfbf\">           </span>         <span style=\"color: #800080; text-decoration-color: #800080; font-weight: bold\">EmbeddingConfig</span><span style=\"color: #000000; text-decoration-color: #000000; font-weight: bold\">(</span><span style=\"color: #808000; text-decoration-color: #808000\">type</span><span style=\"color: #000000; text-decoration-color: #000000\">=&lt;EmbeddingModel.HUGGINGFACE: </span><span style=\"color: #008000; text-decoration-color: #008000\">'huggingface'</span><span style=\"color: #000000; text-decoration-color: #000000\">&gt;, </span>          <span style=\"color: #7f7f7f; text-decoration-color: #7f7f7f\">                   </span>\n",
       "<span style=\"color: #7fbfbf; text-decoration-color: #7fbfbf\">           </span>         <span style=\"color: #808000; text-decoration-color: #808000\">model_kwargs</span><span style=\"color: #000000; text-decoration-color: #000000\">=</span><span style=\"color: #000000; text-decoration-color: #000000; font-weight: bold\">{</span><span style=\"color: #008000; text-decoration-color: #008000\">'model_name'</span><span style=\"color: #000000; text-decoration-color: #000000\">: </span><span style=\"color: #008000; text-decoration-color: #008000\">'mixedbread-ai/mxbai-embed-large-v1'</span><span style=\"color: #000000; text-decoration-color: #000000; font-weight: bold\">}</span><span style=\"color: #000000; text-decoration-color: #000000\">, </span>         <span style=\"color: #7f7f7f; text-decoration-color: #7f7f7f\">                   </span>\n",
       "<span style=\"color: #7fbfbf; text-decoration-color: #7fbfbf\">           </span>         <span style=\"color: #808000; text-decoration-color: #808000\">custom_class</span><span style=\"color: #000000; text-decoration-color: #000000\">=</span><span style=\"color: #800080; text-decoration-color: #800080; font-style: italic\">None</span><span style=\"color: #000000; text-decoration-color: #000000; font-weight: bold\">)</span><span style=\"color: #000000; text-decoration-color: #000000\">, </span><span style=\"color: #008000; text-decoration-color: #008000\">'vector_database'</span><span style=\"color: #000000; text-decoration-color: #000000\">: </span>                                     <span style=\"color: #7f7f7f; text-decoration-color: #7f7f7f\">                   </span>\n",
       "<span style=\"color: #7fbfbf; text-decoration-color: #7fbfbf\">           </span>         <span style=\"color: #800080; text-decoration-color: #800080; font-weight: bold\">VectorDBConfig</span><span style=\"color: #000000; text-decoration-color: #000000; font-weight: bold\">(</span><span style=\"color: #808000; text-decoration-color: #808000\">type</span><span style=\"color: #000000; text-decoration-color: #000000\">=&lt;VectorDatabase.CHROMA: </span><span style=\"color: #008000; text-decoration-color: #008000\">'chroma'</span><span style=\"font-weight: bold\">&gt;</span>,                      <span style=\"color: #7f7f7f; text-decoration-color: #7f7f7f\">                   </span>\n",
       "<span style=\"color: #7fbfbf; text-decoration-color: #7fbfbf\">           </span>         <span style=\"color: #808000; text-decoration-color: #808000\">vectordb_kwargs</span>=<span style=\"font-weight: bold\">{</span><span style=\"color: #008000; text-decoration-color: #008000\">'collection_metadata'</span>: <span style=\"font-weight: bold\">{</span><span style=\"color: #008000; text-decoration-color: #008000\">'hnsw:space'</span>: <span style=\"color: #008000; text-decoration-color: #008000\">'cosine'</span><span style=\"font-weight: bold\">}}</span>,          <span style=\"color: #7f7f7f; text-decoration-color: #7f7f7f\">                   </span>\n",
       "<span style=\"color: #7fbfbf; text-decoration-color: #7fbfbf\">           </span>         <span style=\"color: #808000; text-decoration-color: #808000\">custom_class</span>=<span style=\"color: #800080; text-decoration-color: #800080; font-style: italic\">None</span><span style=\"font-weight: bold\">)</span>, <span style=\"color: #008000; text-decoration-color: #008000\">'sampling_rate'</span>: <span style=\"color: #800080; text-decoration-color: #800080; font-style: italic\">None</span><span style=\"font-weight: bold\">}</span>                                  <span style=\"color: #7f7f7f; text-decoration-color: #7f7f7f\">                   </span>\n",
       "</pre>\n"
      ],
      "text/plain": [
       "\u001b[2;36m          \u001b[0m\u001b[2;36m \u001b[0m\u001b[34mINFO    \u001b[0m Trial parameters: \u001b[1m{\u001b[0m\u001b[32m'input_source'\u001b[0m: \u001b[32m'lillog_agents.pdf'\u001b[0m, \u001b[32m'test_dataset'\u001b[0m:     \u001b]8;id=358423;file:///Users/aravind/KruxAI/ragbuilder/src/ragbuilder/data_ingest/optimization.py\u001b\\\u001b[2moptimization.py\u001b[0m\u001b]8;;\u001b\\\u001b[2m:\u001b[0m\u001b]8;id=212140;file:///Users/aravind/KruxAI/ragbuilder/src/ragbuilder/data_ingest/optimization.py#192\u001b\\\u001b[2m192\u001b[0m\u001b]8;;\u001b\\\n",
       "\u001b[2;36m           \u001b[0m         \u001b[32m'rag_test_data_lilianweng_gpt-4o_1721032414.736622_SEMI.csv'\u001b[0m,               \u001b[2m                   \u001b[0m\n",
       "\u001b[2;36m           \u001b[0m         \u001b[32m'document_loader'\u001b[0m: \u001b[1;35mLoaderConfig\u001b[0m\u001b[1m(\u001b[0m\u001b[33mtype\u001b[0m=\u001b[1m<\u001b[0m\u001b[1;95mParserType.UNSTRUCTURED:\u001b[0m\u001b[39m \u001b[0m             \u001b[2m                   \u001b[0m\n",
       "\u001b[2;36m           \u001b[0m         \u001b[32m'unstructured'\u001b[0m\u001b[39m>, \u001b[0m\u001b[33mloader_kwargs\u001b[0m\u001b[39m=\u001b[0m\u001b[3;35mNone\u001b[0m\u001b[39m, \u001b[0m\u001b[33mcustom_class\u001b[0m\u001b[39m=\u001b[0m\u001b[3;35mNone\u001b[0m\u001b[1;39m)\u001b[0m\u001b[39m, \u001b[0m                   \u001b[2m                   \u001b[0m\n",
       "\u001b[2;36m           \u001b[0m         \u001b[32m'chunking_strategy'\u001b[0m\u001b[39m: \u001b[0m                                                       \u001b[2m                   \u001b[0m\n",
       "\u001b[2;36m           \u001b[0m         \u001b[1;35mChunkingStrategyConfig\u001b[0m\u001b[1;39m(\u001b[0m\u001b[33mtype\u001b[0m\u001b[39m=<ChunkingStrategy.RECURSIVE: \u001b[0m                   \u001b[2m                   \u001b[0m\n",
       "\u001b[2;36m           \u001b[0m         \u001b[32m'RecursiveCharacterTextSplitter'\u001b[0m\u001b[39m>, \u001b[0m\u001b[33mchunker_kwargs\u001b[0m\u001b[39m=\u001b[0m\u001b[3;35mNone\u001b[0m\u001b[39m, \u001b[0m\u001b[33mcustom_class\u001b[0m\u001b[39m=\u001b[0m\u001b[3;35mNone\u001b[0m\u001b[1;39m)\u001b[0m\u001b[39m,\u001b[0m \u001b[2m                   \u001b[0m\n",
       "\u001b[2;36m           \u001b[0m         \u001b[32m'chunk_overlap'\u001b[0m\u001b[39m: \u001b[0m\u001b[1;36m100\u001b[0m\u001b[39m, \u001b[0m\u001b[32m'chunk_size'\u001b[0m\u001b[39m: \u001b[0m\u001b[1;36m1500\u001b[0m\u001b[39m, \u001b[0m\u001b[32m'embedding_model'\u001b[0m\u001b[39m: \u001b[0m               \u001b[2m                   \u001b[0m\n",
       "\u001b[2;36m           \u001b[0m         \u001b[1;35mEmbeddingConfig\u001b[0m\u001b[1;39m(\u001b[0m\u001b[33mtype\u001b[0m\u001b[39m=<EmbeddingModel.HUGGINGFACE: \u001b[0m\u001b[32m'huggingface'\u001b[0m\u001b[39m>, \u001b[0m          \u001b[2m                   \u001b[0m\n",
       "\u001b[2;36m           \u001b[0m         \u001b[33mmodel_kwargs\u001b[0m\u001b[39m=\u001b[0m\u001b[1;39m{\u001b[0m\u001b[32m'model_name'\u001b[0m\u001b[39m: \u001b[0m\u001b[32m'mixedbread-ai/mxbai-embed-large-v1'\u001b[0m\u001b[1;39m}\u001b[0m\u001b[39m, \u001b[0m         \u001b[2m                   \u001b[0m\n",
       "\u001b[2;36m           \u001b[0m         \u001b[33mcustom_class\u001b[0m\u001b[39m=\u001b[0m\u001b[3;35mNone\u001b[0m\u001b[1;39m)\u001b[0m\u001b[39m, \u001b[0m\u001b[32m'vector_database'\u001b[0m\u001b[39m: \u001b[0m                                     \u001b[2m                   \u001b[0m\n",
       "\u001b[2;36m           \u001b[0m         \u001b[1;35mVectorDBConfig\u001b[0m\u001b[1;39m(\u001b[0m\u001b[33mtype\u001b[0m\u001b[39m=<VectorDatabase.CHROMA: \u001b[0m\u001b[32m'chroma'\u001b[0m\u001b[1m>\u001b[0m,                      \u001b[2m                   \u001b[0m\n",
       "\u001b[2;36m           \u001b[0m         \u001b[33mvectordb_kwargs\u001b[0m=\u001b[1m{\u001b[0m\u001b[32m'collection_metadata'\u001b[0m: \u001b[1m{\u001b[0m\u001b[32m'hnsw:space'\u001b[0m: \u001b[32m'cosine'\u001b[0m\u001b[1m}\u001b[0m\u001b[1m}\u001b[0m,          \u001b[2m                   \u001b[0m\n",
       "\u001b[2;36m           \u001b[0m         \u001b[33mcustom_class\u001b[0m=\u001b[3;35mNone\u001b[0m\u001b[1m)\u001b[0m, \u001b[32m'sampling_rate'\u001b[0m: \u001b[3;35mNone\u001b[0m\u001b[1m}\u001b[0m                                  \u001b[2m                   \u001b[0m\n"
      ]
     },
     "metadata": {},
     "output_type": "display_data"
    },
    {
     "data": {
      "text/html": [
       "<pre style=\"white-space:pre;overflow-x:auto;line-height:normal;font-family:Menlo,'DejaVu Sans Mono',consolas,'Courier New',monospace\"><span style=\"color: #7fbfbf; text-decoration-color: #7fbfbf\">           </span><span style=\"color: #000080; text-decoration-color: #000080\">INFO    </span> Config already evaluated with score: <span style=\"color: #008080; text-decoration-color: #008080; font-weight: bold\">0.8015819494922954</span>                      <a href=\"file:///Users/aravind/KruxAI/ragbuilder/src/ragbuilder/data_ingest/optimization.py\" target=\"_blank\"><span style=\"color: #7f7f7f; text-decoration-color: #7f7f7f\">optimization.py</span></a><span style=\"color: #7f7f7f; text-decoration-color: #7f7f7f\">:</span><a href=\"file:///Users/aravind/KruxAI/ragbuilder/src/ragbuilder/data_ingest/optimization.py#63\" target=\"_blank\"><span style=\"color: #7f7f7f; text-decoration-color: #7f7f7f\">63</span></a>\n",
       "</pre>\n"
      ],
      "text/plain": [
       "\u001b[2;36m          \u001b[0m\u001b[2;36m \u001b[0m\u001b[34mINFO    \u001b[0m Config already evaluated with score: \u001b[1;36m0.8015819494922954\u001b[0m                      \u001b]8;id=244896;file:///Users/aravind/KruxAI/ragbuilder/src/ragbuilder/data_ingest/optimization.py\u001b\\\u001b[2moptimization.py\u001b[0m\u001b]8;;\u001b\\\u001b[2m:\u001b[0m\u001b]8;id=746341;file:///Users/aravind/KruxAI/ragbuilder/src/ragbuilder/data_ingest/optimization.py#63\u001b\\\u001b[2m63\u001b[0m\u001b]8;;\u001b\\\n"
      ]
     },
     "metadata": {},
     "output_type": "display_data"
    },
    {
     "name": "stdout",
     "output_type": "stream",
     "text": [
      "[I 2024-11-13 00:57:47,348] Trial 8 finished with value: 0.8015819494922954 and parameters: {'chunk_size': 1500}. Best is trial 5 with value: 0.8080389504631361.\n"
     ]
    },
    {
     "data": {
      "text/html": [
       "<pre style=\"white-space:pre;overflow-x:auto;line-height:normal;font-family:Menlo,'DejaVu Sans Mono',consolas,'Courier New',monospace\"><span style=\"color: #005fff; text-decoration-color: #005fff; font-weight: bold\">Trial </span><span style=\"color: #005fff; text-decoration-color: #005fff; font-weight: bold\">9</span><span style=\"color: #005fff; text-decoration-color: #005fff; font-weight: bold\">/</span><span style=\"color: #005fff; text-decoration-color: #005fff; font-weight: bold\">9</span>\n",
       "</pre>\n"
      ],
      "text/plain": [
       "\u001b[1;38;5;27mTrial \u001b[0m\u001b[1;38;5;27m9\u001b[0m\u001b[1;38;5;27m/\u001b[0m\u001b[1;38;5;27m9\u001b[0m\n"
      ]
     },
     "metadata": {},
     "output_type": "display_data"
    },
    {
     "data": {
      "text/html": [
       "<pre style=\"white-space:pre;overflow-x:auto;line-height:normal;font-family:Menlo,'DejaVu Sans Mono',consolas,'Courier New',monospace\"><span style=\"color: #7fbfbf; text-decoration-color: #7fbfbf\">           </span><span style=\"color: #000080; text-decoration-color: #000080\">INFO    </span> Trial parameters: <span style=\"font-weight: bold\">{</span><span style=\"color: #008000; text-decoration-color: #008000\">'input_source'</span>: <span style=\"color: #008000; text-decoration-color: #008000\">'lillog_agents.pdf'</span>, <span style=\"color: #008000; text-decoration-color: #008000\">'test_dataset'</span>:     <a href=\"file:///Users/aravind/KruxAI/ragbuilder/src/ragbuilder/data_ingest/optimization.py\" target=\"_blank\"><span style=\"color: #7f7f7f; text-decoration-color: #7f7f7f\">optimization.py</span></a><span style=\"color: #7f7f7f; text-decoration-color: #7f7f7f\">:</span><a href=\"file:///Users/aravind/KruxAI/ragbuilder/src/ragbuilder/data_ingest/optimization.py#192\" target=\"_blank\"><span style=\"color: #7f7f7f; text-decoration-color: #7f7f7f\">192</span></a>\n",
       "<span style=\"color: #7fbfbf; text-decoration-color: #7fbfbf\">           </span>         <span style=\"color: #008000; text-decoration-color: #008000\">'rag_test_data_lilianweng_gpt-4o_1721032414.736622_SEMI.csv'</span>,               <span style=\"color: #7f7f7f; text-decoration-color: #7f7f7f\">                   </span>\n",
       "<span style=\"color: #7fbfbf; text-decoration-color: #7fbfbf\">           </span>         <span style=\"color: #008000; text-decoration-color: #008000\">'document_loader'</span>: <span style=\"color: #800080; text-decoration-color: #800080; font-weight: bold\">LoaderConfig</span><span style=\"font-weight: bold\">(</span><span style=\"color: #808000; text-decoration-color: #808000\">type</span>=<span style=\"font-weight: bold\">&lt;</span><span style=\"color: #ff00ff; text-decoration-color: #ff00ff; font-weight: bold\">ParserType.UNSTRUCTURED:</span><span style=\"color: #000000; text-decoration-color: #000000\"> </span>             <span style=\"color: #7f7f7f; text-decoration-color: #7f7f7f\">                   </span>\n",
       "<span style=\"color: #7fbfbf; text-decoration-color: #7fbfbf\">           </span>         <span style=\"color: #008000; text-decoration-color: #008000\">'unstructured'</span><span style=\"color: #000000; text-decoration-color: #000000\">&gt;, </span><span style=\"color: #808000; text-decoration-color: #808000\">loader_kwargs</span><span style=\"color: #000000; text-decoration-color: #000000\">=</span><span style=\"color: #800080; text-decoration-color: #800080; font-style: italic\">None</span><span style=\"color: #000000; text-decoration-color: #000000\">, </span><span style=\"color: #808000; text-decoration-color: #808000\">custom_class</span><span style=\"color: #000000; text-decoration-color: #000000\">=</span><span style=\"color: #800080; text-decoration-color: #800080; font-style: italic\">None</span><span style=\"color: #000000; text-decoration-color: #000000; font-weight: bold\">)</span><span style=\"color: #000000; text-decoration-color: #000000\">, </span>                   <span style=\"color: #7f7f7f; text-decoration-color: #7f7f7f\">                   </span>\n",
       "<span style=\"color: #7fbfbf; text-decoration-color: #7fbfbf\">           </span>         <span style=\"color: #008000; text-decoration-color: #008000\">'chunking_strategy'</span><span style=\"color: #000000; text-decoration-color: #000000\">: </span>                                                       <span style=\"color: #7f7f7f; text-decoration-color: #7f7f7f\">                   </span>\n",
       "<span style=\"color: #7fbfbf; text-decoration-color: #7fbfbf\">           </span>         <span style=\"color: #800080; text-decoration-color: #800080; font-weight: bold\">ChunkingStrategyConfig</span><span style=\"color: #000000; text-decoration-color: #000000; font-weight: bold\">(</span><span style=\"color: #808000; text-decoration-color: #808000\">type</span><span style=\"color: #000000; text-decoration-color: #000000\">=&lt;ChunkingStrategy.RECURSIVE: </span>                   <span style=\"color: #7f7f7f; text-decoration-color: #7f7f7f\">                   </span>\n",
       "<span style=\"color: #7fbfbf; text-decoration-color: #7fbfbf\">           </span>         <span style=\"color: #008000; text-decoration-color: #008000\">'RecursiveCharacterTextSplitter'</span><span style=\"color: #000000; text-decoration-color: #000000\">&gt;, </span><span style=\"color: #808000; text-decoration-color: #808000\">chunker_kwargs</span><span style=\"color: #000000; text-decoration-color: #000000\">=</span><span style=\"color: #800080; text-decoration-color: #800080; font-style: italic\">None</span><span style=\"color: #000000; text-decoration-color: #000000\">, </span><span style=\"color: #808000; text-decoration-color: #808000\">custom_class</span><span style=\"color: #000000; text-decoration-color: #000000\">=</span><span style=\"color: #800080; text-decoration-color: #800080; font-style: italic\">None</span><span style=\"color: #000000; text-decoration-color: #000000; font-weight: bold\">)</span><span style=\"color: #000000; text-decoration-color: #000000\">,</span> <span style=\"color: #7f7f7f; text-decoration-color: #7f7f7f\">                   </span>\n",
       "<span style=\"color: #7fbfbf; text-decoration-color: #7fbfbf\">           </span>         <span style=\"color: #008000; text-decoration-color: #008000\">'chunk_overlap'</span><span style=\"color: #000000; text-decoration-color: #000000\">: </span><span style=\"color: #008080; text-decoration-color: #008080; font-weight: bold\">100</span><span style=\"color: #000000; text-decoration-color: #000000\">, </span><span style=\"color: #008000; text-decoration-color: #008000\">'chunk_size'</span><span style=\"color: #000000; text-decoration-color: #000000\">: </span><span style=\"color: #008080; text-decoration-color: #008080; font-weight: bold\">1000</span><span style=\"color: #000000; text-decoration-color: #000000\">, </span><span style=\"color: #008000; text-decoration-color: #008000\">'embedding_model'</span><span style=\"color: #000000; text-decoration-color: #000000\">: </span>               <span style=\"color: #7f7f7f; text-decoration-color: #7f7f7f\">                   </span>\n",
       "<span style=\"color: #7fbfbf; text-decoration-color: #7fbfbf\">           </span>         <span style=\"color: #800080; text-decoration-color: #800080; font-weight: bold\">EmbeddingConfig</span><span style=\"color: #000000; text-decoration-color: #000000; font-weight: bold\">(</span><span style=\"color: #808000; text-decoration-color: #808000\">type</span><span style=\"color: #000000; text-decoration-color: #000000\">=&lt;EmbeddingModel.HUGGINGFACE: </span><span style=\"color: #008000; text-decoration-color: #008000\">'huggingface'</span><span style=\"color: #000000; text-decoration-color: #000000\">&gt;, </span>          <span style=\"color: #7f7f7f; text-decoration-color: #7f7f7f\">                   </span>\n",
       "<span style=\"color: #7fbfbf; text-decoration-color: #7fbfbf\">           </span>         <span style=\"color: #808000; text-decoration-color: #808000\">model_kwargs</span><span style=\"color: #000000; text-decoration-color: #000000\">=</span><span style=\"color: #000000; text-decoration-color: #000000; font-weight: bold\">{</span><span style=\"color: #008000; text-decoration-color: #008000\">'model_name'</span><span style=\"color: #000000; text-decoration-color: #000000\">: </span><span style=\"color: #008000; text-decoration-color: #008000\">'mixedbread-ai/mxbai-embed-large-v1'</span><span style=\"color: #000000; text-decoration-color: #000000; font-weight: bold\">}</span><span style=\"color: #000000; text-decoration-color: #000000\">, </span>         <span style=\"color: #7f7f7f; text-decoration-color: #7f7f7f\">                   </span>\n",
       "<span style=\"color: #7fbfbf; text-decoration-color: #7fbfbf\">           </span>         <span style=\"color: #808000; text-decoration-color: #808000\">custom_class</span><span style=\"color: #000000; text-decoration-color: #000000\">=</span><span style=\"color: #800080; text-decoration-color: #800080; font-style: italic\">None</span><span style=\"color: #000000; text-decoration-color: #000000; font-weight: bold\">)</span><span style=\"color: #000000; text-decoration-color: #000000\">, </span><span style=\"color: #008000; text-decoration-color: #008000\">'vector_database'</span><span style=\"color: #000000; text-decoration-color: #000000\">: </span>                                     <span style=\"color: #7f7f7f; text-decoration-color: #7f7f7f\">                   </span>\n",
       "<span style=\"color: #7fbfbf; text-decoration-color: #7fbfbf\">           </span>         <span style=\"color: #800080; text-decoration-color: #800080; font-weight: bold\">VectorDBConfig</span><span style=\"color: #000000; text-decoration-color: #000000; font-weight: bold\">(</span><span style=\"color: #808000; text-decoration-color: #808000\">type</span><span style=\"color: #000000; text-decoration-color: #000000\">=&lt;VectorDatabase.CHROMA: </span><span style=\"color: #008000; text-decoration-color: #008000\">'chroma'</span><span style=\"font-weight: bold\">&gt;</span>,                      <span style=\"color: #7f7f7f; text-decoration-color: #7f7f7f\">                   </span>\n",
       "<span style=\"color: #7fbfbf; text-decoration-color: #7fbfbf\">           </span>         <span style=\"color: #808000; text-decoration-color: #808000\">vectordb_kwargs</span>=<span style=\"font-weight: bold\">{</span><span style=\"color: #008000; text-decoration-color: #008000\">'collection_metadata'</span>: <span style=\"font-weight: bold\">{</span><span style=\"color: #008000; text-decoration-color: #008000\">'hnsw:space'</span>: <span style=\"color: #008000; text-decoration-color: #008000\">'cosine'</span><span style=\"font-weight: bold\">}}</span>,          <span style=\"color: #7f7f7f; text-decoration-color: #7f7f7f\">                   </span>\n",
       "<span style=\"color: #7fbfbf; text-decoration-color: #7fbfbf\">           </span>         <span style=\"color: #808000; text-decoration-color: #808000\">custom_class</span>=<span style=\"color: #800080; text-decoration-color: #800080; font-style: italic\">None</span><span style=\"font-weight: bold\">)</span>, <span style=\"color: #008000; text-decoration-color: #008000\">'sampling_rate'</span>: <span style=\"color: #800080; text-decoration-color: #800080; font-style: italic\">None</span><span style=\"font-weight: bold\">}</span>                                  <span style=\"color: #7f7f7f; text-decoration-color: #7f7f7f\">                   </span>\n",
       "</pre>\n"
      ],
      "text/plain": [
       "\u001b[2;36m          \u001b[0m\u001b[2;36m \u001b[0m\u001b[34mINFO    \u001b[0m Trial parameters: \u001b[1m{\u001b[0m\u001b[32m'input_source'\u001b[0m: \u001b[32m'lillog_agents.pdf'\u001b[0m, \u001b[32m'test_dataset'\u001b[0m:     \u001b]8;id=511643;file:///Users/aravind/KruxAI/ragbuilder/src/ragbuilder/data_ingest/optimization.py\u001b\\\u001b[2moptimization.py\u001b[0m\u001b]8;;\u001b\\\u001b[2m:\u001b[0m\u001b]8;id=133311;file:///Users/aravind/KruxAI/ragbuilder/src/ragbuilder/data_ingest/optimization.py#192\u001b\\\u001b[2m192\u001b[0m\u001b]8;;\u001b\\\n",
       "\u001b[2;36m           \u001b[0m         \u001b[32m'rag_test_data_lilianweng_gpt-4o_1721032414.736622_SEMI.csv'\u001b[0m,               \u001b[2m                   \u001b[0m\n",
       "\u001b[2;36m           \u001b[0m         \u001b[32m'document_loader'\u001b[0m: \u001b[1;35mLoaderConfig\u001b[0m\u001b[1m(\u001b[0m\u001b[33mtype\u001b[0m=\u001b[1m<\u001b[0m\u001b[1;95mParserType.UNSTRUCTURED:\u001b[0m\u001b[39m \u001b[0m             \u001b[2m                   \u001b[0m\n",
       "\u001b[2;36m           \u001b[0m         \u001b[32m'unstructured'\u001b[0m\u001b[39m>, \u001b[0m\u001b[33mloader_kwargs\u001b[0m\u001b[39m=\u001b[0m\u001b[3;35mNone\u001b[0m\u001b[39m, \u001b[0m\u001b[33mcustom_class\u001b[0m\u001b[39m=\u001b[0m\u001b[3;35mNone\u001b[0m\u001b[1;39m)\u001b[0m\u001b[39m, \u001b[0m                   \u001b[2m                   \u001b[0m\n",
       "\u001b[2;36m           \u001b[0m         \u001b[32m'chunking_strategy'\u001b[0m\u001b[39m: \u001b[0m                                                       \u001b[2m                   \u001b[0m\n",
       "\u001b[2;36m           \u001b[0m         \u001b[1;35mChunkingStrategyConfig\u001b[0m\u001b[1;39m(\u001b[0m\u001b[33mtype\u001b[0m\u001b[39m=<ChunkingStrategy.RECURSIVE: \u001b[0m                   \u001b[2m                   \u001b[0m\n",
       "\u001b[2;36m           \u001b[0m         \u001b[32m'RecursiveCharacterTextSplitter'\u001b[0m\u001b[39m>, \u001b[0m\u001b[33mchunker_kwargs\u001b[0m\u001b[39m=\u001b[0m\u001b[3;35mNone\u001b[0m\u001b[39m, \u001b[0m\u001b[33mcustom_class\u001b[0m\u001b[39m=\u001b[0m\u001b[3;35mNone\u001b[0m\u001b[1;39m)\u001b[0m\u001b[39m,\u001b[0m \u001b[2m                   \u001b[0m\n",
       "\u001b[2;36m           \u001b[0m         \u001b[32m'chunk_overlap'\u001b[0m\u001b[39m: \u001b[0m\u001b[1;36m100\u001b[0m\u001b[39m, \u001b[0m\u001b[32m'chunk_size'\u001b[0m\u001b[39m: \u001b[0m\u001b[1;36m1000\u001b[0m\u001b[39m, \u001b[0m\u001b[32m'embedding_model'\u001b[0m\u001b[39m: \u001b[0m               \u001b[2m                   \u001b[0m\n",
       "\u001b[2;36m           \u001b[0m         \u001b[1;35mEmbeddingConfig\u001b[0m\u001b[1;39m(\u001b[0m\u001b[33mtype\u001b[0m\u001b[39m=<EmbeddingModel.HUGGINGFACE: \u001b[0m\u001b[32m'huggingface'\u001b[0m\u001b[39m>, \u001b[0m          \u001b[2m                   \u001b[0m\n",
       "\u001b[2;36m           \u001b[0m         \u001b[33mmodel_kwargs\u001b[0m\u001b[39m=\u001b[0m\u001b[1;39m{\u001b[0m\u001b[32m'model_name'\u001b[0m\u001b[39m: \u001b[0m\u001b[32m'mixedbread-ai/mxbai-embed-large-v1'\u001b[0m\u001b[1;39m}\u001b[0m\u001b[39m, \u001b[0m         \u001b[2m                   \u001b[0m\n",
       "\u001b[2;36m           \u001b[0m         \u001b[33mcustom_class\u001b[0m\u001b[39m=\u001b[0m\u001b[3;35mNone\u001b[0m\u001b[1;39m)\u001b[0m\u001b[39m, \u001b[0m\u001b[32m'vector_database'\u001b[0m\u001b[39m: \u001b[0m                                     \u001b[2m                   \u001b[0m\n",
       "\u001b[2;36m           \u001b[0m         \u001b[1;35mVectorDBConfig\u001b[0m\u001b[1;39m(\u001b[0m\u001b[33mtype\u001b[0m\u001b[39m=<VectorDatabase.CHROMA: \u001b[0m\u001b[32m'chroma'\u001b[0m\u001b[1m>\u001b[0m,                      \u001b[2m                   \u001b[0m\n",
       "\u001b[2;36m           \u001b[0m         \u001b[33mvectordb_kwargs\u001b[0m=\u001b[1m{\u001b[0m\u001b[32m'collection_metadata'\u001b[0m: \u001b[1m{\u001b[0m\u001b[32m'hnsw:space'\u001b[0m: \u001b[32m'cosine'\u001b[0m\u001b[1m}\u001b[0m\u001b[1m}\u001b[0m,          \u001b[2m                   \u001b[0m\n",
       "\u001b[2;36m           \u001b[0m         \u001b[33mcustom_class\u001b[0m=\u001b[3;35mNone\u001b[0m\u001b[1m)\u001b[0m, \u001b[32m'sampling_rate'\u001b[0m: \u001b[3;35mNone\u001b[0m\u001b[1m}\u001b[0m                                  \u001b[2m                   \u001b[0m\n"
      ]
     },
     "metadata": {},
     "output_type": "display_data"
    },
    {
     "data": {
      "text/html": [
       "<pre style=\"white-space:pre;overflow-x:auto;line-height:normal;font-family:Menlo,'DejaVu Sans Mono',consolas,'Courier New',monospace\"><span style=\"color: #7fbfbf; text-decoration-color: #7fbfbf\">           </span><span style=\"color: #000080; text-decoration-color: #000080\">INFO    </span> Config already evaluated with score: <span style=\"color: #008080; text-decoration-color: #008080; font-weight: bold\">0.8080389504631361</span>                      <a href=\"file:///Users/aravind/KruxAI/ragbuilder/src/ragbuilder/data_ingest/optimization.py\" target=\"_blank\"><span style=\"color: #7f7f7f; text-decoration-color: #7f7f7f\">optimization.py</span></a><span style=\"color: #7f7f7f; text-decoration-color: #7f7f7f\">:</span><a href=\"file:///Users/aravind/KruxAI/ragbuilder/src/ragbuilder/data_ingest/optimization.py#63\" target=\"_blank\"><span style=\"color: #7f7f7f; text-decoration-color: #7f7f7f\">63</span></a>\n",
       "</pre>\n"
      ],
      "text/plain": [
       "\u001b[2;36m          \u001b[0m\u001b[2;36m \u001b[0m\u001b[34mINFO    \u001b[0m Config already evaluated with score: \u001b[1;36m0.8080389504631361\u001b[0m                      \u001b]8;id=673252;file:///Users/aravind/KruxAI/ragbuilder/src/ragbuilder/data_ingest/optimization.py\u001b\\\u001b[2moptimization.py\u001b[0m\u001b]8;;\u001b\\\u001b[2m:\u001b[0m\u001b]8;id=184294;file:///Users/aravind/KruxAI/ragbuilder/src/ragbuilder/data_ingest/optimization.py#63\u001b\\\u001b[2m63\u001b[0m\u001b]8;;\u001b\\\n"
      ]
     },
     "metadata": {},
     "output_type": "display_data"
    },
    {
     "name": "stdout",
     "output_type": "stream",
     "text": [
      "[I 2024-11-13 00:57:47,354] Trial 9 finished with value: 0.8080389504631361 and parameters: {'chunk_size': 1000}. Best is trial 5 with value: 0.8080389504631361.\n"
     ]
    },
    {
     "data": {
      "text/html": [
       "<pre style=\"white-space:pre;overflow-x:auto;line-height:normal;font-family:Menlo,'DejaVu Sans Mono',consolas,'Courier New',monospace\"><span style=\"color: #005fff; text-decoration-color: #005fff; font-weight: bold\">Optimization Complete!</span>\n",
       "</pre>\n"
      ],
      "text/plain": [
       "\u001b[1;38;5;27mOptimization Complete!\u001b[0m\n"
      ]
     },
     "metadata": {},
     "output_type": "display_data"
    },
    {
     "data": {
      "text/html": [
       "<pre style=\"white-space:pre;overflow-x:auto;line-height:normal;font-family:Menlo,'DejaVu Sans Mono',consolas,'Courier New',monospace\"><span style=\"color: #008000; text-decoration-color: #008000\">Best Score:</span> <span style=\"color: #00ffff; text-decoration-color: #00ffff; font-weight: bold\">0.8080</span>\n",
       "</pre>\n"
      ],
      "text/plain": [
       "\u001b[32mBest Score:\u001b[0m \u001b[1;96m0.8080\u001b[0m\n"
      ]
     },
     "metadata": {},
     "output_type": "display_data"
    },
    {
     "data": {
      "text/html": [
       "<pre style=\"white-space:pre;overflow-x:auto;line-height:normal;font-family:Menlo,'DejaVu Sans Mono',consolas,'Courier New',monospace\"><span style=\"color: #008000; text-decoration-color: #008000\">Best Parameters:</span>\n",
       "</pre>\n"
      ],
      "text/plain": [
       "\u001b[32mBest Parameters:\u001b[0m\n"
      ]
     },
     "metadata": {},
     "output_type": "display_data"
    },
    {
     "data": {
      "text/html": [
       "<pre style=\"white-space:pre;overflow-x:auto;line-height:normal;font-family:Menlo,'DejaVu Sans Mono',consolas,'Courier New',monospace\"><span style=\"color: #00ffff; text-decoration-color: #00ffff; font-weight: bold\">{</span><span style=\"color: #008000; text-decoration-color: #008000\">'chunk_size'</span><span style=\"color: #00ffff; text-decoration-color: #00ffff\">: </span><span style=\"color: #008080; text-decoration-color: #008080; font-weight: bold\">1000</span><span style=\"color: #00ffff; text-decoration-color: #00ffff; font-weight: bold\">}</span>\n",
       "</pre>\n"
      ],
      "text/plain": [
       "\u001b[1;96m{\u001b[0m\u001b[32m'chunk_size'\u001b[0m\u001b[96m: \u001b[0m\u001b[1;36m1000\u001b[0m\u001b[1;96m}\u001b[0m\n"
      ]
     },
     "metadata": {},
     "output_type": "display_data"
    },
    {
     "data": {
      "text/html": [
       "<pre style=\"white-space:pre;overflow-x:auto;line-height:normal;font-family:Menlo,'DejaVu Sans Mono',consolas,'Courier New',monospace\"><span style=\"color: #7fbfbf; text-decoration-color: #7fbfbf\">           </span><span style=\"color: #000080; text-decoration-color: #000080\">INFO    </span> Load pretrained SentenceTransformer:                                 <a href=\"file:///opt/anaconda3/envs/ragbuilder/lib/python3.12/site-packages/sentence_transformers/SentenceTransformer.py\" target=\"_blank\"><span style=\"color: #7f7f7f; text-decoration-color: #7f7f7f\">SentenceTransformer.py</span></a><span style=\"color: #7f7f7f; text-decoration-color: #7f7f7f\">:</span><a href=\"file:///opt/anaconda3/envs/ragbuilder/lib/python3.12/site-packages/sentence_transformers/SentenceTransformer.py#113\" target=\"_blank\"><span style=\"color: #7f7f7f; text-decoration-color: #7f7f7f\">113</span></a>\n",
       "<span style=\"color: #7fbfbf; text-decoration-color: #7fbfbf\">           </span>         mixedbread-ai/mxbai-embed-large-v1                                   <span style=\"color: #7f7f7f; text-decoration-color: #7f7f7f\">                          </span>\n",
       "</pre>\n"
      ],
      "text/plain": [
       "\u001b[2;36m          \u001b[0m\u001b[2;36m \u001b[0m\u001b[34mINFO    \u001b[0m Load pretrained SentenceTransformer:                                 \u001b]8;id=217727;file:///opt/anaconda3/envs/ragbuilder/lib/python3.12/site-packages/sentence_transformers/SentenceTransformer.py\u001b\\\u001b[2mSentenceTransformer.py\u001b[0m\u001b]8;;\u001b\\\u001b[2m:\u001b[0m\u001b]8;id=388798;file:///opt/anaconda3/envs/ragbuilder/lib/python3.12/site-packages/sentence_transformers/SentenceTransformer.py#113\u001b\\\u001b[2m113\u001b[0m\u001b]8;;\u001b\\\n",
       "\u001b[2;36m           \u001b[0m         mixedbread-ai/mxbai-embed-large-v1                                   \u001b[2m                          \u001b[0m\n"
      ]
     },
     "metadata": {},
     "output_type": "display_data"
    },
    {
     "data": {
      "text/html": [
       "<pre style=\"white-space:pre;overflow-x:auto;line-height:normal;font-family:Menlo,'DejaVu Sans Mono',consolas,'Courier New',monospace\"><span style=\"color: #7fbfbf; text-decoration-color: #7fbfbf\">[00:57:51] </span><span style=\"color: #000080; text-decoration-color: #000080\">INFO    </span> Use pytorch device_name: mps                                         <a href=\"file:///opt/anaconda3/envs/ragbuilder/lib/python3.12/site-packages/sentence_transformers/SentenceTransformer.py\" target=\"_blank\"><span style=\"color: #7f7f7f; text-decoration-color: #7f7f7f\">SentenceTransformer.py</span></a><span style=\"color: #7f7f7f; text-decoration-color: #7f7f7f\">:</span><a href=\"file:///opt/anaconda3/envs/ragbuilder/lib/python3.12/site-packages/sentence_transformers/SentenceTransformer.py#219\" target=\"_blank\"><span style=\"color: #7f7f7f; text-decoration-color: #7f7f7f\">219</span></a>\n",
       "</pre>\n"
      ],
      "text/plain": [
       "\u001b[2;36m[00:57:51]\u001b[0m\u001b[2;36m \u001b[0m\u001b[34mINFO    \u001b[0m Use pytorch device_name: mps                                         \u001b]8;id=199763;file:///opt/anaconda3/envs/ragbuilder/lib/python3.12/site-packages/sentence_transformers/SentenceTransformer.py\u001b\\\u001b[2mSentenceTransformer.py\u001b[0m\u001b]8;;\u001b\\\u001b[2m:\u001b[0m\u001b]8;id=301055;file:///opt/anaconda3/envs/ragbuilder/lib/python3.12/site-packages/sentence_transformers/SentenceTransformer.py#219\u001b\\\u001b[2m219\u001b[0m\u001b]8;;\u001b\\\n"
      ]
     },
     "metadata": {},
     "output_type": "display_data"
    },
    {
     "data": {
      "text/html": [
       "<pre style=\"white-space:pre;overflow-x:auto;line-height:normal;font-family:Menlo,'DejaVu Sans Mono',consolas,'Courier New',monospace\"><span style=\"color: #7fbfbf; text-decoration-color: #7fbfbf\">[00:57:52] </span><span style=\"color: #000080; text-decoration-color: #000080\">INFO    </span> <span style=\"color: #008080; text-decoration-color: #008080; font-weight: bold\">2</span> prompts are loaded, with the keys: <span style=\"font-weight: bold\">[</span><span style=\"color: #008000; text-decoration-color: #008000\">'query'</span>, <span style=\"color: #008000; text-decoration-color: #008000\">'passage'</span><span style=\"font-weight: bold\">]</span>            <a href=\"file:///opt/anaconda3/envs/ragbuilder/lib/python3.12/site-packages/sentence_transformers/SentenceTransformer.py\" target=\"_blank\"><span style=\"color: #7f7f7f; text-decoration-color: #7f7f7f\">SentenceTransformer.py</span></a><span style=\"color: #7f7f7f; text-decoration-color: #7f7f7f\">:</span><a href=\"file:///opt/anaconda3/envs/ragbuilder/lib/python3.12/site-packages/sentence_transformers/SentenceTransformer.py#231\" target=\"_blank\"><span style=\"color: #7f7f7f; text-decoration-color: #7f7f7f\">231</span></a>\n",
       "</pre>\n"
      ],
      "text/plain": [
       "\u001b[2;36m[00:57:52]\u001b[0m\u001b[2;36m \u001b[0m\u001b[34mINFO    \u001b[0m \u001b[1;36m2\u001b[0m prompts are loaded, with the keys: \u001b[1m[\u001b[0m\u001b[32m'query'\u001b[0m, \u001b[32m'passage'\u001b[0m\u001b[1m]\u001b[0m            \u001b]8;id=772553;file:///opt/anaconda3/envs/ragbuilder/lib/python3.12/site-packages/sentence_transformers/SentenceTransformer.py\u001b\\\u001b[2mSentenceTransformer.py\u001b[0m\u001b]8;;\u001b\\\u001b[2m:\u001b[0m\u001b]8;id=301619;file:///opt/anaconda3/envs/ragbuilder/lib/python3.12/site-packages/sentence_transformers/SentenceTransformer.py#231\u001b\\\u001b[2m231\u001b[0m\u001b]8;;\u001b\\\n"
      ]
     },
     "metadata": {},
     "output_type": "display_data"
    },
    {
     "data": {
      "application/vnd.jupyter.widget-view+json": {
       "model_id": "17ad7c2cd1de40fe96668476a0e085d3",
       "version_major": 2,
       "version_minor": 0
      },
      "text/plain": [
       "Output()"
      ]
     },
     "metadata": {},
     "output_type": "display_data"
    },
    {
     "data": {
      "text/html": [
       "<pre style=\"white-space:pre;overflow-x:auto;line-height:normal;font-family:Menlo,'DejaVu Sans Mono',consolas,'Courier New',monospace\"><span style=\"color: #008000; text-decoration-color: #008000\">✓ Pipeline execution complete!</span>\n",
       "</pre>\n"
      ],
      "text/plain": [
       "\u001b[32m✓ Pipeline execution complete!\u001b[0m\n"
      ]
     },
     "metadata": {},
     "output_type": "display_data"
    },
    {
     "data": {
      "text/html": [
       "<pre style=\"white-space:pre;overflow-x:auto;line-height:normal;font-family:Menlo,'DejaVu Sans Mono',consolas,'Courier New',monospace\"></pre>\n"
      ],
      "text/plain": []
     },
     "metadata": {},
     "output_type": "display_data"
    }
   ],
   "source": [
    "best_config, best_score, best_indexer = data_ingest.run_optimization_from_dict(demo_config)"
   ]
  },
  {
   "cell_type": "code",
   "execution_count": 4,
   "metadata": {},
   "outputs": [
    {
     "data": {
      "text/plain": [
       "[(Document(metadata={'source': 'lillog_agents.pdf'}, page_content=\"A complicated task usually involves many steps. An agent needs to know what they are and plan\\n\\nahead.\\n\\nFAQ emojisearch.app\\n\\nLil'Log\\n\\nTask Decomposition\\n\\nChain of thought (CoT; Wei et al. 2022) has become a standard prompting technique for\\n\\nenhancing model performance on complex tasks. The model is instructed to “think step by step” to\\n\\nutilize more test-time computation to decompose hard tasks into smaller and simpler steps. CoT\\n\\ntransforms big tasks into multiple manageable tasks and shed lights into an interpretation of the\\n\\nmodelʼs thinking process.\\n\\nTree of Thoughts (Yao et al. 2023) extends CoT by exploring multiple reasoning possibilities at\\n\\neach step. It first decomposes the problem into multiple thought steps and generates multiple\\n\\nthoughts per step, creating a tree structure. The search process can be BFS (breadth-first search)\\n\\nor DFS (depth-first search) with each state evaluated by a classifier (via a prompt) or majority vote.\"),\n",
       "  0.749652624130249),\n",
       " (Document(metadata={'source': 'lillog_agents.pdf'}, page_content='Task decomposition can be done (1) by LLM with simple prompting like \"Steps for XYZ.\\\\n1.\" ,\\n\\n\"What are the subgoals for achieving XYZ?\" , (2) by using task-specific instructions; e.g. \"Write\\n\\na story outline.\" for writing a novel, or (3) with human inputs.\\n\\nAnother quite distinct approach, LLM+P (Liu et al. 2023), involves relying on an external classical\\n\\nplanner to do long-horizon planning. This approach utilizes the Planning Domain Definition\\n\\nLanguage (PDDL) as an intermediate interface to describe the planning problem. In this process,\\n\\nLLM (1) translates the problem into “Problem PDDL”, then (2) requests a classical planner to\\n\\ngenerate a PDDL plan based on an existing “Domain PDDL”, and finally (3) translates the PDDL plan\\n\\nback into natural language. Essentially, the planning step is outsourced to an external tool,\\n\\nassuming the availability of domain-specific PDDL and a suitable planner which is common in\\n\\ncertain robotic setups but not in many other domains.'),\n",
       "  0.7374033331871033),\n",
       " (Document(metadata={'source': 'lillog_agents.pdf'}, page_content='Instruction:\\n\\nThe AI assistant can parse user input to several tasks: [{\"task\": task, \"id\",\\n\\ntask_id, \"dep\": dependency_task_ids, \"args\": {\"text\": text, \"image\": URL, \"audio\":\\n\\nURL, \"video\": URL}}]. The \"dep\" field denotes the id of the previous task which\\n\\ngenerates a new resource that the current task relies on. A special tag \"-task_id\"\\n\\nrefers to the generated text image, audio and video in the dependency task with id\\n\\nas task_id. The task MUST be selected from the following options: {{ Available Task\\n\\nList }}. There is a logical relationship between tasks, please note their order. If\\n\\nthe user input can\\'t be parsed, you need to reply empty JSON. Here are several\\n\\ncases for your reference: {{ Demonstrations }}. The chat history is recorded as {{\\n\\nChat History }}. From this chat history, you can find the path of the user-\\n\\nmentioned resources for your task planning.\\n\\n(2) Model selection: LLM distributes the tasks to expert models, where the request is framed as a'),\n",
       "  0.64989173412323),\n",
       " (Document(metadata={'source': 'lillog_agents.pdf'}, page_content='ChatGPT Plugins and OpenAI API function calling are good examples of LLMs augmented with tool\\n\\nuse capability working in practice. The collection of tool APIs can be provided by other developers\\n\\n(as in Plugins) or self-defined (as in function calls).\\n\\nHuggingGPT (Shen et al. 2023) is a framework to use ChatGPT as the task planner to select\\n\\nmodels available in HuggingFace platform according to the model descriptions and summarize the\\n\\nresponse based on the execution results.\\n\\nFig. 11. Illustration of how HuggingGPT works. (Image source: Shen et al. 2023)\\n\\nLil\\'Log\\n\\nThe system comprises of 4 stages:\\n\\n(1) Task planning: LLM works as the brain and parses the user requests into multiple tasks. There\\n\\nare four attributes associated with each task: task type, ID, dependencies, and arguments. They\\n\\nuse few-shot examples to guide LLM to do task parsing and planning.\\n\\nInstruction:\\n\\nThe AI assistant can parse user input to several tasks: [{\"task\": task, \"id\",'),\n",
       "  0.6414249539375305)]"
      ]
     },
     "execution_count": 4,
     "metadata": {},
     "output_type": "execute_result"
    }
   ],
   "source": [
    "best_indexer.similarity_search_with_relevance_scores(\"What is task decomposition\")"
   ]
  },
  {
   "cell_type": "markdown",
   "metadata": {},
   "source": [
    "## Data Ingest Optimization Demo - Advanced"
   ]
  },
  {
   "cell_type": "code",
   "execution_count": 4,
   "metadata": {},
   "outputs": [],
   "source": [
    "options_config = {\n",
    "    \"input_source\": \"uber_10k.pdf\",\n",
    "    \"test_dataset\": \"rag_test_data_1726600284.375674 uber10k_shortlist.csv\",  # You'll need to create this with relevant test questions\n",
    "    \n",
    "    # Test multiple document loaders\n",
    "    \"document_loaders\": [\n",
    "        {\"type\": \"pymupdf\"}, \n",
    "        {\"type\": \"unstructured\"},\n",
    "        {\"type\": \"pypdf\"}\n",
    "    ],\n",
    "    \n",
    "    # Test different chunking strategies\n",
    "    \"chunking_strategies\": [\n",
    "        {\n",
    "            \"type\": \"RecursiveCharacterTextSplitter\",\n",
    "            \"chunker_kwargs\": {\"separators\": [\"\\n\\n\", \"\\n\", \" \", \"\"]}\n",
    "        },\n",
    "        {\n",
    "            \"type\": \"custom\",\n",
    "            \"custom_class\": \"ragbuilder.custom_components.CustomChunker\"\n",
    "        },\n",
    "    ],\n",
    "    \n",
    "    # Test various chunk sizes\n",
    "    \"chunk_size\": {\n",
    "        \"min\": 500,\n",
    "        \"max\": 2000,\n",
    "        \"stepsize\": 500\n",
    "    },\n",
    "    \n",
    "    # Test different overlap sizes\n",
    "    \"chunk_overlap\": [100],\n",
    "    \n",
    "    # Test multiple embedding models\n",
    "    \"embedding_models\": [\n",
    "        {\n",
    "            \"type\": \"huggingface\",\n",
    "            \"model_kwargs\": {\n",
    "                \"model_name\": \"mixedbread-ai/mxbai-embed-large-v1\",\n",
    "            }\n",
    "        },\n",
    "        {\n",
    "            \"type\": \"openai\",\n",
    "            \"model_kwargs\": {\n",
    "                \"model\": \"text-embedding-3-large\",\n",
    "            }\n",
    "        }\n",
    "    ],\n",
    "    \n",
    "    \"vector_databases\": [\n",
    "        {\n",
    "            \"type\": \"chroma\",\n",
    "            \"vectordb_kwargs\": {\n",
    "                'persist_directory': 'chroma_sample2',\n",
    "                'collection_metadata': {'hnsw:space': 'cosine'}\n",
    "            }\n",
    "        }\n",
    "    ],\n",
    "    \n",
    "    # Optimization settings\n",
    "    \"optimization\": {\n",
    "        \"n_trials\": 30, \n",
    "        \"n_jobs\": 1,\n",
    "        \"study_name\": \"lillog_agents_study\",\n",
    "        \"optimization_direction\": \"maximize\"\n",
    "    },\n",
    "    \n",
    "    # Evaluation settings\n",
    "    \"evaluation_config\": {\n",
    "        \"type\": \"similarity\",\n",
    "        \"evaluator_kwargs\": {\n",
    "            \"top_k\": 3,\n",
    "            \"relevance_threshold\": 0.2,\n",
    "            \"position_weights\": [1.0, 0.5, 0.3]  # More weight to top results\n",
    "        }\n",
    "    },\n",
    "    \n",
    "    # Logging configuration\n",
    "    \"log_config\": {\n",
    "        \"log_level\": 20,  # INFO level\n",
    "        \"show_progress_bar\": True,\n",
    "        \"verbose\": True\n",
    "    },\n",
    "    \n",
    "    # Enable database logging\n",
    "    \"database_logging\": True,\n",
    "    \"database_path\": \"lillog_agents_eval.db\"\n",
    "}"
   ]
  },
  {
   "cell_type": "code",
   "execution_count": 5,
   "metadata": {},
   "outputs": [
    {
     "data": {
      "text/html": [
       "<pre style=\"white-space:pre;overflow-x:auto;line-height:normal;font-family:Menlo,'DejaVu Sans Mono',consolas,'Courier New',monospace\"><span style=\"color: #7fbfbf; text-decoration-color: #7fbfbf\">[18:56:47] </span><span style=\"color: #000080; text-decoration-color: #000080\">INFO    </span> Loaded environment variables from .env                                              <a href=\"file:///Users/aravind/KruxAI/ragbuilder/src/ragbuilder/data_ingest/utils.py\" target=\"_blank\"><span style=\"color: #7f7f7f; text-decoration-color: #7f7f7f\">utils.py</span></a><span style=\"color: #7f7f7f; text-decoration-color: #7f7f7f\">:</span><a href=\"file:///Users/aravind/KruxAI/ragbuilder/src/ragbuilder/data_ingest/utils.py#13\" target=\"_blank\"><span style=\"color: #7f7f7f; text-decoration-color: #7f7f7f\">13</span></a>\n",
       "</pre>\n"
      ],
      "text/plain": [
       "\u001b[2;36m[18:56:47]\u001b[0m\u001b[2;36m \u001b[0m\u001b[34mINFO    \u001b[0m Loaded environment variables from .env                                              \u001b]8;id=892934;file:///Users/aravind/KruxAI/ragbuilder/src/ragbuilder/data_ingest/utils.py\u001b\\\u001b[2mutils.py\u001b[0m\u001b]8;;\u001b\\\u001b[2m:\u001b[0m\u001b]8;id=319282;file:///Users/aravind/KruxAI/ragbuilder/src/ragbuilder/data_ingest/utils.py#13\u001b\\\u001b[2m13\u001b[0m\u001b]8;;\u001b\\\n"
      ]
     },
     "metadata": {},
     "output_type": "display_data"
    },
    {
     "data": {
      "text/html": [
       "<pre style=\"white-space:pre;overflow-x:auto;line-height:normal;font-family:Menlo,'DejaVu Sans Mono',consolas,'Courier New',monospace\"><span style=\"color: #7fbfbf; text-decoration-color: #7fbfbf\">           </span><span style=\"color: #000080; text-decoration-color: #000080\">INFO    </span> Initialized DB logging for run_id: <span style=\"color: #008080; text-decoration-color: #008080; font-weight: bold\">1731418007</span>                                   <a href=\"file:///Users/aravind/KruxAI/ragbuilder/src/ragbuilder/data_ingest/callbacks.py\" target=\"_blank\"><span style=\"color: #7f7f7f; text-decoration-color: #7f7f7f\">callbacks.py</span></a><span style=\"color: #7f7f7f; text-decoration-color: #7f7f7f\">:</span><a href=\"file:///Users/aravind/KruxAI/ragbuilder/src/ragbuilder/data_ingest/callbacks.py#36\" target=\"_blank\"><span style=\"color: #7f7f7f; text-decoration-color: #7f7f7f\">36</span></a>\n",
       "</pre>\n"
      ],
      "text/plain": [
       "\u001b[2;36m          \u001b[0m\u001b[2;36m \u001b[0m\u001b[34mINFO    \u001b[0m Initialized DB logging for run_id: \u001b[1;36m1731418007\u001b[0m                                   \u001b]8;id=478334;file:///Users/aravind/KruxAI/ragbuilder/src/ragbuilder/data_ingest/callbacks.py\u001b\\\u001b[2mcallbacks.py\u001b[0m\u001b]8;;\u001b\\\u001b[2m:\u001b[0m\u001b]8;id=26010;file:///Users/aravind/KruxAI/ragbuilder/src/ragbuilder/data_ingest/callbacks.py#36\u001b\\\u001b[2m36\u001b[0m\u001b]8;;\u001b\\\n"
      ]
     },
     "metadata": {},
     "output_type": "display_data"
    },
    {
     "data": {
      "text/html": [
       "<pre style=\"white-space:pre;overflow-x:auto;line-height:normal;font-family:Menlo,'DejaVu Sans Mono',consolas,'Courier New',monospace\"><span style=\"color: #7fbfbf; text-decoration-color: #7fbfbf\">           </span><span style=\"color: #000080; text-decoration-color: #000080\">INFO    </span> Database logging enabled                                                     <a href=\"file:///Users/aravind/KruxAI/ragbuilder/src/ragbuilder/data_ingest/optimization.py\" target=\"_blank\"><span style=\"color: #7f7f7f; text-decoration-color: #7f7f7f\">optimization.py</span></a><span style=\"color: #7f7f7f; text-decoration-color: #7f7f7f\">:</span><a href=\"file:///Users/aravind/KruxAI/ragbuilder/src/ragbuilder/data_ingest/optimization.py#36\" target=\"_blank\"><span style=\"color: #7f7f7f; text-decoration-color: #7f7f7f\">36</span></a>\n",
       "</pre>\n"
      ],
      "text/plain": [
       "\u001b[2;36m          \u001b[0m\u001b[2;36m \u001b[0m\u001b[34mINFO    \u001b[0m Database logging enabled                                                     \u001b]8;id=783925;file:///Users/aravind/KruxAI/ragbuilder/src/ragbuilder/data_ingest/optimization.py\u001b\\\u001b[2moptimization.py\u001b[0m\u001b]8;;\u001b\\\u001b[2m:\u001b[0m\u001b]8;id=969897;file:///Users/aravind/KruxAI/ragbuilder/src/ragbuilder/data_ingest/optimization.py#36\u001b\\\u001b[2m36\u001b[0m\u001b]8;;\u001b\\\n"
      ]
     },
     "metadata": {},
     "output_type": "display_data"
    },
    {
     "data": {
      "text/html": [
       "<pre style=\"white-space:pre;overflow-x:auto;line-height:normal;font-family:Menlo,'DejaVu Sans Mono',consolas,'Courier New',monospace\"><span style=\"color: #00ff00; text-decoration-color: #00ff00\">────────────────────────────────────────── </span><span style=\"color: #005fff; text-decoration-color: #005fff; font-weight: bold\">Starting Optimization Process</span><span style=\"color: #00ff00; text-decoration-color: #00ff00\"> ──────────────────────────────────────────</span>\n",
       "</pre>\n"
      ],
      "text/plain": [
       "\u001b[92m────────────────────────────────────────── \u001b[0m\u001b[1;38;5;27mStarting Optimization Process\u001b[0m\u001b[92m ──────────────────────────────────────────\u001b[0m\n"
      ]
     },
     "metadata": {},
     "output_type": "display_data"
    },
    {
     "name": "stderr",
     "output_type": "stream",
     "text": [
      "[I 2024-11-12 18:56:47,227] A new study created in memory with name: lillog_agents_study\n"
     ]
    },
    {
     "data": {
      "application/vnd.jupyter.widget-view+json": {
       "model_id": "4aa18c175bdd4477adb346ca574afb3d",
       "version_major": 2,
       "version_minor": 0
      },
      "text/plain": [
       "  0%|          | 0/30 [00:00<?, ?it/s]"
      ]
     },
     "metadata": {},
     "output_type": "display_data"
    },
    {
     "data": {
      "text/html": [
       "<pre style=\"white-space:pre;overflow-x:auto;line-height:normal;font-family:Menlo,'DejaVu Sans Mono',consolas,'Courier New',monospace\"><span style=\"color: #005fff; text-decoration-color: #005fff; font-weight: bold\">Trial </span><span style=\"color: #005fff; text-decoration-color: #005fff; font-weight: bold\">0</span><span style=\"color: #005fff; text-decoration-color: #005fff; font-weight: bold\">/</span><span style=\"color: #005fff; text-decoration-color: #005fff; font-weight: bold\">29</span>\n",
       "</pre>\n"
      ],
      "text/plain": [
       "\u001b[1;38;5;27mTrial \u001b[0m\u001b[1;38;5;27m0\u001b[0m\u001b[1;38;5;27m/\u001b[0m\u001b[1;38;5;27m29\u001b[0m\n"
      ]
     },
     "metadata": {},
     "output_type": "display_data"
    },
    {
     "data": {
      "text/html": [
       "<pre style=\"white-space:pre;overflow-x:auto;line-height:normal;font-family:Menlo,'DejaVu Sans Mono',consolas,'Courier New',monospace\"><span style=\"color: #7fbfbf; text-decoration-color: #7fbfbf\">           </span><span style=\"color: #000080; text-decoration-color: #000080\">INFO    </span> Trial parameters: <span style=\"font-weight: bold\">{</span><span style=\"color: #008000; text-decoration-color: #008000\">'input_source'</span>: <span style=\"color: #008000; text-decoration-color: #008000\">'uber_10k.pdf'</span>, <span style=\"color: #008000; text-decoration-color: #008000\">'test_dataset'</span>:          <a href=\"file:///Users/aravind/KruxAI/ragbuilder/src/ragbuilder/data_ingest/optimization.py\" target=\"_blank\"><span style=\"color: #7f7f7f; text-decoration-color: #7f7f7f\">optimization.py</span></a><span style=\"color: #7f7f7f; text-decoration-color: #7f7f7f\">:</span><a href=\"file:///Users/aravind/KruxAI/ragbuilder/src/ragbuilder/data_ingest/optimization.py#192\" target=\"_blank\"><span style=\"color: #7f7f7f; text-decoration-color: #7f7f7f\">192</span></a>\n",
       "<span style=\"color: #7fbfbf; text-decoration-color: #7fbfbf\">           </span>         <span style=\"color: #008000; text-decoration-color: #008000\">'rag_test_data_1726600284.375674 uber10k_shortlist.csv'</span>, <span style=\"color: #008000; text-decoration-color: #008000\">'document_loader'</span>: <span style=\"color: #7f7f7f; text-decoration-color: #7f7f7f\">                   </span>\n",
       "<span style=\"color: #7fbfbf; text-decoration-color: #7fbfbf\">           </span>         <span style=\"color: #800080; text-decoration-color: #800080; font-weight: bold\">LoaderConfig</span><span style=\"font-weight: bold\">(</span><span style=\"color: #808000; text-decoration-color: #808000\">type</span>=<span style=\"font-weight: bold\">&lt;</span><span style=\"color: #ff00ff; text-decoration-color: #ff00ff; font-weight: bold\">ParserType.PYPDF:</span><span style=\"color: #000000; text-decoration-color: #000000\"> </span><span style=\"color: #008000; text-decoration-color: #008000\">'pypdf'</span><span style=\"color: #000000; text-decoration-color: #000000\">&gt;, </span><span style=\"color: #808000; text-decoration-color: #808000\">loader_kwargs</span><span style=\"color: #000000; text-decoration-color: #000000\">=</span><span style=\"color: #800080; text-decoration-color: #800080; font-style: italic\">None</span><span style=\"color: #000000; text-decoration-color: #000000\">, </span>         <span style=\"color: #7f7f7f; text-decoration-color: #7f7f7f\">                   </span>\n",
       "<span style=\"color: #7fbfbf; text-decoration-color: #7fbfbf\">           </span>         <span style=\"color: #808000; text-decoration-color: #808000\">custom_class</span><span style=\"color: #000000; text-decoration-color: #000000\">=</span><span style=\"color: #800080; text-decoration-color: #800080; font-style: italic\">None</span><span style=\"color: #000000; text-decoration-color: #000000; font-weight: bold\">)</span><span style=\"color: #000000; text-decoration-color: #000000\">, </span><span style=\"color: #008000; text-decoration-color: #008000\">'chunking_strategy'</span><span style=\"color: #000000; text-decoration-color: #000000\">: </span>                                   <span style=\"color: #7f7f7f; text-decoration-color: #7f7f7f\">                   </span>\n",
       "<span style=\"color: #7fbfbf; text-decoration-color: #7fbfbf\">           </span>         <span style=\"color: #800080; text-decoration-color: #800080; font-weight: bold\">ChunkingStrategyConfig</span><span style=\"color: #000000; text-decoration-color: #000000; font-weight: bold\">(</span><span style=\"color: #808000; text-decoration-color: #808000\">type</span><span style=\"color: #000000; text-decoration-color: #000000\">=&lt;ChunkingStrategy.RECURSIVE: </span>                   <span style=\"color: #7f7f7f; text-decoration-color: #7f7f7f\">                   </span>\n",
       "<span style=\"color: #7fbfbf; text-decoration-color: #7fbfbf\">           </span>         <span style=\"color: #008000; text-decoration-color: #008000\">'RecursiveCharacterTextSplitter'</span><span style=\"color: #000000; text-decoration-color: #000000\">&gt;, </span><span style=\"color: #808000; text-decoration-color: #808000\">chunker_kwargs</span><span style=\"color: #000000; text-decoration-color: #000000\">=</span><span style=\"color: #000000; text-decoration-color: #000000; font-weight: bold\">{</span><span style=\"color: #008000; text-decoration-color: #008000\">'separators'</span><span style=\"color: #000000; text-decoration-color: #000000\">: </span><span style=\"color: #000000; text-decoration-color: #000000; font-weight: bold\">[</span><span style=\"color: #008000; text-decoration-color: #008000\">'\\n\\n'</span><span style=\"color: #000000; text-decoration-color: #000000\">, </span>  <span style=\"color: #7f7f7f; text-decoration-color: #7f7f7f\">                   </span>\n",
       "<span style=\"color: #7fbfbf; text-decoration-color: #7fbfbf\">           </span>         <span style=\"color: #008000; text-decoration-color: #008000\">'\\n'</span><span style=\"color: #000000; text-decoration-color: #000000\">, </span><span style=\"color: #008000; text-decoration-color: #008000\">' '</span><span style=\"color: #000000; text-decoration-color: #000000\">, </span><span style=\"color: #008000; text-decoration-color: #008000\">''</span><span style=\"color: #000000; text-decoration-color: #000000; font-weight: bold\">]}</span><span style=\"color: #000000; text-decoration-color: #000000\">, </span><span style=\"color: #808000; text-decoration-color: #808000\">custom_class</span><span style=\"color: #000000; text-decoration-color: #000000\">=</span><span style=\"color: #800080; text-decoration-color: #800080; font-style: italic\">None</span><span style=\"color: #000000; text-decoration-color: #000000; font-weight: bold\">)</span><span style=\"color: #000000; text-decoration-color: #000000\">, </span><span style=\"color: #008000; text-decoration-color: #008000\">'chunk_overlap'</span><span style=\"color: #000000; text-decoration-color: #000000\">: </span><span style=\"color: #008080; text-decoration-color: #008080; font-weight: bold\">100</span><span style=\"color: #000000; text-decoration-color: #000000\">, </span><span style=\"color: #008000; text-decoration-color: #008000\">'chunk_size'</span><span style=\"color: #000000; text-decoration-color: #000000\">: </span>   <span style=\"color: #7f7f7f; text-decoration-color: #7f7f7f\">                   </span>\n",
       "<span style=\"color: #7fbfbf; text-decoration-color: #7fbfbf\">           </span>         <span style=\"color: #008080; text-decoration-color: #008080; font-weight: bold\">1000</span><span style=\"color: #000000; text-decoration-color: #000000\">, </span><span style=\"color: #008000; text-decoration-color: #008000\">'embedding_model'</span><span style=\"color: #000000; text-decoration-color: #000000\">: </span><span style=\"color: #800080; text-decoration-color: #800080; font-weight: bold\">EmbeddingConfig</span><span style=\"color: #000000; text-decoration-color: #000000; font-weight: bold\">(</span><span style=\"color: #808000; text-decoration-color: #808000\">type</span><span style=\"color: #000000; text-decoration-color: #000000\">=&lt;EmbeddingModel.OPENAI: </span>      <span style=\"color: #7f7f7f; text-decoration-color: #7f7f7f\">                   </span>\n",
       "<span style=\"color: #7fbfbf; text-decoration-color: #7fbfbf\">           </span>         <span style=\"color: #008000; text-decoration-color: #008000\">'openai'</span><span style=\"color: #000000; text-decoration-color: #000000\">&gt;, </span><span style=\"color: #808000; text-decoration-color: #808000\">model_kwargs</span><span style=\"color: #000000; text-decoration-color: #000000\">=</span><span style=\"color: #000000; text-decoration-color: #000000; font-weight: bold\">{</span><span style=\"color: #008000; text-decoration-color: #008000\">'model'</span><span style=\"color: #000000; text-decoration-color: #000000\">: </span><span style=\"color: #008000; text-decoration-color: #008000\">'text-embedding-3-large'</span><span style=\"color: #000000; text-decoration-color: #000000; font-weight: bold\">}</span><span style=\"color: #000000; text-decoration-color: #000000\">, </span>               <span style=\"color: #7f7f7f; text-decoration-color: #7f7f7f\">                   </span>\n",
       "<span style=\"color: #7fbfbf; text-decoration-color: #7fbfbf\">           </span>         <span style=\"color: #808000; text-decoration-color: #808000\">custom_class</span><span style=\"color: #000000; text-decoration-color: #000000\">=</span><span style=\"color: #800080; text-decoration-color: #800080; font-style: italic\">None</span><span style=\"color: #000000; text-decoration-color: #000000; font-weight: bold\">)</span><span style=\"color: #000000; text-decoration-color: #000000\">, </span><span style=\"color: #008000; text-decoration-color: #008000\">'vector_database'</span><span style=\"color: #000000; text-decoration-color: #000000\">: </span>                                     <span style=\"color: #7f7f7f; text-decoration-color: #7f7f7f\">                   </span>\n",
       "<span style=\"color: #7fbfbf; text-decoration-color: #7fbfbf\">           </span>         <span style=\"color: #800080; text-decoration-color: #800080; font-weight: bold\">VectorDBConfig</span><span style=\"color: #000000; text-decoration-color: #000000; font-weight: bold\">(</span><span style=\"color: #808000; text-decoration-color: #808000\">type</span><span style=\"color: #000000; text-decoration-color: #000000\">=&lt;VectorDatabase.CHROMA: </span><span style=\"color: #008000; text-decoration-color: #008000\">'chroma'</span><span style=\"font-weight: bold\">&gt;</span>,                      <span style=\"color: #7f7f7f; text-decoration-color: #7f7f7f\">                   </span>\n",
       "<span style=\"color: #7fbfbf; text-decoration-color: #7fbfbf\">           </span>         <span style=\"color: #808000; text-decoration-color: #808000\">vectordb_kwargs</span>=<span style=\"font-weight: bold\">{</span><span style=\"color: #008000; text-decoration-color: #008000\">'persist_directory'</span>: <span style=\"color: #008000; text-decoration-color: #008000\">'chroma_sample2/0'</span>,                   <span style=\"color: #7f7f7f; text-decoration-color: #7f7f7f\">                   </span>\n",
       "<span style=\"color: #7fbfbf; text-decoration-color: #7fbfbf\">           </span>         <span style=\"color: #008000; text-decoration-color: #008000\">'collection_metadata'</span>: <span style=\"font-weight: bold\">{</span><span style=\"color: #008000; text-decoration-color: #008000\">'hnsw:space'</span>: <span style=\"color: #008000; text-decoration-color: #008000\">'cosine'</span><span style=\"font-weight: bold\">}}</span>, <span style=\"color: #808000; text-decoration-color: #808000\">custom_class</span>=<span style=\"color: #800080; text-decoration-color: #800080; font-style: italic\">None</span><span style=\"font-weight: bold\">)</span>,       <span style=\"color: #7f7f7f; text-decoration-color: #7f7f7f\">                   </span>\n",
       "<span style=\"color: #7fbfbf; text-decoration-color: #7fbfbf\">           </span>         <span style=\"color: #008000; text-decoration-color: #008000\">'sampling_rate'</span>: <span style=\"color: #800080; text-decoration-color: #800080; font-style: italic\">None</span><span style=\"font-weight: bold\">}</span>                                                      <span style=\"color: #7f7f7f; text-decoration-color: #7f7f7f\">                   </span>\n",
       "</pre>\n"
      ],
      "text/plain": [
       "\u001b[2;36m          \u001b[0m\u001b[2;36m \u001b[0m\u001b[34mINFO    \u001b[0m Trial parameters: \u001b[1m{\u001b[0m\u001b[32m'input_source'\u001b[0m: \u001b[32m'uber_10k.pdf'\u001b[0m, \u001b[32m'test_dataset'\u001b[0m:          \u001b]8;id=83408;file:///Users/aravind/KruxAI/ragbuilder/src/ragbuilder/data_ingest/optimization.py\u001b\\\u001b[2moptimization.py\u001b[0m\u001b]8;;\u001b\\\u001b[2m:\u001b[0m\u001b]8;id=135834;file:///Users/aravind/KruxAI/ragbuilder/src/ragbuilder/data_ingest/optimization.py#192\u001b\\\u001b[2m192\u001b[0m\u001b]8;;\u001b\\\n",
       "\u001b[2;36m           \u001b[0m         \u001b[32m'rag_test_data_1726600284.375674 uber10k_shortlist.csv'\u001b[0m, \u001b[32m'document_loader'\u001b[0m: \u001b[2m                   \u001b[0m\n",
       "\u001b[2;36m           \u001b[0m         \u001b[1;35mLoaderConfig\u001b[0m\u001b[1m(\u001b[0m\u001b[33mtype\u001b[0m=\u001b[1m<\u001b[0m\u001b[1;95mParserType.PYPDF:\u001b[0m\u001b[39m \u001b[0m\u001b[32m'pypdf'\u001b[0m\u001b[39m>, \u001b[0m\u001b[33mloader_kwargs\u001b[0m\u001b[39m=\u001b[0m\u001b[3;35mNone\u001b[0m\u001b[39m, \u001b[0m         \u001b[2m                   \u001b[0m\n",
       "\u001b[2;36m           \u001b[0m         \u001b[33mcustom_class\u001b[0m\u001b[39m=\u001b[0m\u001b[3;35mNone\u001b[0m\u001b[1;39m)\u001b[0m\u001b[39m, \u001b[0m\u001b[32m'chunking_strategy'\u001b[0m\u001b[39m: \u001b[0m                                   \u001b[2m                   \u001b[0m\n",
       "\u001b[2;36m           \u001b[0m         \u001b[1;35mChunkingStrategyConfig\u001b[0m\u001b[1;39m(\u001b[0m\u001b[33mtype\u001b[0m\u001b[39m=<ChunkingStrategy.RECURSIVE: \u001b[0m                   \u001b[2m                   \u001b[0m\n",
       "\u001b[2;36m           \u001b[0m         \u001b[32m'RecursiveCharacterTextSplitter'\u001b[0m\u001b[39m>, \u001b[0m\u001b[33mchunker_kwargs\u001b[0m\u001b[39m=\u001b[0m\u001b[1;39m{\u001b[0m\u001b[32m'separators'\u001b[0m\u001b[39m: \u001b[0m\u001b[1;39m[\u001b[0m\u001b[32m'\\n\\n'\u001b[0m\u001b[39m, \u001b[0m  \u001b[2m                   \u001b[0m\n",
       "\u001b[2;36m           \u001b[0m         \u001b[32m'\\n'\u001b[0m\u001b[39m, \u001b[0m\u001b[32m' '\u001b[0m\u001b[39m, \u001b[0m\u001b[32m''\u001b[0m\u001b[1;39m]\u001b[0m\u001b[1;39m}\u001b[0m\u001b[39m, \u001b[0m\u001b[33mcustom_class\u001b[0m\u001b[39m=\u001b[0m\u001b[3;35mNone\u001b[0m\u001b[1;39m)\u001b[0m\u001b[39m, \u001b[0m\u001b[32m'chunk_overlap'\u001b[0m\u001b[39m: \u001b[0m\u001b[1;36m100\u001b[0m\u001b[39m, \u001b[0m\u001b[32m'chunk_size'\u001b[0m\u001b[39m: \u001b[0m   \u001b[2m                   \u001b[0m\n",
       "\u001b[2;36m           \u001b[0m         \u001b[1;36m1000\u001b[0m\u001b[39m, \u001b[0m\u001b[32m'embedding_model'\u001b[0m\u001b[39m: \u001b[0m\u001b[1;35mEmbeddingConfig\u001b[0m\u001b[1;39m(\u001b[0m\u001b[33mtype\u001b[0m\u001b[39m=<EmbeddingModel.OPENAI: \u001b[0m      \u001b[2m                   \u001b[0m\n",
       "\u001b[2;36m           \u001b[0m         \u001b[32m'openai'\u001b[0m\u001b[39m>, \u001b[0m\u001b[33mmodel_kwargs\u001b[0m\u001b[39m=\u001b[0m\u001b[1;39m{\u001b[0m\u001b[32m'model'\u001b[0m\u001b[39m: \u001b[0m\u001b[32m'text-embedding-3-large'\u001b[0m\u001b[1;39m}\u001b[0m\u001b[39m, \u001b[0m               \u001b[2m                   \u001b[0m\n",
       "\u001b[2;36m           \u001b[0m         \u001b[33mcustom_class\u001b[0m\u001b[39m=\u001b[0m\u001b[3;35mNone\u001b[0m\u001b[1;39m)\u001b[0m\u001b[39m, \u001b[0m\u001b[32m'vector_database'\u001b[0m\u001b[39m: \u001b[0m                                     \u001b[2m                   \u001b[0m\n",
       "\u001b[2;36m           \u001b[0m         \u001b[1;35mVectorDBConfig\u001b[0m\u001b[1;39m(\u001b[0m\u001b[33mtype\u001b[0m\u001b[39m=<VectorDatabase.CHROMA: \u001b[0m\u001b[32m'chroma'\u001b[0m\u001b[1m>\u001b[0m,                      \u001b[2m                   \u001b[0m\n",
       "\u001b[2;36m           \u001b[0m         \u001b[33mvectordb_kwargs\u001b[0m=\u001b[1m{\u001b[0m\u001b[32m'persist_directory'\u001b[0m: \u001b[32m'chroma_sample2/0'\u001b[0m,                   \u001b[2m                   \u001b[0m\n",
       "\u001b[2;36m           \u001b[0m         \u001b[32m'collection_metadata'\u001b[0m: \u001b[1m{\u001b[0m\u001b[32m'hnsw:space'\u001b[0m: \u001b[32m'cosine'\u001b[0m\u001b[1m}\u001b[0m\u001b[1m}\u001b[0m, \u001b[33mcustom_class\u001b[0m=\u001b[3;35mNone\u001b[0m\u001b[1m)\u001b[0m,       \u001b[2m                   \u001b[0m\n",
       "\u001b[2;36m           \u001b[0m         \u001b[32m'sampling_rate'\u001b[0m: \u001b[3;35mNone\u001b[0m\u001b[1m}\u001b[0m                                                      \u001b[2m                   \u001b[0m\n"
      ]
     },
     "metadata": {},
     "output_type": "display_data"
    },
    {
     "data": {
      "application/vnd.jupyter.widget-view+json": {
       "model_id": "aecbc5c8acb047119e452e0eeddc6985",
       "version_major": 2,
       "version_minor": 0
      },
      "text/plain": [
       "Output()"
      ]
     },
     "metadata": {},
     "output_type": "display_data"
    },
    {
     "data": {
      "text/html": [
       "<pre style=\"white-space:pre;overflow-x:auto;line-height:normal;font-family:Menlo,'DejaVu Sans Mono',consolas,'Courier New',monospace\"><span style=\"color: #008000; text-decoration-color: #008000\">✓ Pipeline execution complete!</span>\n",
       "</pre>\n"
      ],
      "text/plain": [
       "\u001b[32m✓ Pipeline execution complete!\u001b[0m\n"
      ]
     },
     "metadata": {},
     "output_type": "display_data"
    },
    {
     "data": {
      "text/html": [
       "<pre style=\"white-space:pre;overflow-x:auto;line-height:normal;font-family:Menlo,'DejaVu Sans Mono',consolas,'Courier New',monospace\"></pre>\n"
      ],
      "text/plain": []
     },
     "metadata": {},
     "output_type": "display_data"
    },
    {
     "data": {
      "text/html": [
       "<pre style=\"white-space:pre;overflow-x:auto;line-height:normal;font-family:Menlo,'DejaVu Sans Mono',consolas,'Courier New',monospace\"><span style=\"color: #008000; text-decoration-color: #008000\">Trial Score:</span> <span style=\"color: #00ffff; text-decoration-color: #00ffff; font-weight: bold\">0.6989</span>\n",
       "</pre>\n"
      ],
      "text/plain": [
       "\u001b[32mTrial Score:\u001b[0m \u001b[1;96m0.6989\u001b[0m\n"
      ]
     },
     "metadata": {},
     "output_type": "display_data"
    },
    {
     "name": "stdout",
     "output_type": "stream",
     "text": [
      "[I 2024-11-12 18:57:11,480] Trial 0 finished with value: 0.6989110708236694 and parameters: {'document_loader_index': 2, 'chunking_strategy_index': 0, 'chunk_size': 1000, 'embedding_model_index': 1}. Best is trial 0 with value: 0.6989110708236694.\n"
     ]
    },
    {
     "data": {
      "text/html": [
       "<pre style=\"white-space:pre;overflow-x:auto;line-height:normal;font-family:Menlo,'DejaVu Sans Mono',consolas,'Courier New',monospace\"><span style=\"color: #005fff; text-decoration-color: #005fff; font-weight: bold\">Trial </span><span style=\"color: #005fff; text-decoration-color: #005fff; font-weight: bold\">1</span><span style=\"color: #005fff; text-decoration-color: #005fff; font-weight: bold\">/</span><span style=\"color: #005fff; text-decoration-color: #005fff; font-weight: bold\">29</span>\n",
       "</pre>\n"
      ],
      "text/plain": [
       "\u001b[1;38;5;27mTrial \u001b[0m\u001b[1;38;5;27m1\u001b[0m\u001b[1;38;5;27m/\u001b[0m\u001b[1;38;5;27m29\u001b[0m\n"
      ]
     },
     "metadata": {},
     "output_type": "display_data"
    },
    {
     "data": {
      "text/html": [
       "<pre style=\"white-space:pre;overflow-x:auto;line-height:normal;font-family:Menlo,'DejaVu Sans Mono',consolas,'Courier New',monospace\"><span style=\"color: #7fbfbf; text-decoration-color: #7fbfbf\">[18:57:11] </span><span style=\"color: #000080; text-decoration-color: #000080\">INFO    </span> Trial parameters: <span style=\"font-weight: bold\">{</span><span style=\"color: #008000; text-decoration-color: #008000\">'input_source'</span>: <span style=\"color: #008000; text-decoration-color: #008000\">'uber_10k.pdf'</span>, <span style=\"color: #008000; text-decoration-color: #008000\">'test_dataset'</span>:          <a href=\"file:///Users/aravind/KruxAI/ragbuilder/src/ragbuilder/data_ingest/optimization.py\" target=\"_blank\"><span style=\"color: #7f7f7f; text-decoration-color: #7f7f7f\">optimization.py</span></a><span style=\"color: #7f7f7f; text-decoration-color: #7f7f7f\">:</span><a href=\"file:///Users/aravind/KruxAI/ragbuilder/src/ragbuilder/data_ingest/optimization.py#192\" target=\"_blank\"><span style=\"color: #7f7f7f; text-decoration-color: #7f7f7f\">192</span></a>\n",
       "<span style=\"color: #7fbfbf; text-decoration-color: #7fbfbf\">           </span>         <span style=\"color: #008000; text-decoration-color: #008000\">'rag_test_data_1726600284.375674 uber10k_shortlist.csv'</span>, <span style=\"color: #008000; text-decoration-color: #008000\">'document_loader'</span>: <span style=\"color: #7f7f7f; text-decoration-color: #7f7f7f\">                   </span>\n",
       "<span style=\"color: #7fbfbf; text-decoration-color: #7fbfbf\">           </span>         <span style=\"color: #800080; text-decoration-color: #800080; font-weight: bold\">LoaderConfig</span><span style=\"font-weight: bold\">(</span><span style=\"color: #808000; text-decoration-color: #808000\">type</span>=<span style=\"font-weight: bold\">&lt;</span><span style=\"color: #ff00ff; text-decoration-color: #ff00ff; font-weight: bold\">ParserType.UNSTRUCTURED:</span><span style=\"color: #000000; text-decoration-color: #000000\"> </span><span style=\"color: #008000; text-decoration-color: #008000\">'unstructured'</span><span style=\"color: #000000; text-decoration-color: #000000\">&gt;, </span>               <span style=\"color: #7f7f7f; text-decoration-color: #7f7f7f\">                   </span>\n",
       "<span style=\"color: #7fbfbf; text-decoration-color: #7fbfbf\">           </span>         <span style=\"color: #808000; text-decoration-color: #808000\">loader_kwargs</span><span style=\"color: #000000; text-decoration-color: #000000\">=</span><span style=\"color: #800080; text-decoration-color: #800080; font-style: italic\">None</span><span style=\"color: #000000; text-decoration-color: #000000\">, </span><span style=\"color: #808000; text-decoration-color: #808000\">custom_class</span><span style=\"color: #000000; text-decoration-color: #000000\">=</span><span style=\"color: #800080; text-decoration-color: #800080; font-style: italic\">None</span><span style=\"color: #000000; text-decoration-color: #000000; font-weight: bold\">)</span><span style=\"color: #000000; text-decoration-color: #000000\">, </span><span style=\"color: #008000; text-decoration-color: #008000\">'chunking_strategy'</span><span style=\"color: #000000; text-decoration-color: #000000\">: </span>               <span style=\"color: #7f7f7f; text-decoration-color: #7f7f7f\">                   </span>\n",
       "<span style=\"color: #7fbfbf; text-decoration-color: #7fbfbf\">           </span>         <span style=\"color: #800080; text-decoration-color: #800080; font-weight: bold\">ChunkingStrategyConfig</span><span style=\"color: #000000; text-decoration-color: #000000; font-weight: bold\">(</span><span style=\"color: #808000; text-decoration-color: #808000\">type</span><span style=\"color: #000000; text-decoration-color: #000000\">=&lt;ChunkingStrategy.RECURSIVE: </span>                   <span style=\"color: #7f7f7f; text-decoration-color: #7f7f7f\">                   </span>\n",
       "<span style=\"color: #7fbfbf; text-decoration-color: #7fbfbf\">           </span>         <span style=\"color: #008000; text-decoration-color: #008000\">'RecursiveCharacterTextSplitter'</span><span style=\"color: #000000; text-decoration-color: #000000\">&gt;, </span><span style=\"color: #808000; text-decoration-color: #808000\">chunker_kwargs</span><span style=\"color: #000000; text-decoration-color: #000000\">=</span><span style=\"color: #000000; text-decoration-color: #000000; font-weight: bold\">{</span><span style=\"color: #008000; text-decoration-color: #008000\">'separators'</span><span style=\"color: #000000; text-decoration-color: #000000\">: </span><span style=\"color: #000000; text-decoration-color: #000000; font-weight: bold\">[</span><span style=\"color: #008000; text-decoration-color: #008000\">'\\n\\n'</span><span style=\"color: #000000; text-decoration-color: #000000\">, </span>  <span style=\"color: #7f7f7f; text-decoration-color: #7f7f7f\">                   </span>\n",
       "<span style=\"color: #7fbfbf; text-decoration-color: #7fbfbf\">           </span>         <span style=\"color: #008000; text-decoration-color: #008000\">'\\n'</span><span style=\"color: #000000; text-decoration-color: #000000\">, </span><span style=\"color: #008000; text-decoration-color: #008000\">' '</span><span style=\"color: #000000; text-decoration-color: #000000\">, </span><span style=\"color: #008000; text-decoration-color: #008000\">''</span><span style=\"color: #000000; text-decoration-color: #000000; font-weight: bold\">]}</span><span style=\"color: #000000; text-decoration-color: #000000\">, </span><span style=\"color: #808000; text-decoration-color: #808000\">custom_class</span><span style=\"color: #000000; text-decoration-color: #000000\">=</span><span style=\"color: #800080; text-decoration-color: #800080; font-style: italic\">None</span><span style=\"color: #000000; text-decoration-color: #000000; font-weight: bold\">)</span><span style=\"color: #000000; text-decoration-color: #000000\">, </span><span style=\"color: #008000; text-decoration-color: #008000\">'chunk_overlap'</span><span style=\"color: #000000; text-decoration-color: #000000\">: </span><span style=\"color: #008080; text-decoration-color: #008080; font-weight: bold\">100</span><span style=\"color: #000000; text-decoration-color: #000000\">, </span><span style=\"color: #008000; text-decoration-color: #008000\">'chunk_size'</span><span style=\"color: #000000; text-decoration-color: #000000\">: </span>   <span style=\"color: #7f7f7f; text-decoration-color: #7f7f7f\">                   </span>\n",
       "<span style=\"color: #7fbfbf; text-decoration-color: #7fbfbf\">           </span>         <span style=\"color: #008080; text-decoration-color: #008080; font-weight: bold\">1500</span><span style=\"color: #000000; text-decoration-color: #000000\">, </span><span style=\"color: #008000; text-decoration-color: #008000\">'embedding_model'</span><span style=\"color: #000000; text-decoration-color: #000000\">: </span><span style=\"color: #800080; text-decoration-color: #800080; font-weight: bold\">EmbeddingConfig</span><span style=\"color: #000000; text-decoration-color: #000000; font-weight: bold\">(</span><span style=\"color: #808000; text-decoration-color: #808000\">type</span><span style=\"color: #000000; text-decoration-color: #000000\">=&lt;EmbeddingModel.OPENAI: </span>      <span style=\"color: #7f7f7f; text-decoration-color: #7f7f7f\">                   </span>\n",
       "<span style=\"color: #7fbfbf; text-decoration-color: #7fbfbf\">           </span>         <span style=\"color: #008000; text-decoration-color: #008000\">'openai'</span><span style=\"color: #000000; text-decoration-color: #000000\">&gt;, </span><span style=\"color: #808000; text-decoration-color: #808000\">model_kwargs</span><span style=\"color: #000000; text-decoration-color: #000000\">=</span><span style=\"color: #000000; text-decoration-color: #000000; font-weight: bold\">{</span><span style=\"color: #008000; text-decoration-color: #008000\">'model'</span><span style=\"color: #000000; text-decoration-color: #000000\">: </span><span style=\"color: #008000; text-decoration-color: #008000\">'text-embedding-3-large'</span><span style=\"color: #000000; text-decoration-color: #000000; font-weight: bold\">}</span><span style=\"color: #000000; text-decoration-color: #000000\">, </span>               <span style=\"color: #7f7f7f; text-decoration-color: #7f7f7f\">                   </span>\n",
       "<span style=\"color: #7fbfbf; text-decoration-color: #7fbfbf\">           </span>         <span style=\"color: #808000; text-decoration-color: #808000\">custom_class</span><span style=\"color: #000000; text-decoration-color: #000000\">=</span><span style=\"color: #800080; text-decoration-color: #800080; font-style: italic\">None</span><span style=\"color: #000000; text-decoration-color: #000000; font-weight: bold\">)</span><span style=\"color: #000000; text-decoration-color: #000000\">, </span><span style=\"color: #008000; text-decoration-color: #008000\">'vector_database'</span><span style=\"color: #000000; text-decoration-color: #000000\">: </span>                                     <span style=\"color: #7f7f7f; text-decoration-color: #7f7f7f\">                   </span>\n",
       "<span style=\"color: #7fbfbf; text-decoration-color: #7fbfbf\">           </span>         <span style=\"color: #800080; text-decoration-color: #800080; font-weight: bold\">VectorDBConfig</span><span style=\"color: #000000; text-decoration-color: #000000; font-weight: bold\">(</span><span style=\"color: #808000; text-decoration-color: #808000\">type</span><span style=\"color: #000000; text-decoration-color: #000000\">=&lt;VectorDatabase.CHROMA: </span><span style=\"color: #008000; text-decoration-color: #008000\">'chroma'</span><span style=\"font-weight: bold\">&gt;</span>,                      <span style=\"color: #7f7f7f; text-decoration-color: #7f7f7f\">                   </span>\n",
       "<span style=\"color: #7fbfbf; text-decoration-color: #7fbfbf\">           </span>         <span style=\"color: #808000; text-decoration-color: #808000\">vectordb_kwargs</span>=<span style=\"font-weight: bold\">{</span><span style=\"color: #008000; text-decoration-color: #008000\">'persist_directory'</span>: <span style=\"color: #008000; text-decoration-color: #008000\">'chroma_sample2/1'</span>,                   <span style=\"color: #7f7f7f; text-decoration-color: #7f7f7f\">                   </span>\n",
       "<span style=\"color: #7fbfbf; text-decoration-color: #7fbfbf\">           </span>         <span style=\"color: #008000; text-decoration-color: #008000\">'collection_metadata'</span>: <span style=\"font-weight: bold\">{</span><span style=\"color: #008000; text-decoration-color: #008000\">'hnsw:space'</span>: <span style=\"color: #008000; text-decoration-color: #008000\">'cosine'</span><span style=\"font-weight: bold\">}}</span>, <span style=\"color: #808000; text-decoration-color: #808000\">custom_class</span>=<span style=\"color: #800080; text-decoration-color: #800080; font-style: italic\">None</span><span style=\"font-weight: bold\">)</span>,       <span style=\"color: #7f7f7f; text-decoration-color: #7f7f7f\">                   </span>\n",
       "<span style=\"color: #7fbfbf; text-decoration-color: #7fbfbf\">           </span>         <span style=\"color: #008000; text-decoration-color: #008000\">'sampling_rate'</span>: <span style=\"color: #800080; text-decoration-color: #800080; font-style: italic\">None</span><span style=\"font-weight: bold\">}</span>                                                      <span style=\"color: #7f7f7f; text-decoration-color: #7f7f7f\">                   </span>\n",
       "</pre>\n"
      ],
      "text/plain": [
       "\u001b[2;36m[18:57:11]\u001b[0m\u001b[2;36m \u001b[0m\u001b[34mINFO    \u001b[0m Trial parameters: \u001b[1m{\u001b[0m\u001b[32m'input_source'\u001b[0m: \u001b[32m'uber_10k.pdf'\u001b[0m, \u001b[32m'test_dataset'\u001b[0m:          \u001b]8;id=870553;file:///Users/aravind/KruxAI/ragbuilder/src/ragbuilder/data_ingest/optimization.py\u001b\\\u001b[2moptimization.py\u001b[0m\u001b]8;;\u001b\\\u001b[2m:\u001b[0m\u001b]8;id=790093;file:///Users/aravind/KruxAI/ragbuilder/src/ragbuilder/data_ingest/optimization.py#192\u001b\\\u001b[2m192\u001b[0m\u001b]8;;\u001b\\\n",
       "\u001b[2;36m           \u001b[0m         \u001b[32m'rag_test_data_1726600284.375674 uber10k_shortlist.csv'\u001b[0m, \u001b[32m'document_loader'\u001b[0m: \u001b[2m                   \u001b[0m\n",
       "\u001b[2;36m           \u001b[0m         \u001b[1;35mLoaderConfig\u001b[0m\u001b[1m(\u001b[0m\u001b[33mtype\u001b[0m=\u001b[1m<\u001b[0m\u001b[1;95mParserType.UNSTRUCTURED:\u001b[0m\u001b[39m \u001b[0m\u001b[32m'unstructured'\u001b[0m\u001b[39m>, \u001b[0m               \u001b[2m                   \u001b[0m\n",
       "\u001b[2;36m           \u001b[0m         \u001b[33mloader_kwargs\u001b[0m\u001b[39m=\u001b[0m\u001b[3;35mNone\u001b[0m\u001b[39m, \u001b[0m\u001b[33mcustom_class\u001b[0m\u001b[39m=\u001b[0m\u001b[3;35mNone\u001b[0m\u001b[1;39m)\u001b[0m\u001b[39m, \u001b[0m\u001b[32m'chunking_strategy'\u001b[0m\u001b[39m: \u001b[0m               \u001b[2m                   \u001b[0m\n",
       "\u001b[2;36m           \u001b[0m         \u001b[1;35mChunkingStrategyConfig\u001b[0m\u001b[1;39m(\u001b[0m\u001b[33mtype\u001b[0m\u001b[39m=<ChunkingStrategy.RECURSIVE: \u001b[0m                   \u001b[2m                   \u001b[0m\n",
       "\u001b[2;36m           \u001b[0m         \u001b[32m'RecursiveCharacterTextSplitter'\u001b[0m\u001b[39m>, \u001b[0m\u001b[33mchunker_kwargs\u001b[0m\u001b[39m=\u001b[0m\u001b[1;39m{\u001b[0m\u001b[32m'separators'\u001b[0m\u001b[39m: \u001b[0m\u001b[1;39m[\u001b[0m\u001b[32m'\\n\\n'\u001b[0m\u001b[39m, \u001b[0m  \u001b[2m                   \u001b[0m\n",
       "\u001b[2;36m           \u001b[0m         \u001b[32m'\\n'\u001b[0m\u001b[39m, \u001b[0m\u001b[32m' '\u001b[0m\u001b[39m, \u001b[0m\u001b[32m''\u001b[0m\u001b[1;39m]\u001b[0m\u001b[1;39m}\u001b[0m\u001b[39m, \u001b[0m\u001b[33mcustom_class\u001b[0m\u001b[39m=\u001b[0m\u001b[3;35mNone\u001b[0m\u001b[1;39m)\u001b[0m\u001b[39m, \u001b[0m\u001b[32m'chunk_overlap'\u001b[0m\u001b[39m: \u001b[0m\u001b[1;36m100\u001b[0m\u001b[39m, \u001b[0m\u001b[32m'chunk_size'\u001b[0m\u001b[39m: \u001b[0m   \u001b[2m                   \u001b[0m\n",
       "\u001b[2;36m           \u001b[0m         \u001b[1;36m1500\u001b[0m\u001b[39m, \u001b[0m\u001b[32m'embedding_model'\u001b[0m\u001b[39m: \u001b[0m\u001b[1;35mEmbeddingConfig\u001b[0m\u001b[1;39m(\u001b[0m\u001b[33mtype\u001b[0m\u001b[39m=<EmbeddingModel.OPENAI: \u001b[0m      \u001b[2m                   \u001b[0m\n",
       "\u001b[2;36m           \u001b[0m         \u001b[32m'openai'\u001b[0m\u001b[39m>, \u001b[0m\u001b[33mmodel_kwargs\u001b[0m\u001b[39m=\u001b[0m\u001b[1;39m{\u001b[0m\u001b[32m'model'\u001b[0m\u001b[39m: \u001b[0m\u001b[32m'text-embedding-3-large'\u001b[0m\u001b[1;39m}\u001b[0m\u001b[39m, \u001b[0m               \u001b[2m                   \u001b[0m\n",
       "\u001b[2;36m           \u001b[0m         \u001b[33mcustom_class\u001b[0m\u001b[39m=\u001b[0m\u001b[3;35mNone\u001b[0m\u001b[1;39m)\u001b[0m\u001b[39m, \u001b[0m\u001b[32m'vector_database'\u001b[0m\u001b[39m: \u001b[0m                                     \u001b[2m                   \u001b[0m\n",
       "\u001b[2;36m           \u001b[0m         \u001b[1;35mVectorDBConfig\u001b[0m\u001b[1;39m(\u001b[0m\u001b[33mtype\u001b[0m\u001b[39m=<VectorDatabase.CHROMA: \u001b[0m\u001b[32m'chroma'\u001b[0m\u001b[1m>\u001b[0m,                      \u001b[2m                   \u001b[0m\n",
       "\u001b[2;36m           \u001b[0m         \u001b[33mvectordb_kwargs\u001b[0m=\u001b[1m{\u001b[0m\u001b[32m'persist_directory'\u001b[0m: \u001b[32m'chroma_sample2/1'\u001b[0m,                   \u001b[2m                   \u001b[0m\n",
       "\u001b[2;36m           \u001b[0m         \u001b[32m'collection_metadata'\u001b[0m: \u001b[1m{\u001b[0m\u001b[32m'hnsw:space'\u001b[0m: \u001b[32m'cosine'\u001b[0m\u001b[1m}\u001b[0m\u001b[1m}\u001b[0m, \u001b[33mcustom_class\u001b[0m=\u001b[3;35mNone\u001b[0m\u001b[1m)\u001b[0m,       \u001b[2m                   \u001b[0m\n",
       "\u001b[2;36m           \u001b[0m         \u001b[32m'sampling_rate'\u001b[0m: \u001b[3;35mNone\u001b[0m\u001b[1m}\u001b[0m                                                      \u001b[2m                   \u001b[0m\n"
      ]
     },
     "metadata": {},
     "output_type": "display_data"
    },
    {
     "data": {
      "application/vnd.jupyter.widget-view+json": {
       "model_id": "2f37f179d7b14604a159177e3f3f9b9e",
       "version_major": 2,
       "version_minor": 0
      },
      "text/plain": [
       "Output()"
      ]
     },
     "metadata": {},
     "output_type": "display_data"
    },
    {
     "data": {
      "text/html": [
       "<pre style=\"white-space:pre;overflow-x:auto;line-height:normal;font-family:Menlo,'DejaVu Sans Mono',consolas,'Courier New',monospace\"></pre>\n"
      ],
      "text/plain": []
     },
     "metadata": {},
     "output_type": "display_data"
    },
    {
     "data": {
      "text/html": [
       "<pre style=\"white-space:pre;overflow-x:auto;line-height:normal;font-family:Menlo,'DejaVu Sans Mono',consolas,'Courier New',monospace\"><span style=\"color: #008000; text-decoration-color: #008000\">Trial Score:</span> <span style=\"color: #00ffff; text-decoration-color: #00ffff; font-weight: bold\">0.7178</span>\n",
       "</pre>\n"
      ],
      "text/plain": [
       "\u001b[32mTrial Score:\u001b[0m \u001b[1;96m0.7178\u001b[0m\n"
      ]
     },
     "metadata": {},
     "output_type": "display_data"
    },
    {
     "name": "stdout",
     "output_type": "stream",
     "text": [
      "[I 2024-11-12 18:57:45,225] Trial 1 finished with value: 0.7177550182456062 and parameters: {'document_loader_index': 1, 'chunking_strategy_index': 0, 'chunk_size': 1500, 'embedding_model_index': 1}. Best is trial 1 with value: 0.7177550182456062.\n"
     ]
    },
    {
     "data": {
      "text/html": [
       "<pre style=\"white-space:pre;overflow-x:auto;line-height:normal;font-family:Menlo,'DejaVu Sans Mono',consolas,'Courier New',monospace\"><span style=\"color: #005fff; text-decoration-color: #005fff; font-weight: bold\">Trial </span><span style=\"color: #005fff; text-decoration-color: #005fff; font-weight: bold\">2</span><span style=\"color: #005fff; text-decoration-color: #005fff; font-weight: bold\">/</span><span style=\"color: #005fff; text-decoration-color: #005fff; font-weight: bold\">29</span>\n",
       "</pre>\n"
      ],
      "text/plain": [
       "\u001b[1;38;5;27mTrial \u001b[0m\u001b[1;38;5;27m2\u001b[0m\u001b[1;38;5;27m/\u001b[0m\u001b[1;38;5;27m29\u001b[0m\n"
      ]
     },
     "metadata": {},
     "output_type": "display_data"
    },
    {
     "data": {
      "text/html": [
       "<pre style=\"white-space:pre;overflow-x:auto;line-height:normal;font-family:Menlo,'DejaVu Sans Mono',consolas,'Courier New',monospace\"><span style=\"color: #7fbfbf; text-decoration-color: #7fbfbf\">[18:57:45] </span><span style=\"color: #000080; text-decoration-color: #000080\">INFO    </span> Trial parameters: <span style=\"font-weight: bold\">{</span><span style=\"color: #008000; text-decoration-color: #008000\">'input_source'</span>: <span style=\"color: #008000; text-decoration-color: #008000\">'uber_10k.pdf'</span>, <span style=\"color: #008000; text-decoration-color: #008000\">'test_dataset'</span>:          <a href=\"file:///Users/aravind/KruxAI/ragbuilder/src/ragbuilder/data_ingest/optimization.py\" target=\"_blank\"><span style=\"color: #7f7f7f; text-decoration-color: #7f7f7f\">optimization.py</span></a><span style=\"color: #7f7f7f; text-decoration-color: #7f7f7f\">:</span><a href=\"file:///Users/aravind/KruxAI/ragbuilder/src/ragbuilder/data_ingest/optimization.py#192\" target=\"_blank\"><span style=\"color: #7f7f7f; text-decoration-color: #7f7f7f\">192</span></a>\n",
       "<span style=\"color: #7fbfbf; text-decoration-color: #7fbfbf\">           </span>         <span style=\"color: #008000; text-decoration-color: #008000\">'rag_test_data_1726600284.375674 uber10k_shortlist.csv'</span>, <span style=\"color: #008000; text-decoration-color: #008000\">'document_loader'</span>: <span style=\"color: #7f7f7f; text-decoration-color: #7f7f7f\">                   </span>\n",
       "<span style=\"color: #7fbfbf; text-decoration-color: #7fbfbf\">           </span>         <span style=\"color: #800080; text-decoration-color: #800080; font-weight: bold\">LoaderConfig</span><span style=\"font-weight: bold\">(</span><span style=\"color: #808000; text-decoration-color: #808000\">type</span>=<span style=\"font-weight: bold\">&lt;</span><span style=\"color: #ff00ff; text-decoration-color: #ff00ff; font-weight: bold\">ParserType.PYPDF:</span><span style=\"color: #000000; text-decoration-color: #000000\"> </span><span style=\"color: #008000; text-decoration-color: #008000\">'pypdf'</span><span style=\"color: #000000; text-decoration-color: #000000\">&gt;, </span><span style=\"color: #808000; text-decoration-color: #808000\">loader_kwargs</span><span style=\"color: #000000; text-decoration-color: #000000\">=</span><span style=\"color: #800080; text-decoration-color: #800080; font-style: italic\">None</span><span style=\"color: #000000; text-decoration-color: #000000\">, </span>         <span style=\"color: #7f7f7f; text-decoration-color: #7f7f7f\">                   </span>\n",
       "<span style=\"color: #7fbfbf; text-decoration-color: #7fbfbf\">           </span>         <span style=\"color: #808000; text-decoration-color: #808000\">custom_class</span><span style=\"color: #000000; text-decoration-color: #000000\">=</span><span style=\"color: #800080; text-decoration-color: #800080; font-style: italic\">None</span><span style=\"color: #000000; text-decoration-color: #000000; font-weight: bold\">)</span><span style=\"color: #000000; text-decoration-color: #000000\">, </span><span style=\"color: #008000; text-decoration-color: #008000\">'chunking_strategy'</span><span style=\"color: #000000; text-decoration-color: #000000\">: </span>                                   <span style=\"color: #7f7f7f; text-decoration-color: #7f7f7f\">                   </span>\n",
       "<span style=\"color: #7fbfbf; text-decoration-color: #7fbfbf\">           </span>         <span style=\"color: #800080; text-decoration-color: #800080; font-weight: bold\">ChunkingStrategyConfig</span><span style=\"color: #000000; text-decoration-color: #000000; font-weight: bold\">(</span><span style=\"color: #808000; text-decoration-color: #808000\">type</span><span style=\"color: #000000; text-decoration-color: #000000\">=&lt;ChunkingStrategy.RECURSIVE: </span>                   <span style=\"color: #7f7f7f; text-decoration-color: #7f7f7f\">                   </span>\n",
       "<span style=\"color: #7fbfbf; text-decoration-color: #7fbfbf\">           </span>         <span style=\"color: #008000; text-decoration-color: #008000\">'RecursiveCharacterTextSplitter'</span><span style=\"color: #000000; text-decoration-color: #000000\">&gt;, </span><span style=\"color: #808000; text-decoration-color: #808000\">chunker_kwargs</span><span style=\"color: #000000; text-decoration-color: #000000\">=</span><span style=\"color: #000000; text-decoration-color: #000000; font-weight: bold\">{</span><span style=\"color: #008000; text-decoration-color: #008000\">'separators'</span><span style=\"color: #000000; text-decoration-color: #000000\">: </span><span style=\"color: #000000; text-decoration-color: #000000; font-weight: bold\">[</span><span style=\"color: #008000; text-decoration-color: #008000\">'\\n\\n'</span><span style=\"color: #000000; text-decoration-color: #000000\">, </span>  <span style=\"color: #7f7f7f; text-decoration-color: #7f7f7f\">                   </span>\n",
       "<span style=\"color: #7fbfbf; text-decoration-color: #7fbfbf\">           </span>         <span style=\"color: #008000; text-decoration-color: #008000\">'\\n'</span><span style=\"color: #000000; text-decoration-color: #000000\">, </span><span style=\"color: #008000; text-decoration-color: #008000\">' '</span><span style=\"color: #000000; text-decoration-color: #000000\">, </span><span style=\"color: #008000; text-decoration-color: #008000\">''</span><span style=\"color: #000000; text-decoration-color: #000000; font-weight: bold\">]}</span><span style=\"color: #000000; text-decoration-color: #000000\">, </span><span style=\"color: #808000; text-decoration-color: #808000\">custom_class</span><span style=\"color: #000000; text-decoration-color: #000000\">=</span><span style=\"color: #800080; text-decoration-color: #800080; font-style: italic\">None</span><span style=\"color: #000000; text-decoration-color: #000000; font-weight: bold\">)</span><span style=\"color: #000000; text-decoration-color: #000000\">, </span><span style=\"color: #008000; text-decoration-color: #008000\">'chunk_overlap'</span><span style=\"color: #000000; text-decoration-color: #000000\">: </span><span style=\"color: #008080; text-decoration-color: #008080; font-weight: bold\">100</span><span style=\"color: #000000; text-decoration-color: #000000\">, </span><span style=\"color: #008000; text-decoration-color: #008000\">'chunk_size'</span><span style=\"color: #000000; text-decoration-color: #000000\">: </span>   <span style=\"color: #7f7f7f; text-decoration-color: #7f7f7f\">                   </span>\n",
       "<span style=\"color: #7fbfbf; text-decoration-color: #7fbfbf\">           </span>         <span style=\"color: #008080; text-decoration-color: #008080; font-weight: bold\">500</span><span style=\"color: #000000; text-decoration-color: #000000\">, </span><span style=\"color: #008000; text-decoration-color: #008000\">'embedding_model'</span><span style=\"color: #000000; text-decoration-color: #000000\">: </span><span style=\"color: #800080; text-decoration-color: #800080; font-weight: bold\">EmbeddingConfig</span><span style=\"color: #000000; text-decoration-color: #000000; font-weight: bold\">(</span><span style=\"color: #808000; text-decoration-color: #808000\">type</span><span style=\"color: #000000; text-decoration-color: #000000\">=&lt;EmbeddingModel.OPENAI: </span>       <span style=\"color: #7f7f7f; text-decoration-color: #7f7f7f\">                   </span>\n",
       "<span style=\"color: #7fbfbf; text-decoration-color: #7fbfbf\">           </span>         <span style=\"color: #008000; text-decoration-color: #008000\">'openai'</span><span style=\"color: #000000; text-decoration-color: #000000\">&gt;, </span><span style=\"color: #808000; text-decoration-color: #808000\">model_kwargs</span><span style=\"color: #000000; text-decoration-color: #000000\">=</span><span style=\"color: #000000; text-decoration-color: #000000; font-weight: bold\">{</span><span style=\"color: #008000; text-decoration-color: #008000\">'model'</span><span style=\"color: #000000; text-decoration-color: #000000\">: </span><span style=\"color: #008000; text-decoration-color: #008000\">'text-embedding-3-large'</span><span style=\"color: #000000; text-decoration-color: #000000; font-weight: bold\">}</span><span style=\"color: #000000; text-decoration-color: #000000\">, </span>               <span style=\"color: #7f7f7f; text-decoration-color: #7f7f7f\">                   </span>\n",
       "<span style=\"color: #7fbfbf; text-decoration-color: #7fbfbf\">           </span>         <span style=\"color: #808000; text-decoration-color: #808000\">custom_class</span><span style=\"color: #000000; text-decoration-color: #000000\">=</span><span style=\"color: #800080; text-decoration-color: #800080; font-style: italic\">None</span><span style=\"color: #000000; text-decoration-color: #000000; font-weight: bold\">)</span><span style=\"color: #000000; text-decoration-color: #000000\">, </span><span style=\"color: #008000; text-decoration-color: #008000\">'vector_database'</span><span style=\"color: #000000; text-decoration-color: #000000\">: </span>                                     <span style=\"color: #7f7f7f; text-decoration-color: #7f7f7f\">                   </span>\n",
       "<span style=\"color: #7fbfbf; text-decoration-color: #7fbfbf\">           </span>         <span style=\"color: #800080; text-decoration-color: #800080; font-weight: bold\">VectorDBConfig</span><span style=\"color: #000000; text-decoration-color: #000000; font-weight: bold\">(</span><span style=\"color: #808000; text-decoration-color: #808000\">type</span><span style=\"color: #000000; text-decoration-color: #000000\">=&lt;VectorDatabase.CHROMA: </span><span style=\"color: #008000; text-decoration-color: #008000\">'chroma'</span><span style=\"font-weight: bold\">&gt;</span>,                      <span style=\"color: #7f7f7f; text-decoration-color: #7f7f7f\">                   </span>\n",
       "<span style=\"color: #7fbfbf; text-decoration-color: #7fbfbf\">           </span>         <span style=\"color: #808000; text-decoration-color: #808000\">vectordb_kwargs</span>=<span style=\"font-weight: bold\">{</span><span style=\"color: #008000; text-decoration-color: #008000\">'persist_directory'</span>: <span style=\"color: #008000; text-decoration-color: #008000\">'chroma_sample2/2'</span>,                   <span style=\"color: #7f7f7f; text-decoration-color: #7f7f7f\">                   </span>\n",
       "<span style=\"color: #7fbfbf; text-decoration-color: #7fbfbf\">           </span>         <span style=\"color: #008000; text-decoration-color: #008000\">'collection_metadata'</span>: <span style=\"font-weight: bold\">{</span><span style=\"color: #008000; text-decoration-color: #008000\">'hnsw:space'</span>: <span style=\"color: #008000; text-decoration-color: #008000\">'cosine'</span><span style=\"font-weight: bold\">}}</span>, <span style=\"color: #808000; text-decoration-color: #808000\">custom_class</span>=<span style=\"color: #800080; text-decoration-color: #800080; font-style: italic\">None</span><span style=\"font-weight: bold\">)</span>,       <span style=\"color: #7f7f7f; text-decoration-color: #7f7f7f\">                   </span>\n",
       "<span style=\"color: #7fbfbf; text-decoration-color: #7fbfbf\">           </span>         <span style=\"color: #008000; text-decoration-color: #008000\">'sampling_rate'</span>: <span style=\"color: #800080; text-decoration-color: #800080; font-style: italic\">None</span><span style=\"font-weight: bold\">}</span>                                                      <span style=\"color: #7f7f7f; text-decoration-color: #7f7f7f\">                   </span>\n",
       "</pre>\n"
      ],
      "text/plain": [
       "\u001b[2;36m[18:57:45]\u001b[0m\u001b[2;36m \u001b[0m\u001b[34mINFO    \u001b[0m Trial parameters: \u001b[1m{\u001b[0m\u001b[32m'input_source'\u001b[0m: \u001b[32m'uber_10k.pdf'\u001b[0m, \u001b[32m'test_dataset'\u001b[0m:          \u001b]8;id=191573;file:///Users/aravind/KruxAI/ragbuilder/src/ragbuilder/data_ingest/optimization.py\u001b\\\u001b[2moptimization.py\u001b[0m\u001b]8;;\u001b\\\u001b[2m:\u001b[0m\u001b]8;id=893799;file:///Users/aravind/KruxAI/ragbuilder/src/ragbuilder/data_ingest/optimization.py#192\u001b\\\u001b[2m192\u001b[0m\u001b]8;;\u001b\\\n",
       "\u001b[2;36m           \u001b[0m         \u001b[32m'rag_test_data_1726600284.375674 uber10k_shortlist.csv'\u001b[0m, \u001b[32m'document_loader'\u001b[0m: \u001b[2m                   \u001b[0m\n",
       "\u001b[2;36m           \u001b[0m         \u001b[1;35mLoaderConfig\u001b[0m\u001b[1m(\u001b[0m\u001b[33mtype\u001b[0m=\u001b[1m<\u001b[0m\u001b[1;95mParserType.PYPDF:\u001b[0m\u001b[39m \u001b[0m\u001b[32m'pypdf'\u001b[0m\u001b[39m>, \u001b[0m\u001b[33mloader_kwargs\u001b[0m\u001b[39m=\u001b[0m\u001b[3;35mNone\u001b[0m\u001b[39m, \u001b[0m         \u001b[2m                   \u001b[0m\n",
       "\u001b[2;36m           \u001b[0m         \u001b[33mcustom_class\u001b[0m\u001b[39m=\u001b[0m\u001b[3;35mNone\u001b[0m\u001b[1;39m)\u001b[0m\u001b[39m, \u001b[0m\u001b[32m'chunking_strategy'\u001b[0m\u001b[39m: \u001b[0m                                   \u001b[2m                   \u001b[0m\n",
       "\u001b[2;36m           \u001b[0m         \u001b[1;35mChunkingStrategyConfig\u001b[0m\u001b[1;39m(\u001b[0m\u001b[33mtype\u001b[0m\u001b[39m=<ChunkingStrategy.RECURSIVE: \u001b[0m                   \u001b[2m                   \u001b[0m\n",
       "\u001b[2;36m           \u001b[0m         \u001b[32m'RecursiveCharacterTextSplitter'\u001b[0m\u001b[39m>, \u001b[0m\u001b[33mchunker_kwargs\u001b[0m\u001b[39m=\u001b[0m\u001b[1;39m{\u001b[0m\u001b[32m'separators'\u001b[0m\u001b[39m: \u001b[0m\u001b[1;39m[\u001b[0m\u001b[32m'\\n\\n'\u001b[0m\u001b[39m, \u001b[0m  \u001b[2m                   \u001b[0m\n",
       "\u001b[2;36m           \u001b[0m         \u001b[32m'\\n'\u001b[0m\u001b[39m, \u001b[0m\u001b[32m' '\u001b[0m\u001b[39m, \u001b[0m\u001b[32m''\u001b[0m\u001b[1;39m]\u001b[0m\u001b[1;39m}\u001b[0m\u001b[39m, \u001b[0m\u001b[33mcustom_class\u001b[0m\u001b[39m=\u001b[0m\u001b[3;35mNone\u001b[0m\u001b[1;39m)\u001b[0m\u001b[39m, \u001b[0m\u001b[32m'chunk_overlap'\u001b[0m\u001b[39m: \u001b[0m\u001b[1;36m100\u001b[0m\u001b[39m, \u001b[0m\u001b[32m'chunk_size'\u001b[0m\u001b[39m: \u001b[0m   \u001b[2m                   \u001b[0m\n",
       "\u001b[2;36m           \u001b[0m         \u001b[1;36m500\u001b[0m\u001b[39m, \u001b[0m\u001b[32m'embedding_model'\u001b[0m\u001b[39m: \u001b[0m\u001b[1;35mEmbeddingConfig\u001b[0m\u001b[1;39m(\u001b[0m\u001b[33mtype\u001b[0m\u001b[39m=<EmbeddingModel.OPENAI: \u001b[0m       \u001b[2m                   \u001b[0m\n",
       "\u001b[2;36m           \u001b[0m         \u001b[32m'openai'\u001b[0m\u001b[39m>, \u001b[0m\u001b[33mmodel_kwargs\u001b[0m\u001b[39m=\u001b[0m\u001b[1;39m{\u001b[0m\u001b[32m'model'\u001b[0m\u001b[39m: \u001b[0m\u001b[32m'text-embedding-3-large'\u001b[0m\u001b[1;39m}\u001b[0m\u001b[39m, \u001b[0m               \u001b[2m                   \u001b[0m\n",
       "\u001b[2;36m           \u001b[0m         \u001b[33mcustom_class\u001b[0m\u001b[39m=\u001b[0m\u001b[3;35mNone\u001b[0m\u001b[1;39m)\u001b[0m\u001b[39m, \u001b[0m\u001b[32m'vector_database'\u001b[0m\u001b[39m: \u001b[0m                                     \u001b[2m                   \u001b[0m\n",
       "\u001b[2;36m           \u001b[0m         \u001b[1;35mVectorDBConfig\u001b[0m\u001b[1;39m(\u001b[0m\u001b[33mtype\u001b[0m\u001b[39m=<VectorDatabase.CHROMA: \u001b[0m\u001b[32m'chroma'\u001b[0m\u001b[1m>\u001b[0m,                      \u001b[2m                   \u001b[0m\n",
       "\u001b[2;36m           \u001b[0m         \u001b[33mvectordb_kwargs\u001b[0m=\u001b[1m{\u001b[0m\u001b[32m'persist_directory'\u001b[0m: \u001b[32m'chroma_sample2/2'\u001b[0m,                   \u001b[2m                   \u001b[0m\n",
       "\u001b[2;36m           \u001b[0m         \u001b[32m'collection_metadata'\u001b[0m: \u001b[1m{\u001b[0m\u001b[32m'hnsw:space'\u001b[0m: \u001b[32m'cosine'\u001b[0m\u001b[1m}\u001b[0m\u001b[1m}\u001b[0m, \u001b[33mcustom_class\u001b[0m=\u001b[3;35mNone\u001b[0m\u001b[1m)\u001b[0m,       \u001b[2m                   \u001b[0m\n",
       "\u001b[2;36m           \u001b[0m         \u001b[32m'sampling_rate'\u001b[0m: \u001b[3;35mNone\u001b[0m\u001b[1m}\u001b[0m                                                      \u001b[2m                   \u001b[0m\n"
      ]
     },
     "metadata": {},
     "output_type": "display_data"
    },
    {
     "data": {
      "application/vnd.jupyter.widget-view+json": {
       "model_id": "1c980d5bf484446484c02bbab3002889",
       "version_major": 2,
       "version_minor": 0
      },
      "text/plain": [
       "Output()"
      ]
     },
     "metadata": {},
     "output_type": "display_data"
    },
    {
     "data": {
      "text/html": [
       "<pre style=\"white-space:pre;overflow-x:auto;line-height:normal;font-family:Menlo,'DejaVu Sans Mono',consolas,'Courier New',monospace\"><span style=\"color: #008000; text-decoration-color: #008000\">✓ Pipeline execution complete!</span>\n",
       "</pre>\n"
      ],
      "text/plain": [
       "\u001b[32m✓ Pipeline execution complete!\u001b[0m\n"
      ]
     },
     "metadata": {},
     "output_type": "display_data"
    },
    {
     "data": {
      "text/html": [
       "<pre style=\"white-space:pre;overflow-x:auto;line-height:normal;font-family:Menlo,'DejaVu Sans Mono',consolas,'Courier New',monospace\"></pre>\n"
      ],
      "text/plain": []
     },
     "metadata": {},
     "output_type": "display_data"
    },
    {
     "data": {
      "text/html": [
       "<pre style=\"white-space:pre;overflow-x:auto;line-height:normal;font-family:Menlo,'DejaVu Sans Mono',consolas,'Courier New',monospace\"><span style=\"color: #008000; text-decoration-color: #008000\">Trial Score:</span> <span style=\"color: #00ffff; text-decoration-color: #00ffff; font-weight: bold\">0.6660</span>\n",
       "</pre>\n"
      ],
      "text/plain": [
       "\u001b[32mTrial Score:\u001b[0m \u001b[1;96m0.6660\u001b[0m\n"
      ]
     },
     "metadata": {},
     "output_type": "display_data"
    },
    {
     "name": "stdout",
     "output_type": "stream",
     "text": [
      "[I 2024-11-12 18:58:14,515] Trial 2 finished with value: 0.665955542571961 and parameters: {'document_loader_index': 2, 'chunking_strategy_index': 0, 'chunk_size': 500, 'embedding_model_index': 1}. Best is trial 1 with value: 0.7177550182456062.\n"
     ]
    },
    {
     "data": {
      "text/html": [
       "<pre style=\"white-space:pre;overflow-x:auto;line-height:normal;font-family:Menlo,'DejaVu Sans Mono',consolas,'Courier New',monospace\"><span style=\"color: #005fff; text-decoration-color: #005fff; font-weight: bold\">Trial </span><span style=\"color: #005fff; text-decoration-color: #005fff; font-weight: bold\">3</span><span style=\"color: #005fff; text-decoration-color: #005fff; font-weight: bold\">/</span><span style=\"color: #005fff; text-decoration-color: #005fff; font-weight: bold\">29</span>\n",
       "</pre>\n"
      ],
      "text/plain": [
       "\u001b[1;38;5;27mTrial \u001b[0m\u001b[1;38;5;27m3\u001b[0m\u001b[1;38;5;27m/\u001b[0m\u001b[1;38;5;27m29\u001b[0m\n"
      ]
     },
     "metadata": {},
     "output_type": "display_data"
    },
    {
     "data": {
      "text/html": [
       "<pre style=\"white-space:pre;overflow-x:auto;line-height:normal;font-family:Menlo,'DejaVu Sans Mono',consolas,'Courier New',monospace\"><span style=\"color: #7fbfbf; text-decoration-color: #7fbfbf\">[18:58:14] </span><span style=\"color: #000080; text-decoration-color: #000080\">INFO    </span> Trial parameters: <span style=\"font-weight: bold\">{</span><span style=\"color: #008000; text-decoration-color: #008000\">'input_source'</span>: <span style=\"color: #008000; text-decoration-color: #008000\">'uber_10k.pdf'</span>, <span style=\"color: #008000; text-decoration-color: #008000\">'test_dataset'</span>:          <a href=\"file:///Users/aravind/KruxAI/ragbuilder/src/ragbuilder/data_ingest/optimization.py\" target=\"_blank\"><span style=\"color: #7f7f7f; text-decoration-color: #7f7f7f\">optimization.py</span></a><span style=\"color: #7f7f7f; text-decoration-color: #7f7f7f\">:</span><a href=\"file:///Users/aravind/KruxAI/ragbuilder/src/ragbuilder/data_ingest/optimization.py#192\" target=\"_blank\"><span style=\"color: #7f7f7f; text-decoration-color: #7f7f7f\">192</span></a>\n",
       "<span style=\"color: #7fbfbf; text-decoration-color: #7fbfbf\">           </span>         <span style=\"color: #008000; text-decoration-color: #008000\">'rag_test_data_1726600284.375674 uber10k_shortlist.csv'</span>, <span style=\"color: #008000; text-decoration-color: #008000\">'document_loader'</span>: <span style=\"color: #7f7f7f; text-decoration-color: #7f7f7f\">                   </span>\n",
       "<span style=\"color: #7fbfbf; text-decoration-color: #7fbfbf\">           </span>         <span style=\"color: #800080; text-decoration-color: #800080; font-weight: bold\">LoaderConfig</span><span style=\"font-weight: bold\">(</span><span style=\"color: #808000; text-decoration-color: #808000\">type</span>=<span style=\"font-weight: bold\">&lt;</span><span style=\"color: #ff00ff; text-decoration-color: #ff00ff; font-weight: bold\">ParserType.PYPDF:</span><span style=\"color: #000000; text-decoration-color: #000000\"> </span><span style=\"color: #008000; text-decoration-color: #008000\">'pypdf'</span><span style=\"color: #000000; text-decoration-color: #000000\">&gt;, </span><span style=\"color: #808000; text-decoration-color: #808000\">loader_kwargs</span><span style=\"color: #000000; text-decoration-color: #000000\">=</span><span style=\"color: #800080; text-decoration-color: #800080; font-style: italic\">None</span><span style=\"color: #000000; text-decoration-color: #000000\">, </span>         <span style=\"color: #7f7f7f; text-decoration-color: #7f7f7f\">                   </span>\n",
       "<span style=\"color: #7fbfbf; text-decoration-color: #7fbfbf\">           </span>         <span style=\"color: #808000; text-decoration-color: #808000\">custom_class</span><span style=\"color: #000000; text-decoration-color: #000000\">=</span><span style=\"color: #800080; text-decoration-color: #800080; font-style: italic\">None</span><span style=\"color: #000000; text-decoration-color: #000000; font-weight: bold\">)</span><span style=\"color: #000000; text-decoration-color: #000000\">, </span><span style=\"color: #008000; text-decoration-color: #008000\">'chunking_strategy'</span><span style=\"color: #000000; text-decoration-color: #000000\">: </span>                                   <span style=\"color: #7f7f7f; text-decoration-color: #7f7f7f\">                   </span>\n",
       "<span style=\"color: #7fbfbf; text-decoration-color: #7fbfbf\">           </span>         <span style=\"color: #800080; text-decoration-color: #800080; font-weight: bold\">ChunkingStrategyConfig</span><span style=\"color: #000000; text-decoration-color: #000000; font-weight: bold\">(</span><span style=\"color: #808000; text-decoration-color: #808000\">type</span><span style=\"color: #000000; text-decoration-color: #000000\">=&lt;ChunkingStrategy.RECURSIVE: </span>                   <span style=\"color: #7f7f7f; text-decoration-color: #7f7f7f\">                   </span>\n",
       "<span style=\"color: #7fbfbf; text-decoration-color: #7fbfbf\">           </span>         <span style=\"color: #008000; text-decoration-color: #008000\">'RecursiveCharacterTextSplitter'</span><span style=\"color: #000000; text-decoration-color: #000000\">&gt;, </span><span style=\"color: #808000; text-decoration-color: #808000\">chunker_kwargs</span><span style=\"color: #000000; text-decoration-color: #000000\">=</span><span style=\"color: #000000; text-decoration-color: #000000; font-weight: bold\">{</span><span style=\"color: #008000; text-decoration-color: #008000\">'separators'</span><span style=\"color: #000000; text-decoration-color: #000000\">: </span><span style=\"color: #000000; text-decoration-color: #000000; font-weight: bold\">[</span><span style=\"color: #008000; text-decoration-color: #008000\">'\\n\\n'</span><span style=\"color: #000000; text-decoration-color: #000000\">, </span>  <span style=\"color: #7f7f7f; text-decoration-color: #7f7f7f\">                   </span>\n",
       "<span style=\"color: #7fbfbf; text-decoration-color: #7fbfbf\">           </span>         <span style=\"color: #008000; text-decoration-color: #008000\">'\\n'</span><span style=\"color: #000000; text-decoration-color: #000000\">, </span><span style=\"color: #008000; text-decoration-color: #008000\">' '</span><span style=\"color: #000000; text-decoration-color: #000000\">, </span><span style=\"color: #008000; text-decoration-color: #008000\">''</span><span style=\"color: #000000; text-decoration-color: #000000; font-weight: bold\">]}</span><span style=\"color: #000000; text-decoration-color: #000000\">, </span><span style=\"color: #808000; text-decoration-color: #808000\">custom_class</span><span style=\"color: #000000; text-decoration-color: #000000\">=</span><span style=\"color: #800080; text-decoration-color: #800080; font-style: italic\">None</span><span style=\"color: #000000; text-decoration-color: #000000; font-weight: bold\">)</span><span style=\"color: #000000; text-decoration-color: #000000\">, </span><span style=\"color: #008000; text-decoration-color: #008000\">'chunk_overlap'</span><span style=\"color: #000000; text-decoration-color: #000000\">: </span><span style=\"color: #008080; text-decoration-color: #008080; font-weight: bold\">100</span><span style=\"color: #000000; text-decoration-color: #000000\">, </span><span style=\"color: #008000; text-decoration-color: #008000\">'chunk_size'</span><span style=\"color: #000000; text-decoration-color: #000000\">: </span>   <span style=\"color: #7f7f7f; text-decoration-color: #7f7f7f\">                   </span>\n",
       "<span style=\"color: #7fbfbf; text-decoration-color: #7fbfbf\">           </span>         <span style=\"color: #008080; text-decoration-color: #008080; font-weight: bold\">1000</span><span style=\"color: #000000; text-decoration-color: #000000\">, </span><span style=\"color: #008000; text-decoration-color: #008000\">'embedding_model'</span><span style=\"color: #000000; text-decoration-color: #000000\">: </span><span style=\"color: #800080; text-decoration-color: #800080; font-weight: bold\">EmbeddingConfig</span><span style=\"color: #000000; text-decoration-color: #000000; font-weight: bold\">(</span><span style=\"color: #808000; text-decoration-color: #808000\">type</span><span style=\"color: #000000; text-decoration-color: #000000\">=&lt;EmbeddingModel.OPENAI: </span>      <span style=\"color: #7f7f7f; text-decoration-color: #7f7f7f\">                   </span>\n",
       "<span style=\"color: #7fbfbf; text-decoration-color: #7fbfbf\">           </span>         <span style=\"color: #008000; text-decoration-color: #008000\">'openai'</span><span style=\"color: #000000; text-decoration-color: #000000\">&gt;, </span><span style=\"color: #808000; text-decoration-color: #808000\">model_kwargs</span><span style=\"color: #000000; text-decoration-color: #000000\">=</span><span style=\"color: #000000; text-decoration-color: #000000; font-weight: bold\">{</span><span style=\"color: #008000; text-decoration-color: #008000\">'model'</span><span style=\"color: #000000; text-decoration-color: #000000\">: </span><span style=\"color: #008000; text-decoration-color: #008000\">'text-embedding-3-large'</span><span style=\"color: #000000; text-decoration-color: #000000; font-weight: bold\">}</span><span style=\"color: #000000; text-decoration-color: #000000\">, </span>               <span style=\"color: #7f7f7f; text-decoration-color: #7f7f7f\">                   </span>\n",
       "<span style=\"color: #7fbfbf; text-decoration-color: #7fbfbf\">           </span>         <span style=\"color: #808000; text-decoration-color: #808000\">custom_class</span><span style=\"color: #000000; text-decoration-color: #000000\">=</span><span style=\"color: #800080; text-decoration-color: #800080; font-style: italic\">None</span><span style=\"color: #000000; text-decoration-color: #000000; font-weight: bold\">)</span><span style=\"color: #000000; text-decoration-color: #000000\">, </span><span style=\"color: #008000; text-decoration-color: #008000\">'vector_database'</span><span style=\"color: #000000; text-decoration-color: #000000\">: </span>                                     <span style=\"color: #7f7f7f; text-decoration-color: #7f7f7f\">                   </span>\n",
       "<span style=\"color: #7fbfbf; text-decoration-color: #7fbfbf\">           </span>         <span style=\"color: #800080; text-decoration-color: #800080; font-weight: bold\">VectorDBConfig</span><span style=\"color: #000000; text-decoration-color: #000000; font-weight: bold\">(</span><span style=\"color: #808000; text-decoration-color: #808000\">type</span><span style=\"color: #000000; text-decoration-color: #000000\">=&lt;VectorDatabase.CHROMA: </span><span style=\"color: #008000; text-decoration-color: #008000\">'chroma'</span><span style=\"font-weight: bold\">&gt;</span>,                      <span style=\"color: #7f7f7f; text-decoration-color: #7f7f7f\">                   </span>\n",
       "<span style=\"color: #7fbfbf; text-decoration-color: #7fbfbf\">           </span>         <span style=\"color: #808000; text-decoration-color: #808000\">vectordb_kwargs</span>=<span style=\"font-weight: bold\">{</span><span style=\"color: #008000; text-decoration-color: #008000\">'persist_directory'</span>: <span style=\"color: #008000; text-decoration-color: #008000\">'chroma_sample2/3'</span>,                   <span style=\"color: #7f7f7f; text-decoration-color: #7f7f7f\">                   </span>\n",
       "<span style=\"color: #7fbfbf; text-decoration-color: #7fbfbf\">           </span>         <span style=\"color: #008000; text-decoration-color: #008000\">'collection_metadata'</span>: <span style=\"font-weight: bold\">{</span><span style=\"color: #008000; text-decoration-color: #008000\">'hnsw:space'</span>: <span style=\"color: #008000; text-decoration-color: #008000\">'cosine'</span><span style=\"font-weight: bold\">}}</span>, <span style=\"color: #808000; text-decoration-color: #808000\">custom_class</span>=<span style=\"color: #800080; text-decoration-color: #800080; font-style: italic\">None</span><span style=\"font-weight: bold\">)</span>,       <span style=\"color: #7f7f7f; text-decoration-color: #7f7f7f\">                   </span>\n",
       "<span style=\"color: #7fbfbf; text-decoration-color: #7fbfbf\">           </span>         <span style=\"color: #008000; text-decoration-color: #008000\">'sampling_rate'</span>: <span style=\"color: #800080; text-decoration-color: #800080; font-style: italic\">None</span><span style=\"font-weight: bold\">}</span>                                                      <span style=\"color: #7f7f7f; text-decoration-color: #7f7f7f\">                   </span>\n",
       "</pre>\n"
      ],
      "text/plain": [
       "\u001b[2;36m[18:58:14]\u001b[0m\u001b[2;36m \u001b[0m\u001b[34mINFO    \u001b[0m Trial parameters: \u001b[1m{\u001b[0m\u001b[32m'input_source'\u001b[0m: \u001b[32m'uber_10k.pdf'\u001b[0m, \u001b[32m'test_dataset'\u001b[0m:          \u001b]8;id=800532;file:///Users/aravind/KruxAI/ragbuilder/src/ragbuilder/data_ingest/optimization.py\u001b\\\u001b[2moptimization.py\u001b[0m\u001b]8;;\u001b\\\u001b[2m:\u001b[0m\u001b]8;id=649503;file:///Users/aravind/KruxAI/ragbuilder/src/ragbuilder/data_ingest/optimization.py#192\u001b\\\u001b[2m192\u001b[0m\u001b]8;;\u001b\\\n",
       "\u001b[2;36m           \u001b[0m         \u001b[32m'rag_test_data_1726600284.375674 uber10k_shortlist.csv'\u001b[0m, \u001b[32m'document_loader'\u001b[0m: \u001b[2m                   \u001b[0m\n",
       "\u001b[2;36m           \u001b[0m         \u001b[1;35mLoaderConfig\u001b[0m\u001b[1m(\u001b[0m\u001b[33mtype\u001b[0m=\u001b[1m<\u001b[0m\u001b[1;95mParserType.PYPDF:\u001b[0m\u001b[39m \u001b[0m\u001b[32m'pypdf'\u001b[0m\u001b[39m>, \u001b[0m\u001b[33mloader_kwargs\u001b[0m\u001b[39m=\u001b[0m\u001b[3;35mNone\u001b[0m\u001b[39m, \u001b[0m         \u001b[2m                   \u001b[0m\n",
       "\u001b[2;36m           \u001b[0m         \u001b[33mcustom_class\u001b[0m\u001b[39m=\u001b[0m\u001b[3;35mNone\u001b[0m\u001b[1;39m)\u001b[0m\u001b[39m, \u001b[0m\u001b[32m'chunking_strategy'\u001b[0m\u001b[39m: \u001b[0m                                   \u001b[2m                   \u001b[0m\n",
       "\u001b[2;36m           \u001b[0m         \u001b[1;35mChunkingStrategyConfig\u001b[0m\u001b[1;39m(\u001b[0m\u001b[33mtype\u001b[0m\u001b[39m=<ChunkingStrategy.RECURSIVE: \u001b[0m                   \u001b[2m                   \u001b[0m\n",
       "\u001b[2;36m           \u001b[0m         \u001b[32m'RecursiveCharacterTextSplitter'\u001b[0m\u001b[39m>, \u001b[0m\u001b[33mchunker_kwargs\u001b[0m\u001b[39m=\u001b[0m\u001b[1;39m{\u001b[0m\u001b[32m'separators'\u001b[0m\u001b[39m: \u001b[0m\u001b[1;39m[\u001b[0m\u001b[32m'\\n\\n'\u001b[0m\u001b[39m, \u001b[0m  \u001b[2m                   \u001b[0m\n",
       "\u001b[2;36m           \u001b[0m         \u001b[32m'\\n'\u001b[0m\u001b[39m, \u001b[0m\u001b[32m' '\u001b[0m\u001b[39m, \u001b[0m\u001b[32m''\u001b[0m\u001b[1;39m]\u001b[0m\u001b[1;39m}\u001b[0m\u001b[39m, \u001b[0m\u001b[33mcustom_class\u001b[0m\u001b[39m=\u001b[0m\u001b[3;35mNone\u001b[0m\u001b[1;39m)\u001b[0m\u001b[39m, \u001b[0m\u001b[32m'chunk_overlap'\u001b[0m\u001b[39m: \u001b[0m\u001b[1;36m100\u001b[0m\u001b[39m, \u001b[0m\u001b[32m'chunk_size'\u001b[0m\u001b[39m: \u001b[0m   \u001b[2m                   \u001b[0m\n",
       "\u001b[2;36m           \u001b[0m         \u001b[1;36m1000\u001b[0m\u001b[39m, \u001b[0m\u001b[32m'embedding_model'\u001b[0m\u001b[39m: \u001b[0m\u001b[1;35mEmbeddingConfig\u001b[0m\u001b[1;39m(\u001b[0m\u001b[33mtype\u001b[0m\u001b[39m=<EmbeddingModel.OPENAI: \u001b[0m      \u001b[2m                   \u001b[0m\n",
       "\u001b[2;36m           \u001b[0m         \u001b[32m'openai'\u001b[0m\u001b[39m>, \u001b[0m\u001b[33mmodel_kwargs\u001b[0m\u001b[39m=\u001b[0m\u001b[1;39m{\u001b[0m\u001b[32m'model'\u001b[0m\u001b[39m: \u001b[0m\u001b[32m'text-embedding-3-large'\u001b[0m\u001b[1;39m}\u001b[0m\u001b[39m, \u001b[0m               \u001b[2m                   \u001b[0m\n",
       "\u001b[2;36m           \u001b[0m         \u001b[33mcustom_class\u001b[0m\u001b[39m=\u001b[0m\u001b[3;35mNone\u001b[0m\u001b[1;39m)\u001b[0m\u001b[39m, \u001b[0m\u001b[32m'vector_database'\u001b[0m\u001b[39m: \u001b[0m                                     \u001b[2m                   \u001b[0m\n",
       "\u001b[2;36m           \u001b[0m         \u001b[1;35mVectorDBConfig\u001b[0m\u001b[1;39m(\u001b[0m\u001b[33mtype\u001b[0m\u001b[39m=<VectorDatabase.CHROMA: \u001b[0m\u001b[32m'chroma'\u001b[0m\u001b[1m>\u001b[0m,                      \u001b[2m                   \u001b[0m\n",
       "\u001b[2;36m           \u001b[0m         \u001b[33mvectordb_kwargs\u001b[0m=\u001b[1m{\u001b[0m\u001b[32m'persist_directory'\u001b[0m: \u001b[32m'chroma_sample2/3'\u001b[0m,                   \u001b[2m                   \u001b[0m\n",
       "\u001b[2;36m           \u001b[0m         \u001b[32m'collection_metadata'\u001b[0m: \u001b[1m{\u001b[0m\u001b[32m'hnsw:space'\u001b[0m: \u001b[32m'cosine'\u001b[0m\u001b[1m}\u001b[0m\u001b[1m}\u001b[0m, \u001b[33mcustom_class\u001b[0m=\u001b[3;35mNone\u001b[0m\u001b[1m)\u001b[0m,       \u001b[2m                   \u001b[0m\n",
       "\u001b[2;36m           \u001b[0m         \u001b[32m'sampling_rate'\u001b[0m: \u001b[3;35mNone\u001b[0m\u001b[1m}\u001b[0m                                                      \u001b[2m                   \u001b[0m\n"
      ]
     },
     "metadata": {},
     "output_type": "display_data"
    },
    {
     "data": {
      "text/html": [
       "<pre style=\"white-space:pre;overflow-x:auto;line-height:normal;font-family:Menlo,'DejaVu Sans Mono',consolas,'Courier New',monospace\"><span style=\"color: #7fbfbf; text-decoration-color: #7fbfbf\">           </span><span style=\"color: #000080; text-decoration-color: #000080\">INFO    </span> Config already evaluated with score: <span style=\"color: #008080; text-decoration-color: #008080; font-weight: bold\">0.6989110708236694</span>                      <a href=\"file:///Users/aravind/KruxAI/ragbuilder/src/ragbuilder/data_ingest/optimization.py\" target=\"_blank\"><span style=\"color: #7f7f7f; text-decoration-color: #7f7f7f\">optimization.py</span></a><span style=\"color: #7f7f7f; text-decoration-color: #7f7f7f\">:</span><a href=\"file:///Users/aravind/KruxAI/ragbuilder/src/ragbuilder/data_ingest/optimization.py#63\" target=\"_blank\"><span style=\"color: #7f7f7f; text-decoration-color: #7f7f7f\">63</span></a>\n",
       "</pre>\n"
      ],
      "text/plain": [
       "\u001b[2;36m          \u001b[0m\u001b[2;36m \u001b[0m\u001b[34mINFO    \u001b[0m Config already evaluated with score: \u001b[1;36m0.6989110708236694\u001b[0m                      \u001b]8;id=853132;file:///Users/aravind/KruxAI/ragbuilder/src/ragbuilder/data_ingest/optimization.py\u001b\\\u001b[2moptimization.py\u001b[0m\u001b]8;;\u001b\\\u001b[2m:\u001b[0m\u001b]8;id=796063;file:///Users/aravind/KruxAI/ragbuilder/src/ragbuilder/data_ingest/optimization.py#63\u001b\\\u001b[2m63\u001b[0m\u001b]8;;\u001b\\\n"
      ]
     },
     "metadata": {},
     "output_type": "display_data"
    },
    {
     "name": "stdout",
     "output_type": "stream",
     "text": [
      "[I 2024-11-12 18:58:14,524] Trial 3 finished with value: 0.6989110708236694 and parameters: {'document_loader_index': 2, 'chunking_strategy_index': 0, 'chunk_size': 1000, 'embedding_model_index': 1}. Best is trial 1 with value: 0.7177550182456062.\n"
     ]
    },
    {
     "data": {
      "text/html": [
       "<pre style=\"white-space:pre;overflow-x:auto;line-height:normal;font-family:Menlo,'DejaVu Sans Mono',consolas,'Courier New',monospace\"><span style=\"color: #005fff; text-decoration-color: #005fff; font-weight: bold\">Trial </span><span style=\"color: #005fff; text-decoration-color: #005fff; font-weight: bold\">4</span><span style=\"color: #005fff; text-decoration-color: #005fff; font-weight: bold\">/</span><span style=\"color: #005fff; text-decoration-color: #005fff; font-weight: bold\">29</span>\n",
       "</pre>\n"
      ],
      "text/plain": [
       "\u001b[1;38;5;27mTrial \u001b[0m\u001b[1;38;5;27m4\u001b[0m\u001b[1;38;5;27m/\u001b[0m\u001b[1;38;5;27m29\u001b[0m\n"
      ]
     },
     "metadata": {},
     "output_type": "display_data"
    },
    {
     "data": {
      "text/html": [
       "<pre style=\"white-space:pre;overflow-x:auto;line-height:normal;font-family:Menlo,'DejaVu Sans Mono',consolas,'Courier New',monospace\"><span style=\"color: #7fbfbf; text-decoration-color: #7fbfbf\">           </span><span style=\"color: #000080; text-decoration-color: #000080\">INFO    </span> Trial parameters: <span style=\"font-weight: bold\">{</span><span style=\"color: #008000; text-decoration-color: #008000\">'input_source'</span>: <span style=\"color: #008000; text-decoration-color: #008000\">'uber_10k.pdf'</span>, <span style=\"color: #008000; text-decoration-color: #008000\">'test_dataset'</span>:          <a href=\"file:///Users/aravind/KruxAI/ragbuilder/src/ragbuilder/data_ingest/optimization.py\" target=\"_blank\"><span style=\"color: #7f7f7f; text-decoration-color: #7f7f7f\">optimization.py</span></a><span style=\"color: #7f7f7f; text-decoration-color: #7f7f7f\">:</span><a href=\"file:///Users/aravind/KruxAI/ragbuilder/src/ragbuilder/data_ingest/optimization.py#192\" target=\"_blank\"><span style=\"color: #7f7f7f; text-decoration-color: #7f7f7f\">192</span></a>\n",
       "<span style=\"color: #7fbfbf; text-decoration-color: #7fbfbf\">           </span>         <span style=\"color: #008000; text-decoration-color: #008000\">'rag_test_data_1726600284.375674 uber10k_shortlist.csv'</span>, <span style=\"color: #008000; text-decoration-color: #008000\">'document_loader'</span>: <span style=\"color: #7f7f7f; text-decoration-color: #7f7f7f\">                   </span>\n",
       "<span style=\"color: #7fbfbf; text-decoration-color: #7fbfbf\">           </span>         <span style=\"color: #800080; text-decoration-color: #800080; font-weight: bold\">LoaderConfig</span><span style=\"font-weight: bold\">(</span><span style=\"color: #808000; text-decoration-color: #808000\">type</span>=<span style=\"font-weight: bold\">&lt;</span><span style=\"color: #ff00ff; text-decoration-color: #ff00ff; font-weight: bold\">ParserType.UNSTRUCTURED:</span><span style=\"color: #000000; text-decoration-color: #000000\"> </span><span style=\"color: #008000; text-decoration-color: #008000\">'unstructured'</span><span style=\"color: #000000; text-decoration-color: #000000\">&gt;, </span>               <span style=\"color: #7f7f7f; text-decoration-color: #7f7f7f\">                   </span>\n",
       "<span style=\"color: #7fbfbf; text-decoration-color: #7fbfbf\">           </span>         <span style=\"color: #808000; text-decoration-color: #808000\">loader_kwargs</span><span style=\"color: #000000; text-decoration-color: #000000\">=</span><span style=\"color: #800080; text-decoration-color: #800080; font-style: italic\">None</span><span style=\"color: #000000; text-decoration-color: #000000\">, </span><span style=\"color: #808000; text-decoration-color: #808000\">custom_class</span><span style=\"color: #000000; text-decoration-color: #000000\">=</span><span style=\"color: #800080; text-decoration-color: #800080; font-style: italic\">None</span><span style=\"color: #000000; text-decoration-color: #000000; font-weight: bold\">)</span><span style=\"color: #000000; text-decoration-color: #000000\">, </span><span style=\"color: #008000; text-decoration-color: #008000\">'chunking_strategy'</span><span style=\"color: #000000; text-decoration-color: #000000\">: </span>               <span style=\"color: #7f7f7f; text-decoration-color: #7f7f7f\">                   </span>\n",
       "<span style=\"color: #7fbfbf; text-decoration-color: #7fbfbf\">           </span>         <span style=\"color: #800080; text-decoration-color: #800080; font-weight: bold\">ChunkingStrategyConfig</span><span style=\"color: #000000; text-decoration-color: #000000; font-weight: bold\">(</span><span style=\"color: #808000; text-decoration-color: #808000\">type</span><span style=\"color: #000000; text-decoration-color: #000000\">=&lt;ChunkingStrategy.RECURSIVE: </span>                   <span style=\"color: #7f7f7f; text-decoration-color: #7f7f7f\">                   </span>\n",
       "<span style=\"color: #7fbfbf; text-decoration-color: #7fbfbf\">           </span>         <span style=\"color: #008000; text-decoration-color: #008000\">'RecursiveCharacterTextSplitter'</span><span style=\"color: #000000; text-decoration-color: #000000\">&gt;, </span><span style=\"color: #808000; text-decoration-color: #808000\">chunker_kwargs</span><span style=\"color: #000000; text-decoration-color: #000000\">=</span><span style=\"color: #000000; text-decoration-color: #000000; font-weight: bold\">{</span><span style=\"color: #008000; text-decoration-color: #008000\">'separators'</span><span style=\"color: #000000; text-decoration-color: #000000\">: </span><span style=\"color: #000000; text-decoration-color: #000000; font-weight: bold\">[</span><span style=\"color: #008000; text-decoration-color: #008000\">'\\n\\n'</span><span style=\"color: #000000; text-decoration-color: #000000\">, </span>  <span style=\"color: #7f7f7f; text-decoration-color: #7f7f7f\">                   </span>\n",
       "<span style=\"color: #7fbfbf; text-decoration-color: #7fbfbf\">           </span>         <span style=\"color: #008000; text-decoration-color: #008000\">'\\n'</span><span style=\"color: #000000; text-decoration-color: #000000\">, </span><span style=\"color: #008000; text-decoration-color: #008000\">' '</span><span style=\"color: #000000; text-decoration-color: #000000\">, </span><span style=\"color: #008000; text-decoration-color: #008000\">''</span><span style=\"color: #000000; text-decoration-color: #000000; font-weight: bold\">]}</span><span style=\"color: #000000; text-decoration-color: #000000\">, </span><span style=\"color: #808000; text-decoration-color: #808000\">custom_class</span><span style=\"color: #000000; text-decoration-color: #000000\">=</span><span style=\"color: #800080; text-decoration-color: #800080; font-style: italic\">None</span><span style=\"color: #000000; text-decoration-color: #000000; font-weight: bold\">)</span><span style=\"color: #000000; text-decoration-color: #000000\">, </span><span style=\"color: #008000; text-decoration-color: #008000\">'chunk_overlap'</span><span style=\"color: #000000; text-decoration-color: #000000\">: </span><span style=\"color: #008080; text-decoration-color: #008080; font-weight: bold\">100</span><span style=\"color: #000000; text-decoration-color: #000000\">, </span><span style=\"color: #008000; text-decoration-color: #008000\">'chunk_size'</span><span style=\"color: #000000; text-decoration-color: #000000\">: </span>   <span style=\"color: #7f7f7f; text-decoration-color: #7f7f7f\">                   </span>\n",
       "<span style=\"color: #7fbfbf; text-decoration-color: #7fbfbf\">           </span>         <span style=\"color: #008080; text-decoration-color: #008080; font-weight: bold\">2000</span><span style=\"color: #000000; text-decoration-color: #000000\">, </span><span style=\"color: #008000; text-decoration-color: #008000\">'embedding_model'</span><span style=\"color: #000000; text-decoration-color: #000000\">: </span><span style=\"color: #800080; text-decoration-color: #800080; font-weight: bold\">EmbeddingConfig</span><span style=\"color: #000000; text-decoration-color: #000000; font-weight: bold\">(</span><span style=\"color: #808000; text-decoration-color: #808000\">type</span><span style=\"color: #000000; text-decoration-color: #000000\">=&lt;EmbeddingModel.OPENAI: </span>      <span style=\"color: #7f7f7f; text-decoration-color: #7f7f7f\">                   </span>\n",
       "<span style=\"color: #7fbfbf; text-decoration-color: #7fbfbf\">           </span>         <span style=\"color: #008000; text-decoration-color: #008000\">'openai'</span><span style=\"color: #000000; text-decoration-color: #000000\">&gt;, </span><span style=\"color: #808000; text-decoration-color: #808000\">model_kwargs</span><span style=\"color: #000000; text-decoration-color: #000000\">=</span><span style=\"color: #000000; text-decoration-color: #000000; font-weight: bold\">{</span><span style=\"color: #008000; text-decoration-color: #008000\">'model'</span><span style=\"color: #000000; text-decoration-color: #000000\">: </span><span style=\"color: #008000; text-decoration-color: #008000\">'text-embedding-3-large'</span><span style=\"color: #000000; text-decoration-color: #000000; font-weight: bold\">}</span><span style=\"color: #000000; text-decoration-color: #000000\">, </span>               <span style=\"color: #7f7f7f; text-decoration-color: #7f7f7f\">                   </span>\n",
       "<span style=\"color: #7fbfbf; text-decoration-color: #7fbfbf\">           </span>         <span style=\"color: #808000; text-decoration-color: #808000\">custom_class</span><span style=\"color: #000000; text-decoration-color: #000000\">=</span><span style=\"color: #800080; text-decoration-color: #800080; font-style: italic\">None</span><span style=\"color: #000000; text-decoration-color: #000000; font-weight: bold\">)</span><span style=\"color: #000000; text-decoration-color: #000000\">, </span><span style=\"color: #008000; text-decoration-color: #008000\">'vector_database'</span><span style=\"color: #000000; text-decoration-color: #000000\">: </span>                                     <span style=\"color: #7f7f7f; text-decoration-color: #7f7f7f\">                   </span>\n",
       "<span style=\"color: #7fbfbf; text-decoration-color: #7fbfbf\">           </span>         <span style=\"color: #800080; text-decoration-color: #800080; font-weight: bold\">VectorDBConfig</span><span style=\"color: #000000; text-decoration-color: #000000; font-weight: bold\">(</span><span style=\"color: #808000; text-decoration-color: #808000\">type</span><span style=\"color: #000000; text-decoration-color: #000000\">=&lt;VectorDatabase.CHROMA: </span><span style=\"color: #008000; text-decoration-color: #008000\">'chroma'</span><span style=\"font-weight: bold\">&gt;</span>,                      <span style=\"color: #7f7f7f; text-decoration-color: #7f7f7f\">                   </span>\n",
       "<span style=\"color: #7fbfbf; text-decoration-color: #7fbfbf\">           </span>         <span style=\"color: #808000; text-decoration-color: #808000\">vectordb_kwargs</span>=<span style=\"font-weight: bold\">{</span><span style=\"color: #008000; text-decoration-color: #008000\">'persist_directory'</span>: <span style=\"color: #008000; text-decoration-color: #008000\">'chroma_sample2/4'</span>,                   <span style=\"color: #7f7f7f; text-decoration-color: #7f7f7f\">                   </span>\n",
       "<span style=\"color: #7fbfbf; text-decoration-color: #7fbfbf\">           </span>         <span style=\"color: #008000; text-decoration-color: #008000\">'collection_metadata'</span>: <span style=\"font-weight: bold\">{</span><span style=\"color: #008000; text-decoration-color: #008000\">'hnsw:space'</span>: <span style=\"color: #008000; text-decoration-color: #008000\">'cosine'</span><span style=\"font-weight: bold\">}}</span>, <span style=\"color: #808000; text-decoration-color: #808000\">custom_class</span>=<span style=\"color: #800080; text-decoration-color: #800080; font-style: italic\">None</span><span style=\"font-weight: bold\">)</span>,       <span style=\"color: #7f7f7f; text-decoration-color: #7f7f7f\">                   </span>\n",
       "<span style=\"color: #7fbfbf; text-decoration-color: #7fbfbf\">           </span>         <span style=\"color: #008000; text-decoration-color: #008000\">'sampling_rate'</span>: <span style=\"color: #800080; text-decoration-color: #800080; font-style: italic\">None</span><span style=\"font-weight: bold\">}</span>                                                      <span style=\"color: #7f7f7f; text-decoration-color: #7f7f7f\">                   </span>\n",
       "</pre>\n"
      ],
      "text/plain": [
       "\u001b[2;36m          \u001b[0m\u001b[2;36m \u001b[0m\u001b[34mINFO    \u001b[0m Trial parameters: \u001b[1m{\u001b[0m\u001b[32m'input_source'\u001b[0m: \u001b[32m'uber_10k.pdf'\u001b[0m, \u001b[32m'test_dataset'\u001b[0m:          \u001b]8;id=163104;file:///Users/aravind/KruxAI/ragbuilder/src/ragbuilder/data_ingest/optimization.py\u001b\\\u001b[2moptimization.py\u001b[0m\u001b]8;;\u001b\\\u001b[2m:\u001b[0m\u001b]8;id=674166;file:///Users/aravind/KruxAI/ragbuilder/src/ragbuilder/data_ingest/optimization.py#192\u001b\\\u001b[2m192\u001b[0m\u001b]8;;\u001b\\\n",
       "\u001b[2;36m           \u001b[0m         \u001b[32m'rag_test_data_1726600284.375674 uber10k_shortlist.csv'\u001b[0m, \u001b[32m'document_loader'\u001b[0m: \u001b[2m                   \u001b[0m\n",
       "\u001b[2;36m           \u001b[0m         \u001b[1;35mLoaderConfig\u001b[0m\u001b[1m(\u001b[0m\u001b[33mtype\u001b[0m=\u001b[1m<\u001b[0m\u001b[1;95mParserType.UNSTRUCTURED:\u001b[0m\u001b[39m \u001b[0m\u001b[32m'unstructured'\u001b[0m\u001b[39m>, \u001b[0m               \u001b[2m                   \u001b[0m\n",
       "\u001b[2;36m           \u001b[0m         \u001b[33mloader_kwargs\u001b[0m\u001b[39m=\u001b[0m\u001b[3;35mNone\u001b[0m\u001b[39m, \u001b[0m\u001b[33mcustom_class\u001b[0m\u001b[39m=\u001b[0m\u001b[3;35mNone\u001b[0m\u001b[1;39m)\u001b[0m\u001b[39m, \u001b[0m\u001b[32m'chunking_strategy'\u001b[0m\u001b[39m: \u001b[0m               \u001b[2m                   \u001b[0m\n",
       "\u001b[2;36m           \u001b[0m         \u001b[1;35mChunkingStrategyConfig\u001b[0m\u001b[1;39m(\u001b[0m\u001b[33mtype\u001b[0m\u001b[39m=<ChunkingStrategy.RECURSIVE: \u001b[0m                   \u001b[2m                   \u001b[0m\n",
       "\u001b[2;36m           \u001b[0m         \u001b[32m'RecursiveCharacterTextSplitter'\u001b[0m\u001b[39m>, \u001b[0m\u001b[33mchunker_kwargs\u001b[0m\u001b[39m=\u001b[0m\u001b[1;39m{\u001b[0m\u001b[32m'separators'\u001b[0m\u001b[39m: \u001b[0m\u001b[1;39m[\u001b[0m\u001b[32m'\\n\\n'\u001b[0m\u001b[39m, \u001b[0m  \u001b[2m                   \u001b[0m\n",
       "\u001b[2;36m           \u001b[0m         \u001b[32m'\\n'\u001b[0m\u001b[39m, \u001b[0m\u001b[32m' '\u001b[0m\u001b[39m, \u001b[0m\u001b[32m''\u001b[0m\u001b[1;39m]\u001b[0m\u001b[1;39m}\u001b[0m\u001b[39m, \u001b[0m\u001b[33mcustom_class\u001b[0m\u001b[39m=\u001b[0m\u001b[3;35mNone\u001b[0m\u001b[1;39m)\u001b[0m\u001b[39m, \u001b[0m\u001b[32m'chunk_overlap'\u001b[0m\u001b[39m: \u001b[0m\u001b[1;36m100\u001b[0m\u001b[39m, \u001b[0m\u001b[32m'chunk_size'\u001b[0m\u001b[39m: \u001b[0m   \u001b[2m                   \u001b[0m\n",
       "\u001b[2;36m           \u001b[0m         \u001b[1;36m2000\u001b[0m\u001b[39m, \u001b[0m\u001b[32m'embedding_model'\u001b[0m\u001b[39m: \u001b[0m\u001b[1;35mEmbeddingConfig\u001b[0m\u001b[1;39m(\u001b[0m\u001b[33mtype\u001b[0m\u001b[39m=<EmbeddingModel.OPENAI: \u001b[0m      \u001b[2m                   \u001b[0m\n",
       "\u001b[2;36m           \u001b[0m         \u001b[32m'openai'\u001b[0m\u001b[39m>, \u001b[0m\u001b[33mmodel_kwargs\u001b[0m\u001b[39m=\u001b[0m\u001b[1;39m{\u001b[0m\u001b[32m'model'\u001b[0m\u001b[39m: \u001b[0m\u001b[32m'text-embedding-3-large'\u001b[0m\u001b[1;39m}\u001b[0m\u001b[39m, \u001b[0m               \u001b[2m                   \u001b[0m\n",
       "\u001b[2;36m           \u001b[0m         \u001b[33mcustom_class\u001b[0m\u001b[39m=\u001b[0m\u001b[3;35mNone\u001b[0m\u001b[1;39m)\u001b[0m\u001b[39m, \u001b[0m\u001b[32m'vector_database'\u001b[0m\u001b[39m: \u001b[0m                                     \u001b[2m                   \u001b[0m\n",
       "\u001b[2;36m           \u001b[0m         \u001b[1;35mVectorDBConfig\u001b[0m\u001b[1;39m(\u001b[0m\u001b[33mtype\u001b[0m\u001b[39m=<VectorDatabase.CHROMA: \u001b[0m\u001b[32m'chroma'\u001b[0m\u001b[1m>\u001b[0m,                      \u001b[2m                   \u001b[0m\n",
       "\u001b[2;36m           \u001b[0m         \u001b[33mvectordb_kwargs\u001b[0m=\u001b[1m{\u001b[0m\u001b[32m'persist_directory'\u001b[0m: \u001b[32m'chroma_sample2/4'\u001b[0m,                   \u001b[2m                   \u001b[0m\n",
       "\u001b[2;36m           \u001b[0m         \u001b[32m'collection_metadata'\u001b[0m: \u001b[1m{\u001b[0m\u001b[32m'hnsw:space'\u001b[0m: \u001b[32m'cosine'\u001b[0m\u001b[1m}\u001b[0m\u001b[1m}\u001b[0m, \u001b[33mcustom_class\u001b[0m=\u001b[3;35mNone\u001b[0m\u001b[1m)\u001b[0m,       \u001b[2m                   \u001b[0m\n",
       "\u001b[2;36m           \u001b[0m         \u001b[32m'sampling_rate'\u001b[0m: \u001b[3;35mNone\u001b[0m\u001b[1m}\u001b[0m                                                      \u001b[2m                   \u001b[0m\n"
      ]
     },
     "metadata": {},
     "output_type": "display_data"
    },
    {
     "data": {
      "application/vnd.jupyter.widget-view+json": {
       "model_id": "b3b4b58dd0c74c08ad987d9d499564b1",
       "version_major": 2,
       "version_minor": 0
      },
      "text/plain": [
       "Output()"
      ]
     },
     "metadata": {},
     "output_type": "display_data"
    },
    {
     "data": {
      "text/html": [
       "<pre style=\"white-space:pre;overflow-x:auto;line-height:normal;font-family:Menlo,'DejaVu Sans Mono',consolas,'Courier New',monospace\"><span style=\"color: #008000; text-decoration-color: #008000\">✓ Pipeline execution complete!</span>\n",
       "</pre>\n"
      ],
      "text/plain": [
       "\u001b[32m✓ Pipeline execution complete!\u001b[0m\n"
      ]
     },
     "metadata": {},
     "output_type": "display_data"
    },
    {
     "data": {
      "text/html": [
       "<pre style=\"white-space:pre;overflow-x:auto;line-height:normal;font-family:Menlo,'DejaVu Sans Mono',consolas,'Courier New',monospace\"></pre>\n"
      ],
      "text/plain": []
     },
     "metadata": {},
     "output_type": "display_data"
    },
    {
     "data": {
      "text/html": [
       "<pre style=\"white-space:pre;overflow-x:auto;line-height:normal;font-family:Menlo,'DejaVu Sans Mono',consolas,'Courier New',monospace\"><span style=\"color: #008000; text-decoration-color: #008000\">Trial Score:</span> <span style=\"color: #00ffff; text-decoration-color: #00ffff; font-weight: bold\">0.7335</span>\n",
       "</pre>\n"
      ],
      "text/plain": [
       "\u001b[32mTrial Score:\u001b[0m \u001b[1;96m0.7335\u001b[0m\n"
      ]
     },
     "metadata": {},
     "output_type": "display_data"
    },
    {
     "name": "stdout",
     "output_type": "stream",
     "text": [
      "[I 2024-11-12 18:58:44,326] Trial 4 finished with value: 0.7334579535506522 and parameters: {'document_loader_index': 1, 'chunking_strategy_index': 0, 'chunk_size': 2000, 'embedding_model_index': 1}. Best is trial 4 with value: 0.7334579535506522.\n"
     ]
    },
    {
     "data": {
      "text/html": [
       "<pre style=\"white-space:pre;overflow-x:auto;line-height:normal;font-family:Menlo,'DejaVu Sans Mono',consolas,'Courier New',monospace\"><span style=\"color: #005fff; text-decoration-color: #005fff; font-weight: bold\">Trial </span><span style=\"color: #005fff; text-decoration-color: #005fff; font-weight: bold\">5</span><span style=\"color: #005fff; text-decoration-color: #005fff; font-weight: bold\">/</span><span style=\"color: #005fff; text-decoration-color: #005fff; font-weight: bold\">29</span>\n",
       "</pre>\n"
      ],
      "text/plain": [
       "\u001b[1;38;5;27mTrial \u001b[0m\u001b[1;38;5;27m5\u001b[0m\u001b[1;38;5;27m/\u001b[0m\u001b[1;38;5;27m29\u001b[0m\n"
      ]
     },
     "metadata": {},
     "output_type": "display_data"
    },
    {
     "data": {
      "text/html": [
       "<pre style=\"white-space:pre;overflow-x:auto;line-height:normal;font-family:Menlo,'DejaVu Sans Mono',consolas,'Courier New',monospace\"><span style=\"color: #7fbfbf; text-decoration-color: #7fbfbf\">[18:58:44] </span><span style=\"color: #000080; text-decoration-color: #000080\">INFO    </span> Trial parameters: <span style=\"font-weight: bold\">{</span><span style=\"color: #008000; text-decoration-color: #008000\">'input_source'</span>: <span style=\"color: #008000; text-decoration-color: #008000\">'uber_10k.pdf'</span>, <span style=\"color: #008000; text-decoration-color: #008000\">'test_dataset'</span>:          <a href=\"file:///Users/aravind/KruxAI/ragbuilder/src/ragbuilder/data_ingest/optimization.py\" target=\"_blank\"><span style=\"color: #7f7f7f; text-decoration-color: #7f7f7f\">optimization.py</span></a><span style=\"color: #7f7f7f; text-decoration-color: #7f7f7f\">:</span><a href=\"file:///Users/aravind/KruxAI/ragbuilder/src/ragbuilder/data_ingest/optimization.py#192\" target=\"_blank\"><span style=\"color: #7f7f7f; text-decoration-color: #7f7f7f\">192</span></a>\n",
       "<span style=\"color: #7fbfbf; text-decoration-color: #7fbfbf\">           </span>         <span style=\"color: #008000; text-decoration-color: #008000\">'rag_test_data_1726600284.375674 uber10k_shortlist.csv'</span>, <span style=\"color: #008000; text-decoration-color: #008000\">'document_loader'</span>: <span style=\"color: #7f7f7f; text-decoration-color: #7f7f7f\">                   </span>\n",
       "<span style=\"color: #7fbfbf; text-decoration-color: #7fbfbf\">           </span>         <span style=\"color: #800080; text-decoration-color: #800080; font-weight: bold\">LoaderConfig</span><span style=\"font-weight: bold\">(</span><span style=\"color: #808000; text-decoration-color: #808000\">type</span>=<span style=\"font-weight: bold\">&lt;</span><span style=\"color: #ff00ff; text-decoration-color: #ff00ff; font-weight: bold\">ParserType.PYPDF:</span><span style=\"color: #000000; text-decoration-color: #000000\"> </span><span style=\"color: #008000; text-decoration-color: #008000\">'pypdf'</span><span style=\"color: #000000; text-decoration-color: #000000\">&gt;, </span><span style=\"color: #808000; text-decoration-color: #808000\">loader_kwargs</span><span style=\"color: #000000; text-decoration-color: #000000\">=</span><span style=\"color: #800080; text-decoration-color: #800080; font-style: italic\">None</span><span style=\"color: #000000; text-decoration-color: #000000\">, </span>         <span style=\"color: #7f7f7f; text-decoration-color: #7f7f7f\">                   </span>\n",
       "<span style=\"color: #7fbfbf; text-decoration-color: #7fbfbf\">           </span>         <span style=\"color: #808000; text-decoration-color: #808000\">custom_class</span><span style=\"color: #000000; text-decoration-color: #000000\">=</span><span style=\"color: #800080; text-decoration-color: #800080; font-style: italic\">None</span><span style=\"color: #000000; text-decoration-color: #000000; font-weight: bold\">)</span><span style=\"color: #000000; text-decoration-color: #000000\">, </span><span style=\"color: #008000; text-decoration-color: #008000\">'chunking_strategy'</span><span style=\"color: #000000; text-decoration-color: #000000\">: </span>                                   <span style=\"color: #7f7f7f; text-decoration-color: #7f7f7f\">                   </span>\n",
       "<span style=\"color: #7fbfbf; text-decoration-color: #7fbfbf\">           </span>         <span style=\"color: #800080; text-decoration-color: #800080; font-weight: bold\">ChunkingStrategyConfig</span><span style=\"color: #000000; text-decoration-color: #000000; font-weight: bold\">(</span><span style=\"color: #808000; text-decoration-color: #808000\">type</span><span style=\"color: #000000; text-decoration-color: #000000\">=&lt;ChunkingStrategy.CUSTOM: </span><span style=\"color: #008000; text-decoration-color: #008000\">'custom'</span><span style=\"color: #000000; text-decoration-color: #000000\">&gt;, </span>           <span style=\"color: #7f7f7f; text-decoration-color: #7f7f7f\">                   </span>\n",
       "<span style=\"color: #7fbfbf; text-decoration-color: #7fbfbf\">           </span>         <span style=\"color: #808000; text-decoration-color: #808000\">chunker_kwargs</span><span style=\"color: #000000; text-decoration-color: #000000\">=</span><span style=\"color: #800080; text-decoration-color: #800080; font-style: italic\">None</span><span style=\"color: #000000; text-decoration-color: #000000\">, </span>                                                       <span style=\"color: #7f7f7f; text-decoration-color: #7f7f7f\">                   </span>\n",
       "<span style=\"color: #7fbfbf; text-decoration-color: #7fbfbf\">           </span>         <span style=\"color: #808000; text-decoration-color: #808000\">custom_class</span><span style=\"color: #000000; text-decoration-color: #000000\">=</span><span style=\"color: #008000; text-decoration-color: #008000\">'ragbuilder.custom_components.CustomChunker'</span><span style=\"color: #000000; text-decoration-color: #000000; font-weight: bold\">)</span><span style=\"color: #000000; text-decoration-color: #000000\">, </span>                <span style=\"color: #7f7f7f; text-decoration-color: #7f7f7f\">                   </span>\n",
       "<span style=\"color: #7fbfbf; text-decoration-color: #7fbfbf\">           </span>         <span style=\"color: #008000; text-decoration-color: #008000\">'chunk_overlap'</span><span style=\"color: #000000; text-decoration-color: #000000\">: </span><span style=\"color: #008080; text-decoration-color: #008080; font-weight: bold\">100</span><span style=\"color: #000000; text-decoration-color: #000000\">, </span><span style=\"color: #008000; text-decoration-color: #008000\">'chunk_size'</span><span style=\"color: #000000; text-decoration-color: #000000\">: </span><span style=\"color: #008080; text-decoration-color: #008080; font-weight: bold\">500</span><span style=\"color: #000000; text-decoration-color: #000000\">, </span><span style=\"color: #008000; text-decoration-color: #008000\">'embedding_model'</span><span style=\"color: #000000; text-decoration-color: #000000\">: </span>                <span style=\"color: #7f7f7f; text-decoration-color: #7f7f7f\">                   </span>\n",
       "<span style=\"color: #7fbfbf; text-decoration-color: #7fbfbf\">           </span>         <span style=\"color: #800080; text-decoration-color: #800080; font-weight: bold\">EmbeddingConfig</span><span style=\"color: #000000; text-decoration-color: #000000; font-weight: bold\">(</span><span style=\"color: #808000; text-decoration-color: #808000\">type</span><span style=\"color: #000000; text-decoration-color: #000000\">=&lt;EmbeddingModel.HUGGINGFACE: </span><span style=\"color: #008000; text-decoration-color: #008000\">'huggingface'</span><span style=\"color: #000000; text-decoration-color: #000000\">&gt;, </span>          <span style=\"color: #7f7f7f; text-decoration-color: #7f7f7f\">                   </span>\n",
       "<span style=\"color: #7fbfbf; text-decoration-color: #7fbfbf\">           </span>         <span style=\"color: #808000; text-decoration-color: #808000\">model_kwargs</span><span style=\"color: #000000; text-decoration-color: #000000\">=</span><span style=\"color: #000000; text-decoration-color: #000000; font-weight: bold\">{</span><span style=\"color: #008000; text-decoration-color: #008000\">'model_name'</span><span style=\"color: #000000; text-decoration-color: #000000\">: </span><span style=\"color: #008000; text-decoration-color: #008000\">'mixedbread-ai/mxbai-embed-large-v1'</span><span style=\"color: #000000; text-decoration-color: #000000; font-weight: bold\">}</span><span style=\"color: #000000; text-decoration-color: #000000\">, </span>         <span style=\"color: #7f7f7f; text-decoration-color: #7f7f7f\">                   </span>\n",
       "<span style=\"color: #7fbfbf; text-decoration-color: #7fbfbf\">           </span>         <span style=\"color: #808000; text-decoration-color: #808000\">custom_class</span><span style=\"color: #000000; text-decoration-color: #000000\">=</span><span style=\"color: #800080; text-decoration-color: #800080; font-style: italic\">None</span><span style=\"color: #000000; text-decoration-color: #000000; font-weight: bold\">)</span><span style=\"color: #000000; text-decoration-color: #000000\">, </span><span style=\"color: #008000; text-decoration-color: #008000\">'vector_database'</span><span style=\"color: #000000; text-decoration-color: #000000\">: </span>                                     <span style=\"color: #7f7f7f; text-decoration-color: #7f7f7f\">                   </span>\n",
       "<span style=\"color: #7fbfbf; text-decoration-color: #7fbfbf\">           </span>         <span style=\"color: #800080; text-decoration-color: #800080; font-weight: bold\">VectorDBConfig</span><span style=\"color: #000000; text-decoration-color: #000000; font-weight: bold\">(</span><span style=\"color: #808000; text-decoration-color: #808000\">type</span><span style=\"color: #000000; text-decoration-color: #000000\">=&lt;VectorDatabase.CHROMA: </span><span style=\"color: #008000; text-decoration-color: #008000\">'chroma'</span><span style=\"font-weight: bold\">&gt;</span>,                      <span style=\"color: #7f7f7f; text-decoration-color: #7f7f7f\">                   </span>\n",
       "<span style=\"color: #7fbfbf; text-decoration-color: #7fbfbf\">           </span>         <span style=\"color: #808000; text-decoration-color: #808000\">vectordb_kwargs</span>=<span style=\"font-weight: bold\">{</span><span style=\"color: #008000; text-decoration-color: #008000\">'persist_directory'</span>: <span style=\"color: #008000; text-decoration-color: #008000\">'chroma_sample2/5'</span>,                   <span style=\"color: #7f7f7f; text-decoration-color: #7f7f7f\">                   </span>\n",
       "<span style=\"color: #7fbfbf; text-decoration-color: #7fbfbf\">           </span>         <span style=\"color: #008000; text-decoration-color: #008000\">'collection_metadata'</span>: <span style=\"font-weight: bold\">{</span><span style=\"color: #008000; text-decoration-color: #008000\">'hnsw:space'</span>: <span style=\"color: #008000; text-decoration-color: #008000\">'cosine'</span><span style=\"font-weight: bold\">}}</span>, <span style=\"color: #808000; text-decoration-color: #808000\">custom_class</span>=<span style=\"color: #800080; text-decoration-color: #800080; font-style: italic\">None</span><span style=\"font-weight: bold\">)</span>,       <span style=\"color: #7f7f7f; text-decoration-color: #7f7f7f\">                   </span>\n",
       "<span style=\"color: #7fbfbf; text-decoration-color: #7fbfbf\">           </span>         <span style=\"color: #008000; text-decoration-color: #008000\">'sampling_rate'</span>: <span style=\"color: #800080; text-decoration-color: #800080; font-style: italic\">None</span><span style=\"font-weight: bold\">}</span>                                                      <span style=\"color: #7f7f7f; text-decoration-color: #7f7f7f\">                   </span>\n",
       "</pre>\n"
      ],
      "text/plain": [
       "\u001b[2;36m[18:58:44]\u001b[0m\u001b[2;36m \u001b[0m\u001b[34mINFO    \u001b[0m Trial parameters: \u001b[1m{\u001b[0m\u001b[32m'input_source'\u001b[0m: \u001b[32m'uber_10k.pdf'\u001b[0m, \u001b[32m'test_dataset'\u001b[0m:          \u001b]8;id=581148;file:///Users/aravind/KruxAI/ragbuilder/src/ragbuilder/data_ingest/optimization.py\u001b\\\u001b[2moptimization.py\u001b[0m\u001b]8;;\u001b\\\u001b[2m:\u001b[0m\u001b]8;id=751068;file:///Users/aravind/KruxAI/ragbuilder/src/ragbuilder/data_ingest/optimization.py#192\u001b\\\u001b[2m192\u001b[0m\u001b]8;;\u001b\\\n",
       "\u001b[2;36m           \u001b[0m         \u001b[32m'rag_test_data_1726600284.375674 uber10k_shortlist.csv'\u001b[0m, \u001b[32m'document_loader'\u001b[0m: \u001b[2m                   \u001b[0m\n",
       "\u001b[2;36m           \u001b[0m         \u001b[1;35mLoaderConfig\u001b[0m\u001b[1m(\u001b[0m\u001b[33mtype\u001b[0m=\u001b[1m<\u001b[0m\u001b[1;95mParserType.PYPDF:\u001b[0m\u001b[39m \u001b[0m\u001b[32m'pypdf'\u001b[0m\u001b[39m>, \u001b[0m\u001b[33mloader_kwargs\u001b[0m\u001b[39m=\u001b[0m\u001b[3;35mNone\u001b[0m\u001b[39m, \u001b[0m         \u001b[2m                   \u001b[0m\n",
       "\u001b[2;36m           \u001b[0m         \u001b[33mcustom_class\u001b[0m\u001b[39m=\u001b[0m\u001b[3;35mNone\u001b[0m\u001b[1;39m)\u001b[0m\u001b[39m, \u001b[0m\u001b[32m'chunking_strategy'\u001b[0m\u001b[39m: \u001b[0m                                   \u001b[2m                   \u001b[0m\n",
       "\u001b[2;36m           \u001b[0m         \u001b[1;35mChunkingStrategyConfig\u001b[0m\u001b[1;39m(\u001b[0m\u001b[33mtype\u001b[0m\u001b[39m=<ChunkingStrategy.CUSTOM: \u001b[0m\u001b[32m'custom'\u001b[0m\u001b[39m>, \u001b[0m           \u001b[2m                   \u001b[0m\n",
       "\u001b[2;36m           \u001b[0m         \u001b[33mchunker_kwargs\u001b[0m\u001b[39m=\u001b[0m\u001b[3;35mNone\u001b[0m\u001b[39m, \u001b[0m                                                       \u001b[2m                   \u001b[0m\n",
       "\u001b[2;36m           \u001b[0m         \u001b[33mcustom_class\u001b[0m\u001b[39m=\u001b[0m\u001b[32m'ragbuilder.custom_components.CustomChunker'\u001b[0m\u001b[1;39m)\u001b[0m\u001b[39m, \u001b[0m                \u001b[2m                   \u001b[0m\n",
       "\u001b[2;36m           \u001b[0m         \u001b[32m'chunk_overlap'\u001b[0m\u001b[39m: \u001b[0m\u001b[1;36m100\u001b[0m\u001b[39m, \u001b[0m\u001b[32m'chunk_size'\u001b[0m\u001b[39m: \u001b[0m\u001b[1;36m500\u001b[0m\u001b[39m, \u001b[0m\u001b[32m'embedding_model'\u001b[0m\u001b[39m: \u001b[0m                \u001b[2m                   \u001b[0m\n",
       "\u001b[2;36m           \u001b[0m         \u001b[1;35mEmbeddingConfig\u001b[0m\u001b[1;39m(\u001b[0m\u001b[33mtype\u001b[0m\u001b[39m=<EmbeddingModel.HUGGINGFACE: \u001b[0m\u001b[32m'huggingface'\u001b[0m\u001b[39m>, \u001b[0m          \u001b[2m                   \u001b[0m\n",
       "\u001b[2;36m           \u001b[0m         \u001b[33mmodel_kwargs\u001b[0m\u001b[39m=\u001b[0m\u001b[1;39m{\u001b[0m\u001b[32m'model_name'\u001b[0m\u001b[39m: \u001b[0m\u001b[32m'mixedbread-ai/mxbai-embed-large-v1'\u001b[0m\u001b[1;39m}\u001b[0m\u001b[39m, \u001b[0m         \u001b[2m                   \u001b[0m\n",
       "\u001b[2;36m           \u001b[0m         \u001b[33mcustom_class\u001b[0m\u001b[39m=\u001b[0m\u001b[3;35mNone\u001b[0m\u001b[1;39m)\u001b[0m\u001b[39m, \u001b[0m\u001b[32m'vector_database'\u001b[0m\u001b[39m: \u001b[0m                                     \u001b[2m                   \u001b[0m\n",
       "\u001b[2;36m           \u001b[0m         \u001b[1;35mVectorDBConfig\u001b[0m\u001b[1;39m(\u001b[0m\u001b[33mtype\u001b[0m\u001b[39m=<VectorDatabase.CHROMA: \u001b[0m\u001b[32m'chroma'\u001b[0m\u001b[1m>\u001b[0m,                      \u001b[2m                   \u001b[0m\n",
       "\u001b[2;36m           \u001b[0m         \u001b[33mvectordb_kwargs\u001b[0m=\u001b[1m{\u001b[0m\u001b[32m'persist_directory'\u001b[0m: \u001b[32m'chroma_sample2/5'\u001b[0m,                   \u001b[2m                   \u001b[0m\n",
       "\u001b[2;36m           \u001b[0m         \u001b[32m'collection_metadata'\u001b[0m: \u001b[1m{\u001b[0m\u001b[32m'hnsw:space'\u001b[0m: \u001b[32m'cosine'\u001b[0m\u001b[1m}\u001b[0m\u001b[1m}\u001b[0m, \u001b[33mcustom_class\u001b[0m=\u001b[3;35mNone\u001b[0m\u001b[1m)\u001b[0m,       \u001b[2m                   \u001b[0m\n",
       "\u001b[2;36m           \u001b[0m         \u001b[32m'sampling_rate'\u001b[0m: \u001b[3;35mNone\u001b[0m\u001b[1m}\u001b[0m                                                      \u001b[2m                   \u001b[0m\n"
      ]
     },
     "metadata": {},
     "output_type": "display_data"
    },
    {
     "name": "stdout",
     "output_type": "stream",
     "text": [
      "class_path:  ragbuilder.custom_components.CustomChunker\n"
     ]
    },
    {
     "data": {
      "text/html": [
       "<pre style=\"white-space:pre;overflow-x:auto;line-height:normal;font-family:Menlo,'DejaVu Sans Mono',consolas,'Courier New',monospace\"><span style=\"color: #7fbfbf; text-decoration-color: #7fbfbf\">           </span><span style=\"color: #000080; text-decoration-color: #000080\">INFO    </span> Load pretrained SentenceTransformer:                                 <a href=\"file:///opt/anaconda3/envs/ragbuilder/lib/python3.12/site-packages/sentence_transformers/SentenceTransformer.py\" target=\"_blank\"><span style=\"color: #7f7f7f; text-decoration-color: #7f7f7f\">SentenceTransformer.py</span></a><span style=\"color: #7f7f7f; text-decoration-color: #7f7f7f\">:</span><a href=\"file:///opt/anaconda3/envs/ragbuilder/lib/python3.12/site-packages/sentence_transformers/SentenceTransformer.py#113\" target=\"_blank\"><span style=\"color: #7f7f7f; text-decoration-color: #7f7f7f\">113</span></a>\n",
       "<span style=\"color: #7fbfbf; text-decoration-color: #7fbfbf\">           </span>         mixedbread-ai/mxbai-embed-large-v1                                   <span style=\"color: #7f7f7f; text-decoration-color: #7f7f7f\">                          </span>\n",
       "</pre>\n"
      ],
      "text/plain": [
       "\u001b[2;36m          \u001b[0m\u001b[2;36m \u001b[0m\u001b[34mINFO    \u001b[0m Load pretrained SentenceTransformer:                                 \u001b]8;id=982519;file:///opt/anaconda3/envs/ragbuilder/lib/python3.12/site-packages/sentence_transformers/SentenceTransformer.py\u001b\\\u001b[2mSentenceTransformer.py\u001b[0m\u001b]8;;\u001b\\\u001b[2m:\u001b[0m\u001b]8;id=619149;file:///opt/anaconda3/envs/ragbuilder/lib/python3.12/site-packages/sentence_transformers/SentenceTransformer.py#113\u001b\\\u001b[2m113\u001b[0m\u001b]8;;\u001b\\\n",
       "\u001b[2;36m           \u001b[0m         mixedbread-ai/mxbai-embed-large-v1                                   \u001b[2m                          \u001b[0m\n"
      ]
     },
     "metadata": {},
     "output_type": "display_data"
    },
    {
     "data": {
      "text/html": [
       "<pre style=\"white-space:pre;overflow-x:auto;line-height:normal;font-family:Menlo,'DejaVu Sans Mono',consolas,'Courier New',monospace\"><span style=\"color: #7fbfbf; text-decoration-color: #7fbfbf\">[18:58:48] </span><span style=\"color: #000080; text-decoration-color: #000080\">INFO    </span> Use pytorch device_name: mps                                         <a href=\"file:///opt/anaconda3/envs/ragbuilder/lib/python3.12/site-packages/sentence_transformers/SentenceTransformer.py\" target=\"_blank\"><span style=\"color: #7f7f7f; text-decoration-color: #7f7f7f\">SentenceTransformer.py</span></a><span style=\"color: #7f7f7f; text-decoration-color: #7f7f7f\">:</span><a href=\"file:///opt/anaconda3/envs/ragbuilder/lib/python3.12/site-packages/sentence_transformers/SentenceTransformer.py#219\" target=\"_blank\"><span style=\"color: #7f7f7f; text-decoration-color: #7f7f7f\">219</span></a>\n",
       "</pre>\n"
      ],
      "text/plain": [
       "\u001b[2;36m[18:58:48]\u001b[0m\u001b[2;36m \u001b[0m\u001b[34mINFO    \u001b[0m Use pytorch device_name: mps                                         \u001b]8;id=83048;file:///opt/anaconda3/envs/ragbuilder/lib/python3.12/site-packages/sentence_transformers/SentenceTransformer.py\u001b\\\u001b[2mSentenceTransformer.py\u001b[0m\u001b]8;;\u001b\\\u001b[2m:\u001b[0m\u001b]8;id=367991;file:///opt/anaconda3/envs/ragbuilder/lib/python3.12/site-packages/sentence_transformers/SentenceTransformer.py#219\u001b\\\u001b[2m219\u001b[0m\u001b]8;;\u001b\\\n"
      ]
     },
     "metadata": {},
     "output_type": "display_data"
    },
    {
     "data": {
      "text/html": [
       "<pre style=\"white-space:pre;overflow-x:auto;line-height:normal;font-family:Menlo,'DejaVu Sans Mono',consolas,'Courier New',monospace\"><span style=\"color: #7fbfbf; text-decoration-color: #7fbfbf\">           </span><span style=\"color: #000080; text-decoration-color: #000080\">INFO    </span> <span style=\"color: #008080; text-decoration-color: #008080; font-weight: bold\">2</span> prompts are loaded, with the keys: <span style=\"font-weight: bold\">[</span><span style=\"color: #008000; text-decoration-color: #008000\">'query'</span>, <span style=\"color: #008000; text-decoration-color: #008000\">'passage'</span><span style=\"font-weight: bold\">]</span>            <a href=\"file:///opt/anaconda3/envs/ragbuilder/lib/python3.12/site-packages/sentence_transformers/SentenceTransformer.py\" target=\"_blank\"><span style=\"color: #7f7f7f; text-decoration-color: #7f7f7f\">SentenceTransformer.py</span></a><span style=\"color: #7f7f7f; text-decoration-color: #7f7f7f\">:</span><a href=\"file:///opt/anaconda3/envs/ragbuilder/lib/python3.12/site-packages/sentence_transformers/SentenceTransformer.py#231\" target=\"_blank\"><span style=\"color: #7f7f7f; text-decoration-color: #7f7f7f\">231</span></a>\n",
       "</pre>\n"
      ],
      "text/plain": [
       "\u001b[2;36m          \u001b[0m\u001b[2;36m \u001b[0m\u001b[34mINFO    \u001b[0m \u001b[1;36m2\u001b[0m prompts are loaded, with the keys: \u001b[1m[\u001b[0m\u001b[32m'query'\u001b[0m, \u001b[32m'passage'\u001b[0m\u001b[1m]\u001b[0m            \u001b]8;id=523526;file:///opt/anaconda3/envs/ragbuilder/lib/python3.12/site-packages/sentence_transformers/SentenceTransformer.py\u001b\\\u001b[2mSentenceTransformer.py\u001b[0m\u001b]8;;\u001b\\\u001b[2m:\u001b[0m\u001b]8;id=567978;file:///opt/anaconda3/envs/ragbuilder/lib/python3.12/site-packages/sentence_transformers/SentenceTransformer.py#231\u001b\\\u001b[2m231\u001b[0m\u001b]8;;\u001b\\\n"
      ]
     },
     "metadata": {},
     "output_type": "display_data"
    },
    {
     "data": {
      "application/vnd.jupyter.widget-view+json": {
       "model_id": "a2a3f91f665e4ecd8dd9df282d89ee36",
       "version_major": 2,
       "version_minor": 0
      },
      "text/plain": [
       "Output()"
      ]
     },
     "metadata": {},
     "output_type": "display_data"
    },
    {
     "data": {
      "text/html": [
       "<pre style=\"white-space:pre;overflow-x:auto;line-height:normal;font-family:Menlo,'DejaVu Sans Mono',consolas,'Courier New',monospace\"><span style=\"color: #008000; text-decoration-color: #008000\">✓ Pipeline execution complete!</span>\n",
       "</pre>\n"
      ],
      "text/plain": [
       "\u001b[32m✓ Pipeline execution complete!\u001b[0m\n"
      ]
     },
     "metadata": {},
     "output_type": "display_data"
    },
    {
     "data": {
      "text/html": [
       "<pre style=\"white-space:pre;overflow-x:auto;line-height:normal;font-family:Menlo,'DejaVu Sans Mono',consolas,'Courier New',monospace\"></pre>\n"
      ],
      "text/plain": []
     },
     "metadata": {},
     "output_type": "display_data"
    },
    {
     "data": {
      "text/html": [
       "<pre style=\"white-space:pre;overflow-x:auto;line-height:normal;font-family:Menlo,'DejaVu Sans Mono',consolas,'Courier New',monospace\"><span style=\"color: #008000; text-decoration-color: #008000\">Trial Score:</span> <span style=\"color: #00ffff; text-decoration-color: #00ffff; font-weight: bold\">0.8228</span>\n",
       "</pre>\n"
      ],
      "text/plain": [
       "\u001b[32mTrial Score:\u001b[0m \u001b[1;96m0.8228\u001b[0m\n"
      ]
     },
     "metadata": {},
     "output_type": "display_data"
    },
    {
     "name": "stdout",
     "output_type": "stream",
     "text": [
      "[I 2024-11-12 18:59:44,982] Trial 5 finished with value: 0.8228296845678299 and parameters: {'document_loader_index': 2, 'chunking_strategy_index': 1, 'chunk_size': 500, 'embedding_model_index': 0}. Best is trial 5 with value: 0.8228296845678299.\n"
     ]
    },
    {
     "data": {
      "text/html": [
       "<pre style=\"white-space:pre;overflow-x:auto;line-height:normal;font-family:Menlo,'DejaVu Sans Mono',consolas,'Courier New',monospace\"><span style=\"color: #005fff; text-decoration-color: #005fff; font-weight: bold\">Trial </span><span style=\"color: #005fff; text-decoration-color: #005fff; font-weight: bold\">6</span><span style=\"color: #005fff; text-decoration-color: #005fff; font-weight: bold\">/</span><span style=\"color: #005fff; text-decoration-color: #005fff; font-weight: bold\">29</span>\n",
       "</pre>\n"
      ],
      "text/plain": [
       "\u001b[1;38;5;27mTrial \u001b[0m\u001b[1;38;5;27m6\u001b[0m\u001b[1;38;5;27m/\u001b[0m\u001b[1;38;5;27m29\u001b[0m\n"
      ]
     },
     "metadata": {},
     "output_type": "display_data"
    },
    {
     "data": {
      "text/html": [
       "<pre style=\"white-space:pre;overflow-x:auto;line-height:normal;font-family:Menlo,'DejaVu Sans Mono',consolas,'Courier New',monospace\"><span style=\"color: #7fbfbf; text-decoration-color: #7fbfbf\">[18:59:44] </span><span style=\"color: #000080; text-decoration-color: #000080\">INFO    </span> Trial parameters: <span style=\"font-weight: bold\">{</span><span style=\"color: #008000; text-decoration-color: #008000\">'input_source'</span>: <span style=\"color: #008000; text-decoration-color: #008000\">'uber_10k.pdf'</span>, <span style=\"color: #008000; text-decoration-color: #008000\">'test_dataset'</span>:          <a href=\"file:///Users/aravind/KruxAI/ragbuilder/src/ragbuilder/data_ingest/optimization.py\" target=\"_blank\"><span style=\"color: #7f7f7f; text-decoration-color: #7f7f7f\">optimization.py</span></a><span style=\"color: #7f7f7f; text-decoration-color: #7f7f7f\">:</span><a href=\"file:///Users/aravind/KruxAI/ragbuilder/src/ragbuilder/data_ingest/optimization.py#192\" target=\"_blank\"><span style=\"color: #7f7f7f; text-decoration-color: #7f7f7f\">192</span></a>\n",
       "<span style=\"color: #7fbfbf; text-decoration-color: #7fbfbf\">           </span>         <span style=\"color: #008000; text-decoration-color: #008000\">'rag_test_data_1726600284.375674 uber10k_shortlist.csv'</span>, <span style=\"color: #008000; text-decoration-color: #008000\">'document_loader'</span>: <span style=\"color: #7f7f7f; text-decoration-color: #7f7f7f\">                   </span>\n",
       "<span style=\"color: #7fbfbf; text-decoration-color: #7fbfbf\">           </span>         <span style=\"color: #800080; text-decoration-color: #800080; font-weight: bold\">LoaderConfig</span><span style=\"font-weight: bold\">(</span><span style=\"color: #808000; text-decoration-color: #808000\">type</span>=<span style=\"font-weight: bold\">&lt;</span><span style=\"color: #ff00ff; text-decoration-color: #ff00ff; font-weight: bold\">ParserType.PYMUPDF:</span><span style=\"color: #000000; text-decoration-color: #000000\"> </span><span style=\"color: #008000; text-decoration-color: #008000\">'pymupdf'</span><span style=\"color: #000000; text-decoration-color: #000000\">&gt;, </span><span style=\"color: #808000; text-decoration-color: #808000\">loader_kwargs</span><span style=\"color: #000000; text-decoration-color: #000000\">=</span><span style=\"color: #800080; text-decoration-color: #800080; font-style: italic\">None</span><span style=\"color: #000000; text-decoration-color: #000000\">, </span>     <span style=\"color: #7f7f7f; text-decoration-color: #7f7f7f\">                   </span>\n",
       "<span style=\"color: #7fbfbf; text-decoration-color: #7fbfbf\">           </span>         <span style=\"color: #808000; text-decoration-color: #808000\">custom_class</span><span style=\"color: #000000; text-decoration-color: #000000\">=</span><span style=\"color: #800080; text-decoration-color: #800080; font-style: italic\">None</span><span style=\"color: #000000; text-decoration-color: #000000; font-weight: bold\">)</span><span style=\"color: #000000; text-decoration-color: #000000\">, </span><span style=\"color: #008000; text-decoration-color: #008000\">'chunking_strategy'</span><span style=\"color: #000000; text-decoration-color: #000000\">: </span>                                   <span style=\"color: #7f7f7f; text-decoration-color: #7f7f7f\">                   </span>\n",
       "<span style=\"color: #7fbfbf; text-decoration-color: #7fbfbf\">           </span>         <span style=\"color: #800080; text-decoration-color: #800080; font-weight: bold\">ChunkingStrategyConfig</span><span style=\"color: #000000; text-decoration-color: #000000; font-weight: bold\">(</span><span style=\"color: #808000; text-decoration-color: #808000\">type</span><span style=\"color: #000000; text-decoration-color: #000000\">=&lt;ChunkingStrategy.CUSTOM: </span><span style=\"color: #008000; text-decoration-color: #008000\">'custom'</span><span style=\"color: #000000; text-decoration-color: #000000\">&gt;, </span>           <span style=\"color: #7f7f7f; text-decoration-color: #7f7f7f\">                   </span>\n",
       "<span style=\"color: #7fbfbf; text-decoration-color: #7fbfbf\">           </span>         <span style=\"color: #808000; text-decoration-color: #808000\">chunker_kwargs</span><span style=\"color: #000000; text-decoration-color: #000000\">=</span><span style=\"color: #800080; text-decoration-color: #800080; font-style: italic\">None</span><span style=\"color: #000000; text-decoration-color: #000000\">, </span>                                                       <span style=\"color: #7f7f7f; text-decoration-color: #7f7f7f\">                   </span>\n",
       "<span style=\"color: #7fbfbf; text-decoration-color: #7fbfbf\">           </span>         <span style=\"color: #808000; text-decoration-color: #808000\">custom_class</span><span style=\"color: #000000; text-decoration-color: #000000\">=</span><span style=\"color: #008000; text-decoration-color: #008000\">'ragbuilder.custom_components.CustomChunker'</span><span style=\"color: #000000; text-decoration-color: #000000; font-weight: bold\">)</span><span style=\"color: #000000; text-decoration-color: #000000\">, </span>                <span style=\"color: #7f7f7f; text-decoration-color: #7f7f7f\">                   </span>\n",
       "<span style=\"color: #7fbfbf; text-decoration-color: #7fbfbf\">           </span>         <span style=\"color: #008000; text-decoration-color: #008000\">'chunk_overlap'</span><span style=\"color: #000000; text-decoration-color: #000000\">: </span><span style=\"color: #008080; text-decoration-color: #008080; font-weight: bold\">100</span><span style=\"color: #000000; text-decoration-color: #000000\">, </span><span style=\"color: #008000; text-decoration-color: #008000\">'chunk_size'</span><span style=\"color: #000000; text-decoration-color: #000000\">: </span><span style=\"color: #008080; text-decoration-color: #008080; font-weight: bold\">1500</span><span style=\"color: #000000; text-decoration-color: #000000\">, </span><span style=\"color: #008000; text-decoration-color: #008000\">'embedding_model'</span><span style=\"color: #000000; text-decoration-color: #000000\">: </span>               <span style=\"color: #7f7f7f; text-decoration-color: #7f7f7f\">                   </span>\n",
       "<span style=\"color: #7fbfbf; text-decoration-color: #7fbfbf\">           </span>         <span style=\"color: #800080; text-decoration-color: #800080; font-weight: bold\">EmbeddingConfig</span><span style=\"color: #000000; text-decoration-color: #000000; font-weight: bold\">(</span><span style=\"color: #808000; text-decoration-color: #808000\">type</span><span style=\"color: #000000; text-decoration-color: #000000\">=&lt;EmbeddingModel.OPENAI: </span><span style=\"color: #008000; text-decoration-color: #008000\">'openai'</span><span style=\"color: #000000; text-decoration-color: #000000\">&gt;, </span>                    <span style=\"color: #7f7f7f; text-decoration-color: #7f7f7f\">                   </span>\n",
       "<span style=\"color: #7fbfbf; text-decoration-color: #7fbfbf\">           </span>         <span style=\"color: #808000; text-decoration-color: #808000\">model_kwargs</span><span style=\"color: #000000; text-decoration-color: #000000\">=</span><span style=\"color: #000000; text-decoration-color: #000000; font-weight: bold\">{</span><span style=\"color: #008000; text-decoration-color: #008000\">'model'</span><span style=\"color: #000000; text-decoration-color: #000000\">: </span><span style=\"color: #008000; text-decoration-color: #008000\">'text-embedding-3-large'</span><span style=\"color: #000000; text-decoration-color: #000000; font-weight: bold\">}</span><span style=\"color: #000000; text-decoration-color: #000000\">, </span><span style=\"color: #808000; text-decoration-color: #808000\">custom_class</span><span style=\"color: #000000; text-decoration-color: #000000\">=</span><span style=\"color: #800080; text-decoration-color: #800080; font-style: italic\">None</span><span style=\"color: #000000; text-decoration-color: #000000; font-weight: bold\">)</span><span style=\"color: #000000; text-decoration-color: #000000\">, </span>      <span style=\"color: #7f7f7f; text-decoration-color: #7f7f7f\">                   </span>\n",
       "<span style=\"color: #7fbfbf; text-decoration-color: #7fbfbf\">           </span>         <span style=\"color: #008000; text-decoration-color: #008000\">'vector_database'</span><span style=\"color: #000000; text-decoration-color: #000000\">: </span><span style=\"color: #800080; text-decoration-color: #800080; font-weight: bold\">VectorDBConfig</span><span style=\"color: #000000; text-decoration-color: #000000; font-weight: bold\">(</span><span style=\"color: #808000; text-decoration-color: #808000\">type</span><span style=\"color: #000000; text-decoration-color: #000000\">=&lt;VectorDatabase.CHROMA: </span><span style=\"color: #008000; text-decoration-color: #008000\">'chroma'</span><span style=\"font-weight: bold\">&gt;</span>,   <span style=\"color: #7f7f7f; text-decoration-color: #7f7f7f\">                   </span>\n",
       "<span style=\"color: #7fbfbf; text-decoration-color: #7fbfbf\">           </span>         <span style=\"color: #808000; text-decoration-color: #808000\">vectordb_kwargs</span>=<span style=\"font-weight: bold\">{</span><span style=\"color: #008000; text-decoration-color: #008000\">'persist_directory'</span>: <span style=\"color: #008000; text-decoration-color: #008000\">'chroma_sample2/6'</span>,                   <span style=\"color: #7f7f7f; text-decoration-color: #7f7f7f\">                   </span>\n",
       "<span style=\"color: #7fbfbf; text-decoration-color: #7fbfbf\">           </span>         <span style=\"color: #008000; text-decoration-color: #008000\">'collection_metadata'</span>: <span style=\"font-weight: bold\">{</span><span style=\"color: #008000; text-decoration-color: #008000\">'hnsw:space'</span>: <span style=\"color: #008000; text-decoration-color: #008000\">'cosine'</span><span style=\"font-weight: bold\">}}</span>, <span style=\"color: #808000; text-decoration-color: #808000\">custom_class</span>=<span style=\"color: #800080; text-decoration-color: #800080; font-style: italic\">None</span><span style=\"font-weight: bold\">)</span>,       <span style=\"color: #7f7f7f; text-decoration-color: #7f7f7f\">                   </span>\n",
       "<span style=\"color: #7fbfbf; text-decoration-color: #7fbfbf\">           </span>         <span style=\"color: #008000; text-decoration-color: #008000\">'sampling_rate'</span>: <span style=\"color: #800080; text-decoration-color: #800080; font-style: italic\">None</span><span style=\"font-weight: bold\">}</span>                                                      <span style=\"color: #7f7f7f; text-decoration-color: #7f7f7f\">                   </span>\n",
       "</pre>\n"
      ],
      "text/plain": [
       "\u001b[2;36m[18:59:44]\u001b[0m\u001b[2;36m \u001b[0m\u001b[34mINFO    \u001b[0m Trial parameters: \u001b[1m{\u001b[0m\u001b[32m'input_source'\u001b[0m: \u001b[32m'uber_10k.pdf'\u001b[0m, \u001b[32m'test_dataset'\u001b[0m:          \u001b]8;id=809763;file:///Users/aravind/KruxAI/ragbuilder/src/ragbuilder/data_ingest/optimization.py\u001b\\\u001b[2moptimization.py\u001b[0m\u001b]8;;\u001b\\\u001b[2m:\u001b[0m\u001b]8;id=697117;file:///Users/aravind/KruxAI/ragbuilder/src/ragbuilder/data_ingest/optimization.py#192\u001b\\\u001b[2m192\u001b[0m\u001b]8;;\u001b\\\n",
       "\u001b[2;36m           \u001b[0m         \u001b[32m'rag_test_data_1726600284.375674 uber10k_shortlist.csv'\u001b[0m, \u001b[32m'document_loader'\u001b[0m: \u001b[2m                   \u001b[0m\n",
       "\u001b[2;36m           \u001b[0m         \u001b[1;35mLoaderConfig\u001b[0m\u001b[1m(\u001b[0m\u001b[33mtype\u001b[0m=\u001b[1m<\u001b[0m\u001b[1;95mParserType.PYMUPDF:\u001b[0m\u001b[39m \u001b[0m\u001b[32m'pymupdf'\u001b[0m\u001b[39m>, \u001b[0m\u001b[33mloader_kwargs\u001b[0m\u001b[39m=\u001b[0m\u001b[3;35mNone\u001b[0m\u001b[39m, \u001b[0m     \u001b[2m                   \u001b[0m\n",
       "\u001b[2;36m           \u001b[0m         \u001b[33mcustom_class\u001b[0m\u001b[39m=\u001b[0m\u001b[3;35mNone\u001b[0m\u001b[1;39m)\u001b[0m\u001b[39m, \u001b[0m\u001b[32m'chunking_strategy'\u001b[0m\u001b[39m: \u001b[0m                                   \u001b[2m                   \u001b[0m\n",
       "\u001b[2;36m           \u001b[0m         \u001b[1;35mChunkingStrategyConfig\u001b[0m\u001b[1;39m(\u001b[0m\u001b[33mtype\u001b[0m\u001b[39m=<ChunkingStrategy.CUSTOM: \u001b[0m\u001b[32m'custom'\u001b[0m\u001b[39m>, \u001b[0m           \u001b[2m                   \u001b[0m\n",
       "\u001b[2;36m           \u001b[0m         \u001b[33mchunker_kwargs\u001b[0m\u001b[39m=\u001b[0m\u001b[3;35mNone\u001b[0m\u001b[39m, \u001b[0m                                                       \u001b[2m                   \u001b[0m\n",
       "\u001b[2;36m           \u001b[0m         \u001b[33mcustom_class\u001b[0m\u001b[39m=\u001b[0m\u001b[32m'ragbuilder.custom_components.CustomChunker'\u001b[0m\u001b[1;39m)\u001b[0m\u001b[39m, \u001b[0m                \u001b[2m                   \u001b[0m\n",
       "\u001b[2;36m           \u001b[0m         \u001b[32m'chunk_overlap'\u001b[0m\u001b[39m: \u001b[0m\u001b[1;36m100\u001b[0m\u001b[39m, \u001b[0m\u001b[32m'chunk_size'\u001b[0m\u001b[39m: \u001b[0m\u001b[1;36m1500\u001b[0m\u001b[39m, \u001b[0m\u001b[32m'embedding_model'\u001b[0m\u001b[39m: \u001b[0m               \u001b[2m                   \u001b[0m\n",
       "\u001b[2;36m           \u001b[0m         \u001b[1;35mEmbeddingConfig\u001b[0m\u001b[1;39m(\u001b[0m\u001b[33mtype\u001b[0m\u001b[39m=<EmbeddingModel.OPENAI: \u001b[0m\u001b[32m'openai'\u001b[0m\u001b[39m>, \u001b[0m                    \u001b[2m                   \u001b[0m\n",
       "\u001b[2;36m           \u001b[0m         \u001b[33mmodel_kwargs\u001b[0m\u001b[39m=\u001b[0m\u001b[1;39m{\u001b[0m\u001b[32m'model'\u001b[0m\u001b[39m: \u001b[0m\u001b[32m'text-embedding-3-large'\u001b[0m\u001b[1;39m}\u001b[0m\u001b[39m, \u001b[0m\u001b[33mcustom_class\u001b[0m\u001b[39m=\u001b[0m\u001b[3;35mNone\u001b[0m\u001b[1;39m)\u001b[0m\u001b[39m, \u001b[0m      \u001b[2m                   \u001b[0m\n",
       "\u001b[2;36m           \u001b[0m         \u001b[32m'vector_database'\u001b[0m\u001b[39m: \u001b[0m\u001b[1;35mVectorDBConfig\u001b[0m\u001b[1;39m(\u001b[0m\u001b[33mtype\u001b[0m\u001b[39m=<VectorDatabase.CHROMA: \u001b[0m\u001b[32m'chroma'\u001b[0m\u001b[1m>\u001b[0m,   \u001b[2m                   \u001b[0m\n",
       "\u001b[2;36m           \u001b[0m         \u001b[33mvectordb_kwargs\u001b[0m=\u001b[1m{\u001b[0m\u001b[32m'persist_directory'\u001b[0m: \u001b[32m'chroma_sample2/6'\u001b[0m,                   \u001b[2m                   \u001b[0m\n",
       "\u001b[2;36m           \u001b[0m         \u001b[32m'collection_metadata'\u001b[0m: \u001b[1m{\u001b[0m\u001b[32m'hnsw:space'\u001b[0m: \u001b[32m'cosine'\u001b[0m\u001b[1m}\u001b[0m\u001b[1m}\u001b[0m, \u001b[33mcustom_class\u001b[0m=\u001b[3;35mNone\u001b[0m\u001b[1m)\u001b[0m,       \u001b[2m                   \u001b[0m\n",
       "\u001b[2;36m           \u001b[0m         \u001b[32m'sampling_rate'\u001b[0m: \u001b[3;35mNone\u001b[0m\u001b[1m}\u001b[0m                                                      \u001b[2m                   \u001b[0m\n"
      ]
     },
     "metadata": {},
     "output_type": "display_data"
    },
    {
     "data": {
      "application/vnd.jupyter.widget-view+json": {
       "model_id": "3380fcb7cf224ca69de7be42c77be9aa",
       "version_major": 2,
       "version_minor": 0
      },
      "text/plain": [
       "Output()"
      ]
     },
     "metadata": {},
     "output_type": "display_data"
    },
    {
     "name": "stdout",
     "output_type": "stream",
     "text": [
      "class_path:  ragbuilder.custom_components.CustomChunker\n"
     ]
    },
    {
     "data": {
      "text/html": [
       "<pre style=\"white-space:pre;overflow-x:auto;line-height:normal;font-family:Menlo,'DejaVu Sans Mono',consolas,'Courier New',monospace\"><span style=\"color: #008000; text-decoration-color: #008000\">✓ Pipeline execution complete!</span>\n",
       "</pre>\n"
      ],
      "text/plain": [
       "\u001b[32m✓ Pipeline execution complete!\u001b[0m\n"
      ]
     },
     "metadata": {},
     "output_type": "display_data"
    },
    {
     "data": {
      "text/html": [
       "<pre style=\"white-space:pre;overflow-x:auto;line-height:normal;font-family:Menlo,'DejaVu Sans Mono',consolas,'Courier New',monospace\"></pre>\n"
      ],
      "text/plain": []
     },
     "metadata": {},
     "output_type": "display_data"
    },
    {
     "data": {
      "text/html": [
       "<pre style=\"white-space:pre;overflow-x:auto;line-height:normal;font-family:Menlo,'DejaVu Sans Mono',consolas,'Courier New',monospace\"><span style=\"color: #008000; text-decoration-color: #008000\">Trial Score:</span> <span style=\"color: #00ffff; text-decoration-color: #00ffff; font-weight: bold\">0.7382</span>\n",
       "</pre>\n"
      ],
      "text/plain": [
       "\u001b[32mTrial Score:\u001b[0m \u001b[1;96m0.7382\u001b[0m\n"
      ]
     },
     "metadata": {},
     "output_type": "display_data"
    },
    {
     "name": "stdout",
     "output_type": "stream",
     "text": [
      "[I 2024-11-12 18:59:58,575] Trial 6 finished with value: 0.7381601147392043 and parameters: {'document_loader_index': 0, 'chunking_strategy_index': 1, 'chunk_size': 1500, 'embedding_model_index': 1}. Best is trial 5 with value: 0.8228296845678299.\n"
     ]
    },
    {
     "data": {
      "text/html": [
       "<pre style=\"white-space:pre;overflow-x:auto;line-height:normal;font-family:Menlo,'DejaVu Sans Mono',consolas,'Courier New',monospace\"><span style=\"color: #005fff; text-decoration-color: #005fff; font-weight: bold\">Trial </span><span style=\"color: #005fff; text-decoration-color: #005fff; font-weight: bold\">7</span><span style=\"color: #005fff; text-decoration-color: #005fff; font-weight: bold\">/</span><span style=\"color: #005fff; text-decoration-color: #005fff; font-weight: bold\">29</span>\n",
       "</pre>\n"
      ],
      "text/plain": [
       "\u001b[1;38;5;27mTrial \u001b[0m\u001b[1;38;5;27m7\u001b[0m\u001b[1;38;5;27m/\u001b[0m\u001b[1;38;5;27m29\u001b[0m\n"
      ]
     },
     "metadata": {},
     "output_type": "display_data"
    },
    {
     "data": {
      "text/html": [
       "<pre style=\"white-space:pre;overflow-x:auto;line-height:normal;font-family:Menlo,'DejaVu Sans Mono',consolas,'Courier New',monospace\"><span style=\"color: #7fbfbf; text-decoration-color: #7fbfbf\">[18:59:58] </span><span style=\"color: #000080; text-decoration-color: #000080\">INFO    </span> Trial parameters: <span style=\"font-weight: bold\">{</span><span style=\"color: #008000; text-decoration-color: #008000\">'input_source'</span>: <span style=\"color: #008000; text-decoration-color: #008000\">'uber_10k.pdf'</span>, <span style=\"color: #008000; text-decoration-color: #008000\">'test_dataset'</span>:          <a href=\"file:///Users/aravind/KruxAI/ragbuilder/src/ragbuilder/data_ingest/optimization.py\" target=\"_blank\"><span style=\"color: #7f7f7f; text-decoration-color: #7f7f7f\">optimization.py</span></a><span style=\"color: #7f7f7f; text-decoration-color: #7f7f7f\">:</span><a href=\"file:///Users/aravind/KruxAI/ragbuilder/src/ragbuilder/data_ingest/optimization.py#192\" target=\"_blank\"><span style=\"color: #7f7f7f; text-decoration-color: #7f7f7f\">192</span></a>\n",
       "<span style=\"color: #7fbfbf; text-decoration-color: #7fbfbf\">           </span>         <span style=\"color: #008000; text-decoration-color: #008000\">'rag_test_data_1726600284.375674 uber10k_shortlist.csv'</span>, <span style=\"color: #008000; text-decoration-color: #008000\">'document_loader'</span>: <span style=\"color: #7f7f7f; text-decoration-color: #7f7f7f\">                   </span>\n",
       "<span style=\"color: #7fbfbf; text-decoration-color: #7fbfbf\">           </span>         <span style=\"color: #800080; text-decoration-color: #800080; font-weight: bold\">LoaderConfig</span><span style=\"font-weight: bold\">(</span><span style=\"color: #808000; text-decoration-color: #808000\">type</span>=<span style=\"font-weight: bold\">&lt;</span><span style=\"color: #ff00ff; text-decoration-color: #ff00ff; font-weight: bold\">ParserType.PYMUPDF:</span><span style=\"color: #000000; text-decoration-color: #000000\"> </span><span style=\"color: #008000; text-decoration-color: #008000\">'pymupdf'</span><span style=\"color: #000000; text-decoration-color: #000000\">&gt;, </span><span style=\"color: #808000; text-decoration-color: #808000\">loader_kwargs</span><span style=\"color: #000000; text-decoration-color: #000000\">=</span><span style=\"color: #800080; text-decoration-color: #800080; font-style: italic\">None</span><span style=\"color: #000000; text-decoration-color: #000000\">, </span>     <span style=\"color: #7f7f7f; text-decoration-color: #7f7f7f\">                   </span>\n",
       "<span style=\"color: #7fbfbf; text-decoration-color: #7fbfbf\">           </span>         <span style=\"color: #808000; text-decoration-color: #808000\">custom_class</span><span style=\"color: #000000; text-decoration-color: #000000\">=</span><span style=\"color: #800080; text-decoration-color: #800080; font-style: italic\">None</span><span style=\"color: #000000; text-decoration-color: #000000; font-weight: bold\">)</span><span style=\"color: #000000; text-decoration-color: #000000\">, </span><span style=\"color: #008000; text-decoration-color: #008000\">'chunking_strategy'</span><span style=\"color: #000000; text-decoration-color: #000000\">: </span>                                   <span style=\"color: #7f7f7f; text-decoration-color: #7f7f7f\">                   </span>\n",
       "<span style=\"color: #7fbfbf; text-decoration-color: #7fbfbf\">           </span>         <span style=\"color: #800080; text-decoration-color: #800080; font-weight: bold\">ChunkingStrategyConfig</span><span style=\"color: #000000; text-decoration-color: #000000; font-weight: bold\">(</span><span style=\"color: #808000; text-decoration-color: #808000\">type</span><span style=\"color: #000000; text-decoration-color: #000000\">=&lt;ChunkingStrategy.RECURSIVE: </span>                   <span style=\"color: #7f7f7f; text-decoration-color: #7f7f7f\">                   </span>\n",
       "<span style=\"color: #7fbfbf; text-decoration-color: #7fbfbf\">           </span>         <span style=\"color: #008000; text-decoration-color: #008000\">'RecursiveCharacterTextSplitter'</span><span style=\"color: #000000; text-decoration-color: #000000\">&gt;, </span><span style=\"color: #808000; text-decoration-color: #808000\">chunker_kwargs</span><span style=\"color: #000000; text-decoration-color: #000000\">=</span><span style=\"color: #000000; text-decoration-color: #000000; font-weight: bold\">{</span><span style=\"color: #008000; text-decoration-color: #008000\">'separators'</span><span style=\"color: #000000; text-decoration-color: #000000\">: </span><span style=\"color: #000000; text-decoration-color: #000000; font-weight: bold\">[</span><span style=\"color: #008000; text-decoration-color: #008000\">'\\n\\n'</span><span style=\"color: #000000; text-decoration-color: #000000\">, </span>  <span style=\"color: #7f7f7f; text-decoration-color: #7f7f7f\">                   </span>\n",
       "<span style=\"color: #7fbfbf; text-decoration-color: #7fbfbf\">           </span>         <span style=\"color: #008000; text-decoration-color: #008000\">'\\n'</span><span style=\"color: #000000; text-decoration-color: #000000\">, </span><span style=\"color: #008000; text-decoration-color: #008000\">' '</span><span style=\"color: #000000; text-decoration-color: #000000\">, </span><span style=\"color: #008000; text-decoration-color: #008000\">''</span><span style=\"color: #000000; text-decoration-color: #000000; font-weight: bold\">]}</span><span style=\"color: #000000; text-decoration-color: #000000\">, </span><span style=\"color: #808000; text-decoration-color: #808000\">custom_class</span><span style=\"color: #000000; text-decoration-color: #000000\">=</span><span style=\"color: #800080; text-decoration-color: #800080; font-style: italic\">None</span><span style=\"color: #000000; text-decoration-color: #000000; font-weight: bold\">)</span><span style=\"color: #000000; text-decoration-color: #000000\">, </span><span style=\"color: #008000; text-decoration-color: #008000\">'chunk_overlap'</span><span style=\"color: #000000; text-decoration-color: #000000\">: </span><span style=\"color: #008080; text-decoration-color: #008080; font-weight: bold\">100</span><span style=\"color: #000000; text-decoration-color: #000000\">, </span><span style=\"color: #008000; text-decoration-color: #008000\">'chunk_size'</span><span style=\"color: #000000; text-decoration-color: #000000\">: </span>   <span style=\"color: #7f7f7f; text-decoration-color: #7f7f7f\">                   </span>\n",
       "<span style=\"color: #7fbfbf; text-decoration-color: #7fbfbf\">           </span>         <span style=\"color: #008080; text-decoration-color: #008080; font-weight: bold\">1000</span><span style=\"color: #000000; text-decoration-color: #000000\">, </span><span style=\"color: #008000; text-decoration-color: #008000\">'embedding_model'</span><span style=\"color: #000000; text-decoration-color: #000000\">: </span><span style=\"color: #800080; text-decoration-color: #800080; font-weight: bold\">EmbeddingConfig</span><span style=\"color: #000000; text-decoration-color: #000000; font-weight: bold\">(</span><span style=\"color: #808000; text-decoration-color: #808000\">type</span><span style=\"color: #000000; text-decoration-color: #000000\">=&lt;EmbeddingModel.OPENAI: </span>      <span style=\"color: #7f7f7f; text-decoration-color: #7f7f7f\">                   </span>\n",
       "<span style=\"color: #7fbfbf; text-decoration-color: #7fbfbf\">           </span>         <span style=\"color: #008000; text-decoration-color: #008000\">'openai'</span><span style=\"color: #000000; text-decoration-color: #000000\">&gt;, </span><span style=\"color: #808000; text-decoration-color: #808000\">model_kwargs</span><span style=\"color: #000000; text-decoration-color: #000000\">=</span><span style=\"color: #000000; text-decoration-color: #000000; font-weight: bold\">{</span><span style=\"color: #008000; text-decoration-color: #008000\">'model'</span><span style=\"color: #000000; text-decoration-color: #000000\">: </span><span style=\"color: #008000; text-decoration-color: #008000\">'text-embedding-3-large'</span><span style=\"color: #000000; text-decoration-color: #000000; font-weight: bold\">}</span><span style=\"color: #000000; text-decoration-color: #000000\">, </span>               <span style=\"color: #7f7f7f; text-decoration-color: #7f7f7f\">                   </span>\n",
       "<span style=\"color: #7fbfbf; text-decoration-color: #7fbfbf\">           </span>         <span style=\"color: #808000; text-decoration-color: #808000\">custom_class</span><span style=\"color: #000000; text-decoration-color: #000000\">=</span><span style=\"color: #800080; text-decoration-color: #800080; font-style: italic\">None</span><span style=\"color: #000000; text-decoration-color: #000000; font-weight: bold\">)</span><span style=\"color: #000000; text-decoration-color: #000000\">, </span><span style=\"color: #008000; text-decoration-color: #008000\">'vector_database'</span><span style=\"color: #000000; text-decoration-color: #000000\">: </span>                                     <span style=\"color: #7f7f7f; text-decoration-color: #7f7f7f\">                   </span>\n",
       "<span style=\"color: #7fbfbf; text-decoration-color: #7fbfbf\">           </span>         <span style=\"color: #800080; text-decoration-color: #800080; font-weight: bold\">VectorDBConfig</span><span style=\"color: #000000; text-decoration-color: #000000; font-weight: bold\">(</span><span style=\"color: #808000; text-decoration-color: #808000\">type</span><span style=\"color: #000000; text-decoration-color: #000000\">=&lt;VectorDatabase.CHROMA: </span><span style=\"color: #008000; text-decoration-color: #008000\">'chroma'</span><span style=\"font-weight: bold\">&gt;</span>,                      <span style=\"color: #7f7f7f; text-decoration-color: #7f7f7f\">                   </span>\n",
       "<span style=\"color: #7fbfbf; text-decoration-color: #7fbfbf\">           </span>         <span style=\"color: #808000; text-decoration-color: #808000\">vectordb_kwargs</span>=<span style=\"font-weight: bold\">{</span><span style=\"color: #008000; text-decoration-color: #008000\">'persist_directory'</span>: <span style=\"color: #008000; text-decoration-color: #008000\">'chroma_sample2/7'</span>,                   <span style=\"color: #7f7f7f; text-decoration-color: #7f7f7f\">                   </span>\n",
       "<span style=\"color: #7fbfbf; text-decoration-color: #7fbfbf\">           </span>         <span style=\"color: #008000; text-decoration-color: #008000\">'collection_metadata'</span>: <span style=\"font-weight: bold\">{</span><span style=\"color: #008000; text-decoration-color: #008000\">'hnsw:space'</span>: <span style=\"color: #008000; text-decoration-color: #008000\">'cosine'</span><span style=\"font-weight: bold\">}}</span>, <span style=\"color: #808000; text-decoration-color: #808000\">custom_class</span>=<span style=\"color: #800080; text-decoration-color: #800080; font-style: italic\">None</span><span style=\"font-weight: bold\">)</span>,       <span style=\"color: #7f7f7f; text-decoration-color: #7f7f7f\">                   </span>\n",
       "<span style=\"color: #7fbfbf; text-decoration-color: #7fbfbf\">           </span>         <span style=\"color: #008000; text-decoration-color: #008000\">'sampling_rate'</span>: <span style=\"color: #800080; text-decoration-color: #800080; font-style: italic\">None</span><span style=\"font-weight: bold\">}</span>                                                      <span style=\"color: #7f7f7f; text-decoration-color: #7f7f7f\">                   </span>\n",
       "</pre>\n"
      ],
      "text/plain": [
       "\u001b[2;36m[18:59:58]\u001b[0m\u001b[2;36m \u001b[0m\u001b[34mINFO    \u001b[0m Trial parameters: \u001b[1m{\u001b[0m\u001b[32m'input_source'\u001b[0m: \u001b[32m'uber_10k.pdf'\u001b[0m, \u001b[32m'test_dataset'\u001b[0m:          \u001b]8;id=261100;file:///Users/aravind/KruxAI/ragbuilder/src/ragbuilder/data_ingest/optimization.py\u001b\\\u001b[2moptimization.py\u001b[0m\u001b]8;;\u001b\\\u001b[2m:\u001b[0m\u001b]8;id=759186;file:///Users/aravind/KruxAI/ragbuilder/src/ragbuilder/data_ingest/optimization.py#192\u001b\\\u001b[2m192\u001b[0m\u001b]8;;\u001b\\\n",
       "\u001b[2;36m           \u001b[0m         \u001b[32m'rag_test_data_1726600284.375674 uber10k_shortlist.csv'\u001b[0m, \u001b[32m'document_loader'\u001b[0m: \u001b[2m                   \u001b[0m\n",
       "\u001b[2;36m           \u001b[0m         \u001b[1;35mLoaderConfig\u001b[0m\u001b[1m(\u001b[0m\u001b[33mtype\u001b[0m=\u001b[1m<\u001b[0m\u001b[1;95mParserType.PYMUPDF:\u001b[0m\u001b[39m \u001b[0m\u001b[32m'pymupdf'\u001b[0m\u001b[39m>, \u001b[0m\u001b[33mloader_kwargs\u001b[0m\u001b[39m=\u001b[0m\u001b[3;35mNone\u001b[0m\u001b[39m, \u001b[0m     \u001b[2m                   \u001b[0m\n",
       "\u001b[2;36m           \u001b[0m         \u001b[33mcustom_class\u001b[0m\u001b[39m=\u001b[0m\u001b[3;35mNone\u001b[0m\u001b[1;39m)\u001b[0m\u001b[39m, \u001b[0m\u001b[32m'chunking_strategy'\u001b[0m\u001b[39m: \u001b[0m                                   \u001b[2m                   \u001b[0m\n",
       "\u001b[2;36m           \u001b[0m         \u001b[1;35mChunkingStrategyConfig\u001b[0m\u001b[1;39m(\u001b[0m\u001b[33mtype\u001b[0m\u001b[39m=<ChunkingStrategy.RECURSIVE: \u001b[0m                   \u001b[2m                   \u001b[0m\n",
       "\u001b[2;36m           \u001b[0m         \u001b[32m'RecursiveCharacterTextSplitter'\u001b[0m\u001b[39m>, \u001b[0m\u001b[33mchunker_kwargs\u001b[0m\u001b[39m=\u001b[0m\u001b[1;39m{\u001b[0m\u001b[32m'separators'\u001b[0m\u001b[39m: \u001b[0m\u001b[1;39m[\u001b[0m\u001b[32m'\\n\\n'\u001b[0m\u001b[39m, \u001b[0m  \u001b[2m                   \u001b[0m\n",
       "\u001b[2;36m           \u001b[0m         \u001b[32m'\\n'\u001b[0m\u001b[39m, \u001b[0m\u001b[32m' '\u001b[0m\u001b[39m, \u001b[0m\u001b[32m''\u001b[0m\u001b[1;39m]\u001b[0m\u001b[1;39m}\u001b[0m\u001b[39m, \u001b[0m\u001b[33mcustom_class\u001b[0m\u001b[39m=\u001b[0m\u001b[3;35mNone\u001b[0m\u001b[1;39m)\u001b[0m\u001b[39m, \u001b[0m\u001b[32m'chunk_overlap'\u001b[0m\u001b[39m: \u001b[0m\u001b[1;36m100\u001b[0m\u001b[39m, \u001b[0m\u001b[32m'chunk_size'\u001b[0m\u001b[39m: \u001b[0m   \u001b[2m                   \u001b[0m\n",
       "\u001b[2;36m           \u001b[0m         \u001b[1;36m1000\u001b[0m\u001b[39m, \u001b[0m\u001b[32m'embedding_model'\u001b[0m\u001b[39m: \u001b[0m\u001b[1;35mEmbeddingConfig\u001b[0m\u001b[1;39m(\u001b[0m\u001b[33mtype\u001b[0m\u001b[39m=<EmbeddingModel.OPENAI: \u001b[0m      \u001b[2m                   \u001b[0m\n",
       "\u001b[2;36m           \u001b[0m         \u001b[32m'openai'\u001b[0m\u001b[39m>, \u001b[0m\u001b[33mmodel_kwargs\u001b[0m\u001b[39m=\u001b[0m\u001b[1;39m{\u001b[0m\u001b[32m'model'\u001b[0m\u001b[39m: \u001b[0m\u001b[32m'text-embedding-3-large'\u001b[0m\u001b[1;39m}\u001b[0m\u001b[39m, \u001b[0m               \u001b[2m                   \u001b[0m\n",
       "\u001b[2;36m           \u001b[0m         \u001b[33mcustom_class\u001b[0m\u001b[39m=\u001b[0m\u001b[3;35mNone\u001b[0m\u001b[1;39m)\u001b[0m\u001b[39m, \u001b[0m\u001b[32m'vector_database'\u001b[0m\u001b[39m: \u001b[0m                                     \u001b[2m                   \u001b[0m\n",
       "\u001b[2;36m           \u001b[0m         \u001b[1;35mVectorDBConfig\u001b[0m\u001b[1;39m(\u001b[0m\u001b[33mtype\u001b[0m\u001b[39m=<VectorDatabase.CHROMA: \u001b[0m\u001b[32m'chroma'\u001b[0m\u001b[1m>\u001b[0m,                      \u001b[2m                   \u001b[0m\n",
       "\u001b[2;36m           \u001b[0m         \u001b[33mvectordb_kwargs\u001b[0m=\u001b[1m{\u001b[0m\u001b[32m'persist_directory'\u001b[0m: \u001b[32m'chroma_sample2/7'\u001b[0m,                   \u001b[2m                   \u001b[0m\n",
       "\u001b[2;36m           \u001b[0m         \u001b[32m'collection_metadata'\u001b[0m: \u001b[1m{\u001b[0m\u001b[32m'hnsw:space'\u001b[0m: \u001b[32m'cosine'\u001b[0m\u001b[1m}\u001b[0m\u001b[1m}\u001b[0m, \u001b[33mcustom_class\u001b[0m=\u001b[3;35mNone\u001b[0m\u001b[1m)\u001b[0m,       \u001b[2m                   \u001b[0m\n",
       "\u001b[2;36m           \u001b[0m         \u001b[32m'sampling_rate'\u001b[0m: \u001b[3;35mNone\u001b[0m\u001b[1m}\u001b[0m                                                      \u001b[2m                   \u001b[0m\n"
      ]
     },
     "metadata": {},
     "output_type": "display_data"
    },
    {
     "data": {
      "application/vnd.jupyter.widget-view+json": {
       "model_id": "1f6b705109854e058a8bf6c9ce1206e6",
       "version_major": 2,
       "version_minor": 0
      },
      "text/plain": [
       "Output()"
      ]
     },
     "metadata": {},
     "output_type": "display_data"
    },
    {
     "data": {
      "text/html": [
       "<pre style=\"white-space:pre;overflow-x:auto;line-height:normal;font-family:Menlo,'DejaVu Sans Mono',consolas,'Courier New',monospace\"><span style=\"color: #008000; text-decoration-color: #008000\">✓ Pipeline execution complete!</span>\n",
       "</pre>\n"
      ],
      "text/plain": [
       "\u001b[32m✓ Pipeline execution complete!\u001b[0m\n"
      ]
     },
     "metadata": {},
     "output_type": "display_data"
    },
    {
     "data": {
      "text/html": [
       "<pre style=\"white-space:pre;overflow-x:auto;line-height:normal;font-family:Menlo,'DejaVu Sans Mono',consolas,'Courier New',monospace\"></pre>\n"
      ],
      "text/plain": []
     },
     "metadata": {},
     "output_type": "display_data"
    },
    {
     "data": {
      "text/html": [
       "<pre style=\"white-space:pre;overflow-x:auto;line-height:normal;font-family:Menlo,'DejaVu Sans Mono',consolas,'Courier New',monospace\"><span style=\"color: #008000; text-decoration-color: #008000\">Trial Score:</span> <span style=\"color: #00ffff; text-decoration-color: #00ffff; font-weight: bold\">0.7004</span>\n",
       "</pre>\n"
      ],
      "text/plain": [
       "\u001b[32mTrial Score:\u001b[0m \u001b[1;96m0.7004\u001b[0m\n"
      ]
     },
     "metadata": {},
     "output_type": "display_data"
    },
    {
     "name": "stdout",
     "output_type": "stream",
     "text": [
      "[I 2024-11-12 19:00:13,054] Trial 7 finished with value: 0.7003594400390746 and parameters: {'document_loader_index': 0, 'chunking_strategy_index': 0, 'chunk_size': 1000, 'embedding_model_index': 1}. Best is trial 5 with value: 0.8228296845678299.\n"
     ]
    },
    {
     "data": {
      "text/html": [
       "<pre style=\"white-space:pre;overflow-x:auto;line-height:normal;font-family:Menlo,'DejaVu Sans Mono',consolas,'Courier New',monospace\"><span style=\"color: #005fff; text-decoration-color: #005fff; font-weight: bold\">Trial </span><span style=\"color: #005fff; text-decoration-color: #005fff; font-weight: bold\">8</span><span style=\"color: #005fff; text-decoration-color: #005fff; font-weight: bold\">/</span><span style=\"color: #005fff; text-decoration-color: #005fff; font-weight: bold\">29</span>\n",
       "</pre>\n"
      ],
      "text/plain": [
       "\u001b[1;38;5;27mTrial \u001b[0m\u001b[1;38;5;27m8\u001b[0m\u001b[1;38;5;27m/\u001b[0m\u001b[1;38;5;27m29\u001b[0m\n"
      ]
     },
     "metadata": {},
     "output_type": "display_data"
    },
    {
     "data": {
      "text/html": [
       "<pre style=\"white-space:pre;overflow-x:auto;line-height:normal;font-family:Menlo,'DejaVu Sans Mono',consolas,'Courier New',monospace\"><span style=\"color: #7fbfbf; text-decoration-color: #7fbfbf\">[19:00:13] </span><span style=\"color: #000080; text-decoration-color: #000080\">INFO    </span> Trial parameters: <span style=\"font-weight: bold\">{</span><span style=\"color: #008000; text-decoration-color: #008000\">'input_source'</span>: <span style=\"color: #008000; text-decoration-color: #008000\">'uber_10k.pdf'</span>, <span style=\"color: #008000; text-decoration-color: #008000\">'test_dataset'</span>:          <a href=\"file:///Users/aravind/KruxAI/ragbuilder/src/ragbuilder/data_ingest/optimization.py\" target=\"_blank\"><span style=\"color: #7f7f7f; text-decoration-color: #7f7f7f\">optimization.py</span></a><span style=\"color: #7f7f7f; text-decoration-color: #7f7f7f\">:</span><a href=\"file:///Users/aravind/KruxAI/ragbuilder/src/ragbuilder/data_ingest/optimization.py#192\" target=\"_blank\"><span style=\"color: #7f7f7f; text-decoration-color: #7f7f7f\">192</span></a>\n",
       "<span style=\"color: #7fbfbf; text-decoration-color: #7fbfbf\">           </span>         <span style=\"color: #008000; text-decoration-color: #008000\">'rag_test_data_1726600284.375674 uber10k_shortlist.csv'</span>, <span style=\"color: #008000; text-decoration-color: #008000\">'document_loader'</span>: <span style=\"color: #7f7f7f; text-decoration-color: #7f7f7f\">                   </span>\n",
       "<span style=\"color: #7fbfbf; text-decoration-color: #7fbfbf\">           </span>         <span style=\"color: #800080; text-decoration-color: #800080; font-weight: bold\">LoaderConfig</span><span style=\"font-weight: bold\">(</span><span style=\"color: #808000; text-decoration-color: #808000\">type</span>=<span style=\"font-weight: bold\">&lt;</span><span style=\"color: #ff00ff; text-decoration-color: #ff00ff; font-weight: bold\">ParserType.UNSTRUCTURED:</span><span style=\"color: #000000; text-decoration-color: #000000\"> </span><span style=\"color: #008000; text-decoration-color: #008000\">'unstructured'</span><span style=\"color: #000000; text-decoration-color: #000000\">&gt;, </span>               <span style=\"color: #7f7f7f; text-decoration-color: #7f7f7f\">                   </span>\n",
       "<span style=\"color: #7fbfbf; text-decoration-color: #7fbfbf\">           </span>         <span style=\"color: #808000; text-decoration-color: #808000\">loader_kwargs</span><span style=\"color: #000000; text-decoration-color: #000000\">=</span><span style=\"color: #800080; text-decoration-color: #800080; font-style: italic\">None</span><span style=\"color: #000000; text-decoration-color: #000000\">, </span><span style=\"color: #808000; text-decoration-color: #808000\">custom_class</span><span style=\"color: #000000; text-decoration-color: #000000\">=</span><span style=\"color: #800080; text-decoration-color: #800080; font-style: italic\">None</span><span style=\"color: #000000; text-decoration-color: #000000; font-weight: bold\">)</span><span style=\"color: #000000; text-decoration-color: #000000\">, </span><span style=\"color: #008000; text-decoration-color: #008000\">'chunking_strategy'</span><span style=\"color: #000000; text-decoration-color: #000000\">: </span>               <span style=\"color: #7f7f7f; text-decoration-color: #7f7f7f\">                   </span>\n",
       "<span style=\"color: #7fbfbf; text-decoration-color: #7fbfbf\">           </span>         <span style=\"color: #800080; text-decoration-color: #800080; font-weight: bold\">ChunkingStrategyConfig</span><span style=\"color: #000000; text-decoration-color: #000000; font-weight: bold\">(</span><span style=\"color: #808000; text-decoration-color: #808000\">type</span><span style=\"color: #000000; text-decoration-color: #000000\">=&lt;ChunkingStrategy.CUSTOM: </span><span style=\"color: #008000; text-decoration-color: #008000\">'custom'</span><span style=\"color: #000000; text-decoration-color: #000000\">&gt;, </span>           <span style=\"color: #7f7f7f; text-decoration-color: #7f7f7f\">                   </span>\n",
       "<span style=\"color: #7fbfbf; text-decoration-color: #7fbfbf\">           </span>         <span style=\"color: #808000; text-decoration-color: #808000\">chunker_kwargs</span><span style=\"color: #000000; text-decoration-color: #000000\">=</span><span style=\"color: #800080; text-decoration-color: #800080; font-style: italic\">None</span><span style=\"color: #000000; text-decoration-color: #000000\">, </span>                                                       <span style=\"color: #7f7f7f; text-decoration-color: #7f7f7f\">                   </span>\n",
       "<span style=\"color: #7fbfbf; text-decoration-color: #7fbfbf\">           </span>         <span style=\"color: #808000; text-decoration-color: #808000\">custom_class</span><span style=\"color: #000000; text-decoration-color: #000000\">=</span><span style=\"color: #008000; text-decoration-color: #008000\">'ragbuilder.custom_components.CustomChunker'</span><span style=\"color: #000000; text-decoration-color: #000000; font-weight: bold\">)</span><span style=\"color: #000000; text-decoration-color: #000000\">, </span>                <span style=\"color: #7f7f7f; text-decoration-color: #7f7f7f\">                   </span>\n",
       "<span style=\"color: #7fbfbf; text-decoration-color: #7fbfbf\">           </span>         <span style=\"color: #008000; text-decoration-color: #008000\">'chunk_overlap'</span><span style=\"color: #000000; text-decoration-color: #000000\">: </span><span style=\"color: #008080; text-decoration-color: #008080; font-weight: bold\">100</span><span style=\"color: #000000; text-decoration-color: #000000\">, </span><span style=\"color: #008000; text-decoration-color: #008000\">'chunk_size'</span><span style=\"color: #000000; text-decoration-color: #000000\">: </span><span style=\"color: #008080; text-decoration-color: #008080; font-weight: bold\">1000</span><span style=\"color: #000000; text-decoration-color: #000000\">, </span><span style=\"color: #008000; text-decoration-color: #008000\">'embedding_model'</span><span style=\"color: #000000; text-decoration-color: #000000\">: </span>               <span style=\"color: #7f7f7f; text-decoration-color: #7f7f7f\">                   </span>\n",
       "<span style=\"color: #7fbfbf; text-decoration-color: #7fbfbf\">           </span>         <span style=\"color: #800080; text-decoration-color: #800080; font-weight: bold\">EmbeddingConfig</span><span style=\"color: #000000; text-decoration-color: #000000; font-weight: bold\">(</span><span style=\"color: #808000; text-decoration-color: #808000\">type</span><span style=\"color: #000000; text-decoration-color: #000000\">=&lt;EmbeddingModel.HUGGINGFACE: </span><span style=\"color: #008000; text-decoration-color: #008000\">'huggingface'</span><span style=\"color: #000000; text-decoration-color: #000000\">&gt;, </span>          <span style=\"color: #7f7f7f; text-decoration-color: #7f7f7f\">                   </span>\n",
       "<span style=\"color: #7fbfbf; text-decoration-color: #7fbfbf\">           </span>         <span style=\"color: #808000; text-decoration-color: #808000\">model_kwargs</span><span style=\"color: #000000; text-decoration-color: #000000\">=</span><span style=\"color: #000000; text-decoration-color: #000000; font-weight: bold\">{</span><span style=\"color: #008000; text-decoration-color: #008000\">'model_name'</span><span style=\"color: #000000; text-decoration-color: #000000\">: </span><span style=\"color: #008000; text-decoration-color: #008000\">'mixedbread-ai/mxbai-embed-large-v1'</span><span style=\"color: #000000; text-decoration-color: #000000; font-weight: bold\">}</span><span style=\"color: #000000; text-decoration-color: #000000\">, </span>         <span style=\"color: #7f7f7f; text-decoration-color: #7f7f7f\">                   </span>\n",
       "<span style=\"color: #7fbfbf; text-decoration-color: #7fbfbf\">           </span>         <span style=\"color: #808000; text-decoration-color: #808000\">custom_class</span><span style=\"color: #000000; text-decoration-color: #000000\">=</span><span style=\"color: #800080; text-decoration-color: #800080; font-style: italic\">None</span><span style=\"color: #000000; text-decoration-color: #000000; font-weight: bold\">)</span><span style=\"color: #000000; text-decoration-color: #000000\">, </span><span style=\"color: #008000; text-decoration-color: #008000\">'vector_database'</span><span style=\"color: #000000; text-decoration-color: #000000\">: </span>                                     <span style=\"color: #7f7f7f; text-decoration-color: #7f7f7f\">                   </span>\n",
       "<span style=\"color: #7fbfbf; text-decoration-color: #7fbfbf\">           </span>         <span style=\"color: #800080; text-decoration-color: #800080; font-weight: bold\">VectorDBConfig</span><span style=\"color: #000000; text-decoration-color: #000000; font-weight: bold\">(</span><span style=\"color: #808000; text-decoration-color: #808000\">type</span><span style=\"color: #000000; text-decoration-color: #000000\">=&lt;VectorDatabase.CHROMA: </span><span style=\"color: #008000; text-decoration-color: #008000\">'chroma'</span><span style=\"font-weight: bold\">&gt;</span>,                      <span style=\"color: #7f7f7f; text-decoration-color: #7f7f7f\">                   </span>\n",
       "<span style=\"color: #7fbfbf; text-decoration-color: #7fbfbf\">           </span>         <span style=\"color: #808000; text-decoration-color: #808000\">vectordb_kwargs</span>=<span style=\"font-weight: bold\">{</span><span style=\"color: #008000; text-decoration-color: #008000\">'persist_directory'</span>: <span style=\"color: #008000; text-decoration-color: #008000\">'chroma_sample2/8'</span>,                   <span style=\"color: #7f7f7f; text-decoration-color: #7f7f7f\">                   </span>\n",
       "<span style=\"color: #7fbfbf; text-decoration-color: #7fbfbf\">           </span>         <span style=\"color: #008000; text-decoration-color: #008000\">'collection_metadata'</span>: <span style=\"font-weight: bold\">{</span><span style=\"color: #008000; text-decoration-color: #008000\">'hnsw:space'</span>: <span style=\"color: #008000; text-decoration-color: #008000\">'cosine'</span><span style=\"font-weight: bold\">}}</span>, <span style=\"color: #808000; text-decoration-color: #808000\">custom_class</span>=<span style=\"color: #800080; text-decoration-color: #800080; font-style: italic\">None</span><span style=\"font-weight: bold\">)</span>,       <span style=\"color: #7f7f7f; text-decoration-color: #7f7f7f\">                   </span>\n",
       "<span style=\"color: #7fbfbf; text-decoration-color: #7fbfbf\">           </span>         <span style=\"color: #008000; text-decoration-color: #008000\">'sampling_rate'</span>: <span style=\"color: #800080; text-decoration-color: #800080; font-style: italic\">None</span><span style=\"font-weight: bold\">}</span>                                                      <span style=\"color: #7f7f7f; text-decoration-color: #7f7f7f\">                   </span>\n",
       "</pre>\n"
      ],
      "text/plain": [
       "\u001b[2;36m[19:00:13]\u001b[0m\u001b[2;36m \u001b[0m\u001b[34mINFO    \u001b[0m Trial parameters: \u001b[1m{\u001b[0m\u001b[32m'input_source'\u001b[0m: \u001b[32m'uber_10k.pdf'\u001b[0m, \u001b[32m'test_dataset'\u001b[0m:          \u001b]8;id=283217;file:///Users/aravind/KruxAI/ragbuilder/src/ragbuilder/data_ingest/optimization.py\u001b\\\u001b[2moptimization.py\u001b[0m\u001b]8;;\u001b\\\u001b[2m:\u001b[0m\u001b]8;id=810711;file:///Users/aravind/KruxAI/ragbuilder/src/ragbuilder/data_ingest/optimization.py#192\u001b\\\u001b[2m192\u001b[0m\u001b]8;;\u001b\\\n",
       "\u001b[2;36m           \u001b[0m         \u001b[32m'rag_test_data_1726600284.375674 uber10k_shortlist.csv'\u001b[0m, \u001b[32m'document_loader'\u001b[0m: \u001b[2m                   \u001b[0m\n",
       "\u001b[2;36m           \u001b[0m         \u001b[1;35mLoaderConfig\u001b[0m\u001b[1m(\u001b[0m\u001b[33mtype\u001b[0m=\u001b[1m<\u001b[0m\u001b[1;95mParserType.UNSTRUCTURED:\u001b[0m\u001b[39m \u001b[0m\u001b[32m'unstructured'\u001b[0m\u001b[39m>, \u001b[0m               \u001b[2m                   \u001b[0m\n",
       "\u001b[2;36m           \u001b[0m         \u001b[33mloader_kwargs\u001b[0m\u001b[39m=\u001b[0m\u001b[3;35mNone\u001b[0m\u001b[39m, \u001b[0m\u001b[33mcustom_class\u001b[0m\u001b[39m=\u001b[0m\u001b[3;35mNone\u001b[0m\u001b[1;39m)\u001b[0m\u001b[39m, \u001b[0m\u001b[32m'chunking_strategy'\u001b[0m\u001b[39m: \u001b[0m               \u001b[2m                   \u001b[0m\n",
       "\u001b[2;36m           \u001b[0m         \u001b[1;35mChunkingStrategyConfig\u001b[0m\u001b[1;39m(\u001b[0m\u001b[33mtype\u001b[0m\u001b[39m=<ChunkingStrategy.CUSTOM: \u001b[0m\u001b[32m'custom'\u001b[0m\u001b[39m>, \u001b[0m           \u001b[2m                   \u001b[0m\n",
       "\u001b[2;36m           \u001b[0m         \u001b[33mchunker_kwargs\u001b[0m\u001b[39m=\u001b[0m\u001b[3;35mNone\u001b[0m\u001b[39m, \u001b[0m                                                       \u001b[2m                   \u001b[0m\n",
       "\u001b[2;36m           \u001b[0m         \u001b[33mcustom_class\u001b[0m\u001b[39m=\u001b[0m\u001b[32m'ragbuilder.custom_components.CustomChunker'\u001b[0m\u001b[1;39m)\u001b[0m\u001b[39m, \u001b[0m                \u001b[2m                   \u001b[0m\n",
       "\u001b[2;36m           \u001b[0m         \u001b[32m'chunk_overlap'\u001b[0m\u001b[39m: \u001b[0m\u001b[1;36m100\u001b[0m\u001b[39m, \u001b[0m\u001b[32m'chunk_size'\u001b[0m\u001b[39m: \u001b[0m\u001b[1;36m1000\u001b[0m\u001b[39m, \u001b[0m\u001b[32m'embedding_model'\u001b[0m\u001b[39m: \u001b[0m               \u001b[2m                   \u001b[0m\n",
       "\u001b[2;36m           \u001b[0m         \u001b[1;35mEmbeddingConfig\u001b[0m\u001b[1;39m(\u001b[0m\u001b[33mtype\u001b[0m\u001b[39m=<EmbeddingModel.HUGGINGFACE: \u001b[0m\u001b[32m'huggingface'\u001b[0m\u001b[39m>, \u001b[0m          \u001b[2m                   \u001b[0m\n",
       "\u001b[2;36m           \u001b[0m         \u001b[33mmodel_kwargs\u001b[0m\u001b[39m=\u001b[0m\u001b[1;39m{\u001b[0m\u001b[32m'model_name'\u001b[0m\u001b[39m: \u001b[0m\u001b[32m'mixedbread-ai/mxbai-embed-large-v1'\u001b[0m\u001b[1;39m}\u001b[0m\u001b[39m, \u001b[0m         \u001b[2m                   \u001b[0m\n",
       "\u001b[2;36m           \u001b[0m         \u001b[33mcustom_class\u001b[0m\u001b[39m=\u001b[0m\u001b[3;35mNone\u001b[0m\u001b[1;39m)\u001b[0m\u001b[39m, \u001b[0m\u001b[32m'vector_database'\u001b[0m\u001b[39m: \u001b[0m                                     \u001b[2m                   \u001b[0m\n",
       "\u001b[2;36m           \u001b[0m         \u001b[1;35mVectorDBConfig\u001b[0m\u001b[1;39m(\u001b[0m\u001b[33mtype\u001b[0m\u001b[39m=<VectorDatabase.CHROMA: \u001b[0m\u001b[32m'chroma'\u001b[0m\u001b[1m>\u001b[0m,                      \u001b[2m                   \u001b[0m\n",
       "\u001b[2;36m           \u001b[0m         \u001b[33mvectordb_kwargs\u001b[0m=\u001b[1m{\u001b[0m\u001b[32m'persist_directory'\u001b[0m: \u001b[32m'chroma_sample2/8'\u001b[0m,                   \u001b[2m                   \u001b[0m\n",
       "\u001b[2;36m           \u001b[0m         \u001b[32m'collection_metadata'\u001b[0m: \u001b[1m{\u001b[0m\u001b[32m'hnsw:space'\u001b[0m: \u001b[32m'cosine'\u001b[0m\u001b[1m}\u001b[0m\u001b[1m}\u001b[0m, \u001b[33mcustom_class\u001b[0m=\u001b[3;35mNone\u001b[0m\u001b[1m)\u001b[0m,       \u001b[2m                   \u001b[0m\n",
       "\u001b[2;36m           \u001b[0m         \u001b[32m'sampling_rate'\u001b[0m: \u001b[3;35mNone\u001b[0m\u001b[1m}\u001b[0m                                                      \u001b[2m                   \u001b[0m\n"
      ]
     },
     "metadata": {},
     "output_type": "display_data"
    },
    {
     "name": "stdout",
     "output_type": "stream",
     "text": [
      "class_path:  ragbuilder.custom_components.CustomChunker\n"
     ]
    },
    {
     "data": {
      "text/html": [
       "<pre style=\"white-space:pre;overflow-x:auto;line-height:normal;font-family:Menlo,'DejaVu Sans Mono',consolas,'Courier New',monospace\"><span style=\"color: #7fbfbf; text-decoration-color: #7fbfbf\">           </span><span style=\"color: #000080; text-decoration-color: #000080\">INFO    </span> Load pretrained SentenceTransformer:                                 <a href=\"file:///opt/anaconda3/envs/ragbuilder/lib/python3.12/site-packages/sentence_transformers/SentenceTransformer.py\" target=\"_blank\"><span style=\"color: #7f7f7f; text-decoration-color: #7f7f7f\">SentenceTransformer.py</span></a><span style=\"color: #7f7f7f; text-decoration-color: #7f7f7f\">:</span><a href=\"file:///opt/anaconda3/envs/ragbuilder/lib/python3.12/site-packages/sentence_transformers/SentenceTransformer.py#113\" target=\"_blank\"><span style=\"color: #7f7f7f; text-decoration-color: #7f7f7f\">113</span></a>\n",
       "<span style=\"color: #7fbfbf; text-decoration-color: #7fbfbf\">           </span>         mixedbread-ai/mxbai-embed-large-v1                                   <span style=\"color: #7f7f7f; text-decoration-color: #7f7f7f\">                          </span>\n",
       "</pre>\n"
      ],
      "text/plain": [
       "\u001b[2;36m          \u001b[0m\u001b[2;36m \u001b[0m\u001b[34mINFO    \u001b[0m Load pretrained SentenceTransformer:                                 \u001b]8;id=82546;file:///opt/anaconda3/envs/ragbuilder/lib/python3.12/site-packages/sentence_transformers/SentenceTransformer.py\u001b\\\u001b[2mSentenceTransformer.py\u001b[0m\u001b]8;;\u001b\\\u001b[2m:\u001b[0m\u001b]8;id=44554;file:///opt/anaconda3/envs/ragbuilder/lib/python3.12/site-packages/sentence_transformers/SentenceTransformer.py#113\u001b\\\u001b[2m113\u001b[0m\u001b]8;;\u001b\\\n",
       "\u001b[2;36m           \u001b[0m         mixedbread-ai/mxbai-embed-large-v1                                   \u001b[2m                          \u001b[0m\n"
      ]
     },
     "metadata": {},
     "output_type": "display_data"
    },
    {
     "data": {
      "text/html": [
       "<pre style=\"white-space:pre;overflow-x:auto;line-height:normal;font-family:Menlo,'DejaVu Sans Mono',consolas,'Courier New',monospace\"><span style=\"color: #7fbfbf; text-decoration-color: #7fbfbf\">[19:00:16] </span><span style=\"color: #000080; text-decoration-color: #000080\">INFO    </span> Use pytorch device_name: mps                                         <a href=\"file:///opt/anaconda3/envs/ragbuilder/lib/python3.12/site-packages/sentence_transformers/SentenceTransformer.py\" target=\"_blank\"><span style=\"color: #7f7f7f; text-decoration-color: #7f7f7f\">SentenceTransformer.py</span></a><span style=\"color: #7f7f7f; text-decoration-color: #7f7f7f\">:</span><a href=\"file:///opt/anaconda3/envs/ragbuilder/lib/python3.12/site-packages/sentence_transformers/SentenceTransformer.py#219\" target=\"_blank\"><span style=\"color: #7f7f7f; text-decoration-color: #7f7f7f\">219</span></a>\n",
       "</pre>\n"
      ],
      "text/plain": [
       "\u001b[2;36m[19:00:16]\u001b[0m\u001b[2;36m \u001b[0m\u001b[34mINFO    \u001b[0m Use pytorch device_name: mps                                         \u001b]8;id=303702;file:///opt/anaconda3/envs/ragbuilder/lib/python3.12/site-packages/sentence_transformers/SentenceTransformer.py\u001b\\\u001b[2mSentenceTransformer.py\u001b[0m\u001b]8;;\u001b\\\u001b[2m:\u001b[0m\u001b]8;id=506878;file:///opt/anaconda3/envs/ragbuilder/lib/python3.12/site-packages/sentence_transformers/SentenceTransformer.py#219\u001b\\\u001b[2m219\u001b[0m\u001b]8;;\u001b\\\n"
      ]
     },
     "metadata": {},
     "output_type": "display_data"
    },
    {
     "data": {
      "text/html": [
       "<pre style=\"white-space:pre;overflow-x:auto;line-height:normal;font-family:Menlo,'DejaVu Sans Mono',consolas,'Courier New',monospace\"><span style=\"color: #7fbfbf; text-decoration-color: #7fbfbf\">[19:00:17] </span><span style=\"color: #000080; text-decoration-color: #000080\">INFO    </span> <span style=\"color: #008080; text-decoration-color: #008080; font-weight: bold\">2</span> prompts are loaded, with the keys: <span style=\"font-weight: bold\">[</span><span style=\"color: #008000; text-decoration-color: #008000\">'query'</span>, <span style=\"color: #008000; text-decoration-color: #008000\">'passage'</span><span style=\"font-weight: bold\">]</span>            <a href=\"file:///opt/anaconda3/envs/ragbuilder/lib/python3.12/site-packages/sentence_transformers/SentenceTransformer.py\" target=\"_blank\"><span style=\"color: #7f7f7f; text-decoration-color: #7f7f7f\">SentenceTransformer.py</span></a><span style=\"color: #7f7f7f; text-decoration-color: #7f7f7f\">:</span><a href=\"file:///opt/anaconda3/envs/ragbuilder/lib/python3.12/site-packages/sentence_transformers/SentenceTransformer.py#231\" target=\"_blank\"><span style=\"color: #7f7f7f; text-decoration-color: #7f7f7f\">231</span></a>\n",
       "</pre>\n"
      ],
      "text/plain": [
       "\u001b[2;36m[19:00:17]\u001b[0m\u001b[2;36m \u001b[0m\u001b[34mINFO    \u001b[0m \u001b[1;36m2\u001b[0m prompts are loaded, with the keys: \u001b[1m[\u001b[0m\u001b[32m'query'\u001b[0m, \u001b[32m'passage'\u001b[0m\u001b[1m]\u001b[0m            \u001b]8;id=638248;file:///opt/anaconda3/envs/ragbuilder/lib/python3.12/site-packages/sentence_transformers/SentenceTransformer.py\u001b\\\u001b[2mSentenceTransformer.py\u001b[0m\u001b]8;;\u001b\\\u001b[2m:\u001b[0m\u001b]8;id=934670;file:///opt/anaconda3/envs/ragbuilder/lib/python3.12/site-packages/sentence_transformers/SentenceTransformer.py#231\u001b\\\u001b[2m231\u001b[0m\u001b]8;;\u001b\\\n"
      ]
     },
     "metadata": {},
     "output_type": "display_data"
    },
    {
     "data": {
      "application/vnd.jupyter.widget-view+json": {
       "model_id": "085ba6d8d9914cbb84125fbe7966171e",
       "version_major": 2,
       "version_minor": 0
      },
      "text/plain": [
       "Output()"
      ]
     },
     "metadata": {},
     "output_type": "display_data"
    },
    {
     "data": {
      "text/html": [
       "<pre style=\"white-space:pre;overflow-x:auto;line-height:normal;font-family:Menlo,'DejaVu Sans Mono',consolas,'Courier New',monospace\"><span style=\"color: #008000; text-decoration-color: #008000\">✓ Pipeline execution complete!</span>\n",
       "</pre>\n"
      ],
      "text/plain": [
       "\u001b[32m✓ Pipeline execution complete!\u001b[0m\n"
      ]
     },
     "metadata": {},
     "output_type": "display_data"
    },
    {
     "data": {
      "text/html": [
       "<pre style=\"white-space:pre;overflow-x:auto;line-height:normal;font-family:Menlo,'DejaVu Sans Mono',consolas,'Courier New',monospace\"></pre>\n"
      ],
      "text/plain": []
     },
     "metadata": {},
     "output_type": "display_data"
    },
    {
     "data": {
      "text/html": [
       "<pre style=\"white-space:pre;overflow-x:auto;line-height:normal;font-family:Menlo,'DejaVu Sans Mono',consolas,'Courier New',monospace\"><span style=\"color: #008000; text-decoration-color: #008000\">Trial Score:</span> <span style=\"color: #00ffff; text-decoration-color: #00ffff; font-weight: bold\">0.8365</span>\n",
       "</pre>\n"
      ],
      "text/plain": [
       "\u001b[32mTrial Score:\u001b[0m \u001b[1;96m0.8365\u001b[0m\n"
      ]
     },
     "metadata": {},
     "output_type": "display_data"
    },
    {
     "name": "stdout",
     "output_type": "stream",
     "text": [
      "[I 2024-11-12 19:01:21,207] Trial 8 finished with value: 0.8365160075003434 and parameters: {'document_loader_index': 1, 'chunking_strategy_index': 1, 'chunk_size': 1000, 'embedding_model_index': 0}. Best is trial 8 with value: 0.8365160075003434.\n"
     ]
    },
    {
     "data": {
      "text/html": [
       "<pre style=\"white-space:pre;overflow-x:auto;line-height:normal;font-family:Menlo,'DejaVu Sans Mono',consolas,'Courier New',monospace\"><span style=\"color: #005fff; text-decoration-color: #005fff; font-weight: bold\">Trial </span><span style=\"color: #005fff; text-decoration-color: #005fff; font-weight: bold\">9</span><span style=\"color: #005fff; text-decoration-color: #005fff; font-weight: bold\">/</span><span style=\"color: #005fff; text-decoration-color: #005fff; font-weight: bold\">29</span>\n",
       "</pre>\n"
      ],
      "text/plain": [
       "\u001b[1;38;5;27mTrial \u001b[0m\u001b[1;38;5;27m9\u001b[0m\u001b[1;38;5;27m/\u001b[0m\u001b[1;38;5;27m29\u001b[0m\n"
      ]
     },
     "metadata": {},
     "output_type": "display_data"
    },
    {
     "data": {
      "text/html": [
       "<pre style=\"white-space:pre;overflow-x:auto;line-height:normal;font-family:Menlo,'DejaVu Sans Mono',consolas,'Courier New',monospace\"><span style=\"color: #7fbfbf; text-decoration-color: #7fbfbf\">[19:01:21] </span><span style=\"color: #000080; text-decoration-color: #000080\">INFO    </span> Trial parameters: <span style=\"font-weight: bold\">{</span><span style=\"color: #008000; text-decoration-color: #008000\">'input_source'</span>: <span style=\"color: #008000; text-decoration-color: #008000\">'uber_10k.pdf'</span>, <span style=\"color: #008000; text-decoration-color: #008000\">'test_dataset'</span>:          <a href=\"file:///Users/aravind/KruxAI/ragbuilder/src/ragbuilder/data_ingest/optimization.py\" target=\"_blank\"><span style=\"color: #7f7f7f; text-decoration-color: #7f7f7f\">optimization.py</span></a><span style=\"color: #7f7f7f; text-decoration-color: #7f7f7f\">:</span><a href=\"file:///Users/aravind/KruxAI/ragbuilder/src/ragbuilder/data_ingest/optimization.py#192\" target=\"_blank\"><span style=\"color: #7f7f7f; text-decoration-color: #7f7f7f\">192</span></a>\n",
       "<span style=\"color: #7fbfbf; text-decoration-color: #7fbfbf\">           </span>         <span style=\"color: #008000; text-decoration-color: #008000\">'rag_test_data_1726600284.375674 uber10k_shortlist.csv'</span>, <span style=\"color: #008000; text-decoration-color: #008000\">'document_loader'</span>: <span style=\"color: #7f7f7f; text-decoration-color: #7f7f7f\">                   </span>\n",
       "<span style=\"color: #7fbfbf; text-decoration-color: #7fbfbf\">           </span>         <span style=\"color: #800080; text-decoration-color: #800080; font-weight: bold\">LoaderConfig</span><span style=\"font-weight: bold\">(</span><span style=\"color: #808000; text-decoration-color: #808000\">type</span>=<span style=\"font-weight: bold\">&lt;</span><span style=\"color: #ff00ff; text-decoration-color: #ff00ff; font-weight: bold\">ParserType.PYPDF:</span><span style=\"color: #000000; text-decoration-color: #000000\"> </span><span style=\"color: #008000; text-decoration-color: #008000\">'pypdf'</span><span style=\"color: #000000; text-decoration-color: #000000\">&gt;, </span><span style=\"color: #808000; text-decoration-color: #808000\">loader_kwargs</span><span style=\"color: #000000; text-decoration-color: #000000\">=</span><span style=\"color: #800080; text-decoration-color: #800080; font-style: italic\">None</span><span style=\"color: #000000; text-decoration-color: #000000\">, </span>         <span style=\"color: #7f7f7f; text-decoration-color: #7f7f7f\">                   </span>\n",
       "<span style=\"color: #7fbfbf; text-decoration-color: #7fbfbf\">           </span>         <span style=\"color: #808000; text-decoration-color: #808000\">custom_class</span><span style=\"color: #000000; text-decoration-color: #000000\">=</span><span style=\"color: #800080; text-decoration-color: #800080; font-style: italic\">None</span><span style=\"color: #000000; text-decoration-color: #000000; font-weight: bold\">)</span><span style=\"color: #000000; text-decoration-color: #000000\">, </span><span style=\"color: #008000; text-decoration-color: #008000\">'chunking_strategy'</span><span style=\"color: #000000; text-decoration-color: #000000\">: </span>                                   <span style=\"color: #7f7f7f; text-decoration-color: #7f7f7f\">                   </span>\n",
       "<span style=\"color: #7fbfbf; text-decoration-color: #7fbfbf\">           </span>         <span style=\"color: #800080; text-decoration-color: #800080; font-weight: bold\">ChunkingStrategyConfig</span><span style=\"color: #000000; text-decoration-color: #000000; font-weight: bold\">(</span><span style=\"color: #808000; text-decoration-color: #808000\">type</span><span style=\"color: #000000; text-decoration-color: #000000\">=&lt;ChunkingStrategy.CUSTOM: </span><span style=\"color: #008000; text-decoration-color: #008000\">'custom'</span><span style=\"color: #000000; text-decoration-color: #000000\">&gt;, </span>           <span style=\"color: #7f7f7f; text-decoration-color: #7f7f7f\">                   </span>\n",
       "<span style=\"color: #7fbfbf; text-decoration-color: #7fbfbf\">           </span>         <span style=\"color: #808000; text-decoration-color: #808000\">chunker_kwargs</span><span style=\"color: #000000; text-decoration-color: #000000\">=</span><span style=\"color: #800080; text-decoration-color: #800080; font-style: italic\">None</span><span style=\"color: #000000; text-decoration-color: #000000\">, </span>                                                       <span style=\"color: #7f7f7f; text-decoration-color: #7f7f7f\">                   </span>\n",
       "<span style=\"color: #7fbfbf; text-decoration-color: #7fbfbf\">           </span>         <span style=\"color: #808000; text-decoration-color: #808000\">custom_class</span><span style=\"color: #000000; text-decoration-color: #000000\">=</span><span style=\"color: #008000; text-decoration-color: #008000\">'ragbuilder.custom_components.CustomChunker'</span><span style=\"color: #000000; text-decoration-color: #000000; font-weight: bold\">)</span><span style=\"color: #000000; text-decoration-color: #000000\">, </span>                <span style=\"color: #7f7f7f; text-decoration-color: #7f7f7f\">                   </span>\n",
       "<span style=\"color: #7fbfbf; text-decoration-color: #7fbfbf\">           </span>         <span style=\"color: #008000; text-decoration-color: #008000\">'chunk_overlap'</span><span style=\"color: #000000; text-decoration-color: #000000\">: </span><span style=\"color: #008080; text-decoration-color: #008080; font-weight: bold\">100</span><span style=\"color: #000000; text-decoration-color: #000000\">, </span><span style=\"color: #008000; text-decoration-color: #008000\">'chunk_size'</span><span style=\"color: #000000; text-decoration-color: #000000\">: </span><span style=\"color: #008080; text-decoration-color: #008080; font-weight: bold\">2000</span><span style=\"color: #000000; text-decoration-color: #000000\">, </span><span style=\"color: #008000; text-decoration-color: #008000\">'embedding_model'</span><span style=\"color: #000000; text-decoration-color: #000000\">: </span>               <span style=\"color: #7f7f7f; text-decoration-color: #7f7f7f\">                   </span>\n",
       "<span style=\"color: #7fbfbf; text-decoration-color: #7fbfbf\">           </span>         <span style=\"color: #800080; text-decoration-color: #800080; font-weight: bold\">EmbeddingConfig</span><span style=\"color: #000000; text-decoration-color: #000000; font-weight: bold\">(</span><span style=\"color: #808000; text-decoration-color: #808000\">type</span><span style=\"color: #000000; text-decoration-color: #000000\">=&lt;EmbeddingModel.OPENAI: </span><span style=\"color: #008000; text-decoration-color: #008000\">'openai'</span><span style=\"color: #000000; text-decoration-color: #000000\">&gt;, </span>                    <span style=\"color: #7f7f7f; text-decoration-color: #7f7f7f\">                   </span>\n",
       "<span style=\"color: #7fbfbf; text-decoration-color: #7fbfbf\">           </span>         <span style=\"color: #808000; text-decoration-color: #808000\">model_kwargs</span><span style=\"color: #000000; text-decoration-color: #000000\">=</span><span style=\"color: #000000; text-decoration-color: #000000; font-weight: bold\">{</span><span style=\"color: #008000; text-decoration-color: #008000\">'model'</span><span style=\"color: #000000; text-decoration-color: #000000\">: </span><span style=\"color: #008000; text-decoration-color: #008000\">'text-embedding-3-large'</span><span style=\"color: #000000; text-decoration-color: #000000; font-weight: bold\">}</span><span style=\"color: #000000; text-decoration-color: #000000\">, </span><span style=\"color: #808000; text-decoration-color: #808000\">custom_class</span><span style=\"color: #000000; text-decoration-color: #000000\">=</span><span style=\"color: #800080; text-decoration-color: #800080; font-style: italic\">None</span><span style=\"color: #000000; text-decoration-color: #000000; font-weight: bold\">)</span><span style=\"color: #000000; text-decoration-color: #000000\">, </span>      <span style=\"color: #7f7f7f; text-decoration-color: #7f7f7f\">                   </span>\n",
       "<span style=\"color: #7fbfbf; text-decoration-color: #7fbfbf\">           </span>         <span style=\"color: #008000; text-decoration-color: #008000\">'vector_database'</span><span style=\"color: #000000; text-decoration-color: #000000\">: </span><span style=\"color: #800080; text-decoration-color: #800080; font-weight: bold\">VectorDBConfig</span><span style=\"color: #000000; text-decoration-color: #000000; font-weight: bold\">(</span><span style=\"color: #808000; text-decoration-color: #808000\">type</span><span style=\"color: #000000; text-decoration-color: #000000\">=&lt;VectorDatabase.CHROMA: </span><span style=\"color: #008000; text-decoration-color: #008000\">'chroma'</span><span style=\"font-weight: bold\">&gt;</span>,   <span style=\"color: #7f7f7f; text-decoration-color: #7f7f7f\">                   </span>\n",
       "<span style=\"color: #7fbfbf; text-decoration-color: #7fbfbf\">           </span>         <span style=\"color: #808000; text-decoration-color: #808000\">vectordb_kwargs</span>=<span style=\"font-weight: bold\">{</span><span style=\"color: #008000; text-decoration-color: #008000\">'persist_directory'</span>: <span style=\"color: #008000; text-decoration-color: #008000\">'chroma_sample2/9'</span>,                   <span style=\"color: #7f7f7f; text-decoration-color: #7f7f7f\">                   </span>\n",
       "<span style=\"color: #7fbfbf; text-decoration-color: #7fbfbf\">           </span>         <span style=\"color: #008000; text-decoration-color: #008000\">'collection_metadata'</span>: <span style=\"font-weight: bold\">{</span><span style=\"color: #008000; text-decoration-color: #008000\">'hnsw:space'</span>: <span style=\"color: #008000; text-decoration-color: #008000\">'cosine'</span><span style=\"font-weight: bold\">}}</span>, <span style=\"color: #808000; text-decoration-color: #808000\">custom_class</span>=<span style=\"color: #800080; text-decoration-color: #800080; font-style: italic\">None</span><span style=\"font-weight: bold\">)</span>,       <span style=\"color: #7f7f7f; text-decoration-color: #7f7f7f\">                   </span>\n",
       "<span style=\"color: #7fbfbf; text-decoration-color: #7fbfbf\">           </span>         <span style=\"color: #008000; text-decoration-color: #008000\">'sampling_rate'</span>: <span style=\"color: #800080; text-decoration-color: #800080; font-style: italic\">None</span><span style=\"font-weight: bold\">}</span>                                                      <span style=\"color: #7f7f7f; text-decoration-color: #7f7f7f\">                   </span>\n",
       "</pre>\n"
      ],
      "text/plain": [
       "\u001b[2;36m[19:01:21]\u001b[0m\u001b[2;36m \u001b[0m\u001b[34mINFO    \u001b[0m Trial parameters: \u001b[1m{\u001b[0m\u001b[32m'input_source'\u001b[0m: \u001b[32m'uber_10k.pdf'\u001b[0m, \u001b[32m'test_dataset'\u001b[0m:          \u001b]8;id=259474;file:///Users/aravind/KruxAI/ragbuilder/src/ragbuilder/data_ingest/optimization.py\u001b\\\u001b[2moptimization.py\u001b[0m\u001b]8;;\u001b\\\u001b[2m:\u001b[0m\u001b]8;id=239277;file:///Users/aravind/KruxAI/ragbuilder/src/ragbuilder/data_ingest/optimization.py#192\u001b\\\u001b[2m192\u001b[0m\u001b]8;;\u001b\\\n",
       "\u001b[2;36m           \u001b[0m         \u001b[32m'rag_test_data_1726600284.375674 uber10k_shortlist.csv'\u001b[0m, \u001b[32m'document_loader'\u001b[0m: \u001b[2m                   \u001b[0m\n",
       "\u001b[2;36m           \u001b[0m         \u001b[1;35mLoaderConfig\u001b[0m\u001b[1m(\u001b[0m\u001b[33mtype\u001b[0m=\u001b[1m<\u001b[0m\u001b[1;95mParserType.PYPDF:\u001b[0m\u001b[39m \u001b[0m\u001b[32m'pypdf'\u001b[0m\u001b[39m>, \u001b[0m\u001b[33mloader_kwargs\u001b[0m\u001b[39m=\u001b[0m\u001b[3;35mNone\u001b[0m\u001b[39m, \u001b[0m         \u001b[2m                   \u001b[0m\n",
       "\u001b[2;36m           \u001b[0m         \u001b[33mcustom_class\u001b[0m\u001b[39m=\u001b[0m\u001b[3;35mNone\u001b[0m\u001b[1;39m)\u001b[0m\u001b[39m, \u001b[0m\u001b[32m'chunking_strategy'\u001b[0m\u001b[39m: \u001b[0m                                   \u001b[2m                   \u001b[0m\n",
       "\u001b[2;36m           \u001b[0m         \u001b[1;35mChunkingStrategyConfig\u001b[0m\u001b[1;39m(\u001b[0m\u001b[33mtype\u001b[0m\u001b[39m=<ChunkingStrategy.CUSTOM: \u001b[0m\u001b[32m'custom'\u001b[0m\u001b[39m>, \u001b[0m           \u001b[2m                   \u001b[0m\n",
       "\u001b[2;36m           \u001b[0m         \u001b[33mchunker_kwargs\u001b[0m\u001b[39m=\u001b[0m\u001b[3;35mNone\u001b[0m\u001b[39m, \u001b[0m                                                       \u001b[2m                   \u001b[0m\n",
       "\u001b[2;36m           \u001b[0m         \u001b[33mcustom_class\u001b[0m\u001b[39m=\u001b[0m\u001b[32m'ragbuilder.custom_components.CustomChunker'\u001b[0m\u001b[1;39m)\u001b[0m\u001b[39m, \u001b[0m                \u001b[2m                   \u001b[0m\n",
       "\u001b[2;36m           \u001b[0m         \u001b[32m'chunk_overlap'\u001b[0m\u001b[39m: \u001b[0m\u001b[1;36m100\u001b[0m\u001b[39m, \u001b[0m\u001b[32m'chunk_size'\u001b[0m\u001b[39m: \u001b[0m\u001b[1;36m2000\u001b[0m\u001b[39m, \u001b[0m\u001b[32m'embedding_model'\u001b[0m\u001b[39m: \u001b[0m               \u001b[2m                   \u001b[0m\n",
       "\u001b[2;36m           \u001b[0m         \u001b[1;35mEmbeddingConfig\u001b[0m\u001b[1;39m(\u001b[0m\u001b[33mtype\u001b[0m\u001b[39m=<EmbeddingModel.OPENAI: \u001b[0m\u001b[32m'openai'\u001b[0m\u001b[39m>, \u001b[0m                    \u001b[2m                   \u001b[0m\n",
       "\u001b[2;36m           \u001b[0m         \u001b[33mmodel_kwargs\u001b[0m\u001b[39m=\u001b[0m\u001b[1;39m{\u001b[0m\u001b[32m'model'\u001b[0m\u001b[39m: \u001b[0m\u001b[32m'text-embedding-3-large'\u001b[0m\u001b[1;39m}\u001b[0m\u001b[39m, \u001b[0m\u001b[33mcustom_class\u001b[0m\u001b[39m=\u001b[0m\u001b[3;35mNone\u001b[0m\u001b[1;39m)\u001b[0m\u001b[39m, \u001b[0m      \u001b[2m                   \u001b[0m\n",
       "\u001b[2;36m           \u001b[0m         \u001b[32m'vector_database'\u001b[0m\u001b[39m: \u001b[0m\u001b[1;35mVectorDBConfig\u001b[0m\u001b[1;39m(\u001b[0m\u001b[33mtype\u001b[0m\u001b[39m=<VectorDatabase.CHROMA: \u001b[0m\u001b[32m'chroma'\u001b[0m\u001b[1m>\u001b[0m,   \u001b[2m                   \u001b[0m\n",
       "\u001b[2;36m           \u001b[0m         \u001b[33mvectordb_kwargs\u001b[0m=\u001b[1m{\u001b[0m\u001b[32m'persist_directory'\u001b[0m: \u001b[32m'chroma_sample2/9'\u001b[0m,                   \u001b[2m                   \u001b[0m\n",
       "\u001b[2;36m           \u001b[0m         \u001b[32m'collection_metadata'\u001b[0m: \u001b[1m{\u001b[0m\u001b[32m'hnsw:space'\u001b[0m: \u001b[32m'cosine'\u001b[0m\u001b[1m}\u001b[0m\u001b[1m}\u001b[0m, \u001b[33mcustom_class\u001b[0m=\u001b[3;35mNone\u001b[0m\u001b[1m)\u001b[0m,       \u001b[2m                   \u001b[0m\n",
       "\u001b[2;36m           \u001b[0m         \u001b[32m'sampling_rate'\u001b[0m: \u001b[3;35mNone\u001b[0m\u001b[1m}\u001b[0m                                                      \u001b[2m                   \u001b[0m\n"
      ]
     },
     "metadata": {},
     "output_type": "display_data"
    },
    {
     "data": {
      "application/vnd.jupyter.widget-view+json": {
       "model_id": "5f6cb941797c4b84a5917b2d80a96ee6",
       "version_major": 2,
       "version_minor": 0
      },
      "text/plain": [
       "Output()"
      ]
     },
     "metadata": {},
     "output_type": "display_data"
    },
    {
     "name": "stdout",
     "output_type": "stream",
     "text": [
      "class_path:  ragbuilder.custom_components.CustomChunker\n"
     ]
    },
    {
     "data": {
      "text/html": [
       "<pre style=\"white-space:pre;overflow-x:auto;line-height:normal;font-family:Menlo,'DejaVu Sans Mono',consolas,'Courier New',monospace\"><span style=\"color: #008000; text-decoration-color: #008000\">✓ Pipeline execution complete!</span>\n",
       "</pre>\n"
      ],
      "text/plain": [
       "\u001b[32m✓ Pipeline execution complete!\u001b[0m\n"
      ]
     },
     "metadata": {},
     "output_type": "display_data"
    },
    {
     "data": {
      "text/html": [
       "<pre style=\"white-space:pre;overflow-x:auto;line-height:normal;font-family:Menlo,'DejaVu Sans Mono',consolas,'Courier New',monospace\"></pre>\n"
      ],
      "text/plain": []
     },
     "metadata": {},
     "output_type": "display_data"
    },
    {
     "data": {
      "text/html": [
       "<pre style=\"white-space:pre;overflow-x:auto;line-height:normal;font-family:Menlo,'DejaVu Sans Mono',consolas,'Courier New',monospace\"><span style=\"color: #008000; text-decoration-color: #008000\">Trial Score:</span> <span style=\"color: #00ffff; text-decoration-color: #00ffff; font-weight: bold\">0.7488</span>\n",
       "</pre>\n"
      ],
      "text/plain": [
       "\u001b[32mTrial Score:\u001b[0m \u001b[1;96m0.7488\u001b[0m\n"
      ]
     },
     "metadata": {},
     "output_type": "display_data"
    },
    {
     "name": "stdout",
     "output_type": "stream",
     "text": [
      "[I 2024-11-12 19:01:44,429] Trial 9 finished with value: 0.7487705385359636 and parameters: {'document_loader_index': 2, 'chunking_strategy_index': 1, 'chunk_size': 2000, 'embedding_model_index': 1}. Best is trial 8 with value: 0.8365160075003434.\n"
     ]
    },
    {
     "data": {
      "text/html": [
       "<pre style=\"white-space:pre;overflow-x:auto;line-height:normal;font-family:Menlo,'DejaVu Sans Mono',consolas,'Courier New',monospace\"><span style=\"color: #005fff; text-decoration-color: #005fff; font-weight: bold\">Trial </span><span style=\"color: #005fff; text-decoration-color: #005fff; font-weight: bold\">10</span><span style=\"color: #005fff; text-decoration-color: #005fff; font-weight: bold\">/</span><span style=\"color: #005fff; text-decoration-color: #005fff; font-weight: bold\">29</span>\n",
       "</pre>\n"
      ],
      "text/plain": [
       "\u001b[1;38;5;27mTrial \u001b[0m\u001b[1;38;5;27m10\u001b[0m\u001b[1;38;5;27m/\u001b[0m\u001b[1;38;5;27m29\u001b[0m\n"
      ]
     },
     "metadata": {},
     "output_type": "display_data"
    },
    {
     "data": {
      "text/html": [
       "<pre style=\"white-space:pre;overflow-x:auto;line-height:normal;font-family:Menlo,'DejaVu Sans Mono',consolas,'Courier New',monospace\"><span style=\"color: #7fbfbf; text-decoration-color: #7fbfbf\">[19:01:44] </span><span style=\"color: #000080; text-decoration-color: #000080\">INFO    </span> Trial parameters: <span style=\"font-weight: bold\">{</span><span style=\"color: #008000; text-decoration-color: #008000\">'input_source'</span>: <span style=\"color: #008000; text-decoration-color: #008000\">'uber_10k.pdf'</span>, <span style=\"color: #008000; text-decoration-color: #008000\">'test_dataset'</span>:          <a href=\"file:///Users/aravind/KruxAI/ragbuilder/src/ragbuilder/data_ingest/optimization.py\" target=\"_blank\"><span style=\"color: #7f7f7f; text-decoration-color: #7f7f7f\">optimization.py</span></a><span style=\"color: #7f7f7f; text-decoration-color: #7f7f7f\">:</span><a href=\"file:///Users/aravind/KruxAI/ragbuilder/src/ragbuilder/data_ingest/optimization.py#192\" target=\"_blank\"><span style=\"color: #7f7f7f; text-decoration-color: #7f7f7f\">192</span></a>\n",
       "<span style=\"color: #7fbfbf; text-decoration-color: #7fbfbf\">           </span>         <span style=\"color: #008000; text-decoration-color: #008000\">'rag_test_data_1726600284.375674 uber10k_shortlist.csv'</span>, <span style=\"color: #008000; text-decoration-color: #008000\">'document_loader'</span>: <span style=\"color: #7f7f7f; text-decoration-color: #7f7f7f\">                   </span>\n",
       "<span style=\"color: #7fbfbf; text-decoration-color: #7fbfbf\">           </span>         <span style=\"color: #800080; text-decoration-color: #800080; font-weight: bold\">LoaderConfig</span><span style=\"font-weight: bold\">(</span><span style=\"color: #808000; text-decoration-color: #808000\">type</span>=<span style=\"font-weight: bold\">&lt;</span><span style=\"color: #ff00ff; text-decoration-color: #ff00ff; font-weight: bold\">ParserType.UNSTRUCTURED:</span><span style=\"color: #000000; text-decoration-color: #000000\"> </span><span style=\"color: #008000; text-decoration-color: #008000\">'unstructured'</span><span style=\"color: #000000; text-decoration-color: #000000\">&gt;, </span>               <span style=\"color: #7f7f7f; text-decoration-color: #7f7f7f\">                   </span>\n",
       "<span style=\"color: #7fbfbf; text-decoration-color: #7fbfbf\">           </span>         <span style=\"color: #808000; text-decoration-color: #808000\">loader_kwargs</span><span style=\"color: #000000; text-decoration-color: #000000\">=</span><span style=\"color: #800080; text-decoration-color: #800080; font-style: italic\">None</span><span style=\"color: #000000; text-decoration-color: #000000\">, </span><span style=\"color: #808000; text-decoration-color: #808000\">custom_class</span><span style=\"color: #000000; text-decoration-color: #000000\">=</span><span style=\"color: #800080; text-decoration-color: #800080; font-style: italic\">None</span><span style=\"color: #000000; text-decoration-color: #000000; font-weight: bold\">)</span><span style=\"color: #000000; text-decoration-color: #000000\">, </span><span style=\"color: #008000; text-decoration-color: #008000\">'chunking_strategy'</span><span style=\"color: #000000; text-decoration-color: #000000\">: </span>               <span style=\"color: #7f7f7f; text-decoration-color: #7f7f7f\">                   </span>\n",
       "<span style=\"color: #7fbfbf; text-decoration-color: #7fbfbf\">           </span>         <span style=\"color: #800080; text-decoration-color: #800080; font-weight: bold\">ChunkingStrategyConfig</span><span style=\"color: #000000; text-decoration-color: #000000; font-weight: bold\">(</span><span style=\"color: #808000; text-decoration-color: #808000\">type</span><span style=\"color: #000000; text-decoration-color: #000000\">=&lt;ChunkingStrategy.CUSTOM: </span><span style=\"color: #008000; text-decoration-color: #008000\">'custom'</span><span style=\"color: #000000; text-decoration-color: #000000\">&gt;, </span>           <span style=\"color: #7f7f7f; text-decoration-color: #7f7f7f\">                   </span>\n",
       "<span style=\"color: #7fbfbf; text-decoration-color: #7fbfbf\">           </span>         <span style=\"color: #808000; text-decoration-color: #808000\">chunker_kwargs</span><span style=\"color: #000000; text-decoration-color: #000000\">=</span><span style=\"color: #800080; text-decoration-color: #800080; font-style: italic\">None</span><span style=\"color: #000000; text-decoration-color: #000000\">, </span>                                                       <span style=\"color: #7f7f7f; text-decoration-color: #7f7f7f\">                   </span>\n",
       "<span style=\"color: #7fbfbf; text-decoration-color: #7fbfbf\">           </span>         <span style=\"color: #808000; text-decoration-color: #808000\">custom_class</span><span style=\"color: #000000; text-decoration-color: #000000\">=</span><span style=\"color: #008000; text-decoration-color: #008000\">'ragbuilder.custom_components.CustomChunker'</span><span style=\"color: #000000; text-decoration-color: #000000; font-weight: bold\">)</span><span style=\"color: #000000; text-decoration-color: #000000\">, </span>                <span style=\"color: #7f7f7f; text-decoration-color: #7f7f7f\">                   </span>\n",
       "<span style=\"color: #7fbfbf; text-decoration-color: #7fbfbf\">           </span>         <span style=\"color: #008000; text-decoration-color: #008000\">'chunk_overlap'</span><span style=\"color: #000000; text-decoration-color: #000000\">: </span><span style=\"color: #008080; text-decoration-color: #008080; font-weight: bold\">100</span><span style=\"color: #000000; text-decoration-color: #000000\">, </span><span style=\"color: #008000; text-decoration-color: #008000\">'chunk_size'</span><span style=\"color: #000000; text-decoration-color: #000000\">: </span><span style=\"color: #008080; text-decoration-color: #008080; font-weight: bold\">500</span><span style=\"color: #000000; text-decoration-color: #000000\">, </span><span style=\"color: #008000; text-decoration-color: #008000\">'embedding_model'</span><span style=\"color: #000000; text-decoration-color: #000000\">: </span>                <span style=\"color: #7f7f7f; text-decoration-color: #7f7f7f\">                   </span>\n",
       "<span style=\"color: #7fbfbf; text-decoration-color: #7fbfbf\">           </span>         <span style=\"color: #800080; text-decoration-color: #800080; font-weight: bold\">EmbeddingConfig</span><span style=\"color: #000000; text-decoration-color: #000000; font-weight: bold\">(</span><span style=\"color: #808000; text-decoration-color: #808000\">type</span><span style=\"color: #000000; text-decoration-color: #000000\">=&lt;EmbeddingModel.HUGGINGFACE: </span><span style=\"color: #008000; text-decoration-color: #008000\">'huggingface'</span><span style=\"color: #000000; text-decoration-color: #000000\">&gt;, </span>          <span style=\"color: #7f7f7f; text-decoration-color: #7f7f7f\">                   </span>\n",
       "<span style=\"color: #7fbfbf; text-decoration-color: #7fbfbf\">           </span>         <span style=\"color: #808000; text-decoration-color: #808000\">model_kwargs</span><span style=\"color: #000000; text-decoration-color: #000000\">=</span><span style=\"color: #000000; text-decoration-color: #000000; font-weight: bold\">{</span><span style=\"color: #008000; text-decoration-color: #008000\">'model_name'</span><span style=\"color: #000000; text-decoration-color: #000000\">: </span><span style=\"color: #008000; text-decoration-color: #008000\">'mixedbread-ai/mxbai-embed-large-v1'</span><span style=\"color: #000000; text-decoration-color: #000000; font-weight: bold\">}</span><span style=\"color: #000000; text-decoration-color: #000000\">, </span>         <span style=\"color: #7f7f7f; text-decoration-color: #7f7f7f\">                   </span>\n",
       "<span style=\"color: #7fbfbf; text-decoration-color: #7fbfbf\">           </span>         <span style=\"color: #808000; text-decoration-color: #808000\">custom_class</span><span style=\"color: #000000; text-decoration-color: #000000\">=</span><span style=\"color: #800080; text-decoration-color: #800080; font-style: italic\">None</span><span style=\"color: #000000; text-decoration-color: #000000; font-weight: bold\">)</span><span style=\"color: #000000; text-decoration-color: #000000\">, </span><span style=\"color: #008000; text-decoration-color: #008000\">'vector_database'</span><span style=\"color: #000000; text-decoration-color: #000000\">: </span>                                     <span style=\"color: #7f7f7f; text-decoration-color: #7f7f7f\">                   </span>\n",
       "<span style=\"color: #7fbfbf; text-decoration-color: #7fbfbf\">           </span>         <span style=\"color: #800080; text-decoration-color: #800080; font-weight: bold\">VectorDBConfig</span><span style=\"color: #000000; text-decoration-color: #000000; font-weight: bold\">(</span><span style=\"color: #808000; text-decoration-color: #808000\">type</span><span style=\"color: #000000; text-decoration-color: #000000\">=&lt;VectorDatabase.CHROMA: </span><span style=\"color: #008000; text-decoration-color: #008000\">'chroma'</span><span style=\"font-weight: bold\">&gt;</span>,                      <span style=\"color: #7f7f7f; text-decoration-color: #7f7f7f\">                   </span>\n",
       "<span style=\"color: #7fbfbf; text-decoration-color: #7fbfbf\">           </span>         <span style=\"color: #808000; text-decoration-color: #808000\">vectordb_kwargs</span>=<span style=\"font-weight: bold\">{</span><span style=\"color: #008000; text-decoration-color: #008000\">'persist_directory'</span>: <span style=\"color: #008000; text-decoration-color: #008000\">'chroma_sample2/10'</span>,                  <span style=\"color: #7f7f7f; text-decoration-color: #7f7f7f\">                   </span>\n",
       "<span style=\"color: #7fbfbf; text-decoration-color: #7fbfbf\">           </span>         <span style=\"color: #008000; text-decoration-color: #008000\">'collection_metadata'</span>: <span style=\"font-weight: bold\">{</span><span style=\"color: #008000; text-decoration-color: #008000\">'hnsw:space'</span>: <span style=\"color: #008000; text-decoration-color: #008000\">'cosine'</span><span style=\"font-weight: bold\">}}</span>, <span style=\"color: #808000; text-decoration-color: #808000\">custom_class</span>=<span style=\"color: #800080; text-decoration-color: #800080; font-style: italic\">None</span><span style=\"font-weight: bold\">)</span>,       <span style=\"color: #7f7f7f; text-decoration-color: #7f7f7f\">                   </span>\n",
       "<span style=\"color: #7fbfbf; text-decoration-color: #7fbfbf\">           </span>         <span style=\"color: #008000; text-decoration-color: #008000\">'sampling_rate'</span>: <span style=\"color: #800080; text-decoration-color: #800080; font-style: italic\">None</span><span style=\"font-weight: bold\">}</span>                                                      <span style=\"color: #7f7f7f; text-decoration-color: #7f7f7f\">                   </span>\n",
       "</pre>\n"
      ],
      "text/plain": [
       "\u001b[2;36m[19:01:44]\u001b[0m\u001b[2;36m \u001b[0m\u001b[34mINFO    \u001b[0m Trial parameters: \u001b[1m{\u001b[0m\u001b[32m'input_source'\u001b[0m: \u001b[32m'uber_10k.pdf'\u001b[0m, \u001b[32m'test_dataset'\u001b[0m:          \u001b]8;id=165191;file:///Users/aravind/KruxAI/ragbuilder/src/ragbuilder/data_ingest/optimization.py\u001b\\\u001b[2moptimization.py\u001b[0m\u001b]8;;\u001b\\\u001b[2m:\u001b[0m\u001b]8;id=238442;file:///Users/aravind/KruxAI/ragbuilder/src/ragbuilder/data_ingest/optimization.py#192\u001b\\\u001b[2m192\u001b[0m\u001b]8;;\u001b\\\n",
       "\u001b[2;36m           \u001b[0m         \u001b[32m'rag_test_data_1726600284.375674 uber10k_shortlist.csv'\u001b[0m, \u001b[32m'document_loader'\u001b[0m: \u001b[2m                   \u001b[0m\n",
       "\u001b[2;36m           \u001b[0m         \u001b[1;35mLoaderConfig\u001b[0m\u001b[1m(\u001b[0m\u001b[33mtype\u001b[0m=\u001b[1m<\u001b[0m\u001b[1;95mParserType.UNSTRUCTURED:\u001b[0m\u001b[39m \u001b[0m\u001b[32m'unstructured'\u001b[0m\u001b[39m>, \u001b[0m               \u001b[2m                   \u001b[0m\n",
       "\u001b[2;36m           \u001b[0m         \u001b[33mloader_kwargs\u001b[0m\u001b[39m=\u001b[0m\u001b[3;35mNone\u001b[0m\u001b[39m, \u001b[0m\u001b[33mcustom_class\u001b[0m\u001b[39m=\u001b[0m\u001b[3;35mNone\u001b[0m\u001b[1;39m)\u001b[0m\u001b[39m, \u001b[0m\u001b[32m'chunking_strategy'\u001b[0m\u001b[39m: \u001b[0m               \u001b[2m                   \u001b[0m\n",
       "\u001b[2;36m           \u001b[0m         \u001b[1;35mChunkingStrategyConfig\u001b[0m\u001b[1;39m(\u001b[0m\u001b[33mtype\u001b[0m\u001b[39m=<ChunkingStrategy.CUSTOM: \u001b[0m\u001b[32m'custom'\u001b[0m\u001b[39m>, \u001b[0m           \u001b[2m                   \u001b[0m\n",
       "\u001b[2;36m           \u001b[0m         \u001b[33mchunker_kwargs\u001b[0m\u001b[39m=\u001b[0m\u001b[3;35mNone\u001b[0m\u001b[39m, \u001b[0m                                                       \u001b[2m                   \u001b[0m\n",
       "\u001b[2;36m           \u001b[0m         \u001b[33mcustom_class\u001b[0m\u001b[39m=\u001b[0m\u001b[32m'ragbuilder.custom_components.CustomChunker'\u001b[0m\u001b[1;39m)\u001b[0m\u001b[39m, \u001b[0m                \u001b[2m                   \u001b[0m\n",
       "\u001b[2;36m           \u001b[0m         \u001b[32m'chunk_overlap'\u001b[0m\u001b[39m: \u001b[0m\u001b[1;36m100\u001b[0m\u001b[39m, \u001b[0m\u001b[32m'chunk_size'\u001b[0m\u001b[39m: \u001b[0m\u001b[1;36m500\u001b[0m\u001b[39m, \u001b[0m\u001b[32m'embedding_model'\u001b[0m\u001b[39m: \u001b[0m                \u001b[2m                   \u001b[0m\n",
       "\u001b[2;36m           \u001b[0m         \u001b[1;35mEmbeddingConfig\u001b[0m\u001b[1;39m(\u001b[0m\u001b[33mtype\u001b[0m\u001b[39m=<EmbeddingModel.HUGGINGFACE: \u001b[0m\u001b[32m'huggingface'\u001b[0m\u001b[39m>, \u001b[0m          \u001b[2m                   \u001b[0m\n",
       "\u001b[2;36m           \u001b[0m         \u001b[33mmodel_kwargs\u001b[0m\u001b[39m=\u001b[0m\u001b[1;39m{\u001b[0m\u001b[32m'model_name'\u001b[0m\u001b[39m: \u001b[0m\u001b[32m'mixedbread-ai/mxbai-embed-large-v1'\u001b[0m\u001b[1;39m}\u001b[0m\u001b[39m, \u001b[0m         \u001b[2m                   \u001b[0m\n",
       "\u001b[2;36m           \u001b[0m         \u001b[33mcustom_class\u001b[0m\u001b[39m=\u001b[0m\u001b[3;35mNone\u001b[0m\u001b[1;39m)\u001b[0m\u001b[39m, \u001b[0m\u001b[32m'vector_database'\u001b[0m\u001b[39m: \u001b[0m                                     \u001b[2m                   \u001b[0m\n",
       "\u001b[2;36m           \u001b[0m         \u001b[1;35mVectorDBConfig\u001b[0m\u001b[1;39m(\u001b[0m\u001b[33mtype\u001b[0m\u001b[39m=<VectorDatabase.CHROMA: \u001b[0m\u001b[32m'chroma'\u001b[0m\u001b[1m>\u001b[0m,                      \u001b[2m                   \u001b[0m\n",
       "\u001b[2;36m           \u001b[0m         \u001b[33mvectordb_kwargs\u001b[0m=\u001b[1m{\u001b[0m\u001b[32m'persist_directory'\u001b[0m: \u001b[32m'chroma_sample2/10'\u001b[0m,                  \u001b[2m                   \u001b[0m\n",
       "\u001b[2;36m           \u001b[0m         \u001b[32m'collection_metadata'\u001b[0m: \u001b[1m{\u001b[0m\u001b[32m'hnsw:space'\u001b[0m: \u001b[32m'cosine'\u001b[0m\u001b[1m}\u001b[0m\u001b[1m}\u001b[0m, \u001b[33mcustom_class\u001b[0m=\u001b[3;35mNone\u001b[0m\u001b[1m)\u001b[0m,       \u001b[2m                   \u001b[0m\n",
       "\u001b[2;36m           \u001b[0m         \u001b[32m'sampling_rate'\u001b[0m: \u001b[3;35mNone\u001b[0m\u001b[1m}\u001b[0m                                                      \u001b[2m                   \u001b[0m\n"
      ]
     },
     "metadata": {},
     "output_type": "display_data"
    },
    {
     "name": "stdout",
     "output_type": "stream",
     "text": [
      "class_path:  ragbuilder.custom_components.CustomChunker\n"
     ]
    },
    {
     "data": {
      "text/html": [
       "<pre style=\"white-space:pre;overflow-x:auto;line-height:normal;font-family:Menlo,'DejaVu Sans Mono',consolas,'Courier New',monospace\"><span style=\"color: #7fbfbf; text-decoration-color: #7fbfbf\">           </span><span style=\"color: #000080; text-decoration-color: #000080\">INFO    </span> Load pretrained SentenceTransformer:                                 <a href=\"file:///opt/anaconda3/envs/ragbuilder/lib/python3.12/site-packages/sentence_transformers/SentenceTransformer.py\" target=\"_blank\"><span style=\"color: #7f7f7f; text-decoration-color: #7f7f7f\">SentenceTransformer.py</span></a><span style=\"color: #7f7f7f; text-decoration-color: #7f7f7f\">:</span><a href=\"file:///opt/anaconda3/envs/ragbuilder/lib/python3.12/site-packages/sentence_transformers/SentenceTransformer.py#113\" target=\"_blank\"><span style=\"color: #7f7f7f; text-decoration-color: #7f7f7f\">113</span></a>\n",
       "<span style=\"color: #7fbfbf; text-decoration-color: #7fbfbf\">           </span>         mixedbread-ai/mxbai-embed-large-v1                                   <span style=\"color: #7f7f7f; text-decoration-color: #7f7f7f\">                          </span>\n",
       "</pre>\n"
      ],
      "text/plain": [
       "\u001b[2;36m          \u001b[0m\u001b[2;36m \u001b[0m\u001b[34mINFO    \u001b[0m Load pretrained SentenceTransformer:                                 \u001b]8;id=641669;file:///opt/anaconda3/envs/ragbuilder/lib/python3.12/site-packages/sentence_transformers/SentenceTransformer.py\u001b\\\u001b[2mSentenceTransformer.py\u001b[0m\u001b]8;;\u001b\\\u001b[2m:\u001b[0m\u001b]8;id=391835;file:///opt/anaconda3/envs/ragbuilder/lib/python3.12/site-packages/sentence_transformers/SentenceTransformer.py#113\u001b\\\u001b[2m113\u001b[0m\u001b]8;;\u001b\\\n",
       "\u001b[2;36m           \u001b[0m         mixedbread-ai/mxbai-embed-large-v1                                   \u001b[2m                          \u001b[0m\n"
      ]
     },
     "metadata": {},
     "output_type": "display_data"
    },
    {
     "data": {
      "text/html": [
       "<pre style=\"white-space:pre;overflow-x:auto;line-height:normal;font-family:Menlo,'DejaVu Sans Mono',consolas,'Courier New',monospace\"><span style=\"color: #7fbfbf; text-decoration-color: #7fbfbf\">[19:01:48] </span><span style=\"color: #000080; text-decoration-color: #000080\">INFO    </span> Use pytorch device_name: mps                                         <a href=\"file:///opt/anaconda3/envs/ragbuilder/lib/python3.12/site-packages/sentence_transformers/SentenceTransformer.py\" target=\"_blank\"><span style=\"color: #7f7f7f; text-decoration-color: #7f7f7f\">SentenceTransformer.py</span></a><span style=\"color: #7f7f7f; text-decoration-color: #7f7f7f\">:</span><a href=\"file:///opt/anaconda3/envs/ragbuilder/lib/python3.12/site-packages/sentence_transformers/SentenceTransformer.py#219\" target=\"_blank\"><span style=\"color: #7f7f7f; text-decoration-color: #7f7f7f\">219</span></a>\n",
       "</pre>\n"
      ],
      "text/plain": [
       "\u001b[2;36m[19:01:48]\u001b[0m\u001b[2;36m \u001b[0m\u001b[34mINFO    \u001b[0m Use pytorch device_name: mps                                         \u001b]8;id=221784;file:///opt/anaconda3/envs/ragbuilder/lib/python3.12/site-packages/sentence_transformers/SentenceTransformer.py\u001b\\\u001b[2mSentenceTransformer.py\u001b[0m\u001b]8;;\u001b\\\u001b[2m:\u001b[0m\u001b]8;id=189233;file:///opt/anaconda3/envs/ragbuilder/lib/python3.12/site-packages/sentence_transformers/SentenceTransformer.py#219\u001b\\\u001b[2m219\u001b[0m\u001b]8;;\u001b\\\n"
      ]
     },
     "metadata": {},
     "output_type": "display_data"
    },
    {
     "data": {
      "text/html": [
       "<pre style=\"white-space:pre;overflow-x:auto;line-height:normal;font-family:Menlo,'DejaVu Sans Mono',consolas,'Courier New',monospace\"><span style=\"color: #7fbfbf; text-decoration-color: #7fbfbf\">[19:01:49] </span><span style=\"color: #000080; text-decoration-color: #000080\">INFO    </span> <span style=\"color: #008080; text-decoration-color: #008080; font-weight: bold\">2</span> prompts are loaded, with the keys: <span style=\"font-weight: bold\">[</span><span style=\"color: #008000; text-decoration-color: #008000\">'query'</span>, <span style=\"color: #008000; text-decoration-color: #008000\">'passage'</span><span style=\"font-weight: bold\">]</span>            <a href=\"file:///opt/anaconda3/envs/ragbuilder/lib/python3.12/site-packages/sentence_transformers/SentenceTransformer.py\" target=\"_blank\"><span style=\"color: #7f7f7f; text-decoration-color: #7f7f7f\">SentenceTransformer.py</span></a><span style=\"color: #7f7f7f; text-decoration-color: #7f7f7f\">:</span><a href=\"file:///opt/anaconda3/envs/ragbuilder/lib/python3.12/site-packages/sentence_transformers/SentenceTransformer.py#231\" target=\"_blank\"><span style=\"color: #7f7f7f; text-decoration-color: #7f7f7f\">231</span></a>\n",
       "</pre>\n"
      ],
      "text/plain": [
       "\u001b[2;36m[19:01:49]\u001b[0m\u001b[2;36m \u001b[0m\u001b[34mINFO    \u001b[0m \u001b[1;36m2\u001b[0m prompts are loaded, with the keys: \u001b[1m[\u001b[0m\u001b[32m'query'\u001b[0m, \u001b[32m'passage'\u001b[0m\u001b[1m]\u001b[0m            \u001b]8;id=227183;file:///opt/anaconda3/envs/ragbuilder/lib/python3.12/site-packages/sentence_transformers/SentenceTransformer.py\u001b\\\u001b[2mSentenceTransformer.py\u001b[0m\u001b]8;;\u001b\\\u001b[2m:\u001b[0m\u001b]8;id=776098;file:///opt/anaconda3/envs/ragbuilder/lib/python3.12/site-packages/sentence_transformers/SentenceTransformer.py#231\u001b\\\u001b[2m231\u001b[0m\u001b]8;;\u001b\\\n"
      ]
     },
     "metadata": {},
     "output_type": "display_data"
    },
    {
     "data": {
      "application/vnd.jupyter.widget-view+json": {
       "model_id": "35e4e7843f3c427e8a2739efb9f0cf13",
       "version_major": 2,
       "version_minor": 0
      },
      "text/plain": [
       "Output()"
      ]
     },
     "metadata": {},
     "output_type": "display_data"
    },
    {
     "data": {
      "text/html": [
       "<pre style=\"white-space:pre;overflow-x:auto;line-height:normal;font-family:Menlo,'DejaVu Sans Mono',consolas,'Courier New',monospace\"><span style=\"color: #008000; text-decoration-color: #008000\">✓ Pipeline execution complete!</span>\n",
       "</pre>\n"
      ],
      "text/plain": [
       "\u001b[32m✓ Pipeline execution complete!\u001b[0m\n"
      ]
     },
     "metadata": {},
     "output_type": "display_data"
    },
    {
     "data": {
      "text/html": [
       "<pre style=\"white-space:pre;overflow-x:auto;line-height:normal;font-family:Menlo,'DejaVu Sans Mono',consolas,'Courier New',monospace\"></pre>\n"
      ],
      "text/plain": []
     },
     "metadata": {},
     "output_type": "display_data"
    },
    {
     "data": {
      "text/html": [
       "<pre style=\"white-space:pre;overflow-x:auto;line-height:normal;font-family:Menlo,'DejaVu Sans Mono',consolas,'Courier New',monospace\"><span style=\"color: #008000; text-decoration-color: #008000\">Trial Score:</span> <span style=\"color: #00ffff; text-decoration-color: #00ffff; font-weight: bold\">0.8277</span>\n",
       "</pre>\n"
      ],
      "text/plain": [
       "\u001b[32mTrial Score:\u001b[0m \u001b[1;96m0.8277\u001b[0m\n"
      ]
     },
     "metadata": {},
     "output_type": "display_data"
    },
    {
     "name": "stdout",
     "output_type": "stream",
     "text": [
      "[I 2024-11-12 19:02:54,705] Trial 10 finished with value: 0.827746057321155 and parameters: {'document_loader_index': 1, 'chunking_strategy_index': 1, 'chunk_size': 500, 'embedding_model_index': 0}. Best is trial 8 with value: 0.8365160075003434.\n"
     ]
    },
    {
     "data": {
      "text/html": [
       "<pre style=\"white-space:pre;overflow-x:auto;line-height:normal;font-family:Menlo,'DejaVu Sans Mono',consolas,'Courier New',monospace\"><span style=\"color: #005fff; text-decoration-color: #005fff; font-weight: bold\">Trial </span><span style=\"color: #005fff; text-decoration-color: #005fff; font-weight: bold\">11</span><span style=\"color: #005fff; text-decoration-color: #005fff; font-weight: bold\">/</span><span style=\"color: #005fff; text-decoration-color: #005fff; font-weight: bold\">29</span>\n",
       "</pre>\n"
      ],
      "text/plain": [
       "\u001b[1;38;5;27mTrial \u001b[0m\u001b[1;38;5;27m11\u001b[0m\u001b[1;38;5;27m/\u001b[0m\u001b[1;38;5;27m29\u001b[0m\n"
      ]
     },
     "metadata": {},
     "output_type": "display_data"
    },
    {
     "data": {
      "text/html": [
       "<pre style=\"white-space:pre;overflow-x:auto;line-height:normal;font-family:Menlo,'DejaVu Sans Mono',consolas,'Courier New',monospace\"><span style=\"color: #7fbfbf; text-decoration-color: #7fbfbf\">[19:02:54] </span><span style=\"color: #000080; text-decoration-color: #000080\">INFO    </span> Trial parameters: <span style=\"font-weight: bold\">{</span><span style=\"color: #008000; text-decoration-color: #008000\">'input_source'</span>: <span style=\"color: #008000; text-decoration-color: #008000\">'uber_10k.pdf'</span>, <span style=\"color: #008000; text-decoration-color: #008000\">'test_dataset'</span>:          <a href=\"file:///Users/aravind/KruxAI/ragbuilder/src/ragbuilder/data_ingest/optimization.py\" target=\"_blank\"><span style=\"color: #7f7f7f; text-decoration-color: #7f7f7f\">optimization.py</span></a><span style=\"color: #7f7f7f; text-decoration-color: #7f7f7f\">:</span><a href=\"file:///Users/aravind/KruxAI/ragbuilder/src/ragbuilder/data_ingest/optimization.py#192\" target=\"_blank\"><span style=\"color: #7f7f7f; text-decoration-color: #7f7f7f\">192</span></a>\n",
       "<span style=\"color: #7fbfbf; text-decoration-color: #7fbfbf\">           </span>         <span style=\"color: #008000; text-decoration-color: #008000\">'rag_test_data_1726600284.375674 uber10k_shortlist.csv'</span>, <span style=\"color: #008000; text-decoration-color: #008000\">'document_loader'</span>: <span style=\"color: #7f7f7f; text-decoration-color: #7f7f7f\">                   </span>\n",
       "<span style=\"color: #7fbfbf; text-decoration-color: #7fbfbf\">           </span>         <span style=\"color: #800080; text-decoration-color: #800080; font-weight: bold\">LoaderConfig</span><span style=\"font-weight: bold\">(</span><span style=\"color: #808000; text-decoration-color: #808000\">type</span>=<span style=\"font-weight: bold\">&lt;</span><span style=\"color: #ff00ff; text-decoration-color: #ff00ff; font-weight: bold\">ParserType.UNSTRUCTURED:</span><span style=\"color: #000000; text-decoration-color: #000000\"> </span><span style=\"color: #008000; text-decoration-color: #008000\">'unstructured'</span><span style=\"color: #000000; text-decoration-color: #000000\">&gt;, </span>               <span style=\"color: #7f7f7f; text-decoration-color: #7f7f7f\">                   </span>\n",
       "<span style=\"color: #7fbfbf; text-decoration-color: #7fbfbf\">           </span>         <span style=\"color: #808000; text-decoration-color: #808000\">loader_kwargs</span><span style=\"color: #000000; text-decoration-color: #000000\">=</span><span style=\"color: #800080; text-decoration-color: #800080; font-style: italic\">None</span><span style=\"color: #000000; text-decoration-color: #000000\">, </span><span style=\"color: #808000; text-decoration-color: #808000\">custom_class</span><span style=\"color: #000000; text-decoration-color: #000000\">=</span><span style=\"color: #800080; text-decoration-color: #800080; font-style: italic\">None</span><span style=\"color: #000000; text-decoration-color: #000000; font-weight: bold\">)</span><span style=\"color: #000000; text-decoration-color: #000000\">, </span><span style=\"color: #008000; text-decoration-color: #008000\">'chunking_strategy'</span><span style=\"color: #000000; text-decoration-color: #000000\">: </span>               <span style=\"color: #7f7f7f; text-decoration-color: #7f7f7f\">                   </span>\n",
       "<span style=\"color: #7fbfbf; text-decoration-color: #7fbfbf\">           </span>         <span style=\"color: #800080; text-decoration-color: #800080; font-weight: bold\">ChunkingStrategyConfig</span><span style=\"color: #000000; text-decoration-color: #000000; font-weight: bold\">(</span><span style=\"color: #808000; text-decoration-color: #808000\">type</span><span style=\"color: #000000; text-decoration-color: #000000\">=&lt;ChunkingStrategy.CUSTOM: </span><span style=\"color: #008000; text-decoration-color: #008000\">'custom'</span><span style=\"color: #000000; text-decoration-color: #000000\">&gt;, </span>           <span style=\"color: #7f7f7f; text-decoration-color: #7f7f7f\">                   </span>\n",
       "<span style=\"color: #7fbfbf; text-decoration-color: #7fbfbf\">           </span>         <span style=\"color: #808000; text-decoration-color: #808000\">chunker_kwargs</span><span style=\"color: #000000; text-decoration-color: #000000\">=</span><span style=\"color: #800080; text-decoration-color: #800080; font-style: italic\">None</span><span style=\"color: #000000; text-decoration-color: #000000\">, </span>                                                       <span style=\"color: #7f7f7f; text-decoration-color: #7f7f7f\">                   </span>\n",
       "<span style=\"color: #7fbfbf; text-decoration-color: #7fbfbf\">           </span>         <span style=\"color: #808000; text-decoration-color: #808000\">custom_class</span><span style=\"color: #000000; text-decoration-color: #000000\">=</span><span style=\"color: #008000; text-decoration-color: #008000\">'ragbuilder.custom_components.CustomChunker'</span><span style=\"color: #000000; text-decoration-color: #000000; font-weight: bold\">)</span><span style=\"color: #000000; text-decoration-color: #000000\">, </span>                <span style=\"color: #7f7f7f; text-decoration-color: #7f7f7f\">                   </span>\n",
       "<span style=\"color: #7fbfbf; text-decoration-color: #7fbfbf\">           </span>         <span style=\"color: #008000; text-decoration-color: #008000\">'chunk_overlap'</span><span style=\"color: #000000; text-decoration-color: #000000\">: </span><span style=\"color: #008080; text-decoration-color: #008080; font-weight: bold\">100</span><span style=\"color: #000000; text-decoration-color: #000000\">, </span><span style=\"color: #008000; text-decoration-color: #008000\">'chunk_size'</span><span style=\"color: #000000; text-decoration-color: #000000\">: </span><span style=\"color: #008080; text-decoration-color: #008080; font-weight: bold\">500</span><span style=\"color: #000000; text-decoration-color: #000000\">, </span><span style=\"color: #008000; text-decoration-color: #008000\">'embedding_model'</span><span style=\"color: #000000; text-decoration-color: #000000\">: </span>                <span style=\"color: #7f7f7f; text-decoration-color: #7f7f7f\">                   </span>\n",
       "<span style=\"color: #7fbfbf; text-decoration-color: #7fbfbf\">           </span>         <span style=\"color: #800080; text-decoration-color: #800080; font-weight: bold\">EmbeddingConfig</span><span style=\"color: #000000; text-decoration-color: #000000; font-weight: bold\">(</span><span style=\"color: #808000; text-decoration-color: #808000\">type</span><span style=\"color: #000000; text-decoration-color: #000000\">=&lt;EmbeddingModel.HUGGINGFACE: </span><span style=\"color: #008000; text-decoration-color: #008000\">'huggingface'</span><span style=\"color: #000000; text-decoration-color: #000000\">&gt;, </span>          <span style=\"color: #7f7f7f; text-decoration-color: #7f7f7f\">                   </span>\n",
       "<span style=\"color: #7fbfbf; text-decoration-color: #7fbfbf\">           </span>         <span style=\"color: #808000; text-decoration-color: #808000\">model_kwargs</span><span style=\"color: #000000; text-decoration-color: #000000\">=</span><span style=\"color: #000000; text-decoration-color: #000000; font-weight: bold\">{</span><span style=\"color: #008000; text-decoration-color: #008000\">'model_name'</span><span style=\"color: #000000; text-decoration-color: #000000\">: </span><span style=\"color: #008000; text-decoration-color: #008000\">'mixedbread-ai/mxbai-embed-large-v1'</span><span style=\"color: #000000; text-decoration-color: #000000; font-weight: bold\">}</span><span style=\"color: #000000; text-decoration-color: #000000\">, </span>         <span style=\"color: #7f7f7f; text-decoration-color: #7f7f7f\">                   </span>\n",
       "<span style=\"color: #7fbfbf; text-decoration-color: #7fbfbf\">           </span>         <span style=\"color: #808000; text-decoration-color: #808000\">custom_class</span><span style=\"color: #000000; text-decoration-color: #000000\">=</span><span style=\"color: #800080; text-decoration-color: #800080; font-style: italic\">None</span><span style=\"color: #000000; text-decoration-color: #000000; font-weight: bold\">)</span><span style=\"color: #000000; text-decoration-color: #000000\">, </span><span style=\"color: #008000; text-decoration-color: #008000\">'vector_database'</span><span style=\"color: #000000; text-decoration-color: #000000\">: </span>                                     <span style=\"color: #7f7f7f; text-decoration-color: #7f7f7f\">                   </span>\n",
       "<span style=\"color: #7fbfbf; text-decoration-color: #7fbfbf\">           </span>         <span style=\"color: #800080; text-decoration-color: #800080; font-weight: bold\">VectorDBConfig</span><span style=\"color: #000000; text-decoration-color: #000000; font-weight: bold\">(</span><span style=\"color: #808000; text-decoration-color: #808000\">type</span><span style=\"color: #000000; text-decoration-color: #000000\">=&lt;VectorDatabase.CHROMA: </span><span style=\"color: #008000; text-decoration-color: #008000\">'chroma'</span><span style=\"font-weight: bold\">&gt;</span>,                      <span style=\"color: #7f7f7f; text-decoration-color: #7f7f7f\">                   </span>\n",
       "<span style=\"color: #7fbfbf; text-decoration-color: #7fbfbf\">           </span>         <span style=\"color: #808000; text-decoration-color: #808000\">vectordb_kwargs</span>=<span style=\"font-weight: bold\">{</span><span style=\"color: #008000; text-decoration-color: #008000\">'persist_directory'</span>: <span style=\"color: #008000; text-decoration-color: #008000\">'chroma_sample2/11'</span>,                  <span style=\"color: #7f7f7f; text-decoration-color: #7f7f7f\">                   </span>\n",
       "<span style=\"color: #7fbfbf; text-decoration-color: #7fbfbf\">           </span>         <span style=\"color: #008000; text-decoration-color: #008000\">'collection_metadata'</span>: <span style=\"font-weight: bold\">{</span><span style=\"color: #008000; text-decoration-color: #008000\">'hnsw:space'</span>: <span style=\"color: #008000; text-decoration-color: #008000\">'cosine'</span><span style=\"font-weight: bold\">}}</span>, <span style=\"color: #808000; text-decoration-color: #808000\">custom_class</span>=<span style=\"color: #800080; text-decoration-color: #800080; font-style: italic\">None</span><span style=\"font-weight: bold\">)</span>,       <span style=\"color: #7f7f7f; text-decoration-color: #7f7f7f\">                   </span>\n",
       "<span style=\"color: #7fbfbf; text-decoration-color: #7fbfbf\">           </span>         <span style=\"color: #008000; text-decoration-color: #008000\">'sampling_rate'</span>: <span style=\"color: #800080; text-decoration-color: #800080; font-style: italic\">None</span><span style=\"font-weight: bold\">}</span>                                                      <span style=\"color: #7f7f7f; text-decoration-color: #7f7f7f\">                   </span>\n",
       "</pre>\n"
      ],
      "text/plain": [
       "\u001b[2;36m[19:02:54]\u001b[0m\u001b[2;36m \u001b[0m\u001b[34mINFO    \u001b[0m Trial parameters: \u001b[1m{\u001b[0m\u001b[32m'input_source'\u001b[0m: \u001b[32m'uber_10k.pdf'\u001b[0m, \u001b[32m'test_dataset'\u001b[0m:          \u001b]8;id=453699;file:///Users/aravind/KruxAI/ragbuilder/src/ragbuilder/data_ingest/optimization.py\u001b\\\u001b[2moptimization.py\u001b[0m\u001b]8;;\u001b\\\u001b[2m:\u001b[0m\u001b]8;id=565473;file:///Users/aravind/KruxAI/ragbuilder/src/ragbuilder/data_ingest/optimization.py#192\u001b\\\u001b[2m192\u001b[0m\u001b]8;;\u001b\\\n",
       "\u001b[2;36m           \u001b[0m         \u001b[32m'rag_test_data_1726600284.375674 uber10k_shortlist.csv'\u001b[0m, \u001b[32m'document_loader'\u001b[0m: \u001b[2m                   \u001b[0m\n",
       "\u001b[2;36m           \u001b[0m         \u001b[1;35mLoaderConfig\u001b[0m\u001b[1m(\u001b[0m\u001b[33mtype\u001b[0m=\u001b[1m<\u001b[0m\u001b[1;95mParserType.UNSTRUCTURED:\u001b[0m\u001b[39m \u001b[0m\u001b[32m'unstructured'\u001b[0m\u001b[39m>, \u001b[0m               \u001b[2m                   \u001b[0m\n",
       "\u001b[2;36m           \u001b[0m         \u001b[33mloader_kwargs\u001b[0m\u001b[39m=\u001b[0m\u001b[3;35mNone\u001b[0m\u001b[39m, \u001b[0m\u001b[33mcustom_class\u001b[0m\u001b[39m=\u001b[0m\u001b[3;35mNone\u001b[0m\u001b[1;39m)\u001b[0m\u001b[39m, \u001b[0m\u001b[32m'chunking_strategy'\u001b[0m\u001b[39m: \u001b[0m               \u001b[2m                   \u001b[0m\n",
       "\u001b[2;36m           \u001b[0m         \u001b[1;35mChunkingStrategyConfig\u001b[0m\u001b[1;39m(\u001b[0m\u001b[33mtype\u001b[0m\u001b[39m=<ChunkingStrategy.CUSTOM: \u001b[0m\u001b[32m'custom'\u001b[0m\u001b[39m>, \u001b[0m           \u001b[2m                   \u001b[0m\n",
       "\u001b[2;36m           \u001b[0m         \u001b[33mchunker_kwargs\u001b[0m\u001b[39m=\u001b[0m\u001b[3;35mNone\u001b[0m\u001b[39m, \u001b[0m                                                       \u001b[2m                   \u001b[0m\n",
       "\u001b[2;36m           \u001b[0m         \u001b[33mcustom_class\u001b[0m\u001b[39m=\u001b[0m\u001b[32m'ragbuilder.custom_components.CustomChunker'\u001b[0m\u001b[1;39m)\u001b[0m\u001b[39m, \u001b[0m                \u001b[2m                   \u001b[0m\n",
       "\u001b[2;36m           \u001b[0m         \u001b[32m'chunk_overlap'\u001b[0m\u001b[39m: \u001b[0m\u001b[1;36m100\u001b[0m\u001b[39m, \u001b[0m\u001b[32m'chunk_size'\u001b[0m\u001b[39m: \u001b[0m\u001b[1;36m500\u001b[0m\u001b[39m, \u001b[0m\u001b[32m'embedding_model'\u001b[0m\u001b[39m: \u001b[0m                \u001b[2m                   \u001b[0m\n",
       "\u001b[2;36m           \u001b[0m         \u001b[1;35mEmbeddingConfig\u001b[0m\u001b[1;39m(\u001b[0m\u001b[33mtype\u001b[0m\u001b[39m=<EmbeddingModel.HUGGINGFACE: \u001b[0m\u001b[32m'huggingface'\u001b[0m\u001b[39m>, \u001b[0m          \u001b[2m                   \u001b[0m\n",
       "\u001b[2;36m           \u001b[0m         \u001b[33mmodel_kwargs\u001b[0m\u001b[39m=\u001b[0m\u001b[1;39m{\u001b[0m\u001b[32m'model_name'\u001b[0m\u001b[39m: \u001b[0m\u001b[32m'mixedbread-ai/mxbai-embed-large-v1'\u001b[0m\u001b[1;39m}\u001b[0m\u001b[39m, \u001b[0m         \u001b[2m                   \u001b[0m\n",
       "\u001b[2;36m           \u001b[0m         \u001b[33mcustom_class\u001b[0m\u001b[39m=\u001b[0m\u001b[3;35mNone\u001b[0m\u001b[1;39m)\u001b[0m\u001b[39m, \u001b[0m\u001b[32m'vector_database'\u001b[0m\u001b[39m: \u001b[0m                                     \u001b[2m                   \u001b[0m\n",
       "\u001b[2;36m           \u001b[0m         \u001b[1;35mVectorDBConfig\u001b[0m\u001b[1;39m(\u001b[0m\u001b[33mtype\u001b[0m\u001b[39m=<VectorDatabase.CHROMA: \u001b[0m\u001b[32m'chroma'\u001b[0m\u001b[1m>\u001b[0m,                      \u001b[2m                   \u001b[0m\n",
       "\u001b[2;36m           \u001b[0m         \u001b[33mvectordb_kwargs\u001b[0m=\u001b[1m{\u001b[0m\u001b[32m'persist_directory'\u001b[0m: \u001b[32m'chroma_sample2/11'\u001b[0m,                  \u001b[2m                   \u001b[0m\n",
       "\u001b[2;36m           \u001b[0m         \u001b[32m'collection_metadata'\u001b[0m: \u001b[1m{\u001b[0m\u001b[32m'hnsw:space'\u001b[0m: \u001b[32m'cosine'\u001b[0m\u001b[1m}\u001b[0m\u001b[1m}\u001b[0m, \u001b[33mcustom_class\u001b[0m=\u001b[3;35mNone\u001b[0m\u001b[1m)\u001b[0m,       \u001b[2m                   \u001b[0m\n",
       "\u001b[2;36m           \u001b[0m         \u001b[32m'sampling_rate'\u001b[0m: \u001b[3;35mNone\u001b[0m\u001b[1m}\u001b[0m                                                      \u001b[2m                   \u001b[0m\n"
      ]
     },
     "metadata": {},
     "output_type": "display_data"
    },
    {
     "data": {
      "text/html": [
       "<pre style=\"white-space:pre;overflow-x:auto;line-height:normal;font-family:Menlo,'DejaVu Sans Mono',consolas,'Courier New',monospace\"><span style=\"color: #7fbfbf; text-decoration-color: #7fbfbf\">           </span><span style=\"color: #000080; text-decoration-color: #000080\">INFO    </span> Config already evaluated with score: <span style=\"color: #008080; text-decoration-color: #008080; font-weight: bold\">0.827746057321155</span>                       <a href=\"file:///Users/aravind/KruxAI/ragbuilder/src/ragbuilder/data_ingest/optimization.py\" target=\"_blank\"><span style=\"color: #7f7f7f; text-decoration-color: #7f7f7f\">optimization.py</span></a><span style=\"color: #7f7f7f; text-decoration-color: #7f7f7f\">:</span><a href=\"file:///Users/aravind/KruxAI/ragbuilder/src/ragbuilder/data_ingest/optimization.py#63\" target=\"_blank\"><span style=\"color: #7f7f7f; text-decoration-color: #7f7f7f\">63</span></a>\n",
       "</pre>\n"
      ],
      "text/plain": [
       "\u001b[2;36m          \u001b[0m\u001b[2;36m \u001b[0m\u001b[34mINFO    \u001b[0m Config already evaluated with score: \u001b[1;36m0.827746057321155\u001b[0m                       \u001b]8;id=981380;file:///Users/aravind/KruxAI/ragbuilder/src/ragbuilder/data_ingest/optimization.py\u001b\\\u001b[2moptimization.py\u001b[0m\u001b]8;;\u001b\\\u001b[2m:\u001b[0m\u001b]8;id=769426;file:///Users/aravind/KruxAI/ragbuilder/src/ragbuilder/data_ingest/optimization.py#63\u001b\\\u001b[2m63\u001b[0m\u001b]8;;\u001b\\\n"
      ]
     },
     "metadata": {},
     "output_type": "display_data"
    },
    {
     "name": "stdout",
     "output_type": "stream",
     "text": [
      "[I 2024-11-12 19:02:54,748] Trial 11 finished with value: 0.827746057321155 and parameters: {'document_loader_index': 1, 'chunking_strategy_index': 1, 'chunk_size': 500, 'embedding_model_index': 0}. Best is trial 8 with value: 0.8365160075003434.\n"
     ]
    },
    {
     "data": {
      "text/html": [
       "<pre style=\"white-space:pre;overflow-x:auto;line-height:normal;font-family:Menlo,'DejaVu Sans Mono',consolas,'Courier New',monospace\"><span style=\"color: #005fff; text-decoration-color: #005fff; font-weight: bold\">Trial </span><span style=\"color: #005fff; text-decoration-color: #005fff; font-weight: bold\">12</span><span style=\"color: #005fff; text-decoration-color: #005fff; font-weight: bold\">/</span><span style=\"color: #005fff; text-decoration-color: #005fff; font-weight: bold\">29</span>\n",
       "</pre>\n"
      ],
      "text/plain": [
       "\u001b[1;38;5;27mTrial \u001b[0m\u001b[1;38;5;27m12\u001b[0m\u001b[1;38;5;27m/\u001b[0m\u001b[1;38;5;27m29\u001b[0m\n"
      ]
     },
     "metadata": {},
     "output_type": "display_data"
    },
    {
     "data": {
      "text/html": [
       "<pre style=\"white-space:pre;overflow-x:auto;line-height:normal;font-family:Menlo,'DejaVu Sans Mono',consolas,'Courier New',monospace\"><span style=\"color: #7fbfbf; text-decoration-color: #7fbfbf\">           </span><span style=\"color: #000080; text-decoration-color: #000080\">INFO    </span> Trial parameters: <span style=\"font-weight: bold\">{</span><span style=\"color: #008000; text-decoration-color: #008000\">'input_source'</span>: <span style=\"color: #008000; text-decoration-color: #008000\">'uber_10k.pdf'</span>, <span style=\"color: #008000; text-decoration-color: #008000\">'test_dataset'</span>:          <a href=\"file:///Users/aravind/KruxAI/ragbuilder/src/ragbuilder/data_ingest/optimization.py\" target=\"_blank\"><span style=\"color: #7f7f7f; text-decoration-color: #7f7f7f\">optimization.py</span></a><span style=\"color: #7f7f7f; text-decoration-color: #7f7f7f\">:</span><a href=\"file:///Users/aravind/KruxAI/ragbuilder/src/ragbuilder/data_ingest/optimization.py#192\" target=\"_blank\"><span style=\"color: #7f7f7f; text-decoration-color: #7f7f7f\">192</span></a>\n",
       "<span style=\"color: #7fbfbf; text-decoration-color: #7fbfbf\">           </span>         <span style=\"color: #008000; text-decoration-color: #008000\">'rag_test_data_1726600284.375674 uber10k_shortlist.csv'</span>, <span style=\"color: #008000; text-decoration-color: #008000\">'document_loader'</span>: <span style=\"color: #7f7f7f; text-decoration-color: #7f7f7f\">                   </span>\n",
       "<span style=\"color: #7fbfbf; text-decoration-color: #7fbfbf\">           </span>         <span style=\"color: #800080; text-decoration-color: #800080; font-weight: bold\">LoaderConfig</span><span style=\"font-weight: bold\">(</span><span style=\"color: #808000; text-decoration-color: #808000\">type</span>=<span style=\"font-weight: bold\">&lt;</span><span style=\"color: #ff00ff; text-decoration-color: #ff00ff; font-weight: bold\">ParserType.UNSTRUCTURED:</span><span style=\"color: #000000; text-decoration-color: #000000\"> </span><span style=\"color: #008000; text-decoration-color: #008000\">'unstructured'</span><span style=\"color: #000000; text-decoration-color: #000000\">&gt;, </span>               <span style=\"color: #7f7f7f; text-decoration-color: #7f7f7f\">                   </span>\n",
       "<span style=\"color: #7fbfbf; text-decoration-color: #7fbfbf\">           </span>         <span style=\"color: #808000; text-decoration-color: #808000\">loader_kwargs</span><span style=\"color: #000000; text-decoration-color: #000000\">=</span><span style=\"color: #800080; text-decoration-color: #800080; font-style: italic\">None</span><span style=\"color: #000000; text-decoration-color: #000000\">, </span><span style=\"color: #808000; text-decoration-color: #808000\">custom_class</span><span style=\"color: #000000; text-decoration-color: #000000\">=</span><span style=\"color: #800080; text-decoration-color: #800080; font-style: italic\">None</span><span style=\"color: #000000; text-decoration-color: #000000; font-weight: bold\">)</span><span style=\"color: #000000; text-decoration-color: #000000\">, </span><span style=\"color: #008000; text-decoration-color: #008000\">'chunking_strategy'</span><span style=\"color: #000000; text-decoration-color: #000000\">: </span>               <span style=\"color: #7f7f7f; text-decoration-color: #7f7f7f\">                   </span>\n",
       "<span style=\"color: #7fbfbf; text-decoration-color: #7fbfbf\">           </span>         <span style=\"color: #800080; text-decoration-color: #800080; font-weight: bold\">ChunkingStrategyConfig</span><span style=\"color: #000000; text-decoration-color: #000000; font-weight: bold\">(</span><span style=\"color: #808000; text-decoration-color: #808000\">type</span><span style=\"color: #000000; text-decoration-color: #000000\">=&lt;ChunkingStrategy.CUSTOM: </span><span style=\"color: #008000; text-decoration-color: #008000\">'custom'</span><span style=\"color: #000000; text-decoration-color: #000000\">&gt;, </span>           <span style=\"color: #7f7f7f; text-decoration-color: #7f7f7f\">                   </span>\n",
       "<span style=\"color: #7fbfbf; text-decoration-color: #7fbfbf\">           </span>         <span style=\"color: #808000; text-decoration-color: #808000\">chunker_kwargs</span><span style=\"color: #000000; text-decoration-color: #000000\">=</span><span style=\"color: #800080; text-decoration-color: #800080; font-style: italic\">None</span><span style=\"color: #000000; text-decoration-color: #000000\">, </span>                                                       <span style=\"color: #7f7f7f; text-decoration-color: #7f7f7f\">                   </span>\n",
       "<span style=\"color: #7fbfbf; text-decoration-color: #7fbfbf\">           </span>         <span style=\"color: #808000; text-decoration-color: #808000\">custom_class</span><span style=\"color: #000000; text-decoration-color: #000000\">=</span><span style=\"color: #008000; text-decoration-color: #008000\">'ragbuilder.custom_components.CustomChunker'</span><span style=\"color: #000000; text-decoration-color: #000000; font-weight: bold\">)</span><span style=\"color: #000000; text-decoration-color: #000000\">, </span>                <span style=\"color: #7f7f7f; text-decoration-color: #7f7f7f\">                   </span>\n",
       "<span style=\"color: #7fbfbf; text-decoration-color: #7fbfbf\">           </span>         <span style=\"color: #008000; text-decoration-color: #008000\">'chunk_overlap'</span><span style=\"color: #000000; text-decoration-color: #000000\">: </span><span style=\"color: #008080; text-decoration-color: #008080; font-weight: bold\">100</span><span style=\"color: #000000; text-decoration-color: #000000\">, </span><span style=\"color: #008000; text-decoration-color: #008000\">'chunk_size'</span><span style=\"color: #000000; text-decoration-color: #000000\">: </span><span style=\"color: #008080; text-decoration-color: #008080; font-weight: bold\">500</span><span style=\"color: #000000; text-decoration-color: #000000\">, </span><span style=\"color: #008000; text-decoration-color: #008000\">'embedding_model'</span><span style=\"color: #000000; text-decoration-color: #000000\">: </span>                <span style=\"color: #7f7f7f; text-decoration-color: #7f7f7f\">                   </span>\n",
       "<span style=\"color: #7fbfbf; text-decoration-color: #7fbfbf\">           </span>         <span style=\"color: #800080; text-decoration-color: #800080; font-weight: bold\">EmbeddingConfig</span><span style=\"color: #000000; text-decoration-color: #000000; font-weight: bold\">(</span><span style=\"color: #808000; text-decoration-color: #808000\">type</span><span style=\"color: #000000; text-decoration-color: #000000\">=&lt;EmbeddingModel.HUGGINGFACE: </span><span style=\"color: #008000; text-decoration-color: #008000\">'huggingface'</span><span style=\"color: #000000; text-decoration-color: #000000\">&gt;, </span>          <span style=\"color: #7f7f7f; text-decoration-color: #7f7f7f\">                   </span>\n",
       "<span style=\"color: #7fbfbf; text-decoration-color: #7fbfbf\">           </span>         <span style=\"color: #808000; text-decoration-color: #808000\">model_kwargs</span><span style=\"color: #000000; text-decoration-color: #000000\">=</span><span style=\"color: #000000; text-decoration-color: #000000; font-weight: bold\">{</span><span style=\"color: #008000; text-decoration-color: #008000\">'model_name'</span><span style=\"color: #000000; text-decoration-color: #000000\">: </span><span style=\"color: #008000; text-decoration-color: #008000\">'mixedbread-ai/mxbai-embed-large-v1'</span><span style=\"color: #000000; text-decoration-color: #000000; font-weight: bold\">}</span><span style=\"color: #000000; text-decoration-color: #000000\">, </span>         <span style=\"color: #7f7f7f; text-decoration-color: #7f7f7f\">                   </span>\n",
       "<span style=\"color: #7fbfbf; text-decoration-color: #7fbfbf\">           </span>         <span style=\"color: #808000; text-decoration-color: #808000\">custom_class</span><span style=\"color: #000000; text-decoration-color: #000000\">=</span><span style=\"color: #800080; text-decoration-color: #800080; font-style: italic\">None</span><span style=\"color: #000000; text-decoration-color: #000000; font-weight: bold\">)</span><span style=\"color: #000000; text-decoration-color: #000000\">, </span><span style=\"color: #008000; text-decoration-color: #008000\">'vector_database'</span><span style=\"color: #000000; text-decoration-color: #000000\">: </span>                                     <span style=\"color: #7f7f7f; text-decoration-color: #7f7f7f\">                   </span>\n",
       "<span style=\"color: #7fbfbf; text-decoration-color: #7fbfbf\">           </span>         <span style=\"color: #800080; text-decoration-color: #800080; font-weight: bold\">VectorDBConfig</span><span style=\"color: #000000; text-decoration-color: #000000; font-weight: bold\">(</span><span style=\"color: #808000; text-decoration-color: #808000\">type</span><span style=\"color: #000000; text-decoration-color: #000000\">=&lt;VectorDatabase.CHROMA: </span><span style=\"color: #008000; text-decoration-color: #008000\">'chroma'</span><span style=\"font-weight: bold\">&gt;</span>,                      <span style=\"color: #7f7f7f; text-decoration-color: #7f7f7f\">                   </span>\n",
       "<span style=\"color: #7fbfbf; text-decoration-color: #7fbfbf\">           </span>         <span style=\"color: #808000; text-decoration-color: #808000\">vectordb_kwargs</span>=<span style=\"font-weight: bold\">{</span><span style=\"color: #008000; text-decoration-color: #008000\">'persist_directory'</span>: <span style=\"color: #008000; text-decoration-color: #008000\">'chroma_sample2/12'</span>,                  <span style=\"color: #7f7f7f; text-decoration-color: #7f7f7f\">                   </span>\n",
       "<span style=\"color: #7fbfbf; text-decoration-color: #7fbfbf\">           </span>         <span style=\"color: #008000; text-decoration-color: #008000\">'collection_metadata'</span>: <span style=\"font-weight: bold\">{</span><span style=\"color: #008000; text-decoration-color: #008000\">'hnsw:space'</span>: <span style=\"color: #008000; text-decoration-color: #008000\">'cosine'</span><span style=\"font-weight: bold\">}}</span>, <span style=\"color: #808000; text-decoration-color: #808000\">custom_class</span>=<span style=\"color: #800080; text-decoration-color: #800080; font-style: italic\">None</span><span style=\"font-weight: bold\">)</span>,       <span style=\"color: #7f7f7f; text-decoration-color: #7f7f7f\">                   </span>\n",
       "<span style=\"color: #7fbfbf; text-decoration-color: #7fbfbf\">           </span>         <span style=\"color: #008000; text-decoration-color: #008000\">'sampling_rate'</span>: <span style=\"color: #800080; text-decoration-color: #800080; font-style: italic\">None</span><span style=\"font-weight: bold\">}</span>                                                      <span style=\"color: #7f7f7f; text-decoration-color: #7f7f7f\">                   </span>\n",
       "</pre>\n"
      ],
      "text/plain": [
       "\u001b[2;36m          \u001b[0m\u001b[2;36m \u001b[0m\u001b[34mINFO    \u001b[0m Trial parameters: \u001b[1m{\u001b[0m\u001b[32m'input_source'\u001b[0m: \u001b[32m'uber_10k.pdf'\u001b[0m, \u001b[32m'test_dataset'\u001b[0m:          \u001b]8;id=644063;file:///Users/aravind/KruxAI/ragbuilder/src/ragbuilder/data_ingest/optimization.py\u001b\\\u001b[2moptimization.py\u001b[0m\u001b]8;;\u001b\\\u001b[2m:\u001b[0m\u001b]8;id=868446;file:///Users/aravind/KruxAI/ragbuilder/src/ragbuilder/data_ingest/optimization.py#192\u001b\\\u001b[2m192\u001b[0m\u001b]8;;\u001b\\\n",
       "\u001b[2;36m           \u001b[0m         \u001b[32m'rag_test_data_1726600284.375674 uber10k_shortlist.csv'\u001b[0m, \u001b[32m'document_loader'\u001b[0m: \u001b[2m                   \u001b[0m\n",
       "\u001b[2;36m           \u001b[0m         \u001b[1;35mLoaderConfig\u001b[0m\u001b[1m(\u001b[0m\u001b[33mtype\u001b[0m=\u001b[1m<\u001b[0m\u001b[1;95mParserType.UNSTRUCTURED:\u001b[0m\u001b[39m \u001b[0m\u001b[32m'unstructured'\u001b[0m\u001b[39m>, \u001b[0m               \u001b[2m                   \u001b[0m\n",
       "\u001b[2;36m           \u001b[0m         \u001b[33mloader_kwargs\u001b[0m\u001b[39m=\u001b[0m\u001b[3;35mNone\u001b[0m\u001b[39m, \u001b[0m\u001b[33mcustom_class\u001b[0m\u001b[39m=\u001b[0m\u001b[3;35mNone\u001b[0m\u001b[1;39m)\u001b[0m\u001b[39m, \u001b[0m\u001b[32m'chunking_strategy'\u001b[0m\u001b[39m: \u001b[0m               \u001b[2m                   \u001b[0m\n",
       "\u001b[2;36m           \u001b[0m         \u001b[1;35mChunkingStrategyConfig\u001b[0m\u001b[1;39m(\u001b[0m\u001b[33mtype\u001b[0m\u001b[39m=<ChunkingStrategy.CUSTOM: \u001b[0m\u001b[32m'custom'\u001b[0m\u001b[39m>, \u001b[0m           \u001b[2m                   \u001b[0m\n",
       "\u001b[2;36m           \u001b[0m         \u001b[33mchunker_kwargs\u001b[0m\u001b[39m=\u001b[0m\u001b[3;35mNone\u001b[0m\u001b[39m, \u001b[0m                                                       \u001b[2m                   \u001b[0m\n",
       "\u001b[2;36m           \u001b[0m         \u001b[33mcustom_class\u001b[0m\u001b[39m=\u001b[0m\u001b[32m'ragbuilder.custom_components.CustomChunker'\u001b[0m\u001b[1;39m)\u001b[0m\u001b[39m, \u001b[0m                \u001b[2m                   \u001b[0m\n",
       "\u001b[2;36m           \u001b[0m         \u001b[32m'chunk_overlap'\u001b[0m\u001b[39m: \u001b[0m\u001b[1;36m100\u001b[0m\u001b[39m, \u001b[0m\u001b[32m'chunk_size'\u001b[0m\u001b[39m: \u001b[0m\u001b[1;36m500\u001b[0m\u001b[39m, \u001b[0m\u001b[32m'embedding_model'\u001b[0m\u001b[39m: \u001b[0m                \u001b[2m                   \u001b[0m\n",
       "\u001b[2;36m           \u001b[0m         \u001b[1;35mEmbeddingConfig\u001b[0m\u001b[1;39m(\u001b[0m\u001b[33mtype\u001b[0m\u001b[39m=<EmbeddingModel.HUGGINGFACE: \u001b[0m\u001b[32m'huggingface'\u001b[0m\u001b[39m>, \u001b[0m          \u001b[2m                   \u001b[0m\n",
       "\u001b[2;36m           \u001b[0m         \u001b[33mmodel_kwargs\u001b[0m\u001b[39m=\u001b[0m\u001b[1;39m{\u001b[0m\u001b[32m'model_name'\u001b[0m\u001b[39m: \u001b[0m\u001b[32m'mixedbread-ai/mxbai-embed-large-v1'\u001b[0m\u001b[1;39m}\u001b[0m\u001b[39m, \u001b[0m         \u001b[2m                   \u001b[0m\n",
       "\u001b[2;36m           \u001b[0m         \u001b[33mcustom_class\u001b[0m\u001b[39m=\u001b[0m\u001b[3;35mNone\u001b[0m\u001b[1;39m)\u001b[0m\u001b[39m, \u001b[0m\u001b[32m'vector_database'\u001b[0m\u001b[39m: \u001b[0m                                     \u001b[2m                   \u001b[0m\n",
       "\u001b[2;36m           \u001b[0m         \u001b[1;35mVectorDBConfig\u001b[0m\u001b[1;39m(\u001b[0m\u001b[33mtype\u001b[0m\u001b[39m=<VectorDatabase.CHROMA: \u001b[0m\u001b[32m'chroma'\u001b[0m\u001b[1m>\u001b[0m,                      \u001b[2m                   \u001b[0m\n",
       "\u001b[2;36m           \u001b[0m         \u001b[33mvectordb_kwargs\u001b[0m=\u001b[1m{\u001b[0m\u001b[32m'persist_directory'\u001b[0m: \u001b[32m'chroma_sample2/12'\u001b[0m,                  \u001b[2m                   \u001b[0m\n",
       "\u001b[2;36m           \u001b[0m         \u001b[32m'collection_metadata'\u001b[0m: \u001b[1m{\u001b[0m\u001b[32m'hnsw:space'\u001b[0m: \u001b[32m'cosine'\u001b[0m\u001b[1m}\u001b[0m\u001b[1m}\u001b[0m, \u001b[33mcustom_class\u001b[0m=\u001b[3;35mNone\u001b[0m\u001b[1m)\u001b[0m,       \u001b[2m                   \u001b[0m\n",
       "\u001b[2;36m           \u001b[0m         \u001b[32m'sampling_rate'\u001b[0m: \u001b[3;35mNone\u001b[0m\u001b[1m}\u001b[0m                                                      \u001b[2m                   \u001b[0m\n"
      ]
     },
     "metadata": {},
     "output_type": "display_data"
    },
    {
     "data": {
      "text/html": [
       "<pre style=\"white-space:pre;overflow-x:auto;line-height:normal;font-family:Menlo,'DejaVu Sans Mono',consolas,'Courier New',monospace\"><span style=\"color: #7fbfbf; text-decoration-color: #7fbfbf\">           </span><span style=\"color: #000080; text-decoration-color: #000080\">INFO    </span> Config already evaluated with score: <span style=\"color: #008080; text-decoration-color: #008080; font-weight: bold\">0.827746057321155</span>                       <a href=\"file:///Users/aravind/KruxAI/ragbuilder/src/ragbuilder/data_ingest/optimization.py\" target=\"_blank\"><span style=\"color: #7f7f7f; text-decoration-color: #7f7f7f\">optimization.py</span></a><span style=\"color: #7f7f7f; text-decoration-color: #7f7f7f\">:</span><a href=\"file:///Users/aravind/KruxAI/ragbuilder/src/ragbuilder/data_ingest/optimization.py#63\" target=\"_blank\"><span style=\"color: #7f7f7f; text-decoration-color: #7f7f7f\">63</span></a>\n",
       "</pre>\n"
      ],
      "text/plain": [
       "\u001b[2;36m          \u001b[0m\u001b[2;36m \u001b[0m\u001b[34mINFO    \u001b[0m Config already evaluated with score: \u001b[1;36m0.827746057321155\u001b[0m                       \u001b]8;id=786491;file:///Users/aravind/KruxAI/ragbuilder/src/ragbuilder/data_ingest/optimization.py\u001b\\\u001b[2moptimization.py\u001b[0m\u001b]8;;\u001b\\\u001b[2m:\u001b[0m\u001b]8;id=549933;file:///Users/aravind/KruxAI/ragbuilder/src/ragbuilder/data_ingest/optimization.py#63\u001b\\\u001b[2m63\u001b[0m\u001b]8;;\u001b\\\n"
      ]
     },
     "metadata": {},
     "output_type": "display_data"
    },
    {
     "name": "stdout",
     "output_type": "stream",
     "text": [
      "[I 2024-11-12 19:02:54,780] Trial 12 finished with value: 0.827746057321155 and parameters: {'document_loader_index': 1, 'chunking_strategy_index': 1, 'chunk_size': 500, 'embedding_model_index': 0}. Best is trial 8 with value: 0.8365160075003434.\n"
     ]
    },
    {
     "data": {
      "text/html": [
       "<pre style=\"white-space:pre;overflow-x:auto;line-height:normal;font-family:Menlo,'DejaVu Sans Mono',consolas,'Courier New',monospace\"><span style=\"color: #005fff; text-decoration-color: #005fff; font-weight: bold\">Trial </span><span style=\"color: #005fff; text-decoration-color: #005fff; font-weight: bold\">13</span><span style=\"color: #005fff; text-decoration-color: #005fff; font-weight: bold\">/</span><span style=\"color: #005fff; text-decoration-color: #005fff; font-weight: bold\">29</span>\n",
       "</pre>\n"
      ],
      "text/plain": [
       "\u001b[1;38;5;27mTrial \u001b[0m\u001b[1;38;5;27m13\u001b[0m\u001b[1;38;5;27m/\u001b[0m\u001b[1;38;5;27m29\u001b[0m\n"
      ]
     },
     "metadata": {},
     "output_type": "display_data"
    },
    {
     "data": {
      "text/html": [
       "<pre style=\"white-space:pre;overflow-x:auto;line-height:normal;font-family:Menlo,'DejaVu Sans Mono',consolas,'Courier New',monospace\"><span style=\"color: #7fbfbf; text-decoration-color: #7fbfbf\">           </span><span style=\"color: #000080; text-decoration-color: #000080\">INFO    </span> Trial parameters: <span style=\"font-weight: bold\">{</span><span style=\"color: #008000; text-decoration-color: #008000\">'input_source'</span>: <span style=\"color: #008000; text-decoration-color: #008000\">'uber_10k.pdf'</span>, <span style=\"color: #008000; text-decoration-color: #008000\">'test_dataset'</span>:          <a href=\"file:///Users/aravind/KruxAI/ragbuilder/src/ragbuilder/data_ingest/optimization.py\" target=\"_blank\"><span style=\"color: #7f7f7f; text-decoration-color: #7f7f7f\">optimization.py</span></a><span style=\"color: #7f7f7f; text-decoration-color: #7f7f7f\">:</span><a href=\"file:///Users/aravind/KruxAI/ragbuilder/src/ragbuilder/data_ingest/optimization.py#192\" target=\"_blank\"><span style=\"color: #7f7f7f; text-decoration-color: #7f7f7f\">192</span></a>\n",
       "<span style=\"color: #7fbfbf; text-decoration-color: #7fbfbf\">           </span>         <span style=\"color: #008000; text-decoration-color: #008000\">'rag_test_data_1726600284.375674 uber10k_shortlist.csv'</span>, <span style=\"color: #008000; text-decoration-color: #008000\">'document_loader'</span>: <span style=\"color: #7f7f7f; text-decoration-color: #7f7f7f\">                   </span>\n",
       "<span style=\"color: #7fbfbf; text-decoration-color: #7fbfbf\">           </span>         <span style=\"color: #800080; text-decoration-color: #800080; font-weight: bold\">LoaderConfig</span><span style=\"font-weight: bold\">(</span><span style=\"color: #808000; text-decoration-color: #808000\">type</span>=<span style=\"font-weight: bold\">&lt;</span><span style=\"color: #ff00ff; text-decoration-color: #ff00ff; font-weight: bold\">ParserType.UNSTRUCTURED:</span><span style=\"color: #000000; text-decoration-color: #000000\"> </span><span style=\"color: #008000; text-decoration-color: #008000\">'unstructured'</span><span style=\"color: #000000; text-decoration-color: #000000\">&gt;, </span>               <span style=\"color: #7f7f7f; text-decoration-color: #7f7f7f\">                   </span>\n",
       "<span style=\"color: #7fbfbf; text-decoration-color: #7fbfbf\">           </span>         <span style=\"color: #808000; text-decoration-color: #808000\">loader_kwargs</span><span style=\"color: #000000; text-decoration-color: #000000\">=</span><span style=\"color: #800080; text-decoration-color: #800080; font-style: italic\">None</span><span style=\"color: #000000; text-decoration-color: #000000\">, </span><span style=\"color: #808000; text-decoration-color: #808000\">custom_class</span><span style=\"color: #000000; text-decoration-color: #000000\">=</span><span style=\"color: #800080; text-decoration-color: #800080; font-style: italic\">None</span><span style=\"color: #000000; text-decoration-color: #000000; font-weight: bold\">)</span><span style=\"color: #000000; text-decoration-color: #000000\">, </span><span style=\"color: #008000; text-decoration-color: #008000\">'chunking_strategy'</span><span style=\"color: #000000; text-decoration-color: #000000\">: </span>               <span style=\"color: #7f7f7f; text-decoration-color: #7f7f7f\">                   </span>\n",
       "<span style=\"color: #7fbfbf; text-decoration-color: #7fbfbf\">           </span>         <span style=\"color: #800080; text-decoration-color: #800080; font-weight: bold\">ChunkingStrategyConfig</span><span style=\"color: #000000; text-decoration-color: #000000; font-weight: bold\">(</span><span style=\"color: #808000; text-decoration-color: #808000\">type</span><span style=\"color: #000000; text-decoration-color: #000000\">=&lt;ChunkingStrategy.CUSTOM: </span><span style=\"color: #008000; text-decoration-color: #008000\">'custom'</span><span style=\"color: #000000; text-decoration-color: #000000\">&gt;, </span>           <span style=\"color: #7f7f7f; text-decoration-color: #7f7f7f\">                   </span>\n",
       "<span style=\"color: #7fbfbf; text-decoration-color: #7fbfbf\">           </span>         <span style=\"color: #808000; text-decoration-color: #808000\">chunker_kwargs</span><span style=\"color: #000000; text-decoration-color: #000000\">=</span><span style=\"color: #800080; text-decoration-color: #800080; font-style: italic\">None</span><span style=\"color: #000000; text-decoration-color: #000000\">, </span>                                                       <span style=\"color: #7f7f7f; text-decoration-color: #7f7f7f\">                   </span>\n",
       "<span style=\"color: #7fbfbf; text-decoration-color: #7fbfbf\">           </span>         <span style=\"color: #808000; text-decoration-color: #808000\">custom_class</span><span style=\"color: #000000; text-decoration-color: #000000\">=</span><span style=\"color: #008000; text-decoration-color: #008000\">'ragbuilder.custom_components.CustomChunker'</span><span style=\"color: #000000; text-decoration-color: #000000; font-weight: bold\">)</span><span style=\"color: #000000; text-decoration-color: #000000\">, </span>                <span style=\"color: #7f7f7f; text-decoration-color: #7f7f7f\">                   </span>\n",
       "<span style=\"color: #7fbfbf; text-decoration-color: #7fbfbf\">           </span>         <span style=\"color: #008000; text-decoration-color: #008000\">'chunk_overlap'</span><span style=\"color: #000000; text-decoration-color: #000000\">: </span><span style=\"color: #008080; text-decoration-color: #008080; font-weight: bold\">100</span><span style=\"color: #000000; text-decoration-color: #000000\">, </span><span style=\"color: #008000; text-decoration-color: #008000\">'chunk_size'</span><span style=\"color: #000000; text-decoration-color: #000000\">: </span><span style=\"color: #008080; text-decoration-color: #008080; font-weight: bold\">1000</span><span style=\"color: #000000; text-decoration-color: #000000\">, </span><span style=\"color: #008000; text-decoration-color: #008000\">'embedding_model'</span><span style=\"color: #000000; text-decoration-color: #000000\">: </span>               <span style=\"color: #7f7f7f; text-decoration-color: #7f7f7f\">                   </span>\n",
       "<span style=\"color: #7fbfbf; text-decoration-color: #7fbfbf\">           </span>         <span style=\"color: #800080; text-decoration-color: #800080; font-weight: bold\">EmbeddingConfig</span><span style=\"color: #000000; text-decoration-color: #000000; font-weight: bold\">(</span><span style=\"color: #808000; text-decoration-color: #808000\">type</span><span style=\"color: #000000; text-decoration-color: #000000\">=&lt;EmbeddingModel.HUGGINGFACE: </span><span style=\"color: #008000; text-decoration-color: #008000\">'huggingface'</span><span style=\"color: #000000; text-decoration-color: #000000\">&gt;, </span>          <span style=\"color: #7f7f7f; text-decoration-color: #7f7f7f\">                   </span>\n",
       "<span style=\"color: #7fbfbf; text-decoration-color: #7fbfbf\">           </span>         <span style=\"color: #808000; text-decoration-color: #808000\">model_kwargs</span><span style=\"color: #000000; text-decoration-color: #000000\">=</span><span style=\"color: #000000; text-decoration-color: #000000; font-weight: bold\">{</span><span style=\"color: #008000; text-decoration-color: #008000\">'model_name'</span><span style=\"color: #000000; text-decoration-color: #000000\">: </span><span style=\"color: #008000; text-decoration-color: #008000\">'mixedbread-ai/mxbai-embed-large-v1'</span><span style=\"color: #000000; text-decoration-color: #000000; font-weight: bold\">}</span><span style=\"color: #000000; text-decoration-color: #000000\">, </span>         <span style=\"color: #7f7f7f; text-decoration-color: #7f7f7f\">                   </span>\n",
       "<span style=\"color: #7fbfbf; text-decoration-color: #7fbfbf\">           </span>         <span style=\"color: #808000; text-decoration-color: #808000\">custom_class</span><span style=\"color: #000000; text-decoration-color: #000000\">=</span><span style=\"color: #800080; text-decoration-color: #800080; font-style: italic\">None</span><span style=\"color: #000000; text-decoration-color: #000000; font-weight: bold\">)</span><span style=\"color: #000000; text-decoration-color: #000000\">, </span><span style=\"color: #008000; text-decoration-color: #008000\">'vector_database'</span><span style=\"color: #000000; text-decoration-color: #000000\">: </span>                                     <span style=\"color: #7f7f7f; text-decoration-color: #7f7f7f\">                   </span>\n",
       "<span style=\"color: #7fbfbf; text-decoration-color: #7fbfbf\">           </span>         <span style=\"color: #800080; text-decoration-color: #800080; font-weight: bold\">VectorDBConfig</span><span style=\"color: #000000; text-decoration-color: #000000; font-weight: bold\">(</span><span style=\"color: #808000; text-decoration-color: #808000\">type</span><span style=\"color: #000000; text-decoration-color: #000000\">=&lt;VectorDatabase.CHROMA: </span><span style=\"color: #008000; text-decoration-color: #008000\">'chroma'</span><span style=\"font-weight: bold\">&gt;</span>,                      <span style=\"color: #7f7f7f; text-decoration-color: #7f7f7f\">                   </span>\n",
       "<span style=\"color: #7fbfbf; text-decoration-color: #7fbfbf\">           </span>         <span style=\"color: #808000; text-decoration-color: #808000\">vectordb_kwargs</span>=<span style=\"font-weight: bold\">{</span><span style=\"color: #008000; text-decoration-color: #008000\">'persist_directory'</span>: <span style=\"color: #008000; text-decoration-color: #008000\">'chroma_sample2/13'</span>,                  <span style=\"color: #7f7f7f; text-decoration-color: #7f7f7f\">                   </span>\n",
       "<span style=\"color: #7fbfbf; text-decoration-color: #7fbfbf\">           </span>         <span style=\"color: #008000; text-decoration-color: #008000\">'collection_metadata'</span>: <span style=\"font-weight: bold\">{</span><span style=\"color: #008000; text-decoration-color: #008000\">'hnsw:space'</span>: <span style=\"color: #008000; text-decoration-color: #008000\">'cosine'</span><span style=\"font-weight: bold\">}}</span>, <span style=\"color: #808000; text-decoration-color: #808000\">custom_class</span>=<span style=\"color: #800080; text-decoration-color: #800080; font-style: italic\">None</span><span style=\"font-weight: bold\">)</span>,       <span style=\"color: #7f7f7f; text-decoration-color: #7f7f7f\">                   </span>\n",
       "<span style=\"color: #7fbfbf; text-decoration-color: #7fbfbf\">           </span>         <span style=\"color: #008000; text-decoration-color: #008000\">'sampling_rate'</span>: <span style=\"color: #800080; text-decoration-color: #800080; font-style: italic\">None</span><span style=\"font-weight: bold\">}</span>                                                      <span style=\"color: #7f7f7f; text-decoration-color: #7f7f7f\">                   </span>\n",
       "</pre>\n"
      ],
      "text/plain": [
       "\u001b[2;36m          \u001b[0m\u001b[2;36m \u001b[0m\u001b[34mINFO    \u001b[0m Trial parameters: \u001b[1m{\u001b[0m\u001b[32m'input_source'\u001b[0m: \u001b[32m'uber_10k.pdf'\u001b[0m, \u001b[32m'test_dataset'\u001b[0m:          \u001b]8;id=593223;file:///Users/aravind/KruxAI/ragbuilder/src/ragbuilder/data_ingest/optimization.py\u001b\\\u001b[2moptimization.py\u001b[0m\u001b]8;;\u001b\\\u001b[2m:\u001b[0m\u001b]8;id=828184;file:///Users/aravind/KruxAI/ragbuilder/src/ragbuilder/data_ingest/optimization.py#192\u001b\\\u001b[2m192\u001b[0m\u001b]8;;\u001b\\\n",
       "\u001b[2;36m           \u001b[0m         \u001b[32m'rag_test_data_1726600284.375674 uber10k_shortlist.csv'\u001b[0m, \u001b[32m'document_loader'\u001b[0m: \u001b[2m                   \u001b[0m\n",
       "\u001b[2;36m           \u001b[0m         \u001b[1;35mLoaderConfig\u001b[0m\u001b[1m(\u001b[0m\u001b[33mtype\u001b[0m=\u001b[1m<\u001b[0m\u001b[1;95mParserType.UNSTRUCTURED:\u001b[0m\u001b[39m \u001b[0m\u001b[32m'unstructured'\u001b[0m\u001b[39m>, \u001b[0m               \u001b[2m                   \u001b[0m\n",
       "\u001b[2;36m           \u001b[0m         \u001b[33mloader_kwargs\u001b[0m\u001b[39m=\u001b[0m\u001b[3;35mNone\u001b[0m\u001b[39m, \u001b[0m\u001b[33mcustom_class\u001b[0m\u001b[39m=\u001b[0m\u001b[3;35mNone\u001b[0m\u001b[1;39m)\u001b[0m\u001b[39m, \u001b[0m\u001b[32m'chunking_strategy'\u001b[0m\u001b[39m: \u001b[0m               \u001b[2m                   \u001b[0m\n",
       "\u001b[2;36m           \u001b[0m         \u001b[1;35mChunkingStrategyConfig\u001b[0m\u001b[1;39m(\u001b[0m\u001b[33mtype\u001b[0m\u001b[39m=<ChunkingStrategy.CUSTOM: \u001b[0m\u001b[32m'custom'\u001b[0m\u001b[39m>, \u001b[0m           \u001b[2m                   \u001b[0m\n",
       "\u001b[2;36m           \u001b[0m         \u001b[33mchunker_kwargs\u001b[0m\u001b[39m=\u001b[0m\u001b[3;35mNone\u001b[0m\u001b[39m, \u001b[0m                                                       \u001b[2m                   \u001b[0m\n",
       "\u001b[2;36m           \u001b[0m         \u001b[33mcustom_class\u001b[0m\u001b[39m=\u001b[0m\u001b[32m'ragbuilder.custom_components.CustomChunker'\u001b[0m\u001b[1;39m)\u001b[0m\u001b[39m, \u001b[0m                \u001b[2m                   \u001b[0m\n",
       "\u001b[2;36m           \u001b[0m         \u001b[32m'chunk_overlap'\u001b[0m\u001b[39m: \u001b[0m\u001b[1;36m100\u001b[0m\u001b[39m, \u001b[0m\u001b[32m'chunk_size'\u001b[0m\u001b[39m: \u001b[0m\u001b[1;36m1000\u001b[0m\u001b[39m, \u001b[0m\u001b[32m'embedding_model'\u001b[0m\u001b[39m: \u001b[0m               \u001b[2m                   \u001b[0m\n",
       "\u001b[2;36m           \u001b[0m         \u001b[1;35mEmbeddingConfig\u001b[0m\u001b[1;39m(\u001b[0m\u001b[33mtype\u001b[0m\u001b[39m=<EmbeddingModel.HUGGINGFACE: \u001b[0m\u001b[32m'huggingface'\u001b[0m\u001b[39m>, \u001b[0m          \u001b[2m                   \u001b[0m\n",
       "\u001b[2;36m           \u001b[0m         \u001b[33mmodel_kwargs\u001b[0m\u001b[39m=\u001b[0m\u001b[1;39m{\u001b[0m\u001b[32m'model_name'\u001b[0m\u001b[39m: \u001b[0m\u001b[32m'mixedbread-ai/mxbai-embed-large-v1'\u001b[0m\u001b[1;39m}\u001b[0m\u001b[39m, \u001b[0m         \u001b[2m                   \u001b[0m\n",
       "\u001b[2;36m           \u001b[0m         \u001b[33mcustom_class\u001b[0m\u001b[39m=\u001b[0m\u001b[3;35mNone\u001b[0m\u001b[1;39m)\u001b[0m\u001b[39m, \u001b[0m\u001b[32m'vector_database'\u001b[0m\u001b[39m: \u001b[0m                                     \u001b[2m                   \u001b[0m\n",
       "\u001b[2;36m           \u001b[0m         \u001b[1;35mVectorDBConfig\u001b[0m\u001b[1;39m(\u001b[0m\u001b[33mtype\u001b[0m\u001b[39m=<VectorDatabase.CHROMA: \u001b[0m\u001b[32m'chroma'\u001b[0m\u001b[1m>\u001b[0m,                      \u001b[2m                   \u001b[0m\n",
       "\u001b[2;36m           \u001b[0m         \u001b[33mvectordb_kwargs\u001b[0m=\u001b[1m{\u001b[0m\u001b[32m'persist_directory'\u001b[0m: \u001b[32m'chroma_sample2/13'\u001b[0m,                  \u001b[2m                   \u001b[0m\n",
       "\u001b[2;36m           \u001b[0m         \u001b[32m'collection_metadata'\u001b[0m: \u001b[1m{\u001b[0m\u001b[32m'hnsw:space'\u001b[0m: \u001b[32m'cosine'\u001b[0m\u001b[1m}\u001b[0m\u001b[1m}\u001b[0m, \u001b[33mcustom_class\u001b[0m=\u001b[3;35mNone\u001b[0m\u001b[1m)\u001b[0m,       \u001b[2m                   \u001b[0m\n",
       "\u001b[2;36m           \u001b[0m         \u001b[32m'sampling_rate'\u001b[0m: \u001b[3;35mNone\u001b[0m\u001b[1m}\u001b[0m                                                      \u001b[2m                   \u001b[0m\n"
      ]
     },
     "metadata": {},
     "output_type": "display_data"
    },
    {
     "data": {
      "text/html": [
       "<pre style=\"white-space:pre;overflow-x:auto;line-height:normal;font-family:Menlo,'DejaVu Sans Mono',consolas,'Courier New',monospace\"><span style=\"color: #7fbfbf; text-decoration-color: #7fbfbf\">           </span><span style=\"color: #000080; text-decoration-color: #000080\">INFO    </span> Config already evaluated with score: <span style=\"color: #008080; text-decoration-color: #008080; font-weight: bold\">0.8365160075003434</span>                      <a href=\"file:///Users/aravind/KruxAI/ragbuilder/src/ragbuilder/data_ingest/optimization.py\" target=\"_blank\"><span style=\"color: #7f7f7f; text-decoration-color: #7f7f7f\">optimization.py</span></a><span style=\"color: #7f7f7f; text-decoration-color: #7f7f7f\">:</span><a href=\"file:///Users/aravind/KruxAI/ragbuilder/src/ragbuilder/data_ingest/optimization.py#63\" target=\"_blank\"><span style=\"color: #7f7f7f; text-decoration-color: #7f7f7f\">63</span></a>\n",
       "</pre>\n"
      ],
      "text/plain": [
       "\u001b[2;36m          \u001b[0m\u001b[2;36m \u001b[0m\u001b[34mINFO    \u001b[0m Config already evaluated with score: \u001b[1;36m0.8365160075003434\u001b[0m                      \u001b]8;id=194093;file:///Users/aravind/KruxAI/ragbuilder/src/ragbuilder/data_ingest/optimization.py\u001b\\\u001b[2moptimization.py\u001b[0m\u001b]8;;\u001b\\\u001b[2m:\u001b[0m\u001b]8;id=164162;file:///Users/aravind/KruxAI/ragbuilder/src/ragbuilder/data_ingest/optimization.py#63\u001b\\\u001b[2m63\u001b[0m\u001b]8;;\u001b\\\n"
      ]
     },
     "metadata": {},
     "output_type": "display_data"
    },
    {
     "name": "stdout",
     "output_type": "stream",
     "text": [
      "[I 2024-11-12 19:02:54,802] Trial 13 finished with value: 0.8365160075003434 and parameters: {'document_loader_index': 1, 'chunking_strategy_index': 1, 'chunk_size': 1000, 'embedding_model_index': 0}. Best is trial 8 with value: 0.8365160075003434.\n"
     ]
    },
    {
     "data": {
      "text/html": [
       "<pre style=\"white-space:pre;overflow-x:auto;line-height:normal;font-family:Menlo,'DejaVu Sans Mono',consolas,'Courier New',monospace\"><span style=\"color: #005fff; text-decoration-color: #005fff; font-weight: bold\">Trial </span><span style=\"color: #005fff; text-decoration-color: #005fff; font-weight: bold\">14</span><span style=\"color: #005fff; text-decoration-color: #005fff; font-weight: bold\">/</span><span style=\"color: #005fff; text-decoration-color: #005fff; font-weight: bold\">29</span>\n",
       "</pre>\n"
      ],
      "text/plain": [
       "\u001b[1;38;5;27mTrial \u001b[0m\u001b[1;38;5;27m14\u001b[0m\u001b[1;38;5;27m/\u001b[0m\u001b[1;38;5;27m29\u001b[0m\n"
      ]
     },
     "metadata": {},
     "output_type": "display_data"
    },
    {
     "data": {
      "text/html": [
       "<pre style=\"white-space:pre;overflow-x:auto;line-height:normal;font-family:Menlo,'DejaVu Sans Mono',consolas,'Courier New',monospace\"><span style=\"color: #7fbfbf; text-decoration-color: #7fbfbf\">           </span><span style=\"color: #000080; text-decoration-color: #000080\">INFO    </span> Trial parameters: <span style=\"font-weight: bold\">{</span><span style=\"color: #008000; text-decoration-color: #008000\">'input_source'</span>: <span style=\"color: #008000; text-decoration-color: #008000\">'uber_10k.pdf'</span>, <span style=\"color: #008000; text-decoration-color: #008000\">'test_dataset'</span>:          <a href=\"file:///Users/aravind/KruxAI/ragbuilder/src/ragbuilder/data_ingest/optimization.py\" target=\"_blank\"><span style=\"color: #7f7f7f; text-decoration-color: #7f7f7f\">optimization.py</span></a><span style=\"color: #7f7f7f; text-decoration-color: #7f7f7f\">:</span><a href=\"file:///Users/aravind/KruxAI/ragbuilder/src/ragbuilder/data_ingest/optimization.py#192\" target=\"_blank\"><span style=\"color: #7f7f7f; text-decoration-color: #7f7f7f\">192</span></a>\n",
       "<span style=\"color: #7fbfbf; text-decoration-color: #7fbfbf\">           </span>         <span style=\"color: #008000; text-decoration-color: #008000\">'rag_test_data_1726600284.375674 uber10k_shortlist.csv'</span>, <span style=\"color: #008000; text-decoration-color: #008000\">'document_loader'</span>: <span style=\"color: #7f7f7f; text-decoration-color: #7f7f7f\">                   </span>\n",
       "<span style=\"color: #7fbfbf; text-decoration-color: #7fbfbf\">           </span>         <span style=\"color: #800080; text-decoration-color: #800080; font-weight: bold\">LoaderConfig</span><span style=\"font-weight: bold\">(</span><span style=\"color: #808000; text-decoration-color: #808000\">type</span>=<span style=\"font-weight: bold\">&lt;</span><span style=\"color: #ff00ff; text-decoration-color: #ff00ff; font-weight: bold\">ParserType.UNSTRUCTURED:</span><span style=\"color: #000000; text-decoration-color: #000000\"> </span><span style=\"color: #008000; text-decoration-color: #008000\">'unstructured'</span><span style=\"color: #000000; text-decoration-color: #000000\">&gt;, </span>               <span style=\"color: #7f7f7f; text-decoration-color: #7f7f7f\">                   </span>\n",
       "<span style=\"color: #7fbfbf; text-decoration-color: #7fbfbf\">           </span>         <span style=\"color: #808000; text-decoration-color: #808000\">loader_kwargs</span><span style=\"color: #000000; text-decoration-color: #000000\">=</span><span style=\"color: #800080; text-decoration-color: #800080; font-style: italic\">None</span><span style=\"color: #000000; text-decoration-color: #000000\">, </span><span style=\"color: #808000; text-decoration-color: #808000\">custom_class</span><span style=\"color: #000000; text-decoration-color: #000000\">=</span><span style=\"color: #800080; text-decoration-color: #800080; font-style: italic\">None</span><span style=\"color: #000000; text-decoration-color: #000000; font-weight: bold\">)</span><span style=\"color: #000000; text-decoration-color: #000000\">, </span><span style=\"color: #008000; text-decoration-color: #008000\">'chunking_strategy'</span><span style=\"color: #000000; text-decoration-color: #000000\">: </span>               <span style=\"color: #7f7f7f; text-decoration-color: #7f7f7f\">                   </span>\n",
       "<span style=\"color: #7fbfbf; text-decoration-color: #7fbfbf\">           </span>         <span style=\"color: #800080; text-decoration-color: #800080; font-weight: bold\">ChunkingStrategyConfig</span><span style=\"color: #000000; text-decoration-color: #000000; font-weight: bold\">(</span><span style=\"color: #808000; text-decoration-color: #808000\">type</span><span style=\"color: #000000; text-decoration-color: #000000\">=&lt;ChunkingStrategy.CUSTOM: </span><span style=\"color: #008000; text-decoration-color: #008000\">'custom'</span><span style=\"color: #000000; text-decoration-color: #000000\">&gt;, </span>           <span style=\"color: #7f7f7f; text-decoration-color: #7f7f7f\">                   </span>\n",
       "<span style=\"color: #7fbfbf; text-decoration-color: #7fbfbf\">           </span>         <span style=\"color: #808000; text-decoration-color: #808000\">chunker_kwargs</span><span style=\"color: #000000; text-decoration-color: #000000\">=</span><span style=\"color: #800080; text-decoration-color: #800080; font-style: italic\">None</span><span style=\"color: #000000; text-decoration-color: #000000\">, </span>                                                       <span style=\"color: #7f7f7f; text-decoration-color: #7f7f7f\">                   </span>\n",
       "<span style=\"color: #7fbfbf; text-decoration-color: #7fbfbf\">           </span>         <span style=\"color: #808000; text-decoration-color: #808000\">custom_class</span><span style=\"color: #000000; text-decoration-color: #000000\">=</span><span style=\"color: #008000; text-decoration-color: #008000\">'ragbuilder.custom_components.CustomChunker'</span><span style=\"color: #000000; text-decoration-color: #000000; font-weight: bold\">)</span><span style=\"color: #000000; text-decoration-color: #000000\">, </span>                <span style=\"color: #7f7f7f; text-decoration-color: #7f7f7f\">                   </span>\n",
       "<span style=\"color: #7fbfbf; text-decoration-color: #7fbfbf\">           </span>         <span style=\"color: #008000; text-decoration-color: #008000\">'chunk_overlap'</span><span style=\"color: #000000; text-decoration-color: #000000\">: </span><span style=\"color: #008080; text-decoration-color: #008080; font-weight: bold\">100</span><span style=\"color: #000000; text-decoration-color: #000000\">, </span><span style=\"color: #008000; text-decoration-color: #008000\">'chunk_size'</span><span style=\"color: #000000; text-decoration-color: #000000\">: </span><span style=\"color: #008080; text-decoration-color: #008080; font-weight: bold\">1500</span><span style=\"color: #000000; text-decoration-color: #000000\">, </span><span style=\"color: #008000; text-decoration-color: #008000\">'embedding_model'</span><span style=\"color: #000000; text-decoration-color: #000000\">: </span>               <span style=\"color: #7f7f7f; text-decoration-color: #7f7f7f\">                   </span>\n",
       "<span style=\"color: #7fbfbf; text-decoration-color: #7fbfbf\">           </span>         <span style=\"color: #800080; text-decoration-color: #800080; font-weight: bold\">EmbeddingConfig</span><span style=\"color: #000000; text-decoration-color: #000000; font-weight: bold\">(</span><span style=\"color: #808000; text-decoration-color: #808000\">type</span><span style=\"color: #000000; text-decoration-color: #000000\">=&lt;EmbeddingModel.HUGGINGFACE: </span><span style=\"color: #008000; text-decoration-color: #008000\">'huggingface'</span><span style=\"color: #000000; text-decoration-color: #000000\">&gt;, </span>          <span style=\"color: #7f7f7f; text-decoration-color: #7f7f7f\">                   </span>\n",
       "<span style=\"color: #7fbfbf; text-decoration-color: #7fbfbf\">           </span>         <span style=\"color: #808000; text-decoration-color: #808000\">model_kwargs</span><span style=\"color: #000000; text-decoration-color: #000000\">=</span><span style=\"color: #000000; text-decoration-color: #000000; font-weight: bold\">{</span><span style=\"color: #008000; text-decoration-color: #008000\">'model_name'</span><span style=\"color: #000000; text-decoration-color: #000000\">: </span><span style=\"color: #008000; text-decoration-color: #008000\">'mixedbread-ai/mxbai-embed-large-v1'</span><span style=\"color: #000000; text-decoration-color: #000000; font-weight: bold\">}</span><span style=\"color: #000000; text-decoration-color: #000000\">, </span>         <span style=\"color: #7f7f7f; text-decoration-color: #7f7f7f\">                   </span>\n",
       "<span style=\"color: #7fbfbf; text-decoration-color: #7fbfbf\">           </span>         <span style=\"color: #808000; text-decoration-color: #808000\">custom_class</span><span style=\"color: #000000; text-decoration-color: #000000\">=</span><span style=\"color: #800080; text-decoration-color: #800080; font-style: italic\">None</span><span style=\"color: #000000; text-decoration-color: #000000; font-weight: bold\">)</span><span style=\"color: #000000; text-decoration-color: #000000\">, </span><span style=\"color: #008000; text-decoration-color: #008000\">'vector_database'</span><span style=\"color: #000000; text-decoration-color: #000000\">: </span>                                     <span style=\"color: #7f7f7f; text-decoration-color: #7f7f7f\">                   </span>\n",
       "<span style=\"color: #7fbfbf; text-decoration-color: #7fbfbf\">           </span>         <span style=\"color: #800080; text-decoration-color: #800080; font-weight: bold\">VectorDBConfig</span><span style=\"color: #000000; text-decoration-color: #000000; font-weight: bold\">(</span><span style=\"color: #808000; text-decoration-color: #808000\">type</span><span style=\"color: #000000; text-decoration-color: #000000\">=&lt;VectorDatabase.CHROMA: </span><span style=\"color: #008000; text-decoration-color: #008000\">'chroma'</span><span style=\"font-weight: bold\">&gt;</span>,                      <span style=\"color: #7f7f7f; text-decoration-color: #7f7f7f\">                   </span>\n",
       "<span style=\"color: #7fbfbf; text-decoration-color: #7fbfbf\">           </span>         <span style=\"color: #808000; text-decoration-color: #808000\">vectordb_kwargs</span>=<span style=\"font-weight: bold\">{</span><span style=\"color: #008000; text-decoration-color: #008000\">'persist_directory'</span>: <span style=\"color: #008000; text-decoration-color: #008000\">'chroma_sample2/14'</span>,                  <span style=\"color: #7f7f7f; text-decoration-color: #7f7f7f\">                   </span>\n",
       "<span style=\"color: #7fbfbf; text-decoration-color: #7fbfbf\">           </span>         <span style=\"color: #008000; text-decoration-color: #008000\">'collection_metadata'</span>: <span style=\"font-weight: bold\">{</span><span style=\"color: #008000; text-decoration-color: #008000\">'hnsw:space'</span>: <span style=\"color: #008000; text-decoration-color: #008000\">'cosine'</span><span style=\"font-weight: bold\">}}</span>, <span style=\"color: #808000; text-decoration-color: #808000\">custom_class</span>=<span style=\"color: #800080; text-decoration-color: #800080; font-style: italic\">None</span><span style=\"font-weight: bold\">)</span>,       <span style=\"color: #7f7f7f; text-decoration-color: #7f7f7f\">                   </span>\n",
       "<span style=\"color: #7fbfbf; text-decoration-color: #7fbfbf\">           </span>         <span style=\"color: #008000; text-decoration-color: #008000\">'sampling_rate'</span>: <span style=\"color: #800080; text-decoration-color: #800080; font-style: italic\">None</span><span style=\"font-weight: bold\">}</span>                                                      <span style=\"color: #7f7f7f; text-decoration-color: #7f7f7f\">                   </span>\n",
       "</pre>\n"
      ],
      "text/plain": [
       "\u001b[2;36m          \u001b[0m\u001b[2;36m \u001b[0m\u001b[34mINFO    \u001b[0m Trial parameters: \u001b[1m{\u001b[0m\u001b[32m'input_source'\u001b[0m: \u001b[32m'uber_10k.pdf'\u001b[0m, \u001b[32m'test_dataset'\u001b[0m:          \u001b]8;id=69415;file:///Users/aravind/KruxAI/ragbuilder/src/ragbuilder/data_ingest/optimization.py\u001b\\\u001b[2moptimization.py\u001b[0m\u001b]8;;\u001b\\\u001b[2m:\u001b[0m\u001b]8;id=864096;file:///Users/aravind/KruxAI/ragbuilder/src/ragbuilder/data_ingest/optimization.py#192\u001b\\\u001b[2m192\u001b[0m\u001b]8;;\u001b\\\n",
       "\u001b[2;36m           \u001b[0m         \u001b[32m'rag_test_data_1726600284.375674 uber10k_shortlist.csv'\u001b[0m, \u001b[32m'document_loader'\u001b[0m: \u001b[2m                   \u001b[0m\n",
       "\u001b[2;36m           \u001b[0m         \u001b[1;35mLoaderConfig\u001b[0m\u001b[1m(\u001b[0m\u001b[33mtype\u001b[0m=\u001b[1m<\u001b[0m\u001b[1;95mParserType.UNSTRUCTURED:\u001b[0m\u001b[39m \u001b[0m\u001b[32m'unstructured'\u001b[0m\u001b[39m>, \u001b[0m               \u001b[2m                   \u001b[0m\n",
       "\u001b[2;36m           \u001b[0m         \u001b[33mloader_kwargs\u001b[0m\u001b[39m=\u001b[0m\u001b[3;35mNone\u001b[0m\u001b[39m, \u001b[0m\u001b[33mcustom_class\u001b[0m\u001b[39m=\u001b[0m\u001b[3;35mNone\u001b[0m\u001b[1;39m)\u001b[0m\u001b[39m, \u001b[0m\u001b[32m'chunking_strategy'\u001b[0m\u001b[39m: \u001b[0m               \u001b[2m                   \u001b[0m\n",
       "\u001b[2;36m           \u001b[0m         \u001b[1;35mChunkingStrategyConfig\u001b[0m\u001b[1;39m(\u001b[0m\u001b[33mtype\u001b[0m\u001b[39m=<ChunkingStrategy.CUSTOM: \u001b[0m\u001b[32m'custom'\u001b[0m\u001b[39m>, \u001b[0m           \u001b[2m                   \u001b[0m\n",
       "\u001b[2;36m           \u001b[0m         \u001b[33mchunker_kwargs\u001b[0m\u001b[39m=\u001b[0m\u001b[3;35mNone\u001b[0m\u001b[39m, \u001b[0m                                                       \u001b[2m                   \u001b[0m\n",
       "\u001b[2;36m           \u001b[0m         \u001b[33mcustom_class\u001b[0m\u001b[39m=\u001b[0m\u001b[32m'ragbuilder.custom_components.CustomChunker'\u001b[0m\u001b[1;39m)\u001b[0m\u001b[39m, \u001b[0m                \u001b[2m                   \u001b[0m\n",
       "\u001b[2;36m           \u001b[0m         \u001b[32m'chunk_overlap'\u001b[0m\u001b[39m: \u001b[0m\u001b[1;36m100\u001b[0m\u001b[39m, \u001b[0m\u001b[32m'chunk_size'\u001b[0m\u001b[39m: \u001b[0m\u001b[1;36m1500\u001b[0m\u001b[39m, \u001b[0m\u001b[32m'embedding_model'\u001b[0m\u001b[39m: \u001b[0m               \u001b[2m                   \u001b[0m\n",
       "\u001b[2;36m           \u001b[0m         \u001b[1;35mEmbeddingConfig\u001b[0m\u001b[1;39m(\u001b[0m\u001b[33mtype\u001b[0m\u001b[39m=<EmbeddingModel.HUGGINGFACE: \u001b[0m\u001b[32m'huggingface'\u001b[0m\u001b[39m>, \u001b[0m          \u001b[2m                   \u001b[0m\n",
       "\u001b[2;36m           \u001b[0m         \u001b[33mmodel_kwargs\u001b[0m\u001b[39m=\u001b[0m\u001b[1;39m{\u001b[0m\u001b[32m'model_name'\u001b[0m\u001b[39m: \u001b[0m\u001b[32m'mixedbread-ai/mxbai-embed-large-v1'\u001b[0m\u001b[1;39m}\u001b[0m\u001b[39m, \u001b[0m         \u001b[2m                   \u001b[0m\n",
       "\u001b[2;36m           \u001b[0m         \u001b[33mcustom_class\u001b[0m\u001b[39m=\u001b[0m\u001b[3;35mNone\u001b[0m\u001b[1;39m)\u001b[0m\u001b[39m, \u001b[0m\u001b[32m'vector_database'\u001b[0m\u001b[39m: \u001b[0m                                     \u001b[2m                   \u001b[0m\n",
       "\u001b[2;36m           \u001b[0m         \u001b[1;35mVectorDBConfig\u001b[0m\u001b[1;39m(\u001b[0m\u001b[33mtype\u001b[0m\u001b[39m=<VectorDatabase.CHROMA: \u001b[0m\u001b[32m'chroma'\u001b[0m\u001b[1m>\u001b[0m,                      \u001b[2m                   \u001b[0m\n",
       "\u001b[2;36m           \u001b[0m         \u001b[33mvectordb_kwargs\u001b[0m=\u001b[1m{\u001b[0m\u001b[32m'persist_directory'\u001b[0m: \u001b[32m'chroma_sample2/14'\u001b[0m,                  \u001b[2m                   \u001b[0m\n",
       "\u001b[2;36m           \u001b[0m         \u001b[32m'collection_metadata'\u001b[0m: \u001b[1m{\u001b[0m\u001b[32m'hnsw:space'\u001b[0m: \u001b[32m'cosine'\u001b[0m\u001b[1m}\u001b[0m\u001b[1m}\u001b[0m, \u001b[33mcustom_class\u001b[0m=\u001b[3;35mNone\u001b[0m\u001b[1m)\u001b[0m,       \u001b[2m                   \u001b[0m\n",
       "\u001b[2;36m           \u001b[0m         \u001b[32m'sampling_rate'\u001b[0m: \u001b[3;35mNone\u001b[0m\u001b[1m}\u001b[0m                                                      \u001b[2m                   \u001b[0m\n"
      ]
     },
     "metadata": {},
     "output_type": "display_data"
    },
    {
     "name": "stdout",
     "output_type": "stream",
     "text": [
      "class_path:  ragbuilder.custom_components.CustomChunker\n"
     ]
    },
    {
     "data": {
      "text/html": [
       "<pre style=\"white-space:pre;overflow-x:auto;line-height:normal;font-family:Menlo,'DejaVu Sans Mono',consolas,'Courier New',monospace\"><span style=\"color: #7fbfbf; text-decoration-color: #7fbfbf\">           </span><span style=\"color: #000080; text-decoration-color: #000080\">INFO    </span> Load pretrained SentenceTransformer:                                 <a href=\"file:///opt/anaconda3/envs/ragbuilder/lib/python3.12/site-packages/sentence_transformers/SentenceTransformer.py\" target=\"_blank\"><span style=\"color: #7f7f7f; text-decoration-color: #7f7f7f\">SentenceTransformer.py</span></a><span style=\"color: #7f7f7f; text-decoration-color: #7f7f7f\">:</span><a href=\"file:///opt/anaconda3/envs/ragbuilder/lib/python3.12/site-packages/sentence_transformers/SentenceTransformer.py#113\" target=\"_blank\"><span style=\"color: #7f7f7f; text-decoration-color: #7f7f7f\">113</span></a>\n",
       "<span style=\"color: #7fbfbf; text-decoration-color: #7fbfbf\">           </span>         mixedbread-ai/mxbai-embed-large-v1                                   <span style=\"color: #7f7f7f; text-decoration-color: #7f7f7f\">                          </span>\n",
       "</pre>\n"
      ],
      "text/plain": [
       "\u001b[2;36m          \u001b[0m\u001b[2;36m \u001b[0m\u001b[34mINFO    \u001b[0m Load pretrained SentenceTransformer:                                 \u001b]8;id=511937;file:///opt/anaconda3/envs/ragbuilder/lib/python3.12/site-packages/sentence_transformers/SentenceTransformer.py\u001b\\\u001b[2mSentenceTransformer.py\u001b[0m\u001b]8;;\u001b\\\u001b[2m:\u001b[0m\u001b]8;id=805318;file:///opt/anaconda3/envs/ragbuilder/lib/python3.12/site-packages/sentence_transformers/SentenceTransformer.py#113\u001b\\\u001b[2m113\u001b[0m\u001b]8;;\u001b\\\n",
       "\u001b[2;36m           \u001b[0m         mixedbread-ai/mxbai-embed-large-v1                                   \u001b[2m                          \u001b[0m\n"
      ]
     },
     "metadata": {},
     "output_type": "display_data"
    },
    {
     "data": {
      "text/html": [
       "<pre style=\"white-space:pre;overflow-x:auto;line-height:normal;font-family:Menlo,'DejaVu Sans Mono',consolas,'Courier New',monospace\"><span style=\"color: #7fbfbf; text-decoration-color: #7fbfbf\">[19:02:58] </span><span style=\"color: #000080; text-decoration-color: #000080\">INFO    </span> Use pytorch device_name: mps                                         <a href=\"file:///opt/anaconda3/envs/ragbuilder/lib/python3.12/site-packages/sentence_transformers/SentenceTransformer.py\" target=\"_blank\"><span style=\"color: #7f7f7f; text-decoration-color: #7f7f7f\">SentenceTransformer.py</span></a><span style=\"color: #7f7f7f; text-decoration-color: #7f7f7f\">:</span><a href=\"file:///opt/anaconda3/envs/ragbuilder/lib/python3.12/site-packages/sentence_transformers/SentenceTransformer.py#219\" target=\"_blank\"><span style=\"color: #7f7f7f; text-decoration-color: #7f7f7f\">219</span></a>\n",
       "</pre>\n"
      ],
      "text/plain": [
       "\u001b[2;36m[19:02:58]\u001b[0m\u001b[2;36m \u001b[0m\u001b[34mINFO    \u001b[0m Use pytorch device_name: mps                                         \u001b]8;id=147459;file:///opt/anaconda3/envs/ragbuilder/lib/python3.12/site-packages/sentence_transformers/SentenceTransformer.py\u001b\\\u001b[2mSentenceTransformer.py\u001b[0m\u001b]8;;\u001b\\\u001b[2m:\u001b[0m\u001b]8;id=644806;file:///opt/anaconda3/envs/ragbuilder/lib/python3.12/site-packages/sentence_transformers/SentenceTransformer.py#219\u001b\\\u001b[2m219\u001b[0m\u001b]8;;\u001b\\\n"
      ]
     },
     "metadata": {},
     "output_type": "display_data"
    },
    {
     "data": {
      "text/html": [
       "<pre style=\"white-space:pre;overflow-x:auto;line-height:normal;font-family:Menlo,'DejaVu Sans Mono',consolas,'Courier New',monospace\"><span style=\"color: #7fbfbf; text-decoration-color: #7fbfbf\">[19:02:59] </span><span style=\"color: #000080; text-decoration-color: #000080\">INFO    </span> <span style=\"color: #008080; text-decoration-color: #008080; font-weight: bold\">2</span> prompts are loaded, with the keys: <span style=\"font-weight: bold\">[</span><span style=\"color: #008000; text-decoration-color: #008000\">'query'</span>, <span style=\"color: #008000; text-decoration-color: #008000\">'passage'</span><span style=\"font-weight: bold\">]</span>            <a href=\"file:///opt/anaconda3/envs/ragbuilder/lib/python3.12/site-packages/sentence_transformers/SentenceTransformer.py\" target=\"_blank\"><span style=\"color: #7f7f7f; text-decoration-color: #7f7f7f\">SentenceTransformer.py</span></a><span style=\"color: #7f7f7f; text-decoration-color: #7f7f7f\">:</span><a href=\"file:///opt/anaconda3/envs/ragbuilder/lib/python3.12/site-packages/sentence_transformers/SentenceTransformer.py#231\" target=\"_blank\"><span style=\"color: #7f7f7f; text-decoration-color: #7f7f7f\">231</span></a>\n",
       "</pre>\n"
      ],
      "text/plain": [
       "\u001b[2;36m[19:02:59]\u001b[0m\u001b[2;36m \u001b[0m\u001b[34mINFO    \u001b[0m \u001b[1;36m2\u001b[0m prompts are loaded, with the keys: \u001b[1m[\u001b[0m\u001b[32m'query'\u001b[0m, \u001b[32m'passage'\u001b[0m\u001b[1m]\u001b[0m            \u001b]8;id=763725;file:///opt/anaconda3/envs/ragbuilder/lib/python3.12/site-packages/sentence_transformers/SentenceTransformer.py\u001b\\\u001b[2mSentenceTransformer.py\u001b[0m\u001b]8;;\u001b\\\u001b[2m:\u001b[0m\u001b]8;id=160534;file:///opt/anaconda3/envs/ragbuilder/lib/python3.12/site-packages/sentence_transformers/SentenceTransformer.py#231\u001b\\\u001b[2m231\u001b[0m\u001b]8;;\u001b\\\n"
      ]
     },
     "metadata": {},
     "output_type": "display_data"
    },
    {
     "data": {
      "application/vnd.jupyter.widget-view+json": {
       "model_id": "c5977befc58e453ab3bcafa11d19de8e",
       "version_major": 2,
       "version_minor": 0
      },
      "text/plain": [
       "Output()"
      ]
     },
     "metadata": {},
     "output_type": "display_data"
    },
    {
     "data": {
      "text/html": [
       "<pre style=\"white-space:pre;overflow-x:auto;line-height:normal;font-family:Menlo,'DejaVu Sans Mono',consolas,'Courier New',monospace\"><span style=\"color: #008000; text-decoration-color: #008000\">✓ Pipeline execution complete!</span>\n",
       "</pre>\n"
      ],
      "text/plain": [
       "\u001b[32m✓ Pipeline execution complete!\u001b[0m\n"
      ]
     },
     "metadata": {},
     "output_type": "display_data"
    },
    {
     "data": {
      "text/html": [
       "<pre style=\"white-space:pre;overflow-x:auto;line-height:normal;font-family:Menlo,'DejaVu Sans Mono',consolas,'Courier New',monospace\"></pre>\n"
      ],
      "text/plain": []
     },
     "metadata": {},
     "output_type": "display_data"
    },
    {
     "data": {
      "text/html": [
       "<pre style=\"white-space:pre;overflow-x:auto;line-height:normal;font-family:Menlo,'DejaVu Sans Mono',consolas,'Courier New',monospace\"><span style=\"color: #008000; text-decoration-color: #008000\">Trial Score:</span> <span style=\"color: #00ffff; text-decoration-color: #00ffff; font-weight: bold\">0.8375</span>\n",
       "</pre>\n"
      ],
      "text/plain": [
       "\u001b[32mTrial Score:\u001b[0m \u001b[1;96m0.8375\u001b[0m\n"
      ]
     },
     "metadata": {},
     "output_type": "display_data"
    },
    {
     "name": "stdout",
     "output_type": "stream",
     "text": [
      "[I 2024-11-12 19:04:01,057] Trial 14 finished with value: 0.8374550926422355 and parameters: {'document_loader_index': 1, 'chunking_strategy_index': 1, 'chunk_size': 1500, 'embedding_model_index': 0}. Best is trial 14 with value: 0.8374550926422355.\n"
     ]
    },
    {
     "data": {
      "text/html": [
       "<pre style=\"white-space:pre;overflow-x:auto;line-height:normal;font-family:Menlo,'DejaVu Sans Mono',consolas,'Courier New',monospace\"><span style=\"color: #005fff; text-decoration-color: #005fff; font-weight: bold\">Trial </span><span style=\"color: #005fff; text-decoration-color: #005fff; font-weight: bold\">15</span><span style=\"color: #005fff; text-decoration-color: #005fff; font-weight: bold\">/</span><span style=\"color: #005fff; text-decoration-color: #005fff; font-weight: bold\">29</span>\n",
       "</pre>\n"
      ],
      "text/plain": [
       "\u001b[1;38;5;27mTrial \u001b[0m\u001b[1;38;5;27m15\u001b[0m\u001b[1;38;5;27m/\u001b[0m\u001b[1;38;5;27m29\u001b[0m\n"
      ]
     },
     "metadata": {},
     "output_type": "display_data"
    },
    {
     "data": {
      "text/html": [
       "<pre style=\"white-space:pre;overflow-x:auto;line-height:normal;font-family:Menlo,'DejaVu Sans Mono',consolas,'Courier New',monospace\"><span style=\"color: #7fbfbf; text-decoration-color: #7fbfbf\">[19:04:01] </span><span style=\"color: #000080; text-decoration-color: #000080\">INFO    </span> Trial parameters: <span style=\"font-weight: bold\">{</span><span style=\"color: #008000; text-decoration-color: #008000\">'input_source'</span>: <span style=\"color: #008000; text-decoration-color: #008000\">'uber_10k.pdf'</span>, <span style=\"color: #008000; text-decoration-color: #008000\">'test_dataset'</span>:          <a href=\"file:///Users/aravind/KruxAI/ragbuilder/src/ragbuilder/data_ingest/optimization.py\" target=\"_blank\"><span style=\"color: #7f7f7f; text-decoration-color: #7f7f7f\">optimization.py</span></a><span style=\"color: #7f7f7f; text-decoration-color: #7f7f7f\">:</span><a href=\"file:///Users/aravind/KruxAI/ragbuilder/src/ragbuilder/data_ingest/optimization.py#192\" target=\"_blank\"><span style=\"color: #7f7f7f; text-decoration-color: #7f7f7f\">192</span></a>\n",
       "<span style=\"color: #7fbfbf; text-decoration-color: #7fbfbf\">           </span>         <span style=\"color: #008000; text-decoration-color: #008000\">'rag_test_data_1726600284.375674 uber10k_shortlist.csv'</span>, <span style=\"color: #008000; text-decoration-color: #008000\">'document_loader'</span>: <span style=\"color: #7f7f7f; text-decoration-color: #7f7f7f\">                   </span>\n",
       "<span style=\"color: #7fbfbf; text-decoration-color: #7fbfbf\">           </span>         <span style=\"color: #800080; text-decoration-color: #800080; font-weight: bold\">LoaderConfig</span><span style=\"font-weight: bold\">(</span><span style=\"color: #808000; text-decoration-color: #808000\">type</span>=<span style=\"font-weight: bold\">&lt;</span><span style=\"color: #ff00ff; text-decoration-color: #ff00ff; font-weight: bold\">ParserType.UNSTRUCTURED:</span><span style=\"color: #000000; text-decoration-color: #000000\"> </span><span style=\"color: #008000; text-decoration-color: #008000\">'unstructured'</span><span style=\"color: #000000; text-decoration-color: #000000\">&gt;, </span>               <span style=\"color: #7f7f7f; text-decoration-color: #7f7f7f\">                   </span>\n",
       "<span style=\"color: #7fbfbf; text-decoration-color: #7fbfbf\">           </span>         <span style=\"color: #808000; text-decoration-color: #808000\">loader_kwargs</span><span style=\"color: #000000; text-decoration-color: #000000\">=</span><span style=\"color: #800080; text-decoration-color: #800080; font-style: italic\">None</span><span style=\"color: #000000; text-decoration-color: #000000\">, </span><span style=\"color: #808000; text-decoration-color: #808000\">custom_class</span><span style=\"color: #000000; text-decoration-color: #000000\">=</span><span style=\"color: #800080; text-decoration-color: #800080; font-style: italic\">None</span><span style=\"color: #000000; text-decoration-color: #000000; font-weight: bold\">)</span><span style=\"color: #000000; text-decoration-color: #000000\">, </span><span style=\"color: #008000; text-decoration-color: #008000\">'chunking_strategy'</span><span style=\"color: #000000; text-decoration-color: #000000\">: </span>               <span style=\"color: #7f7f7f; text-decoration-color: #7f7f7f\">                   </span>\n",
       "<span style=\"color: #7fbfbf; text-decoration-color: #7fbfbf\">           </span>         <span style=\"color: #800080; text-decoration-color: #800080; font-weight: bold\">ChunkingStrategyConfig</span><span style=\"color: #000000; text-decoration-color: #000000; font-weight: bold\">(</span><span style=\"color: #808000; text-decoration-color: #808000\">type</span><span style=\"color: #000000; text-decoration-color: #000000\">=&lt;ChunkingStrategy.CUSTOM: </span><span style=\"color: #008000; text-decoration-color: #008000\">'custom'</span><span style=\"color: #000000; text-decoration-color: #000000\">&gt;, </span>           <span style=\"color: #7f7f7f; text-decoration-color: #7f7f7f\">                   </span>\n",
       "<span style=\"color: #7fbfbf; text-decoration-color: #7fbfbf\">           </span>         <span style=\"color: #808000; text-decoration-color: #808000\">chunker_kwargs</span><span style=\"color: #000000; text-decoration-color: #000000\">=</span><span style=\"color: #800080; text-decoration-color: #800080; font-style: italic\">None</span><span style=\"color: #000000; text-decoration-color: #000000\">, </span>                                                       <span style=\"color: #7f7f7f; text-decoration-color: #7f7f7f\">                   </span>\n",
       "<span style=\"color: #7fbfbf; text-decoration-color: #7fbfbf\">           </span>         <span style=\"color: #808000; text-decoration-color: #808000\">custom_class</span><span style=\"color: #000000; text-decoration-color: #000000\">=</span><span style=\"color: #008000; text-decoration-color: #008000\">'ragbuilder.custom_components.CustomChunker'</span><span style=\"color: #000000; text-decoration-color: #000000; font-weight: bold\">)</span><span style=\"color: #000000; text-decoration-color: #000000\">, </span>                <span style=\"color: #7f7f7f; text-decoration-color: #7f7f7f\">                   </span>\n",
       "<span style=\"color: #7fbfbf; text-decoration-color: #7fbfbf\">           </span>         <span style=\"color: #008000; text-decoration-color: #008000\">'chunk_overlap'</span><span style=\"color: #000000; text-decoration-color: #000000\">: </span><span style=\"color: #008080; text-decoration-color: #008080; font-weight: bold\">100</span><span style=\"color: #000000; text-decoration-color: #000000\">, </span><span style=\"color: #008000; text-decoration-color: #008000\">'chunk_size'</span><span style=\"color: #000000; text-decoration-color: #000000\">: </span><span style=\"color: #008080; text-decoration-color: #008080; font-weight: bold\">1500</span><span style=\"color: #000000; text-decoration-color: #000000\">, </span><span style=\"color: #008000; text-decoration-color: #008000\">'embedding_model'</span><span style=\"color: #000000; text-decoration-color: #000000\">: </span>               <span style=\"color: #7f7f7f; text-decoration-color: #7f7f7f\">                   </span>\n",
       "<span style=\"color: #7fbfbf; text-decoration-color: #7fbfbf\">           </span>         <span style=\"color: #800080; text-decoration-color: #800080; font-weight: bold\">EmbeddingConfig</span><span style=\"color: #000000; text-decoration-color: #000000; font-weight: bold\">(</span><span style=\"color: #808000; text-decoration-color: #808000\">type</span><span style=\"color: #000000; text-decoration-color: #000000\">=&lt;EmbeddingModel.HUGGINGFACE: </span><span style=\"color: #008000; text-decoration-color: #008000\">'huggingface'</span><span style=\"color: #000000; text-decoration-color: #000000\">&gt;, </span>          <span style=\"color: #7f7f7f; text-decoration-color: #7f7f7f\">                   </span>\n",
       "<span style=\"color: #7fbfbf; text-decoration-color: #7fbfbf\">           </span>         <span style=\"color: #808000; text-decoration-color: #808000\">model_kwargs</span><span style=\"color: #000000; text-decoration-color: #000000\">=</span><span style=\"color: #000000; text-decoration-color: #000000; font-weight: bold\">{</span><span style=\"color: #008000; text-decoration-color: #008000\">'model_name'</span><span style=\"color: #000000; text-decoration-color: #000000\">: </span><span style=\"color: #008000; text-decoration-color: #008000\">'mixedbread-ai/mxbai-embed-large-v1'</span><span style=\"color: #000000; text-decoration-color: #000000; font-weight: bold\">}</span><span style=\"color: #000000; text-decoration-color: #000000\">, </span>         <span style=\"color: #7f7f7f; text-decoration-color: #7f7f7f\">                   </span>\n",
       "<span style=\"color: #7fbfbf; text-decoration-color: #7fbfbf\">           </span>         <span style=\"color: #808000; text-decoration-color: #808000\">custom_class</span><span style=\"color: #000000; text-decoration-color: #000000\">=</span><span style=\"color: #800080; text-decoration-color: #800080; font-style: italic\">None</span><span style=\"color: #000000; text-decoration-color: #000000; font-weight: bold\">)</span><span style=\"color: #000000; text-decoration-color: #000000\">, </span><span style=\"color: #008000; text-decoration-color: #008000\">'vector_database'</span><span style=\"color: #000000; text-decoration-color: #000000\">: </span>                                     <span style=\"color: #7f7f7f; text-decoration-color: #7f7f7f\">                   </span>\n",
       "<span style=\"color: #7fbfbf; text-decoration-color: #7fbfbf\">           </span>         <span style=\"color: #800080; text-decoration-color: #800080; font-weight: bold\">VectorDBConfig</span><span style=\"color: #000000; text-decoration-color: #000000; font-weight: bold\">(</span><span style=\"color: #808000; text-decoration-color: #808000\">type</span><span style=\"color: #000000; text-decoration-color: #000000\">=&lt;VectorDatabase.CHROMA: </span><span style=\"color: #008000; text-decoration-color: #008000\">'chroma'</span><span style=\"font-weight: bold\">&gt;</span>,                      <span style=\"color: #7f7f7f; text-decoration-color: #7f7f7f\">                   </span>\n",
       "<span style=\"color: #7fbfbf; text-decoration-color: #7fbfbf\">           </span>         <span style=\"color: #808000; text-decoration-color: #808000\">vectordb_kwargs</span>=<span style=\"font-weight: bold\">{</span><span style=\"color: #008000; text-decoration-color: #008000\">'persist_directory'</span>: <span style=\"color: #008000; text-decoration-color: #008000\">'chroma_sample2/15'</span>,                  <span style=\"color: #7f7f7f; text-decoration-color: #7f7f7f\">                   </span>\n",
       "<span style=\"color: #7fbfbf; text-decoration-color: #7fbfbf\">           </span>         <span style=\"color: #008000; text-decoration-color: #008000\">'collection_metadata'</span>: <span style=\"font-weight: bold\">{</span><span style=\"color: #008000; text-decoration-color: #008000\">'hnsw:space'</span>: <span style=\"color: #008000; text-decoration-color: #008000\">'cosine'</span><span style=\"font-weight: bold\">}}</span>, <span style=\"color: #808000; text-decoration-color: #808000\">custom_class</span>=<span style=\"color: #800080; text-decoration-color: #800080; font-style: italic\">None</span><span style=\"font-weight: bold\">)</span>,       <span style=\"color: #7f7f7f; text-decoration-color: #7f7f7f\">                   </span>\n",
       "<span style=\"color: #7fbfbf; text-decoration-color: #7fbfbf\">           </span>         <span style=\"color: #008000; text-decoration-color: #008000\">'sampling_rate'</span>: <span style=\"color: #800080; text-decoration-color: #800080; font-style: italic\">None</span><span style=\"font-weight: bold\">}</span>                                                      <span style=\"color: #7f7f7f; text-decoration-color: #7f7f7f\">                   </span>\n",
       "</pre>\n"
      ],
      "text/plain": [
       "\u001b[2;36m[19:04:01]\u001b[0m\u001b[2;36m \u001b[0m\u001b[34mINFO    \u001b[0m Trial parameters: \u001b[1m{\u001b[0m\u001b[32m'input_source'\u001b[0m: \u001b[32m'uber_10k.pdf'\u001b[0m, \u001b[32m'test_dataset'\u001b[0m:          \u001b]8;id=354169;file:///Users/aravind/KruxAI/ragbuilder/src/ragbuilder/data_ingest/optimization.py\u001b\\\u001b[2moptimization.py\u001b[0m\u001b]8;;\u001b\\\u001b[2m:\u001b[0m\u001b]8;id=41517;file:///Users/aravind/KruxAI/ragbuilder/src/ragbuilder/data_ingest/optimization.py#192\u001b\\\u001b[2m192\u001b[0m\u001b]8;;\u001b\\\n",
       "\u001b[2;36m           \u001b[0m         \u001b[32m'rag_test_data_1726600284.375674 uber10k_shortlist.csv'\u001b[0m, \u001b[32m'document_loader'\u001b[0m: \u001b[2m                   \u001b[0m\n",
       "\u001b[2;36m           \u001b[0m         \u001b[1;35mLoaderConfig\u001b[0m\u001b[1m(\u001b[0m\u001b[33mtype\u001b[0m=\u001b[1m<\u001b[0m\u001b[1;95mParserType.UNSTRUCTURED:\u001b[0m\u001b[39m \u001b[0m\u001b[32m'unstructured'\u001b[0m\u001b[39m>, \u001b[0m               \u001b[2m                   \u001b[0m\n",
       "\u001b[2;36m           \u001b[0m         \u001b[33mloader_kwargs\u001b[0m\u001b[39m=\u001b[0m\u001b[3;35mNone\u001b[0m\u001b[39m, \u001b[0m\u001b[33mcustom_class\u001b[0m\u001b[39m=\u001b[0m\u001b[3;35mNone\u001b[0m\u001b[1;39m)\u001b[0m\u001b[39m, \u001b[0m\u001b[32m'chunking_strategy'\u001b[0m\u001b[39m: \u001b[0m               \u001b[2m                   \u001b[0m\n",
       "\u001b[2;36m           \u001b[0m         \u001b[1;35mChunkingStrategyConfig\u001b[0m\u001b[1;39m(\u001b[0m\u001b[33mtype\u001b[0m\u001b[39m=<ChunkingStrategy.CUSTOM: \u001b[0m\u001b[32m'custom'\u001b[0m\u001b[39m>, \u001b[0m           \u001b[2m                   \u001b[0m\n",
       "\u001b[2;36m           \u001b[0m         \u001b[33mchunker_kwargs\u001b[0m\u001b[39m=\u001b[0m\u001b[3;35mNone\u001b[0m\u001b[39m, \u001b[0m                                                       \u001b[2m                   \u001b[0m\n",
       "\u001b[2;36m           \u001b[0m         \u001b[33mcustom_class\u001b[0m\u001b[39m=\u001b[0m\u001b[32m'ragbuilder.custom_components.CustomChunker'\u001b[0m\u001b[1;39m)\u001b[0m\u001b[39m, \u001b[0m                \u001b[2m                   \u001b[0m\n",
       "\u001b[2;36m           \u001b[0m         \u001b[32m'chunk_overlap'\u001b[0m\u001b[39m: \u001b[0m\u001b[1;36m100\u001b[0m\u001b[39m, \u001b[0m\u001b[32m'chunk_size'\u001b[0m\u001b[39m: \u001b[0m\u001b[1;36m1500\u001b[0m\u001b[39m, \u001b[0m\u001b[32m'embedding_model'\u001b[0m\u001b[39m: \u001b[0m               \u001b[2m                   \u001b[0m\n",
       "\u001b[2;36m           \u001b[0m         \u001b[1;35mEmbeddingConfig\u001b[0m\u001b[1;39m(\u001b[0m\u001b[33mtype\u001b[0m\u001b[39m=<EmbeddingModel.HUGGINGFACE: \u001b[0m\u001b[32m'huggingface'\u001b[0m\u001b[39m>, \u001b[0m          \u001b[2m                   \u001b[0m\n",
       "\u001b[2;36m           \u001b[0m         \u001b[33mmodel_kwargs\u001b[0m\u001b[39m=\u001b[0m\u001b[1;39m{\u001b[0m\u001b[32m'model_name'\u001b[0m\u001b[39m: \u001b[0m\u001b[32m'mixedbread-ai/mxbai-embed-large-v1'\u001b[0m\u001b[1;39m}\u001b[0m\u001b[39m, \u001b[0m         \u001b[2m                   \u001b[0m\n",
       "\u001b[2;36m           \u001b[0m         \u001b[33mcustom_class\u001b[0m\u001b[39m=\u001b[0m\u001b[3;35mNone\u001b[0m\u001b[1;39m)\u001b[0m\u001b[39m, \u001b[0m\u001b[32m'vector_database'\u001b[0m\u001b[39m: \u001b[0m                                     \u001b[2m                   \u001b[0m\n",
       "\u001b[2;36m           \u001b[0m         \u001b[1;35mVectorDBConfig\u001b[0m\u001b[1;39m(\u001b[0m\u001b[33mtype\u001b[0m\u001b[39m=<VectorDatabase.CHROMA: \u001b[0m\u001b[32m'chroma'\u001b[0m\u001b[1m>\u001b[0m,                      \u001b[2m                   \u001b[0m\n",
       "\u001b[2;36m           \u001b[0m         \u001b[33mvectordb_kwargs\u001b[0m=\u001b[1m{\u001b[0m\u001b[32m'persist_directory'\u001b[0m: \u001b[32m'chroma_sample2/15'\u001b[0m,                  \u001b[2m                   \u001b[0m\n",
       "\u001b[2;36m           \u001b[0m         \u001b[32m'collection_metadata'\u001b[0m: \u001b[1m{\u001b[0m\u001b[32m'hnsw:space'\u001b[0m: \u001b[32m'cosine'\u001b[0m\u001b[1m}\u001b[0m\u001b[1m}\u001b[0m, \u001b[33mcustom_class\u001b[0m=\u001b[3;35mNone\u001b[0m\u001b[1m)\u001b[0m,       \u001b[2m                   \u001b[0m\n",
       "\u001b[2;36m           \u001b[0m         \u001b[32m'sampling_rate'\u001b[0m: \u001b[3;35mNone\u001b[0m\u001b[1m}\u001b[0m                                                      \u001b[2m                   \u001b[0m\n"
      ]
     },
     "metadata": {},
     "output_type": "display_data"
    },
    {
     "data": {
      "text/html": [
       "<pre style=\"white-space:pre;overflow-x:auto;line-height:normal;font-family:Menlo,'DejaVu Sans Mono',consolas,'Courier New',monospace\"><span style=\"color: #7fbfbf; text-decoration-color: #7fbfbf\">           </span><span style=\"color: #000080; text-decoration-color: #000080\">INFO    </span> Config already evaluated with score: <span style=\"color: #008080; text-decoration-color: #008080; font-weight: bold\">0.8374550926422355</span>                      <a href=\"file:///Users/aravind/KruxAI/ragbuilder/src/ragbuilder/data_ingest/optimization.py\" target=\"_blank\"><span style=\"color: #7f7f7f; text-decoration-color: #7f7f7f\">optimization.py</span></a><span style=\"color: #7f7f7f; text-decoration-color: #7f7f7f\">:</span><a href=\"file:///Users/aravind/KruxAI/ragbuilder/src/ragbuilder/data_ingest/optimization.py#63\" target=\"_blank\"><span style=\"color: #7f7f7f; text-decoration-color: #7f7f7f\">63</span></a>\n",
       "</pre>\n"
      ],
      "text/plain": [
       "\u001b[2;36m          \u001b[0m\u001b[2;36m \u001b[0m\u001b[34mINFO    \u001b[0m Config already evaluated with score: \u001b[1;36m0.8374550926422355\u001b[0m                      \u001b]8;id=954196;file:///Users/aravind/KruxAI/ragbuilder/src/ragbuilder/data_ingest/optimization.py\u001b\\\u001b[2moptimization.py\u001b[0m\u001b]8;;\u001b\\\u001b[2m:\u001b[0m\u001b]8;id=864623;file:///Users/aravind/KruxAI/ragbuilder/src/ragbuilder/data_ingest/optimization.py#63\u001b\\\u001b[2m63\u001b[0m\u001b]8;;\u001b\\\n"
      ]
     },
     "metadata": {},
     "output_type": "display_data"
    },
    {
     "name": "stdout",
     "output_type": "stream",
     "text": [
      "[I 2024-11-12 19:04:01,093] Trial 15 finished with value: 0.8374550926422355 and parameters: {'document_loader_index': 1, 'chunking_strategy_index': 1, 'chunk_size': 1500, 'embedding_model_index': 0}. Best is trial 14 with value: 0.8374550926422355.\n"
     ]
    },
    {
     "data": {
      "text/html": [
       "<pre style=\"white-space:pre;overflow-x:auto;line-height:normal;font-family:Menlo,'DejaVu Sans Mono',consolas,'Courier New',monospace\"><span style=\"color: #005fff; text-decoration-color: #005fff; font-weight: bold\">Trial </span><span style=\"color: #005fff; text-decoration-color: #005fff; font-weight: bold\">16</span><span style=\"color: #005fff; text-decoration-color: #005fff; font-weight: bold\">/</span><span style=\"color: #005fff; text-decoration-color: #005fff; font-weight: bold\">29</span>\n",
       "</pre>\n"
      ],
      "text/plain": [
       "\u001b[1;38;5;27mTrial \u001b[0m\u001b[1;38;5;27m16\u001b[0m\u001b[1;38;5;27m/\u001b[0m\u001b[1;38;5;27m29\u001b[0m\n"
      ]
     },
     "metadata": {},
     "output_type": "display_data"
    },
    {
     "data": {
      "text/html": [
       "<pre style=\"white-space:pre;overflow-x:auto;line-height:normal;font-family:Menlo,'DejaVu Sans Mono',consolas,'Courier New',monospace\"><span style=\"color: #7fbfbf; text-decoration-color: #7fbfbf\">           </span><span style=\"color: #000080; text-decoration-color: #000080\">INFO    </span> Trial parameters: <span style=\"font-weight: bold\">{</span><span style=\"color: #008000; text-decoration-color: #008000\">'input_source'</span>: <span style=\"color: #008000; text-decoration-color: #008000\">'uber_10k.pdf'</span>, <span style=\"color: #008000; text-decoration-color: #008000\">'test_dataset'</span>:          <a href=\"file:///Users/aravind/KruxAI/ragbuilder/src/ragbuilder/data_ingest/optimization.py\" target=\"_blank\"><span style=\"color: #7f7f7f; text-decoration-color: #7f7f7f\">optimization.py</span></a><span style=\"color: #7f7f7f; text-decoration-color: #7f7f7f\">:</span><a href=\"file:///Users/aravind/KruxAI/ragbuilder/src/ragbuilder/data_ingest/optimization.py#192\" target=\"_blank\"><span style=\"color: #7f7f7f; text-decoration-color: #7f7f7f\">192</span></a>\n",
       "<span style=\"color: #7fbfbf; text-decoration-color: #7fbfbf\">           </span>         <span style=\"color: #008000; text-decoration-color: #008000\">'rag_test_data_1726600284.375674 uber10k_shortlist.csv'</span>, <span style=\"color: #008000; text-decoration-color: #008000\">'document_loader'</span>: <span style=\"color: #7f7f7f; text-decoration-color: #7f7f7f\">                   </span>\n",
       "<span style=\"color: #7fbfbf; text-decoration-color: #7fbfbf\">           </span>         <span style=\"color: #800080; text-decoration-color: #800080; font-weight: bold\">LoaderConfig</span><span style=\"font-weight: bold\">(</span><span style=\"color: #808000; text-decoration-color: #808000\">type</span>=<span style=\"font-weight: bold\">&lt;</span><span style=\"color: #ff00ff; text-decoration-color: #ff00ff; font-weight: bold\">ParserType.UNSTRUCTURED:</span><span style=\"color: #000000; text-decoration-color: #000000\"> </span><span style=\"color: #008000; text-decoration-color: #008000\">'unstructured'</span><span style=\"color: #000000; text-decoration-color: #000000\">&gt;, </span>               <span style=\"color: #7f7f7f; text-decoration-color: #7f7f7f\">                   </span>\n",
       "<span style=\"color: #7fbfbf; text-decoration-color: #7fbfbf\">           </span>         <span style=\"color: #808000; text-decoration-color: #808000\">loader_kwargs</span><span style=\"color: #000000; text-decoration-color: #000000\">=</span><span style=\"color: #800080; text-decoration-color: #800080; font-style: italic\">None</span><span style=\"color: #000000; text-decoration-color: #000000\">, </span><span style=\"color: #808000; text-decoration-color: #808000\">custom_class</span><span style=\"color: #000000; text-decoration-color: #000000\">=</span><span style=\"color: #800080; text-decoration-color: #800080; font-style: italic\">None</span><span style=\"color: #000000; text-decoration-color: #000000; font-weight: bold\">)</span><span style=\"color: #000000; text-decoration-color: #000000\">, </span><span style=\"color: #008000; text-decoration-color: #008000\">'chunking_strategy'</span><span style=\"color: #000000; text-decoration-color: #000000\">: </span>               <span style=\"color: #7f7f7f; text-decoration-color: #7f7f7f\">                   </span>\n",
       "<span style=\"color: #7fbfbf; text-decoration-color: #7fbfbf\">           </span>         <span style=\"color: #800080; text-decoration-color: #800080; font-weight: bold\">ChunkingStrategyConfig</span><span style=\"color: #000000; text-decoration-color: #000000; font-weight: bold\">(</span><span style=\"color: #808000; text-decoration-color: #808000\">type</span><span style=\"color: #000000; text-decoration-color: #000000\">=&lt;ChunkingStrategy.CUSTOM: </span><span style=\"color: #008000; text-decoration-color: #008000\">'custom'</span><span style=\"color: #000000; text-decoration-color: #000000\">&gt;, </span>           <span style=\"color: #7f7f7f; text-decoration-color: #7f7f7f\">                   </span>\n",
       "<span style=\"color: #7fbfbf; text-decoration-color: #7fbfbf\">           </span>         <span style=\"color: #808000; text-decoration-color: #808000\">chunker_kwargs</span><span style=\"color: #000000; text-decoration-color: #000000\">=</span><span style=\"color: #800080; text-decoration-color: #800080; font-style: italic\">None</span><span style=\"color: #000000; text-decoration-color: #000000\">, </span>                                                       <span style=\"color: #7f7f7f; text-decoration-color: #7f7f7f\">                   </span>\n",
       "<span style=\"color: #7fbfbf; text-decoration-color: #7fbfbf\">           </span>         <span style=\"color: #808000; text-decoration-color: #808000\">custom_class</span><span style=\"color: #000000; text-decoration-color: #000000\">=</span><span style=\"color: #008000; text-decoration-color: #008000\">'ragbuilder.custom_components.CustomChunker'</span><span style=\"color: #000000; text-decoration-color: #000000; font-weight: bold\">)</span><span style=\"color: #000000; text-decoration-color: #000000\">, </span>                <span style=\"color: #7f7f7f; text-decoration-color: #7f7f7f\">                   </span>\n",
       "<span style=\"color: #7fbfbf; text-decoration-color: #7fbfbf\">           </span>         <span style=\"color: #008000; text-decoration-color: #008000\">'chunk_overlap'</span><span style=\"color: #000000; text-decoration-color: #000000\">: </span><span style=\"color: #008080; text-decoration-color: #008080; font-weight: bold\">100</span><span style=\"color: #000000; text-decoration-color: #000000\">, </span><span style=\"color: #008000; text-decoration-color: #008000\">'chunk_size'</span><span style=\"color: #000000; text-decoration-color: #000000\">: </span><span style=\"color: #008080; text-decoration-color: #008080; font-weight: bold\">1500</span><span style=\"color: #000000; text-decoration-color: #000000\">, </span><span style=\"color: #008000; text-decoration-color: #008000\">'embedding_model'</span><span style=\"color: #000000; text-decoration-color: #000000\">: </span>               <span style=\"color: #7f7f7f; text-decoration-color: #7f7f7f\">                   </span>\n",
       "<span style=\"color: #7fbfbf; text-decoration-color: #7fbfbf\">           </span>         <span style=\"color: #800080; text-decoration-color: #800080; font-weight: bold\">EmbeddingConfig</span><span style=\"color: #000000; text-decoration-color: #000000; font-weight: bold\">(</span><span style=\"color: #808000; text-decoration-color: #808000\">type</span><span style=\"color: #000000; text-decoration-color: #000000\">=&lt;EmbeddingModel.HUGGINGFACE: </span><span style=\"color: #008000; text-decoration-color: #008000\">'huggingface'</span><span style=\"color: #000000; text-decoration-color: #000000\">&gt;, </span>          <span style=\"color: #7f7f7f; text-decoration-color: #7f7f7f\">                   </span>\n",
       "<span style=\"color: #7fbfbf; text-decoration-color: #7fbfbf\">           </span>         <span style=\"color: #808000; text-decoration-color: #808000\">model_kwargs</span><span style=\"color: #000000; text-decoration-color: #000000\">=</span><span style=\"color: #000000; text-decoration-color: #000000; font-weight: bold\">{</span><span style=\"color: #008000; text-decoration-color: #008000\">'model_name'</span><span style=\"color: #000000; text-decoration-color: #000000\">: </span><span style=\"color: #008000; text-decoration-color: #008000\">'mixedbread-ai/mxbai-embed-large-v1'</span><span style=\"color: #000000; text-decoration-color: #000000; font-weight: bold\">}</span><span style=\"color: #000000; text-decoration-color: #000000\">, </span>         <span style=\"color: #7f7f7f; text-decoration-color: #7f7f7f\">                   </span>\n",
       "<span style=\"color: #7fbfbf; text-decoration-color: #7fbfbf\">           </span>         <span style=\"color: #808000; text-decoration-color: #808000\">custom_class</span><span style=\"color: #000000; text-decoration-color: #000000\">=</span><span style=\"color: #800080; text-decoration-color: #800080; font-style: italic\">None</span><span style=\"color: #000000; text-decoration-color: #000000; font-weight: bold\">)</span><span style=\"color: #000000; text-decoration-color: #000000\">, </span><span style=\"color: #008000; text-decoration-color: #008000\">'vector_database'</span><span style=\"color: #000000; text-decoration-color: #000000\">: </span>                                     <span style=\"color: #7f7f7f; text-decoration-color: #7f7f7f\">                   </span>\n",
       "<span style=\"color: #7fbfbf; text-decoration-color: #7fbfbf\">           </span>         <span style=\"color: #800080; text-decoration-color: #800080; font-weight: bold\">VectorDBConfig</span><span style=\"color: #000000; text-decoration-color: #000000; font-weight: bold\">(</span><span style=\"color: #808000; text-decoration-color: #808000\">type</span><span style=\"color: #000000; text-decoration-color: #000000\">=&lt;VectorDatabase.CHROMA: </span><span style=\"color: #008000; text-decoration-color: #008000\">'chroma'</span><span style=\"font-weight: bold\">&gt;</span>,                      <span style=\"color: #7f7f7f; text-decoration-color: #7f7f7f\">                   </span>\n",
       "<span style=\"color: #7fbfbf; text-decoration-color: #7fbfbf\">           </span>         <span style=\"color: #808000; text-decoration-color: #808000\">vectordb_kwargs</span>=<span style=\"font-weight: bold\">{</span><span style=\"color: #008000; text-decoration-color: #008000\">'persist_directory'</span>: <span style=\"color: #008000; text-decoration-color: #008000\">'chroma_sample2/16'</span>,                  <span style=\"color: #7f7f7f; text-decoration-color: #7f7f7f\">                   </span>\n",
       "<span style=\"color: #7fbfbf; text-decoration-color: #7fbfbf\">           </span>         <span style=\"color: #008000; text-decoration-color: #008000\">'collection_metadata'</span>: <span style=\"font-weight: bold\">{</span><span style=\"color: #008000; text-decoration-color: #008000\">'hnsw:space'</span>: <span style=\"color: #008000; text-decoration-color: #008000\">'cosine'</span><span style=\"font-weight: bold\">}}</span>, <span style=\"color: #808000; text-decoration-color: #808000\">custom_class</span>=<span style=\"color: #800080; text-decoration-color: #800080; font-style: italic\">None</span><span style=\"font-weight: bold\">)</span>,       <span style=\"color: #7f7f7f; text-decoration-color: #7f7f7f\">                   </span>\n",
       "<span style=\"color: #7fbfbf; text-decoration-color: #7fbfbf\">           </span>         <span style=\"color: #008000; text-decoration-color: #008000\">'sampling_rate'</span>: <span style=\"color: #800080; text-decoration-color: #800080; font-style: italic\">None</span><span style=\"font-weight: bold\">}</span>                                                      <span style=\"color: #7f7f7f; text-decoration-color: #7f7f7f\">                   </span>\n",
       "</pre>\n"
      ],
      "text/plain": [
       "\u001b[2;36m          \u001b[0m\u001b[2;36m \u001b[0m\u001b[34mINFO    \u001b[0m Trial parameters: \u001b[1m{\u001b[0m\u001b[32m'input_source'\u001b[0m: \u001b[32m'uber_10k.pdf'\u001b[0m, \u001b[32m'test_dataset'\u001b[0m:          \u001b]8;id=263357;file:///Users/aravind/KruxAI/ragbuilder/src/ragbuilder/data_ingest/optimization.py\u001b\\\u001b[2moptimization.py\u001b[0m\u001b]8;;\u001b\\\u001b[2m:\u001b[0m\u001b]8;id=574247;file:///Users/aravind/KruxAI/ragbuilder/src/ragbuilder/data_ingest/optimization.py#192\u001b\\\u001b[2m192\u001b[0m\u001b]8;;\u001b\\\n",
       "\u001b[2;36m           \u001b[0m         \u001b[32m'rag_test_data_1726600284.375674 uber10k_shortlist.csv'\u001b[0m, \u001b[32m'document_loader'\u001b[0m: \u001b[2m                   \u001b[0m\n",
       "\u001b[2;36m           \u001b[0m         \u001b[1;35mLoaderConfig\u001b[0m\u001b[1m(\u001b[0m\u001b[33mtype\u001b[0m=\u001b[1m<\u001b[0m\u001b[1;95mParserType.UNSTRUCTURED:\u001b[0m\u001b[39m \u001b[0m\u001b[32m'unstructured'\u001b[0m\u001b[39m>, \u001b[0m               \u001b[2m                   \u001b[0m\n",
       "\u001b[2;36m           \u001b[0m         \u001b[33mloader_kwargs\u001b[0m\u001b[39m=\u001b[0m\u001b[3;35mNone\u001b[0m\u001b[39m, \u001b[0m\u001b[33mcustom_class\u001b[0m\u001b[39m=\u001b[0m\u001b[3;35mNone\u001b[0m\u001b[1;39m)\u001b[0m\u001b[39m, \u001b[0m\u001b[32m'chunking_strategy'\u001b[0m\u001b[39m: \u001b[0m               \u001b[2m                   \u001b[0m\n",
       "\u001b[2;36m           \u001b[0m         \u001b[1;35mChunkingStrategyConfig\u001b[0m\u001b[1;39m(\u001b[0m\u001b[33mtype\u001b[0m\u001b[39m=<ChunkingStrategy.CUSTOM: \u001b[0m\u001b[32m'custom'\u001b[0m\u001b[39m>, \u001b[0m           \u001b[2m                   \u001b[0m\n",
       "\u001b[2;36m           \u001b[0m         \u001b[33mchunker_kwargs\u001b[0m\u001b[39m=\u001b[0m\u001b[3;35mNone\u001b[0m\u001b[39m, \u001b[0m                                                       \u001b[2m                   \u001b[0m\n",
       "\u001b[2;36m           \u001b[0m         \u001b[33mcustom_class\u001b[0m\u001b[39m=\u001b[0m\u001b[32m'ragbuilder.custom_components.CustomChunker'\u001b[0m\u001b[1;39m)\u001b[0m\u001b[39m, \u001b[0m                \u001b[2m                   \u001b[0m\n",
       "\u001b[2;36m           \u001b[0m         \u001b[32m'chunk_overlap'\u001b[0m\u001b[39m: \u001b[0m\u001b[1;36m100\u001b[0m\u001b[39m, \u001b[0m\u001b[32m'chunk_size'\u001b[0m\u001b[39m: \u001b[0m\u001b[1;36m1500\u001b[0m\u001b[39m, \u001b[0m\u001b[32m'embedding_model'\u001b[0m\u001b[39m: \u001b[0m               \u001b[2m                   \u001b[0m\n",
       "\u001b[2;36m           \u001b[0m         \u001b[1;35mEmbeddingConfig\u001b[0m\u001b[1;39m(\u001b[0m\u001b[33mtype\u001b[0m\u001b[39m=<EmbeddingModel.HUGGINGFACE: \u001b[0m\u001b[32m'huggingface'\u001b[0m\u001b[39m>, \u001b[0m          \u001b[2m                   \u001b[0m\n",
       "\u001b[2;36m           \u001b[0m         \u001b[33mmodel_kwargs\u001b[0m\u001b[39m=\u001b[0m\u001b[1;39m{\u001b[0m\u001b[32m'model_name'\u001b[0m\u001b[39m: \u001b[0m\u001b[32m'mixedbread-ai/mxbai-embed-large-v1'\u001b[0m\u001b[1;39m}\u001b[0m\u001b[39m, \u001b[0m         \u001b[2m                   \u001b[0m\n",
       "\u001b[2;36m           \u001b[0m         \u001b[33mcustom_class\u001b[0m\u001b[39m=\u001b[0m\u001b[3;35mNone\u001b[0m\u001b[1;39m)\u001b[0m\u001b[39m, \u001b[0m\u001b[32m'vector_database'\u001b[0m\u001b[39m: \u001b[0m                                     \u001b[2m                   \u001b[0m\n",
       "\u001b[2;36m           \u001b[0m         \u001b[1;35mVectorDBConfig\u001b[0m\u001b[1;39m(\u001b[0m\u001b[33mtype\u001b[0m\u001b[39m=<VectorDatabase.CHROMA: \u001b[0m\u001b[32m'chroma'\u001b[0m\u001b[1m>\u001b[0m,                      \u001b[2m                   \u001b[0m\n",
       "\u001b[2;36m           \u001b[0m         \u001b[33mvectordb_kwargs\u001b[0m=\u001b[1m{\u001b[0m\u001b[32m'persist_directory'\u001b[0m: \u001b[32m'chroma_sample2/16'\u001b[0m,                  \u001b[2m                   \u001b[0m\n",
       "\u001b[2;36m           \u001b[0m         \u001b[32m'collection_metadata'\u001b[0m: \u001b[1m{\u001b[0m\u001b[32m'hnsw:space'\u001b[0m: \u001b[32m'cosine'\u001b[0m\u001b[1m}\u001b[0m\u001b[1m}\u001b[0m, \u001b[33mcustom_class\u001b[0m=\u001b[3;35mNone\u001b[0m\u001b[1m)\u001b[0m,       \u001b[2m                   \u001b[0m\n",
       "\u001b[2;36m           \u001b[0m         \u001b[32m'sampling_rate'\u001b[0m: \u001b[3;35mNone\u001b[0m\u001b[1m}\u001b[0m                                                      \u001b[2m                   \u001b[0m\n"
      ]
     },
     "metadata": {},
     "output_type": "display_data"
    },
    {
     "data": {
      "text/html": [
       "<pre style=\"white-space:pre;overflow-x:auto;line-height:normal;font-family:Menlo,'DejaVu Sans Mono',consolas,'Courier New',monospace\"><span style=\"color: #7fbfbf; text-decoration-color: #7fbfbf\">           </span><span style=\"color: #000080; text-decoration-color: #000080\">INFO    </span> Config already evaluated with score: <span style=\"color: #008080; text-decoration-color: #008080; font-weight: bold\">0.8374550926422355</span>                      <a href=\"file:///Users/aravind/KruxAI/ragbuilder/src/ragbuilder/data_ingest/optimization.py\" target=\"_blank\"><span style=\"color: #7f7f7f; text-decoration-color: #7f7f7f\">optimization.py</span></a><span style=\"color: #7f7f7f; text-decoration-color: #7f7f7f\">:</span><a href=\"file:///Users/aravind/KruxAI/ragbuilder/src/ragbuilder/data_ingest/optimization.py#63\" target=\"_blank\"><span style=\"color: #7f7f7f; text-decoration-color: #7f7f7f\">63</span></a>\n",
       "</pre>\n"
      ],
      "text/plain": [
       "\u001b[2;36m          \u001b[0m\u001b[2;36m \u001b[0m\u001b[34mINFO    \u001b[0m Config already evaluated with score: \u001b[1;36m0.8374550926422355\u001b[0m                      \u001b]8;id=1341;file:///Users/aravind/KruxAI/ragbuilder/src/ragbuilder/data_ingest/optimization.py\u001b\\\u001b[2moptimization.py\u001b[0m\u001b]8;;\u001b\\\u001b[2m:\u001b[0m\u001b]8;id=435020;file:///Users/aravind/KruxAI/ragbuilder/src/ragbuilder/data_ingest/optimization.py#63\u001b\\\u001b[2m63\u001b[0m\u001b]8;;\u001b\\\n"
      ]
     },
     "metadata": {},
     "output_type": "display_data"
    },
    {
     "name": "stdout",
     "output_type": "stream",
     "text": [
      "[I 2024-11-12 19:04:01,105] Trial 16 finished with value: 0.8374550926422355 and parameters: {'document_loader_index': 1, 'chunking_strategy_index': 1, 'chunk_size': 1500, 'embedding_model_index': 0}. Best is trial 14 with value: 0.8374550926422355.\n"
     ]
    },
    {
     "data": {
      "text/html": [
       "<pre style=\"white-space:pre;overflow-x:auto;line-height:normal;font-family:Menlo,'DejaVu Sans Mono',consolas,'Courier New',monospace\"><span style=\"color: #005fff; text-decoration-color: #005fff; font-weight: bold\">Trial </span><span style=\"color: #005fff; text-decoration-color: #005fff; font-weight: bold\">17</span><span style=\"color: #005fff; text-decoration-color: #005fff; font-weight: bold\">/</span><span style=\"color: #005fff; text-decoration-color: #005fff; font-weight: bold\">29</span>\n",
       "</pre>\n"
      ],
      "text/plain": [
       "\u001b[1;38;5;27mTrial \u001b[0m\u001b[1;38;5;27m17\u001b[0m\u001b[1;38;5;27m/\u001b[0m\u001b[1;38;5;27m29\u001b[0m\n"
      ]
     },
     "metadata": {},
     "output_type": "display_data"
    },
    {
     "data": {
      "text/html": [
       "<pre style=\"white-space:pre;overflow-x:auto;line-height:normal;font-family:Menlo,'DejaVu Sans Mono',consolas,'Courier New',monospace\"><span style=\"color: #7fbfbf; text-decoration-color: #7fbfbf\">           </span><span style=\"color: #000080; text-decoration-color: #000080\">INFO    </span> Trial parameters: <span style=\"font-weight: bold\">{</span><span style=\"color: #008000; text-decoration-color: #008000\">'input_source'</span>: <span style=\"color: #008000; text-decoration-color: #008000\">'uber_10k.pdf'</span>, <span style=\"color: #008000; text-decoration-color: #008000\">'test_dataset'</span>:          <a href=\"file:///Users/aravind/KruxAI/ragbuilder/src/ragbuilder/data_ingest/optimization.py\" target=\"_blank\"><span style=\"color: #7f7f7f; text-decoration-color: #7f7f7f\">optimization.py</span></a><span style=\"color: #7f7f7f; text-decoration-color: #7f7f7f\">:</span><a href=\"file:///Users/aravind/KruxAI/ragbuilder/src/ragbuilder/data_ingest/optimization.py#192\" target=\"_blank\"><span style=\"color: #7f7f7f; text-decoration-color: #7f7f7f\">192</span></a>\n",
       "<span style=\"color: #7fbfbf; text-decoration-color: #7fbfbf\">           </span>         <span style=\"color: #008000; text-decoration-color: #008000\">'rag_test_data_1726600284.375674 uber10k_shortlist.csv'</span>, <span style=\"color: #008000; text-decoration-color: #008000\">'document_loader'</span>: <span style=\"color: #7f7f7f; text-decoration-color: #7f7f7f\">                   </span>\n",
       "<span style=\"color: #7fbfbf; text-decoration-color: #7fbfbf\">           </span>         <span style=\"color: #800080; text-decoration-color: #800080; font-weight: bold\">LoaderConfig</span><span style=\"font-weight: bold\">(</span><span style=\"color: #808000; text-decoration-color: #808000\">type</span>=<span style=\"font-weight: bold\">&lt;</span><span style=\"color: #ff00ff; text-decoration-color: #ff00ff; font-weight: bold\">ParserType.PYMUPDF:</span><span style=\"color: #000000; text-decoration-color: #000000\"> </span><span style=\"color: #008000; text-decoration-color: #008000\">'pymupdf'</span><span style=\"color: #000000; text-decoration-color: #000000\">&gt;, </span><span style=\"color: #808000; text-decoration-color: #808000\">loader_kwargs</span><span style=\"color: #000000; text-decoration-color: #000000\">=</span><span style=\"color: #800080; text-decoration-color: #800080; font-style: italic\">None</span><span style=\"color: #000000; text-decoration-color: #000000\">, </span>     <span style=\"color: #7f7f7f; text-decoration-color: #7f7f7f\">                   </span>\n",
       "<span style=\"color: #7fbfbf; text-decoration-color: #7fbfbf\">           </span>         <span style=\"color: #808000; text-decoration-color: #808000\">custom_class</span><span style=\"color: #000000; text-decoration-color: #000000\">=</span><span style=\"color: #800080; text-decoration-color: #800080; font-style: italic\">None</span><span style=\"color: #000000; text-decoration-color: #000000; font-weight: bold\">)</span><span style=\"color: #000000; text-decoration-color: #000000\">, </span><span style=\"color: #008000; text-decoration-color: #008000\">'chunking_strategy'</span><span style=\"color: #000000; text-decoration-color: #000000\">: </span>                                   <span style=\"color: #7f7f7f; text-decoration-color: #7f7f7f\">                   </span>\n",
       "<span style=\"color: #7fbfbf; text-decoration-color: #7fbfbf\">           </span>         <span style=\"color: #800080; text-decoration-color: #800080; font-weight: bold\">ChunkingStrategyConfig</span><span style=\"color: #000000; text-decoration-color: #000000; font-weight: bold\">(</span><span style=\"color: #808000; text-decoration-color: #808000\">type</span><span style=\"color: #000000; text-decoration-color: #000000\">=&lt;ChunkingStrategy.CUSTOM: </span><span style=\"color: #008000; text-decoration-color: #008000\">'custom'</span><span style=\"color: #000000; text-decoration-color: #000000\">&gt;, </span>           <span style=\"color: #7f7f7f; text-decoration-color: #7f7f7f\">                   </span>\n",
       "<span style=\"color: #7fbfbf; text-decoration-color: #7fbfbf\">           </span>         <span style=\"color: #808000; text-decoration-color: #808000\">chunker_kwargs</span><span style=\"color: #000000; text-decoration-color: #000000\">=</span><span style=\"color: #800080; text-decoration-color: #800080; font-style: italic\">None</span><span style=\"color: #000000; text-decoration-color: #000000\">, </span>                                                       <span style=\"color: #7f7f7f; text-decoration-color: #7f7f7f\">                   </span>\n",
       "<span style=\"color: #7fbfbf; text-decoration-color: #7fbfbf\">           </span>         <span style=\"color: #808000; text-decoration-color: #808000\">custom_class</span><span style=\"color: #000000; text-decoration-color: #000000\">=</span><span style=\"color: #008000; text-decoration-color: #008000\">'ragbuilder.custom_components.CustomChunker'</span><span style=\"color: #000000; text-decoration-color: #000000; font-weight: bold\">)</span><span style=\"color: #000000; text-decoration-color: #000000\">, </span>                <span style=\"color: #7f7f7f; text-decoration-color: #7f7f7f\">                   </span>\n",
       "<span style=\"color: #7fbfbf; text-decoration-color: #7fbfbf\">           </span>         <span style=\"color: #008000; text-decoration-color: #008000\">'chunk_overlap'</span><span style=\"color: #000000; text-decoration-color: #000000\">: </span><span style=\"color: #008080; text-decoration-color: #008080; font-weight: bold\">100</span><span style=\"color: #000000; text-decoration-color: #000000\">, </span><span style=\"color: #008000; text-decoration-color: #008000\">'chunk_size'</span><span style=\"color: #000000; text-decoration-color: #000000\">: </span><span style=\"color: #008080; text-decoration-color: #008080; font-weight: bold\">1500</span><span style=\"color: #000000; text-decoration-color: #000000\">, </span><span style=\"color: #008000; text-decoration-color: #008000\">'embedding_model'</span><span style=\"color: #000000; text-decoration-color: #000000\">: </span>               <span style=\"color: #7f7f7f; text-decoration-color: #7f7f7f\">                   </span>\n",
       "<span style=\"color: #7fbfbf; text-decoration-color: #7fbfbf\">           </span>         <span style=\"color: #800080; text-decoration-color: #800080; font-weight: bold\">EmbeddingConfig</span><span style=\"color: #000000; text-decoration-color: #000000; font-weight: bold\">(</span><span style=\"color: #808000; text-decoration-color: #808000\">type</span><span style=\"color: #000000; text-decoration-color: #000000\">=&lt;EmbeddingModel.HUGGINGFACE: </span><span style=\"color: #008000; text-decoration-color: #008000\">'huggingface'</span><span style=\"color: #000000; text-decoration-color: #000000\">&gt;, </span>          <span style=\"color: #7f7f7f; text-decoration-color: #7f7f7f\">                   </span>\n",
       "<span style=\"color: #7fbfbf; text-decoration-color: #7fbfbf\">           </span>         <span style=\"color: #808000; text-decoration-color: #808000\">model_kwargs</span><span style=\"color: #000000; text-decoration-color: #000000\">=</span><span style=\"color: #000000; text-decoration-color: #000000; font-weight: bold\">{</span><span style=\"color: #008000; text-decoration-color: #008000\">'model_name'</span><span style=\"color: #000000; text-decoration-color: #000000\">: </span><span style=\"color: #008000; text-decoration-color: #008000\">'mixedbread-ai/mxbai-embed-large-v1'</span><span style=\"color: #000000; text-decoration-color: #000000; font-weight: bold\">}</span><span style=\"color: #000000; text-decoration-color: #000000\">, </span>         <span style=\"color: #7f7f7f; text-decoration-color: #7f7f7f\">                   </span>\n",
       "<span style=\"color: #7fbfbf; text-decoration-color: #7fbfbf\">           </span>         <span style=\"color: #808000; text-decoration-color: #808000\">custom_class</span><span style=\"color: #000000; text-decoration-color: #000000\">=</span><span style=\"color: #800080; text-decoration-color: #800080; font-style: italic\">None</span><span style=\"color: #000000; text-decoration-color: #000000; font-weight: bold\">)</span><span style=\"color: #000000; text-decoration-color: #000000\">, </span><span style=\"color: #008000; text-decoration-color: #008000\">'vector_database'</span><span style=\"color: #000000; text-decoration-color: #000000\">: </span>                                     <span style=\"color: #7f7f7f; text-decoration-color: #7f7f7f\">                   </span>\n",
       "<span style=\"color: #7fbfbf; text-decoration-color: #7fbfbf\">           </span>         <span style=\"color: #800080; text-decoration-color: #800080; font-weight: bold\">VectorDBConfig</span><span style=\"color: #000000; text-decoration-color: #000000; font-weight: bold\">(</span><span style=\"color: #808000; text-decoration-color: #808000\">type</span><span style=\"color: #000000; text-decoration-color: #000000\">=&lt;VectorDatabase.CHROMA: </span><span style=\"color: #008000; text-decoration-color: #008000\">'chroma'</span><span style=\"font-weight: bold\">&gt;</span>,                      <span style=\"color: #7f7f7f; text-decoration-color: #7f7f7f\">                   </span>\n",
       "<span style=\"color: #7fbfbf; text-decoration-color: #7fbfbf\">           </span>         <span style=\"color: #808000; text-decoration-color: #808000\">vectordb_kwargs</span>=<span style=\"font-weight: bold\">{</span><span style=\"color: #008000; text-decoration-color: #008000\">'persist_directory'</span>: <span style=\"color: #008000; text-decoration-color: #008000\">'chroma_sample2/17'</span>,                  <span style=\"color: #7f7f7f; text-decoration-color: #7f7f7f\">                   </span>\n",
       "<span style=\"color: #7fbfbf; text-decoration-color: #7fbfbf\">           </span>         <span style=\"color: #008000; text-decoration-color: #008000\">'collection_metadata'</span>: <span style=\"font-weight: bold\">{</span><span style=\"color: #008000; text-decoration-color: #008000\">'hnsw:space'</span>: <span style=\"color: #008000; text-decoration-color: #008000\">'cosine'</span><span style=\"font-weight: bold\">}}</span>, <span style=\"color: #808000; text-decoration-color: #808000\">custom_class</span>=<span style=\"color: #800080; text-decoration-color: #800080; font-style: italic\">None</span><span style=\"font-weight: bold\">)</span>,       <span style=\"color: #7f7f7f; text-decoration-color: #7f7f7f\">                   </span>\n",
       "<span style=\"color: #7fbfbf; text-decoration-color: #7fbfbf\">           </span>         <span style=\"color: #008000; text-decoration-color: #008000\">'sampling_rate'</span>: <span style=\"color: #800080; text-decoration-color: #800080; font-style: italic\">None</span><span style=\"font-weight: bold\">}</span>                                                      <span style=\"color: #7f7f7f; text-decoration-color: #7f7f7f\">                   </span>\n",
       "</pre>\n"
      ],
      "text/plain": [
       "\u001b[2;36m          \u001b[0m\u001b[2;36m \u001b[0m\u001b[34mINFO    \u001b[0m Trial parameters: \u001b[1m{\u001b[0m\u001b[32m'input_source'\u001b[0m: \u001b[32m'uber_10k.pdf'\u001b[0m, \u001b[32m'test_dataset'\u001b[0m:          \u001b]8;id=3733;file:///Users/aravind/KruxAI/ragbuilder/src/ragbuilder/data_ingest/optimization.py\u001b\\\u001b[2moptimization.py\u001b[0m\u001b]8;;\u001b\\\u001b[2m:\u001b[0m\u001b]8;id=715460;file:///Users/aravind/KruxAI/ragbuilder/src/ragbuilder/data_ingest/optimization.py#192\u001b\\\u001b[2m192\u001b[0m\u001b]8;;\u001b\\\n",
       "\u001b[2;36m           \u001b[0m         \u001b[32m'rag_test_data_1726600284.375674 uber10k_shortlist.csv'\u001b[0m, \u001b[32m'document_loader'\u001b[0m: \u001b[2m                   \u001b[0m\n",
       "\u001b[2;36m           \u001b[0m         \u001b[1;35mLoaderConfig\u001b[0m\u001b[1m(\u001b[0m\u001b[33mtype\u001b[0m=\u001b[1m<\u001b[0m\u001b[1;95mParserType.PYMUPDF:\u001b[0m\u001b[39m \u001b[0m\u001b[32m'pymupdf'\u001b[0m\u001b[39m>, \u001b[0m\u001b[33mloader_kwargs\u001b[0m\u001b[39m=\u001b[0m\u001b[3;35mNone\u001b[0m\u001b[39m, \u001b[0m     \u001b[2m                   \u001b[0m\n",
       "\u001b[2;36m           \u001b[0m         \u001b[33mcustom_class\u001b[0m\u001b[39m=\u001b[0m\u001b[3;35mNone\u001b[0m\u001b[1;39m)\u001b[0m\u001b[39m, \u001b[0m\u001b[32m'chunking_strategy'\u001b[0m\u001b[39m: \u001b[0m                                   \u001b[2m                   \u001b[0m\n",
       "\u001b[2;36m           \u001b[0m         \u001b[1;35mChunkingStrategyConfig\u001b[0m\u001b[1;39m(\u001b[0m\u001b[33mtype\u001b[0m\u001b[39m=<ChunkingStrategy.CUSTOM: \u001b[0m\u001b[32m'custom'\u001b[0m\u001b[39m>, \u001b[0m           \u001b[2m                   \u001b[0m\n",
       "\u001b[2;36m           \u001b[0m         \u001b[33mchunker_kwargs\u001b[0m\u001b[39m=\u001b[0m\u001b[3;35mNone\u001b[0m\u001b[39m, \u001b[0m                                                       \u001b[2m                   \u001b[0m\n",
       "\u001b[2;36m           \u001b[0m         \u001b[33mcustom_class\u001b[0m\u001b[39m=\u001b[0m\u001b[32m'ragbuilder.custom_components.CustomChunker'\u001b[0m\u001b[1;39m)\u001b[0m\u001b[39m, \u001b[0m                \u001b[2m                   \u001b[0m\n",
       "\u001b[2;36m           \u001b[0m         \u001b[32m'chunk_overlap'\u001b[0m\u001b[39m: \u001b[0m\u001b[1;36m100\u001b[0m\u001b[39m, \u001b[0m\u001b[32m'chunk_size'\u001b[0m\u001b[39m: \u001b[0m\u001b[1;36m1500\u001b[0m\u001b[39m, \u001b[0m\u001b[32m'embedding_model'\u001b[0m\u001b[39m: \u001b[0m               \u001b[2m                   \u001b[0m\n",
       "\u001b[2;36m           \u001b[0m         \u001b[1;35mEmbeddingConfig\u001b[0m\u001b[1;39m(\u001b[0m\u001b[33mtype\u001b[0m\u001b[39m=<EmbeddingModel.HUGGINGFACE: \u001b[0m\u001b[32m'huggingface'\u001b[0m\u001b[39m>, \u001b[0m          \u001b[2m                   \u001b[0m\n",
       "\u001b[2;36m           \u001b[0m         \u001b[33mmodel_kwargs\u001b[0m\u001b[39m=\u001b[0m\u001b[1;39m{\u001b[0m\u001b[32m'model_name'\u001b[0m\u001b[39m: \u001b[0m\u001b[32m'mixedbread-ai/mxbai-embed-large-v1'\u001b[0m\u001b[1;39m}\u001b[0m\u001b[39m, \u001b[0m         \u001b[2m                   \u001b[0m\n",
       "\u001b[2;36m           \u001b[0m         \u001b[33mcustom_class\u001b[0m\u001b[39m=\u001b[0m\u001b[3;35mNone\u001b[0m\u001b[1;39m)\u001b[0m\u001b[39m, \u001b[0m\u001b[32m'vector_database'\u001b[0m\u001b[39m: \u001b[0m                                     \u001b[2m                   \u001b[0m\n",
       "\u001b[2;36m           \u001b[0m         \u001b[1;35mVectorDBConfig\u001b[0m\u001b[1;39m(\u001b[0m\u001b[33mtype\u001b[0m\u001b[39m=<VectorDatabase.CHROMA: \u001b[0m\u001b[32m'chroma'\u001b[0m\u001b[1m>\u001b[0m,                      \u001b[2m                   \u001b[0m\n",
       "\u001b[2;36m           \u001b[0m         \u001b[33mvectordb_kwargs\u001b[0m=\u001b[1m{\u001b[0m\u001b[32m'persist_directory'\u001b[0m: \u001b[32m'chroma_sample2/17'\u001b[0m,                  \u001b[2m                   \u001b[0m\n",
       "\u001b[2;36m           \u001b[0m         \u001b[32m'collection_metadata'\u001b[0m: \u001b[1m{\u001b[0m\u001b[32m'hnsw:space'\u001b[0m: \u001b[32m'cosine'\u001b[0m\u001b[1m}\u001b[0m\u001b[1m}\u001b[0m, \u001b[33mcustom_class\u001b[0m=\u001b[3;35mNone\u001b[0m\u001b[1m)\u001b[0m,       \u001b[2m                   \u001b[0m\n",
       "\u001b[2;36m           \u001b[0m         \u001b[32m'sampling_rate'\u001b[0m: \u001b[3;35mNone\u001b[0m\u001b[1m}\u001b[0m                                                      \u001b[2m                   \u001b[0m\n"
      ]
     },
     "metadata": {},
     "output_type": "display_data"
    },
    {
     "name": "stdout",
     "output_type": "stream",
     "text": [
      "class_path:  ragbuilder.custom_components.CustomChunker\n"
     ]
    },
    {
     "data": {
      "text/html": [
       "<pre style=\"white-space:pre;overflow-x:auto;line-height:normal;font-family:Menlo,'DejaVu Sans Mono',consolas,'Courier New',monospace\"><span style=\"color: #7fbfbf; text-decoration-color: #7fbfbf\">           </span><span style=\"color: #000080; text-decoration-color: #000080\">INFO    </span> Load pretrained SentenceTransformer:                                 <a href=\"file:///opt/anaconda3/envs/ragbuilder/lib/python3.12/site-packages/sentence_transformers/SentenceTransformer.py\" target=\"_blank\"><span style=\"color: #7f7f7f; text-decoration-color: #7f7f7f\">SentenceTransformer.py</span></a><span style=\"color: #7f7f7f; text-decoration-color: #7f7f7f\">:</span><a href=\"file:///opt/anaconda3/envs/ragbuilder/lib/python3.12/site-packages/sentence_transformers/SentenceTransformer.py#113\" target=\"_blank\"><span style=\"color: #7f7f7f; text-decoration-color: #7f7f7f\">113</span></a>\n",
       "<span style=\"color: #7fbfbf; text-decoration-color: #7fbfbf\">           </span>         mixedbread-ai/mxbai-embed-large-v1                                   <span style=\"color: #7f7f7f; text-decoration-color: #7f7f7f\">                          </span>\n",
       "</pre>\n"
      ],
      "text/plain": [
       "\u001b[2;36m          \u001b[0m\u001b[2;36m \u001b[0m\u001b[34mINFO    \u001b[0m Load pretrained SentenceTransformer:                                 \u001b]8;id=863371;file:///opt/anaconda3/envs/ragbuilder/lib/python3.12/site-packages/sentence_transformers/SentenceTransformer.py\u001b\\\u001b[2mSentenceTransformer.py\u001b[0m\u001b]8;;\u001b\\\u001b[2m:\u001b[0m\u001b]8;id=483079;file:///opt/anaconda3/envs/ragbuilder/lib/python3.12/site-packages/sentence_transformers/SentenceTransformer.py#113\u001b\\\u001b[2m113\u001b[0m\u001b]8;;\u001b\\\n",
       "\u001b[2;36m           \u001b[0m         mixedbread-ai/mxbai-embed-large-v1                                   \u001b[2m                          \u001b[0m\n"
      ]
     },
     "metadata": {},
     "output_type": "display_data"
    },
    {
     "data": {
      "text/html": [
       "<pre style=\"white-space:pre;overflow-x:auto;line-height:normal;font-family:Menlo,'DejaVu Sans Mono',consolas,'Courier New',monospace\"><span style=\"color: #7fbfbf; text-decoration-color: #7fbfbf\">[19:04:05] </span><span style=\"color: #000080; text-decoration-color: #000080\">INFO    </span> Use pytorch device_name: mps                                         <a href=\"file:///opt/anaconda3/envs/ragbuilder/lib/python3.12/site-packages/sentence_transformers/SentenceTransformer.py\" target=\"_blank\"><span style=\"color: #7f7f7f; text-decoration-color: #7f7f7f\">SentenceTransformer.py</span></a><span style=\"color: #7f7f7f; text-decoration-color: #7f7f7f\">:</span><a href=\"file:///opt/anaconda3/envs/ragbuilder/lib/python3.12/site-packages/sentence_transformers/SentenceTransformer.py#219\" target=\"_blank\"><span style=\"color: #7f7f7f; text-decoration-color: #7f7f7f\">219</span></a>\n",
       "</pre>\n"
      ],
      "text/plain": [
       "\u001b[2;36m[19:04:05]\u001b[0m\u001b[2;36m \u001b[0m\u001b[34mINFO    \u001b[0m Use pytorch device_name: mps                                         \u001b]8;id=444272;file:///opt/anaconda3/envs/ragbuilder/lib/python3.12/site-packages/sentence_transformers/SentenceTransformer.py\u001b\\\u001b[2mSentenceTransformer.py\u001b[0m\u001b]8;;\u001b\\\u001b[2m:\u001b[0m\u001b]8;id=150498;file:///opt/anaconda3/envs/ragbuilder/lib/python3.12/site-packages/sentence_transformers/SentenceTransformer.py#219\u001b\\\u001b[2m219\u001b[0m\u001b]8;;\u001b\\\n"
      ]
     },
     "metadata": {},
     "output_type": "display_data"
    },
    {
     "data": {
      "text/html": [
       "<pre style=\"white-space:pre;overflow-x:auto;line-height:normal;font-family:Menlo,'DejaVu Sans Mono',consolas,'Courier New',monospace\"><span style=\"color: #7fbfbf; text-decoration-color: #7fbfbf\">           </span><span style=\"color: #000080; text-decoration-color: #000080\">INFO    </span> <span style=\"color: #008080; text-decoration-color: #008080; font-weight: bold\">2</span> prompts are loaded, with the keys: <span style=\"font-weight: bold\">[</span><span style=\"color: #008000; text-decoration-color: #008000\">'query'</span>, <span style=\"color: #008000; text-decoration-color: #008000\">'passage'</span><span style=\"font-weight: bold\">]</span>            <a href=\"file:///opt/anaconda3/envs/ragbuilder/lib/python3.12/site-packages/sentence_transformers/SentenceTransformer.py\" target=\"_blank\"><span style=\"color: #7f7f7f; text-decoration-color: #7f7f7f\">SentenceTransformer.py</span></a><span style=\"color: #7f7f7f; text-decoration-color: #7f7f7f\">:</span><a href=\"file:///opt/anaconda3/envs/ragbuilder/lib/python3.12/site-packages/sentence_transformers/SentenceTransformer.py#231\" target=\"_blank\"><span style=\"color: #7f7f7f; text-decoration-color: #7f7f7f\">231</span></a>\n",
       "</pre>\n"
      ],
      "text/plain": [
       "\u001b[2;36m          \u001b[0m\u001b[2;36m \u001b[0m\u001b[34mINFO    \u001b[0m \u001b[1;36m2\u001b[0m prompts are loaded, with the keys: \u001b[1m[\u001b[0m\u001b[32m'query'\u001b[0m, \u001b[32m'passage'\u001b[0m\u001b[1m]\u001b[0m            \u001b]8;id=584970;file:///opt/anaconda3/envs/ragbuilder/lib/python3.12/site-packages/sentence_transformers/SentenceTransformer.py\u001b\\\u001b[2mSentenceTransformer.py\u001b[0m\u001b]8;;\u001b\\\u001b[2m:\u001b[0m\u001b]8;id=813316;file:///opt/anaconda3/envs/ragbuilder/lib/python3.12/site-packages/sentence_transformers/SentenceTransformer.py#231\u001b\\\u001b[2m231\u001b[0m\u001b]8;;\u001b\\\n"
      ]
     },
     "metadata": {},
     "output_type": "display_data"
    },
    {
     "data": {
      "application/vnd.jupyter.widget-view+json": {
       "model_id": "9b675e5d994f472fa7730a31bd97c0b2",
       "version_major": 2,
       "version_minor": 0
      },
      "text/plain": [
       "Output()"
      ]
     },
     "metadata": {},
     "output_type": "display_data"
    },
    {
     "data": {
      "text/html": [
       "<pre style=\"white-space:pre;overflow-x:auto;line-height:normal;font-family:Menlo,'DejaVu Sans Mono',consolas,'Courier New',monospace\"><span style=\"color: #008000; text-decoration-color: #008000\">✓ Pipeline execution complete!</span>\n",
       "</pre>\n"
      ],
      "text/plain": [
       "\u001b[32m✓ Pipeline execution complete!\u001b[0m\n"
      ]
     },
     "metadata": {},
     "output_type": "display_data"
    },
    {
     "data": {
      "text/html": [
       "<pre style=\"white-space:pre;overflow-x:auto;line-height:normal;font-family:Menlo,'DejaVu Sans Mono',consolas,'Courier New',monospace\"></pre>\n"
      ],
      "text/plain": []
     },
     "metadata": {},
     "output_type": "display_data"
    },
    {
     "data": {
      "text/html": [
       "<pre style=\"white-space:pre;overflow-x:auto;line-height:normal;font-family:Menlo,'DejaVu Sans Mono',consolas,'Courier New',monospace\"><span style=\"color: #008000; text-decoration-color: #008000\">Trial Score:</span> <span style=\"color: #00ffff; text-decoration-color: #00ffff; font-weight: bold\">0.8340</span>\n",
       "</pre>\n"
      ],
      "text/plain": [
       "\u001b[32mTrial Score:\u001b[0m \u001b[1;96m0.8340\u001b[0m\n"
      ]
     },
     "metadata": {},
     "output_type": "display_data"
    },
    {
     "name": "stdout",
     "output_type": "stream",
     "text": [
      "[I 2024-11-12 19:04:59,751] Trial 17 finished with value: 0.8340479097262976 and parameters: {'document_loader_index': 0, 'chunking_strategy_index': 1, 'chunk_size': 1500, 'embedding_model_index': 0}. Best is trial 14 with value: 0.8374550926422355.\n"
     ]
    },
    {
     "data": {
      "text/html": [
       "<pre style=\"white-space:pre;overflow-x:auto;line-height:normal;font-family:Menlo,'DejaVu Sans Mono',consolas,'Courier New',monospace\"><span style=\"color: #005fff; text-decoration-color: #005fff; font-weight: bold\">Trial </span><span style=\"color: #005fff; text-decoration-color: #005fff; font-weight: bold\">18</span><span style=\"color: #005fff; text-decoration-color: #005fff; font-weight: bold\">/</span><span style=\"color: #005fff; text-decoration-color: #005fff; font-weight: bold\">29</span>\n",
       "</pre>\n"
      ],
      "text/plain": [
       "\u001b[1;38;5;27mTrial \u001b[0m\u001b[1;38;5;27m18\u001b[0m\u001b[1;38;5;27m/\u001b[0m\u001b[1;38;5;27m29\u001b[0m\n"
      ]
     },
     "metadata": {},
     "output_type": "display_data"
    },
    {
     "data": {
      "text/html": [
       "<pre style=\"white-space:pre;overflow-x:auto;line-height:normal;font-family:Menlo,'DejaVu Sans Mono',consolas,'Courier New',monospace\"><span style=\"color: #7fbfbf; text-decoration-color: #7fbfbf\">[19:04:59] </span><span style=\"color: #000080; text-decoration-color: #000080\">INFO    </span> Trial parameters: <span style=\"font-weight: bold\">{</span><span style=\"color: #008000; text-decoration-color: #008000\">'input_source'</span>: <span style=\"color: #008000; text-decoration-color: #008000\">'uber_10k.pdf'</span>, <span style=\"color: #008000; text-decoration-color: #008000\">'test_dataset'</span>:          <a href=\"file:///Users/aravind/KruxAI/ragbuilder/src/ragbuilder/data_ingest/optimization.py\" target=\"_blank\"><span style=\"color: #7f7f7f; text-decoration-color: #7f7f7f\">optimization.py</span></a><span style=\"color: #7f7f7f; text-decoration-color: #7f7f7f\">:</span><a href=\"file:///Users/aravind/KruxAI/ragbuilder/src/ragbuilder/data_ingest/optimization.py#192\" target=\"_blank\"><span style=\"color: #7f7f7f; text-decoration-color: #7f7f7f\">192</span></a>\n",
       "<span style=\"color: #7fbfbf; text-decoration-color: #7fbfbf\">           </span>         <span style=\"color: #008000; text-decoration-color: #008000\">'rag_test_data_1726600284.375674 uber10k_shortlist.csv'</span>, <span style=\"color: #008000; text-decoration-color: #008000\">'document_loader'</span>: <span style=\"color: #7f7f7f; text-decoration-color: #7f7f7f\">                   </span>\n",
       "<span style=\"color: #7fbfbf; text-decoration-color: #7fbfbf\">           </span>         <span style=\"color: #800080; text-decoration-color: #800080; font-weight: bold\">LoaderConfig</span><span style=\"font-weight: bold\">(</span><span style=\"color: #808000; text-decoration-color: #808000\">type</span>=<span style=\"font-weight: bold\">&lt;</span><span style=\"color: #ff00ff; text-decoration-color: #ff00ff; font-weight: bold\">ParserType.UNSTRUCTURED:</span><span style=\"color: #000000; text-decoration-color: #000000\"> </span><span style=\"color: #008000; text-decoration-color: #008000\">'unstructured'</span><span style=\"color: #000000; text-decoration-color: #000000\">&gt;, </span>               <span style=\"color: #7f7f7f; text-decoration-color: #7f7f7f\">                   </span>\n",
       "<span style=\"color: #7fbfbf; text-decoration-color: #7fbfbf\">           </span>         <span style=\"color: #808000; text-decoration-color: #808000\">loader_kwargs</span><span style=\"color: #000000; text-decoration-color: #000000\">=</span><span style=\"color: #800080; text-decoration-color: #800080; font-style: italic\">None</span><span style=\"color: #000000; text-decoration-color: #000000\">, </span><span style=\"color: #808000; text-decoration-color: #808000\">custom_class</span><span style=\"color: #000000; text-decoration-color: #000000\">=</span><span style=\"color: #800080; text-decoration-color: #800080; font-style: italic\">None</span><span style=\"color: #000000; text-decoration-color: #000000; font-weight: bold\">)</span><span style=\"color: #000000; text-decoration-color: #000000\">, </span><span style=\"color: #008000; text-decoration-color: #008000\">'chunking_strategy'</span><span style=\"color: #000000; text-decoration-color: #000000\">: </span>               <span style=\"color: #7f7f7f; text-decoration-color: #7f7f7f\">                   </span>\n",
       "<span style=\"color: #7fbfbf; text-decoration-color: #7fbfbf\">           </span>         <span style=\"color: #800080; text-decoration-color: #800080; font-weight: bold\">ChunkingStrategyConfig</span><span style=\"color: #000000; text-decoration-color: #000000; font-weight: bold\">(</span><span style=\"color: #808000; text-decoration-color: #808000\">type</span><span style=\"color: #000000; text-decoration-color: #000000\">=&lt;ChunkingStrategy.CUSTOM: </span><span style=\"color: #008000; text-decoration-color: #008000\">'custom'</span><span style=\"color: #000000; text-decoration-color: #000000\">&gt;, </span>           <span style=\"color: #7f7f7f; text-decoration-color: #7f7f7f\">                   </span>\n",
       "<span style=\"color: #7fbfbf; text-decoration-color: #7fbfbf\">           </span>         <span style=\"color: #808000; text-decoration-color: #808000\">chunker_kwargs</span><span style=\"color: #000000; text-decoration-color: #000000\">=</span><span style=\"color: #800080; text-decoration-color: #800080; font-style: italic\">None</span><span style=\"color: #000000; text-decoration-color: #000000\">, </span>                                                       <span style=\"color: #7f7f7f; text-decoration-color: #7f7f7f\">                   </span>\n",
       "<span style=\"color: #7fbfbf; text-decoration-color: #7fbfbf\">           </span>         <span style=\"color: #808000; text-decoration-color: #808000\">custom_class</span><span style=\"color: #000000; text-decoration-color: #000000\">=</span><span style=\"color: #008000; text-decoration-color: #008000\">'ragbuilder.custom_components.CustomChunker'</span><span style=\"color: #000000; text-decoration-color: #000000; font-weight: bold\">)</span><span style=\"color: #000000; text-decoration-color: #000000\">, </span>                <span style=\"color: #7f7f7f; text-decoration-color: #7f7f7f\">                   </span>\n",
       "<span style=\"color: #7fbfbf; text-decoration-color: #7fbfbf\">           </span>         <span style=\"color: #008000; text-decoration-color: #008000\">'chunk_overlap'</span><span style=\"color: #000000; text-decoration-color: #000000\">: </span><span style=\"color: #008080; text-decoration-color: #008080; font-weight: bold\">100</span><span style=\"color: #000000; text-decoration-color: #000000\">, </span><span style=\"color: #008000; text-decoration-color: #008000\">'chunk_size'</span><span style=\"color: #000000; text-decoration-color: #000000\">: </span><span style=\"color: #008080; text-decoration-color: #008080; font-weight: bold\">2000</span><span style=\"color: #000000; text-decoration-color: #000000\">, </span><span style=\"color: #008000; text-decoration-color: #008000\">'embedding_model'</span><span style=\"color: #000000; text-decoration-color: #000000\">: </span>               <span style=\"color: #7f7f7f; text-decoration-color: #7f7f7f\">                   </span>\n",
       "<span style=\"color: #7fbfbf; text-decoration-color: #7fbfbf\">           </span>         <span style=\"color: #800080; text-decoration-color: #800080; font-weight: bold\">EmbeddingConfig</span><span style=\"color: #000000; text-decoration-color: #000000; font-weight: bold\">(</span><span style=\"color: #808000; text-decoration-color: #808000\">type</span><span style=\"color: #000000; text-decoration-color: #000000\">=&lt;EmbeddingModel.HUGGINGFACE: </span><span style=\"color: #008000; text-decoration-color: #008000\">'huggingface'</span><span style=\"color: #000000; text-decoration-color: #000000\">&gt;, </span>          <span style=\"color: #7f7f7f; text-decoration-color: #7f7f7f\">                   </span>\n",
       "<span style=\"color: #7fbfbf; text-decoration-color: #7fbfbf\">           </span>         <span style=\"color: #808000; text-decoration-color: #808000\">model_kwargs</span><span style=\"color: #000000; text-decoration-color: #000000\">=</span><span style=\"color: #000000; text-decoration-color: #000000; font-weight: bold\">{</span><span style=\"color: #008000; text-decoration-color: #008000\">'model_name'</span><span style=\"color: #000000; text-decoration-color: #000000\">: </span><span style=\"color: #008000; text-decoration-color: #008000\">'mixedbread-ai/mxbai-embed-large-v1'</span><span style=\"color: #000000; text-decoration-color: #000000; font-weight: bold\">}</span><span style=\"color: #000000; text-decoration-color: #000000\">, </span>         <span style=\"color: #7f7f7f; text-decoration-color: #7f7f7f\">                   </span>\n",
       "<span style=\"color: #7fbfbf; text-decoration-color: #7fbfbf\">           </span>         <span style=\"color: #808000; text-decoration-color: #808000\">custom_class</span><span style=\"color: #000000; text-decoration-color: #000000\">=</span><span style=\"color: #800080; text-decoration-color: #800080; font-style: italic\">None</span><span style=\"color: #000000; text-decoration-color: #000000; font-weight: bold\">)</span><span style=\"color: #000000; text-decoration-color: #000000\">, </span><span style=\"color: #008000; text-decoration-color: #008000\">'vector_database'</span><span style=\"color: #000000; text-decoration-color: #000000\">: </span>                                     <span style=\"color: #7f7f7f; text-decoration-color: #7f7f7f\">                   </span>\n",
       "<span style=\"color: #7fbfbf; text-decoration-color: #7fbfbf\">           </span>         <span style=\"color: #800080; text-decoration-color: #800080; font-weight: bold\">VectorDBConfig</span><span style=\"color: #000000; text-decoration-color: #000000; font-weight: bold\">(</span><span style=\"color: #808000; text-decoration-color: #808000\">type</span><span style=\"color: #000000; text-decoration-color: #000000\">=&lt;VectorDatabase.CHROMA: </span><span style=\"color: #008000; text-decoration-color: #008000\">'chroma'</span><span style=\"font-weight: bold\">&gt;</span>,                      <span style=\"color: #7f7f7f; text-decoration-color: #7f7f7f\">                   </span>\n",
       "<span style=\"color: #7fbfbf; text-decoration-color: #7fbfbf\">           </span>         <span style=\"color: #808000; text-decoration-color: #808000\">vectordb_kwargs</span>=<span style=\"font-weight: bold\">{</span><span style=\"color: #008000; text-decoration-color: #008000\">'persist_directory'</span>: <span style=\"color: #008000; text-decoration-color: #008000\">'chroma_sample2/18'</span>,                  <span style=\"color: #7f7f7f; text-decoration-color: #7f7f7f\">                   </span>\n",
       "<span style=\"color: #7fbfbf; text-decoration-color: #7fbfbf\">           </span>         <span style=\"color: #008000; text-decoration-color: #008000\">'collection_metadata'</span>: <span style=\"font-weight: bold\">{</span><span style=\"color: #008000; text-decoration-color: #008000\">'hnsw:space'</span>: <span style=\"color: #008000; text-decoration-color: #008000\">'cosine'</span><span style=\"font-weight: bold\">}}</span>, <span style=\"color: #808000; text-decoration-color: #808000\">custom_class</span>=<span style=\"color: #800080; text-decoration-color: #800080; font-style: italic\">None</span><span style=\"font-weight: bold\">)</span>,       <span style=\"color: #7f7f7f; text-decoration-color: #7f7f7f\">                   </span>\n",
       "<span style=\"color: #7fbfbf; text-decoration-color: #7fbfbf\">           </span>         <span style=\"color: #008000; text-decoration-color: #008000\">'sampling_rate'</span>: <span style=\"color: #800080; text-decoration-color: #800080; font-style: italic\">None</span><span style=\"font-weight: bold\">}</span>                                                      <span style=\"color: #7f7f7f; text-decoration-color: #7f7f7f\">                   </span>\n",
       "</pre>\n"
      ],
      "text/plain": [
       "\u001b[2;36m[19:04:59]\u001b[0m\u001b[2;36m \u001b[0m\u001b[34mINFO    \u001b[0m Trial parameters: \u001b[1m{\u001b[0m\u001b[32m'input_source'\u001b[0m: \u001b[32m'uber_10k.pdf'\u001b[0m, \u001b[32m'test_dataset'\u001b[0m:          \u001b]8;id=447223;file:///Users/aravind/KruxAI/ragbuilder/src/ragbuilder/data_ingest/optimization.py\u001b\\\u001b[2moptimization.py\u001b[0m\u001b]8;;\u001b\\\u001b[2m:\u001b[0m\u001b]8;id=397754;file:///Users/aravind/KruxAI/ragbuilder/src/ragbuilder/data_ingest/optimization.py#192\u001b\\\u001b[2m192\u001b[0m\u001b]8;;\u001b\\\n",
       "\u001b[2;36m           \u001b[0m         \u001b[32m'rag_test_data_1726600284.375674 uber10k_shortlist.csv'\u001b[0m, \u001b[32m'document_loader'\u001b[0m: \u001b[2m                   \u001b[0m\n",
       "\u001b[2;36m           \u001b[0m         \u001b[1;35mLoaderConfig\u001b[0m\u001b[1m(\u001b[0m\u001b[33mtype\u001b[0m=\u001b[1m<\u001b[0m\u001b[1;95mParserType.UNSTRUCTURED:\u001b[0m\u001b[39m \u001b[0m\u001b[32m'unstructured'\u001b[0m\u001b[39m>, \u001b[0m               \u001b[2m                   \u001b[0m\n",
       "\u001b[2;36m           \u001b[0m         \u001b[33mloader_kwargs\u001b[0m\u001b[39m=\u001b[0m\u001b[3;35mNone\u001b[0m\u001b[39m, \u001b[0m\u001b[33mcustom_class\u001b[0m\u001b[39m=\u001b[0m\u001b[3;35mNone\u001b[0m\u001b[1;39m)\u001b[0m\u001b[39m, \u001b[0m\u001b[32m'chunking_strategy'\u001b[0m\u001b[39m: \u001b[0m               \u001b[2m                   \u001b[0m\n",
       "\u001b[2;36m           \u001b[0m         \u001b[1;35mChunkingStrategyConfig\u001b[0m\u001b[1;39m(\u001b[0m\u001b[33mtype\u001b[0m\u001b[39m=<ChunkingStrategy.CUSTOM: \u001b[0m\u001b[32m'custom'\u001b[0m\u001b[39m>, \u001b[0m           \u001b[2m                   \u001b[0m\n",
       "\u001b[2;36m           \u001b[0m         \u001b[33mchunker_kwargs\u001b[0m\u001b[39m=\u001b[0m\u001b[3;35mNone\u001b[0m\u001b[39m, \u001b[0m                                                       \u001b[2m                   \u001b[0m\n",
       "\u001b[2;36m           \u001b[0m         \u001b[33mcustom_class\u001b[0m\u001b[39m=\u001b[0m\u001b[32m'ragbuilder.custom_components.CustomChunker'\u001b[0m\u001b[1;39m)\u001b[0m\u001b[39m, \u001b[0m                \u001b[2m                   \u001b[0m\n",
       "\u001b[2;36m           \u001b[0m         \u001b[32m'chunk_overlap'\u001b[0m\u001b[39m: \u001b[0m\u001b[1;36m100\u001b[0m\u001b[39m, \u001b[0m\u001b[32m'chunk_size'\u001b[0m\u001b[39m: \u001b[0m\u001b[1;36m2000\u001b[0m\u001b[39m, \u001b[0m\u001b[32m'embedding_model'\u001b[0m\u001b[39m: \u001b[0m               \u001b[2m                   \u001b[0m\n",
       "\u001b[2;36m           \u001b[0m         \u001b[1;35mEmbeddingConfig\u001b[0m\u001b[1;39m(\u001b[0m\u001b[33mtype\u001b[0m\u001b[39m=<EmbeddingModel.HUGGINGFACE: \u001b[0m\u001b[32m'huggingface'\u001b[0m\u001b[39m>, \u001b[0m          \u001b[2m                   \u001b[0m\n",
       "\u001b[2;36m           \u001b[0m         \u001b[33mmodel_kwargs\u001b[0m\u001b[39m=\u001b[0m\u001b[1;39m{\u001b[0m\u001b[32m'model_name'\u001b[0m\u001b[39m: \u001b[0m\u001b[32m'mixedbread-ai/mxbai-embed-large-v1'\u001b[0m\u001b[1;39m}\u001b[0m\u001b[39m, \u001b[0m         \u001b[2m                   \u001b[0m\n",
       "\u001b[2;36m           \u001b[0m         \u001b[33mcustom_class\u001b[0m\u001b[39m=\u001b[0m\u001b[3;35mNone\u001b[0m\u001b[1;39m)\u001b[0m\u001b[39m, \u001b[0m\u001b[32m'vector_database'\u001b[0m\u001b[39m: \u001b[0m                                     \u001b[2m                   \u001b[0m\n",
       "\u001b[2;36m           \u001b[0m         \u001b[1;35mVectorDBConfig\u001b[0m\u001b[1;39m(\u001b[0m\u001b[33mtype\u001b[0m\u001b[39m=<VectorDatabase.CHROMA: \u001b[0m\u001b[32m'chroma'\u001b[0m\u001b[1m>\u001b[0m,                      \u001b[2m                   \u001b[0m\n",
       "\u001b[2;36m           \u001b[0m         \u001b[33mvectordb_kwargs\u001b[0m=\u001b[1m{\u001b[0m\u001b[32m'persist_directory'\u001b[0m: \u001b[32m'chroma_sample2/18'\u001b[0m,                  \u001b[2m                   \u001b[0m\n",
       "\u001b[2;36m           \u001b[0m         \u001b[32m'collection_metadata'\u001b[0m: \u001b[1m{\u001b[0m\u001b[32m'hnsw:space'\u001b[0m: \u001b[32m'cosine'\u001b[0m\u001b[1m}\u001b[0m\u001b[1m}\u001b[0m, \u001b[33mcustom_class\u001b[0m=\u001b[3;35mNone\u001b[0m\u001b[1m)\u001b[0m,       \u001b[2m                   \u001b[0m\n",
       "\u001b[2;36m           \u001b[0m         \u001b[32m'sampling_rate'\u001b[0m: \u001b[3;35mNone\u001b[0m\u001b[1m}\u001b[0m                                                      \u001b[2m                   \u001b[0m\n"
      ]
     },
     "metadata": {},
     "output_type": "display_data"
    },
    {
     "name": "stdout",
     "output_type": "stream",
     "text": [
      "class_path:  ragbuilder.custom_components.CustomChunker\n"
     ]
    },
    {
     "data": {
      "text/html": [
       "<pre style=\"white-space:pre;overflow-x:auto;line-height:normal;font-family:Menlo,'DejaVu Sans Mono',consolas,'Courier New',monospace\"><span style=\"color: #7fbfbf; text-decoration-color: #7fbfbf\">           </span><span style=\"color: #000080; text-decoration-color: #000080\">INFO    </span> Load pretrained SentenceTransformer:                                 <a href=\"file:///opt/anaconda3/envs/ragbuilder/lib/python3.12/site-packages/sentence_transformers/SentenceTransformer.py\" target=\"_blank\"><span style=\"color: #7f7f7f; text-decoration-color: #7f7f7f\">SentenceTransformer.py</span></a><span style=\"color: #7f7f7f; text-decoration-color: #7f7f7f\">:</span><a href=\"file:///opt/anaconda3/envs/ragbuilder/lib/python3.12/site-packages/sentence_transformers/SentenceTransformer.py#113\" target=\"_blank\"><span style=\"color: #7f7f7f; text-decoration-color: #7f7f7f\">113</span></a>\n",
       "<span style=\"color: #7fbfbf; text-decoration-color: #7fbfbf\">           </span>         mixedbread-ai/mxbai-embed-large-v1                                   <span style=\"color: #7f7f7f; text-decoration-color: #7f7f7f\">                          </span>\n",
       "</pre>\n"
      ],
      "text/plain": [
       "\u001b[2;36m          \u001b[0m\u001b[2;36m \u001b[0m\u001b[34mINFO    \u001b[0m Load pretrained SentenceTransformer:                                 \u001b]8;id=703090;file:///opt/anaconda3/envs/ragbuilder/lib/python3.12/site-packages/sentence_transformers/SentenceTransformer.py\u001b\\\u001b[2mSentenceTransformer.py\u001b[0m\u001b]8;;\u001b\\\u001b[2m:\u001b[0m\u001b]8;id=655029;file:///opt/anaconda3/envs/ragbuilder/lib/python3.12/site-packages/sentence_transformers/SentenceTransformer.py#113\u001b\\\u001b[2m113\u001b[0m\u001b]8;;\u001b\\\n",
       "\u001b[2;36m           \u001b[0m         mixedbread-ai/mxbai-embed-large-v1                                   \u001b[2m                          \u001b[0m\n"
      ]
     },
     "metadata": {},
     "output_type": "display_data"
    },
    {
     "data": {
      "text/html": [
       "<pre style=\"white-space:pre;overflow-x:auto;line-height:normal;font-family:Menlo,'DejaVu Sans Mono',consolas,'Courier New',monospace\"><span style=\"color: #7fbfbf; text-decoration-color: #7fbfbf\">[19:05:03] </span><span style=\"color: #000080; text-decoration-color: #000080\">INFO    </span> Use pytorch device_name: mps                                         <a href=\"file:///opt/anaconda3/envs/ragbuilder/lib/python3.12/site-packages/sentence_transformers/SentenceTransformer.py\" target=\"_blank\"><span style=\"color: #7f7f7f; text-decoration-color: #7f7f7f\">SentenceTransformer.py</span></a><span style=\"color: #7f7f7f; text-decoration-color: #7f7f7f\">:</span><a href=\"file:///opt/anaconda3/envs/ragbuilder/lib/python3.12/site-packages/sentence_transformers/SentenceTransformer.py#219\" target=\"_blank\"><span style=\"color: #7f7f7f; text-decoration-color: #7f7f7f\">219</span></a>\n",
       "</pre>\n"
      ],
      "text/plain": [
       "\u001b[2;36m[19:05:03]\u001b[0m\u001b[2;36m \u001b[0m\u001b[34mINFO    \u001b[0m Use pytorch device_name: mps                                         \u001b]8;id=199131;file:///opt/anaconda3/envs/ragbuilder/lib/python3.12/site-packages/sentence_transformers/SentenceTransformer.py\u001b\\\u001b[2mSentenceTransformer.py\u001b[0m\u001b]8;;\u001b\\\u001b[2m:\u001b[0m\u001b]8;id=736776;file:///opt/anaconda3/envs/ragbuilder/lib/python3.12/site-packages/sentence_transformers/SentenceTransformer.py#219\u001b\\\u001b[2m219\u001b[0m\u001b]8;;\u001b\\\n"
      ]
     },
     "metadata": {},
     "output_type": "display_data"
    },
    {
     "data": {
      "text/html": [
       "<pre style=\"white-space:pre;overflow-x:auto;line-height:normal;font-family:Menlo,'DejaVu Sans Mono',consolas,'Courier New',monospace\"><span style=\"color: #7fbfbf; text-decoration-color: #7fbfbf\">[19:05:04] </span><span style=\"color: #000080; text-decoration-color: #000080\">INFO    </span> <span style=\"color: #008080; text-decoration-color: #008080; font-weight: bold\">2</span> prompts are loaded, with the keys: <span style=\"font-weight: bold\">[</span><span style=\"color: #008000; text-decoration-color: #008000\">'query'</span>, <span style=\"color: #008000; text-decoration-color: #008000\">'passage'</span><span style=\"font-weight: bold\">]</span>            <a href=\"file:///opt/anaconda3/envs/ragbuilder/lib/python3.12/site-packages/sentence_transformers/SentenceTransformer.py\" target=\"_blank\"><span style=\"color: #7f7f7f; text-decoration-color: #7f7f7f\">SentenceTransformer.py</span></a><span style=\"color: #7f7f7f; text-decoration-color: #7f7f7f\">:</span><a href=\"file:///opt/anaconda3/envs/ragbuilder/lib/python3.12/site-packages/sentence_transformers/SentenceTransformer.py#231\" target=\"_blank\"><span style=\"color: #7f7f7f; text-decoration-color: #7f7f7f\">231</span></a>\n",
       "</pre>\n"
      ],
      "text/plain": [
       "\u001b[2;36m[19:05:04]\u001b[0m\u001b[2;36m \u001b[0m\u001b[34mINFO    \u001b[0m \u001b[1;36m2\u001b[0m prompts are loaded, with the keys: \u001b[1m[\u001b[0m\u001b[32m'query'\u001b[0m, \u001b[32m'passage'\u001b[0m\u001b[1m]\u001b[0m            \u001b]8;id=283976;file:///opt/anaconda3/envs/ragbuilder/lib/python3.12/site-packages/sentence_transformers/SentenceTransformer.py\u001b\\\u001b[2mSentenceTransformer.py\u001b[0m\u001b]8;;\u001b\\\u001b[2m:\u001b[0m\u001b]8;id=22636;file:///opt/anaconda3/envs/ragbuilder/lib/python3.12/site-packages/sentence_transformers/SentenceTransformer.py#231\u001b\\\u001b[2m231\u001b[0m\u001b]8;;\u001b\\\n"
      ]
     },
     "metadata": {},
     "output_type": "display_data"
    },
    {
     "data": {
      "application/vnd.jupyter.widget-view+json": {
       "model_id": "052f7863c9d64462822b6650fdd427e9",
       "version_major": 2,
       "version_minor": 0
      },
      "text/plain": [
       "Output()"
      ]
     },
     "metadata": {},
     "output_type": "display_data"
    },
    {
     "data": {
      "text/html": [
       "<pre style=\"white-space:pre;overflow-x:auto;line-height:normal;font-family:Menlo,'DejaVu Sans Mono',consolas,'Courier New',monospace\"><span style=\"color: #008000; text-decoration-color: #008000\">✓ Pipeline execution complete!</span>\n",
       "</pre>\n"
      ],
      "text/plain": [
       "\u001b[32m✓ Pipeline execution complete!\u001b[0m\n"
      ]
     },
     "metadata": {},
     "output_type": "display_data"
    },
    {
     "data": {
      "text/html": [
       "<pre style=\"white-space:pre;overflow-x:auto;line-height:normal;font-family:Menlo,'DejaVu Sans Mono',consolas,'Courier New',monospace\"></pre>\n"
      ],
      "text/plain": []
     },
     "metadata": {},
     "output_type": "display_data"
    },
    {
     "data": {
      "text/html": [
       "<pre style=\"white-space:pre;overflow-x:auto;line-height:normal;font-family:Menlo,'DejaVu Sans Mono',consolas,'Courier New',monospace\"><span style=\"color: #008000; text-decoration-color: #008000\">Trial Score:</span> <span style=\"color: #00ffff; text-decoration-color: #00ffff; font-weight: bold\">0.8353</span>\n",
       "</pre>\n"
      ],
      "text/plain": [
       "\u001b[32mTrial Score:\u001b[0m \u001b[1;96m0.8353\u001b[0m\n"
      ]
     },
     "metadata": {},
     "output_type": "display_data"
    },
    {
     "name": "stdout",
     "output_type": "stream",
     "text": [
      "[I 2024-11-12 19:06:33,349] Trial 18 finished with value: 0.8353207516048821 and parameters: {'document_loader_index': 1, 'chunking_strategy_index': 1, 'chunk_size': 2000, 'embedding_model_index': 0}. Best is trial 14 with value: 0.8374550926422355.\n"
     ]
    },
    {
     "data": {
      "text/html": [
       "<pre style=\"white-space:pre;overflow-x:auto;line-height:normal;font-family:Menlo,'DejaVu Sans Mono',consolas,'Courier New',monospace\"><span style=\"color: #005fff; text-decoration-color: #005fff; font-weight: bold\">Trial </span><span style=\"color: #005fff; text-decoration-color: #005fff; font-weight: bold\">19</span><span style=\"color: #005fff; text-decoration-color: #005fff; font-weight: bold\">/</span><span style=\"color: #005fff; text-decoration-color: #005fff; font-weight: bold\">29</span>\n",
       "</pre>\n"
      ],
      "text/plain": [
       "\u001b[1;38;5;27mTrial \u001b[0m\u001b[1;38;5;27m19\u001b[0m\u001b[1;38;5;27m/\u001b[0m\u001b[1;38;5;27m29\u001b[0m\n"
      ]
     },
     "metadata": {},
     "output_type": "display_data"
    },
    {
     "data": {
      "text/html": [
       "<pre style=\"white-space:pre;overflow-x:auto;line-height:normal;font-family:Menlo,'DejaVu Sans Mono',consolas,'Courier New',monospace\"><span style=\"color: #7fbfbf; text-decoration-color: #7fbfbf\">[19:06:33] </span><span style=\"color: #000080; text-decoration-color: #000080\">INFO    </span> Trial parameters: <span style=\"font-weight: bold\">{</span><span style=\"color: #008000; text-decoration-color: #008000\">'input_source'</span>: <span style=\"color: #008000; text-decoration-color: #008000\">'uber_10k.pdf'</span>, <span style=\"color: #008000; text-decoration-color: #008000\">'test_dataset'</span>:          <a href=\"file:///Users/aravind/KruxAI/ragbuilder/src/ragbuilder/data_ingest/optimization.py\" target=\"_blank\"><span style=\"color: #7f7f7f; text-decoration-color: #7f7f7f\">optimization.py</span></a><span style=\"color: #7f7f7f; text-decoration-color: #7f7f7f\">:</span><a href=\"file:///Users/aravind/KruxAI/ragbuilder/src/ragbuilder/data_ingest/optimization.py#192\" target=\"_blank\"><span style=\"color: #7f7f7f; text-decoration-color: #7f7f7f\">192</span></a>\n",
       "<span style=\"color: #7fbfbf; text-decoration-color: #7fbfbf\">           </span>         <span style=\"color: #008000; text-decoration-color: #008000\">'rag_test_data_1726600284.375674 uber10k_shortlist.csv'</span>, <span style=\"color: #008000; text-decoration-color: #008000\">'document_loader'</span>: <span style=\"color: #7f7f7f; text-decoration-color: #7f7f7f\">                   </span>\n",
       "<span style=\"color: #7fbfbf; text-decoration-color: #7fbfbf\">           </span>         <span style=\"color: #800080; text-decoration-color: #800080; font-weight: bold\">LoaderConfig</span><span style=\"font-weight: bold\">(</span><span style=\"color: #808000; text-decoration-color: #808000\">type</span>=<span style=\"font-weight: bold\">&lt;</span><span style=\"color: #ff00ff; text-decoration-color: #ff00ff; font-weight: bold\">ParserType.UNSTRUCTURED:</span><span style=\"color: #000000; text-decoration-color: #000000\"> </span><span style=\"color: #008000; text-decoration-color: #008000\">'unstructured'</span><span style=\"color: #000000; text-decoration-color: #000000\">&gt;, </span>               <span style=\"color: #7f7f7f; text-decoration-color: #7f7f7f\">                   </span>\n",
       "<span style=\"color: #7fbfbf; text-decoration-color: #7fbfbf\">           </span>         <span style=\"color: #808000; text-decoration-color: #808000\">loader_kwargs</span><span style=\"color: #000000; text-decoration-color: #000000\">=</span><span style=\"color: #800080; text-decoration-color: #800080; font-style: italic\">None</span><span style=\"color: #000000; text-decoration-color: #000000\">, </span><span style=\"color: #808000; text-decoration-color: #808000\">custom_class</span><span style=\"color: #000000; text-decoration-color: #000000\">=</span><span style=\"color: #800080; text-decoration-color: #800080; font-style: italic\">None</span><span style=\"color: #000000; text-decoration-color: #000000; font-weight: bold\">)</span><span style=\"color: #000000; text-decoration-color: #000000\">, </span><span style=\"color: #008000; text-decoration-color: #008000\">'chunking_strategy'</span><span style=\"color: #000000; text-decoration-color: #000000\">: </span>               <span style=\"color: #7f7f7f; text-decoration-color: #7f7f7f\">                   </span>\n",
       "<span style=\"color: #7fbfbf; text-decoration-color: #7fbfbf\">           </span>         <span style=\"color: #800080; text-decoration-color: #800080; font-weight: bold\">ChunkingStrategyConfig</span><span style=\"color: #000000; text-decoration-color: #000000; font-weight: bold\">(</span><span style=\"color: #808000; text-decoration-color: #808000\">type</span><span style=\"color: #000000; text-decoration-color: #000000\">=&lt;ChunkingStrategy.CUSTOM: </span><span style=\"color: #008000; text-decoration-color: #008000\">'custom'</span><span style=\"color: #000000; text-decoration-color: #000000\">&gt;, </span>           <span style=\"color: #7f7f7f; text-decoration-color: #7f7f7f\">                   </span>\n",
       "<span style=\"color: #7fbfbf; text-decoration-color: #7fbfbf\">           </span>         <span style=\"color: #808000; text-decoration-color: #808000\">chunker_kwargs</span><span style=\"color: #000000; text-decoration-color: #000000\">=</span><span style=\"color: #800080; text-decoration-color: #800080; font-style: italic\">None</span><span style=\"color: #000000; text-decoration-color: #000000\">, </span>                                                       <span style=\"color: #7f7f7f; text-decoration-color: #7f7f7f\">                   </span>\n",
       "<span style=\"color: #7fbfbf; text-decoration-color: #7fbfbf\">           </span>         <span style=\"color: #808000; text-decoration-color: #808000\">custom_class</span><span style=\"color: #000000; text-decoration-color: #000000\">=</span><span style=\"color: #008000; text-decoration-color: #008000\">'ragbuilder.custom_components.CustomChunker'</span><span style=\"color: #000000; text-decoration-color: #000000; font-weight: bold\">)</span><span style=\"color: #000000; text-decoration-color: #000000\">, </span>                <span style=\"color: #7f7f7f; text-decoration-color: #7f7f7f\">                   </span>\n",
       "<span style=\"color: #7fbfbf; text-decoration-color: #7fbfbf\">           </span>         <span style=\"color: #008000; text-decoration-color: #008000\">'chunk_overlap'</span><span style=\"color: #000000; text-decoration-color: #000000\">: </span><span style=\"color: #008080; text-decoration-color: #008080; font-weight: bold\">100</span><span style=\"color: #000000; text-decoration-color: #000000\">, </span><span style=\"color: #008000; text-decoration-color: #008000\">'chunk_size'</span><span style=\"color: #000000; text-decoration-color: #000000\">: </span><span style=\"color: #008080; text-decoration-color: #008080; font-weight: bold\">1500</span><span style=\"color: #000000; text-decoration-color: #000000\">, </span><span style=\"color: #008000; text-decoration-color: #008000\">'embedding_model'</span><span style=\"color: #000000; text-decoration-color: #000000\">: </span>               <span style=\"color: #7f7f7f; text-decoration-color: #7f7f7f\">                   </span>\n",
       "<span style=\"color: #7fbfbf; text-decoration-color: #7fbfbf\">           </span>         <span style=\"color: #800080; text-decoration-color: #800080; font-weight: bold\">EmbeddingConfig</span><span style=\"color: #000000; text-decoration-color: #000000; font-weight: bold\">(</span><span style=\"color: #808000; text-decoration-color: #808000\">type</span><span style=\"color: #000000; text-decoration-color: #000000\">=&lt;EmbeddingModel.HUGGINGFACE: </span><span style=\"color: #008000; text-decoration-color: #008000\">'huggingface'</span><span style=\"color: #000000; text-decoration-color: #000000\">&gt;, </span>          <span style=\"color: #7f7f7f; text-decoration-color: #7f7f7f\">                   </span>\n",
       "<span style=\"color: #7fbfbf; text-decoration-color: #7fbfbf\">           </span>         <span style=\"color: #808000; text-decoration-color: #808000\">model_kwargs</span><span style=\"color: #000000; text-decoration-color: #000000\">=</span><span style=\"color: #000000; text-decoration-color: #000000; font-weight: bold\">{</span><span style=\"color: #008000; text-decoration-color: #008000\">'model_name'</span><span style=\"color: #000000; text-decoration-color: #000000\">: </span><span style=\"color: #008000; text-decoration-color: #008000\">'mixedbread-ai/mxbai-embed-large-v1'</span><span style=\"color: #000000; text-decoration-color: #000000; font-weight: bold\">}</span><span style=\"color: #000000; text-decoration-color: #000000\">, </span>         <span style=\"color: #7f7f7f; text-decoration-color: #7f7f7f\">                   </span>\n",
       "<span style=\"color: #7fbfbf; text-decoration-color: #7fbfbf\">           </span>         <span style=\"color: #808000; text-decoration-color: #808000\">custom_class</span><span style=\"color: #000000; text-decoration-color: #000000\">=</span><span style=\"color: #800080; text-decoration-color: #800080; font-style: italic\">None</span><span style=\"color: #000000; text-decoration-color: #000000; font-weight: bold\">)</span><span style=\"color: #000000; text-decoration-color: #000000\">, </span><span style=\"color: #008000; text-decoration-color: #008000\">'vector_database'</span><span style=\"color: #000000; text-decoration-color: #000000\">: </span>                                     <span style=\"color: #7f7f7f; text-decoration-color: #7f7f7f\">                   </span>\n",
       "<span style=\"color: #7fbfbf; text-decoration-color: #7fbfbf\">           </span>         <span style=\"color: #800080; text-decoration-color: #800080; font-weight: bold\">VectorDBConfig</span><span style=\"color: #000000; text-decoration-color: #000000; font-weight: bold\">(</span><span style=\"color: #808000; text-decoration-color: #808000\">type</span><span style=\"color: #000000; text-decoration-color: #000000\">=&lt;VectorDatabase.CHROMA: </span><span style=\"color: #008000; text-decoration-color: #008000\">'chroma'</span><span style=\"font-weight: bold\">&gt;</span>,                      <span style=\"color: #7f7f7f; text-decoration-color: #7f7f7f\">                   </span>\n",
       "<span style=\"color: #7fbfbf; text-decoration-color: #7fbfbf\">           </span>         <span style=\"color: #808000; text-decoration-color: #808000\">vectordb_kwargs</span>=<span style=\"font-weight: bold\">{</span><span style=\"color: #008000; text-decoration-color: #008000\">'persist_directory'</span>: <span style=\"color: #008000; text-decoration-color: #008000\">'chroma_sample2/19'</span>,                  <span style=\"color: #7f7f7f; text-decoration-color: #7f7f7f\">                   </span>\n",
       "<span style=\"color: #7fbfbf; text-decoration-color: #7fbfbf\">           </span>         <span style=\"color: #008000; text-decoration-color: #008000\">'collection_metadata'</span>: <span style=\"font-weight: bold\">{</span><span style=\"color: #008000; text-decoration-color: #008000\">'hnsw:space'</span>: <span style=\"color: #008000; text-decoration-color: #008000\">'cosine'</span><span style=\"font-weight: bold\">}}</span>, <span style=\"color: #808000; text-decoration-color: #808000\">custom_class</span>=<span style=\"color: #800080; text-decoration-color: #800080; font-style: italic\">None</span><span style=\"font-weight: bold\">)</span>,       <span style=\"color: #7f7f7f; text-decoration-color: #7f7f7f\">                   </span>\n",
       "<span style=\"color: #7fbfbf; text-decoration-color: #7fbfbf\">           </span>         <span style=\"color: #008000; text-decoration-color: #008000\">'sampling_rate'</span>: <span style=\"color: #800080; text-decoration-color: #800080; font-style: italic\">None</span><span style=\"font-weight: bold\">}</span>                                                      <span style=\"color: #7f7f7f; text-decoration-color: #7f7f7f\">                   </span>\n",
       "</pre>\n"
      ],
      "text/plain": [
       "\u001b[2;36m[19:06:33]\u001b[0m\u001b[2;36m \u001b[0m\u001b[34mINFO    \u001b[0m Trial parameters: \u001b[1m{\u001b[0m\u001b[32m'input_source'\u001b[0m: \u001b[32m'uber_10k.pdf'\u001b[0m, \u001b[32m'test_dataset'\u001b[0m:          \u001b]8;id=178461;file:///Users/aravind/KruxAI/ragbuilder/src/ragbuilder/data_ingest/optimization.py\u001b\\\u001b[2moptimization.py\u001b[0m\u001b]8;;\u001b\\\u001b[2m:\u001b[0m\u001b]8;id=889124;file:///Users/aravind/KruxAI/ragbuilder/src/ragbuilder/data_ingest/optimization.py#192\u001b\\\u001b[2m192\u001b[0m\u001b]8;;\u001b\\\n",
       "\u001b[2;36m           \u001b[0m         \u001b[32m'rag_test_data_1726600284.375674 uber10k_shortlist.csv'\u001b[0m, \u001b[32m'document_loader'\u001b[0m: \u001b[2m                   \u001b[0m\n",
       "\u001b[2;36m           \u001b[0m         \u001b[1;35mLoaderConfig\u001b[0m\u001b[1m(\u001b[0m\u001b[33mtype\u001b[0m=\u001b[1m<\u001b[0m\u001b[1;95mParserType.UNSTRUCTURED:\u001b[0m\u001b[39m \u001b[0m\u001b[32m'unstructured'\u001b[0m\u001b[39m>, \u001b[0m               \u001b[2m                   \u001b[0m\n",
       "\u001b[2;36m           \u001b[0m         \u001b[33mloader_kwargs\u001b[0m\u001b[39m=\u001b[0m\u001b[3;35mNone\u001b[0m\u001b[39m, \u001b[0m\u001b[33mcustom_class\u001b[0m\u001b[39m=\u001b[0m\u001b[3;35mNone\u001b[0m\u001b[1;39m)\u001b[0m\u001b[39m, \u001b[0m\u001b[32m'chunking_strategy'\u001b[0m\u001b[39m: \u001b[0m               \u001b[2m                   \u001b[0m\n",
       "\u001b[2;36m           \u001b[0m         \u001b[1;35mChunkingStrategyConfig\u001b[0m\u001b[1;39m(\u001b[0m\u001b[33mtype\u001b[0m\u001b[39m=<ChunkingStrategy.CUSTOM: \u001b[0m\u001b[32m'custom'\u001b[0m\u001b[39m>, \u001b[0m           \u001b[2m                   \u001b[0m\n",
       "\u001b[2;36m           \u001b[0m         \u001b[33mchunker_kwargs\u001b[0m\u001b[39m=\u001b[0m\u001b[3;35mNone\u001b[0m\u001b[39m, \u001b[0m                                                       \u001b[2m                   \u001b[0m\n",
       "\u001b[2;36m           \u001b[0m         \u001b[33mcustom_class\u001b[0m\u001b[39m=\u001b[0m\u001b[32m'ragbuilder.custom_components.CustomChunker'\u001b[0m\u001b[1;39m)\u001b[0m\u001b[39m, \u001b[0m                \u001b[2m                   \u001b[0m\n",
       "\u001b[2;36m           \u001b[0m         \u001b[32m'chunk_overlap'\u001b[0m\u001b[39m: \u001b[0m\u001b[1;36m100\u001b[0m\u001b[39m, \u001b[0m\u001b[32m'chunk_size'\u001b[0m\u001b[39m: \u001b[0m\u001b[1;36m1500\u001b[0m\u001b[39m, \u001b[0m\u001b[32m'embedding_model'\u001b[0m\u001b[39m: \u001b[0m               \u001b[2m                   \u001b[0m\n",
       "\u001b[2;36m           \u001b[0m         \u001b[1;35mEmbeddingConfig\u001b[0m\u001b[1;39m(\u001b[0m\u001b[33mtype\u001b[0m\u001b[39m=<EmbeddingModel.HUGGINGFACE: \u001b[0m\u001b[32m'huggingface'\u001b[0m\u001b[39m>, \u001b[0m          \u001b[2m                   \u001b[0m\n",
       "\u001b[2;36m           \u001b[0m         \u001b[33mmodel_kwargs\u001b[0m\u001b[39m=\u001b[0m\u001b[1;39m{\u001b[0m\u001b[32m'model_name'\u001b[0m\u001b[39m: \u001b[0m\u001b[32m'mixedbread-ai/mxbai-embed-large-v1'\u001b[0m\u001b[1;39m}\u001b[0m\u001b[39m, \u001b[0m         \u001b[2m                   \u001b[0m\n",
       "\u001b[2;36m           \u001b[0m         \u001b[33mcustom_class\u001b[0m\u001b[39m=\u001b[0m\u001b[3;35mNone\u001b[0m\u001b[1;39m)\u001b[0m\u001b[39m, \u001b[0m\u001b[32m'vector_database'\u001b[0m\u001b[39m: \u001b[0m                                     \u001b[2m                   \u001b[0m\n",
       "\u001b[2;36m           \u001b[0m         \u001b[1;35mVectorDBConfig\u001b[0m\u001b[1;39m(\u001b[0m\u001b[33mtype\u001b[0m\u001b[39m=<VectorDatabase.CHROMA: \u001b[0m\u001b[32m'chroma'\u001b[0m\u001b[1m>\u001b[0m,                      \u001b[2m                   \u001b[0m\n",
       "\u001b[2;36m           \u001b[0m         \u001b[33mvectordb_kwargs\u001b[0m=\u001b[1m{\u001b[0m\u001b[32m'persist_directory'\u001b[0m: \u001b[32m'chroma_sample2/19'\u001b[0m,                  \u001b[2m                   \u001b[0m\n",
       "\u001b[2;36m           \u001b[0m         \u001b[32m'collection_metadata'\u001b[0m: \u001b[1m{\u001b[0m\u001b[32m'hnsw:space'\u001b[0m: \u001b[32m'cosine'\u001b[0m\u001b[1m}\u001b[0m\u001b[1m}\u001b[0m, \u001b[33mcustom_class\u001b[0m=\u001b[3;35mNone\u001b[0m\u001b[1m)\u001b[0m,       \u001b[2m                   \u001b[0m\n",
       "\u001b[2;36m           \u001b[0m         \u001b[32m'sampling_rate'\u001b[0m: \u001b[3;35mNone\u001b[0m\u001b[1m}\u001b[0m                                                      \u001b[2m                   \u001b[0m\n"
      ]
     },
     "metadata": {},
     "output_type": "display_data"
    },
    {
     "data": {
      "text/html": [
       "<pre style=\"white-space:pre;overflow-x:auto;line-height:normal;font-family:Menlo,'DejaVu Sans Mono',consolas,'Courier New',monospace\"><span style=\"color: #7fbfbf; text-decoration-color: #7fbfbf\">           </span><span style=\"color: #000080; text-decoration-color: #000080\">INFO    </span> Config already evaluated with score: <span style=\"color: #008080; text-decoration-color: #008080; font-weight: bold\">0.8374550926422355</span>                      <a href=\"file:///Users/aravind/KruxAI/ragbuilder/src/ragbuilder/data_ingest/optimization.py\" target=\"_blank\"><span style=\"color: #7f7f7f; text-decoration-color: #7f7f7f\">optimization.py</span></a><span style=\"color: #7f7f7f; text-decoration-color: #7f7f7f\">:</span><a href=\"file:///Users/aravind/KruxAI/ragbuilder/src/ragbuilder/data_ingest/optimization.py#63\" target=\"_blank\"><span style=\"color: #7f7f7f; text-decoration-color: #7f7f7f\">63</span></a>\n",
       "</pre>\n"
      ],
      "text/plain": [
       "\u001b[2;36m          \u001b[0m\u001b[2;36m \u001b[0m\u001b[34mINFO    \u001b[0m Config already evaluated with score: \u001b[1;36m0.8374550926422355\u001b[0m                      \u001b]8;id=667123;file:///Users/aravind/KruxAI/ragbuilder/src/ragbuilder/data_ingest/optimization.py\u001b\\\u001b[2moptimization.py\u001b[0m\u001b]8;;\u001b\\\u001b[2m:\u001b[0m\u001b]8;id=485210;file:///Users/aravind/KruxAI/ragbuilder/src/ragbuilder/data_ingest/optimization.py#63\u001b\\\u001b[2m63\u001b[0m\u001b]8;;\u001b\\\n"
      ]
     },
     "metadata": {},
     "output_type": "display_data"
    },
    {
     "name": "stdout",
     "output_type": "stream",
     "text": [
      "[I 2024-11-12 19:06:33,499] Trial 19 finished with value: 0.8374550926422355 and parameters: {'document_loader_index': 1, 'chunking_strategy_index': 1, 'chunk_size': 1500, 'embedding_model_index': 0}. Best is trial 14 with value: 0.8374550926422355.\n"
     ]
    },
    {
     "data": {
      "text/html": [
       "<pre style=\"white-space:pre;overflow-x:auto;line-height:normal;font-family:Menlo,'DejaVu Sans Mono',consolas,'Courier New',monospace\"><span style=\"color: #005fff; text-decoration-color: #005fff; font-weight: bold\">Trial </span><span style=\"color: #005fff; text-decoration-color: #005fff; font-weight: bold\">20</span><span style=\"color: #005fff; text-decoration-color: #005fff; font-weight: bold\">/</span><span style=\"color: #005fff; text-decoration-color: #005fff; font-weight: bold\">29</span>\n",
       "</pre>\n"
      ],
      "text/plain": [
       "\u001b[1;38;5;27mTrial \u001b[0m\u001b[1;38;5;27m20\u001b[0m\u001b[1;38;5;27m/\u001b[0m\u001b[1;38;5;27m29\u001b[0m\n"
      ]
     },
     "metadata": {},
     "output_type": "display_data"
    },
    {
     "data": {
      "text/html": [
       "<pre style=\"white-space:pre;overflow-x:auto;line-height:normal;font-family:Menlo,'DejaVu Sans Mono',consolas,'Courier New',monospace\"><span style=\"color: #7fbfbf; text-decoration-color: #7fbfbf\">           </span><span style=\"color: #000080; text-decoration-color: #000080\">INFO    </span> Trial parameters: <span style=\"font-weight: bold\">{</span><span style=\"color: #008000; text-decoration-color: #008000\">'input_source'</span>: <span style=\"color: #008000; text-decoration-color: #008000\">'uber_10k.pdf'</span>, <span style=\"color: #008000; text-decoration-color: #008000\">'test_dataset'</span>:          <a href=\"file:///Users/aravind/KruxAI/ragbuilder/src/ragbuilder/data_ingest/optimization.py\" target=\"_blank\"><span style=\"color: #7f7f7f; text-decoration-color: #7f7f7f\">optimization.py</span></a><span style=\"color: #7f7f7f; text-decoration-color: #7f7f7f\">:</span><a href=\"file:///Users/aravind/KruxAI/ragbuilder/src/ragbuilder/data_ingest/optimization.py#192\" target=\"_blank\"><span style=\"color: #7f7f7f; text-decoration-color: #7f7f7f\">192</span></a>\n",
       "<span style=\"color: #7fbfbf; text-decoration-color: #7fbfbf\">           </span>         <span style=\"color: #008000; text-decoration-color: #008000\">'rag_test_data_1726600284.375674 uber10k_shortlist.csv'</span>, <span style=\"color: #008000; text-decoration-color: #008000\">'document_loader'</span>: <span style=\"color: #7f7f7f; text-decoration-color: #7f7f7f\">                   </span>\n",
       "<span style=\"color: #7fbfbf; text-decoration-color: #7fbfbf\">           </span>         <span style=\"color: #800080; text-decoration-color: #800080; font-weight: bold\">LoaderConfig</span><span style=\"font-weight: bold\">(</span><span style=\"color: #808000; text-decoration-color: #808000\">type</span>=<span style=\"font-weight: bold\">&lt;</span><span style=\"color: #ff00ff; text-decoration-color: #ff00ff; font-weight: bold\">ParserType.PYMUPDF:</span><span style=\"color: #000000; text-decoration-color: #000000\"> </span><span style=\"color: #008000; text-decoration-color: #008000\">'pymupdf'</span><span style=\"color: #000000; text-decoration-color: #000000\">&gt;, </span><span style=\"color: #808000; text-decoration-color: #808000\">loader_kwargs</span><span style=\"color: #000000; text-decoration-color: #000000\">=</span><span style=\"color: #800080; text-decoration-color: #800080; font-style: italic\">None</span><span style=\"color: #000000; text-decoration-color: #000000\">, </span>     <span style=\"color: #7f7f7f; text-decoration-color: #7f7f7f\">                   </span>\n",
       "<span style=\"color: #7fbfbf; text-decoration-color: #7fbfbf\">           </span>         <span style=\"color: #808000; text-decoration-color: #808000\">custom_class</span><span style=\"color: #000000; text-decoration-color: #000000\">=</span><span style=\"color: #800080; text-decoration-color: #800080; font-style: italic\">None</span><span style=\"color: #000000; text-decoration-color: #000000; font-weight: bold\">)</span><span style=\"color: #000000; text-decoration-color: #000000\">, </span><span style=\"color: #008000; text-decoration-color: #008000\">'chunking_strategy'</span><span style=\"color: #000000; text-decoration-color: #000000\">: </span>                                   <span style=\"color: #7f7f7f; text-decoration-color: #7f7f7f\">                   </span>\n",
       "<span style=\"color: #7fbfbf; text-decoration-color: #7fbfbf\">           </span>         <span style=\"color: #800080; text-decoration-color: #800080; font-weight: bold\">ChunkingStrategyConfig</span><span style=\"color: #000000; text-decoration-color: #000000; font-weight: bold\">(</span><span style=\"color: #808000; text-decoration-color: #808000\">type</span><span style=\"color: #000000; text-decoration-color: #000000\">=&lt;ChunkingStrategy.CUSTOM: </span><span style=\"color: #008000; text-decoration-color: #008000\">'custom'</span><span style=\"color: #000000; text-decoration-color: #000000\">&gt;, </span>           <span style=\"color: #7f7f7f; text-decoration-color: #7f7f7f\">                   </span>\n",
       "<span style=\"color: #7fbfbf; text-decoration-color: #7fbfbf\">           </span>         <span style=\"color: #808000; text-decoration-color: #808000\">chunker_kwargs</span><span style=\"color: #000000; text-decoration-color: #000000\">=</span><span style=\"color: #800080; text-decoration-color: #800080; font-style: italic\">None</span><span style=\"color: #000000; text-decoration-color: #000000\">, </span>                                                       <span style=\"color: #7f7f7f; text-decoration-color: #7f7f7f\">                   </span>\n",
       "<span style=\"color: #7fbfbf; text-decoration-color: #7fbfbf\">           </span>         <span style=\"color: #808000; text-decoration-color: #808000\">custom_class</span><span style=\"color: #000000; text-decoration-color: #000000\">=</span><span style=\"color: #008000; text-decoration-color: #008000\">'ragbuilder.custom_components.CustomChunker'</span><span style=\"color: #000000; text-decoration-color: #000000; font-weight: bold\">)</span><span style=\"color: #000000; text-decoration-color: #000000\">, </span>                <span style=\"color: #7f7f7f; text-decoration-color: #7f7f7f\">                   </span>\n",
       "<span style=\"color: #7fbfbf; text-decoration-color: #7fbfbf\">           </span>         <span style=\"color: #008000; text-decoration-color: #008000\">'chunk_overlap'</span><span style=\"color: #000000; text-decoration-color: #000000\">: </span><span style=\"color: #008080; text-decoration-color: #008080; font-weight: bold\">100</span><span style=\"color: #000000; text-decoration-color: #000000\">, </span><span style=\"color: #008000; text-decoration-color: #008000\">'chunk_size'</span><span style=\"color: #000000; text-decoration-color: #000000\">: </span><span style=\"color: #008080; text-decoration-color: #008080; font-weight: bold\">2000</span><span style=\"color: #000000; text-decoration-color: #000000\">, </span><span style=\"color: #008000; text-decoration-color: #008000\">'embedding_model'</span><span style=\"color: #000000; text-decoration-color: #000000\">: </span>               <span style=\"color: #7f7f7f; text-decoration-color: #7f7f7f\">                   </span>\n",
       "<span style=\"color: #7fbfbf; text-decoration-color: #7fbfbf\">           </span>         <span style=\"color: #800080; text-decoration-color: #800080; font-weight: bold\">EmbeddingConfig</span><span style=\"color: #000000; text-decoration-color: #000000; font-weight: bold\">(</span><span style=\"color: #808000; text-decoration-color: #808000\">type</span><span style=\"color: #000000; text-decoration-color: #000000\">=&lt;EmbeddingModel.HUGGINGFACE: </span><span style=\"color: #008000; text-decoration-color: #008000\">'huggingface'</span><span style=\"color: #000000; text-decoration-color: #000000\">&gt;, </span>          <span style=\"color: #7f7f7f; text-decoration-color: #7f7f7f\">                   </span>\n",
       "<span style=\"color: #7fbfbf; text-decoration-color: #7fbfbf\">           </span>         <span style=\"color: #808000; text-decoration-color: #808000\">model_kwargs</span><span style=\"color: #000000; text-decoration-color: #000000\">=</span><span style=\"color: #000000; text-decoration-color: #000000; font-weight: bold\">{</span><span style=\"color: #008000; text-decoration-color: #008000\">'model_name'</span><span style=\"color: #000000; text-decoration-color: #000000\">: </span><span style=\"color: #008000; text-decoration-color: #008000\">'mixedbread-ai/mxbai-embed-large-v1'</span><span style=\"color: #000000; text-decoration-color: #000000; font-weight: bold\">}</span><span style=\"color: #000000; text-decoration-color: #000000\">, </span>         <span style=\"color: #7f7f7f; text-decoration-color: #7f7f7f\">                   </span>\n",
       "<span style=\"color: #7fbfbf; text-decoration-color: #7fbfbf\">           </span>         <span style=\"color: #808000; text-decoration-color: #808000\">custom_class</span><span style=\"color: #000000; text-decoration-color: #000000\">=</span><span style=\"color: #800080; text-decoration-color: #800080; font-style: italic\">None</span><span style=\"color: #000000; text-decoration-color: #000000; font-weight: bold\">)</span><span style=\"color: #000000; text-decoration-color: #000000\">, </span><span style=\"color: #008000; text-decoration-color: #008000\">'vector_database'</span><span style=\"color: #000000; text-decoration-color: #000000\">: </span>                                     <span style=\"color: #7f7f7f; text-decoration-color: #7f7f7f\">                   </span>\n",
       "<span style=\"color: #7fbfbf; text-decoration-color: #7fbfbf\">           </span>         <span style=\"color: #800080; text-decoration-color: #800080; font-weight: bold\">VectorDBConfig</span><span style=\"color: #000000; text-decoration-color: #000000; font-weight: bold\">(</span><span style=\"color: #808000; text-decoration-color: #808000\">type</span><span style=\"color: #000000; text-decoration-color: #000000\">=&lt;VectorDatabase.CHROMA: </span><span style=\"color: #008000; text-decoration-color: #008000\">'chroma'</span><span style=\"font-weight: bold\">&gt;</span>,                      <span style=\"color: #7f7f7f; text-decoration-color: #7f7f7f\">                   </span>\n",
       "<span style=\"color: #7fbfbf; text-decoration-color: #7fbfbf\">           </span>         <span style=\"color: #808000; text-decoration-color: #808000\">vectordb_kwargs</span>=<span style=\"font-weight: bold\">{</span><span style=\"color: #008000; text-decoration-color: #008000\">'persist_directory'</span>: <span style=\"color: #008000; text-decoration-color: #008000\">'chroma_sample2/20'</span>,                  <span style=\"color: #7f7f7f; text-decoration-color: #7f7f7f\">                   </span>\n",
       "<span style=\"color: #7fbfbf; text-decoration-color: #7fbfbf\">           </span>         <span style=\"color: #008000; text-decoration-color: #008000\">'collection_metadata'</span>: <span style=\"font-weight: bold\">{</span><span style=\"color: #008000; text-decoration-color: #008000\">'hnsw:space'</span>: <span style=\"color: #008000; text-decoration-color: #008000\">'cosine'</span><span style=\"font-weight: bold\">}}</span>, <span style=\"color: #808000; text-decoration-color: #808000\">custom_class</span>=<span style=\"color: #800080; text-decoration-color: #800080; font-style: italic\">None</span><span style=\"font-weight: bold\">)</span>,       <span style=\"color: #7f7f7f; text-decoration-color: #7f7f7f\">                   </span>\n",
       "<span style=\"color: #7fbfbf; text-decoration-color: #7fbfbf\">           </span>         <span style=\"color: #008000; text-decoration-color: #008000\">'sampling_rate'</span>: <span style=\"color: #800080; text-decoration-color: #800080; font-style: italic\">None</span><span style=\"font-weight: bold\">}</span>                                                      <span style=\"color: #7f7f7f; text-decoration-color: #7f7f7f\">                   </span>\n",
       "</pre>\n"
      ],
      "text/plain": [
       "\u001b[2;36m          \u001b[0m\u001b[2;36m \u001b[0m\u001b[34mINFO    \u001b[0m Trial parameters: \u001b[1m{\u001b[0m\u001b[32m'input_source'\u001b[0m: \u001b[32m'uber_10k.pdf'\u001b[0m, \u001b[32m'test_dataset'\u001b[0m:          \u001b]8;id=47602;file:///Users/aravind/KruxAI/ragbuilder/src/ragbuilder/data_ingest/optimization.py\u001b\\\u001b[2moptimization.py\u001b[0m\u001b]8;;\u001b\\\u001b[2m:\u001b[0m\u001b]8;id=960221;file:///Users/aravind/KruxAI/ragbuilder/src/ragbuilder/data_ingest/optimization.py#192\u001b\\\u001b[2m192\u001b[0m\u001b]8;;\u001b\\\n",
       "\u001b[2;36m           \u001b[0m         \u001b[32m'rag_test_data_1726600284.375674 uber10k_shortlist.csv'\u001b[0m, \u001b[32m'document_loader'\u001b[0m: \u001b[2m                   \u001b[0m\n",
       "\u001b[2;36m           \u001b[0m         \u001b[1;35mLoaderConfig\u001b[0m\u001b[1m(\u001b[0m\u001b[33mtype\u001b[0m=\u001b[1m<\u001b[0m\u001b[1;95mParserType.PYMUPDF:\u001b[0m\u001b[39m \u001b[0m\u001b[32m'pymupdf'\u001b[0m\u001b[39m>, \u001b[0m\u001b[33mloader_kwargs\u001b[0m\u001b[39m=\u001b[0m\u001b[3;35mNone\u001b[0m\u001b[39m, \u001b[0m     \u001b[2m                   \u001b[0m\n",
       "\u001b[2;36m           \u001b[0m         \u001b[33mcustom_class\u001b[0m\u001b[39m=\u001b[0m\u001b[3;35mNone\u001b[0m\u001b[1;39m)\u001b[0m\u001b[39m, \u001b[0m\u001b[32m'chunking_strategy'\u001b[0m\u001b[39m: \u001b[0m                                   \u001b[2m                   \u001b[0m\n",
       "\u001b[2;36m           \u001b[0m         \u001b[1;35mChunkingStrategyConfig\u001b[0m\u001b[1;39m(\u001b[0m\u001b[33mtype\u001b[0m\u001b[39m=<ChunkingStrategy.CUSTOM: \u001b[0m\u001b[32m'custom'\u001b[0m\u001b[39m>, \u001b[0m           \u001b[2m                   \u001b[0m\n",
       "\u001b[2;36m           \u001b[0m         \u001b[33mchunker_kwargs\u001b[0m\u001b[39m=\u001b[0m\u001b[3;35mNone\u001b[0m\u001b[39m, \u001b[0m                                                       \u001b[2m                   \u001b[0m\n",
       "\u001b[2;36m           \u001b[0m         \u001b[33mcustom_class\u001b[0m\u001b[39m=\u001b[0m\u001b[32m'ragbuilder.custom_components.CustomChunker'\u001b[0m\u001b[1;39m)\u001b[0m\u001b[39m, \u001b[0m                \u001b[2m                   \u001b[0m\n",
       "\u001b[2;36m           \u001b[0m         \u001b[32m'chunk_overlap'\u001b[0m\u001b[39m: \u001b[0m\u001b[1;36m100\u001b[0m\u001b[39m, \u001b[0m\u001b[32m'chunk_size'\u001b[0m\u001b[39m: \u001b[0m\u001b[1;36m2000\u001b[0m\u001b[39m, \u001b[0m\u001b[32m'embedding_model'\u001b[0m\u001b[39m: \u001b[0m               \u001b[2m                   \u001b[0m\n",
       "\u001b[2;36m           \u001b[0m         \u001b[1;35mEmbeddingConfig\u001b[0m\u001b[1;39m(\u001b[0m\u001b[33mtype\u001b[0m\u001b[39m=<EmbeddingModel.HUGGINGFACE: \u001b[0m\u001b[32m'huggingface'\u001b[0m\u001b[39m>, \u001b[0m          \u001b[2m                   \u001b[0m\n",
       "\u001b[2;36m           \u001b[0m         \u001b[33mmodel_kwargs\u001b[0m\u001b[39m=\u001b[0m\u001b[1;39m{\u001b[0m\u001b[32m'model_name'\u001b[0m\u001b[39m: \u001b[0m\u001b[32m'mixedbread-ai/mxbai-embed-large-v1'\u001b[0m\u001b[1;39m}\u001b[0m\u001b[39m, \u001b[0m         \u001b[2m                   \u001b[0m\n",
       "\u001b[2;36m           \u001b[0m         \u001b[33mcustom_class\u001b[0m\u001b[39m=\u001b[0m\u001b[3;35mNone\u001b[0m\u001b[1;39m)\u001b[0m\u001b[39m, \u001b[0m\u001b[32m'vector_database'\u001b[0m\u001b[39m: \u001b[0m                                     \u001b[2m                   \u001b[0m\n",
       "\u001b[2;36m           \u001b[0m         \u001b[1;35mVectorDBConfig\u001b[0m\u001b[1;39m(\u001b[0m\u001b[33mtype\u001b[0m\u001b[39m=<VectorDatabase.CHROMA: \u001b[0m\u001b[32m'chroma'\u001b[0m\u001b[1m>\u001b[0m,                      \u001b[2m                   \u001b[0m\n",
       "\u001b[2;36m           \u001b[0m         \u001b[33mvectordb_kwargs\u001b[0m=\u001b[1m{\u001b[0m\u001b[32m'persist_directory'\u001b[0m: \u001b[32m'chroma_sample2/20'\u001b[0m,                  \u001b[2m                   \u001b[0m\n",
       "\u001b[2;36m           \u001b[0m         \u001b[32m'collection_metadata'\u001b[0m: \u001b[1m{\u001b[0m\u001b[32m'hnsw:space'\u001b[0m: \u001b[32m'cosine'\u001b[0m\u001b[1m}\u001b[0m\u001b[1m}\u001b[0m, \u001b[33mcustom_class\u001b[0m=\u001b[3;35mNone\u001b[0m\u001b[1m)\u001b[0m,       \u001b[2m                   \u001b[0m\n",
       "\u001b[2;36m           \u001b[0m         \u001b[32m'sampling_rate'\u001b[0m: \u001b[3;35mNone\u001b[0m\u001b[1m}\u001b[0m                                                      \u001b[2m                   \u001b[0m\n"
      ]
     },
     "metadata": {},
     "output_type": "display_data"
    },
    {
     "name": "stdout",
     "output_type": "stream",
     "text": [
      "class_path:  ragbuilder.custom_components.CustomChunker\n"
     ]
    },
    {
     "data": {
      "text/html": [
       "<pre style=\"white-space:pre;overflow-x:auto;line-height:normal;font-family:Menlo,'DejaVu Sans Mono',consolas,'Courier New',monospace\"><span style=\"color: #7fbfbf; text-decoration-color: #7fbfbf\">           </span><span style=\"color: #000080; text-decoration-color: #000080\">INFO    </span> Load pretrained SentenceTransformer:                                 <a href=\"file:///opt/anaconda3/envs/ragbuilder/lib/python3.12/site-packages/sentence_transformers/SentenceTransformer.py\" target=\"_blank\"><span style=\"color: #7f7f7f; text-decoration-color: #7f7f7f\">SentenceTransformer.py</span></a><span style=\"color: #7f7f7f; text-decoration-color: #7f7f7f\">:</span><a href=\"file:///opt/anaconda3/envs/ragbuilder/lib/python3.12/site-packages/sentence_transformers/SentenceTransformer.py#113\" target=\"_blank\"><span style=\"color: #7f7f7f; text-decoration-color: #7f7f7f\">113</span></a>\n",
       "<span style=\"color: #7fbfbf; text-decoration-color: #7fbfbf\">           </span>         mixedbread-ai/mxbai-embed-large-v1                                   <span style=\"color: #7f7f7f; text-decoration-color: #7f7f7f\">                          </span>\n",
       "</pre>\n"
      ],
      "text/plain": [
       "\u001b[2;36m          \u001b[0m\u001b[2;36m \u001b[0m\u001b[34mINFO    \u001b[0m Load pretrained SentenceTransformer:                                 \u001b]8;id=501014;file:///opt/anaconda3/envs/ragbuilder/lib/python3.12/site-packages/sentence_transformers/SentenceTransformer.py\u001b\\\u001b[2mSentenceTransformer.py\u001b[0m\u001b]8;;\u001b\\\u001b[2m:\u001b[0m\u001b]8;id=454037;file:///opt/anaconda3/envs/ragbuilder/lib/python3.12/site-packages/sentence_transformers/SentenceTransformer.py#113\u001b\\\u001b[2m113\u001b[0m\u001b]8;;\u001b\\\n",
       "\u001b[2;36m           \u001b[0m         mixedbread-ai/mxbai-embed-large-v1                                   \u001b[2m                          \u001b[0m\n"
      ]
     },
     "metadata": {},
     "output_type": "display_data"
    },
    {
     "data": {
      "text/html": [
       "<pre style=\"white-space:pre;overflow-x:auto;line-height:normal;font-family:Menlo,'DejaVu Sans Mono',consolas,'Courier New',monospace\"><span style=\"color: #7fbfbf; text-decoration-color: #7fbfbf\">[19:06:40] </span><span style=\"color: #000080; text-decoration-color: #000080\">INFO    </span> Use pytorch device_name: mps                                         <a href=\"file:///opt/anaconda3/envs/ragbuilder/lib/python3.12/site-packages/sentence_transformers/SentenceTransformer.py\" target=\"_blank\"><span style=\"color: #7f7f7f; text-decoration-color: #7f7f7f\">SentenceTransformer.py</span></a><span style=\"color: #7f7f7f; text-decoration-color: #7f7f7f\">:</span><a href=\"file:///opt/anaconda3/envs/ragbuilder/lib/python3.12/site-packages/sentence_transformers/SentenceTransformer.py#219\" target=\"_blank\"><span style=\"color: #7f7f7f; text-decoration-color: #7f7f7f\">219</span></a>\n",
       "</pre>\n"
      ],
      "text/plain": [
       "\u001b[2;36m[19:06:40]\u001b[0m\u001b[2;36m \u001b[0m\u001b[34mINFO    \u001b[0m Use pytorch device_name: mps                                         \u001b]8;id=563699;file:///opt/anaconda3/envs/ragbuilder/lib/python3.12/site-packages/sentence_transformers/SentenceTransformer.py\u001b\\\u001b[2mSentenceTransformer.py\u001b[0m\u001b]8;;\u001b\\\u001b[2m:\u001b[0m\u001b]8;id=326252;file:///opt/anaconda3/envs/ragbuilder/lib/python3.12/site-packages/sentence_transformers/SentenceTransformer.py#219\u001b\\\u001b[2m219\u001b[0m\u001b]8;;\u001b\\\n"
      ]
     },
     "metadata": {},
     "output_type": "display_data"
    },
    {
     "data": {
      "text/html": [
       "<pre style=\"white-space:pre;overflow-x:auto;line-height:normal;font-family:Menlo,'DejaVu Sans Mono',consolas,'Courier New',monospace\"><span style=\"color: #7fbfbf; text-decoration-color: #7fbfbf\">           </span><span style=\"color: #000080; text-decoration-color: #000080\">INFO    </span> <span style=\"color: #008080; text-decoration-color: #008080; font-weight: bold\">2</span> prompts are loaded, with the keys: <span style=\"font-weight: bold\">[</span><span style=\"color: #008000; text-decoration-color: #008000\">'query'</span>, <span style=\"color: #008000; text-decoration-color: #008000\">'passage'</span><span style=\"font-weight: bold\">]</span>            <a href=\"file:///opt/anaconda3/envs/ragbuilder/lib/python3.12/site-packages/sentence_transformers/SentenceTransformer.py\" target=\"_blank\"><span style=\"color: #7f7f7f; text-decoration-color: #7f7f7f\">SentenceTransformer.py</span></a><span style=\"color: #7f7f7f; text-decoration-color: #7f7f7f\">:</span><a href=\"file:///opt/anaconda3/envs/ragbuilder/lib/python3.12/site-packages/sentence_transformers/SentenceTransformer.py#231\" target=\"_blank\"><span style=\"color: #7f7f7f; text-decoration-color: #7f7f7f\">231</span></a>\n",
       "</pre>\n"
      ],
      "text/plain": [
       "\u001b[2;36m          \u001b[0m\u001b[2;36m \u001b[0m\u001b[34mINFO    \u001b[0m \u001b[1;36m2\u001b[0m prompts are loaded, with the keys: \u001b[1m[\u001b[0m\u001b[32m'query'\u001b[0m, \u001b[32m'passage'\u001b[0m\u001b[1m]\u001b[0m            \u001b]8;id=881849;file:///opt/anaconda3/envs/ragbuilder/lib/python3.12/site-packages/sentence_transformers/SentenceTransformer.py\u001b\\\u001b[2mSentenceTransformer.py\u001b[0m\u001b]8;;\u001b\\\u001b[2m:\u001b[0m\u001b]8;id=529876;file:///opt/anaconda3/envs/ragbuilder/lib/python3.12/site-packages/sentence_transformers/SentenceTransformer.py#231\u001b\\\u001b[2m231\u001b[0m\u001b]8;;\u001b\\\n"
      ]
     },
     "metadata": {},
     "output_type": "display_data"
    },
    {
     "data": {
      "application/vnd.jupyter.widget-view+json": {
       "model_id": "f756eecef53546a581c7abbc50f0dfbe",
       "version_major": 2,
       "version_minor": 0
      },
      "text/plain": [
       "Output()"
      ]
     },
     "metadata": {},
     "output_type": "display_data"
    },
    {
     "data": {
      "text/html": [
       "<pre style=\"white-space:pre;overflow-x:auto;line-height:normal;font-family:Menlo,'DejaVu Sans Mono',consolas,'Courier New',monospace\"><span style=\"color: #008000; text-decoration-color: #008000\">✓ Pipeline execution complete!</span>\n",
       "</pre>\n"
      ],
      "text/plain": [
       "\u001b[32m✓ Pipeline execution complete!\u001b[0m\n"
      ]
     },
     "metadata": {},
     "output_type": "display_data"
    },
    {
     "data": {
      "text/html": [
       "<pre style=\"white-space:pre;overflow-x:auto;line-height:normal;font-family:Menlo,'DejaVu Sans Mono',consolas,'Courier New',monospace\"></pre>\n"
      ],
      "text/plain": []
     },
     "metadata": {},
     "output_type": "display_data"
    },
    {
     "data": {
      "text/html": [
       "<pre style=\"white-space:pre;overflow-x:auto;line-height:normal;font-family:Menlo,'DejaVu Sans Mono',consolas,'Courier New',monospace\"><span style=\"color: #008000; text-decoration-color: #008000\">Trial Score:</span> <span style=\"color: #00ffff; text-decoration-color: #00ffff; font-weight: bold\">0.8444</span>\n",
       "</pre>\n"
      ],
      "text/plain": [
       "\u001b[32mTrial Score:\u001b[0m \u001b[1;96m0.8444\u001b[0m\n"
      ]
     },
     "metadata": {},
     "output_type": "display_data"
    },
    {
     "name": "stdout",
     "output_type": "stream",
     "text": [
      "[I 2024-11-12 19:07:43,522] Trial 20 finished with value: 0.8444499783929648 and parameters: {'document_loader_index': 0, 'chunking_strategy_index': 1, 'chunk_size': 2000, 'embedding_model_index': 0}. Best is trial 20 with value: 0.8444499783929648.\n"
     ]
    },
    {
     "data": {
      "text/html": [
       "<pre style=\"white-space:pre;overflow-x:auto;line-height:normal;font-family:Menlo,'DejaVu Sans Mono',consolas,'Courier New',monospace\"><span style=\"color: #005fff; text-decoration-color: #005fff; font-weight: bold\">Trial </span><span style=\"color: #005fff; text-decoration-color: #005fff; font-weight: bold\">21</span><span style=\"color: #005fff; text-decoration-color: #005fff; font-weight: bold\">/</span><span style=\"color: #005fff; text-decoration-color: #005fff; font-weight: bold\">29</span>\n",
       "</pre>\n"
      ],
      "text/plain": [
       "\u001b[1;38;5;27mTrial \u001b[0m\u001b[1;38;5;27m21\u001b[0m\u001b[1;38;5;27m/\u001b[0m\u001b[1;38;5;27m29\u001b[0m\n"
      ]
     },
     "metadata": {},
     "output_type": "display_data"
    },
    {
     "data": {
      "text/html": [
       "<pre style=\"white-space:pre;overflow-x:auto;line-height:normal;font-family:Menlo,'DejaVu Sans Mono',consolas,'Courier New',monospace\"><span style=\"color: #7fbfbf; text-decoration-color: #7fbfbf\">[19:07:43] </span><span style=\"color: #000080; text-decoration-color: #000080\">INFO    </span> Trial parameters: <span style=\"font-weight: bold\">{</span><span style=\"color: #008000; text-decoration-color: #008000\">'input_source'</span>: <span style=\"color: #008000; text-decoration-color: #008000\">'uber_10k.pdf'</span>, <span style=\"color: #008000; text-decoration-color: #008000\">'test_dataset'</span>:          <a href=\"file:///Users/aravind/KruxAI/ragbuilder/src/ragbuilder/data_ingest/optimization.py\" target=\"_blank\"><span style=\"color: #7f7f7f; text-decoration-color: #7f7f7f\">optimization.py</span></a><span style=\"color: #7f7f7f; text-decoration-color: #7f7f7f\">:</span><a href=\"file:///Users/aravind/KruxAI/ragbuilder/src/ragbuilder/data_ingest/optimization.py#192\" target=\"_blank\"><span style=\"color: #7f7f7f; text-decoration-color: #7f7f7f\">192</span></a>\n",
       "<span style=\"color: #7fbfbf; text-decoration-color: #7fbfbf\">           </span>         <span style=\"color: #008000; text-decoration-color: #008000\">'rag_test_data_1726600284.375674 uber10k_shortlist.csv'</span>, <span style=\"color: #008000; text-decoration-color: #008000\">'document_loader'</span>: <span style=\"color: #7f7f7f; text-decoration-color: #7f7f7f\">                   </span>\n",
       "<span style=\"color: #7fbfbf; text-decoration-color: #7fbfbf\">           </span>         <span style=\"color: #800080; text-decoration-color: #800080; font-weight: bold\">LoaderConfig</span><span style=\"font-weight: bold\">(</span><span style=\"color: #808000; text-decoration-color: #808000\">type</span>=<span style=\"font-weight: bold\">&lt;</span><span style=\"color: #ff00ff; text-decoration-color: #ff00ff; font-weight: bold\">ParserType.PYMUPDF:</span><span style=\"color: #000000; text-decoration-color: #000000\"> </span><span style=\"color: #008000; text-decoration-color: #008000\">'pymupdf'</span><span style=\"color: #000000; text-decoration-color: #000000\">&gt;, </span><span style=\"color: #808000; text-decoration-color: #808000\">loader_kwargs</span><span style=\"color: #000000; text-decoration-color: #000000\">=</span><span style=\"color: #800080; text-decoration-color: #800080; font-style: italic\">None</span><span style=\"color: #000000; text-decoration-color: #000000\">, </span>     <span style=\"color: #7f7f7f; text-decoration-color: #7f7f7f\">                   </span>\n",
       "<span style=\"color: #7fbfbf; text-decoration-color: #7fbfbf\">           </span>         <span style=\"color: #808000; text-decoration-color: #808000\">custom_class</span><span style=\"color: #000000; text-decoration-color: #000000\">=</span><span style=\"color: #800080; text-decoration-color: #800080; font-style: italic\">None</span><span style=\"color: #000000; text-decoration-color: #000000; font-weight: bold\">)</span><span style=\"color: #000000; text-decoration-color: #000000\">, </span><span style=\"color: #008000; text-decoration-color: #008000\">'chunking_strategy'</span><span style=\"color: #000000; text-decoration-color: #000000\">: </span>                                   <span style=\"color: #7f7f7f; text-decoration-color: #7f7f7f\">                   </span>\n",
       "<span style=\"color: #7fbfbf; text-decoration-color: #7fbfbf\">           </span>         <span style=\"color: #800080; text-decoration-color: #800080; font-weight: bold\">ChunkingStrategyConfig</span><span style=\"color: #000000; text-decoration-color: #000000; font-weight: bold\">(</span><span style=\"color: #808000; text-decoration-color: #808000\">type</span><span style=\"color: #000000; text-decoration-color: #000000\">=&lt;ChunkingStrategy.CUSTOM: </span><span style=\"color: #008000; text-decoration-color: #008000\">'custom'</span><span style=\"color: #000000; text-decoration-color: #000000\">&gt;, </span>           <span style=\"color: #7f7f7f; text-decoration-color: #7f7f7f\">                   </span>\n",
       "<span style=\"color: #7fbfbf; text-decoration-color: #7fbfbf\">           </span>         <span style=\"color: #808000; text-decoration-color: #808000\">chunker_kwargs</span><span style=\"color: #000000; text-decoration-color: #000000\">=</span><span style=\"color: #800080; text-decoration-color: #800080; font-style: italic\">None</span><span style=\"color: #000000; text-decoration-color: #000000\">, </span>                                                       <span style=\"color: #7f7f7f; text-decoration-color: #7f7f7f\">                   </span>\n",
       "<span style=\"color: #7fbfbf; text-decoration-color: #7fbfbf\">           </span>         <span style=\"color: #808000; text-decoration-color: #808000\">custom_class</span><span style=\"color: #000000; text-decoration-color: #000000\">=</span><span style=\"color: #008000; text-decoration-color: #008000\">'ragbuilder.custom_components.CustomChunker'</span><span style=\"color: #000000; text-decoration-color: #000000; font-weight: bold\">)</span><span style=\"color: #000000; text-decoration-color: #000000\">, </span>                <span style=\"color: #7f7f7f; text-decoration-color: #7f7f7f\">                   </span>\n",
       "<span style=\"color: #7fbfbf; text-decoration-color: #7fbfbf\">           </span>         <span style=\"color: #008000; text-decoration-color: #008000\">'chunk_overlap'</span><span style=\"color: #000000; text-decoration-color: #000000\">: </span><span style=\"color: #008080; text-decoration-color: #008080; font-weight: bold\">100</span><span style=\"color: #000000; text-decoration-color: #000000\">, </span><span style=\"color: #008000; text-decoration-color: #008000\">'chunk_size'</span><span style=\"color: #000000; text-decoration-color: #000000\">: </span><span style=\"color: #008080; text-decoration-color: #008080; font-weight: bold\">2000</span><span style=\"color: #000000; text-decoration-color: #000000\">, </span><span style=\"color: #008000; text-decoration-color: #008000\">'embedding_model'</span><span style=\"color: #000000; text-decoration-color: #000000\">: </span>               <span style=\"color: #7f7f7f; text-decoration-color: #7f7f7f\">                   </span>\n",
       "<span style=\"color: #7fbfbf; text-decoration-color: #7fbfbf\">           </span>         <span style=\"color: #800080; text-decoration-color: #800080; font-weight: bold\">EmbeddingConfig</span><span style=\"color: #000000; text-decoration-color: #000000; font-weight: bold\">(</span><span style=\"color: #808000; text-decoration-color: #808000\">type</span><span style=\"color: #000000; text-decoration-color: #000000\">=&lt;EmbeddingModel.HUGGINGFACE: </span><span style=\"color: #008000; text-decoration-color: #008000\">'huggingface'</span><span style=\"color: #000000; text-decoration-color: #000000\">&gt;, </span>          <span style=\"color: #7f7f7f; text-decoration-color: #7f7f7f\">                   </span>\n",
       "<span style=\"color: #7fbfbf; text-decoration-color: #7fbfbf\">           </span>         <span style=\"color: #808000; text-decoration-color: #808000\">model_kwargs</span><span style=\"color: #000000; text-decoration-color: #000000\">=</span><span style=\"color: #000000; text-decoration-color: #000000; font-weight: bold\">{</span><span style=\"color: #008000; text-decoration-color: #008000\">'model_name'</span><span style=\"color: #000000; text-decoration-color: #000000\">: </span><span style=\"color: #008000; text-decoration-color: #008000\">'mixedbread-ai/mxbai-embed-large-v1'</span><span style=\"color: #000000; text-decoration-color: #000000; font-weight: bold\">}</span><span style=\"color: #000000; text-decoration-color: #000000\">, </span>         <span style=\"color: #7f7f7f; text-decoration-color: #7f7f7f\">                   </span>\n",
       "<span style=\"color: #7fbfbf; text-decoration-color: #7fbfbf\">           </span>         <span style=\"color: #808000; text-decoration-color: #808000\">custom_class</span><span style=\"color: #000000; text-decoration-color: #000000\">=</span><span style=\"color: #800080; text-decoration-color: #800080; font-style: italic\">None</span><span style=\"color: #000000; text-decoration-color: #000000; font-weight: bold\">)</span><span style=\"color: #000000; text-decoration-color: #000000\">, </span><span style=\"color: #008000; text-decoration-color: #008000\">'vector_database'</span><span style=\"color: #000000; text-decoration-color: #000000\">: </span>                                     <span style=\"color: #7f7f7f; text-decoration-color: #7f7f7f\">                   </span>\n",
       "<span style=\"color: #7fbfbf; text-decoration-color: #7fbfbf\">           </span>         <span style=\"color: #800080; text-decoration-color: #800080; font-weight: bold\">VectorDBConfig</span><span style=\"color: #000000; text-decoration-color: #000000; font-weight: bold\">(</span><span style=\"color: #808000; text-decoration-color: #808000\">type</span><span style=\"color: #000000; text-decoration-color: #000000\">=&lt;VectorDatabase.CHROMA: </span><span style=\"color: #008000; text-decoration-color: #008000\">'chroma'</span><span style=\"font-weight: bold\">&gt;</span>,                      <span style=\"color: #7f7f7f; text-decoration-color: #7f7f7f\">                   </span>\n",
       "<span style=\"color: #7fbfbf; text-decoration-color: #7fbfbf\">           </span>         <span style=\"color: #808000; text-decoration-color: #808000\">vectordb_kwargs</span>=<span style=\"font-weight: bold\">{</span><span style=\"color: #008000; text-decoration-color: #008000\">'persist_directory'</span>: <span style=\"color: #008000; text-decoration-color: #008000\">'chroma_sample2/21'</span>,                  <span style=\"color: #7f7f7f; text-decoration-color: #7f7f7f\">                   </span>\n",
       "<span style=\"color: #7fbfbf; text-decoration-color: #7fbfbf\">           </span>         <span style=\"color: #008000; text-decoration-color: #008000\">'collection_metadata'</span>: <span style=\"font-weight: bold\">{</span><span style=\"color: #008000; text-decoration-color: #008000\">'hnsw:space'</span>: <span style=\"color: #008000; text-decoration-color: #008000\">'cosine'</span><span style=\"font-weight: bold\">}}</span>, <span style=\"color: #808000; text-decoration-color: #808000\">custom_class</span>=<span style=\"color: #800080; text-decoration-color: #800080; font-style: italic\">None</span><span style=\"font-weight: bold\">)</span>,       <span style=\"color: #7f7f7f; text-decoration-color: #7f7f7f\">                   </span>\n",
       "<span style=\"color: #7fbfbf; text-decoration-color: #7fbfbf\">           </span>         <span style=\"color: #008000; text-decoration-color: #008000\">'sampling_rate'</span>: <span style=\"color: #800080; text-decoration-color: #800080; font-style: italic\">None</span><span style=\"font-weight: bold\">}</span>                                                      <span style=\"color: #7f7f7f; text-decoration-color: #7f7f7f\">                   </span>\n",
       "</pre>\n"
      ],
      "text/plain": [
       "\u001b[2;36m[19:07:43]\u001b[0m\u001b[2;36m \u001b[0m\u001b[34mINFO    \u001b[0m Trial parameters: \u001b[1m{\u001b[0m\u001b[32m'input_source'\u001b[0m: \u001b[32m'uber_10k.pdf'\u001b[0m, \u001b[32m'test_dataset'\u001b[0m:          \u001b]8;id=892428;file:///Users/aravind/KruxAI/ragbuilder/src/ragbuilder/data_ingest/optimization.py\u001b\\\u001b[2moptimization.py\u001b[0m\u001b]8;;\u001b\\\u001b[2m:\u001b[0m\u001b]8;id=662192;file:///Users/aravind/KruxAI/ragbuilder/src/ragbuilder/data_ingest/optimization.py#192\u001b\\\u001b[2m192\u001b[0m\u001b]8;;\u001b\\\n",
       "\u001b[2;36m           \u001b[0m         \u001b[32m'rag_test_data_1726600284.375674 uber10k_shortlist.csv'\u001b[0m, \u001b[32m'document_loader'\u001b[0m: \u001b[2m                   \u001b[0m\n",
       "\u001b[2;36m           \u001b[0m         \u001b[1;35mLoaderConfig\u001b[0m\u001b[1m(\u001b[0m\u001b[33mtype\u001b[0m=\u001b[1m<\u001b[0m\u001b[1;95mParserType.PYMUPDF:\u001b[0m\u001b[39m \u001b[0m\u001b[32m'pymupdf'\u001b[0m\u001b[39m>, \u001b[0m\u001b[33mloader_kwargs\u001b[0m\u001b[39m=\u001b[0m\u001b[3;35mNone\u001b[0m\u001b[39m, \u001b[0m     \u001b[2m                   \u001b[0m\n",
       "\u001b[2;36m           \u001b[0m         \u001b[33mcustom_class\u001b[0m\u001b[39m=\u001b[0m\u001b[3;35mNone\u001b[0m\u001b[1;39m)\u001b[0m\u001b[39m, \u001b[0m\u001b[32m'chunking_strategy'\u001b[0m\u001b[39m: \u001b[0m                                   \u001b[2m                   \u001b[0m\n",
       "\u001b[2;36m           \u001b[0m         \u001b[1;35mChunkingStrategyConfig\u001b[0m\u001b[1;39m(\u001b[0m\u001b[33mtype\u001b[0m\u001b[39m=<ChunkingStrategy.CUSTOM: \u001b[0m\u001b[32m'custom'\u001b[0m\u001b[39m>, \u001b[0m           \u001b[2m                   \u001b[0m\n",
       "\u001b[2;36m           \u001b[0m         \u001b[33mchunker_kwargs\u001b[0m\u001b[39m=\u001b[0m\u001b[3;35mNone\u001b[0m\u001b[39m, \u001b[0m                                                       \u001b[2m                   \u001b[0m\n",
       "\u001b[2;36m           \u001b[0m         \u001b[33mcustom_class\u001b[0m\u001b[39m=\u001b[0m\u001b[32m'ragbuilder.custom_components.CustomChunker'\u001b[0m\u001b[1;39m)\u001b[0m\u001b[39m, \u001b[0m                \u001b[2m                   \u001b[0m\n",
       "\u001b[2;36m           \u001b[0m         \u001b[32m'chunk_overlap'\u001b[0m\u001b[39m: \u001b[0m\u001b[1;36m100\u001b[0m\u001b[39m, \u001b[0m\u001b[32m'chunk_size'\u001b[0m\u001b[39m: \u001b[0m\u001b[1;36m2000\u001b[0m\u001b[39m, \u001b[0m\u001b[32m'embedding_model'\u001b[0m\u001b[39m: \u001b[0m               \u001b[2m                   \u001b[0m\n",
       "\u001b[2;36m           \u001b[0m         \u001b[1;35mEmbeddingConfig\u001b[0m\u001b[1;39m(\u001b[0m\u001b[33mtype\u001b[0m\u001b[39m=<EmbeddingModel.HUGGINGFACE: \u001b[0m\u001b[32m'huggingface'\u001b[0m\u001b[39m>, \u001b[0m          \u001b[2m                   \u001b[0m\n",
       "\u001b[2;36m           \u001b[0m         \u001b[33mmodel_kwargs\u001b[0m\u001b[39m=\u001b[0m\u001b[1;39m{\u001b[0m\u001b[32m'model_name'\u001b[0m\u001b[39m: \u001b[0m\u001b[32m'mixedbread-ai/mxbai-embed-large-v1'\u001b[0m\u001b[1;39m}\u001b[0m\u001b[39m, \u001b[0m         \u001b[2m                   \u001b[0m\n",
       "\u001b[2;36m           \u001b[0m         \u001b[33mcustom_class\u001b[0m\u001b[39m=\u001b[0m\u001b[3;35mNone\u001b[0m\u001b[1;39m)\u001b[0m\u001b[39m, \u001b[0m\u001b[32m'vector_database'\u001b[0m\u001b[39m: \u001b[0m                                     \u001b[2m                   \u001b[0m\n",
       "\u001b[2;36m           \u001b[0m         \u001b[1;35mVectorDBConfig\u001b[0m\u001b[1;39m(\u001b[0m\u001b[33mtype\u001b[0m\u001b[39m=<VectorDatabase.CHROMA: \u001b[0m\u001b[32m'chroma'\u001b[0m\u001b[1m>\u001b[0m,                      \u001b[2m                   \u001b[0m\n",
       "\u001b[2;36m           \u001b[0m         \u001b[33mvectordb_kwargs\u001b[0m=\u001b[1m{\u001b[0m\u001b[32m'persist_directory'\u001b[0m: \u001b[32m'chroma_sample2/21'\u001b[0m,                  \u001b[2m                   \u001b[0m\n",
       "\u001b[2;36m           \u001b[0m         \u001b[32m'collection_metadata'\u001b[0m: \u001b[1m{\u001b[0m\u001b[32m'hnsw:space'\u001b[0m: \u001b[32m'cosine'\u001b[0m\u001b[1m}\u001b[0m\u001b[1m}\u001b[0m, \u001b[33mcustom_class\u001b[0m=\u001b[3;35mNone\u001b[0m\u001b[1m)\u001b[0m,       \u001b[2m                   \u001b[0m\n",
       "\u001b[2;36m           \u001b[0m         \u001b[32m'sampling_rate'\u001b[0m: \u001b[3;35mNone\u001b[0m\u001b[1m}\u001b[0m                                                      \u001b[2m                   \u001b[0m\n"
      ]
     },
     "metadata": {},
     "output_type": "display_data"
    },
    {
     "data": {
      "text/html": [
       "<pre style=\"white-space:pre;overflow-x:auto;line-height:normal;font-family:Menlo,'DejaVu Sans Mono',consolas,'Courier New',monospace\"><span style=\"color: #7fbfbf; text-decoration-color: #7fbfbf\">           </span><span style=\"color: #000080; text-decoration-color: #000080\">INFO    </span> Config already evaluated with score: <span style=\"color: #008080; text-decoration-color: #008080; font-weight: bold\">0.8444499783929648</span>                      <a href=\"file:///Users/aravind/KruxAI/ragbuilder/src/ragbuilder/data_ingest/optimization.py\" target=\"_blank\"><span style=\"color: #7f7f7f; text-decoration-color: #7f7f7f\">optimization.py</span></a><span style=\"color: #7f7f7f; text-decoration-color: #7f7f7f\">:</span><a href=\"file:///Users/aravind/KruxAI/ragbuilder/src/ragbuilder/data_ingest/optimization.py#63\" target=\"_blank\"><span style=\"color: #7f7f7f; text-decoration-color: #7f7f7f\">63</span></a>\n",
       "</pre>\n"
      ],
      "text/plain": [
       "\u001b[2;36m          \u001b[0m\u001b[2;36m \u001b[0m\u001b[34mINFO    \u001b[0m Config already evaluated with score: \u001b[1;36m0.8444499783929648\u001b[0m                      \u001b]8;id=569365;file:///Users/aravind/KruxAI/ragbuilder/src/ragbuilder/data_ingest/optimization.py\u001b\\\u001b[2moptimization.py\u001b[0m\u001b]8;;\u001b\\\u001b[2m:\u001b[0m\u001b]8;id=398257;file:///Users/aravind/KruxAI/ragbuilder/src/ragbuilder/data_ingest/optimization.py#63\u001b\\\u001b[2m63\u001b[0m\u001b]8;;\u001b\\\n"
      ]
     },
     "metadata": {},
     "output_type": "display_data"
    },
    {
     "name": "stdout",
     "output_type": "stream",
     "text": [
      "[I 2024-11-12 19:07:43,552] Trial 21 finished with value: 0.8444499783929648 and parameters: {'document_loader_index': 0, 'chunking_strategy_index': 1, 'chunk_size': 2000, 'embedding_model_index': 0}. Best is trial 20 with value: 0.8444499783929648.\n"
     ]
    },
    {
     "data": {
      "text/html": [
       "<pre style=\"white-space:pre;overflow-x:auto;line-height:normal;font-family:Menlo,'DejaVu Sans Mono',consolas,'Courier New',monospace\"><span style=\"color: #005fff; text-decoration-color: #005fff; font-weight: bold\">Trial </span><span style=\"color: #005fff; text-decoration-color: #005fff; font-weight: bold\">22</span><span style=\"color: #005fff; text-decoration-color: #005fff; font-weight: bold\">/</span><span style=\"color: #005fff; text-decoration-color: #005fff; font-weight: bold\">29</span>\n",
       "</pre>\n"
      ],
      "text/plain": [
       "\u001b[1;38;5;27mTrial \u001b[0m\u001b[1;38;5;27m22\u001b[0m\u001b[1;38;5;27m/\u001b[0m\u001b[1;38;5;27m29\u001b[0m\n"
      ]
     },
     "metadata": {},
     "output_type": "display_data"
    },
    {
     "data": {
      "text/html": [
       "<pre style=\"white-space:pre;overflow-x:auto;line-height:normal;font-family:Menlo,'DejaVu Sans Mono',consolas,'Courier New',monospace\"><span style=\"color: #7fbfbf; text-decoration-color: #7fbfbf\">           </span><span style=\"color: #000080; text-decoration-color: #000080\">INFO    </span> Trial parameters: <span style=\"font-weight: bold\">{</span><span style=\"color: #008000; text-decoration-color: #008000\">'input_source'</span>: <span style=\"color: #008000; text-decoration-color: #008000\">'uber_10k.pdf'</span>, <span style=\"color: #008000; text-decoration-color: #008000\">'test_dataset'</span>:          <a href=\"file:///Users/aravind/KruxAI/ragbuilder/src/ragbuilder/data_ingest/optimization.py\" target=\"_blank\"><span style=\"color: #7f7f7f; text-decoration-color: #7f7f7f\">optimization.py</span></a><span style=\"color: #7f7f7f; text-decoration-color: #7f7f7f\">:</span><a href=\"file:///Users/aravind/KruxAI/ragbuilder/src/ragbuilder/data_ingest/optimization.py#192\" target=\"_blank\"><span style=\"color: #7f7f7f; text-decoration-color: #7f7f7f\">192</span></a>\n",
       "<span style=\"color: #7fbfbf; text-decoration-color: #7fbfbf\">           </span>         <span style=\"color: #008000; text-decoration-color: #008000\">'rag_test_data_1726600284.375674 uber10k_shortlist.csv'</span>, <span style=\"color: #008000; text-decoration-color: #008000\">'document_loader'</span>: <span style=\"color: #7f7f7f; text-decoration-color: #7f7f7f\">                   </span>\n",
       "<span style=\"color: #7fbfbf; text-decoration-color: #7fbfbf\">           </span>         <span style=\"color: #800080; text-decoration-color: #800080; font-weight: bold\">LoaderConfig</span><span style=\"font-weight: bold\">(</span><span style=\"color: #808000; text-decoration-color: #808000\">type</span>=<span style=\"font-weight: bold\">&lt;</span><span style=\"color: #ff00ff; text-decoration-color: #ff00ff; font-weight: bold\">ParserType.PYMUPDF:</span><span style=\"color: #000000; text-decoration-color: #000000\"> </span><span style=\"color: #008000; text-decoration-color: #008000\">'pymupdf'</span><span style=\"color: #000000; text-decoration-color: #000000\">&gt;, </span><span style=\"color: #808000; text-decoration-color: #808000\">loader_kwargs</span><span style=\"color: #000000; text-decoration-color: #000000\">=</span><span style=\"color: #800080; text-decoration-color: #800080; font-style: italic\">None</span><span style=\"color: #000000; text-decoration-color: #000000\">, </span>     <span style=\"color: #7f7f7f; text-decoration-color: #7f7f7f\">                   </span>\n",
       "<span style=\"color: #7fbfbf; text-decoration-color: #7fbfbf\">           </span>         <span style=\"color: #808000; text-decoration-color: #808000\">custom_class</span><span style=\"color: #000000; text-decoration-color: #000000\">=</span><span style=\"color: #800080; text-decoration-color: #800080; font-style: italic\">None</span><span style=\"color: #000000; text-decoration-color: #000000; font-weight: bold\">)</span><span style=\"color: #000000; text-decoration-color: #000000\">, </span><span style=\"color: #008000; text-decoration-color: #008000\">'chunking_strategy'</span><span style=\"color: #000000; text-decoration-color: #000000\">: </span>                                   <span style=\"color: #7f7f7f; text-decoration-color: #7f7f7f\">                   </span>\n",
       "<span style=\"color: #7fbfbf; text-decoration-color: #7fbfbf\">           </span>         <span style=\"color: #800080; text-decoration-color: #800080; font-weight: bold\">ChunkingStrategyConfig</span><span style=\"color: #000000; text-decoration-color: #000000; font-weight: bold\">(</span><span style=\"color: #808000; text-decoration-color: #808000\">type</span><span style=\"color: #000000; text-decoration-color: #000000\">=&lt;ChunkingStrategy.CUSTOM: </span><span style=\"color: #008000; text-decoration-color: #008000\">'custom'</span><span style=\"color: #000000; text-decoration-color: #000000\">&gt;, </span>           <span style=\"color: #7f7f7f; text-decoration-color: #7f7f7f\">                   </span>\n",
       "<span style=\"color: #7fbfbf; text-decoration-color: #7fbfbf\">           </span>         <span style=\"color: #808000; text-decoration-color: #808000\">chunker_kwargs</span><span style=\"color: #000000; text-decoration-color: #000000\">=</span><span style=\"color: #800080; text-decoration-color: #800080; font-style: italic\">None</span><span style=\"color: #000000; text-decoration-color: #000000\">, </span>                                                       <span style=\"color: #7f7f7f; text-decoration-color: #7f7f7f\">                   </span>\n",
       "<span style=\"color: #7fbfbf; text-decoration-color: #7fbfbf\">           </span>         <span style=\"color: #808000; text-decoration-color: #808000\">custom_class</span><span style=\"color: #000000; text-decoration-color: #000000\">=</span><span style=\"color: #008000; text-decoration-color: #008000\">'ragbuilder.custom_components.CustomChunker'</span><span style=\"color: #000000; text-decoration-color: #000000; font-weight: bold\">)</span><span style=\"color: #000000; text-decoration-color: #000000\">, </span>                <span style=\"color: #7f7f7f; text-decoration-color: #7f7f7f\">                   </span>\n",
       "<span style=\"color: #7fbfbf; text-decoration-color: #7fbfbf\">           </span>         <span style=\"color: #008000; text-decoration-color: #008000\">'chunk_overlap'</span><span style=\"color: #000000; text-decoration-color: #000000\">: </span><span style=\"color: #008080; text-decoration-color: #008080; font-weight: bold\">100</span><span style=\"color: #000000; text-decoration-color: #000000\">, </span><span style=\"color: #008000; text-decoration-color: #008000\">'chunk_size'</span><span style=\"color: #000000; text-decoration-color: #000000\">: </span><span style=\"color: #008080; text-decoration-color: #008080; font-weight: bold\">2000</span><span style=\"color: #000000; text-decoration-color: #000000\">, </span><span style=\"color: #008000; text-decoration-color: #008000\">'embedding_model'</span><span style=\"color: #000000; text-decoration-color: #000000\">: </span>               <span style=\"color: #7f7f7f; text-decoration-color: #7f7f7f\">                   </span>\n",
       "<span style=\"color: #7fbfbf; text-decoration-color: #7fbfbf\">           </span>         <span style=\"color: #800080; text-decoration-color: #800080; font-weight: bold\">EmbeddingConfig</span><span style=\"color: #000000; text-decoration-color: #000000; font-weight: bold\">(</span><span style=\"color: #808000; text-decoration-color: #808000\">type</span><span style=\"color: #000000; text-decoration-color: #000000\">=&lt;EmbeddingModel.HUGGINGFACE: </span><span style=\"color: #008000; text-decoration-color: #008000\">'huggingface'</span><span style=\"color: #000000; text-decoration-color: #000000\">&gt;, </span>          <span style=\"color: #7f7f7f; text-decoration-color: #7f7f7f\">                   </span>\n",
       "<span style=\"color: #7fbfbf; text-decoration-color: #7fbfbf\">           </span>         <span style=\"color: #808000; text-decoration-color: #808000\">model_kwargs</span><span style=\"color: #000000; text-decoration-color: #000000\">=</span><span style=\"color: #000000; text-decoration-color: #000000; font-weight: bold\">{</span><span style=\"color: #008000; text-decoration-color: #008000\">'model_name'</span><span style=\"color: #000000; text-decoration-color: #000000\">: </span><span style=\"color: #008000; text-decoration-color: #008000\">'mixedbread-ai/mxbai-embed-large-v1'</span><span style=\"color: #000000; text-decoration-color: #000000; font-weight: bold\">}</span><span style=\"color: #000000; text-decoration-color: #000000\">, </span>         <span style=\"color: #7f7f7f; text-decoration-color: #7f7f7f\">                   </span>\n",
       "<span style=\"color: #7fbfbf; text-decoration-color: #7fbfbf\">           </span>         <span style=\"color: #808000; text-decoration-color: #808000\">custom_class</span><span style=\"color: #000000; text-decoration-color: #000000\">=</span><span style=\"color: #800080; text-decoration-color: #800080; font-style: italic\">None</span><span style=\"color: #000000; text-decoration-color: #000000; font-weight: bold\">)</span><span style=\"color: #000000; text-decoration-color: #000000\">, </span><span style=\"color: #008000; text-decoration-color: #008000\">'vector_database'</span><span style=\"color: #000000; text-decoration-color: #000000\">: </span>                                     <span style=\"color: #7f7f7f; text-decoration-color: #7f7f7f\">                   </span>\n",
       "<span style=\"color: #7fbfbf; text-decoration-color: #7fbfbf\">           </span>         <span style=\"color: #800080; text-decoration-color: #800080; font-weight: bold\">VectorDBConfig</span><span style=\"color: #000000; text-decoration-color: #000000; font-weight: bold\">(</span><span style=\"color: #808000; text-decoration-color: #808000\">type</span><span style=\"color: #000000; text-decoration-color: #000000\">=&lt;VectorDatabase.CHROMA: </span><span style=\"color: #008000; text-decoration-color: #008000\">'chroma'</span><span style=\"font-weight: bold\">&gt;</span>,                      <span style=\"color: #7f7f7f; text-decoration-color: #7f7f7f\">                   </span>\n",
       "<span style=\"color: #7fbfbf; text-decoration-color: #7fbfbf\">           </span>         <span style=\"color: #808000; text-decoration-color: #808000\">vectordb_kwargs</span>=<span style=\"font-weight: bold\">{</span><span style=\"color: #008000; text-decoration-color: #008000\">'persist_directory'</span>: <span style=\"color: #008000; text-decoration-color: #008000\">'chroma_sample2/22'</span>,                  <span style=\"color: #7f7f7f; text-decoration-color: #7f7f7f\">                   </span>\n",
       "<span style=\"color: #7fbfbf; text-decoration-color: #7fbfbf\">           </span>         <span style=\"color: #008000; text-decoration-color: #008000\">'collection_metadata'</span>: <span style=\"font-weight: bold\">{</span><span style=\"color: #008000; text-decoration-color: #008000\">'hnsw:space'</span>: <span style=\"color: #008000; text-decoration-color: #008000\">'cosine'</span><span style=\"font-weight: bold\">}}</span>, <span style=\"color: #808000; text-decoration-color: #808000\">custom_class</span>=<span style=\"color: #800080; text-decoration-color: #800080; font-style: italic\">None</span><span style=\"font-weight: bold\">)</span>,       <span style=\"color: #7f7f7f; text-decoration-color: #7f7f7f\">                   </span>\n",
       "<span style=\"color: #7fbfbf; text-decoration-color: #7fbfbf\">           </span>         <span style=\"color: #008000; text-decoration-color: #008000\">'sampling_rate'</span>: <span style=\"color: #800080; text-decoration-color: #800080; font-style: italic\">None</span><span style=\"font-weight: bold\">}</span>                                                      <span style=\"color: #7f7f7f; text-decoration-color: #7f7f7f\">                   </span>\n",
       "</pre>\n"
      ],
      "text/plain": [
       "\u001b[2;36m          \u001b[0m\u001b[2;36m \u001b[0m\u001b[34mINFO    \u001b[0m Trial parameters: \u001b[1m{\u001b[0m\u001b[32m'input_source'\u001b[0m: \u001b[32m'uber_10k.pdf'\u001b[0m, \u001b[32m'test_dataset'\u001b[0m:          \u001b]8;id=254241;file:///Users/aravind/KruxAI/ragbuilder/src/ragbuilder/data_ingest/optimization.py\u001b\\\u001b[2moptimization.py\u001b[0m\u001b]8;;\u001b\\\u001b[2m:\u001b[0m\u001b]8;id=103246;file:///Users/aravind/KruxAI/ragbuilder/src/ragbuilder/data_ingest/optimization.py#192\u001b\\\u001b[2m192\u001b[0m\u001b]8;;\u001b\\\n",
       "\u001b[2;36m           \u001b[0m         \u001b[32m'rag_test_data_1726600284.375674 uber10k_shortlist.csv'\u001b[0m, \u001b[32m'document_loader'\u001b[0m: \u001b[2m                   \u001b[0m\n",
       "\u001b[2;36m           \u001b[0m         \u001b[1;35mLoaderConfig\u001b[0m\u001b[1m(\u001b[0m\u001b[33mtype\u001b[0m=\u001b[1m<\u001b[0m\u001b[1;95mParserType.PYMUPDF:\u001b[0m\u001b[39m \u001b[0m\u001b[32m'pymupdf'\u001b[0m\u001b[39m>, \u001b[0m\u001b[33mloader_kwargs\u001b[0m\u001b[39m=\u001b[0m\u001b[3;35mNone\u001b[0m\u001b[39m, \u001b[0m     \u001b[2m                   \u001b[0m\n",
       "\u001b[2;36m           \u001b[0m         \u001b[33mcustom_class\u001b[0m\u001b[39m=\u001b[0m\u001b[3;35mNone\u001b[0m\u001b[1;39m)\u001b[0m\u001b[39m, \u001b[0m\u001b[32m'chunking_strategy'\u001b[0m\u001b[39m: \u001b[0m                                   \u001b[2m                   \u001b[0m\n",
       "\u001b[2;36m           \u001b[0m         \u001b[1;35mChunkingStrategyConfig\u001b[0m\u001b[1;39m(\u001b[0m\u001b[33mtype\u001b[0m\u001b[39m=<ChunkingStrategy.CUSTOM: \u001b[0m\u001b[32m'custom'\u001b[0m\u001b[39m>, \u001b[0m           \u001b[2m                   \u001b[0m\n",
       "\u001b[2;36m           \u001b[0m         \u001b[33mchunker_kwargs\u001b[0m\u001b[39m=\u001b[0m\u001b[3;35mNone\u001b[0m\u001b[39m, \u001b[0m                                                       \u001b[2m                   \u001b[0m\n",
       "\u001b[2;36m           \u001b[0m         \u001b[33mcustom_class\u001b[0m\u001b[39m=\u001b[0m\u001b[32m'ragbuilder.custom_components.CustomChunker'\u001b[0m\u001b[1;39m)\u001b[0m\u001b[39m, \u001b[0m                \u001b[2m                   \u001b[0m\n",
       "\u001b[2;36m           \u001b[0m         \u001b[32m'chunk_overlap'\u001b[0m\u001b[39m: \u001b[0m\u001b[1;36m100\u001b[0m\u001b[39m, \u001b[0m\u001b[32m'chunk_size'\u001b[0m\u001b[39m: \u001b[0m\u001b[1;36m2000\u001b[0m\u001b[39m, \u001b[0m\u001b[32m'embedding_model'\u001b[0m\u001b[39m: \u001b[0m               \u001b[2m                   \u001b[0m\n",
       "\u001b[2;36m           \u001b[0m         \u001b[1;35mEmbeddingConfig\u001b[0m\u001b[1;39m(\u001b[0m\u001b[33mtype\u001b[0m\u001b[39m=<EmbeddingModel.HUGGINGFACE: \u001b[0m\u001b[32m'huggingface'\u001b[0m\u001b[39m>, \u001b[0m          \u001b[2m                   \u001b[0m\n",
       "\u001b[2;36m           \u001b[0m         \u001b[33mmodel_kwargs\u001b[0m\u001b[39m=\u001b[0m\u001b[1;39m{\u001b[0m\u001b[32m'model_name'\u001b[0m\u001b[39m: \u001b[0m\u001b[32m'mixedbread-ai/mxbai-embed-large-v1'\u001b[0m\u001b[1;39m}\u001b[0m\u001b[39m, \u001b[0m         \u001b[2m                   \u001b[0m\n",
       "\u001b[2;36m           \u001b[0m         \u001b[33mcustom_class\u001b[0m\u001b[39m=\u001b[0m\u001b[3;35mNone\u001b[0m\u001b[1;39m)\u001b[0m\u001b[39m, \u001b[0m\u001b[32m'vector_database'\u001b[0m\u001b[39m: \u001b[0m                                     \u001b[2m                   \u001b[0m\n",
       "\u001b[2;36m           \u001b[0m         \u001b[1;35mVectorDBConfig\u001b[0m\u001b[1;39m(\u001b[0m\u001b[33mtype\u001b[0m\u001b[39m=<VectorDatabase.CHROMA: \u001b[0m\u001b[32m'chroma'\u001b[0m\u001b[1m>\u001b[0m,                      \u001b[2m                   \u001b[0m\n",
       "\u001b[2;36m           \u001b[0m         \u001b[33mvectordb_kwargs\u001b[0m=\u001b[1m{\u001b[0m\u001b[32m'persist_directory'\u001b[0m: \u001b[32m'chroma_sample2/22'\u001b[0m,                  \u001b[2m                   \u001b[0m\n",
       "\u001b[2;36m           \u001b[0m         \u001b[32m'collection_metadata'\u001b[0m: \u001b[1m{\u001b[0m\u001b[32m'hnsw:space'\u001b[0m: \u001b[32m'cosine'\u001b[0m\u001b[1m}\u001b[0m\u001b[1m}\u001b[0m, \u001b[33mcustom_class\u001b[0m=\u001b[3;35mNone\u001b[0m\u001b[1m)\u001b[0m,       \u001b[2m                   \u001b[0m\n",
       "\u001b[2;36m           \u001b[0m         \u001b[32m'sampling_rate'\u001b[0m: \u001b[3;35mNone\u001b[0m\u001b[1m}\u001b[0m                                                      \u001b[2m                   \u001b[0m\n"
      ]
     },
     "metadata": {},
     "output_type": "display_data"
    },
    {
     "data": {
      "text/html": [
       "<pre style=\"white-space:pre;overflow-x:auto;line-height:normal;font-family:Menlo,'DejaVu Sans Mono',consolas,'Courier New',monospace\"><span style=\"color: #7fbfbf; text-decoration-color: #7fbfbf\">           </span><span style=\"color: #000080; text-decoration-color: #000080\">INFO    </span> Config already evaluated with score: <span style=\"color: #008080; text-decoration-color: #008080; font-weight: bold\">0.8444499783929648</span>                      <a href=\"file:///Users/aravind/KruxAI/ragbuilder/src/ragbuilder/data_ingest/optimization.py\" target=\"_blank\"><span style=\"color: #7f7f7f; text-decoration-color: #7f7f7f\">optimization.py</span></a><span style=\"color: #7f7f7f; text-decoration-color: #7f7f7f\">:</span><a href=\"file:///Users/aravind/KruxAI/ragbuilder/src/ragbuilder/data_ingest/optimization.py#63\" target=\"_blank\"><span style=\"color: #7f7f7f; text-decoration-color: #7f7f7f\">63</span></a>\n",
       "</pre>\n"
      ],
      "text/plain": [
       "\u001b[2;36m          \u001b[0m\u001b[2;36m \u001b[0m\u001b[34mINFO    \u001b[0m Config already evaluated with score: \u001b[1;36m0.8444499783929648\u001b[0m                      \u001b]8;id=652372;file:///Users/aravind/KruxAI/ragbuilder/src/ragbuilder/data_ingest/optimization.py\u001b\\\u001b[2moptimization.py\u001b[0m\u001b]8;;\u001b\\\u001b[2m:\u001b[0m\u001b]8;id=555949;file:///Users/aravind/KruxAI/ragbuilder/src/ragbuilder/data_ingest/optimization.py#63\u001b\\\u001b[2m63\u001b[0m\u001b]8;;\u001b\\\n"
      ]
     },
     "metadata": {},
     "output_type": "display_data"
    },
    {
     "name": "stdout",
     "output_type": "stream",
     "text": [
      "[I 2024-11-12 19:07:43,561] Trial 22 finished with value: 0.8444499783929648 and parameters: {'document_loader_index': 0, 'chunking_strategy_index': 1, 'chunk_size': 2000, 'embedding_model_index': 0}. Best is trial 20 with value: 0.8444499783929648.\n"
     ]
    },
    {
     "data": {
      "text/html": [
       "<pre style=\"white-space:pre;overflow-x:auto;line-height:normal;font-family:Menlo,'DejaVu Sans Mono',consolas,'Courier New',monospace\"><span style=\"color: #005fff; text-decoration-color: #005fff; font-weight: bold\">Trial </span><span style=\"color: #005fff; text-decoration-color: #005fff; font-weight: bold\">23</span><span style=\"color: #005fff; text-decoration-color: #005fff; font-weight: bold\">/</span><span style=\"color: #005fff; text-decoration-color: #005fff; font-weight: bold\">29</span>\n",
       "</pre>\n"
      ],
      "text/plain": [
       "\u001b[1;38;5;27mTrial \u001b[0m\u001b[1;38;5;27m23\u001b[0m\u001b[1;38;5;27m/\u001b[0m\u001b[1;38;5;27m29\u001b[0m\n"
      ]
     },
     "metadata": {},
     "output_type": "display_data"
    },
    {
     "data": {
      "text/html": [
       "<pre style=\"white-space:pre;overflow-x:auto;line-height:normal;font-family:Menlo,'DejaVu Sans Mono',consolas,'Courier New',monospace\"><span style=\"color: #7fbfbf; text-decoration-color: #7fbfbf\">           </span><span style=\"color: #000080; text-decoration-color: #000080\">INFO    </span> Trial parameters: <span style=\"font-weight: bold\">{</span><span style=\"color: #008000; text-decoration-color: #008000\">'input_source'</span>: <span style=\"color: #008000; text-decoration-color: #008000\">'uber_10k.pdf'</span>, <span style=\"color: #008000; text-decoration-color: #008000\">'test_dataset'</span>:          <a href=\"file:///Users/aravind/KruxAI/ragbuilder/src/ragbuilder/data_ingest/optimization.py\" target=\"_blank\"><span style=\"color: #7f7f7f; text-decoration-color: #7f7f7f\">optimization.py</span></a><span style=\"color: #7f7f7f; text-decoration-color: #7f7f7f\">:</span><a href=\"file:///Users/aravind/KruxAI/ragbuilder/src/ragbuilder/data_ingest/optimization.py#192\" target=\"_blank\"><span style=\"color: #7f7f7f; text-decoration-color: #7f7f7f\">192</span></a>\n",
       "<span style=\"color: #7fbfbf; text-decoration-color: #7fbfbf\">           </span>         <span style=\"color: #008000; text-decoration-color: #008000\">'rag_test_data_1726600284.375674 uber10k_shortlist.csv'</span>, <span style=\"color: #008000; text-decoration-color: #008000\">'document_loader'</span>: <span style=\"color: #7f7f7f; text-decoration-color: #7f7f7f\">                   </span>\n",
       "<span style=\"color: #7fbfbf; text-decoration-color: #7fbfbf\">           </span>         <span style=\"color: #800080; text-decoration-color: #800080; font-weight: bold\">LoaderConfig</span><span style=\"font-weight: bold\">(</span><span style=\"color: #808000; text-decoration-color: #808000\">type</span>=<span style=\"font-weight: bold\">&lt;</span><span style=\"color: #ff00ff; text-decoration-color: #ff00ff; font-weight: bold\">ParserType.PYMUPDF:</span><span style=\"color: #000000; text-decoration-color: #000000\"> </span><span style=\"color: #008000; text-decoration-color: #008000\">'pymupdf'</span><span style=\"color: #000000; text-decoration-color: #000000\">&gt;, </span><span style=\"color: #808000; text-decoration-color: #808000\">loader_kwargs</span><span style=\"color: #000000; text-decoration-color: #000000\">=</span><span style=\"color: #800080; text-decoration-color: #800080; font-style: italic\">None</span><span style=\"color: #000000; text-decoration-color: #000000\">, </span>     <span style=\"color: #7f7f7f; text-decoration-color: #7f7f7f\">                   </span>\n",
       "<span style=\"color: #7fbfbf; text-decoration-color: #7fbfbf\">           </span>         <span style=\"color: #808000; text-decoration-color: #808000\">custom_class</span><span style=\"color: #000000; text-decoration-color: #000000\">=</span><span style=\"color: #800080; text-decoration-color: #800080; font-style: italic\">None</span><span style=\"color: #000000; text-decoration-color: #000000; font-weight: bold\">)</span><span style=\"color: #000000; text-decoration-color: #000000\">, </span><span style=\"color: #008000; text-decoration-color: #008000\">'chunking_strategy'</span><span style=\"color: #000000; text-decoration-color: #000000\">: </span>                                   <span style=\"color: #7f7f7f; text-decoration-color: #7f7f7f\">                   </span>\n",
       "<span style=\"color: #7fbfbf; text-decoration-color: #7fbfbf\">           </span>         <span style=\"color: #800080; text-decoration-color: #800080; font-weight: bold\">ChunkingStrategyConfig</span><span style=\"color: #000000; text-decoration-color: #000000; font-weight: bold\">(</span><span style=\"color: #808000; text-decoration-color: #808000\">type</span><span style=\"color: #000000; text-decoration-color: #000000\">=&lt;ChunkingStrategy.CUSTOM: </span><span style=\"color: #008000; text-decoration-color: #008000\">'custom'</span><span style=\"color: #000000; text-decoration-color: #000000\">&gt;, </span>           <span style=\"color: #7f7f7f; text-decoration-color: #7f7f7f\">                   </span>\n",
       "<span style=\"color: #7fbfbf; text-decoration-color: #7fbfbf\">           </span>         <span style=\"color: #808000; text-decoration-color: #808000\">chunker_kwargs</span><span style=\"color: #000000; text-decoration-color: #000000\">=</span><span style=\"color: #800080; text-decoration-color: #800080; font-style: italic\">None</span><span style=\"color: #000000; text-decoration-color: #000000\">, </span>                                                       <span style=\"color: #7f7f7f; text-decoration-color: #7f7f7f\">                   </span>\n",
       "<span style=\"color: #7fbfbf; text-decoration-color: #7fbfbf\">           </span>         <span style=\"color: #808000; text-decoration-color: #808000\">custom_class</span><span style=\"color: #000000; text-decoration-color: #000000\">=</span><span style=\"color: #008000; text-decoration-color: #008000\">'ragbuilder.custom_components.CustomChunker'</span><span style=\"color: #000000; text-decoration-color: #000000; font-weight: bold\">)</span><span style=\"color: #000000; text-decoration-color: #000000\">, </span>                <span style=\"color: #7f7f7f; text-decoration-color: #7f7f7f\">                   </span>\n",
       "<span style=\"color: #7fbfbf; text-decoration-color: #7fbfbf\">           </span>         <span style=\"color: #008000; text-decoration-color: #008000\">'chunk_overlap'</span><span style=\"color: #000000; text-decoration-color: #000000\">: </span><span style=\"color: #008080; text-decoration-color: #008080; font-weight: bold\">100</span><span style=\"color: #000000; text-decoration-color: #000000\">, </span><span style=\"color: #008000; text-decoration-color: #008000\">'chunk_size'</span><span style=\"color: #000000; text-decoration-color: #000000\">: </span><span style=\"color: #008080; text-decoration-color: #008080; font-weight: bold\">2000</span><span style=\"color: #000000; text-decoration-color: #000000\">, </span><span style=\"color: #008000; text-decoration-color: #008000\">'embedding_model'</span><span style=\"color: #000000; text-decoration-color: #000000\">: </span>               <span style=\"color: #7f7f7f; text-decoration-color: #7f7f7f\">                   </span>\n",
       "<span style=\"color: #7fbfbf; text-decoration-color: #7fbfbf\">           </span>         <span style=\"color: #800080; text-decoration-color: #800080; font-weight: bold\">EmbeddingConfig</span><span style=\"color: #000000; text-decoration-color: #000000; font-weight: bold\">(</span><span style=\"color: #808000; text-decoration-color: #808000\">type</span><span style=\"color: #000000; text-decoration-color: #000000\">=&lt;EmbeddingModel.HUGGINGFACE: </span><span style=\"color: #008000; text-decoration-color: #008000\">'huggingface'</span><span style=\"color: #000000; text-decoration-color: #000000\">&gt;, </span>          <span style=\"color: #7f7f7f; text-decoration-color: #7f7f7f\">                   </span>\n",
       "<span style=\"color: #7fbfbf; text-decoration-color: #7fbfbf\">           </span>         <span style=\"color: #808000; text-decoration-color: #808000\">model_kwargs</span><span style=\"color: #000000; text-decoration-color: #000000\">=</span><span style=\"color: #000000; text-decoration-color: #000000; font-weight: bold\">{</span><span style=\"color: #008000; text-decoration-color: #008000\">'model_name'</span><span style=\"color: #000000; text-decoration-color: #000000\">: </span><span style=\"color: #008000; text-decoration-color: #008000\">'mixedbread-ai/mxbai-embed-large-v1'</span><span style=\"color: #000000; text-decoration-color: #000000; font-weight: bold\">}</span><span style=\"color: #000000; text-decoration-color: #000000\">, </span>         <span style=\"color: #7f7f7f; text-decoration-color: #7f7f7f\">                   </span>\n",
       "<span style=\"color: #7fbfbf; text-decoration-color: #7fbfbf\">           </span>         <span style=\"color: #808000; text-decoration-color: #808000\">custom_class</span><span style=\"color: #000000; text-decoration-color: #000000\">=</span><span style=\"color: #800080; text-decoration-color: #800080; font-style: italic\">None</span><span style=\"color: #000000; text-decoration-color: #000000; font-weight: bold\">)</span><span style=\"color: #000000; text-decoration-color: #000000\">, </span><span style=\"color: #008000; text-decoration-color: #008000\">'vector_database'</span><span style=\"color: #000000; text-decoration-color: #000000\">: </span>                                     <span style=\"color: #7f7f7f; text-decoration-color: #7f7f7f\">                   </span>\n",
       "<span style=\"color: #7fbfbf; text-decoration-color: #7fbfbf\">           </span>         <span style=\"color: #800080; text-decoration-color: #800080; font-weight: bold\">VectorDBConfig</span><span style=\"color: #000000; text-decoration-color: #000000; font-weight: bold\">(</span><span style=\"color: #808000; text-decoration-color: #808000\">type</span><span style=\"color: #000000; text-decoration-color: #000000\">=&lt;VectorDatabase.CHROMA: </span><span style=\"color: #008000; text-decoration-color: #008000\">'chroma'</span><span style=\"font-weight: bold\">&gt;</span>,                      <span style=\"color: #7f7f7f; text-decoration-color: #7f7f7f\">                   </span>\n",
       "<span style=\"color: #7fbfbf; text-decoration-color: #7fbfbf\">           </span>         <span style=\"color: #808000; text-decoration-color: #808000\">vectordb_kwargs</span>=<span style=\"font-weight: bold\">{</span><span style=\"color: #008000; text-decoration-color: #008000\">'persist_directory'</span>: <span style=\"color: #008000; text-decoration-color: #008000\">'chroma_sample2/23'</span>,                  <span style=\"color: #7f7f7f; text-decoration-color: #7f7f7f\">                   </span>\n",
       "<span style=\"color: #7fbfbf; text-decoration-color: #7fbfbf\">           </span>         <span style=\"color: #008000; text-decoration-color: #008000\">'collection_metadata'</span>: <span style=\"font-weight: bold\">{</span><span style=\"color: #008000; text-decoration-color: #008000\">'hnsw:space'</span>: <span style=\"color: #008000; text-decoration-color: #008000\">'cosine'</span><span style=\"font-weight: bold\">}}</span>, <span style=\"color: #808000; text-decoration-color: #808000\">custom_class</span>=<span style=\"color: #800080; text-decoration-color: #800080; font-style: italic\">None</span><span style=\"font-weight: bold\">)</span>,       <span style=\"color: #7f7f7f; text-decoration-color: #7f7f7f\">                   </span>\n",
       "<span style=\"color: #7fbfbf; text-decoration-color: #7fbfbf\">           </span>         <span style=\"color: #008000; text-decoration-color: #008000\">'sampling_rate'</span>: <span style=\"color: #800080; text-decoration-color: #800080; font-style: italic\">None</span><span style=\"font-weight: bold\">}</span>                                                      <span style=\"color: #7f7f7f; text-decoration-color: #7f7f7f\">                   </span>\n",
       "</pre>\n"
      ],
      "text/plain": [
       "\u001b[2;36m          \u001b[0m\u001b[2;36m \u001b[0m\u001b[34mINFO    \u001b[0m Trial parameters: \u001b[1m{\u001b[0m\u001b[32m'input_source'\u001b[0m: \u001b[32m'uber_10k.pdf'\u001b[0m, \u001b[32m'test_dataset'\u001b[0m:          \u001b]8;id=490125;file:///Users/aravind/KruxAI/ragbuilder/src/ragbuilder/data_ingest/optimization.py\u001b\\\u001b[2moptimization.py\u001b[0m\u001b]8;;\u001b\\\u001b[2m:\u001b[0m\u001b]8;id=79117;file:///Users/aravind/KruxAI/ragbuilder/src/ragbuilder/data_ingest/optimization.py#192\u001b\\\u001b[2m192\u001b[0m\u001b]8;;\u001b\\\n",
       "\u001b[2;36m           \u001b[0m         \u001b[32m'rag_test_data_1726600284.375674 uber10k_shortlist.csv'\u001b[0m, \u001b[32m'document_loader'\u001b[0m: \u001b[2m                   \u001b[0m\n",
       "\u001b[2;36m           \u001b[0m         \u001b[1;35mLoaderConfig\u001b[0m\u001b[1m(\u001b[0m\u001b[33mtype\u001b[0m=\u001b[1m<\u001b[0m\u001b[1;95mParserType.PYMUPDF:\u001b[0m\u001b[39m \u001b[0m\u001b[32m'pymupdf'\u001b[0m\u001b[39m>, \u001b[0m\u001b[33mloader_kwargs\u001b[0m\u001b[39m=\u001b[0m\u001b[3;35mNone\u001b[0m\u001b[39m, \u001b[0m     \u001b[2m                   \u001b[0m\n",
       "\u001b[2;36m           \u001b[0m         \u001b[33mcustom_class\u001b[0m\u001b[39m=\u001b[0m\u001b[3;35mNone\u001b[0m\u001b[1;39m)\u001b[0m\u001b[39m, \u001b[0m\u001b[32m'chunking_strategy'\u001b[0m\u001b[39m: \u001b[0m                                   \u001b[2m                   \u001b[0m\n",
       "\u001b[2;36m           \u001b[0m         \u001b[1;35mChunkingStrategyConfig\u001b[0m\u001b[1;39m(\u001b[0m\u001b[33mtype\u001b[0m\u001b[39m=<ChunkingStrategy.CUSTOM: \u001b[0m\u001b[32m'custom'\u001b[0m\u001b[39m>, \u001b[0m           \u001b[2m                   \u001b[0m\n",
       "\u001b[2;36m           \u001b[0m         \u001b[33mchunker_kwargs\u001b[0m\u001b[39m=\u001b[0m\u001b[3;35mNone\u001b[0m\u001b[39m, \u001b[0m                                                       \u001b[2m                   \u001b[0m\n",
       "\u001b[2;36m           \u001b[0m         \u001b[33mcustom_class\u001b[0m\u001b[39m=\u001b[0m\u001b[32m'ragbuilder.custom_components.CustomChunker'\u001b[0m\u001b[1;39m)\u001b[0m\u001b[39m, \u001b[0m                \u001b[2m                   \u001b[0m\n",
       "\u001b[2;36m           \u001b[0m         \u001b[32m'chunk_overlap'\u001b[0m\u001b[39m: \u001b[0m\u001b[1;36m100\u001b[0m\u001b[39m, \u001b[0m\u001b[32m'chunk_size'\u001b[0m\u001b[39m: \u001b[0m\u001b[1;36m2000\u001b[0m\u001b[39m, \u001b[0m\u001b[32m'embedding_model'\u001b[0m\u001b[39m: \u001b[0m               \u001b[2m                   \u001b[0m\n",
       "\u001b[2;36m           \u001b[0m         \u001b[1;35mEmbeddingConfig\u001b[0m\u001b[1;39m(\u001b[0m\u001b[33mtype\u001b[0m\u001b[39m=<EmbeddingModel.HUGGINGFACE: \u001b[0m\u001b[32m'huggingface'\u001b[0m\u001b[39m>, \u001b[0m          \u001b[2m                   \u001b[0m\n",
       "\u001b[2;36m           \u001b[0m         \u001b[33mmodel_kwargs\u001b[0m\u001b[39m=\u001b[0m\u001b[1;39m{\u001b[0m\u001b[32m'model_name'\u001b[0m\u001b[39m: \u001b[0m\u001b[32m'mixedbread-ai/mxbai-embed-large-v1'\u001b[0m\u001b[1;39m}\u001b[0m\u001b[39m, \u001b[0m         \u001b[2m                   \u001b[0m\n",
       "\u001b[2;36m           \u001b[0m         \u001b[33mcustom_class\u001b[0m\u001b[39m=\u001b[0m\u001b[3;35mNone\u001b[0m\u001b[1;39m)\u001b[0m\u001b[39m, \u001b[0m\u001b[32m'vector_database'\u001b[0m\u001b[39m: \u001b[0m                                     \u001b[2m                   \u001b[0m\n",
       "\u001b[2;36m           \u001b[0m         \u001b[1;35mVectorDBConfig\u001b[0m\u001b[1;39m(\u001b[0m\u001b[33mtype\u001b[0m\u001b[39m=<VectorDatabase.CHROMA: \u001b[0m\u001b[32m'chroma'\u001b[0m\u001b[1m>\u001b[0m,                      \u001b[2m                   \u001b[0m\n",
       "\u001b[2;36m           \u001b[0m         \u001b[33mvectordb_kwargs\u001b[0m=\u001b[1m{\u001b[0m\u001b[32m'persist_directory'\u001b[0m: \u001b[32m'chroma_sample2/23'\u001b[0m,                  \u001b[2m                   \u001b[0m\n",
       "\u001b[2;36m           \u001b[0m         \u001b[32m'collection_metadata'\u001b[0m: \u001b[1m{\u001b[0m\u001b[32m'hnsw:space'\u001b[0m: \u001b[32m'cosine'\u001b[0m\u001b[1m}\u001b[0m\u001b[1m}\u001b[0m, \u001b[33mcustom_class\u001b[0m=\u001b[3;35mNone\u001b[0m\u001b[1m)\u001b[0m,       \u001b[2m                   \u001b[0m\n",
       "\u001b[2;36m           \u001b[0m         \u001b[32m'sampling_rate'\u001b[0m: \u001b[3;35mNone\u001b[0m\u001b[1m}\u001b[0m                                                      \u001b[2m                   \u001b[0m\n"
      ]
     },
     "metadata": {},
     "output_type": "display_data"
    },
    {
     "data": {
      "text/html": [
       "<pre style=\"white-space:pre;overflow-x:auto;line-height:normal;font-family:Menlo,'DejaVu Sans Mono',consolas,'Courier New',monospace\"><span style=\"color: #7fbfbf; text-decoration-color: #7fbfbf\">           </span><span style=\"color: #000080; text-decoration-color: #000080\">INFO    </span> Config already evaluated with score: <span style=\"color: #008080; text-decoration-color: #008080; font-weight: bold\">0.8444499783929648</span>                      <a href=\"file:///Users/aravind/KruxAI/ragbuilder/src/ragbuilder/data_ingest/optimization.py\" target=\"_blank\"><span style=\"color: #7f7f7f; text-decoration-color: #7f7f7f\">optimization.py</span></a><span style=\"color: #7f7f7f; text-decoration-color: #7f7f7f\">:</span><a href=\"file:///Users/aravind/KruxAI/ragbuilder/src/ragbuilder/data_ingest/optimization.py#63\" target=\"_blank\"><span style=\"color: #7f7f7f; text-decoration-color: #7f7f7f\">63</span></a>\n",
       "</pre>\n"
      ],
      "text/plain": [
       "\u001b[2;36m          \u001b[0m\u001b[2;36m \u001b[0m\u001b[34mINFO    \u001b[0m Config already evaluated with score: \u001b[1;36m0.8444499783929648\u001b[0m                      \u001b]8;id=562398;file:///Users/aravind/KruxAI/ragbuilder/src/ragbuilder/data_ingest/optimization.py\u001b\\\u001b[2moptimization.py\u001b[0m\u001b]8;;\u001b\\\u001b[2m:\u001b[0m\u001b]8;id=578426;file:///Users/aravind/KruxAI/ragbuilder/src/ragbuilder/data_ingest/optimization.py#63\u001b\\\u001b[2m63\u001b[0m\u001b]8;;\u001b\\\n"
      ]
     },
     "metadata": {},
     "output_type": "display_data"
    },
    {
     "name": "stdout",
     "output_type": "stream",
     "text": [
      "[I 2024-11-12 19:07:43,571] Trial 23 finished with value: 0.8444499783929648 and parameters: {'document_loader_index': 0, 'chunking_strategy_index': 1, 'chunk_size': 2000, 'embedding_model_index': 0}. Best is trial 20 with value: 0.8444499783929648.\n"
     ]
    },
    {
     "data": {
      "text/html": [
       "<pre style=\"white-space:pre;overflow-x:auto;line-height:normal;font-family:Menlo,'DejaVu Sans Mono',consolas,'Courier New',monospace\"><span style=\"color: #005fff; text-decoration-color: #005fff; font-weight: bold\">Trial </span><span style=\"color: #005fff; text-decoration-color: #005fff; font-weight: bold\">24</span><span style=\"color: #005fff; text-decoration-color: #005fff; font-weight: bold\">/</span><span style=\"color: #005fff; text-decoration-color: #005fff; font-weight: bold\">29</span>\n",
       "</pre>\n"
      ],
      "text/plain": [
       "\u001b[1;38;5;27mTrial \u001b[0m\u001b[1;38;5;27m24\u001b[0m\u001b[1;38;5;27m/\u001b[0m\u001b[1;38;5;27m29\u001b[0m\n"
      ]
     },
     "metadata": {},
     "output_type": "display_data"
    },
    {
     "data": {
      "text/html": [
       "<pre style=\"white-space:pre;overflow-x:auto;line-height:normal;font-family:Menlo,'DejaVu Sans Mono',consolas,'Courier New',monospace\"><span style=\"color: #7fbfbf; text-decoration-color: #7fbfbf\">           </span><span style=\"color: #000080; text-decoration-color: #000080\">INFO    </span> Trial parameters: <span style=\"font-weight: bold\">{</span><span style=\"color: #008000; text-decoration-color: #008000\">'input_source'</span>: <span style=\"color: #008000; text-decoration-color: #008000\">'uber_10k.pdf'</span>, <span style=\"color: #008000; text-decoration-color: #008000\">'test_dataset'</span>:          <a href=\"file:///Users/aravind/KruxAI/ragbuilder/src/ragbuilder/data_ingest/optimization.py\" target=\"_blank\"><span style=\"color: #7f7f7f; text-decoration-color: #7f7f7f\">optimization.py</span></a><span style=\"color: #7f7f7f; text-decoration-color: #7f7f7f\">:</span><a href=\"file:///Users/aravind/KruxAI/ragbuilder/src/ragbuilder/data_ingest/optimization.py#192\" target=\"_blank\"><span style=\"color: #7f7f7f; text-decoration-color: #7f7f7f\">192</span></a>\n",
       "<span style=\"color: #7fbfbf; text-decoration-color: #7fbfbf\">           </span>         <span style=\"color: #008000; text-decoration-color: #008000\">'rag_test_data_1726600284.375674 uber10k_shortlist.csv'</span>, <span style=\"color: #008000; text-decoration-color: #008000\">'document_loader'</span>: <span style=\"color: #7f7f7f; text-decoration-color: #7f7f7f\">                   </span>\n",
       "<span style=\"color: #7fbfbf; text-decoration-color: #7fbfbf\">           </span>         <span style=\"color: #800080; text-decoration-color: #800080; font-weight: bold\">LoaderConfig</span><span style=\"font-weight: bold\">(</span><span style=\"color: #808000; text-decoration-color: #808000\">type</span>=<span style=\"font-weight: bold\">&lt;</span><span style=\"color: #ff00ff; text-decoration-color: #ff00ff; font-weight: bold\">ParserType.PYMUPDF:</span><span style=\"color: #000000; text-decoration-color: #000000\"> </span><span style=\"color: #008000; text-decoration-color: #008000\">'pymupdf'</span><span style=\"color: #000000; text-decoration-color: #000000\">&gt;, </span><span style=\"color: #808000; text-decoration-color: #808000\">loader_kwargs</span><span style=\"color: #000000; text-decoration-color: #000000\">=</span><span style=\"color: #800080; text-decoration-color: #800080; font-style: italic\">None</span><span style=\"color: #000000; text-decoration-color: #000000\">, </span>     <span style=\"color: #7f7f7f; text-decoration-color: #7f7f7f\">                   </span>\n",
       "<span style=\"color: #7fbfbf; text-decoration-color: #7fbfbf\">           </span>         <span style=\"color: #808000; text-decoration-color: #808000\">custom_class</span><span style=\"color: #000000; text-decoration-color: #000000\">=</span><span style=\"color: #800080; text-decoration-color: #800080; font-style: italic\">None</span><span style=\"color: #000000; text-decoration-color: #000000; font-weight: bold\">)</span><span style=\"color: #000000; text-decoration-color: #000000\">, </span><span style=\"color: #008000; text-decoration-color: #008000\">'chunking_strategy'</span><span style=\"color: #000000; text-decoration-color: #000000\">: </span>                                   <span style=\"color: #7f7f7f; text-decoration-color: #7f7f7f\">                   </span>\n",
       "<span style=\"color: #7fbfbf; text-decoration-color: #7fbfbf\">           </span>         <span style=\"color: #800080; text-decoration-color: #800080; font-weight: bold\">ChunkingStrategyConfig</span><span style=\"color: #000000; text-decoration-color: #000000; font-weight: bold\">(</span><span style=\"color: #808000; text-decoration-color: #808000\">type</span><span style=\"color: #000000; text-decoration-color: #000000\">=&lt;ChunkingStrategy.CUSTOM: </span><span style=\"color: #008000; text-decoration-color: #008000\">'custom'</span><span style=\"color: #000000; text-decoration-color: #000000\">&gt;, </span>           <span style=\"color: #7f7f7f; text-decoration-color: #7f7f7f\">                   </span>\n",
       "<span style=\"color: #7fbfbf; text-decoration-color: #7fbfbf\">           </span>         <span style=\"color: #808000; text-decoration-color: #808000\">chunker_kwargs</span><span style=\"color: #000000; text-decoration-color: #000000\">=</span><span style=\"color: #800080; text-decoration-color: #800080; font-style: italic\">None</span><span style=\"color: #000000; text-decoration-color: #000000\">, </span>                                                       <span style=\"color: #7f7f7f; text-decoration-color: #7f7f7f\">                   </span>\n",
       "<span style=\"color: #7fbfbf; text-decoration-color: #7fbfbf\">           </span>         <span style=\"color: #808000; text-decoration-color: #808000\">custom_class</span><span style=\"color: #000000; text-decoration-color: #000000\">=</span><span style=\"color: #008000; text-decoration-color: #008000\">'ragbuilder.custom_components.CustomChunker'</span><span style=\"color: #000000; text-decoration-color: #000000; font-weight: bold\">)</span><span style=\"color: #000000; text-decoration-color: #000000\">, </span>                <span style=\"color: #7f7f7f; text-decoration-color: #7f7f7f\">                   </span>\n",
       "<span style=\"color: #7fbfbf; text-decoration-color: #7fbfbf\">           </span>         <span style=\"color: #008000; text-decoration-color: #008000\">'chunk_overlap'</span><span style=\"color: #000000; text-decoration-color: #000000\">: </span><span style=\"color: #008080; text-decoration-color: #008080; font-weight: bold\">100</span><span style=\"color: #000000; text-decoration-color: #000000\">, </span><span style=\"color: #008000; text-decoration-color: #008000\">'chunk_size'</span><span style=\"color: #000000; text-decoration-color: #000000\">: </span><span style=\"color: #008080; text-decoration-color: #008080; font-weight: bold\">2000</span><span style=\"color: #000000; text-decoration-color: #000000\">, </span><span style=\"color: #008000; text-decoration-color: #008000\">'embedding_model'</span><span style=\"color: #000000; text-decoration-color: #000000\">: </span>               <span style=\"color: #7f7f7f; text-decoration-color: #7f7f7f\">                   </span>\n",
       "<span style=\"color: #7fbfbf; text-decoration-color: #7fbfbf\">           </span>         <span style=\"color: #800080; text-decoration-color: #800080; font-weight: bold\">EmbeddingConfig</span><span style=\"color: #000000; text-decoration-color: #000000; font-weight: bold\">(</span><span style=\"color: #808000; text-decoration-color: #808000\">type</span><span style=\"color: #000000; text-decoration-color: #000000\">=&lt;EmbeddingModel.HUGGINGFACE: </span><span style=\"color: #008000; text-decoration-color: #008000\">'huggingface'</span><span style=\"color: #000000; text-decoration-color: #000000\">&gt;, </span>          <span style=\"color: #7f7f7f; text-decoration-color: #7f7f7f\">                   </span>\n",
       "<span style=\"color: #7fbfbf; text-decoration-color: #7fbfbf\">           </span>         <span style=\"color: #808000; text-decoration-color: #808000\">model_kwargs</span><span style=\"color: #000000; text-decoration-color: #000000\">=</span><span style=\"color: #000000; text-decoration-color: #000000; font-weight: bold\">{</span><span style=\"color: #008000; text-decoration-color: #008000\">'model_name'</span><span style=\"color: #000000; text-decoration-color: #000000\">: </span><span style=\"color: #008000; text-decoration-color: #008000\">'mixedbread-ai/mxbai-embed-large-v1'</span><span style=\"color: #000000; text-decoration-color: #000000; font-weight: bold\">}</span><span style=\"color: #000000; text-decoration-color: #000000\">, </span>         <span style=\"color: #7f7f7f; text-decoration-color: #7f7f7f\">                   </span>\n",
       "<span style=\"color: #7fbfbf; text-decoration-color: #7fbfbf\">           </span>         <span style=\"color: #808000; text-decoration-color: #808000\">custom_class</span><span style=\"color: #000000; text-decoration-color: #000000\">=</span><span style=\"color: #800080; text-decoration-color: #800080; font-style: italic\">None</span><span style=\"color: #000000; text-decoration-color: #000000; font-weight: bold\">)</span><span style=\"color: #000000; text-decoration-color: #000000\">, </span><span style=\"color: #008000; text-decoration-color: #008000\">'vector_database'</span><span style=\"color: #000000; text-decoration-color: #000000\">: </span>                                     <span style=\"color: #7f7f7f; text-decoration-color: #7f7f7f\">                   </span>\n",
       "<span style=\"color: #7fbfbf; text-decoration-color: #7fbfbf\">           </span>         <span style=\"color: #800080; text-decoration-color: #800080; font-weight: bold\">VectorDBConfig</span><span style=\"color: #000000; text-decoration-color: #000000; font-weight: bold\">(</span><span style=\"color: #808000; text-decoration-color: #808000\">type</span><span style=\"color: #000000; text-decoration-color: #000000\">=&lt;VectorDatabase.CHROMA: </span><span style=\"color: #008000; text-decoration-color: #008000\">'chroma'</span><span style=\"font-weight: bold\">&gt;</span>,                      <span style=\"color: #7f7f7f; text-decoration-color: #7f7f7f\">                   </span>\n",
       "<span style=\"color: #7fbfbf; text-decoration-color: #7fbfbf\">           </span>         <span style=\"color: #808000; text-decoration-color: #808000\">vectordb_kwargs</span>=<span style=\"font-weight: bold\">{</span><span style=\"color: #008000; text-decoration-color: #008000\">'persist_directory'</span>: <span style=\"color: #008000; text-decoration-color: #008000\">'chroma_sample2/24'</span>,                  <span style=\"color: #7f7f7f; text-decoration-color: #7f7f7f\">                   </span>\n",
       "<span style=\"color: #7fbfbf; text-decoration-color: #7fbfbf\">           </span>         <span style=\"color: #008000; text-decoration-color: #008000\">'collection_metadata'</span>: <span style=\"font-weight: bold\">{</span><span style=\"color: #008000; text-decoration-color: #008000\">'hnsw:space'</span>: <span style=\"color: #008000; text-decoration-color: #008000\">'cosine'</span><span style=\"font-weight: bold\">}}</span>, <span style=\"color: #808000; text-decoration-color: #808000\">custom_class</span>=<span style=\"color: #800080; text-decoration-color: #800080; font-style: italic\">None</span><span style=\"font-weight: bold\">)</span>,       <span style=\"color: #7f7f7f; text-decoration-color: #7f7f7f\">                   </span>\n",
       "<span style=\"color: #7fbfbf; text-decoration-color: #7fbfbf\">           </span>         <span style=\"color: #008000; text-decoration-color: #008000\">'sampling_rate'</span>: <span style=\"color: #800080; text-decoration-color: #800080; font-style: italic\">None</span><span style=\"font-weight: bold\">}</span>                                                      <span style=\"color: #7f7f7f; text-decoration-color: #7f7f7f\">                   </span>\n",
       "</pre>\n"
      ],
      "text/plain": [
       "\u001b[2;36m          \u001b[0m\u001b[2;36m \u001b[0m\u001b[34mINFO    \u001b[0m Trial parameters: \u001b[1m{\u001b[0m\u001b[32m'input_source'\u001b[0m: \u001b[32m'uber_10k.pdf'\u001b[0m, \u001b[32m'test_dataset'\u001b[0m:          \u001b]8;id=488805;file:///Users/aravind/KruxAI/ragbuilder/src/ragbuilder/data_ingest/optimization.py\u001b\\\u001b[2moptimization.py\u001b[0m\u001b]8;;\u001b\\\u001b[2m:\u001b[0m\u001b]8;id=121707;file:///Users/aravind/KruxAI/ragbuilder/src/ragbuilder/data_ingest/optimization.py#192\u001b\\\u001b[2m192\u001b[0m\u001b]8;;\u001b\\\n",
       "\u001b[2;36m           \u001b[0m         \u001b[32m'rag_test_data_1726600284.375674 uber10k_shortlist.csv'\u001b[0m, \u001b[32m'document_loader'\u001b[0m: \u001b[2m                   \u001b[0m\n",
       "\u001b[2;36m           \u001b[0m         \u001b[1;35mLoaderConfig\u001b[0m\u001b[1m(\u001b[0m\u001b[33mtype\u001b[0m=\u001b[1m<\u001b[0m\u001b[1;95mParserType.PYMUPDF:\u001b[0m\u001b[39m \u001b[0m\u001b[32m'pymupdf'\u001b[0m\u001b[39m>, \u001b[0m\u001b[33mloader_kwargs\u001b[0m\u001b[39m=\u001b[0m\u001b[3;35mNone\u001b[0m\u001b[39m, \u001b[0m     \u001b[2m                   \u001b[0m\n",
       "\u001b[2;36m           \u001b[0m         \u001b[33mcustom_class\u001b[0m\u001b[39m=\u001b[0m\u001b[3;35mNone\u001b[0m\u001b[1;39m)\u001b[0m\u001b[39m, \u001b[0m\u001b[32m'chunking_strategy'\u001b[0m\u001b[39m: \u001b[0m                                   \u001b[2m                   \u001b[0m\n",
       "\u001b[2;36m           \u001b[0m         \u001b[1;35mChunkingStrategyConfig\u001b[0m\u001b[1;39m(\u001b[0m\u001b[33mtype\u001b[0m\u001b[39m=<ChunkingStrategy.CUSTOM: \u001b[0m\u001b[32m'custom'\u001b[0m\u001b[39m>, \u001b[0m           \u001b[2m                   \u001b[0m\n",
       "\u001b[2;36m           \u001b[0m         \u001b[33mchunker_kwargs\u001b[0m\u001b[39m=\u001b[0m\u001b[3;35mNone\u001b[0m\u001b[39m, \u001b[0m                                                       \u001b[2m                   \u001b[0m\n",
       "\u001b[2;36m           \u001b[0m         \u001b[33mcustom_class\u001b[0m\u001b[39m=\u001b[0m\u001b[32m'ragbuilder.custom_components.CustomChunker'\u001b[0m\u001b[1;39m)\u001b[0m\u001b[39m, \u001b[0m                \u001b[2m                   \u001b[0m\n",
       "\u001b[2;36m           \u001b[0m         \u001b[32m'chunk_overlap'\u001b[0m\u001b[39m: \u001b[0m\u001b[1;36m100\u001b[0m\u001b[39m, \u001b[0m\u001b[32m'chunk_size'\u001b[0m\u001b[39m: \u001b[0m\u001b[1;36m2000\u001b[0m\u001b[39m, \u001b[0m\u001b[32m'embedding_model'\u001b[0m\u001b[39m: \u001b[0m               \u001b[2m                   \u001b[0m\n",
       "\u001b[2;36m           \u001b[0m         \u001b[1;35mEmbeddingConfig\u001b[0m\u001b[1;39m(\u001b[0m\u001b[33mtype\u001b[0m\u001b[39m=<EmbeddingModel.HUGGINGFACE: \u001b[0m\u001b[32m'huggingface'\u001b[0m\u001b[39m>, \u001b[0m          \u001b[2m                   \u001b[0m\n",
       "\u001b[2;36m           \u001b[0m         \u001b[33mmodel_kwargs\u001b[0m\u001b[39m=\u001b[0m\u001b[1;39m{\u001b[0m\u001b[32m'model_name'\u001b[0m\u001b[39m: \u001b[0m\u001b[32m'mixedbread-ai/mxbai-embed-large-v1'\u001b[0m\u001b[1;39m}\u001b[0m\u001b[39m, \u001b[0m         \u001b[2m                   \u001b[0m\n",
       "\u001b[2;36m           \u001b[0m         \u001b[33mcustom_class\u001b[0m\u001b[39m=\u001b[0m\u001b[3;35mNone\u001b[0m\u001b[1;39m)\u001b[0m\u001b[39m, \u001b[0m\u001b[32m'vector_database'\u001b[0m\u001b[39m: \u001b[0m                                     \u001b[2m                   \u001b[0m\n",
       "\u001b[2;36m           \u001b[0m         \u001b[1;35mVectorDBConfig\u001b[0m\u001b[1;39m(\u001b[0m\u001b[33mtype\u001b[0m\u001b[39m=<VectorDatabase.CHROMA: \u001b[0m\u001b[32m'chroma'\u001b[0m\u001b[1m>\u001b[0m,                      \u001b[2m                   \u001b[0m\n",
       "\u001b[2;36m           \u001b[0m         \u001b[33mvectordb_kwargs\u001b[0m=\u001b[1m{\u001b[0m\u001b[32m'persist_directory'\u001b[0m: \u001b[32m'chroma_sample2/24'\u001b[0m,                  \u001b[2m                   \u001b[0m\n",
       "\u001b[2;36m           \u001b[0m         \u001b[32m'collection_metadata'\u001b[0m: \u001b[1m{\u001b[0m\u001b[32m'hnsw:space'\u001b[0m: \u001b[32m'cosine'\u001b[0m\u001b[1m}\u001b[0m\u001b[1m}\u001b[0m, \u001b[33mcustom_class\u001b[0m=\u001b[3;35mNone\u001b[0m\u001b[1m)\u001b[0m,       \u001b[2m                   \u001b[0m\n",
       "\u001b[2;36m           \u001b[0m         \u001b[32m'sampling_rate'\u001b[0m: \u001b[3;35mNone\u001b[0m\u001b[1m}\u001b[0m                                                      \u001b[2m                   \u001b[0m\n"
      ]
     },
     "metadata": {},
     "output_type": "display_data"
    },
    {
     "data": {
      "text/html": [
       "<pre style=\"white-space:pre;overflow-x:auto;line-height:normal;font-family:Menlo,'DejaVu Sans Mono',consolas,'Courier New',monospace\"><span style=\"color: #7fbfbf; text-decoration-color: #7fbfbf\">           </span><span style=\"color: #000080; text-decoration-color: #000080\">INFO    </span> Config already evaluated with score: <span style=\"color: #008080; text-decoration-color: #008080; font-weight: bold\">0.8444499783929648</span>                      <a href=\"file:///Users/aravind/KruxAI/ragbuilder/src/ragbuilder/data_ingest/optimization.py\" target=\"_blank\"><span style=\"color: #7f7f7f; text-decoration-color: #7f7f7f\">optimization.py</span></a><span style=\"color: #7f7f7f; text-decoration-color: #7f7f7f\">:</span><a href=\"file:///Users/aravind/KruxAI/ragbuilder/src/ragbuilder/data_ingest/optimization.py#63\" target=\"_blank\"><span style=\"color: #7f7f7f; text-decoration-color: #7f7f7f\">63</span></a>\n",
       "</pre>\n"
      ],
      "text/plain": [
       "\u001b[2;36m          \u001b[0m\u001b[2;36m \u001b[0m\u001b[34mINFO    \u001b[0m Config already evaluated with score: \u001b[1;36m0.8444499783929648\u001b[0m                      \u001b]8;id=340707;file:///Users/aravind/KruxAI/ragbuilder/src/ragbuilder/data_ingest/optimization.py\u001b\\\u001b[2moptimization.py\u001b[0m\u001b]8;;\u001b\\\u001b[2m:\u001b[0m\u001b]8;id=872184;file:///Users/aravind/KruxAI/ragbuilder/src/ragbuilder/data_ingest/optimization.py#63\u001b\\\u001b[2m63\u001b[0m\u001b]8;;\u001b\\\n"
      ]
     },
     "metadata": {},
     "output_type": "display_data"
    },
    {
     "name": "stdout",
     "output_type": "stream",
     "text": [
      "[I 2024-11-12 19:07:43,581] Trial 24 finished with value: 0.8444499783929648 and parameters: {'document_loader_index': 0, 'chunking_strategy_index': 1, 'chunk_size': 2000, 'embedding_model_index': 0}. Best is trial 20 with value: 0.8444499783929648.\n"
     ]
    },
    {
     "data": {
      "text/html": [
       "<pre style=\"white-space:pre;overflow-x:auto;line-height:normal;font-family:Menlo,'DejaVu Sans Mono',consolas,'Courier New',monospace\"><span style=\"color: #005fff; text-decoration-color: #005fff; font-weight: bold\">Trial </span><span style=\"color: #005fff; text-decoration-color: #005fff; font-weight: bold\">25</span><span style=\"color: #005fff; text-decoration-color: #005fff; font-weight: bold\">/</span><span style=\"color: #005fff; text-decoration-color: #005fff; font-weight: bold\">29</span>\n",
       "</pre>\n"
      ],
      "text/plain": [
       "\u001b[1;38;5;27mTrial \u001b[0m\u001b[1;38;5;27m25\u001b[0m\u001b[1;38;5;27m/\u001b[0m\u001b[1;38;5;27m29\u001b[0m\n"
      ]
     },
     "metadata": {},
     "output_type": "display_data"
    },
    {
     "data": {
      "text/html": [
       "<pre style=\"white-space:pre;overflow-x:auto;line-height:normal;font-family:Menlo,'DejaVu Sans Mono',consolas,'Courier New',monospace\"><span style=\"color: #7fbfbf; text-decoration-color: #7fbfbf\">           </span><span style=\"color: #000080; text-decoration-color: #000080\">INFO    </span> Trial parameters: <span style=\"font-weight: bold\">{</span><span style=\"color: #008000; text-decoration-color: #008000\">'input_source'</span>: <span style=\"color: #008000; text-decoration-color: #008000\">'uber_10k.pdf'</span>, <span style=\"color: #008000; text-decoration-color: #008000\">'test_dataset'</span>:          <a href=\"file:///Users/aravind/KruxAI/ragbuilder/src/ragbuilder/data_ingest/optimization.py\" target=\"_blank\"><span style=\"color: #7f7f7f; text-decoration-color: #7f7f7f\">optimization.py</span></a><span style=\"color: #7f7f7f; text-decoration-color: #7f7f7f\">:</span><a href=\"file:///Users/aravind/KruxAI/ragbuilder/src/ragbuilder/data_ingest/optimization.py#192\" target=\"_blank\"><span style=\"color: #7f7f7f; text-decoration-color: #7f7f7f\">192</span></a>\n",
       "<span style=\"color: #7fbfbf; text-decoration-color: #7fbfbf\">           </span>         <span style=\"color: #008000; text-decoration-color: #008000\">'rag_test_data_1726600284.375674 uber10k_shortlist.csv'</span>, <span style=\"color: #008000; text-decoration-color: #008000\">'document_loader'</span>: <span style=\"color: #7f7f7f; text-decoration-color: #7f7f7f\">                   </span>\n",
       "<span style=\"color: #7fbfbf; text-decoration-color: #7fbfbf\">           </span>         <span style=\"color: #800080; text-decoration-color: #800080; font-weight: bold\">LoaderConfig</span><span style=\"font-weight: bold\">(</span><span style=\"color: #808000; text-decoration-color: #808000\">type</span>=<span style=\"font-weight: bold\">&lt;</span><span style=\"color: #ff00ff; text-decoration-color: #ff00ff; font-weight: bold\">ParserType.PYMUPDF:</span><span style=\"color: #000000; text-decoration-color: #000000\"> </span><span style=\"color: #008000; text-decoration-color: #008000\">'pymupdf'</span><span style=\"color: #000000; text-decoration-color: #000000\">&gt;, </span><span style=\"color: #808000; text-decoration-color: #808000\">loader_kwargs</span><span style=\"color: #000000; text-decoration-color: #000000\">=</span><span style=\"color: #800080; text-decoration-color: #800080; font-style: italic\">None</span><span style=\"color: #000000; text-decoration-color: #000000\">, </span>     <span style=\"color: #7f7f7f; text-decoration-color: #7f7f7f\">                   </span>\n",
       "<span style=\"color: #7fbfbf; text-decoration-color: #7fbfbf\">           </span>         <span style=\"color: #808000; text-decoration-color: #808000\">custom_class</span><span style=\"color: #000000; text-decoration-color: #000000\">=</span><span style=\"color: #800080; text-decoration-color: #800080; font-style: italic\">None</span><span style=\"color: #000000; text-decoration-color: #000000; font-weight: bold\">)</span><span style=\"color: #000000; text-decoration-color: #000000\">, </span><span style=\"color: #008000; text-decoration-color: #008000\">'chunking_strategy'</span><span style=\"color: #000000; text-decoration-color: #000000\">: </span>                                   <span style=\"color: #7f7f7f; text-decoration-color: #7f7f7f\">                   </span>\n",
       "<span style=\"color: #7fbfbf; text-decoration-color: #7fbfbf\">           </span>         <span style=\"color: #800080; text-decoration-color: #800080; font-weight: bold\">ChunkingStrategyConfig</span><span style=\"color: #000000; text-decoration-color: #000000; font-weight: bold\">(</span><span style=\"color: #808000; text-decoration-color: #808000\">type</span><span style=\"color: #000000; text-decoration-color: #000000\">=&lt;ChunkingStrategy.CUSTOM: </span><span style=\"color: #008000; text-decoration-color: #008000\">'custom'</span><span style=\"color: #000000; text-decoration-color: #000000\">&gt;, </span>           <span style=\"color: #7f7f7f; text-decoration-color: #7f7f7f\">                   </span>\n",
       "<span style=\"color: #7fbfbf; text-decoration-color: #7fbfbf\">           </span>         <span style=\"color: #808000; text-decoration-color: #808000\">chunker_kwargs</span><span style=\"color: #000000; text-decoration-color: #000000\">=</span><span style=\"color: #800080; text-decoration-color: #800080; font-style: italic\">None</span><span style=\"color: #000000; text-decoration-color: #000000\">, </span>                                                       <span style=\"color: #7f7f7f; text-decoration-color: #7f7f7f\">                   </span>\n",
       "<span style=\"color: #7fbfbf; text-decoration-color: #7fbfbf\">           </span>         <span style=\"color: #808000; text-decoration-color: #808000\">custom_class</span><span style=\"color: #000000; text-decoration-color: #000000\">=</span><span style=\"color: #008000; text-decoration-color: #008000\">'ragbuilder.custom_components.CustomChunker'</span><span style=\"color: #000000; text-decoration-color: #000000; font-weight: bold\">)</span><span style=\"color: #000000; text-decoration-color: #000000\">, </span>                <span style=\"color: #7f7f7f; text-decoration-color: #7f7f7f\">                   </span>\n",
       "<span style=\"color: #7fbfbf; text-decoration-color: #7fbfbf\">           </span>         <span style=\"color: #008000; text-decoration-color: #008000\">'chunk_overlap'</span><span style=\"color: #000000; text-decoration-color: #000000\">: </span><span style=\"color: #008080; text-decoration-color: #008080; font-weight: bold\">100</span><span style=\"color: #000000; text-decoration-color: #000000\">, </span><span style=\"color: #008000; text-decoration-color: #008000\">'chunk_size'</span><span style=\"color: #000000; text-decoration-color: #000000\">: </span><span style=\"color: #008080; text-decoration-color: #008080; font-weight: bold\">2000</span><span style=\"color: #000000; text-decoration-color: #000000\">, </span><span style=\"color: #008000; text-decoration-color: #008000\">'embedding_model'</span><span style=\"color: #000000; text-decoration-color: #000000\">: </span>               <span style=\"color: #7f7f7f; text-decoration-color: #7f7f7f\">                   </span>\n",
       "<span style=\"color: #7fbfbf; text-decoration-color: #7fbfbf\">           </span>         <span style=\"color: #800080; text-decoration-color: #800080; font-weight: bold\">EmbeddingConfig</span><span style=\"color: #000000; text-decoration-color: #000000; font-weight: bold\">(</span><span style=\"color: #808000; text-decoration-color: #808000\">type</span><span style=\"color: #000000; text-decoration-color: #000000\">=&lt;EmbeddingModel.HUGGINGFACE: </span><span style=\"color: #008000; text-decoration-color: #008000\">'huggingface'</span><span style=\"color: #000000; text-decoration-color: #000000\">&gt;, </span>          <span style=\"color: #7f7f7f; text-decoration-color: #7f7f7f\">                   </span>\n",
       "<span style=\"color: #7fbfbf; text-decoration-color: #7fbfbf\">           </span>         <span style=\"color: #808000; text-decoration-color: #808000\">model_kwargs</span><span style=\"color: #000000; text-decoration-color: #000000\">=</span><span style=\"color: #000000; text-decoration-color: #000000; font-weight: bold\">{</span><span style=\"color: #008000; text-decoration-color: #008000\">'model_name'</span><span style=\"color: #000000; text-decoration-color: #000000\">: </span><span style=\"color: #008000; text-decoration-color: #008000\">'mixedbread-ai/mxbai-embed-large-v1'</span><span style=\"color: #000000; text-decoration-color: #000000; font-weight: bold\">}</span><span style=\"color: #000000; text-decoration-color: #000000\">, </span>         <span style=\"color: #7f7f7f; text-decoration-color: #7f7f7f\">                   </span>\n",
       "<span style=\"color: #7fbfbf; text-decoration-color: #7fbfbf\">           </span>         <span style=\"color: #808000; text-decoration-color: #808000\">custom_class</span><span style=\"color: #000000; text-decoration-color: #000000\">=</span><span style=\"color: #800080; text-decoration-color: #800080; font-style: italic\">None</span><span style=\"color: #000000; text-decoration-color: #000000; font-weight: bold\">)</span><span style=\"color: #000000; text-decoration-color: #000000\">, </span><span style=\"color: #008000; text-decoration-color: #008000\">'vector_database'</span><span style=\"color: #000000; text-decoration-color: #000000\">: </span>                                     <span style=\"color: #7f7f7f; text-decoration-color: #7f7f7f\">                   </span>\n",
       "<span style=\"color: #7fbfbf; text-decoration-color: #7fbfbf\">           </span>         <span style=\"color: #800080; text-decoration-color: #800080; font-weight: bold\">VectorDBConfig</span><span style=\"color: #000000; text-decoration-color: #000000; font-weight: bold\">(</span><span style=\"color: #808000; text-decoration-color: #808000\">type</span><span style=\"color: #000000; text-decoration-color: #000000\">=&lt;VectorDatabase.CHROMA: </span><span style=\"color: #008000; text-decoration-color: #008000\">'chroma'</span><span style=\"font-weight: bold\">&gt;</span>,                      <span style=\"color: #7f7f7f; text-decoration-color: #7f7f7f\">                   </span>\n",
       "<span style=\"color: #7fbfbf; text-decoration-color: #7fbfbf\">           </span>         <span style=\"color: #808000; text-decoration-color: #808000\">vectordb_kwargs</span>=<span style=\"font-weight: bold\">{</span><span style=\"color: #008000; text-decoration-color: #008000\">'persist_directory'</span>: <span style=\"color: #008000; text-decoration-color: #008000\">'chroma_sample2/25'</span>,                  <span style=\"color: #7f7f7f; text-decoration-color: #7f7f7f\">                   </span>\n",
       "<span style=\"color: #7fbfbf; text-decoration-color: #7fbfbf\">           </span>         <span style=\"color: #008000; text-decoration-color: #008000\">'collection_metadata'</span>: <span style=\"font-weight: bold\">{</span><span style=\"color: #008000; text-decoration-color: #008000\">'hnsw:space'</span>: <span style=\"color: #008000; text-decoration-color: #008000\">'cosine'</span><span style=\"font-weight: bold\">}}</span>, <span style=\"color: #808000; text-decoration-color: #808000\">custom_class</span>=<span style=\"color: #800080; text-decoration-color: #800080; font-style: italic\">None</span><span style=\"font-weight: bold\">)</span>,       <span style=\"color: #7f7f7f; text-decoration-color: #7f7f7f\">                   </span>\n",
       "<span style=\"color: #7fbfbf; text-decoration-color: #7fbfbf\">           </span>         <span style=\"color: #008000; text-decoration-color: #008000\">'sampling_rate'</span>: <span style=\"color: #800080; text-decoration-color: #800080; font-style: italic\">None</span><span style=\"font-weight: bold\">}</span>                                                      <span style=\"color: #7f7f7f; text-decoration-color: #7f7f7f\">                   </span>\n",
       "</pre>\n"
      ],
      "text/plain": [
       "\u001b[2;36m          \u001b[0m\u001b[2;36m \u001b[0m\u001b[34mINFO    \u001b[0m Trial parameters: \u001b[1m{\u001b[0m\u001b[32m'input_source'\u001b[0m: \u001b[32m'uber_10k.pdf'\u001b[0m, \u001b[32m'test_dataset'\u001b[0m:          \u001b]8;id=738178;file:///Users/aravind/KruxAI/ragbuilder/src/ragbuilder/data_ingest/optimization.py\u001b\\\u001b[2moptimization.py\u001b[0m\u001b]8;;\u001b\\\u001b[2m:\u001b[0m\u001b]8;id=3701;file:///Users/aravind/KruxAI/ragbuilder/src/ragbuilder/data_ingest/optimization.py#192\u001b\\\u001b[2m192\u001b[0m\u001b]8;;\u001b\\\n",
       "\u001b[2;36m           \u001b[0m         \u001b[32m'rag_test_data_1726600284.375674 uber10k_shortlist.csv'\u001b[0m, \u001b[32m'document_loader'\u001b[0m: \u001b[2m                   \u001b[0m\n",
       "\u001b[2;36m           \u001b[0m         \u001b[1;35mLoaderConfig\u001b[0m\u001b[1m(\u001b[0m\u001b[33mtype\u001b[0m=\u001b[1m<\u001b[0m\u001b[1;95mParserType.PYMUPDF:\u001b[0m\u001b[39m \u001b[0m\u001b[32m'pymupdf'\u001b[0m\u001b[39m>, \u001b[0m\u001b[33mloader_kwargs\u001b[0m\u001b[39m=\u001b[0m\u001b[3;35mNone\u001b[0m\u001b[39m, \u001b[0m     \u001b[2m                   \u001b[0m\n",
       "\u001b[2;36m           \u001b[0m         \u001b[33mcustom_class\u001b[0m\u001b[39m=\u001b[0m\u001b[3;35mNone\u001b[0m\u001b[1;39m)\u001b[0m\u001b[39m, \u001b[0m\u001b[32m'chunking_strategy'\u001b[0m\u001b[39m: \u001b[0m                                   \u001b[2m                   \u001b[0m\n",
       "\u001b[2;36m           \u001b[0m         \u001b[1;35mChunkingStrategyConfig\u001b[0m\u001b[1;39m(\u001b[0m\u001b[33mtype\u001b[0m\u001b[39m=<ChunkingStrategy.CUSTOM: \u001b[0m\u001b[32m'custom'\u001b[0m\u001b[39m>, \u001b[0m           \u001b[2m                   \u001b[0m\n",
       "\u001b[2;36m           \u001b[0m         \u001b[33mchunker_kwargs\u001b[0m\u001b[39m=\u001b[0m\u001b[3;35mNone\u001b[0m\u001b[39m, \u001b[0m                                                       \u001b[2m                   \u001b[0m\n",
       "\u001b[2;36m           \u001b[0m         \u001b[33mcustom_class\u001b[0m\u001b[39m=\u001b[0m\u001b[32m'ragbuilder.custom_components.CustomChunker'\u001b[0m\u001b[1;39m)\u001b[0m\u001b[39m, \u001b[0m                \u001b[2m                   \u001b[0m\n",
       "\u001b[2;36m           \u001b[0m         \u001b[32m'chunk_overlap'\u001b[0m\u001b[39m: \u001b[0m\u001b[1;36m100\u001b[0m\u001b[39m, \u001b[0m\u001b[32m'chunk_size'\u001b[0m\u001b[39m: \u001b[0m\u001b[1;36m2000\u001b[0m\u001b[39m, \u001b[0m\u001b[32m'embedding_model'\u001b[0m\u001b[39m: \u001b[0m               \u001b[2m                   \u001b[0m\n",
       "\u001b[2;36m           \u001b[0m         \u001b[1;35mEmbeddingConfig\u001b[0m\u001b[1;39m(\u001b[0m\u001b[33mtype\u001b[0m\u001b[39m=<EmbeddingModel.HUGGINGFACE: \u001b[0m\u001b[32m'huggingface'\u001b[0m\u001b[39m>, \u001b[0m          \u001b[2m                   \u001b[0m\n",
       "\u001b[2;36m           \u001b[0m         \u001b[33mmodel_kwargs\u001b[0m\u001b[39m=\u001b[0m\u001b[1;39m{\u001b[0m\u001b[32m'model_name'\u001b[0m\u001b[39m: \u001b[0m\u001b[32m'mixedbread-ai/mxbai-embed-large-v1'\u001b[0m\u001b[1;39m}\u001b[0m\u001b[39m, \u001b[0m         \u001b[2m                   \u001b[0m\n",
       "\u001b[2;36m           \u001b[0m         \u001b[33mcustom_class\u001b[0m\u001b[39m=\u001b[0m\u001b[3;35mNone\u001b[0m\u001b[1;39m)\u001b[0m\u001b[39m, \u001b[0m\u001b[32m'vector_database'\u001b[0m\u001b[39m: \u001b[0m                                     \u001b[2m                   \u001b[0m\n",
       "\u001b[2;36m           \u001b[0m         \u001b[1;35mVectorDBConfig\u001b[0m\u001b[1;39m(\u001b[0m\u001b[33mtype\u001b[0m\u001b[39m=<VectorDatabase.CHROMA: \u001b[0m\u001b[32m'chroma'\u001b[0m\u001b[1m>\u001b[0m,                      \u001b[2m                   \u001b[0m\n",
       "\u001b[2;36m           \u001b[0m         \u001b[33mvectordb_kwargs\u001b[0m=\u001b[1m{\u001b[0m\u001b[32m'persist_directory'\u001b[0m: \u001b[32m'chroma_sample2/25'\u001b[0m,                  \u001b[2m                   \u001b[0m\n",
       "\u001b[2;36m           \u001b[0m         \u001b[32m'collection_metadata'\u001b[0m: \u001b[1m{\u001b[0m\u001b[32m'hnsw:space'\u001b[0m: \u001b[32m'cosine'\u001b[0m\u001b[1m}\u001b[0m\u001b[1m}\u001b[0m, \u001b[33mcustom_class\u001b[0m=\u001b[3;35mNone\u001b[0m\u001b[1m)\u001b[0m,       \u001b[2m                   \u001b[0m\n",
       "\u001b[2;36m           \u001b[0m         \u001b[32m'sampling_rate'\u001b[0m: \u001b[3;35mNone\u001b[0m\u001b[1m}\u001b[0m                                                      \u001b[2m                   \u001b[0m\n"
      ]
     },
     "metadata": {},
     "output_type": "display_data"
    },
    {
     "data": {
      "text/html": [
       "<pre style=\"white-space:pre;overflow-x:auto;line-height:normal;font-family:Menlo,'DejaVu Sans Mono',consolas,'Courier New',monospace\"><span style=\"color: #7fbfbf; text-decoration-color: #7fbfbf\">           </span><span style=\"color: #000080; text-decoration-color: #000080\">INFO    </span> Config already evaluated with score: <span style=\"color: #008080; text-decoration-color: #008080; font-weight: bold\">0.8444499783929648</span>                      <a href=\"file:///Users/aravind/KruxAI/ragbuilder/src/ragbuilder/data_ingest/optimization.py\" target=\"_blank\"><span style=\"color: #7f7f7f; text-decoration-color: #7f7f7f\">optimization.py</span></a><span style=\"color: #7f7f7f; text-decoration-color: #7f7f7f\">:</span><a href=\"file:///Users/aravind/KruxAI/ragbuilder/src/ragbuilder/data_ingest/optimization.py#63\" target=\"_blank\"><span style=\"color: #7f7f7f; text-decoration-color: #7f7f7f\">63</span></a>\n",
       "</pre>\n"
      ],
      "text/plain": [
       "\u001b[2;36m          \u001b[0m\u001b[2;36m \u001b[0m\u001b[34mINFO    \u001b[0m Config already evaluated with score: \u001b[1;36m0.8444499783929648\u001b[0m                      \u001b]8;id=257517;file:///Users/aravind/KruxAI/ragbuilder/src/ragbuilder/data_ingest/optimization.py\u001b\\\u001b[2moptimization.py\u001b[0m\u001b]8;;\u001b\\\u001b[2m:\u001b[0m\u001b]8;id=973024;file:///Users/aravind/KruxAI/ragbuilder/src/ragbuilder/data_ingest/optimization.py#63\u001b\\\u001b[2m63\u001b[0m\u001b]8;;\u001b\\\n"
      ]
     },
     "metadata": {},
     "output_type": "display_data"
    },
    {
     "name": "stdout",
     "output_type": "stream",
     "text": [
      "[I 2024-11-12 19:07:43,590] Trial 25 finished with value: 0.8444499783929648 and parameters: {'document_loader_index': 0, 'chunking_strategy_index': 1, 'chunk_size': 2000, 'embedding_model_index': 0}. Best is trial 20 with value: 0.8444499783929648.\n"
     ]
    },
    {
     "data": {
      "text/html": [
       "<pre style=\"white-space:pre;overflow-x:auto;line-height:normal;font-family:Menlo,'DejaVu Sans Mono',consolas,'Courier New',monospace\"><span style=\"color: #005fff; text-decoration-color: #005fff; font-weight: bold\">Trial </span><span style=\"color: #005fff; text-decoration-color: #005fff; font-weight: bold\">26</span><span style=\"color: #005fff; text-decoration-color: #005fff; font-weight: bold\">/</span><span style=\"color: #005fff; text-decoration-color: #005fff; font-weight: bold\">29</span>\n",
       "</pre>\n"
      ],
      "text/plain": [
       "\u001b[1;38;5;27mTrial \u001b[0m\u001b[1;38;5;27m26\u001b[0m\u001b[1;38;5;27m/\u001b[0m\u001b[1;38;5;27m29\u001b[0m\n"
      ]
     },
     "metadata": {},
     "output_type": "display_data"
    },
    {
     "data": {
      "text/html": [
       "<pre style=\"white-space:pre;overflow-x:auto;line-height:normal;font-family:Menlo,'DejaVu Sans Mono',consolas,'Courier New',monospace\"><span style=\"color: #7fbfbf; text-decoration-color: #7fbfbf\">           </span><span style=\"color: #000080; text-decoration-color: #000080\">INFO    </span> Trial parameters: <span style=\"font-weight: bold\">{</span><span style=\"color: #008000; text-decoration-color: #008000\">'input_source'</span>: <span style=\"color: #008000; text-decoration-color: #008000\">'uber_10k.pdf'</span>, <span style=\"color: #008000; text-decoration-color: #008000\">'test_dataset'</span>:          <a href=\"file:///Users/aravind/KruxAI/ragbuilder/src/ragbuilder/data_ingest/optimization.py\" target=\"_blank\"><span style=\"color: #7f7f7f; text-decoration-color: #7f7f7f\">optimization.py</span></a><span style=\"color: #7f7f7f; text-decoration-color: #7f7f7f\">:</span><a href=\"file:///Users/aravind/KruxAI/ragbuilder/src/ragbuilder/data_ingest/optimization.py#192\" target=\"_blank\"><span style=\"color: #7f7f7f; text-decoration-color: #7f7f7f\">192</span></a>\n",
       "<span style=\"color: #7fbfbf; text-decoration-color: #7fbfbf\">           </span>         <span style=\"color: #008000; text-decoration-color: #008000\">'rag_test_data_1726600284.375674 uber10k_shortlist.csv'</span>, <span style=\"color: #008000; text-decoration-color: #008000\">'document_loader'</span>: <span style=\"color: #7f7f7f; text-decoration-color: #7f7f7f\">                   </span>\n",
       "<span style=\"color: #7fbfbf; text-decoration-color: #7fbfbf\">           </span>         <span style=\"color: #800080; text-decoration-color: #800080; font-weight: bold\">LoaderConfig</span><span style=\"font-weight: bold\">(</span><span style=\"color: #808000; text-decoration-color: #808000\">type</span>=<span style=\"font-weight: bold\">&lt;</span><span style=\"color: #ff00ff; text-decoration-color: #ff00ff; font-weight: bold\">ParserType.PYMUPDF:</span><span style=\"color: #000000; text-decoration-color: #000000\"> </span><span style=\"color: #008000; text-decoration-color: #008000\">'pymupdf'</span><span style=\"color: #000000; text-decoration-color: #000000\">&gt;, </span><span style=\"color: #808000; text-decoration-color: #808000\">loader_kwargs</span><span style=\"color: #000000; text-decoration-color: #000000\">=</span><span style=\"color: #800080; text-decoration-color: #800080; font-style: italic\">None</span><span style=\"color: #000000; text-decoration-color: #000000\">, </span>     <span style=\"color: #7f7f7f; text-decoration-color: #7f7f7f\">                   </span>\n",
       "<span style=\"color: #7fbfbf; text-decoration-color: #7fbfbf\">           </span>         <span style=\"color: #808000; text-decoration-color: #808000\">custom_class</span><span style=\"color: #000000; text-decoration-color: #000000\">=</span><span style=\"color: #800080; text-decoration-color: #800080; font-style: italic\">None</span><span style=\"color: #000000; text-decoration-color: #000000; font-weight: bold\">)</span><span style=\"color: #000000; text-decoration-color: #000000\">, </span><span style=\"color: #008000; text-decoration-color: #008000\">'chunking_strategy'</span><span style=\"color: #000000; text-decoration-color: #000000\">: </span>                                   <span style=\"color: #7f7f7f; text-decoration-color: #7f7f7f\">                   </span>\n",
       "<span style=\"color: #7fbfbf; text-decoration-color: #7fbfbf\">           </span>         <span style=\"color: #800080; text-decoration-color: #800080; font-weight: bold\">ChunkingStrategyConfig</span><span style=\"color: #000000; text-decoration-color: #000000; font-weight: bold\">(</span><span style=\"color: #808000; text-decoration-color: #808000\">type</span><span style=\"color: #000000; text-decoration-color: #000000\">=&lt;ChunkingStrategy.CUSTOM: </span><span style=\"color: #008000; text-decoration-color: #008000\">'custom'</span><span style=\"color: #000000; text-decoration-color: #000000\">&gt;, </span>           <span style=\"color: #7f7f7f; text-decoration-color: #7f7f7f\">                   </span>\n",
       "<span style=\"color: #7fbfbf; text-decoration-color: #7fbfbf\">           </span>         <span style=\"color: #808000; text-decoration-color: #808000\">chunker_kwargs</span><span style=\"color: #000000; text-decoration-color: #000000\">=</span><span style=\"color: #800080; text-decoration-color: #800080; font-style: italic\">None</span><span style=\"color: #000000; text-decoration-color: #000000\">, </span>                                                       <span style=\"color: #7f7f7f; text-decoration-color: #7f7f7f\">                   </span>\n",
       "<span style=\"color: #7fbfbf; text-decoration-color: #7fbfbf\">           </span>         <span style=\"color: #808000; text-decoration-color: #808000\">custom_class</span><span style=\"color: #000000; text-decoration-color: #000000\">=</span><span style=\"color: #008000; text-decoration-color: #008000\">'ragbuilder.custom_components.CustomChunker'</span><span style=\"color: #000000; text-decoration-color: #000000; font-weight: bold\">)</span><span style=\"color: #000000; text-decoration-color: #000000\">, </span>                <span style=\"color: #7f7f7f; text-decoration-color: #7f7f7f\">                   </span>\n",
       "<span style=\"color: #7fbfbf; text-decoration-color: #7fbfbf\">           </span>         <span style=\"color: #008000; text-decoration-color: #008000\">'chunk_overlap'</span><span style=\"color: #000000; text-decoration-color: #000000\">: </span><span style=\"color: #008080; text-decoration-color: #008080; font-weight: bold\">100</span><span style=\"color: #000000; text-decoration-color: #000000\">, </span><span style=\"color: #008000; text-decoration-color: #008000\">'chunk_size'</span><span style=\"color: #000000; text-decoration-color: #000000\">: </span><span style=\"color: #008080; text-decoration-color: #008080; font-weight: bold\">2000</span><span style=\"color: #000000; text-decoration-color: #000000\">, </span><span style=\"color: #008000; text-decoration-color: #008000\">'embedding_model'</span><span style=\"color: #000000; text-decoration-color: #000000\">: </span>               <span style=\"color: #7f7f7f; text-decoration-color: #7f7f7f\">                   </span>\n",
       "<span style=\"color: #7fbfbf; text-decoration-color: #7fbfbf\">           </span>         <span style=\"color: #800080; text-decoration-color: #800080; font-weight: bold\">EmbeddingConfig</span><span style=\"color: #000000; text-decoration-color: #000000; font-weight: bold\">(</span><span style=\"color: #808000; text-decoration-color: #808000\">type</span><span style=\"color: #000000; text-decoration-color: #000000\">=&lt;EmbeddingModel.HUGGINGFACE: </span><span style=\"color: #008000; text-decoration-color: #008000\">'huggingface'</span><span style=\"color: #000000; text-decoration-color: #000000\">&gt;, </span>          <span style=\"color: #7f7f7f; text-decoration-color: #7f7f7f\">                   </span>\n",
       "<span style=\"color: #7fbfbf; text-decoration-color: #7fbfbf\">           </span>         <span style=\"color: #808000; text-decoration-color: #808000\">model_kwargs</span><span style=\"color: #000000; text-decoration-color: #000000\">=</span><span style=\"color: #000000; text-decoration-color: #000000; font-weight: bold\">{</span><span style=\"color: #008000; text-decoration-color: #008000\">'model_name'</span><span style=\"color: #000000; text-decoration-color: #000000\">: </span><span style=\"color: #008000; text-decoration-color: #008000\">'mixedbread-ai/mxbai-embed-large-v1'</span><span style=\"color: #000000; text-decoration-color: #000000; font-weight: bold\">}</span><span style=\"color: #000000; text-decoration-color: #000000\">, </span>         <span style=\"color: #7f7f7f; text-decoration-color: #7f7f7f\">                   </span>\n",
       "<span style=\"color: #7fbfbf; text-decoration-color: #7fbfbf\">           </span>         <span style=\"color: #808000; text-decoration-color: #808000\">custom_class</span><span style=\"color: #000000; text-decoration-color: #000000\">=</span><span style=\"color: #800080; text-decoration-color: #800080; font-style: italic\">None</span><span style=\"color: #000000; text-decoration-color: #000000; font-weight: bold\">)</span><span style=\"color: #000000; text-decoration-color: #000000\">, </span><span style=\"color: #008000; text-decoration-color: #008000\">'vector_database'</span><span style=\"color: #000000; text-decoration-color: #000000\">: </span>                                     <span style=\"color: #7f7f7f; text-decoration-color: #7f7f7f\">                   </span>\n",
       "<span style=\"color: #7fbfbf; text-decoration-color: #7fbfbf\">           </span>         <span style=\"color: #800080; text-decoration-color: #800080; font-weight: bold\">VectorDBConfig</span><span style=\"color: #000000; text-decoration-color: #000000; font-weight: bold\">(</span><span style=\"color: #808000; text-decoration-color: #808000\">type</span><span style=\"color: #000000; text-decoration-color: #000000\">=&lt;VectorDatabase.CHROMA: </span><span style=\"color: #008000; text-decoration-color: #008000\">'chroma'</span><span style=\"font-weight: bold\">&gt;</span>,                      <span style=\"color: #7f7f7f; text-decoration-color: #7f7f7f\">                   </span>\n",
       "<span style=\"color: #7fbfbf; text-decoration-color: #7fbfbf\">           </span>         <span style=\"color: #808000; text-decoration-color: #808000\">vectordb_kwargs</span>=<span style=\"font-weight: bold\">{</span><span style=\"color: #008000; text-decoration-color: #008000\">'persist_directory'</span>: <span style=\"color: #008000; text-decoration-color: #008000\">'chroma_sample2/26'</span>,                  <span style=\"color: #7f7f7f; text-decoration-color: #7f7f7f\">                   </span>\n",
       "<span style=\"color: #7fbfbf; text-decoration-color: #7fbfbf\">           </span>         <span style=\"color: #008000; text-decoration-color: #008000\">'collection_metadata'</span>: <span style=\"font-weight: bold\">{</span><span style=\"color: #008000; text-decoration-color: #008000\">'hnsw:space'</span>: <span style=\"color: #008000; text-decoration-color: #008000\">'cosine'</span><span style=\"font-weight: bold\">}}</span>, <span style=\"color: #808000; text-decoration-color: #808000\">custom_class</span>=<span style=\"color: #800080; text-decoration-color: #800080; font-style: italic\">None</span><span style=\"font-weight: bold\">)</span>,       <span style=\"color: #7f7f7f; text-decoration-color: #7f7f7f\">                   </span>\n",
       "<span style=\"color: #7fbfbf; text-decoration-color: #7fbfbf\">           </span>         <span style=\"color: #008000; text-decoration-color: #008000\">'sampling_rate'</span>: <span style=\"color: #800080; text-decoration-color: #800080; font-style: italic\">None</span><span style=\"font-weight: bold\">}</span>                                                      <span style=\"color: #7f7f7f; text-decoration-color: #7f7f7f\">                   </span>\n",
       "</pre>\n"
      ],
      "text/plain": [
       "\u001b[2;36m          \u001b[0m\u001b[2;36m \u001b[0m\u001b[34mINFO    \u001b[0m Trial parameters: \u001b[1m{\u001b[0m\u001b[32m'input_source'\u001b[0m: \u001b[32m'uber_10k.pdf'\u001b[0m, \u001b[32m'test_dataset'\u001b[0m:          \u001b]8;id=496324;file:///Users/aravind/KruxAI/ragbuilder/src/ragbuilder/data_ingest/optimization.py\u001b\\\u001b[2moptimization.py\u001b[0m\u001b]8;;\u001b\\\u001b[2m:\u001b[0m\u001b]8;id=526418;file:///Users/aravind/KruxAI/ragbuilder/src/ragbuilder/data_ingest/optimization.py#192\u001b\\\u001b[2m192\u001b[0m\u001b]8;;\u001b\\\n",
       "\u001b[2;36m           \u001b[0m         \u001b[32m'rag_test_data_1726600284.375674 uber10k_shortlist.csv'\u001b[0m, \u001b[32m'document_loader'\u001b[0m: \u001b[2m                   \u001b[0m\n",
       "\u001b[2;36m           \u001b[0m         \u001b[1;35mLoaderConfig\u001b[0m\u001b[1m(\u001b[0m\u001b[33mtype\u001b[0m=\u001b[1m<\u001b[0m\u001b[1;95mParserType.PYMUPDF:\u001b[0m\u001b[39m \u001b[0m\u001b[32m'pymupdf'\u001b[0m\u001b[39m>, \u001b[0m\u001b[33mloader_kwargs\u001b[0m\u001b[39m=\u001b[0m\u001b[3;35mNone\u001b[0m\u001b[39m, \u001b[0m     \u001b[2m                   \u001b[0m\n",
       "\u001b[2;36m           \u001b[0m         \u001b[33mcustom_class\u001b[0m\u001b[39m=\u001b[0m\u001b[3;35mNone\u001b[0m\u001b[1;39m)\u001b[0m\u001b[39m, \u001b[0m\u001b[32m'chunking_strategy'\u001b[0m\u001b[39m: \u001b[0m                                   \u001b[2m                   \u001b[0m\n",
       "\u001b[2;36m           \u001b[0m         \u001b[1;35mChunkingStrategyConfig\u001b[0m\u001b[1;39m(\u001b[0m\u001b[33mtype\u001b[0m\u001b[39m=<ChunkingStrategy.CUSTOM: \u001b[0m\u001b[32m'custom'\u001b[0m\u001b[39m>, \u001b[0m           \u001b[2m                   \u001b[0m\n",
       "\u001b[2;36m           \u001b[0m         \u001b[33mchunker_kwargs\u001b[0m\u001b[39m=\u001b[0m\u001b[3;35mNone\u001b[0m\u001b[39m, \u001b[0m                                                       \u001b[2m                   \u001b[0m\n",
       "\u001b[2;36m           \u001b[0m         \u001b[33mcustom_class\u001b[0m\u001b[39m=\u001b[0m\u001b[32m'ragbuilder.custom_components.CustomChunker'\u001b[0m\u001b[1;39m)\u001b[0m\u001b[39m, \u001b[0m                \u001b[2m                   \u001b[0m\n",
       "\u001b[2;36m           \u001b[0m         \u001b[32m'chunk_overlap'\u001b[0m\u001b[39m: \u001b[0m\u001b[1;36m100\u001b[0m\u001b[39m, \u001b[0m\u001b[32m'chunk_size'\u001b[0m\u001b[39m: \u001b[0m\u001b[1;36m2000\u001b[0m\u001b[39m, \u001b[0m\u001b[32m'embedding_model'\u001b[0m\u001b[39m: \u001b[0m               \u001b[2m                   \u001b[0m\n",
       "\u001b[2;36m           \u001b[0m         \u001b[1;35mEmbeddingConfig\u001b[0m\u001b[1;39m(\u001b[0m\u001b[33mtype\u001b[0m\u001b[39m=<EmbeddingModel.HUGGINGFACE: \u001b[0m\u001b[32m'huggingface'\u001b[0m\u001b[39m>, \u001b[0m          \u001b[2m                   \u001b[0m\n",
       "\u001b[2;36m           \u001b[0m         \u001b[33mmodel_kwargs\u001b[0m\u001b[39m=\u001b[0m\u001b[1;39m{\u001b[0m\u001b[32m'model_name'\u001b[0m\u001b[39m: \u001b[0m\u001b[32m'mixedbread-ai/mxbai-embed-large-v1'\u001b[0m\u001b[1;39m}\u001b[0m\u001b[39m, \u001b[0m         \u001b[2m                   \u001b[0m\n",
       "\u001b[2;36m           \u001b[0m         \u001b[33mcustom_class\u001b[0m\u001b[39m=\u001b[0m\u001b[3;35mNone\u001b[0m\u001b[1;39m)\u001b[0m\u001b[39m, \u001b[0m\u001b[32m'vector_database'\u001b[0m\u001b[39m: \u001b[0m                                     \u001b[2m                   \u001b[0m\n",
       "\u001b[2;36m           \u001b[0m         \u001b[1;35mVectorDBConfig\u001b[0m\u001b[1;39m(\u001b[0m\u001b[33mtype\u001b[0m\u001b[39m=<VectorDatabase.CHROMA: \u001b[0m\u001b[32m'chroma'\u001b[0m\u001b[1m>\u001b[0m,                      \u001b[2m                   \u001b[0m\n",
       "\u001b[2;36m           \u001b[0m         \u001b[33mvectordb_kwargs\u001b[0m=\u001b[1m{\u001b[0m\u001b[32m'persist_directory'\u001b[0m: \u001b[32m'chroma_sample2/26'\u001b[0m,                  \u001b[2m                   \u001b[0m\n",
       "\u001b[2;36m           \u001b[0m         \u001b[32m'collection_metadata'\u001b[0m: \u001b[1m{\u001b[0m\u001b[32m'hnsw:space'\u001b[0m: \u001b[32m'cosine'\u001b[0m\u001b[1m}\u001b[0m\u001b[1m}\u001b[0m, \u001b[33mcustom_class\u001b[0m=\u001b[3;35mNone\u001b[0m\u001b[1m)\u001b[0m,       \u001b[2m                   \u001b[0m\n",
       "\u001b[2;36m           \u001b[0m         \u001b[32m'sampling_rate'\u001b[0m: \u001b[3;35mNone\u001b[0m\u001b[1m}\u001b[0m                                                      \u001b[2m                   \u001b[0m\n"
      ]
     },
     "metadata": {},
     "output_type": "display_data"
    },
    {
     "data": {
      "text/html": [
       "<pre style=\"white-space:pre;overflow-x:auto;line-height:normal;font-family:Menlo,'DejaVu Sans Mono',consolas,'Courier New',monospace\"><span style=\"color: #7fbfbf; text-decoration-color: #7fbfbf\">           </span><span style=\"color: #000080; text-decoration-color: #000080\">INFO    </span> Config already evaluated with score: <span style=\"color: #008080; text-decoration-color: #008080; font-weight: bold\">0.8444499783929648</span>                      <a href=\"file:///Users/aravind/KruxAI/ragbuilder/src/ragbuilder/data_ingest/optimization.py\" target=\"_blank\"><span style=\"color: #7f7f7f; text-decoration-color: #7f7f7f\">optimization.py</span></a><span style=\"color: #7f7f7f; text-decoration-color: #7f7f7f\">:</span><a href=\"file:///Users/aravind/KruxAI/ragbuilder/src/ragbuilder/data_ingest/optimization.py#63\" target=\"_blank\"><span style=\"color: #7f7f7f; text-decoration-color: #7f7f7f\">63</span></a>\n",
       "</pre>\n"
      ],
      "text/plain": [
       "\u001b[2;36m          \u001b[0m\u001b[2;36m \u001b[0m\u001b[34mINFO    \u001b[0m Config already evaluated with score: \u001b[1;36m0.8444499783929648\u001b[0m                      \u001b]8;id=536889;file:///Users/aravind/KruxAI/ragbuilder/src/ragbuilder/data_ingest/optimization.py\u001b\\\u001b[2moptimization.py\u001b[0m\u001b]8;;\u001b\\\u001b[2m:\u001b[0m\u001b]8;id=825050;file:///Users/aravind/KruxAI/ragbuilder/src/ragbuilder/data_ingest/optimization.py#63\u001b\\\u001b[2m63\u001b[0m\u001b]8;;\u001b\\\n"
      ]
     },
     "metadata": {},
     "output_type": "display_data"
    },
    {
     "name": "stdout",
     "output_type": "stream",
     "text": [
      "[I 2024-11-12 19:07:43,598] Trial 26 finished with value: 0.8444499783929648 and parameters: {'document_loader_index': 0, 'chunking_strategy_index': 1, 'chunk_size': 2000, 'embedding_model_index': 0}. Best is trial 20 with value: 0.8444499783929648.\n"
     ]
    },
    {
     "data": {
      "text/html": [
       "<pre style=\"white-space:pre;overflow-x:auto;line-height:normal;font-family:Menlo,'DejaVu Sans Mono',consolas,'Courier New',monospace\"><span style=\"color: #005fff; text-decoration-color: #005fff; font-weight: bold\">Trial </span><span style=\"color: #005fff; text-decoration-color: #005fff; font-weight: bold\">27</span><span style=\"color: #005fff; text-decoration-color: #005fff; font-weight: bold\">/</span><span style=\"color: #005fff; text-decoration-color: #005fff; font-weight: bold\">29</span>\n",
       "</pre>\n"
      ],
      "text/plain": [
       "\u001b[1;38;5;27mTrial \u001b[0m\u001b[1;38;5;27m27\u001b[0m\u001b[1;38;5;27m/\u001b[0m\u001b[1;38;5;27m29\u001b[0m\n"
      ]
     },
     "metadata": {},
     "output_type": "display_data"
    },
    {
     "data": {
      "text/html": [
       "<pre style=\"white-space:pre;overflow-x:auto;line-height:normal;font-family:Menlo,'DejaVu Sans Mono',consolas,'Courier New',monospace\"><span style=\"color: #7fbfbf; text-decoration-color: #7fbfbf\">           </span><span style=\"color: #000080; text-decoration-color: #000080\">INFO    </span> Trial parameters: <span style=\"font-weight: bold\">{</span><span style=\"color: #008000; text-decoration-color: #008000\">'input_source'</span>: <span style=\"color: #008000; text-decoration-color: #008000\">'uber_10k.pdf'</span>, <span style=\"color: #008000; text-decoration-color: #008000\">'test_dataset'</span>:          <a href=\"file:///Users/aravind/KruxAI/ragbuilder/src/ragbuilder/data_ingest/optimization.py\" target=\"_blank\"><span style=\"color: #7f7f7f; text-decoration-color: #7f7f7f\">optimization.py</span></a><span style=\"color: #7f7f7f; text-decoration-color: #7f7f7f\">:</span><a href=\"file:///Users/aravind/KruxAI/ragbuilder/src/ragbuilder/data_ingest/optimization.py#192\" target=\"_blank\"><span style=\"color: #7f7f7f; text-decoration-color: #7f7f7f\">192</span></a>\n",
       "<span style=\"color: #7fbfbf; text-decoration-color: #7fbfbf\">           </span>         <span style=\"color: #008000; text-decoration-color: #008000\">'rag_test_data_1726600284.375674 uber10k_shortlist.csv'</span>, <span style=\"color: #008000; text-decoration-color: #008000\">'document_loader'</span>: <span style=\"color: #7f7f7f; text-decoration-color: #7f7f7f\">                   </span>\n",
       "<span style=\"color: #7fbfbf; text-decoration-color: #7fbfbf\">           </span>         <span style=\"color: #800080; text-decoration-color: #800080; font-weight: bold\">LoaderConfig</span><span style=\"font-weight: bold\">(</span><span style=\"color: #808000; text-decoration-color: #808000\">type</span>=<span style=\"font-weight: bold\">&lt;</span><span style=\"color: #ff00ff; text-decoration-color: #ff00ff; font-weight: bold\">ParserType.PYMUPDF:</span><span style=\"color: #000000; text-decoration-color: #000000\"> </span><span style=\"color: #008000; text-decoration-color: #008000\">'pymupdf'</span><span style=\"color: #000000; text-decoration-color: #000000\">&gt;, </span><span style=\"color: #808000; text-decoration-color: #808000\">loader_kwargs</span><span style=\"color: #000000; text-decoration-color: #000000\">=</span><span style=\"color: #800080; text-decoration-color: #800080; font-style: italic\">None</span><span style=\"color: #000000; text-decoration-color: #000000\">, </span>     <span style=\"color: #7f7f7f; text-decoration-color: #7f7f7f\">                   </span>\n",
       "<span style=\"color: #7fbfbf; text-decoration-color: #7fbfbf\">           </span>         <span style=\"color: #808000; text-decoration-color: #808000\">custom_class</span><span style=\"color: #000000; text-decoration-color: #000000\">=</span><span style=\"color: #800080; text-decoration-color: #800080; font-style: italic\">None</span><span style=\"color: #000000; text-decoration-color: #000000; font-weight: bold\">)</span><span style=\"color: #000000; text-decoration-color: #000000\">, </span><span style=\"color: #008000; text-decoration-color: #008000\">'chunking_strategy'</span><span style=\"color: #000000; text-decoration-color: #000000\">: </span>                                   <span style=\"color: #7f7f7f; text-decoration-color: #7f7f7f\">                   </span>\n",
       "<span style=\"color: #7fbfbf; text-decoration-color: #7fbfbf\">           </span>         <span style=\"color: #800080; text-decoration-color: #800080; font-weight: bold\">ChunkingStrategyConfig</span><span style=\"color: #000000; text-decoration-color: #000000; font-weight: bold\">(</span><span style=\"color: #808000; text-decoration-color: #808000\">type</span><span style=\"color: #000000; text-decoration-color: #000000\">=&lt;ChunkingStrategy.CUSTOM: </span><span style=\"color: #008000; text-decoration-color: #008000\">'custom'</span><span style=\"color: #000000; text-decoration-color: #000000\">&gt;, </span>           <span style=\"color: #7f7f7f; text-decoration-color: #7f7f7f\">                   </span>\n",
       "<span style=\"color: #7fbfbf; text-decoration-color: #7fbfbf\">           </span>         <span style=\"color: #808000; text-decoration-color: #808000\">chunker_kwargs</span><span style=\"color: #000000; text-decoration-color: #000000\">=</span><span style=\"color: #800080; text-decoration-color: #800080; font-style: italic\">None</span><span style=\"color: #000000; text-decoration-color: #000000\">, </span>                                                       <span style=\"color: #7f7f7f; text-decoration-color: #7f7f7f\">                   </span>\n",
       "<span style=\"color: #7fbfbf; text-decoration-color: #7fbfbf\">           </span>         <span style=\"color: #808000; text-decoration-color: #808000\">custom_class</span><span style=\"color: #000000; text-decoration-color: #000000\">=</span><span style=\"color: #008000; text-decoration-color: #008000\">'ragbuilder.custom_components.CustomChunker'</span><span style=\"color: #000000; text-decoration-color: #000000; font-weight: bold\">)</span><span style=\"color: #000000; text-decoration-color: #000000\">, </span>                <span style=\"color: #7f7f7f; text-decoration-color: #7f7f7f\">                   </span>\n",
       "<span style=\"color: #7fbfbf; text-decoration-color: #7fbfbf\">           </span>         <span style=\"color: #008000; text-decoration-color: #008000\">'chunk_overlap'</span><span style=\"color: #000000; text-decoration-color: #000000\">: </span><span style=\"color: #008080; text-decoration-color: #008080; font-weight: bold\">100</span><span style=\"color: #000000; text-decoration-color: #000000\">, </span><span style=\"color: #008000; text-decoration-color: #008000\">'chunk_size'</span><span style=\"color: #000000; text-decoration-color: #000000\">: </span><span style=\"color: #008080; text-decoration-color: #008080; font-weight: bold\">2000</span><span style=\"color: #000000; text-decoration-color: #000000\">, </span><span style=\"color: #008000; text-decoration-color: #008000\">'embedding_model'</span><span style=\"color: #000000; text-decoration-color: #000000\">: </span>               <span style=\"color: #7f7f7f; text-decoration-color: #7f7f7f\">                   </span>\n",
       "<span style=\"color: #7fbfbf; text-decoration-color: #7fbfbf\">           </span>         <span style=\"color: #800080; text-decoration-color: #800080; font-weight: bold\">EmbeddingConfig</span><span style=\"color: #000000; text-decoration-color: #000000; font-weight: bold\">(</span><span style=\"color: #808000; text-decoration-color: #808000\">type</span><span style=\"color: #000000; text-decoration-color: #000000\">=&lt;EmbeddingModel.HUGGINGFACE: </span><span style=\"color: #008000; text-decoration-color: #008000\">'huggingface'</span><span style=\"color: #000000; text-decoration-color: #000000\">&gt;, </span>          <span style=\"color: #7f7f7f; text-decoration-color: #7f7f7f\">                   </span>\n",
       "<span style=\"color: #7fbfbf; text-decoration-color: #7fbfbf\">           </span>         <span style=\"color: #808000; text-decoration-color: #808000\">model_kwargs</span><span style=\"color: #000000; text-decoration-color: #000000\">=</span><span style=\"color: #000000; text-decoration-color: #000000; font-weight: bold\">{</span><span style=\"color: #008000; text-decoration-color: #008000\">'model_name'</span><span style=\"color: #000000; text-decoration-color: #000000\">: </span><span style=\"color: #008000; text-decoration-color: #008000\">'mixedbread-ai/mxbai-embed-large-v1'</span><span style=\"color: #000000; text-decoration-color: #000000; font-weight: bold\">}</span><span style=\"color: #000000; text-decoration-color: #000000\">, </span>         <span style=\"color: #7f7f7f; text-decoration-color: #7f7f7f\">                   </span>\n",
       "<span style=\"color: #7fbfbf; text-decoration-color: #7fbfbf\">           </span>         <span style=\"color: #808000; text-decoration-color: #808000\">custom_class</span><span style=\"color: #000000; text-decoration-color: #000000\">=</span><span style=\"color: #800080; text-decoration-color: #800080; font-style: italic\">None</span><span style=\"color: #000000; text-decoration-color: #000000; font-weight: bold\">)</span><span style=\"color: #000000; text-decoration-color: #000000\">, </span><span style=\"color: #008000; text-decoration-color: #008000\">'vector_database'</span><span style=\"color: #000000; text-decoration-color: #000000\">: </span>                                     <span style=\"color: #7f7f7f; text-decoration-color: #7f7f7f\">                   </span>\n",
       "<span style=\"color: #7fbfbf; text-decoration-color: #7fbfbf\">           </span>         <span style=\"color: #800080; text-decoration-color: #800080; font-weight: bold\">VectorDBConfig</span><span style=\"color: #000000; text-decoration-color: #000000; font-weight: bold\">(</span><span style=\"color: #808000; text-decoration-color: #808000\">type</span><span style=\"color: #000000; text-decoration-color: #000000\">=&lt;VectorDatabase.CHROMA: </span><span style=\"color: #008000; text-decoration-color: #008000\">'chroma'</span><span style=\"font-weight: bold\">&gt;</span>,                      <span style=\"color: #7f7f7f; text-decoration-color: #7f7f7f\">                   </span>\n",
       "<span style=\"color: #7fbfbf; text-decoration-color: #7fbfbf\">           </span>         <span style=\"color: #808000; text-decoration-color: #808000\">vectordb_kwargs</span>=<span style=\"font-weight: bold\">{</span><span style=\"color: #008000; text-decoration-color: #008000\">'persist_directory'</span>: <span style=\"color: #008000; text-decoration-color: #008000\">'chroma_sample2/27'</span>,                  <span style=\"color: #7f7f7f; text-decoration-color: #7f7f7f\">                   </span>\n",
       "<span style=\"color: #7fbfbf; text-decoration-color: #7fbfbf\">           </span>         <span style=\"color: #008000; text-decoration-color: #008000\">'collection_metadata'</span>: <span style=\"font-weight: bold\">{</span><span style=\"color: #008000; text-decoration-color: #008000\">'hnsw:space'</span>: <span style=\"color: #008000; text-decoration-color: #008000\">'cosine'</span><span style=\"font-weight: bold\">}}</span>, <span style=\"color: #808000; text-decoration-color: #808000\">custom_class</span>=<span style=\"color: #800080; text-decoration-color: #800080; font-style: italic\">None</span><span style=\"font-weight: bold\">)</span>,       <span style=\"color: #7f7f7f; text-decoration-color: #7f7f7f\">                   </span>\n",
       "<span style=\"color: #7fbfbf; text-decoration-color: #7fbfbf\">           </span>         <span style=\"color: #008000; text-decoration-color: #008000\">'sampling_rate'</span>: <span style=\"color: #800080; text-decoration-color: #800080; font-style: italic\">None</span><span style=\"font-weight: bold\">}</span>                                                      <span style=\"color: #7f7f7f; text-decoration-color: #7f7f7f\">                   </span>\n",
       "</pre>\n"
      ],
      "text/plain": [
       "\u001b[2;36m          \u001b[0m\u001b[2;36m \u001b[0m\u001b[34mINFO    \u001b[0m Trial parameters: \u001b[1m{\u001b[0m\u001b[32m'input_source'\u001b[0m: \u001b[32m'uber_10k.pdf'\u001b[0m, \u001b[32m'test_dataset'\u001b[0m:          \u001b]8;id=239059;file:///Users/aravind/KruxAI/ragbuilder/src/ragbuilder/data_ingest/optimization.py\u001b\\\u001b[2moptimization.py\u001b[0m\u001b]8;;\u001b\\\u001b[2m:\u001b[0m\u001b]8;id=411846;file:///Users/aravind/KruxAI/ragbuilder/src/ragbuilder/data_ingest/optimization.py#192\u001b\\\u001b[2m192\u001b[0m\u001b]8;;\u001b\\\n",
       "\u001b[2;36m           \u001b[0m         \u001b[32m'rag_test_data_1726600284.375674 uber10k_shortlist.csv'\u001b[0m, \u001b[32m'document_loader'\u001b[0m: \u001b[2m                   \u001b[0m\n",
       "\u001b[2;36m           \u001b[0m         \u001b[1;35mLoaderConfig\u001b[0m\u001b[1m(\u001b[0m\u001b[33mtype\u001b[0m=\u001b[1m<\u001b[0m\u001b[1;95mParserType.PYMUPDF:\u001b[0m\u001b[39m \u001b[0m\u001b[32m'pymupdf'\u001b[0m\u001b[39m>, \u001b[0m\u001b[33mloader_kwargs\u001b[0m\u001b[39m=\u001b[0m\u001b[3;35mNone\u001b[0m\u001b[39m, \u001b[0m     \u001b[2m                   \u001b[0m\n",
       "\u001b[2;36m           \u001b[0m         \u001b[33mcustom_class\u001b[0m\u001b[39m=\u001b[0m\u001b[3;35mNone\u001b[0m\u001b[1;39m)\u001b[0m\u001b[39m, \u001b[0m\u001b[32m'chunking_strategy'\u001b[0m\u001b[39m: \u001b[0m                                   \u001b[2m                   \u001b[0m\n",
       "\u001b[2;36m           \u001b[0m         \u001b[1;35mChunkingStrategyConfig\u001b[0m\u001b[1;39m(\u001b[0m\u001b[33mtype\u001b[0m\u001b[39m=<ChunkingStrategy.CUSTOM: \u001b[0m\u001b[32m'custom'\u001b[0m\u001b[39m>, \u001b[0m           \u001b[2m                   \u001b[0m\n",
       "\u001b[2;36m           \u001b[0m         \u001b[33mchunker_kwargs\u001b[0m\u001b[39m=\u001b[0m\u001b[3;35mNone\u001b[0m\u001b[39m, \u001b[0m                                                       \u001b[2m                   \u001b[0m\n",
       "\u001b[2;36m           \u001b[0m         \u001b[33mcustom_class\u001b[0m\u001b[39m=\u001b[0m\u001b[32m'ragbuilder.custom_components.CustomChunker'\u001b[0m\u001b[1;39m)\u001b[0m\u001b[39m, \u001b[0m                \u001b[2m                   \u001b[0m\n",
       "\u001b[2;36m           \u001b[0m         \u001b[32m'chunk_overlap'\u001b[0m\u001b[39m: \u001b[0m\u001b[1;36m100\u001b[0m\u001b[39m, \u001b[0m\u001b[32m'chunk_size'\u001b[0m\u001b[39m: \u001b[0m\u001b[1;36m2000\u001b[0m\u001b[39m, \u001b[0m\u001b[32m'embedding_model'\u001b[0m\u001b[39m: \u001b[0m               \u001b[2m                   \u001b[0m\n",
       "\u001b[2;36m           \u001b[0m         \u001b[1;35mEmbeddingConfig\u001b[0m\u001b[1;39m(\u001b[0m\u001b[33mtype\u001b[0m\u001b[39m=<EmbeddingModel.HUGGINGFACE: \u001b[0m\u001b[32m'huggingface'\u001b[0m\u001b[39m>, \u001b[0m          \u001b[2m                   \u001b[0m\n",
       "\u001b[2;36m           \u001b[0m         \u001b[33mmodel_kwargs\u001b[0m\u001b[39m=\u001b[0m\u001b[1;39m{\u001b[0m\u001b[32m'model_name'\u001b[0m\u001b[39m: \u001b[0m\u001b[32m'mixedbread-ai/mxbai-embed-large-v1'\u001b[0m\u001b[1;39m}\u001b[0m\u001b[39m, \u001b[0m         \u001b[2m                   \u001b[0m\n",
       "\u001b[2;36m           \u001b[0m         \u001b[33mcustom_class\u001b[0m\u001b[39m=\u001b[0m\u001b[3;35mNone\u001b[0m\u001b[1;39m)\u001b[0m\u001b[39m, \u001b[0m\u001b[32m'vector_database'\u001b[0m\u001b[39m: \u001b[0m                                     \u001b[2m                   \u001b[0m\n",
       "\u001b[2;36m           \u001b[0m         \u001b[1;35mVectorDBConfig\u001b[0m\u001b[1;39m(\u001b[0m\u001b[33mtype\u001b[0m\u001b[39m=<VectorDatabase.CHROMA: \u001b[0m\u001b[32m'chroma'\u001b[0m\u001b[1m>\u001b[0m,                      \u001b[2m                   \u001b[0m\n",
       "\u001b[2;36m           \u001b[0m         \u001b[33mvectordb_kwargs\u001b[0m=\u001b[1m{\u001b[0m\u001b[32m'persist_directory'\u001b[0m: \u001b[32m'chroma_sample2/27'\u001b[0m,                  \u001b[2m                   \u001b[0m\n",
       "\u001b[2;36m           \u001b[0m         \u001b[32m'collection_metadata'\u001b[0m: \u001b[1m{\u001b[0m\u001b[32m'hnsw:space'\u001b[0m: \u001b[32m'cosine'\u001b[0m\u001b[1m}\u001b[0m\u001b[1m}\u001b[0m, \u001b[33mcustom_class\u001b[0m=\u001b[3;35mNone\u001b[0m\u001b[1m)\u001b[0m,       \u001b[2m                   \u001b[0m\n",
       "\u001b[2;36m           \u001b[0m         \u001b[32m'sampling_rate'\u001b[0m: \u001b[3;35mNone\u001b[0m\u001b[1m}\u001b[0m                                                      \u001b[2m                   \u001b[0m\n"
      ]
     },
     "metadata": {},
     "output_type": "display_data"
    },
    {
     "data": {
      "text/html": [
       "<pre style=\"white-space:pre;overflow-x:auto;line-height:normal;font-family:Menlo,'DejaVu Sans Mono',consolas,'Courier New',monospace\"><span style=\"color: #7fbfbf; text-decoration-color: #7fbfbf\">           </span><span style=\"color: #000080; text-decoration-color: #000080\">INFO    </span> Config already evaluated with score: <span style=\"color: #008080; text-decoration-color: #008080; font-weight: bold\">0.8444499783929648</span>                      <a href=\"file:///Users/aravind/KruxAI/ragbuilder/src/ragbuilder/data_ingest/optimization.py\" target=\"_blank\"><span style=\"color: #7f7f7f; text-decoration-color: #7f7f7f\">optimization.py</span></a><span style=\"color: #7f7f7f; text-decoration-color: #7f7f7f\">:</span><a href=\"file:///Users/aravind/KruxAI/ragbuilder/src/ragbuilder/data_ingest/optimization.py#63\" target=\"_blank\"><span style=\"color: #7f7f7f; text-decoration-color: #7f7f7f\">63</span></a>\n",
       "</pre>\n"
      ],
      "text/plain": [
       "\u001b[2;36m          \u001b[0m\u001b[2;36m \u001b[0m\u001b[34mINFO    \u001b[0m Config already evaluated with score: \u001b[1;36m0.8444499783929648\u001b[0m                      \u001b]8;id=347780;file:///Users/aravind/KruxAI/ragbuilder/src/ragbuilder/data_ingest/optimization.py\u001b\\\u001b[2moptimization.py\u001b[0m\u001b]8;;\u001b\\\u001b[2m:\u001b[0m\u001b]8;id=738628;file:///Users/aravind/KruxAI/ragbuilder/src/ragbuilder/data_ingest/optimization.py#63\u001b\\\u001b[2m63\u001b[0m\u001b]8;;\u001b\\\n"
      ]
     },
     "metadata": {},
     "output_type": "display_data"
    },
    {
     "name": "stdout",
     "output_type": "stream",
     "text": [
      "[I 2024-11-12 19:07:43,651] Trial 27 finished with value: 0.8444499783929648 and parameters: {'document_loader_index': 0, 'chunking_strategy_index': 1, 'chunk_size': 2000, 'embedding_model_index': 0}. Best is trial 20 with value: 0.8444499783929648.\n"
     ]
    },
    {
     "data": {
      "text/html": [
       "<pre style=\"white-space:pre;overflow-x:auto;line-height:normal;font-family:Menlo,'DejaVu Sans Mono',consolas,'Courier New',monospace\"><span style=\"color: #005fff; text-decoration-color: #005fff; font-weight: bold\">Trial </span><span style=\"color: #005fff; text-decoration-color: #005fff; font-weight: bold\">28</span><span style=\"color: #005fff; text-decoration-color: #005fff; font-weight: bold\">/</span><span style=\"color: #005fff; text-decoration-color: #005fff; font-weight: bold\">29</span>\n",
       "</pre>\n"
      ],
      "text/plain": [
       "\u001b[1;38;5;27mTrial \u001b[0m\u001b[1;38;5;27m28\u001b[0m\u001b[1;38;5;27m/\u001b[0m\u001b[1;38;5;27m29\u001b[0m\n"
      ]
     },
     "metadata": {},
     "output_type": "display_data"
    },
    {
     "data": {
      "text/html": [
       "<pre style=\"white-space:pre;overflow-x:auto;line-height:normal;font-family:Menlo,'DejaVu Sans Mono',consolas,'Courier New',monospace\"><span style=\"color: #7fbfbf; text-decoration-color: #7fbfbf\">           </span><span style=\"color: #000080; text-decoration-color: #000080\">INFO    </span> Trial parameters: <span style=\"font-weight: bold\">{</span><span style=\"color: #008000; text-decoration-color: #008000\">'input_source'</span>: <span style=\"color: #008000; text-decoration-color: #008000\">'uber_10k.pdf'</span>, <span style=\"color: #008000; text-decoration-color: #008000\">'test_dataset'</span>:          <a href=\"file:///Users/aravind/KruxAI/ragbuilder/src/ragbuilder/data_ingest/optimization.py\" target=\"_blank\"><span style=\"color: #7f7f7f; text-decoration-color: #7f7f7f\">optimization.py</span></a><span style=\"color: #7f7f7f; text-decoration-color: #7f7f7f\">:</span><a href=\"file:///Users/aravind/KruxAI/ragbuilder/src/ragbuilder/data_ingest/optimization.py#192\" target=\"_blank\"><span style=\"color: #7f7f7f; text-decoration-color: #7f7f7f\">192</span></a>\n",
       "<span style=\"color: #7fbfbf; text-decoration-color: #7fbfbf\">           </span>         <span style=\"color: #008000; text-decoration-color: #008000\">'rag_test_data_1726600284.375674 uber10k_shortlist.csv'</span>, <span style=\"color: #008000; text-decoration-color: #008000\">'document_loader'</span>: <span style=\"color: #7f7f7f; text-decoration-color: #7f7f7f\">                   </span>\n",
       "<span style=\"color: #7fbfbf; text-decoration-color: #7fbfbf\">           </span>         <span style=\"color: #800080; text-decoration-color: #800080; font-weight: bold\">LoaderConfig</span><span style=\"font-weight: bold\">(</span><span style=\"color: #808000; text-decoration-color: #808000\">type</span>=<span style=\"font-weight: bold\">&lt;</span><span style=\"color: #ff00ff; text-decoration-color: #ff00ff; font-weight: bold\">ParserType.PYMUPDF:</span><span style=\"color: #000000; text-decoration-color: #000000\"> </span><span style=\"color: #008000; text-decoration-color: #008000\">'pymupdf'</span><span style=\"color: #000000; text-decoration-color: #000000\">&gt;, </span><span style=\"color: #808000; text-decoration-color: #808000\">loader_kwargs</span><span style=\"color: #000000; text-decoration-color: #000000\">=</span><span style=\"color: #800080; text-decoration-color: #800080; font-style: italic\">None</span><span style=\"color: #000000; text-decoration-color: #000000\">, </span>     <span style=\"color: #7f7f7f; text-decoration-color: #7f7f7f\">                   </span>\n",
       "<span style=\"color: #7fbfbf; text-decoration-color: #7fbfbf\">           </span>         <span style=\"color: #808000; text-decoration-color: #808000\">custom_class</span><span style=\"color: #000000; text-decoration-color: #000000\">=</span><span style=\"color: #800080; text-decoration-color: #800080; font-style: italic\">None</span><span style=\"color: #000000; text-decoration-color: #000000; font-weight: bold\">)</span><span style=\"color: #000000; text-decoration-color: #000000\">, </span><span style=\"color: #008000; text-decoration-color: #008000\">'chunking_strategy'</span><span style=\"color: #000000; text-decoration-color: #000000\">: </span>                                   <span style=\"color: #7f7f7f; text-decoration-color: #7f7f7f\">                   </span>\n",
       "<span style=\"color: #7fbfbf; text-decoration-color: #7fbfbf\">           </span>         <span style=\"color: #800080; text-decoration-color: #800080; font-weight: bold\">ChunkingStrategyConfig</span><span style=\"color: #000000; text-decoration-color: #000000; font-weight: bold\">(</span><span style=\"color: #808000; text-decoration-color: #808000\">type</span><span style=\"color: #000000; text-decoration-color: #000000\">=&lt;ChunkingStrategy.CUSTOM: </span><span style=\"color: #008000; text-decoration-color: #008000\">'custom'</span><span style=\"color: #000000; text-decoration-color: #000000\">&gt;, </span>           <span style=\"color: #7f7f7f; text-decoration-color: #7f7f7f\">                   </span>\n",
       "<span style=\"color: #7fbfbf; text-decoration-color: #7fbfbf\">           </span>         <span style=\"color: #808000; text-decoration-color: #808000\">chunker_kwargs</span><span style=\"color: #000000; text-decoration-color: #000000\">=</span><span style=\"color: #800080; text-decoration-color: #800080; font-style: italic\">None</span><span style=\"color: #000000; text-decoration-color: #000000\">, </span>                                                       <span style=\"color: #7f7f7f; text-decoration-color: #7f7f7f\">                   </span>\n",
       "<span style=\"color: #7fbfbf; text-decoration-color: #7fbfbf\">           </span>         <span style=\"color: #808000; text-decoration-color: #808000\">custom_class</span><span style=\"color: #000000; text-decoration-color: #000000\">=</span><span style=\"color: #008000; text-decoration-color: #008000\">'ragbuilder.custom_components.CustomChunker'</span><span style=\"color: #000000; text-decoration-color: #000000; font-weight: bold\">)</span><span style=\"color: #000000; text-decoration-color: #000000\">, </span>                <span style=\"color: #7f7f7f; text-decoration-color: #7f7f7f\">                   </span>\n",
       "<span style=\"color: #7fbfbf; text-decoration-color: #7fbfbf\">           </span>         <span style=\"color: #008000; text-decoration-color: #008000\">'chunk_overlap'</span><span style=\"color: #000000; text-decoration-color: #000000\">: </span><span style=\"color: #008080; text-decoration-color: #008080; font-weight: bold\">100</span><span style=\"color: #000000; text-decoration-color: #000000\">, </span><span style=\"color: #008000; text-decoration-color: #008000\">'chunk_size'</span><span style=\"color: #000000; text-decoration-color: #000000\">: </span><span style=\"color: #008080; text-decoration-color: #008080; font-weight: bold\">2000</span><span style=\"color: #000000; text-decoration-color: #000000\">, </span><span style=\"color: #008000; text-decoration-color: #008000\">'embedding_model'</span><span style=\"color: #000000; text-decoration-color: #000000\">: </span>               <span style=\"color: #7f7f7f; text-decoration-color: #7f7f7f\">                   </span>\n",
       "<span style=\"color: #7fbfbf; text-decoration-color: #7fbfbf\">           </span>         <span style=\"color: #800080; text-decoration-color: #800080; font-weight: bold\">EmbeddingConfig</span><span style=\"color: #000000; text-decoration-color: #000000; font-weight: bold\">(</span><span style=\"color: #808000; text-decoration-color: #808000\">type</span><span style=\"color: #000000; text-decoration-color: #000000\">=&lt;EmbeddingModel.HUGGINGFACE: </span><span style=\"color: #008000; text-decoration-color: #008000\">'huggingface'</span><span style=\"color: #000000; text-decoration-color: #000000\">&gt;, </span>          <span style=\"color: #7f7f7f; text-decoration-color: #7f7f7f\">                   </span>\n",
       "<span style=\"color: #7fbfbf; text-decoration-color: #7fbfbf\">           </span>         <span style=\"color: #808000; text-decoration-color: #808000\">model_kwargs</span><span style=\"color: #000000; text-decoration-color: #000000\">=</span><span style=\"color: #000000; text-decoration-color: #000000; font-weight: bold\">{</span><span style=\"color: #008000; text-decoration-color: #008000\">'model_name'</span><span style=\"color: #000000; text-decoration-color: #000000\">: </span><span style=\"color: #008000; text-decoration-color: #008000\">'mixedbread-ai/mxbai-embed-large-v1'</span><span style=\"color: #000000; text-decoration-color: #000000; font-weight: bold\">}</span><span style=\"color: #000000; text-decoration-color: #000000\">, </span>         <span style=\"color: #7f7f7f; text-decoration-color: #7f7f7f\">                   </span>\n",
       "<span style=\"color: #7fbfbf; text-decoration-color: #7fbfbf\">           </span>         <span style=\"color: #808000; text-decoration-color: #808000\">custom_class</span><span style=\"color: #000000; text-decoration-color: #000000\">=</span><span style=\"color: #800080; text-decoration-color: #800080; font-style: italic\">None</span><span style=\"color: #000000; text-decoration-color: #000000; font-weight: bold\">)</span><span style=\"color: #000000; text-decoration-color: #000000\">, </span><span style=\"color: #008000; text-decoration-color: #008000\">'vector_database'</span><span style=\"color: #000000; text-decoration-color: #000000\">: </span>                                     <span style=\"color: #7f7f7f; text-decoration-color: #7f7f7f\">                   </span>\n",
       "<span style=\"color: #7fbfbf; text-decoration-color: #7fbfbf\">           </span>         <span style=\"color: #800080; text-decoration-color: #800080; font-weight: bold\">VectorDBConfig</span><span style=\"color: #000000; text-decoration-color: #000000; font-weight: bold\">(</span><span style=\"color: #808000; text-decoration-color: #808000\">type</span><span style=\"color: #000000; text-decoration-color: #000000\">=&lt;VectorDatabase.CHROMA: </span><span style=\"color: #008000; text-decoration-color: #008000\">'chroma'</span><span style=\"font-weight: bold\">&gt;</span>,                      <span style=\"color: #7f7f7f; text-decoration-color: #7f7f7f\">                   </span>\n",
       "<span style=\"color: #7fbfbf; text-decoration-color: #7fbfbf\">           </span>         <span style=\"color: #808000; text-decoration-color: #808000\">vectordb_kwargs</span>=<span style=\"font-weight: bold\">{</span><span style=\"color: #008000; text-decoration-color: #008000\">'persist_directory'</span>: <span style=\"color: #008000; text-decoration-color: #008000\">'chroma_sample2/28'</span>,                  <span style=\"color: #7f7f7f; text-decoration-color: #7f7f7f\">                   </span>\n",
       "<span style=\"color: #7fbfbf; text-decoration-color: #7fbfbf\">           </span>         <span style=\"color: #008000; text-decoration-color: #008000\">'collection_metadata'</span>: <span style=\"font-weight: bold\">{</span><span style=\"color: #008000; text-decoration-color: #008000\">'hnsw:space'</span>: <span style=\"color: #008000; text-decoration-color: #008000\">'cosine'</span><span style=\"font-weight: bold\">}}</span>, <span style=\"color: #808000; text-decoration-color: #808000\">custom_class</span>=<span style=\"color: #800080; text-decoration-color: #800080; font-style: italic\">None</span><span style=\"font-weight: bold\">)</span>,       <span style=\"color: #7f7f7f; text-decoration-color: #7f7f7f\">                   </span>\n",
       "<span style=\"color: #7fbfbf; text-decoration-color: #7fbfbf\">           </span>         <span style=\"color: #008000; text-decoration-color: #008000\">'sampling_rate'</span>: <span style=\"color: #800080; text-decoration-color: #800080; font-style: italic\">None</span><span style=\"font-weight: bold\">}</span>                                                      <span style=\"color: #7f7f7f; text-decoration-color: #7f7f7f\">                   </span>\n",
       "</pre>\n"
      ],
      "text/plain": [
       "\u001b[2;36m          \u001b[0m\u001b[2;36m \u001b[0m\u001b[34mINFO    \u001b[0m Trial parameters: \u001b[1m{\u001b[0m\u001b[32m'input_source'\u001b[0m: \u001b[32m'uber_10k.pdf'\u001b[0m, \u001b[32m'test_dataset'\u001b[0m:          \u001b]8;id=73451;file:///Users/aravind/KruxAI/ragbuilder/src/ragbuilder/data_ingest/optimization.py\u001b\\\u001b[2moptimization.py\u001b[0m\u001b]8;;\u001b\\\u001b[2m:\u001b[0m\u001b]8;id=746947;file:///Users/aravind/KruxAI/ragbuilder/src/ragbuilder/data_ingest/optimization.py#192\u001b\\\u001b[2m192\u001b[0m\u001b]8;;\u001b\\\n",
       "\u001b[2;36m           \u001b[0m         \u001b[32m'rag_test_data_1726600284.375674 uber10k_shortlist.csv'\u001b[0m, \u001b[32m'document_loader'\u001b[0m: \u001b[2m                   \u001b[0m\n",
       "\u001b[2;36m           \u001b[0m         \u001b[1;35mLoaderConfig\u001b[0m\u001b[1m(\u001b[0m\u001b[33mtype\u001b[0m=\u001b[1m<\u001b[0m\u001b[1;95mParserType.PYMUPDF:\u001b[0m\u001b[39m \u001b[0m\u001b[32m'pymupdf'\u001b[0m\u001b[39m>, \u001b[0m\u001b[33mloader_kwargs\u001b[0m\u001b[39m=\u001b[0m\u001b[3;35mNone\u001b[0m\u001b[39m, \u001b[0m     \u001b[2m                   \u001b[0m\n",
       "\u001b[2;36m           \u001b[0m         \u001b[33mcustom_class\u001b[0m\u001b[39m=\u001b[0m\u001b[3;35mNone\u001b[0m\u001b[1;39m)\u001b[0m\u001b[39m, \u001b[0m\u001b[32m'chunking_strategy'\u001b[0m\u001b[39m: \u001b[0m                                   \u001b[2m                   \u001b[0m\n",
       "\u001b[2;36m           \u001b[0m         \u001b[1;35mChunkingStrategyConfig\u001b[0m\u001b[1;39m(\u001b[0m\u001b[33mtype\u001b[0m\u001b[39m=<ChunkingStrategy.CUSTOM: \u001b[0m\u001b[32m'custom'\u001b[0m\u001b[39m>, \u001b[0m           \u001b[2m                   \u001b[0m\n",
       "\u001b[2;36m           \u001b[0m         \u001b[33mchunker_kwargs\u001b[0m\u001b[39m=\u001b[0m\u001b[3;35mNone\u001b[0m\u001b[39m, \u001b[0m                                                       \u001b[2m                   \u001b[0m\n",
       "\u001b[2;36m           \u001b[0m         \u001b[33mcustom_class\u001b[0m\u001b[39m=\u001b[0m\u001b[32m'ragbuilder.custom_components.CustomChunker'\u001b[0m\u001b[1;39m)\u001b[0m\u001b[39m, \u001b[0m                \u001b[2m                   \u001b[0m\n",
       "\u001b[2;36m           \u001b[0m         \u001b[32m'chunk_overlap'\u001b[0m\u001b[39m: \u001b[0m\u001b[1;36m100\u001b[0m\u001b[39m, \u001b[0m\u001b[32m'chunk_size'\u001b[0m\u001b[39m: \u001b[0m\u001b[1;36m2000\u001b[0m\u001b[39m, \u001b[0m\u001b[32m'embedding_model'\u001b[0m\u001b[39m: \u001b[0m               \u001b[2m                   \u001b[0m\n",
       "\u001b[2;36m           \u001b[0m         \u001b[1;35mEmbeddingConfig\u001b[0m\u001b[1;39m(\u001b[0m\u001b[33mtype\u001b[0m\u001b[39m=<EmbeddingModel.HUGGINGFACE: \u001b[0m\u001b[32m'huggingface'\u001b[0m\u001b[39m>, \u001b[0m          \u001b[2m                   \u001b[0m\n",
       "\u001b[2;36m           \u001b[0m         \u001b[33mmodel_kwargs\u001b[0m\u001b[39m=\u001b[0m\u001b[1;39m{\u001b[0m\u001b[32m'model_name'\u001b[0m\u001b[39m: \u001b[0m\u001b[32m'mixedbread-ai/mxbai-embed-large-v1'\u001b[0m\u001b[1;39m}\u001b[0m\u001b[39m, \u001b[0m         \u001b[2m                   \u001b[0m\n",
       "\u001b[2;36m           \u001b[0m         \u001b[33mcustom_class\u001b[0m\u001b[39m=\u001b[0m\u001b[3;35mNone\u001b[0m\u001b[1;39m)\u001b[0m\u001b[39m, \u001b[0m\u001b[32m'vector_database'\u001b[0m\u001b[39m: \u001b[0m                                     \u001b[2m                   \u001b[0m\n",
       "\u001b[2;36m           \u001b[0m         \u001b[1;35mVectorDBConfig\u001b[0m\u001b[1;39m(\u001b[0m\u001b[33mtype\u001b[0m\u001b[39m=<VectorDatabase.CHROMA: \u001b[0m\u001b[32m'chroma'\u001b[0m\u001b[1m>\u001b[0m,                      \u001b[2m                   \u001b[0m\n",
       "\u001b[2;36m           \u001b[0m         \u001b[33mvectordb_kwargs\u001b[0m=\u001b[1m{\u001b[0m\u001b[32m'persist_directory'\u001b[0m: \u001b[32m'chroma_sample2/28'\u001b[0m,                  \u001b[2m                   \u001b[0m\n",
       "\u001b[2;36m           \u001b[0m         \u001b[32m'collection_metadata'\u001b[0m: \u001b[1m{\u001b[0m\u001b[32m'hnsw:space'\u001b[0m: \u001b[32m'cosine'\u001b[0m\u001b[1m}\u001b[0m\u001b[1m}\u001b[0m, \u001b[33mcustom_class\u001b[0m=\u001b[3;35mNone\u001b[0m\u001b[1m)\u001b[0m,       \u001b[2m                   \u001b[0m\n",
       "\u001b[2;36m           \u001b[0m         \u001b[32m'sampling_rate'\u001b[0m: \u001b[3;35mNone\u001b[0m\u001b[1m}\u001b[0m                                                      \u001b[2m                   \u001b[0m\n"
      ]
     },
     "metadata": {},
     "output_type": "display_data"
    },
    {
     "data": {
      "text/html": [
       "<pre style=\"white-space:pre;overflow-x:auto;line-height:normal;font-family:Menlo,'DejaVu Sans Mono',consolas,'Courier New',monospace\"><span style=\"color: #7fbfbf; text-decoration-color: #7fbfbf\">           </span><span style=\"color: #000080; text-decoration-color: #000080\">INFO    </span> Config already evaluated with score: <span style=\"color: #008080; text-decoration-color: #008080; font-weight: bold\">0.8444499783929648</span>                      <a href=\"file:///Users/aravind/KruxAI/ragbuilder/src/ragbuilder/data_ingest/optimization.py\" target=\"_blank\"><span style=\"color: #7f7f7f; text-decoration-color: #7f7f7f\">optimization.py</span></a><span style=\"color: #7f7f7f; text-decoration-color: #7f7f7f\">:</span><a href=\"file:///Users/aravind/KruxAI/ragbuilder/src/ragbuilder/data_ingest/optimization.py#63\" target=\"_blank\"><span style=\"color: #7f7f7f; text-decoration-color: #7f7f7f\">63</span></a>\n",
       "</pre>\n"
      ],
      "text/plain": [
       "\u001b[2;36m          \u001b[0m\u001b[2;36m \u001b[0m\u001b[34mINFO    \u001b[0m Config already evaluated with score: \u001b[1;36m0.8444499783929648\u001b[0m                      \u001b]8;id=220586;file:///Users/aravind/KruxAI/ragbuilder/src/ragbuilder/data_ingest/optimization.py\u001b\\\u001b[2moptimization.py\u001b[0m\u001b]8;;\u001b\\\u001b[2m:\u001b[0m\u001b]8;id=234495;file:///Users/aravind/KruxAI/ragbuilder/src/ragbuilder/data_ingest/optimization.py#63\u001b\\\u001b[2m63\u001b[0m\u001b]8;;\u001b\\\n"
      ]
     },
     "metadata": {},
     "output_type": "display_data"
    },
    {
     "name": "stdout",
     "output_type": "stream",
     "text": [
      "[I 2024-11-12 19:07:43,693] Trial 28 finished with value: 0.8444499783929648 and parameters: {'document_loader_index': 0, 'chunking_strategy_index': 1, 'chunk_size': 2000, 'embedding_model_index': 0}. Best is trial 20 with value: 0.8444499783929648.\n"
     ]
    },
    {
     "data": {
      "text/html": [
       "<pre style=\"white-space:pre;overflow-x:auto;line-height:normal;font-family:Menlo,'DejaVu Sans Mono',consolas,'Courier New',monospace\"><span style=\"color: #005fff; text-decoration-color: #005fff; font-weight: bold\">Trial </span><span style=\"color: #005fff; text-decoration-color: #005fff; font-weight: bold\">29</span><span style=\"color: #005fff; text-decoration-color: #005fff; font-weight: bold\">/</span><span style=\"color: #005fff; text-decoration-color: #005fff; font-weight: bold\">29</span>\n",
       "</pre>\n"
      ],
      "text/plain": [
       "\u001b[1;38;5;27mTrial \u001b[0m\u001b[1;38;5;27m29\u001b[0m\u001b[1;38;5;27m/\u001b[0m\u001b[1;38;5;27m29\u001b[0m\n"
      ]
     },
     "metadata": {},
     "output_type": "display_data"
    },
    {
     "data": {
      "text/html": [
       "<pre style=\"white-space:pre;overflow-x:auto;line-height:normal;font-family:Menlo,'DejaVu Sans Mono',consolas,'Courier New',monospace\"><span style=\"color: #7fbfbf; text-decoration-color: #7fbfbf\">           </span><span style=\"color: #000080; text-decoration-color: #000080\">INFO    </span> Trial parameters: <span style=\"font-weight: bold\">{</span><span style=\"color: #008000; text-decoration-color: #008000\">'input_source'</span>: <span style=\"color: #008000; text-decoration-color: #008000\">'uber_10k.pdf'</span>, <span style=\"color: #008000; text-decoration-color: #008000\">'test_dataset'</span>:          <a href=\"file:///Users/aravind/KruxAI/ragbuilder/src/ragbuilder/data_ingest/optimization.py\" target=\"_blank\"><span style=\"color: #7f7f7f; text-decoration-color: #7f7f7f\">optimization.py</span></a><span style=\"color: #7f7f7f; text-decoration-color: #7f7f7f\">:</span><a href=\"file:///Users/aravind/KruxAI/ragbuilder/src/ragbuilder/data_ingest/optimization.py#192\" target=\"_blank\"><span style=\"color: #7f7f7f; text-decoration-color: #7f7f7f\">192</span></a>\n",
       "<span style=\"color: #7fbfbf; text-decoration-color: #7fbfbf\">           </span>         <span style=\"color: #008000; text-decoration-color: #008000\">'rag_test_data_1726600284.375674 uber10k_shortlist.csv'</span>, <span style=\"color: #008000; text-decoration-color: #008000\">'document_loader'</span>: <span style=\"color: #7f7f7f; text-decoration-color: #7f7f7f\">                   </span>\n",
       "<span style=\"color: #7fbfbf; text-decoration-color: #7fbfbf\">           </span>         <span style=\"color: #800080; text-decoration-color: #800080; font-weight: bold\">LoaderConfig</span><span style=\"font-weight: bold\">(</span><span style=\"color: #808000; text-decoration-color: #808000\">type</span>=<span style=\"font-weight: bold\">&lt;</span><span style=\"color: #ff00ff; text-decoration-color: #ff00ff; font-weight: bold\">ParserType.PYMUPDF:</span><span style=\"color: #000000; text-decoration-color: #000000\"> </span><span style=\"color: #008000; text-decoration-color: #008000\">'pymupdf'</span><span style=\"color: #000000; text-decoration-color: #000000\">&gt;, </span><span style=\"color: #808000; text-decoration-color: #808000\">loader_kwargs</span><span style=\"color: #000000; text-decoration-color: #000000\">=</span><span style=\"color: #800080; text-decoration-color: #800080; font-style: italic\">None</span><span style=\"color: #000000; text-decoration-color: #000000\">, </span>     <span style=\"color: #7f7f7f; text-decoration-color: #7f7f7f\">                   </span>\n",
       "<span style=\"color: #7fbfbf; text-decoration-color: #7fbfbf\">           </span>         <span style=\"color: #808000; text-decoration-color: #808000\">custom_class</span><span style=\"color: #000000; text-decoration-color: #000000\">=</span><span style=\"color: #800080; text-decoration-color: #800080; font-style: italic\">None</span><span style=\"color: #000000; text-decoration-color: #000000; font-weight: bold\">)</span><span style=\"color: #000000; text-decoration-color: #000000\">, </span><span style=\"color: #008000; text-decoration-color: #008000\">'chunking_strategy'</span><span style=\"color: #000000; text-decoration-color: #000000\">: </span>                                   <span style=\"color: #7f7f7f; text-decoration-color: #7f7f7f\">                   </span>\n",
       "<span style=\"color: #7fbfbf; text-decoration-color: #7fbfbf\">           </span>         <span style=\"color: #800080; text-decoration-color: #800080; font-weight: bold\">ChunkingStrategyConfig</span><span style=\"color: #000000; text-decoration-color: #000000; font-weight: bold\">(</span><span style=\"color: #808000; text-decoration-color: #808000\">type</span><span style=\"color: #000000; text-decoration-color: #000000\">=&lt;ChunkingStrategy.RECURSIVE: </span>                   <span style=\"color: #7f7f7f; text-decoration-color: #7f7f7f\">                   </span>\n",
       "<span style=\"color: #7fbfbf; text-decoration-color: #7fbfbf\">           </span>         <span style=\"color: #008000; text-decoration-color: #008000\">'RecursiveCharacterTextSplitter'</span><span style=\"color: #000000; text-decoration-color: #000000\">&gt;, </span><span style=\"color: #808000; text-decoration-color: #808000\">chunker_kwargs</span><span style=\"color: #000000; text-decoration-color: #000000\">=</span><span style=\"color: #000000; text-decoration-color: #000000; font-weight: bold\">{</span><span style=\"color: #008000; text-decoration-color: #008000\">'separators'</span><span style=\"color: #000000; text-decoration-color: #000000\">: </span><span style=\"color: #000000; text-decoration-color: #000000; font-weight: bold\">[</span><span style=\"color: #008000; text-decoration-color: #008000\">'\\n\\n'</span><span style=\"color: #000000; text-decoration-color: #000000\">, </span>  <span style=\"color: #7f7f7f; text-decoration-color: #7f7f7f\">                   </span>\n",
       "<span style=\"color: #7fbfbf; text-decoration-color: #7fbfbf\">           </span>         <span style=\"color: #008000; text-decoration-color: #008000\">'\\n'</span><span style=\"color: #000000; text-decoration-color: #000000\">, </span><span style=\"color: #008000; text-decoration-color: #008000\">' '</span><span style=\"color: #000000; text-decoration-color: #000000\">, </span><span style=\"color: #008000; text-decoration-color: #008000\">''</span><span style=\"color: #000000; text-decoration-color: #000000; font-weight: bold\">]}</span><span style=\"color: #000000; text-decoration-color: #000000\">, </span><span style=\"color: #808000; text-decoration-color: #808000\">custom_class</span><span style=\"color: #000000; text-decoration-color: #000000\">=</span><span style=\"color: #800080; text-decoration-color: #800080; font-style: italic\">None</span><span style=\"color: #000000; text-decoration-color: #000000; font-weight: bold\">)</span><span style=\"color: #000000; text-decoration-color: #000000\">, </span><span style=\"color: #008000; text-decoration-color: #008000\">'chunk_overlap'</span><span style=\"color: #000000; text-decoration-color: #000000\">: </span><span style=\"color: #008080; text-decoration-color: #008080; font-weight: bold\">100</span><span style=\"color: #000000; text-decoration-color: #000000\">, </span><span style=\"color: #008000; text-decoration-color: #008000\">'chunk_size'</span><span style=\"color: #000000; text-decoration-color: #000000\">: </span>   <span style=\"color: #7f7f7f; text-decoration-color: #7f7f7f\">                   </span>\n",
       "<span style=\"color: #7fbfbf; text-decoration-color: #7fbfbf\">           </span>         <span style=\"color: #008080; text-decoration-color: #008080; font-weight: bold\">2000</span><span style=\"color: #000000; text-decoration-color: #000000\">, </span><span style=\"color: #008000; text-decoration-color: #008000\">'embedding_model'</span><span style=\"color: #000000; text-decoration-color: #000000\">: </span><span style=\"color: #800080; text-decoration-color: #800080; font-weight: bold\">EmbeddingConfig</span><span style=\"color: #000000; text-decoration-color: #000000; font-weight: bold\">(</span><span style=\"color: #808000; text-decoration-color: #808000\">type</span><span style=\"color: #000000; text-decoration-color: #000000\">=&lt;EmbeddingModel.HUGGINGFACE: </span> <span style=\"color: #7f7f7f; text-decoration-color: #7f7f7f\">                   </span>\n",
       "<span style=\"color: #7fbfbf; text-decoration-color: #7fbfbf\">           </span>         <span style=\"color: #008000; text-decoration-color: #008000\">'huggingface'</span><span style=\"color: #000000; text-decoration-color: #000000\">&gt;, </span><span style=\"color: #808000; text-decoration-color: #808000\">model_kwargs</span><span style=\"color: #000000; text-decoration-color: #000000\">=</span><span style=\"color: #000000; text-decoration-color: #000000; font-weight: bold\">{</span><span style=\"color: #008000; text-decoration-color: #008000\">'model_name'</span><span style=\"color: #000000; text-decoration-color: #000000\">: </span>                                <span style=\"color: #7f7f7f; text-decoration-color: #7f7f7f\">                   </span>\n",
       "<span style=\"color: #7fbfbf; text-decoration-color: #7fbfbf\">           </span>         <span style=\"color: #008000; text-decoration-color: #008000\">'mixedbread-ai/mxbai-embed-large-v1'</span><span style=\"color: #000000; text-decoration-color: #000000; font-weight: bold\">}</span><span style=\"color: #000000; text-decoration-color: #000000\">, </span><span style=\"color: #808000; text-decoration-color: #808000\">custom_class</span><span style=\"color: #000000; text-decoration-color: #000000\">=</span><span style=\"color: #800080; text-decoration-color: #800080; font-style: italic\">None</span><span style=\"color: #000000; text-decoration-color: #000000; font-weight: bold\">)</span><span style=\"color: #000000; text-decoration-color: #000000\">, </span>                 <span style=\"color: #7f7f7f; text-decoration-color: #7f7f7f\">                   </span>\n",
       "<span style=\"color: #7fbfbf; text-decoration-color: #7fbfbf\">           </span>         <span style=\"color: #008000; text-decoration-color: #008000\">'vector_database'</span><span style=\"color: #000000; text-decoration-color: #000000\">: </span><span style=\"color: #800080; text-decoration-color: #800080; font-weight: bold\">VectorDBConfig</span><span style=\"color: #000000; text-decoration-color: #000000; font-weight: bold\">(</span><span style=\"color: #808000; text-decoration-color: #808000\">type</span><span style=\"color: #000000; text-decoration-color: #000000\">=&lt;VectorDatabase.CHROMA: </span><span style=\"color: #008000; text-decoration-color: #008000\">'chroma'</span><span style=\"font-weight: bold\">&gt;</span>,   <span style=\"color: #7f7f7f; text-decoration-color: #7f7f7f\">                   </span>\n",
       "<span style=\"color: #7fbfbf; text-decoration-color: #7fbfbf\">           </span>         <span style=\"color: #808000; text-decoration-color: #808000\">vectordb_kwargs</span>=<span style=\"font-weight: bold\">{</span><span style=\"color: #008000; text-decoration-color: #008000\">'persist_directory'</span>: <span style=\"color: #008000; text-decoration-color: #008000\">'chroma_sample2/29'</span>,                  <span style=\"color: #7f7f7f; text-decoration-color: #7f7f7f\">                   </span>\n",
       "<span style=\"color: #7fbfbf; text-decoration-color: #7fbfbf\">           </span>         <span style=\"color: #008000; text-decoration-color: #008000\">'collection_metadata'</span>: <span style=\"font-weight: bold\">{</span><span style=\"color: #008000; text-decoration-color: #008000\">'hnsw:space'</span>: <span style=\"color: #008000; text-decoration-color: #008000\">'cosine'</span><span style=\"font-weight: bold\">}}</span>, <span style=\"color: #808000; text-decoration-color: #808000\">custom_class</span>=<span style=\"color: #800080; text-decoration-color: #800080; font-style: italic\">None</span><span style=\"font-weight: bold\">)</span>,       <span style=\"color: #7f7f7f; text-decoration-color: #7f7f7f\">                   </span>\n",
       "<span style=\"color: #7fbfbf; text-decoration-color: #7fbfbf\">           </span>         <span style=\"color: #008000; text-decoration-color: #008000\">'sampling_rate'</span>: <span style=\"color: #800080; text-decoration-color: #800080; font-style: italic\">None</span><span style=\"font-weight: bold\">}</span>                                                      <span style=\"color: #7f7f7f; text-decoration-color: #7f7f7f\">                   </span>\n",
       "</pre>\n"
      ],
      "text/plain": [
       "\u001b[2;36m          \u001b[0m\u001b[2;36m \u001b[0m\u001b[34mINFO    \u001b[0m Trial parameters: \u001b[1m{\u001b[0m\u001b[32m'input_source'\u001b[0m: \u001b[32m'uber_10k.pdf'\u001b[0m, \u001b[32m'test_dataset'\u001b[0m:          \u001b]8;id=245298;file:///Users/aravind/KruxAI/ragbuilder/src/ragbuilder/data_ingest/optimization.py\u001b\\\u001b[2moptimization.py\u001b[0m\u001b]8;;\u001b\\\u001b[2m:\u001b[0m\u001b]8;id=124987;file:///Users/aravind/KruxAI/ragbuilder/src/ragbuilder/data_ingest/optimization.py#192\u001b\\\u001b[2m192\u001b[0m\u001b]8;;\u001b\\\n",
       "\u001b[2;36m           \u001b[0m         \u001b[32m'rag_test_data_1726600284.375674 uber10k_shortlist.csv'\u001b[0m, \u001b[32m'document_loader'\u001b[0m: \u001b[2m                   \u001b[0m\n",
       "\u001b[2;36m           \u001b[0m         \u001b[1;35mLoaderConfig\u001b[0m\u001b[1m(\u001b[0m\u001b[33mtype\u001b[0m=\u001b[1m<\u001b[0m\u001b[1;95mParserType.PYMUPDF:\u001b[0m\u001b[39m \u001b[0m\u001b[32m'pymupdf'\u001b[0m\u001b[39m>, \u001b[0m\u001b[33mloader_kwargs\u001b[0m\u001b[39m=\u001b[0m\u001b[3;35mNone\u001b[0m\u001b[39m, \u001b[0m     \u001b[2m                   \u001b[0m\n",
       "\u001b[2;36m           \u001b[0m         \u001b[33mcustom_class\u001b[0m\u001b[39m=\u001b[0m\u001b[3;35mNone\u001b[0m\u001b[1;39m)\u001b[0m\u001b[39m, \u001b[0m\u001b[32m'chunking_strategy'\u001b[0m\u001b[39m: \u001b[0m                                   \u001b[2m                   \u001b[0m\n",
       "\u001b[2;36m           \u001b[0m         \u001b[1;35mChunkingStrategyConfig\u001b[0m\u001b[1;39m(\u001b[0m\u001b[33mtype\u001b[0m\u001b[39m=<ChunkingStrategy.RECURSIVE: \u001b[0m                   \u001b[2m                   \u001b[0m\n",
       "\u001b[2;36m           \u001b[0m         \u001b[32m'RecursiveCharacterTextSplitter'\u001b[0m\u001b[39m>, \u001b[0m\u001b[33mchunker_kwargs\u001b[0m\u001b[39m=\u001b[0m\u001b[1;39m{\u001b[0m\u001b[32m'separators'\u001b[0m\u001b[39m: \u001b[0m\u001b[1;39m[\u001b[0m\u001b[32m'\\n\\n'\u001b[0m\u001b[39m, \u001b[0m  \u001b[2m                   \u001b[0m\n",
       "\u001b[2;36m           \u001b[0m         \u001b[32m'\\n'\u001b[0m\u001b[39m, \u001b[0m\u001b[32m' '\u001b[0m\u001b[39m, \u001b[0m\u001b[32m''\u001b[0m\u001b[1;39m]\u001b[0m\u001b[1;39m}\u001b[0m\u001b[39m, \u001b[0m\u001b[33mcustom_class\u001b[0m\u001b[39m=\u001b[0m\u001b[3;35mNone\u001b[0m\u001b[1;39m)\u001b[0m\u001b[39m, \u001b[0m\u001b[32m'chunk_overlap'\u001b[0m\u001b[39m: \u001b[0m\u001b[1;36m100\u001b[0m\u001b[39m, \u001b[0m\u001b[32m'chunk_size'\u001b[0m\u001b[39m: \u001b[0m   \u001b[2m                   \u001b[0m\n",
       "\u001b[2;36m           \u001b[0m         \u001b[1;36m2000\u001b[0m\u001b[39m, \u001b[0m\u001b[32m'embedding_model'\u001b[0m\u001b[39m: \u001b[0m\u001b[1;35mEmbeddingConfig\u001b[0m\u001b[1;39m(\u001b[0m\u001b[33mtype\u001b[0m\u001b[39m=<EmbeddingModel.HUGGINGFACE: \u001b[0m \u001b[2m                   \u001b[0m\n",
       "\u001b[2;36m           \u001b[0m         \u001b[32m'huggingface'\u001b[0m\u001b[39m>, \u001b[0m\u001b[33mmodel_kwargs\u001b[0m\u001b[39m=\u001b[0m\u001b[1;39m{\u001b[0m\u001b[32m'model_name'\u001b[0m\u001b[39m: \u001b[0m                                \u001b[2m                   \u001b[0m\n",
       "\u001b[2;36m           \u001b[0m         \u001b[32m'mixedbread-ai/mxbai-embed-large-v1'\u001b[0m\u001b[1;39m}\u001b[0m\u001b[39m, \u001b[0m\u001b[33mcustom_class\u001b[0m\u001b[39m=\u001b[0m\u001b[3;35mNone\u001b[0m\u001b[1;39m)\u001b[0m\u001b[39m, \u001b[0m                 \u001b[2m                   \u001b[0m\n",
       "\u001b[2;36m           \u001b[0m         \u001b[32m'vector_database'\u001b[0m\u001b[39m: \u001b[0m\u001b[1;35mVectorDBConfig\u001b[0m\u001b[1;39m(\u001b[0m\u001b[33mtype\u001b[0m\u001b[39m=<VectorDatabase.CHROMA: \u001b[0m\u001b[32m'chroma'\u001b[0m\u001b[1m>\u001b[0m,   \u001b[2m                   \u001b[0m\n",
       "\u001b[2;36m           \u001b[0m         \u001b[33mvectordb_kwargs\u001b[0m=\u001b[1m{\u001b[0m\u001b[32m'persist_directory'\u001b[0m: \u001b[32m'chroma_sample2/29'\u001b[0m,                  \u001b[2m                   \u001b[0m\n",
       "\u001b[2;36m           \u001b[0m         \u001b[32m'collection_metadata'\u001b[0m: \u001b[1m{\u001b[0m\u001b[32m'hnsw:space'\u001b[0m: \u001b[32m'cosine'\u001b[0m\u001b[1m}\u001b[0m\u001b[1m}\u001b[0m, \u001b[33mcustom_class\u001b[0m=\u001b[3;35mNone\u001b[0m\u001b[1m)\u001b[0m,       \u001b[2m                   \u001b[0m\n",
       "\u001b[2;36m           \u001b[0m         \u001b[32m'sampling_rate'\u001b[0m: \u001b[3;35mNone\u001b[0m\u001b[1m}\u001b[0m                                                      \u001b[2m                   \u001b[0m\n"
      ]
     },
     "metadata": {},
     "output_type": "display_data"
    },
    {
     "data": {
      "text/html": [
       "<pre style=\"white-space:pre;overflow-x:auto;line-height:normal;font-family:Menlo,'DejaVu Sans Mono',consolas,'Courier New',monospace\"><span style=\"color: #7fbfbf; text-decoration-color: #7fbfbf\">           </span><span style=\"color: #000080; text-decoration-color: #000080\">INFO    </span> Load pretrained SentenceTransformer:                                 <a href=\"file:///opt/anaconda3/envs/ragbuilder/lib/python3.12/site-packages/sentence_transformers/SentenceTransformer.py\" target=\"_blank\"><span style=\"color: #7f7f7f; text-decoration-color: #7f7f7f\">SentenceTransformer.py</span></a><span style=\"color: #7f7f7f; text-decoration-color: #7f7f7f\">:</span><a href=\"file:///opt/anaconda3/envs/ragbuilder/lib/python3.12/site-packages/sentence_transformers/SentenceTransformer.py#113\" target=\"_blank\"><span style=\"color: #7f7f7f; text-decoration-color: #7f7f7f\">113</span></a>\n",
       "<span style=\"color: #7fbfbf; text-decoration-color: #7fbfbf\">           </span>         mixedbread-ai/mxbai-embed-large-v1                                   <span style=\"color: #7f7f7f; text-decoration-color: #7f7f7f\">                          </span>\n",
       "</pre>\n"
      ],
      "text/plain": [
       "\u001b[2;36m          \u001b[0m\u001b[2;36m \u001b[0m\u001b[34mINFO    \u001b[0m Load pretrained SentenceTransformer:                                 \u001b]8;id=281656;file:///opt/anaconda3/envs/ragbuilder/lib/python3.12/site-packages/sentence_transformers/SentenceTransformer.py\u001b\\\u001b[2mSentenceTransformer.py\u001b[0m\u001b]8;;\u001b\\\u001b[2m:\u001b[0m\u001b]8;id=820157;file:///opt/anaconda3/envs/ragbuilder/lib/python3.12/site-packages/sentence_transformers/SentenceTransformer.py#113\u001b\\\u001b[2m113\u001b[0m\u001b]8;;\u001b\\\n",
       "\u001b[2;36m           \u001b[0m         mixedbread-ai/mxbai-embed-large-v1                                   \u001b[2m                          \u001b[0m\n"
      ]
     },
     "metadata": {},
     "output_type": "display_data"
    },
    {
     "data": {
      "text/html": [
       "<pre style=\"white-space:pre;overflow-x:auto;line-height:normal;font-family:Menlo,'DejaVu Sans Mono',consolas,'Courier New',monospace\"><span style=\"color: #7fbfbf; text-decoration-color: #7fbfbf\">[19:07:47] </span><span style=\"color: #000080; text-decoration-color: #000080\">INFO    </span> Use pytorch device_name: mps                                         <a href=\"file:///opt/anaconda3/envs/ragbuilder/lib/python3.12/site-packages/sentence_transformers/SentenceTransformer.py\" target=\"_blank\"><span style=\"color: #7f7f7f; text-decoration-color: #7f7f7f\">SentenceTransformer.py</span></a><span style=\"color: #7f7f7f; text-decoration-color: #7f7f7f\">:</span><a href=\"file:///opt/anaconda3/envs/ragbuilder/lib/python3.12/site-packages/sentence_transformers/SentenceTransformer.py#219\" target=\"_blank\"><span style=\"color: #7f7f7f; text-decoration-color: #7f7f7f\">219</span></a>\n",
       "</pre>\n"
      ],
      "text/plain": [
       "\u001b[2;36m[19:07:47]\u001b[0m\u001b[2;36m \u001b[0m\u001b[34mINFO    \u001b[0m Use pytorch device_name: mps                                         \u001b]8;id=712386;file:///opt/anaconda3/envs/ragbuilder/lib/python3.12/site-packages/sentence_transformers/SentenceTransformer.py\u001b\\\u001b[2mSentenceTransformer.py\u001b[0m\u001b]8;;\u001b\\\u001b[2m:\u001b[0m\u001b]8;id=298472;file:///opt/anaconda3/envs/ragbuilder/lib/python3.12/site-packages/sentence_transformers/SentenceTransformer.py#219\u001b\\\u001b[2m219\u001b[0m\u001b]8;;\u001b\\\n"
      ]
     },
     "metadata": {},
     "output_type": "display_data"
    },
    {
     "data": {
      "text/html": [
       "<pre style=\"white-space:pre;overflow-x:auto;line-height:normal;font-family:Menlo,'DejaVu Sans Mono',consolas,'Courier New',monospace\"><span style=\"color: #7fbfbf; text-decoration-color: #7fbfbf\">           </span><span style=\"color: #000080; text-decoration-color: #000080\">INFO    </span> <span style=\"color: #008080; text-decoration-color: #008080; font-weight: bold\">2</span> prompts are loaded, with the keys: <span style=\"font-weight: bold\">[</span><span style=\"color: #008000; text-decoration-color: #008000\">'query'</span>, <span style=\"color: #008000; text-decoration-color: #008000\">'passage'</span><span style=\"font-weight: bold\">]</span>            <a href=\"file:///opt/anaconda3/envs/ragbuilder/lib/python3.12/site-packages/sentence_transformers/SentenceTransformer.py\" target=\"_blank\"><span style=\"color: #7f7f7f; text-decoration-color: #7f7f7f\">SentenceTransformer.py</span></a><span style=\"color: #7f7f7f; text-decoration-color: #7f7f7f\">:</span><a href=\"file:///opt/anaconda3/envs/ragbuilder/lib/python3.12/site-packages/sentence_transformers/SentenceTransformer.py#231\" target=\"_blank\"><span style=\"color: #7f7f7f; text-decoration-color: #7f7f7f\">231</span></a>\n",
       "</pre>\n"
      ],
      "text/plain": [
       "\u001b[2;36m          \u001b[0m\u001b[2;36m \u001b[0m\u001b[34mINFO    \u001b[0m \u001b[1;36m2\u001b[0m prompts are loaded, with the keys: \u001b[1m[\u001b[0m\u001b[32m'query'\u001b[0m, \u001b[32m'passage'\u001b[0m\u001b[1m]\u001b[0m            \u001b]8;id=945991;file:///opt/anaconda3/envs/ragbuilder/lib/python3.12/site-packages/sentence_transformers/SentenceTransformer.py\u001b\\\u001b[2mSentenceTransformer.py\u001b[0m\u001b]8;;\u001b\\\u001b[2m:\u001b[0m\u001b]8;id=469396;file:///opt/anaconda3/envs/ragbuilder/lib/python3.12/site-packages/sentence_transformers/SentenceTransformer.py#231\u001b\\\u001b[2m231\u001b[0m\u001b]8;;\u001b\\\n"
      ]
     },
     "metadata": {},
     "output_type": "display_data"
    },
    {
     "data": {
      "application/vnd.jupyter.widget-view+json": {
       "model_id": "3b8d0029103b465bafd9fdb5ee8ec1e7",
       "version_major": 2,
       "version_minor": 0
      },
      "text/plain": [
       "Output()"
      ]
     },
     "metadata": {},
     "output_type": "display_data"
    },
    {
     "data": {
      "text/html": [
       "<pre style=\"white-space:pre;overflow-x:auto;line-height:normal;font-family:Menlo,'DejaVu Sans Mono',consolas,'Courier New',monospace\"><span style=\"color: #008000; text-decoration-color: #008000\">✓ Pipeline execution complete!</span>\n",
       "</pre>\n"
      ],
      "text/plain": [
       "\u001b[32m✓ Pipeline execution complete!\u001b[0m\n"
      ]
     },
     "metadata": {},
     "output_type": "display_data"
    },
    {
     "data": {
      "text/html": [
       "<pre style=\"white-space:pre;overflow-x:auto;line-height:normal;font-family:Menlo,'DejaVu Sans Mono',consolas,'Courier New',monospace\"></pre>\n"
      ],
      "text/plain": []
     },
     "metadata": {},
     "output_type": "display_data"
    },
    {
     "data": {
      "text/html": [
       "<pre style=\"white-space:pre;overflow-x:auto;line-height:normal;font-family:Menlo,'DejaVu Sans Mono',consolas,'Courier New',monospace\"><span style=\"color: #008000; text-decoration-color: #008000\">Trial Score:</span> <span style=\"color: #00ffff; text-decoration-color: #00ffff; font-weight: bold\">0.8400</span>\n",
       "</pre>\n"
      ],
      "text/plain": [
       "\u001b[32mTrial Score:\u001b[0m \u001b[1;96m0.8400\u001b[0m\n"
      ]
     },
     "metadata": {},
     "output_type": "display_data"
    },
    {
     "name": "stdout",
     "output_type": "stream",
     "text": [
      "[I 2024-11-12 19:08:50,115] Trial 29 finished with value: 0.8400242849001808 and parameters: {'document_loader_index': 0, 'chunking_strategy_index': 0, 'chunk_size': 2000, 'embedding_model_index': 0}. Best is trial 20 with value: 0.8444499783929648.\n"
     ]
    },
    {
     "data": {
      "text/html": [
       "<pre style=\"white-space:pre;overflow-x:auto;line-height:normal;font-family:Menlo,'DejaVu Sans Mono',consolas,'Courier New',monospace\"><span style=\"color: #005fff; text-decoration-color: #005fff; font-weight: bold\">Optimization Complete!</span>\n",
       "</pre>\n"
      ],
      "text/plain": [
       "\u001b[1;38;5;27mOptimization Complete!\u001b[0m\n"
      ]
     },
     "metadata": {},
     "output_type": "display_data"
    },
    {
     "data": {
      "text/html": [
       "<pre style=\"white-space:pre;overflow-x:auto;line-height:normal;font-family:Menlo,'DejaVu Sans Mono',consolas,'Courier New',monospace\"><span style=\"color: #008000; text-decoration-color: #008000\">Best Score:</span> <span style=\"color: #00ffff; text-decoration-color: #00ffff; font-weight: bold\">0.8444</span>\n",
       "</pre>\n"
      ],
      "text/plain": [
       "\u001b[32mBest Score:\u001b[0m \u001b[1;96m0.8444\u001b[0m\n"
      ]
     },
     "metadata": {},
     "output_type": "display_data"
    },
    {
     "data": {
      "text/html": [
       "<pre style=\"white-space:pre;overflow-x:auto;line-height:normal;font-family:Menlo,'DejaVu Sans Mono',consolas,'Courier New',monospace\"><span style=\"color: #008000; text-decoration-color: #008000\">Best Parameters:</span>\n",
       "</pre>\n"
      ],
      "text/plain": [
       "\u001b[32mBest Parameters:\u001b[0m\n"
      ]
     },
     "metadata": {},
     "output_type": "display_data"
    },
    {
     "data": {
      "text/html": [
       "<pre style=\"white-space:pre;overflow-x:auto;line-height:normal;font-family:Menlo,'DejaVu Sans Mono',consolas,'Courier New',monospace\"><span style=\"color: #00ffff; text-decoration-color: #00ffff; font-weight: bold\">{</span>\n",
       "<span style=\"color: #00ffff; text-decoration-color: #00ffff\">    </span><span style=\"color: #008000; text-decoration-color: #008000\">'document_loader'</span><span style=\"color: #00ffff; text-decoration-color: #00ffff\">: </span><span style=\"color: #00ffff; text-decoration-color: #00ffff; font-weight: bold\">&lt;</span><span style=\"color: #ff00ff; text-decoration-color: #ff00ff; font-weight: bold\">ParserType.PYMUPDF:</span><span style=\"color: #000000; text-decoration-color: #000000\"> </span><span style=\"color: #008000; text-decoration-color: #008000\">'pymupdf'</span><span style=\"color: #000000; text-decoration-color: #000000\">&gt;,</span>\n",
       "<span style=\"color: #000000; text-decoration-color: #000000\">    </span><span style=\"color: #008000; text-decoration-color: #008000\">'chunking_strategy'</span><span style=\"color: #000000; text-decoration-color: #000000\">: &lt;ChunkingStrategy.CUSTOM: </span><span style=\"color: #008000; text-decoration-color: #008000\">'custom'</span><span style=\"color: #000000; text-decoration-color: #000000\">&gt;,</span>\n",
       "<span style=\"color: #000000; text-decoration-color: #000000\">    </span><span style=\"color: #008000; text-decoration-color: #008000\">'chunk_size'</span><span style=\"color: #000000; text-decoration-color: #000000\">: </span><span style=\"color: #008080; text-decoration-color: #008080; font-weight: bold\">2000</span><span style=\"color: #000000; text-decoration-color: #000000\">,</span>\n",
       "<span style=\"color: #000000; text-decoration-color: #000000\">    </span><span style=\"color: #008000; text-decoration-color: #008000\">'embedding_model'</span><span style=\"color: #000000; text-decoration-color: #000000\">: &lt;EmbeddingModel.HUGGINGFACE: </span><span style=\"color: #008000; text-decoration-color: #008000\">'huggingface'</span><span style=\"color: #00ffff; text-decoration-color: #00ffff; font-weight: bold\">&gt;</span>\n",
       "<span style=\"color: #00ffff; text-decoration-color: #00ffff; font-weight: bold\">}</span>\n",
       "</pre>\n"
      ],
      "text/plain": [
       "\u001b[1;96m{\u001b[0m\n",
       "\u001b[96m    \u001b[0m\u001b[32m'document_loader'\u001b[0m\u001b[96m: \u001b[0m\u001b[1;96m<\u001b[0m\u001b[1;95mParserType.PYMUPDF:\u001b[0m\u001b[39m \u001b[0m\u001b[32m'pymupdf'\u001b[0m\u001b[39m>,\u001b[0m\n",
       "\u001b[39m    \u001b[0m\u001b[32m'chunking_strategy'\u001b[0m\u001b[39m: <ChunkingStrategy.CUSTOM: \u001b[0m\u001b[32m'custom'\u001b[0m\u001b[39m>,\u001b[0m\n",
       "\u001b[39m    \u001b[0m\u001b[32m'chunk_size'\u001b[0m\u001b[39m: \u001b[0m\u001b[1;36m2000\u001b[0m\u001b[39m,\u001b[0m\n",
       "\u001b[39m    \u001b[0m\u001b[32m'embedding_model'\u001b[0m\u001b[39m: <EmbeddingModel.HUGGINGFACE: \u001b[0m\u001b[32m'huggingface'\u001b[0m\u001b[1;96m>\u001b[0m\n",
       "\u001b[1;96m}\u001b[0m\n"
      ]
     },
     "metadata": {},
     "output_type": "display_data"
    },
    {
     "data": {
      "text/html": [
       "<pre style=\"white-space:pre;overflow-x:auto;line-height:normal;font-family:Menlo,'DejaVu Sans Mono',consolas,'Courier New',monospace\"><span style=\"color: #7fbfbf; text-decoration-color: #7fbfbf\">[19:08:50] </span><span style=\"color: #000080; text-decoration-color: #000080\">INFO    </span> Load pretrained SentenceTransformer:                                 <a href=\"file:///opt/anaconda3/envs/ragbuilder/lib/python3.12/site-packages/sentence_transformers/SentenceTransformer.py\" target=\"_blank\"><span style=\"color: #7f7f7f; text-decoration-color: #7f7f7f\">SentenceTransformer.py</span></a><span style=\"color: #7f7f7f; text-decoration-color: #7f7f7f\">:</span><a href=\"file:///opt/anaconda3/envs/ragbuilder/lib/python3.12/site-packages/sentence_transformers/SentenceTransformer.py#113\" target=\"_blank\"><span style=\"color: #7f7f7f; text-decoration-color: #7f7f7f\">113</span></a>\n",
       "<span style=\"color: #7fbfbf; text-decoration-color: #7fbfbf\">           </span>         mixedbread-ai/mxbai-embed-large-v1                                   <span style=\"color: #7f7f7f; text-decoration-color: #7f7f7f\">                          </span>\n",
       "</pre>\n"
      ],
      "text/plain": [
       "\u001b[2;36m[19:08:50]\u001b[0m\u001b[2;36m \u001b[0m\u001b[34mINFO    \u001b[0m Load pretrained SentenceTransformer:                                 \u001b]8;id=787470;file:///opt/anaconda3/envs/ragbuilder/lib/python3.12/site-packages/sentence_transformers/SentenceTransformer.py\u001b\\\u001b[2mSentenceTransformer.py\u001b[0m\u001b]8;;\u001b\\\u001b[2m:\u001b[0m\u001b]8;id=169245;file:///opt/anaconda3/envs/ragbuilder/lib/python3.12/site-packages/sentence_transformers/SentenceTransformer.py#113\u001b\\\u001b[2m113\u001b[0m\u001b]8;;\u001b\\\n",
       "\u001b[2;36m           \u001b[0m         mixedbread-ai/mxbai-embed-large-v1                                   \u001b[2m                          \u001b[0m\n"
      ]
     },
     "metadata": {},
     "output_type": "display_data"
    },
    {
     "data": {
      "text/html": [
       "<pre style=\"white-space:pre;overflow-x:auto;line-height:normal;font-family:Menlo,'DejaVu Sans Mono',consolas,'Courier New',monospace\"><span style=\"color: #7fbfbf; text-decoration-color: #7fbfbf\">[19:08:53] </span><span style=\"color: #000080; text-decoration-color: #000080\">INFO    </span> Use pytorch device_name: mps                                         <a href=\"file:///opt/anaconda3/envs/ragbuilder/lib/python3.12/site-packages/sentence_transformers/SentenceTransformer.py\" target=\"_blank\"><span style=\"color: #7f7f7f; text-decoration-color: #7f7f7f\">SentenceTransformer.py</span></a><span style=\"color: #7f7f7f; text-decoration-color: #7f7f7f\">:</span><a href=\"file:///opt/anaconda3/envs/ragbuilder/lib/python3.12/site-packages/sentence_transformers/SentenceTransformer.py#219\" target=\"_blank\"><span style=\"color: #7f7f7f; text-decoration-color: #7f7f7f\">219</span></a>\n",
       "</pre>\n"
      ],
      "text/plain": [
       "\u001b[2;36m[19:08:53]\u001b[0m\u001b[2;36m \u001b[0m\u001b[34mINFO    \u001b[0m Use pytorch device_name: mps                                         \u001b]8;id=147003;file:///opt/anaconda3/envs/ragbuilder/lib/python3.12/site-packages/sentence_transformers/SentenceTransformer.py\u001b\\\u001b[2mSentenceTransformer.py\u001b[0m\u001b]8;;\u001b\\\u001b[2m:\u001b[0m\u001b]8;id=922593;file:///opt/anaconda3/envs/ragbuilder/lib/python3.12/site-packages/sentence_transformers/SentenceTransformer.py#219\u001b\\\u001b[2m219\u001b[0m\u001b]8;;\u001b\\\n"
      ]
     },
     "metadata": {},
     "output_type": "display_data"
    },
    {
     "data": {
      "text/html": [
       "<pre style=\"white-space:pre;overflow-x:auto;line-height:normal;font-family:Menlo,'DejaVu Sans Mono',consolas,'Courier New',monospace\"><span style=\"color: #7fbfbf; text-decoration-color: #7fbfbf\">[19:08:54] </span><span style=\"color: #000080; text-decoration-color: #000080\">INFO    </span> <span style=\"color: #008080; text-decoration-color: #008080; font-weight: bold\">2</span> prompts are loaded, with the keys: <span style=\"font-weight: bold\">[</span><span style=\"color: #008000; text-decoration-color: #008000\">'query'</span>, <span style=\"color: #008000; text-decoration-color: #008000\">'passage'</span><span style=\"font-weight: bold\">]</span>            <a href=\"file:///opt/anaconda3/envs/ragbuilder/lib/python3.12/site-packages/sentence_transformers/SentenceTransformer.py\" target=\"_blank\"><span style=\"color: #7f7f7f; text-decoration-color: #7f7f7f\">SentenceTransformer.py</span></a><span style=\"color: #7f7f7f; text-decoration-color: #7f7f7f\">:</span><a href=\"file:///opt/anaconda3/envs/ragbuilder/lib/python3.12/site-packages/sentence_transformers/SentenceTransformer.py#231\" target=\"_blank\"><span style=\"color: #7f7f7f; text-decoration-color: #7f7f7f\">231</span></a>\n",
       "</pre>\n"
      ],
      "text/plain": [
       "\u001b[2;36m[19:08:54]\u001b[0m\u001b[2;36m \u001b[0m\u001b[34mINFO    \u001b[0m \u001b[1;36m2\u001b[0m prompts are loaded, with the keys: \u001b[1m[\u001b[0m\u001b[32m'query'\u001b[0m, \u001b[32m'passage'\u001b[0m\u001b[1m]\u001b[0m            \u001b]8;id=95967;file:///opt/anaconda3/envs/ragbuilder/lib/python3.12/site-packages/sentence_transformers/SentenceTransformer.py\u001b\\\u001b[2mSentenceTransformer.py\u001b[0m\u001b]8;;\u001b\\\u001b[2m:\u001b[0m\u001b]8;id=607086;file:///opt/anaconda3/envs/ragbuilder/lib/python3.12/site-packages/sentence_transformers/SentenceTransformer.py#231\u001b\\\u001b[2m231\u001b[0m\u001b]8;;\u001b\\\n"
      ]
     },
     "metadata": {},
     "output_type": "display_data"
    },
    {
     "data": {
      "application/vnd.jupyter.widget-view+json": {
       "model_id": "9d43d5a9b7c7401d9c5e8f0f17c257b2",
       "version_major": 2,
       "version_minor": 0
      },
      "text/plain": [
       "Output()"
      ]
     },
     "metadata": {},
     "output_type": "display_data"
    },
    {
     "data": {
      "text/html": [
       "<pre style=\"white-space:pre;overflow-x:auto;line-height:normal;font-family:Menlo,'DejaVu Sans Mono',consolas,'Courier New',monospace\"><span style=\"color: #008000; text-decoration-color: #008000\">✓ Pipeline execution complete!</span>\n",
       "</pre>\n"
      ],
      "text/plain": [
       "\u001b[32m✓ Pipeline execution complete!\u001b[0m\n"
      ]
     },
     "metadata": {},
     "output_type": "display_data"
    },
    {
     "data": {
      "text/html": [
       "<pre style=\"white-space:pre;overflow-x:auto;line-height:normal;font-family:Menlo,'DejaVu Sans Mono',consolas,'Courier New',monospace\"></pre>\n"
      ],
      "text/plain": []
     },
     "metadata": {},
     "output_type": "display_data"
    }
   ],
   "source": [
    "best_config, best_score, best_indexer = data_ingest.run_optimization_from_dict(options_config)"
   ]
  },
  {
   "cell_type": "code",
   "execution_count": null,
   "metadata": {},
   "outputs": [],
   "source": []
  },
  {
   "cell_type": "code",
   "execution_count": null,
   "metadata": {},
   "outputs": [],
   "source": []
  },
  {
   "cell_type": "code",
   "execution_count": null,
   "metadata": {},
   "outputs": [],
   "source": []
  },
  {
   "cell_type": "code",
   "execution_count": 6,
   "metadata": {},
   "outputs": [
    {
     "data": {
      "text/plain": [
       "[(Document(metadata={'source': 'uber_10k.pdf'}, page_content=\"We entered into a commercial agreement with Aurora pursuant to which the parties will collaborate with best efforts to launch and commercialize self-driving vehicles on our ridesharing network. We also allowed unvested RSUs for Uber stock held by employees of the ATG Business that transferred to Aurora to continue to vest over the next 12 months contingent upon the employee remaining at Aurora. As a result, we recognized liabilities of $315 million as consideration for these future obligations to Aurora.\\n\\nThe sale of the ATG Business did not represent a strategic shift that would have had a major effect on our operations and financial results, and therefore does not qualify for reporting as a discontinued operation. The resulting gain on disposal was recorded in other income (expense), net in the consolidated statements of operations.\\n\\nThe following table presents the gain on sale of the ATG Business (in millions):\\n\\nYear Ended December 31, 2021\\n\\nFair value of common shares received Derecognition of ATG Business' non-controlling interests Liability recognized for future obligations\\n\\n$\\n\\n1,277 1,057 (315)\\n\\nNet consideration received for sale of the ATG Business\\n\\nCarrying value of net assets transferred\\n\\nGain on the sale of the ATG Business\\n\\n$\\n\\n2,019 (375) 1,644\\n\\nNote 19 – Restructuring and Related Charges\\n\\nDuring the second quarter of 2020, we initiated and completed certain restructuring activities in order to reduce our overall cost structure in response to the economic challenges and uncertainty resulting from the COVID-19 pandemic and its impact on our business. We also exited the JUMP business and incurred costs related to site closures, asset impairments and write-offs.\\n\\nThe following table presents the total restructuring and related charges associated with our segments as well as corporate charges (in millions):\\n\\n138\\n\\nYear Ended December 31, 2020\\n\\nMobility Delivery\\n\\n$\\n\\n67 32\\n\\nFreight All Other\\n\\n(1)\\n\\nTotal restructuring and related charges by segment\"),\n",
       "  0.816929672932209),\n",
       " (Document(metadata={'source': 'uber_10k.pdf'}, page_content='The JUMP Divestiture did not represent a strategic shift that would cause a major effect on our operations and financial results, and therefore does not qualify for reporting as a discontinued operation for financial reporting purposes. The resulting loss on disposal was not material to us and was recorded in other income (expense), net, in the consolidated statements of operations during the second quarter of 2020.\\n\\nDivestiture of ATG Business to Aurora\\n\\nOn January 19, 2021, we completed the previously announced sale of our ATG Business, a subsidiary focused on the development and commercialization of autonomous vehicle technology, to Aurora. As a result, our controlling interest and the non-controlling interests in the ATG Business were settled, and ownership of the ATG Business transferred to Aurora.\\n\\nAs consideration for the sale, Aurora issued Series U-1 preferred shares to the third party investors of the ATG Business to settle their ATG Series A Stated Liquidation Preference of $1.1 billion, which had previously been recorded as redeemable and non-redeemable non-controlling interests on our consolidated balance sheet prior to this transaction. We received the residual consideration from the sale as the only common unit holder of the ATG Business in the form of Aurora common shares valued at $1.3 billion, representing 22% of fully-diluted (25% undiluted) ownership interest of Aurora. Concurrently, we invested $400 million in Aurora in exchange for Aurora Series U-2 convertible preferred shares, representing 4% of fully-diluted (5% undiluted) ownership interest of Aurora. Refer to Note 3 – Investments and Fair Value Measurement for additional information.\\n\\nWe do not consolidate Aurora under either the VIE or the voting interest model. For further information, refer to Note 15 – Variable Interest Entities.'),\n",
       "  0.7380010008274713),\n",
       " (Document(metadata={'source': 'uber_10k.pdf'}, page_content='In January 2021, we sold our ATG Business to Aurora. Our ATG Business was included in the ATG and Other Technology Programs segment prior to this transaction. As a result of the sale, ATG and Other Technology Programs segment was no longer a reportable segment. Beginning in the first quarter of 2021, results of ATG and Other Technology Programs are included within All Other. Refer to Note 18 – Divestitures for further information regarding the sale of our ATG Business.\\n\\nAs of December 31, 2022, our three operating and reportable segments are as follows:\\n\\nSegment\\n\\nDescription\\n\\nMobility\\n\\nMobility products connect consumers with Drivers who provide rides in a variety of vehicles, such as cars, auto rickshaws, motorbikes, minibuses, or taxis. Mobility also includes activity related to our financial partnerships products and advertising.\\n\\nDelivery\\n\\nDelivery offerings allow consumers to search for and discover local restaurants, order a meal, and either pick-up at the restaurant or have the meal delivered. In certain markets, Delivery also includes offerings for grocery, alcohol and convenience store delivery as well as select other goods.\\n\\nFreight\\n\\nFreight connects Carriers with Shipper’s shipments available on our platform, and gives Carriers upfront, transparent pricing and the ability to book a shipment. Freight also includes transportation management and other logistics services offerings.\\n\\nFor information about how our reportable segments derive revenue, as well as revenue grouped by offerings and geographical region refer to Note 2 –\\n\\nRevenue.\\n\\n119\\n\\n2022\\n\\n30,458 18,250 98,167 20,039 2,606 — 3,878 73 173,471'),\n",
       "  0.715137779712677),\n",
       " (Document(metadata={'source': 'uber_10k.pdf'}, page_content='126\\n\\nAurora\\n\\nIn January 2021, we sold our ATG Business to Aurora. After the sale, we held equity interests in Aurora through our Aurora Investments. As of December 31, 2021, our Aurora Investments had a fair value of $3.4 billion within investments on the consolidated balance sheet. Refer Note 3 – Investments and Fair Value Measurement for additional information regarding the accounting for our Aurora Investments and Note 18 – Divestitures for additional information regarding the sale of our ATG Business.\\n\\nAfter the sale in January 2021, we initially determined Aurora was a VIE as it lacked sufficient equity to finance its activities without future subordinated financial support. We were exposed to Aurora’s economic risks and rewards through our equity interests, which represented variable interests. On November 3, 2021, Aurora completed its planned SPAC merger with Reinvent Technology Partners Y, making Aurora a publicly traded company post combination, which triggered a reconsideration event. We reevaluated if Aurora still met the definition of a VIE and determined that Aurora was no longer a VIE when it completed its SPAC merger given it had sufficient equity to operate without the need for subordinated financial support.\\n\\nMoove'),\n",
       "  0.7059016823768616)]"
      ]
     },
     "execution_count": 6,
     "metadata": {},
     "output_type": "execute_result"
    }
   ],
   "source": [
    "best_indexer.similarity_search_with_relevance_scores(\"What was the financial impact of the sale of Uber's ATG Business to Aurora in the first quarter of 2021?\")"
   ]
  },
  {
   "cell_type": "code",
   "execution_count": null,
   "metadata": {},
   "outputs": [],
   "source": []
  }
 ],
 "metadata": {
  "kernelspec": {
   "display_name": "ragbuilder",
   "language": "python",
   "name": "python3"
  },
  "language_info": {
   "codemirror_mode": {
    "name": "ipython",
    "version": 3
   },
   "file_extension": ".py",
   "mimetype": "text/x-python",
   "name": "python",
   "nbconvert_exporter": "python",
   "pygments_lexer": "ipython3",
   "version": "3.12.4"
  }
 },
 "nbformat": 4,
 "nbformat_minor": 2
}
